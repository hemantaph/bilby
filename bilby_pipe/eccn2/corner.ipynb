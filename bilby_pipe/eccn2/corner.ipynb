{
 "cells": [
  {
   "cell_type": "code",
   "execution_count": 18,
   "metadata": {},
   "outputs": [],
   "source": [
    "import numpy as np\n",
    "import pandas as pd\n",
    "import seaborn as sns\n",
    "import matplotlib.pyplot as plt\n",
    "import json\n",
    "%matplotlib inline"
   ]
  },
  {
   "cell_type": "code",
   "execution_count": 19,
   "metadata": {},
   "outputs": [],
   "source": [
    "with open('outdir_com_diff_trigger/result/eccn_data0_1126259463-9_analysis_H1L1_dynesty_result.json', 'r') as file:\n",
    "     zz = json.load(file)"
   ]
  },
  {
   "cell_type": "code",
   "execution_count": 20,
   "metadata": {},
   "outputs": [],
   "source": [
    "yy = zz['posterior']['content']['initial_eccentricity']"
   ]
  },
  {
   "cell_type": "code",
   "execution_count": 29,
   "metadata": {},
   "outputs": [
    {
     "data": {
      "text/plain": [
       "0.09932604443318976"
      ]
     },
     "execution_count": 29,
     "metadata": {},
     "output_type": "execute_result"
    }
   ],
   "source": [
    "np.median(np.array(yy))"
   ]
  },
  {
   "cell_type": "code",
   "execution_count": 21,
   "metadata": {},
   "outputs": [
    {
     "data": {
      "text/plain": [
       "(array([ 4.93924576,  5.33972514,  4.27178011,  3.87130073,  2.8033557 ,\n",
       "         2.00239693,  2.53636944,  3.60431447,  1.46842441,  1.46842441,\n",
       "         1.8689038 ,  2.40287631,  2.00239693,  2.8033557 ,  2.26938319,\n",
       "         2.40287631,  2.93684883,  4.13828698,  4.13828698,  4.00479386,\n",
       "         5.47321827,  6.80814956,  5.47321827,  8.14308084,  8.14308084,\n",
       "         8.54356023,  9.61150525,  9.47801213, 12.94883347, 17.08712045,\n",
       "        17.22061358, 19.35650364, 20.69143492, 23.09431124, 19.08951738,\n",
       "        19.89047615, 20.69143492, 12.81534034, 13.61629911,  9.87849151,\n",
       "         7.07513581,  4.40527324,  3.60431447,  2.53636944,  1.73541067,\n",
       "         0.66746564,  0.53397251,  0.        ,  0.26698626,  0.13349313]),\n",
       " array([0.01008855, 0.01294336, 0.01579817, 0.01865298, 0.02150779,\n",
       "        0.0243626 , 0.02721741, 0.03007222, 0.03292703, 0.03578184,\n",
       "        0.03863665, 0.04149146, 0.04434627, 0.04720108, 0.05005589,\n",
       "        0.0529107 , 0.05576551, 0.05862032, 0.06147513, 0.06432994,\n",
       "        0.06718475, 0.07003956, 0.07289437, 0.07574918, 0.07860399,\n",
       "        0.0814588 , 0.08431362, 0.08716843, 0.09002324, 0.09287805,\n",
       "        0.09573286, 0.09858767, 0.10144248, 0.10429729, 0.1071521 ,\n",
       "        0.11000691, 0.11286172, 0.11571653, 0.11857134, 0.12142615,\n",
       "        0.12428096, 0.12713577, 0.12999058, 0.13284539, 0.1357002 ,\n",
       "        0.13855501, 0.14140982, 0.14426463, 0.14711944, 0.14997425,\n",
       "        0.15282906]),\n",
       " <BarContainer object of 50 artists>)"
      ]
     },
     "execution_count": 21,
     "metadata": {},
     "output_type": "execute_result"
    },
    {
     "data": {
      "image/png": "[encoded data removed]",
      "text/plain": [
       "<Figure size 432x288 with 1 Axes>"
      ]
     },
     "metadata": {
      "needs_background": "light"
     },
     "output_type": "display_data"
    }
   ],
   "source": [
    "plt.hist(yy,density=True,bins=50)"
   ]
  },
  {
   "cell_type": "code",
   "execution_count": null,
   "metadata": {},
   "outputs": [],
   "source": []
  }
 ],
 "metadata": {
  "kernelspec": {
   "display_name": "Python 3",
   "language": "python",
   "name": "python3"
  },
  "language_info": {
   "codemirror_mode": {
    "name": "ipython",
    "version": 3
   },
   "file_extension": ".py",
   "mimetype": "text/x-python",
   "name": "python",
   "nbconvert_exporter": "python",
   "pygments_lexer": "ipython3",
   "version": "3.7.7"
  }
 },
 "nbformat": 4,
 "nbformat_minor": 4
}
