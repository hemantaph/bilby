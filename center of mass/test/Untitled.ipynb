{
 "cells": [
  {
   "cell_type": "code",
   "execution_count": 1,
   "metadata": {},
   "outputs": [
    {
     "name": "stderr",
     "output_type": "stream",
     "text": [
      "/home/hemantakumar.phurailatpam/anaconda3/envs/bilby/lib/python3.7/site-packages/gwtools/rotations.py:63: UserWarning: Could not import GWFrames, needed for rotations module\n",
      "  _warnings.warn(\"Could not import GWFrames, needed for rotations module\")\n",
      "/home/hemantakumar.phurailatpam/anaconda3/envs/bilby/lib/python3.7/site-packages/gwtools/__init__.py:11: UserWarning: Could not import rotations, decompositions, or fitfuncs. These are not needed by GWSurrogate.\n",
      "  _warnings.warn(\"Could not import rotations, decompositions, or fitfuncs. These are not needed by GWSurrogate.\")\n"
     ]
    },
    {
     "name": "stdout",
     "output_type": "stream",
     "text": [
      "setting __package__ to gwsurrogate.new so relative imports work\n",
      "__name__ = gwsurrogate.new.spline_evaluation\n",
      "__package__= gwsurrogate.new\n",
      "setting __package__ to gwsurrogate.new so relative imports work\n",
      "setting __package__ to gwsurrogate.new so relative imports work\n"
     ]
    }
   ],
   "source": [
    "import gwsurrogate\n",
    "import numpy as np\n",
    "\n",
    "import bilby\n",
    "import gwpy\n",
    "import WaVel\n",
    "\n",
    "import matplotlib.pyplot as plt\n",
    "%matplotlib inline\n",
    "\n",
    "# Define constants: speed of light (in m/s), gravitational constant (in m^3/(kg*s^2)), solar mass (in kg) and megaparsec (in m)\n",
    "c = 2.99e8\n",
    "G = 6.67e-11\n",
    "M_sun = 1.99e30\n",
    "Mpc = 3.09e22"
   ]
  },
  {
   "cell_type": "code",
   "execution_count": 6,
   "metadata": {},
   "outputs": [
    {
     "name": "stdout",
     "output_type": "stream",
     "text": [
      "Loaded NRHybSur3dq8 model\n"
     ]
    }
   ],
   "source": [
    "import com_fdomain.functions as func"
   ]
  },
  {
   "cell_type": "code",
   "execution_count": 2,
   "metadata": {},
   "outputs": [
    {
     "name": "stdout",
     "output_type": "stream",
     "text": [
      "Loaded NRHybSur3dq8 model\n"
     ]
    }
   ],
   "source": [
    "outdir = 'outdir'\n",
    "label = 'moving_bbh'\n",
    "sampling_frequency = 1024\n",
    "duration = 4.0\n",
    "geocent_time = 1126259600.\n",
    "start_time = geocent_time - duration + 0.02\n",
    "dt = 1/sampling_frequency\n",
    "#frequency domain\n",
    "# Load the surrogate model\n",
    "surrogate = gwsurrogate.LoadSurrogate('NRHybSur3dq8')"
   ]
  },
  {
   "cell_type": "code",
   "execution_count": 10,
   "metadata": {},
   "outputs": [],
   "source": [
    "start_time_gps = geocent_time-4.0+0.02\n",
    "def moving_bbh(freq_array, total_mass, mass_ratio, luminosity_distance, theta_jn, psi, speed, v_the, v_phi,**kwargs):\n",
    "    #len(times)=duration*sampling_frequency\n",
    "    times = time_array_\n",
    "    \n",
    "    arg_ = {'surrogate_':surrogate,'M_':total_mass, 'q_':mass_ratio, 'dis_':luminosity_distance, 'the_':theta_jn, 'phi_':psi, 'v_mag_':speed, 'v_the_':v_the, 'v_phi_':v_phi, 'times_':times, **kwargs}\n",
    "    fplus = WaVel.Fn(**arg_)\n",
    "    h_plus = gwpy.timeseries.TimeSeries(fplus.WaVe()[0], t0=start_time_gps,\\\n",
    "                                        dt=dt, name='Strain', channel=None)\n",
    "    h_cross = gwpy.timeseries.TimeSeries(fplus.WaVe()[1], t0=start_time_gps,\\\n",
    "                                        dt=dt, name='Strain', channel=None)\n",
    "    \n",
    "    fplus = h_plus.fft()\n",
    "    fcross = h_cross.fft()\n",
    "\n",
    "    return {'plus': fplus.value, 'cross': fcross.value}"
   ]
  },
  {
   "cell_type": "code",
   "execution_count": 11,
   "metadata": {},
   "outputs": [
    {
     "name": "stdout",
     "output_type": "stream",
     "text": [
      "Execution took 33.9807\n"
     ]
    }
   ],
   "source": [
    "import time \n",
    "\n",
    "t0 = time.time()\n",
    "ff = moving_bbh(np.arange(start_time,start_time+duration,dt),650,6,300,45,45,3000,0,0) \n",
    "\n",
    "t1 = time.time()\n",
    "print('Execution took {:.4f}'.format(t1 - t0))"
   ]
  },
  {
   "cell_type": "code",
   "execution_count": 12,
   "metadata": {},
   "outputs": [
    {
     "data": {
      "text/plain": [
       "{'plus': array([4.78374460e-23+0.00000000e+00j,\n",
       "        9.72901216e-23-2.58468506e-24j,\n",
       "        1.00980002e-22-4.69451186e-24j, ...,\n",
       "        2.23600872e-24-3.31932728e-27j,\n",
       "        2.23600886e-24-1.65987148e-27j,\n",
       "        2.23600920e-24+0.00000000e+00j]),\n",
       " 'cross': array([-1.17042562e-23+0.00000000e+00j,\n",
       "        -2.32321784e-23+8.44652254e-24j,\n",
       "        -2.25391414e-23+1.70285780e-23j, ...,\n",
       "         7.87109928e-26+1.06679084e-28j,\n",
       "         7.87100641e-26+5.36544936e-29j,\n",
       "         7.87100375e-26+0.00000000e+00j])}"
      ]
     },
     "execution_count": 12,
     "metadata": {},
     "output_type": "execute_result"
    }
   ],
   "source": [
    "ff"
   ]
  },
  {
   "cell_type": "code",
   "execution_count": 8,
   "metadata": {},
   "outputs": [
    {
     "name": "stdout",
     "output_type": "stream",
     "text": [
      "Execution took 0.9834\n"
     ]
    }
   ],
   "source": [
    "#package\n",
    "import time \n",
    "\n",
    "t0 = time.time()\n",
    "ff = func.moving_bbh(np.arange(start_time,start_time+duration,dt),650,6,300,45,45,3000,0,0) \n",
    "\n",
    "t1 = time.time()\n",
    "print('Execution took {:.4f}'.format(t1 - t0))"
   ]
  },
  {
   "cell_type": "code",
   "execution_count": 9,
   "metadata": {},
   "outputs": [
    {
     "data": {
      "text/plain": [
       "{'plus': array([-2.20433046e-24+0.00000000e+00j,\n",
       "        -3.51100293e-24+7.01959773e-24j,\n",
       "        -1.56490999e-24+1.47217832e-23j, ...,\n",
       "         6.54417521e-25-8.27071272e-28j,\n",
       "         6.54417103e-25-4.13419737e-28j,\n",
       "         6.54416935e-25+0.00000000e+00j]),\n",
       " 'cross': array([-4.75859772e-23+0.00000000e+00j,\n",
       "        -9.64152609e-23+2.60088820e-24j,\n",
       "        -9.85434335e-23+5.29793768e-24j, ...,\n",
       "        -1.62703297e-24+2.43259571e-27j,\n",
       "        -1.62703289e-24+1.21597148e-27j,\n",
       "        -1.62703217e-24+0.00000000e+00j])}"
      ]
     },
     "execution_count": 9,
     "metadata": {},
     "output_type": "execute_result"
    }
   ],
   "source": [
    "ff"
   ]
  },
  {
   "cell_type": "code",
   "execution_count": null,
   "metadata": {},
   "outputs": [],
   "source": []
  },
  {
   "cell_type": "code",
   "execution_count": null,
   "metadata": {},
   "outputs": [],
   "source": []
  },
  {
   "cell_type": "code",
   "execution_count": null,
   "metadata": {},
   "outputs": [],
   "source": []
  },
  {
   "cell_type": "code",
   "execution_count": null,
   "metadata": {},
   "outputs": [],
   "source": []
  },
  {
   "cell_type": "code",
   "execution_count": null,
   "metadata": {},
   "outputs": [],
   "source": []
  },
  {
   "cell_type": "code",
   "execution_count": null,
   "metadata": {},
   "outputs": [],
   "source": []
  },
  {
   "cell_type": "code",
   "execution_count": null,
   "metadata": {},
   "outputs": [],
   "source": []
  },
  {
   "cell_type": "code",
   "execution_count": null,
   "metadata": {},
   "outputs": [],
   "source": []
  },
  {
   "cell_type": "code",
   "execution_count": null,
   "metadata": {},
   "outputs": [],
   "source": []
  },
  {
   "cell_type": "code",
   "execution_count": null,
   "metadata": {},
   "outputs": [],
   "source": []
  },
  {
   "cell_type": "code",
   "execution_count": null,
   "metadata": {},
   "outputs": [],
   "source": []
  },
  {
   "cell_type": "code",
   "execution_count": null,
   "metadata": {},
   "outputs": [],
   "source": []
  },
  {
   "cell_type": "code",
   "execution_count": null,
   "metadata": {},
   "outputs": [],
   "source": []
  },
  {
   "cell_type": "code",
   "execution_count": null,
   "metadata": {},
   "outputs": [],
   "source": []
  },
  {
   "cell_type": "code",
   "execution_count": null,
   "metadata": {},
   "outputs": [],
   "source": []
  },
  {
   "cell_type": "code",
   "execution_count": null,
   "metadata": {},
   "outputs": [],
   "source": []
  },
  {
   "cell_type": "code",
   "execution_count": null,
   "metadata": {},
   "outputs": [],
   "source": []
  },
  {
   "cell_type": "code",
   "execution_count": null,
   "metadata": {},
   "outputs": [],
   "source": []
  },
  {
   "cell_type": "code",
   "execution_count": null,
   "metadata": {},
   "outputs": [],
   "source": []
  },
  {
   "cell_type": "code",
   "execution_count": null,
   "metadata": {},
   "outputs": [],
   "source": []
  },
  {
   "cell_type": "code",
   "execution_count": null,
   "metadata": {},
   "outputs": [],
   "source": []
  },
  {
   "cell_type": "code",
   "execution_count": null,
   "metadata": {},
   "outputs": [],
   "source": []
  },
  {
   "cell_type": "code",
   "execution_count": null,
   "metadata": {},
   "outputs": [],
   "source": []
  },
  {
   "cell_type": "code",
   "execution_count": null,
   "metadata": {},
   "outputs": [],
   "source": []
  },
  {
   "cell_type": "code",
   "execution_count": null,
   "metadata": {},
   "outputs": [],
   "source": []
  },
  {
   "cell_type": "code",
   "execution_count": null,
   "metadata": {},
   "outputs": [],
   "source": []
  },
  {
   "cell_type": "code",
   "execution_count": null,
   "metadata": {},
   "outputs": [],
   "source": []
  }
 ],
 "metadata": {
  "kernelspec": {
   "display_name": "Python 3",
   "language": "python",
   "name": "python3"
  },
  "language_info": {
   "codemirror_mode": {
    "name": "ipython",
    "version": 3
   },
   "file_extension": ".py",
   "mimetype": "text/x-python",
   "name": "python",
   "nbconvert_exporter": "python",
   "pygments_lexer": "ipython3",
   "version": "3.7.7"
  }
 },
 "nbformat": 4,
 "nbformat_minor": 4
}
