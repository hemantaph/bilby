{
 "cells": [
  {
   "cell_type": "code",
   "execution_count": 1,
   "metadata": {},
   "outputs": [
    {
     "name": "stderr",
     "output_type": "stream",
     "text": [
      "/home/hemantakumar.phurailatpam/anaconda3/envs/bilby/lib/python3.7/site-packages/gwtools/rotations.py:63: UserWarning: Could not import GWFrames, needed for rotations module\n",
      "  _warnings.warn(\"Could not import GWFrames, needed for rotations module\")\n",
      "/home/hemantakumar.phurailatpam/anaconda3/envs/bilby/lib/python3.7/site-packages/gwtools/__init__.py:11: UserWarning: Could not import rotations, decompositions, or fitfuncs. These are not needed by GWSurrogate.\n",
      "  _warnings.warn(\"Could not import rotations, decompositions, or fitfuncs. These are not needed by GWSurrogate.\")\n"
     ]
    },
    {
     "name": "stdout",
     "output_type": "stream",
     "text": [
      "setting __package__ to gwsurrogate.new so relative imports work\n",
      "__name__ = gwsurrogate.new.spline_evaluation\n",
      "__package__= gwsurrogate.new\n",
      "setting __package__ to gwsurrogate.new so relative imports work\n",
      "setting __package__ to gwsurrogate.new so relative imports work\n"
     ]
    }
   ],
   "source": [
    "import gwsurrogate\n",
    "import numpy as np\n",
    "\n",
    "import bilby\n",
    "import gwpy\n",
    "import WaVel\n",
    "import WaVel_\n",
    "\n",
    "import matplotlib.pyplot as plt\n",
    "%matplotlib inline\n",
    "\n",
    "# Define constants: speed of light (in m/s), gravitational constant (in m^3/(kg*s^2)), solar mass (in kg) and megaparsec (in m)\n",
    "c = 2.99e8\n",
    "G = 6.67e-11\n",
    "M_sun = 1.99e30\n",
    "Mpc = 3.09e22"
   ]
  },
  {
   "cell_type": "code",
   "execution_count": 6,
   "metadata": {},
   "outputs": [
    {
     "name": "stdout",
     "output_type": "stream",
     "text": [
      "Loaded NRHybSur3dq8 model\n"
     ]
    }
   ],
   "source": [
    "import com_fdomain.functions as func"
   ]
  },
  {
   "cell_type": "code",
   "execution_count": 2,
   "metadata": {},
   "outputs": [
    {
     "name": "stdout",
     "output_type": "stream",
     "text": [
      "Loaded NRHybSur3dq8 model\n"
     ]
    }
   ],
   "source": [
    "outdir = 'outdir'\n",
    "label = 'moving_bbh'\n",
    "sampling_frequency = 1024\n",
    "duration = 4.0\n",
    "geocent_time = 1126259600.\n",
    "start_time = geocent_time - duration + 0.02\n",
    "dt = 1/sampling_frequency\n",
    "#frequency domain\n",
    "# Load the surrogate model\n",
    "surrogate = gwsurrogate.LoadSurrogate('NRHybSur3dq8')"
   ]
  },
  {
   "cell_type": "code",
   "execution_count": 9,
   "metadata": {},
   "outputs": [],
   "source": [
    "# frequency_domain\n",
    "start_time_gps = geocent_time-4.0+0.02\n",
    "def moving_bbh(freq_array, total_mass, mass_ratio, luminosity_distance, theta_jn, psi, speed, v_the, v_phi,**kwargs):\n",
    "    #len(times)=duration*sampling_frequency\n",
    "    times = time_array_ = np.arange(0.0-duration+0.02,0.02,dt)\n",
    "    \n",
    "    arg_ = {'surrogate_':surrogate,'M_':total_mass, 'q_':mass_ratio, 'dis_':luminosity_distance, 'the_':theta_jn, 'phi_':psi, 'v_mag_':speed, 'v_the_':v_the, 'v_phi_':v_phi, 'times_':times, **kwargs}\n",
    "    fplus = WaVel_.Fn(**arg_)\n",
    "    h_plus = gwpy.timeseries.TimeSeries(fplus.WaVe()[0], t0=start_time_gps,\\\n",
    "                                        dt=dt, name='Strain', channel=None)\n",
    "    h_cross = gwpy.timeseries.TimeSeries(fplus.WaVe()[1], t0=start_time_gps,\\\n",
    "                                        dt=dt, name='Strain', channel=None)\n",
    "    \n",
    "    fplus = h_plus.fft()\n",
    "    fcross = h_cross.fft()\n",
    "\n",
    "    return {'plus': fplus.value, 'cross': fcross.value}"
   ]
  },
  {
   "cell_type": "code",
   "execution_count": 7,
   "metadata": {},
   "outputs": [],
   "source": [
    "#time domian\n",
    "# Define the time-domain model\n",
    "def moving_bbh(times, mass, ratio, distance, theta, phi, speed, v_the, v_phi,**kwargs):\n",
    "    \n",
    "    times = times - geocent_time\n",
    "    arg_ = {'surrogate_':surrogate,'M_':mass, 'q_':ratio, 'dis_':distance, 'the_':theta, 'phi_':phi, 'v_mag_':speed, 'v_the_':v_the, 'v_phi_':v_phi, 'times_':times, **kwargs}\n",
    "    fplus = WaVel.Fn(**arg_)\n",
    "    h_plus = fplus.WaVe()[0]\n",
    "    h_cross = fplus.WaVe()[1]\n",
    "    \n",
    "    #print(times[0],times[-1],times[1]-times[0],len(times))\n",
    "    \n",
    "    return {'plus': h_plus, 'cross': h_cross}"
   ]
  },
  {
   "cell_type": "code",
   "execution_count": 8,
   "metadata": {},
   "outputs": [
    {
     "name": "stdout",
     "output_type": "stream",
     "text": [
      "Execution took 1.6375\n"
     ]
    }
   ],
   "source": [
    "# cython\n",
    "import time \n",
    "\n",
    "t0 = time.time()\n",
    "ff = moving_bbh(np.arange(start_time,start_time+duration,dt),650,6,300,45,45,3000,0,0) \n",
    "\n",
    "t1 = time.time()\n",
    "print('Execution took {:.4f}'.format(t1 - t0))"
   ]
  },
  {
   "cell_type": "code",
   "execution_count": 9,
   "metadata": {},
   "outputs": [
    {
     "data": {
      "text/plain": [
       "{'plus': array([-4.82047457e-22, -4.30604367e-22, -3.78980710e-22, ...,\n",
       "        -8.79197953e-21, -9.60230723e-21, -1.01837855e-20]),\n",
       " 'cross': array([ 2.89210465e-21,  2.90004858e-21,  2.90721722e-21, ...,\n",
       "        -7.02387016e-21, -5.65954975e-21, -4.20257039e-21])}"
      ]
     },
     "execution_count": 9,
     "metadata": {},
     "output_type": "execute_result"
    }
   ],
   "source": [
    "ff"
   ]
  },
  {
   "cell_type": "code",
   "execution_count": 5,
   "metadata": {},
   "outputs": [
    {
     "name": "stdout",
     "output_type": "stream",
     "text": [
      "Execution took 1.3219\n"
     ]
    }
   ],
   "source": [
    "# non cython\n",
    "import time \n",
    "\n",
    "t0 = time.time()\n",
    "ff = moving_bbh(np.arange(start_time,start_time+duration,dt),650,6,300,45,45,3000,0,0) \n",
    "\n",
    "t1 = time.time()\n",
    "print('Execution took {:.4f}'.format(t1 - t0))"
   ]
  },
  {
   "cell_type": "code",
   "execution_count": 6,
   "metadata": {},
   "outputs": [
    {
     "data": {
      "text/plain": [
       "{'plus': array([-4.99897613e-22, -4.46830924e-22, -3.93570235e-22, ...,\n",
       "        -1.10938291e-20, -1.07628802e-20, -1.02042008e-20]),\n",
       " 'cross': array([ 3.00892947e-21,  3.01733545e-21,  3.02492670e-21, ...,\n",
       "        -4.60214596e-23,  1.44441993e-21,  2.83488247e-21])}"
      ]
     },
     "execution_count": 6,
     "metadata": {},
     "output_type": "execute_result"
    }
   ],
   "source": [
    "ff"
   ]
  },
  {
   "cell_type": "code",
   "execution_count": null,
   "metadata": {},
   "outputs": [],
   "source": []
  },
  {
   "cell_type": "code",
   "execution_count": null,
   "metadata": {},
   "outputs": [],
   "source": []
  },
  {
   "cell_type": "code",
   "execution_count": null,
   "metadata": {},
   "outputs": [],
   "source": []
  },
  {
   "cell_type": "code",
   "execution_count": null,
   "metadata": {},
   "outputs": [],
   "source": []
  },
  {
   "cell_type": "code",
   "execution_count": null,
   "metadata": {},
   "outputs": [],
   "source": []
  },
  {
   "cell_type": "code",
   "execution_count": null,
   "metadata": {},
   "outputs": [],
   "source": []
  },
  {
   "cell_type": "code",
   "execution_count": null,
   "metadata": {},
   "outputs": [],
   "source": []
  },
  {
   "cell_type": "code",
   "execution_count": null,
   "metadata": {},
   "outputs": [],
   "source": []
  },
  {
   "cell_type": "code",
   "execution_count": null,
   "metadata": {},
   "outputs": [],
   "source": []
  },
  {
   "cell_type": "code",
   "execution_count": null,
   "metadata": {},
   "outputs": [],
   "source": []
  },
  {
   "cell_type": "code",
   "execution_count": null,
   "metadata": {},
   "outputs": [],
   "source": []
  },
  {
   "cell_type": "code",
   "execution_count": null,
   "metadata": {},
   "outputs": [],
   "source": []
  },
  {
   "cell_type": "code",
   "execution_count": null,
   "metadata": {},
   "outputs": [],
   "source": []
  },
  {
   "cell_type": "code",
   "execution_count": null,
   "metadata": {},
   "outputs": [],
   "source": []
  },
  {
   "cell_type": "code",
   "execution_count": null,
   "metadata": {},
   "outputs": [],
   "source": []
  },
  {
   "cell_type": "code",
   "execution_count": null,
   "metadata": {},
   "outputs": [],
   "source": []
  },
  {
   "cell_type": "code",
   "execution_count": null,
   "metadata": {},
   "outputs": [],
   "source": []
  },
  {
   "cell_type": "code",
   "execution_count": null,
   "metadata": {},
   "outputs": [],
   "source": []
  },
  {
   "cell_type": "code",
   "execution_count": null,
   "metadata": {},
   "outputs": [],
   "source": []
  },
  {
   "cell_type": "code",
   "execution_count": null,
   "metadata": {},
   "outputs": [],
   "source": []
  },
  {
   "cell_type": "code",
   "execution_count": null,
   "metadata": {},
   "outputs": [],
   "source": []
  },
  {
   "cell_type": "code",
   "execution_count": null,
   "metadata": {},
   "outputs": [],
   "source": []
  },
  {
   "cell_type": "code",
   "execution_count": null,
   "metadata": {},
   "outputs": [],
   "source": []
  },
  {
   "cell_type": "code",
   "execution_count": null,
   "metadata": {},
   "outputs": [],
   "source": []
  },
  {
   "cell_type": "code",
   "execution_count": null,
   "metadata": {},
   "outputs": [],
   "source": []
  },
  {
   "cell_type": "code",
   "execution_count": null,
   "metadata": {},
   "outputs": [],
   "source": []
  },
  {
   "cell_type": "code",
   "execution_count": null,
   "metadata": {},
   "outputs": [],
   "source": []
  }
 ],
 "metadata": {
  "kernelspec": {
   "display_name": "Python 3",
   "language": "python",
   "name": "python3"
  },
  "language_info": {
   "codemirror_mode": {
    "name": "ipython",
    "version": 3
   },
   "file_extension": ".py",
   "mimetype": "text/x-python",
   "name": "python",
   "nbconvert_exporter": "python",
   "pygments_lexer": "ipython3",
   "version": "3.7.7"
  }
 },
 "nbformat": 4,
 "nbformat_minor": 4
}
