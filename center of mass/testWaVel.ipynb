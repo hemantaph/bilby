{
 "cells": [
  {
   "cell_type": "code",
   "execution_count": 1,
   "metadata": {},
   "outputs": [],
   "source": [
    "%load_ext cython"
   ]
  },
  {
   "cell_type": "code",
   "execution_count": 2,
   "metadata": {},
   "outputs": [
    {
     "name": "stderr",
     "output_type": "stream",
     "text": [
      "/home/hemantakumar.phurailatpam/anaconda3/envs/bilby/lib/python3.7/site-packages/gwtools/rotations.py:63: UserWarning: Could not import GWFrames, needed for rotations module\n",
      "  _warnings.warn(\"Could not import GWFrames, needed for rotations module\")\n",
      "/home/hemantakumar.phurailatpam/anaconda3/envs/bilby/lib/python3.7/site-packages/gwtools/__init__.py:11: UserWarning: Could not import rotations, decompositions, or fitfuncs. These are not needed by GWSurrogate.\n",
      "  _warnings.warn(\"Could not import rotations, decompositions, or fitfuncs. These are not needed by GWSurrogate.\")\n"
     ]
    },
    {
     "name": "stdout",
     "output_type": "stream",
     "text": [
      "setting __package__ to gwsurrogate.new so relative imports work\n",
      "__name__ = gwsurrogate.new.spline_evaluation\n",
      "__package__= gwsurrogate.new\n",
      "setting __package__ to gwsurrogate.new so relative imports work\n",
      "setting __package__ to gwsurrogate.new so relative imports work\n"
     ]
    }
   ],
   "source": [
    "import gwsurrogate\n",
    "import numpy as np\n",
    "\n",
    "from math import cos\n",
    "from math import sin\n",
    "from math import sqrt\n",
    "from math import factorial\n",
    "from math import pi\n",
    "from math import e\n",
    "from numpy import conj\n",
    "\n",
    "import bilby\n",
    "import WaVel\n",
    "\n",
    "import matplotlib.pyplot as plt\n",
    "%matplotlib inline\n",
    "\n",
    "# Define constants: speed of light (in m/s), gravitational constant (in m^3/(kg*s^2)), solar mass (in kg) and megaparsec (in m)\n",
    "c = 2.99e8\n",
    "G = 6.67e-11\n",
    "M_sun = 1.99e30\n",
    "Mpc = 3.09e22"
   ]
  },
  {
   "cell_type": "code",
   "execution_count": 3,
   "metadata": {},
   "outputs": [],
   "source": [
    "# Define labels, sampling frequency and times\n",
    "outdir = 'outdir'\n",
    "label = 'moving_bbh'\n",
    "sampling_frequency = 1024\n",
    "duration = 2.0\n",
    "geocent_time = 0.0\n",
    "start_time = geocent_time - duration + 0.02"
   ]
  },
  {
   "cell_type": "code",
   "execution_count": 4,
   "metadata": {},
   "outputs": [
    {
     "name": "stdout",
     "output_type": "stream",
     "text": [
      "Loaded NRHybSur3dq8 model\n"
     ]
    }
   ],
   "source": [
    "# Load the surrogate model\n",
    "surrogate = gwsurrogate.LoadSurrogate('NRHybSur3dq8')\n",
    "\n",
    "# Define the time-domain model\n",
    "def moving_bbh(times, mass, ratio, distance, theta, phi, speed, v_the, v_phi):\n",
    "\n",
    "    arg_ = {'surrogate_':surrogate,'M_':mass, 'q_':ratio, 'dis_':distance, 'the_':theta, 'phi_':phi, 'v_mag_':speed, 'v_the_':v_the, 'v_phi_':v_phi, 'times_':times}\n",
    "    fplus = WaVel.Fn(**arg_)\n",
    "    h_plus = fplus.WaVe()[0]\n",
    "    h_cross = fplus.WaVe()[1]\n",
    "\n",
    "    return {'plus': h_plus, 'cross': h_cross}"
   ]
  },
  {
   "cell_type": "code",
   "execution_count": 5,
   "metadata": {},
   "outputs": [
    {
     "data": {
      "text/plain": [
       "{'plus': array([-9.70664572e-22,  1.07894238e-21]),\n",
       " 'cross': array([1.74790847e-22, 1.50404401e-22])}"
      ]
     },
     "execution_count": 5,
     "metadata": {},
     "output_type": "execute_result"
    }
   ],
   "source": [
    "moving_bbh(np.array([-1000,-500]),650,6,300,45,45,3000,0,0) "
   ]
  },
  {
   "cell_type": "code",
   "execution_count": 7,
   "metadata": {},
   "outputs": [
    {
     "data": {
      "text/plain": [
       "array([-1000.,  -900.,  -800.,  -700.,  -600.,  -500.,  -400.,\n",
       "        -300.,  -200.,  -100.])"
      ]
     },
     "execution_count": 7,
     "metadata": {},
     "output_type": "execute_result"
    }
   ],
   "source": [
    "np.linspace(-1000.0,-100.0,10)"
   ]
  },
  {
   "cell_type": "code",
   "execution_count": 6,
   "metadata": {},
   "outputs": [
    {
     "name": "stdout",
     "output_type": "stream",
     "text": [
      "Execution took 0.5841\n"
     ]
    }
   ],
   "source": [
    "#for 10 time points\n",
    "import time \n",
    "\n",
    "ttt = np.linspace(-1000.0,-100.0,10)\n",
    "t0 = time.time()\n",
    "zz = moving_bbh(ttt,650,6,300,45,45,3000,0,0) \n",
    "\n",
    "t1 = time.time()\n",
    "print('Execution took {:.4f}'.format(t1 - t0))"
   ]
  },
  {
   "cell_type": "code",
   "execution_count": 5,
   "metadata": {},
   "outputs": [
    {
     "name": "stdout",
     "output_type": "stream",
     "text": [
      "Execution took 26.1352\n"
     ]
    }
   ],
   "source": [
    "#for 10 time points\n",
    "import time \n",
    "\n",
    "ttt = np.linspace(-1000.0,-100.0,10)\n",
    "t0 = time.time()\n",
    "zz = moving_bbh(ttt,650,6,300,45,45,3000,0,0) \n",
    "\n",
    "t1 = time.time()\n",
    "print('Execution took {:.4f}'.format(t1 - t0))"
   ]
  },
  {
   "cell_type": "code",
   "execution_count": 8,
   "metadata": {},
   "outputs": [
    {
     "name": "stdout",
     "output_type": "stream",
     "text": [
      "Execution took 7.7819\n"
     ]
    }
   ],
   "source": [
    "#for 10 time points\n",
    "import time \n",
    "\n",
    "ttt = np.linspace(-1000.0,-100.0,10)\n",
    "t0 = time.time()\n",
    "zz = moving_bbh(ttt,650,6,300,45,45,3000,0,0) \n",
    "\n",
    "t1 = time.time()\n",
    "print('Execution took {:.4f}'.format(t1 - t0))"
   ]
  },
  {
   "cell_type": "code",
   "execution_count": 10,
   "metadata": {},
   "outputs": [
    {
     "name": "stderr",
     "output_type": "stream",
     "text": [
      "15:30 bilby INFO    : Waveform generator initiated with\n",
      "  frequency_domain_source_model: None\n",
      "  time_domain_source_model: __main__.moving_bbh\n",
      "  parameter_conversion: bilby.gw.conversion.convert_to_lal_binary_black_hole_parameters\n",
      "15:30 bilby INFO    : Injected signal in H1:\n",
      "15:30 bilby INFO    :   optimal SNR = 31.29\n",
      "15:30 bilby INFO    :   matched filter SNR = 32.62+0.36j\n",
      "15:30 bilby INFO    :   mass = 50\n",
      "15:30 bilby INFO    :   ratio = 6\n",
      "15:30 bilby INFO    :   distance = 300\n",
      "15:30 bilby INFO    :   theta = 45\n",
      "15:30 bilby INFO    :   phi = 45\n",
      "15:30 bilby INFO    :   speed = 3000\n",
      "15:30 bilby INFO    :   v_the = 0\n",
      "15:30 bilby INFO    :   v_phi = 0\n",
      "15:30 bilby INFO    :   ra = 0\n",
      "15:30 bilby INFO    :   dec = 0\n",
      "15:30 bilby INFO    :   psi = 0\n",
      "15:30 bilby INFO    :   geocent_time = 0.0\n",
      "15:30 bilby INFO    : Injected signal in L1:\n",
      "15:30 bilby INFO    :   optimal SNR = 37.61\n",
      "15:30 bilby INFO    :   matched filter SNR = 37.26-2.15j\n",
      "15:30 bilby INFO    :   mass = 50\n",
      "15:30 bilby INFO    :   ratio = 6\n",
      "15:30 bilby INFO    :   distance = 300\n",
      "15:30 bilby INFO    :   theta = 45\n",
      "15:30 bilby INFO    :   phi = 45\n",
      "15:30 bilby INFO    :   speed = 3000\n",
      "15:30 bilby INFO    :   v_the = 0\n",
      "15:30 bilby INFO    :   v_phi = 0\n",
      "15:30 bilby INFO    :   ra = 0\n",
      "15:30 bilby INFO    :   dec = 0\n",
      "15:30 bilby INFO    :   psi = 0\n",
      "15:30 bilby INFO    :   geocent_time = 0.0\n",
      "15:30 bilby INFO    : Injected signal in V1:\n",
      "15:30 bilby INFO    :   optimal SNR = 17.71\n",
      "15:30 bilby INFO    :   matched filter SNR = 17.22+1.09j\n",
      "15:30 bilby INFO    :   mass = 50\n",
      "15:30 bilby INFO    :   ratio = 6\n",
      "15:30 bilby INFO    :   distance = 300\n",
      "15:30 bilby INFO    :   theta = 45\n",
      "15:30 bilby INFO    :   phi = 45\n",
      "15:30 bilby INFO    :   speed = 3000\n",
      "15:30 bilby INFO    :   v_the = 0\n",
      "15:30 bilby INFO    :   v_phi = 0\n",
      "15:30 bilby INFO    :   ra = 0\n",
      "15:30 bilby INFO    :   dec = 0\n",
      "15:30 bilby INFO    :   psi = 0\n",
      "15:30 bilby INFO    :   geocent_time = 0.0\n"
     ]
    },
    {
     "data": {
      "text/plain": [
       "[{'plus': array([1.37548862e-24+0.00000000e+00j,\n",
       "         1.35948233e-24+2.58315799e-27j,\n",
       "         1.36053991e-24-2.24262785e-26j, ...,\n",
       "         3.42118219e-25-4.42243700e-26j,\n",
       "         3.44094163e-25-2.21504903e-26j,\n",
       "         3.44753569e-25+0.00000000e+00j]),\n",
       "  'cross': array([ 2.18896011e-25+0.00000000e+00j,\n",
       "          2.24769528e-25+2.81040869e-26j,\n",
       "          2.28607991e-25+6.46158117e-26j, ...,\n",
       "         -6.03963749e-26+2.02828854e-26j,\n",
       "         -6.15146180e-26+1.01674966e-26j,\n",
       "         -6.18879997e-26+0.00000000e+00j])},\n",
       " {'plus': array([1.37548862e-24+0.00000000e+00j,\n",
       "         1.35948233e-24+2.58315799e-27j,\n",
       "         1.36053991e-24-2.24262785e-26j, ...,\n",
       "         3.42118219e-25-4.42243700e-26j,\n",
       "         3.44094163e-25-2.21504903e-26j,\n",
       "         3.44753569e-25+0.00000000e+00j]),\n",
       "  'cross': array([ 2.18896011e-25+0.00000000e+00j,\n",
       "          2.24769528e-25+2.81040869e-26j,\n",
       "          2.28607991e-25+6.46158117e-26j, ...,\n",
       "         -6.03963749e-26+2.02828854e-26j,\n",
       "         -6.15146180e-26+1.01674966e-26j,\n",
       "         -6.18879997e-26+0.00000000e+00j])},\n",
       " {'plus': array([1.37548862e-24+0.00000000e+00j,\n",
       "         1.35948233e-24+2.58315799e-27j,\n",
       "         1.36053991e-24-2.24262785e-26j, ...,\n",
       "         3.42118219e-25-4.42243700e-26j,\n",
       "         3.44094163e-25-2.21504903e-26j,\n",
       "         3.44753569e-25+0.00000000e+00j]),\n",
       "  'cross': array([ 2.18896011e-25+0.00000000e+00j,\n",
       "          2.24769528e-25+2.81040869e-26j,\n",
       "          2.28607991e-25+6.46158117e-26j, ...,\n",
       "         -6.03963749e-26+2.02828854e-26j,\n",
       "         -6.15146180e-26+1.01674966e-26j,\n",
       "         -6.18879997e-26+0.00000000e+00j])}]"
      ]
     },
     "execution_count": 10,
     "metadata": {},
     "output_type": "execute_result"
    }
   ],
   "source": [
    "# Define parameters to inject\n",
    "injection_parameters = dict(mass=50, ratio=6, distance=300, theta=45, phi=45, speed=3000, v_the=0, v_phi=0, ra=0, dec=0, psi=0, geocent_time=geocent_time)\n",
    "# Generate model with waveform_generator\n",
    "waveform_generator = bilby.gw.waveform_generator.WaveformGenerator(sampling_frequency=sampling_frequency, duration=duration, time_domain_source_model=moving_bbh, start_time=start_time)\n",
    "# Inject signal into ifos\n",
    "ifos = bilby.gw.detector.InterferometerList(['H1', 'L1', 'V1'])\n",
    "ifos.set_strain_data_from_power_spectral_densities(sampling_frequency=sampling_frequency, duration=duration, start_time=start_time)\n",
    "ifos.inject_signal(waveform_generator=waveform_generator, parameters=injection_parameters)"
   ]
  },
  {
   "cell_type": "code",
   "execution_count": 11,
   "metadata": {},
   "outputs": [
    {
     "name": "stderr",
     "output_type": "stream",
     "text": [
      "15:30 bilby INFO    : Injected signal in H1:\n",
      "15:30 bilby INFO    :   optimal SNR = 31.29\n",
      "15:30 bilby INFO    :   matched filter SNR = 63.91+0.36j\n",
      "15:30 bilby INFO    :   mass = 50\n",
      "15:30 bilby INFO    :   ratio = 6\n",
      "15:30 bilby INFO    :   distance = 300\n",
      "15:30 bilby INFO    :   theta = 45\n",
      "15:30 bilby INFO    :   phi = 45\n",
      "15:30 bilby INFO    :   speed = 3000\n",
      "15:30 bilby INFO    :   v_the = 0\n",
      "15:30 bilby INFO    :   v_phi = 0\n",
      "15:30 bilby INFO    :   ra = 0\n",
      "15:30 bilby INFO    :   dec = 0\n",
      "15:30 bilby INFO    :   psi = 0\n",
      "15:30 bilby INFO    :   geocent_time = 0.0\n",
      "15:30 bilby INFO    : Injected signal in L1:\n",
      "15:30 bilby INFO    :   optimal SNR = 37.61\n",
      "15:30 bilby INFO    :   matched filter SNR = 74.87-2.15j\n",
      "15:30 bilby INFO    :   mass = 50\n",
      "15:30 bilby INFO    :   ratio = 6\n",
      "15:30 bilby INFO    :   distance = 300\n",
      "15:30 bilby INFO    :   theta = 45\n",
      "15:30 bilby INFO    :   phi = 45\n",
      "15:30 bilby INFO    :   speed = 3000\n",
      "15:30 bilby INFO    :   v_the = 0\n",
      "15:30 bilby INFO    :   v_phi = 0\n",
      "15:30 bilby INFO    :   ra = 0\n",
      "15:30 bilby INFO    :   dec = 0\n",
      "15:30 bilby INFO    :   psi = 0\n",
      "15:30 bilby INFO    :   geocent_time = 0.0\n",
      "15:30 bilby INFO    : Injected signal in V1:\n",
      "15:30 bilby INFO    :   optimal SNR = 17.71\n",
      "15:30 bilby INFO    :   matched filter SNR = 34.93+1.09j\n",
      "15:30 bilby INFO    :   mass = 50\n",
      "15:30 bilby INFO    :   ratio = 6\n",
      "15:30 bilby INFO    :   distance = 300\n",
      "15:30 bilby INFO    :   theta = 45\n",
      "15:30 bilby INFO    :   phi = 45\n",
      "15:30 bilby INFO    :   speed = 3000\n",
      "15:30 bilby INFO    :   v_the = 0\n",
      "15:30 bilby INFO    :   v_phi = 0\n",
      "15:30 bilby INFO    :   ra = 0\n",
      "15:30 bilby INFO    :   dec = 0\n",
      "15:30 bilby INFO    :   psi = 0\n",
      "15:30 bilby INFO    :   geocent_time = 0.0\n"
     ]
    },
    {
     "data": {
      "image/png": "[encoded data removed]",
      "text/plain": [
       "<Figure size 432x288 with 1 Axes>"
      ]
     },
     "metadata": {
      "needs_background": "light"
     },
     "output_type": "display_data"
    }
   ],
   "source": [
    "injection = ifos.inject_signal(waveform_generator=waveform_generator,\n",
    "                   parameters=injection_parameters)\n",
    "\n",
    "H1 = ifos[0]\n",
    "H1_injection = injection[0]\n",
    "\n",
    "fig, ax = plt.subplots()\n",
    "idxs = H1.strain_data.frequency_mask  # This is a boolean mask of the frequencies which we'll use in the analysis\n",
    "ax.loglog(H1.strain_data.frequency_array[idxs],\n",
    "          np.abs(H1.strain_data.frequency_domain_strain[idxs]),\n",
    "          label=\"data\")\n",
    "ax.loglog(H1.frequency_array[idxs],\n",
    "          H1.amplitude_spectral_density_array[idxs],\n",
    "          label=\"ASD\")\n",
    "ax.loglog(H1.frequency_array[idxs],\n",
    "          np.abs(H1_injection[\"cross\"][idxs]),\n",
    "          label=\"Abs. val. of plus polarization\")\n",
    "\n",
    "#ax.set_xlim(minimum_frequency,maximum_frequency)\n",
    "#ax.set_ylim(1e-26,2.327737159425905e-21)\n",
    "\n",
    "\n",
    "ax.set_xlabel(\"Frequency [Hz]\")\n",
    "ax.set_ylabel(\"Strain [strain/$\\sqrt{Hz}$]\")\n",
    "ax.legend()\n",
    "plt.show()"
   ]
  },
  {
   "cell_type": "code",
   "execution_count": 12,
   "metadata": {},
   "outputs": [],
   "source": [
    "# Create priors\n",
    "prior = injection_parameters.copy()\n",
    "prior['mass'] = bilby.core.prior.Uniform(45, 55, r'$M$', unit='$M_sun$')\n",
    "#prior['mass'] = bilby.core.prior.Uniform(45, 55, r'$M$', unit='$M_sun$')\n",
    "# Define likelihood\n",
    "likelihood = bilby.gw.likelihood.GravitationalWaveTransient(interferometers=ifos, waveform_generator=waveform_generator, priors=prior)"
   ]
  },
  {
   "cell_type": "code",
   "execution_count": null,
   "metadata": {},
   "outputs": [
    {
     "name": "stderr",
     "output_type": "stream",
     "text": [
      "15:12 bilby INFO    : Running for label 'moving_bbh', output will be saved to 'outdir'\n",
      "15:12 bilby INFO    : Using lal version 6.21.0\n",
      "15:12 bilby INFO    : Using lal git version Branch: None;Tag: lal-v6.21.0;Id: 37caf89936b637993c30b3076fe4b853311873ee;;Builder: Adam Mercer <adam.mercer@ligo.org>;Repository status: CLEAN: All modifications committed\n",
      "15:12 bilby INFO    : Using lalsimulation version 1.10.0\n",
      "15:12 bilby INFO    : Using lalsimulation git version Branch: None;Tag: lalsimulation-v1.10.0;Id: 5bfe091197594d55cf634f8a1c004eb9dc9b6459;;Builder: Adam Mercer <adam.mercer@ligo.org>;Repository status: CLEAN: All modifications committed\n",
      "15:12 bilby INFO    : Search parameters:\n",
      "15:12 bilby INFO    :   mass = Uniform(minimum=45, maximum=55, name='$M$', latex_label='$M$', unit='$M_sun$', boundary=None)\n",
      "15:12 bilby INFO    :   ratio = 6\n",
      "15:12 bilby INFO    :   distance = 300\n",
      "15:12 bilby INFO    :   theta = 45\n",
      "15:12 bilby INFO    :   phi = 45\n",
      "15:12 bilby INFO    :   speed = 3000\n",
      "15:12 bilby INFO    :   v_the = 0\n",
      "15:12 bilby INFO    :   v_phi = 0\n",
      "15:12 bilby INFO    :   ra = 0\n",
      "15:12 bilby INFO    :   dec = 0\n",
      "15:12 bilby INFO    :   psi = 0\n",
      "15:12 bilby INFO    :   geocent_time = 0.0\n"
     ]
    },
    {
     "name": "stdout",
     "output_type": "stream",
     "text": [
      "Loaded NRHybSur3dq8 model\n",
      "Loaded NRHybSur3dq8 model\n",
      "Loaded NRHybSur3dq8 model\n",
      "Loaded NRHybSur3dq8 model\n",
      "Loaded NRHybSur3dq8 model\n",
      "Loaded NRHybSur3dq8 model\n",
      "Loaded NRHybSur3dq8 model\n",
      "Loaded NRHybSur3dq8 model\n"
     ]
    }
   ],
   "source": [
    "# Launch sampler\n",
    "result = bilby.core.sampler.run_sampler(likelihood, prior, sampler='dynesty', npoints=500, injection_parameters=injection_parameters, outdir=outdir, label=label, dlogz=3, npool=16)"
   ]
  },
  {
   "cell_type": "code",
   "execution_count": null,
   "metadata": {},
   "outputs": [],
   "source": []
  },
  {
   "cell_type": "code",
   "execution_count": null,
   "metadata": {},
   "outputs": [],
   "source": []
  },
  {
   "cell_type": "code",
   "execution_count": null,
   "metadata": {},
   "outputs": [],
   "source": []
  },
  {
   "cell_type": "code",
   "execution_count": null,
   "metadata": {},
   "outputs": [],
   "source": []
  },
  {
   "cell_type": "code",
   "execution_count": null,
   "metadata": {},
   "outputs": [],
   "source": []
  },
  {
   "cell_type": "code",
   "execution_count": null,
   "metadata": {},
   "outputs": [],
   "source": []
  },
  {
   "cell_type": "code",
   "execution_count": null,
   "metadata": {},
   "outputs": [],
   "source": []
  },
  {
   "cell_type": "code",
   "execution_count": null,
   "metadata": {},
   "outputs": [],
   "source": []
  },
  {
   "cell_type": "code",
   "execution_count": null,
   "metadata": {},
   "outputs": [],
   "source": []
  },
  {
   "cell_type": "code",
   "execution_count": null,
   "metadata": {},
   "outputs": [],
   "source": []
  },
  {
   "cell_type": "code",
   "execution_count": null,
   "metadata": {},
   "outputs": [],
   "source": []
  },
  {
   "cell_type": "code",
   "execution_count": null,
   "metadata": {},
   "outputs": [],
   "source": []
  },
  {
   "cell_type": "code",
   "execution_count": null,
   "metadata": {},
   "outputs": [],
   "source": []
  },
  {
   "cell_type": "code",
   "execution_count": null,
   "metadata": {},
   "outputs": [],
   "source": []
  },
  {
   "cell_type": "code",
   "execution_count": null,
   "metadata": {},
   "outputs": [],
   "source": []
  },
  {
   "cell_type": "code",
   "execution_count": null,
   "metadata": {},
   "outputs": [],
   "source": []
  },
  {
   "cell_type": "code",
   "execution_count": null,
   "metadata": {},
   "outputs": [],
   "source": []
  },
  {
   "cell_type": "code",
   "execution_count": null,
   "metadata": {},
   "outputs": [],
   "source": []
  },
  {
   "cell_type": "code",
   "execution_count": null,
   "metadata": {},
   "outputs": [],
   "source": []
  },
  {
   "cell_type": "code",
   "execution_count": null,
   "metadata": {},
   "outputs": [],
   "source": []
  },
  {
   "cell_type": "code",
   "execution_count": null,
   "metadata": {},
   "outputs": [],
   "source": []
  },
  {
   "cell_type": "code",
   "execution_count": null,
   "metadata": {},
   "outputs": [],
   "source": []
  },
  {
   "cell_type": "code",
   "execution_count": null,
   "metadata": {},
   "outputs": [],
   "source": []
  },
  {
   "cell_type": "code",
   "execution_count": null,
   "metadata": {},
   "outputs": [],
   "source": []
  },
  {
   "cell_type": "code",
   "execution_count": null,
   "metadata": {},
   "outputs": [],
   "source": []
  },
  {
   "cell_type": "code",
   "execution_count": null,
   "metadata": {},
   "outputs": [],
   "source": []
  }
 ],
 "metadata": {
  "kernelspec": {
   "display_name": "Python 3",
   "language": "python",
   "name": "python3"
  },
  "language_info": {
   "codemirror_mode": {
    "name": "ipython",
    "version": 3
   },
   "file_extension": ".py",
   "mimetype": "text/x-python",
   "name": "python",
   "nbconvert_exporter": "python",
   "pygments_lexer": "ipython3",
   "version": "3.7.7"
  }
 },
 "nbformat": 4,
 "nbformat_minor": 4
}
