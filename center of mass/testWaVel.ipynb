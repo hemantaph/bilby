{
 "cells": [
  {
   "cell_type": "code",
   "execution_count": 1,
   "metadata": {},
   "outputs": [
    {
     "name": "stderr",
     "output_type": "stream",
     "text": [
      "/home/hemantakumar.phurailatpam/anaconda3/envs/bilby/lib/python3.7/site-packages/gwtools/rotations.py:63: UserWarning: Could not import GWFrames, needed for rotations module\n",
      "  _warnings.warn(\"Could not import GWFrames, needed for rotations module\")\n",
      "/home/hemantakumar.phurailatpam/anaconda3/envs/bilby/lib/python3.7/site-packages/gwtools/__init__.py:11: UserWarning: Could not import rotations, decompositions, or fitfuncs. These are not needed by GWSurrogate.\n",
      "  _warnings.warn(\"Could not import rotations, decompositions, or fitfuncs. These are not needed by GWSurrogate.\")\n"
     ]
    },
    {
     "name": "stdout",
     "output_type": "stream",
     "text": [
      "setting __package__ to gwsurrogate.new so relative imports work\n",
      "__name__ = gwsurrogate.new.spline_evaluation\n",
      "__package__= gwsurrogate.new\n",
      "setting __package__ to gwsurrogate.new so relative imports work\n",
      "setting __package__ to gwsurrogate.new so relative imports work\n"
     ]
    }
   ],
   "source": [
    "import gwsurrogate\n",
    "import numpy as np\n",
    "\n",
    "from math import cos\n",
    "from math import sin\n",
    "from math import sqrt\n",
    "from math import factorial\n",
    "from math import pi\n",
    "from math import e\n",
    "from numpy import conj\n",
    "\n",
    "import bilby\n",
    "import gwpy\n",
    "import WaVel\n",
    "\n",
    "import matplotlib.pyplot as plt\n",
    "%matplotlib inline\n",
    "\n",
    "# Define constants: speed of light (in m/s), gravitational constant (in m^3/(kg*s^2)), solar mass (in kg) and megaparsec (in m)\n",
    "c = 2.99e8\n",
    "G = 6.67e-11\n",
    "M_sun = 1.99e30\n",
    "Mpc = 3.09e22"
   ]
  },
  {
   "cell_type": "code",
   "execution_count": 3,
   "metadata": {},
   "outputs": [
    {
     "name": "stdout",
     "output_type": "stream",
     "text": [
      "Loaded NRHybSur3dq8 model\n"
     ]
    }
   ],
   "source": [
    "# Define labels, sampling frequency and times\n",
    "outdir = 'outdir'\n",
    "label = 'moving_bbh'\n",
    "sampling_frequency = 1024\n",
    "duration = 2.0\n",
    "geocent_time = 0.0\n",
    "start_time = geocent_time - duration + 0.02\n",
    "\n",
    "#frequency domain\n",
    "# Load the surrogate model\n",
    "surrogate = gwsurrogate.LoadSurrogate('NRHybSur3dq8')\n"
   ]
  },
  {
   "cell_type": "code",
   "execution_count": null,
   "metadata": {},
   "outputs": [],
   "source": [
    "def myFun(**kwargs):\n",
    "    for key, value in kwargs.items():\n",
    "        print (\"%s == %s\" %(key, value))\n",
    " \n",
    "# Driver code\n",
    "myFun(first ='Geeks', mid ='for', last='Geeks') "
   ]
  },
  {
   "cell_type": "code",
   "execution_count": 28,
   "metadata": {},
   "outputs": [],
   "source": [
    "# using gwpy time-series fft\n",
    "#frequency domain\n",
    "# Define the time-domain model\n",
    "dt = 1/sampling_frequency\n",
    "time_array_ = np.arange(start_time,start_time+duration,dt)\n",
    "def moving_bbh(freq_array, mass, ratio, distance, theta, phi, speed, v_the, v_phi,**kwargs):\n",
    "    #len(times)=duration*sampling_frequency\n",
    "    times = time_array_\n",
    "    \n",
    "    arg_ = {'surrogate_':surrogate,'M_':mass, 'q_':ratio, 'dis_':distance, 'the_':theta, 'phi_':phi, 'v_mag_':speed, 'v_the_':v_the, 'v_phi_':v_phi, 'times_':times, **kwargs}\n",
    "    fplus = WaVel.Fn(**arg_)\n",
    "    h_plus = gwpy.timeseries.TimeSeries(fplus.WaVe()[0], unit='dimensionless', t0=start_time,\\\n",
    "                                        dt=dt, name='Strain', channel=None)\n",
    "    h_cross = gwpy.timeseries.TimeSeries(fplus.WaVe()[1], unit='dimensionless', t0=start_time,\\\n",
    "                                        dt=dt, name='Strain', channel=None)\n",
    "    \n",
    "    fplus = h_plus.fft()\n",
    "    fcross = h_cross.fft()\n",
    "    \n",
    "    print(times[0],times[-1],times[1]-times[0],len(times))\n",
    "    print(freq_array[0],freq_array[-1],freq_array[1]-freq_array[0],len(freq_array))\n",
    "\n",
    "    return {'plus': fplus.value, 'cross': fcross.value}"
   ]
  },
  {
   "cell_type": "code",
   "execution_count": 17,
   "metadata": {},
   "outputs": [],
   "source": [
    "#frequency domain\n",
    "# Define the time-domain model\n",
    "dt = 1/sampling_frequency\n",
    "time_array_ = np.arange(start_time,start_time+duration,dt)\n",
    "def moving_bbh(freq_array, mass, ratio, distance, theta, phi, speed, v_the, v_phi,**kwargs):\n",
    "    #len(times)=duration*sampling_frequency\n",
    "    times = time_array_\n",
    "    \n",
    "    arg_ = {'surrogate_':surrogate,'M_':mass, 'q_':ratio, 'dis_':distance, 'the_':theta, 'phi_':phi, 'v_mag_':speed, 'v_the_':v_the, 'v_phi_':v_phi, 'times_':times, **kwargs}\n",
    "    fplus = WaVel.Fn(**arg_)\n",
    "    h_plus = fplus.WaVe()[0]\n",
    "    h_cross = fplus.WaVe()[1]\n",
    "    \n",
    "    n = len(times)\n",
    "    upto = int(n/2)+1\n",
    "    freqs = np.fft.fftfreq(n)\n",
    "    fplus = np.fft.fft(h_plus)\n",
    "    fplus = 2*(fplus/n)\n",
    "    fplus = fplus[:upto]\n",
    "   \n",
    "    fcross = np.fft.fft(h_cross)\n",
    "    fcross = 2*(fcross/n)\n",
    "    fcross = fcross[:upto]\n",
    "    \n",
    "    print(times[0],times[-1],times[1]-times[0],len(times))\n",
    "    print(freq_array[0],freq_array[-1],freq_array[1]-freq_array[0],len(freq_array))\n",
    "\n",
    "    return {'plus': fplus, 'cross': fcross}"
   ]
  },
  {
   "cell_type": "code",
   "execution_count": 22,
   "metadata": {},
   "outputs": [],
   "source": [
    "#time domian\n",
    "# Define the time-domain model\n",
    "def moving_bbh(times, mass, ratio, distance, theta, phi, speed, v_the, v_phi,**kwargs):\n",
    "\n",
    "    arg_ = {'surrogate_':surrogate,'M_':mass, 'q_':ratio, 'dis_':distance, 'the_':theta, 'phi_':phi, 'v_mag_':speed, 'v_the_':v_the, 'v_phi_':v_phi, 'times_':times, **kwargs}\n",
    "    fplus = WaVel.Fn(**arg_)\n",
    "    h_plus = fplus.WaVe()[0]\n",
    "    h_cross = fplus.WaVe()[1]\n",
    "    \n",
    "    print(times[0],times[-1],times[1]-times[0],len(times))\n",
    "    \n",
    "    return {'plus': h_plus, 'cross': h_cross}"
   ]
  },
  {
   "cell_type": "code",
   "execution_count": 38,
   "metadata": {},
   "outputs": [
    {
     "name": "stdout",
     "output_type": "stream",
     "text": [
      "-1.98 0.019023437500000018 0.0009765625 2048\n",
      "-1.98 0.019023437500000018 0.0009765625 2048\n"
     ]
    }
   ],
   "source": [
    "ff = moving_bbh(np.arange(start_time,start_time+duration,dt),650,6,300,45,45,3000,0,0) "
   ]
  },
  {
   "cell_type": "code",
   "execution_count": 40,
   "metadata": {},
   "outputs": [
    {
     "data": {
      "text/plain": [
       "array([7.00460693e-23+0.00000000e+00j,\n",
       "       1.44445019e-22+2.08516742e-23j,\n",
       "       1.55424175e-22+4.56018359e-23j, ...,\n",
       "       1.87911861e-24-6.95673489e-27j,\n",
       "       1.87912249e-24-3.47646213e-27j,\n",
       "       1.87912273e-24+0.00000000e+00j])"
      ]
     },
     "execution_count": 40,
     "metadata": {},
     "output_type": "execute_result"
    }
   ],
   "source": [
    "ff['plus']"
   ]
  },
  {
   "cell_type": "code",
   "execution_count": 7,
   "metadata": {},
   "outputs": [
    {
     "data": {
      "text/plain": [
       "array([-1000.,  -900.,  -800.,  -700.,  -600.,  -500.,  -400.,\n",
       "        -300.,  -200.,  -100.])"
      ]
     },
     "execution_count": 7,
     "metadata": {},
     "output_type": "execute_result"
    }
   ],
   "source": [
    "np.linspace(-1.98,0.01902344,1)"
   ]
  },
  {
   "cell_type": "code",
   "execution_count": 5,
   "metadata": {},
   "outputs": [
    {
     "name": "stdout",
     "output_type": "stream",
     "text": [
      "Execution took 0.4191\n"
     ]
    }
   ],
   "source": [
    "#for 10 time points\n",
    "import time \n",
    "\n",
    "ttt = np.linspace(-1000.0,-100.0,10)\n",
    "t0 = time.time()\n",
    "zz = moving_bbh(ttt,650,6,300,45,45,3000,0,0) \n",
    "\n",
    "t1 = time.time()\n",
    "print('Execution took {:.4f}'.format(t1 - t0))"
   ]
  },
  {
   "cell_type": "code",
   "execution_count": 29,
   "metadata": {},
   "outputs": [
    {
     "name": "stderr",
     "output_type": "stream",
     "text": [
      "10:20 bilby INFO    : Waveform generator initiated with\n",
      "  frequency_domain_source_model: __main__.moving_bbh\n",
      "  time_domain_source_model: None\n",
      "  parameter_conversion: bilby.gw.conversion.convert_to_lal_binary_black_hole_parameters\n",
      "/home/hemantakumar.phurailatpam/anaconda3/envs/bilby/lib/python3.7/site-packages/bilby/gw/detector/psd.py:356: RuntimeWarning: invalid value encountered in multiply\n",
      "  frequency_domain_strain = self.__power_spectral_density_interpolated(frequencies) ** 0.5 * white_noise\n",
      "10:20 bilby INFO    : Injected signal in H1:\n",
      "10:20 bilby INFO    :   optimal SNR = 31.20\n",
      "10:20 bilby INFO    :   matched filter SNR = 30.69+0.14j\n",
      "10:20 bilby INFO    :   mass = 50\n",
      "10:20 bilby INFO    :   ratio = 6\n",
      "10:20 bilby INFO    :   distance = 300\n",
      "10:20 bilby INFO    :   theta = 45\n",
      "10:20 bilby INFO    :   phi = 45\n",
      "10:20 bilby INFO    :   speed = 3000\n",
      "10:20 bilby INFO    :   v_the = 0\n",
      "10:20 bilby INFO    :   v_phi = 0\n",
      "10:20 bilby INFO    :   ra = 0\n",
      "10:20 bilby INFO    :   dec = 0\n",
      "10:20 bilby INFO    :   psi = 0\n",
      "10:20 bilby INFO    :   geocent_time = 0.0\n",
      "10:20 bilby INFO    : Injected signal in L1:\n",
      "10:20 bilby INFO    :   optimal SNR = 36.98\n",
      "10:20 bilby INFO    :   matched filter SNR = 38.42-0.52j\n",
      "10:20 bilby INFO    :   mass = 50\n",
      "10:20 bilby INFO    :   ratio = 6\n",
      "10:20 bilby INFO    :   distance = 300\n",
      "10:20 bilby INFO    :   theta = 45\n",
      "10:20 bilby INFO    :   phi = 45\n",
      "10:20 bilby INFO    :   speed = 3000\n",
      "10:20 bilby INFO    :   v_the = 0\n",
      "10:20 bilby INFO    :   v_phi = 0\n",
      "10:20 bilby INFO    :   ra = 0\n",
      "10:20 bilby INFO    :   dec = 0\n",
      "10:20 bilby INFO    :   psi = 0\n",
      "10:20 bilby INFO    :   geocent_time = 0.0\n",
      "10:20 bilby INFO    : Injected signal in V1:\n",
      "10:20 bilby INFO    :   optimal SNR = 18.12\n",
      "10:20 bilby INFO    :   matched filter SNR = 19.13+0.95j\n",
      "10:20 bilby INFO    :   mass = 50\n",
      "10:20 bilby INFO    :   ratio = 6\n",
      "10:20 bilby INFO    :   distance = 300\n",
      "10:20 bilby INFO    :   theta = 45\n",
      "10:20 bilby INFO    :   phi = 45\n",
      "10:20 bilby INFO    :   speed = 3000\n",
      "10:20 bilby INFO    :   v_the = 0\n",
      "10:20 bilby INFO    :   v_phi = 0\n",
      "10:20 bilby INFO    :   ra = 0\n",
      "10:20 bilby INFO    :   dec = 0\n",
      "10:20 bilby INFO    :   psi = 0\n",
      "10:20 bilby INFO    :   geocent_time = 0.0\n"
     ]
    },
    {
     "name": "stdout",
     "output_type": "stream",
     "text": [
      "-1.98 0.019023437500000018 0.0009765625 2048\n",
      "0.0 512.0 0.5 1025\n"
     ]
    },
    {
     "data": {
      "text/plain": [
       "[{'plus': array([1.80360156e-25+0.00000000e+00j,\n",
       "         3.46942808e-25+3.84932968e-26j,\n",
       "         3.45881746e-25+5.41421062e-26j, ...,\n",
       "         5.04840882e-25-5.39860750e-26j,\n",
       "         5.07309793e-25-2.70419804e-26j,\n",
       "         5.08133623e-25+0.00000000e+00j]),\n",
       "  'cross': array([-6.15699088e-25+0.00000000e+00j,\n",
       "         -1.25484240e-24+2.16567657e-26j,\n",
       "         -1.25500337e-24+1.03903532e-26j, ...,\n",
       "          4.75784513e-26-3.30317686e-28j,\n",
       "          4.74185350e-26-1.58336381e-28j,\n",
       "          4.73650453e-26+0.00000000e+00j])},\n",
       " {'plus': array([1.80360156e-25+0.00000000e+00j,\n",
       "         3.46942808e-25+3.84932968e-26j,\n",
       "         3.45881746e-25+5.41421062e-26j, ...,\n",
       "         5.04840882e-25-5.39860750e-26j,\n",
       "         5.07309793e-25-2.70419804e-26j,\n",
       "         5.08133623e-25+0.00000000e+00j]),\n",
       "  'cross': array([-6.15699088e-25+0.00000000e+00j,\n",
       "         -1.25484240e-24+2.16567657e-26j,\n",
       "         -1.25500337e-24+1.03903532e-26j, ...,\n",
       "          4.75784513e-26-3.30317686e-28j,\n",
       "          4.74185350e-26-1.58336381e-28j,\n",
       "          4.73650453e-26+0.00000000e+00j])},\n",
       " {'plus': array([1.80360156e-25+0.00000000e+00j,\n",
       "         3.46942808e-25+3.84932968e-26j,\n",
       "         3.45881746e-25+5.41421062e-26j, ...,\n",
       "         5.04840882e-25-5.39860750e-26j,\n",
       "         5.07309793e-25-2.70419804e-26j,\n",
       "         5.08133623e-25+0.00000000e+00j]),\n",
       "  'cross': array([-6.15699088e-25+0.00000000e+00j,\n",
       "         -1.25484240e-24+2.16567657e-26j,\n",
       "         -1.25500337e-24+1.03903532e-26j, ...,\n",
       "          4.75784513e-26-3.30317686e-28j,\n",
       "          4.74185350e-26-1.58336381e-28j,\n",
       "          4.73650453e-26+0.00000000e+00j])}]"
      ]
     },
     "execution_count": 29,
     "metadata": {},
     "output_type": "execute_result"
    }
   ],
   "source": [
    "#frequency domain\n",
    "injection_parameters = dict(mass=50, ratio=6, distance=300, theta=45, phi=45, speed=3000, v_the=0, v_phi=0, ra=0, dec=0, psi=0, geocent_time=geocent_time)\n",
    "\n",
    "waveform_generator = bilby.gw.waveform_generator.WaveformGenerator(sampling_frequency=sampling_frequency, duration=duration, frequency_domain_source_model=moving_bbh, start_time=start_time)\n",
    "\n",
    "ifos = bilby.gw.detector.InterferometerList(['H1', 'L1', 'V1'])\n",
    "ifos.set_strain_data_from_power_spectral_densities(sampling_frequency=sampling_frequency, duration=duration, start_time=start_time)\n",
    "ifos.inject_signal(waveform_generator=waveform_generator, parameters=injection_parameters)"
   ]
  },
  {
   "cell_type": "code",
   "execution_count": 23,
   "metadata": {},
   "outputs": [
    {
     "name": "stderr",
     "output_type": "stream",
     "text": [
      "10:18 bilby INFO    : Waveform generator initiated with\n",
      "  frequency_domain_source_model: None\n",
      "  time_domain_source_model: __main__.moving_bbh\n",
      "  parameter_conversion: bilby.gw.conversion.convert_to_lal_binary_black_hole_parameters\n",
      "/home/hemantakumar.phurailatpam/anaconda3/envs/bilby/lib/python3.7/site-packages/bilby/gw/detector/psd.py:356: RuntimeWarning: invalid value encountered in multiply\n",
      "  frequency_domain_strain = self.__power_spectral_density_interpolated(frequencies) ** 0.5 * white_noise\n",
      "10:18 bilby INFO    : Injected signal in H1:\n",
      "10:18 bilby INFO    :   optimal SNR = 31.20\n",
      "10:18 bilby INFO    :   matched filter SNR = 30.49+0.12j\n",
      "10:18 bilby INFO    :   mass = 50\n",
      "10:18 bilby INFO    :   ratio = 6\n",
      "10:18 bilby INFO    :   distance = 300\n",
      "10:18 bilby INFO    :   theta = 45\n",
      "10:18 bilby INFO    :   phi = 45\n",
      "10:18 bilby INFO    :   speed = 3000\n",
      "10:18 bilby INFO    :   v_the = 0\n",
      "10:18 bilby INFO    :   v_phi = 0\n",
      "10:18 bilby INFO    :   ra = 0\n",
      "10:18 bilby INFO    :   dec = 0\n",
      "10:18 bilby INFO    :   psi = 0\n",
      "10:18 bilby INFO    :   geocent_time = 0.0\n",
      "10:18 bilby INFO    : Injected signal in L1:\n",
      "10:18 bilby INFO    :   optimal SNR = 36.98\n",
      "10:18 bilby INFO    :   matched filter SNR = 35.25+0.98j\n",
      "10:18 bilby INFO    :   mass = 50\n",
      "10:18 bilby INFO    :   ratio = 6\n",
      "10:18 bilby INFO    :   distance = 300\n",
      "10:18 bilby INFO    :   theta = 45\n",
      "10:18 bilby INFO    :   phi = 45\n",
      "10:18 bilby INFO    :   speed = 3000\n",
      "10:18 bilby INFO    :   v_the = 0\n",
      "10:18 bilby INFO    :   v_phi = 0\n",
      "10:18 bilby INFO    :   ra = 0\n",
      "10:18 bilby INFO    :   dec = 0\n",
      "10:18 bilby INFO    :   psi = 0\n",
      "10:18 bilby INFO    :   geocent_time = 0.0\n",
      "10:18 bilby INFO    : Injected signal in V1:\n",
      "10:18 bilby INFO    :   optimal SNR = 18.12\n",
      "10:18 bilby INFO    :   matched filter SNR = 18.15+0.73j\n",
      "10:18 bilby INFO    :   mass = 50\n",
      "10:18 bilby INFO    :   ratio = 6\n",
      "10:18 bilby INFO    :   distance = 300\n",
      "10:18 bilby INFO    :   theta = 45\n",
      "10:18 bilby INFO    :   phi = 45\n",
      "10:18 bilby INFO    :   speed = 3000\n",
      "10:18 bilby INFO    :   v_the = 0\n",
      "10:18 bilby INFO    :   v_phi = 0\n",
      "10:18 bilby INFO    :   ra = 0\n",
      "10:18 bilby INFO    :   dec = 0\n",
      "10:18 bilby INFO    :   psi = 0\n",
      "10:18 bilby INFO    :   geocent_time = 0.0\n"
     ]
    },
    {
     "name": "stdout",
     "output_type": "stream",
     "text": [
      "-1.98 0.019023437500000018 0.0009765625 2048\n"
     ]
    },
    {
     "data": {
      "text/plain": [
       "[{'plus': array([3.60720311e-25+0.00000000e+00j,\n",
       "         3.46942808e-25+3.84932968e-26j,\n",
       "         3.45881746e-25+5.41421062e-26j, ...,\n",
       "         5.04840882e-25-5.39860750e-26j,\n",
       "         5.07309793e-25-2.70419804e-26j,\n",
       "         5.08133623e-25+0.00000000e+00j]),\n",
       "  'cross': array([-1.23139818e-24+0.00000000e+00j,\n",
       "         -1.25484240e-24+2.16567657e-26j,\n",
       "         -1.25500337e-24+1.03903532e-26j, ...,\n",
       "          4.75784513e-26-3.30317686e-28j,\n",
       "          4.74185350e-26-1.58336381e-28j,\n",
       "          4.73650453e-26+0.00000000e+00j])},\n",
       " {'plus': array([3.60720311e-25+0.00000000e+00j,\n",
       "         3.46942808e-25+3.84932968e-26j,\n",
       "         3.45881746e-25+5.41421062e-26j, ...,\n",
       "         5.04840882e-25-5.39860750e-26j,\n",
       "         5.07309793e-25-2.70419804e-26j,\n",
       "         5.08133623e-25+0.00000000e+00j]),\n",
       "  'cross': array([-1.23139818e-24+0.00000000e+00j,\n",
       "         -1.25484240e-24+2.16567657e-26j,\n",
       "         -1.25500337e-24+1.03903532e-26j, ...,\n",
       "          4.75784513e-26-3.30317686e-28j,\n",
       "          4.74185350e-26-1.58336381e-28j,\n",
       "          4.73650453e-26+0.00000000e+00j])},\n",
       " {'plus': array([3.60720311e-25+0.00000000e+00j,\n",
       "         3.46942808e-25+3.84932968e-26j,\n",
       "         3.45881746e-25+5.41421062e-26j, ...,\n",
       "         5.04840882e-25-5.39860750e-26j,\n",
       "         5.07309793e-25-2.70419804e-26j,\n",
       "         5.08133623e-25+0.00000000e+00j]),\n",
       "  'cross': array([-1.23139818e-24+0.00000000e+00j,\n",
       "         -1.25484240e-24+2.16567657e-26j,\n",
       "         -1.25500337e-24+1.03903532e-26j, ...,\n",
       "          4.75784513e-26-3.30317686e-28j,\n",
       "          4.74185350e-26-1.58336381e-28j,\n",
       "          4.73650453e-26+0.00000000e+00j])}]"
      ]
     },
     "execution_count": 23,
     "metadata": {},
     "output_type": "execute_result"
    }
   ],
   "source": [
    "#time domain\n",
    "injection_parameters = dict(mass=50, ratio=6, distance=300, theta=45, phi=45, speed=3000, v_the=0, v_phi=0, ra=0, dec=0, psi=0, geocent_time=geocent_time)\n",
    "\n",
    "waveform_generator = bilby.gw.waveform_generator.WaveformGenerator(sampling_frequency=sampling_frequency, duration=duration, time_domain_source_model=moving_bbh, start_time=start_time)\n",
    "\n",
    "ifos = bilby.gw.detector.InterferometerList(['H1', 'L1', 'V1'])\n",
    "ifos.set_strain_data_from_power_spectral_densities(sampling_frequency=sampling_frequency, duration=duration, start_time=start_time)\n",
    "ifos.inject_signal(waveform_generator=waveform_generator, parameters=injection_parameters)\n"
   ]
  },
  {
   "cell_type": "code",
   "execution_count": 31,
   "metadata": {},
   "outputs": [
    {
     "data": {
      "text/plain": [
       "array([-1.98      , -1.97902344, -1.97804687, ...,  0.01707031,\n",
       "        0.01804688,  0.01902344])"
      ]
     },
     "execution_count": 31,
     "metadata": {},
     "output_type": "execute_result"
    }
   ],
   "source": [
    "time_array_"
   ]
  },
  {
   "cell_type": "code",
   "execution_count": 33,
   "metadata": {},
   "outputs": [
    {
     "data": {
      "text/plain": [
       "array([-1.98      , -1.97902344, -1.97804687, ...,  0.01707031,\n",
       "        0.01804688,  0.01902344])"
      ]
     },
     "execution_count": 33,
     "metadata": {},
     "output_type": "execute_result"
    }
   ],
   "source": [
    "H1.strain_data.time_array"
   ]
  },
  {
   "cell_type": "code",
   "execution_count": 30,
   "metadata": {},
   "outputs": [
    {
     "name": "stderr",
     "output_type": "stream",
     "text": [
      "10:20 bilby INFO    : Injected signal in H1:\n",
      "10:20 bilby INFO    :   optimal SNR = 31.20\n",
      "10:20 bilby INFO    :   matched filter SNR = 61.89+0.14j\n",
      "10:20 bilby INFO    :   mass = 50\n",
      "10:20 bilby INFO    :   ratio = 6\n",
      "10:20 bilby INFO    :   distance = 300\n",
      "10:20 bilby INFO    :   theta = 45\n",
      "10:20 bilby INFO    :   phi = 45\n",
      "10:20 bilby INFO    :   speed = 3000\n",
      "10:20 bilby INFO    :   v_the = 0\n",
      "10:20 bilby INFO    :   v_phi = 0\n",
      "10:20 bilby INFO    :   ra = 0\n",
      "10:20 bilby INFO    :   dec = 0\n",
      "10:20 bilby INFO    :   psi = 0\n",
      "10:20 bilby INFO    :   geocent_time = 0.0\n",
      "10:20 bilby INFO    : Injected signal in L1:\n",
      "10:20 bilby INFO    :   optimal SNR = 36.98\n",
      "10:20 bilby INFO    :   matched filter SNR = 75.40-0.52j\n",
      "10:20 bilby INFO    :   mass = 50\n",
      "10:20 bilby INFO    :   ratio = 6\n",
      "10:20 bilby INFO    :   distance = 300\n",
      "10:20 bilby INFO    :   theta = 45\n",
      "10:20 bilby INFO    :   phi = 45\n",
      "10:20 bilby INFO    :   speed = 3000\n",
      "10:20 bilby INFO    :   v_the = 0\n",
      "10:20 bilby INFO    :   v_phi = 0\n",
      "10:20 bilby INFO    :   ra = 0\n",
      "10:20 bilby INFO    :   dec = 0\n",
      "10:20 bilby INFO    :   psi = 0\n",
      "10:20 bilby INFO    :   geocent_time = 0.0\n",
      "10:20 bilby INFO    : Injected signal in V1:\n",
      "10:20 bilby INFO    :   optimal SNR = 18.12\n",
      "10:20 bilby INFO    :   matched filter SNR = 37.25+0.95j\n",
      "10:20 bilby INFO    :   mass = 50\n",
      "10:20 bilby INFO    :   ratio = 6\n",
      "10:20 bilby INFO    :   distance = 300\n",
      "10:20 bilby INFO    :   theta = 45\n",
      "10:20 bilby INFO    :   phi = 45\n",
      "10:20 bilby INFO    :   speed = 3000\n",
      "10:20 bilby INFO    :   v_the = 0\n",
      "10:20 bilby INFO    :   v_phi = 0\n",
      "10:20 bilby INFO    :   ra = 0\n",
      "10:20 bilby INFO    :   dec = 0\n",
      "10:20 bilby INFO    :   psi = 0\n",
      "10:20 bilby INFO    :   geocent_time = 0.0\n"
     ]
    },
    {
     "data": {
      "image/png": "[encoded data removed]",
      "text/plain": [
       "<Figure size 432x288 with 1 Axes>"
      ]
     },
     "metadata": {
      "needs_background": "light"
     },
     "output_type": "display_data"
    }
   ],
   "source": [
    "#to plot the frequency domain  \n",
    "injection = ifos.inject_signal(waveform_generator=waveform_generator,\n",
    "                   parameters=injection_parameters)\n",
    "\n",
    "H1 = ifos[0]\n",
    "H1_injection = injection[0]\n",
    "\n",
    "fig, ax = plt.subplots()\n",
    "idxs = H1.strain_data.frequency_mask  # This is a boolean mask of the frequencies which we'll use in the analysis\n",
    "ax.loglog(H1.strain_data.frequency_array[idxs],\n",
    "          np.abs(H1.strain_data.frequency_domain_strain[idxs]),\n",
    "          label=\"data\")\n",
    "ax.loglog(H1.frequency_array[idxs],\n",
    "          H1.amplitude_spectral_density_array[idxs],\n",
    "          label=\"ASD\")\n",
    "ax.loglog(H1.frequency_array[idxs],\n",
    "          np.abs(H1_injection[\"plus\"][idxs]),\n",
    "          label=\"Abs. val. of plus polarization\")\n",
    "\n",
    "ax.set_xlim(20.,512.)\n",
    "ax.set_ylim(1e-26,2.327737159425905e-21)\n",
    "\n",
    "\n",
    "ax.set_xlabel(\"Frequency [Hz]\")\n",
    "ax.set_ylabel(\"Strain [strain/$\\sqrt{Hz}$]\")\n",
    "ax.legend()\n",
    "plt.show()"
   ]
  },
  {
   "cell_type": "code",
   "execution_count": 43,
   "metadata": {},
   "outputs": [],
   "source": [
    "# Create priors\n",
    "prior = injection_parameters.copy()\n",
    "prior['mass'] = bilby.core.prior.Uniform(45, 55, r'$M$', unit='$M_sun$')\n",
    "#prior['mass'] = bilby.core.prior.Uniform(45, 55, r'$M$', unit='$M_sun$')\n",
    "# Define likelihood\n",
    "likelihood = bilby.gw.likelihood.GravitationalWaveTransient(interferometers=ifos, waveform_generator=waveform_generator, priors=prior)"
   ]
  },
  {
   "cell_type": "code",
   "execution_count": null,
   "metadata": {},
   "outputs": [
    {
     "name": "stderr",
     "output_type": "stream",
     "text": [
      "10:10 bilby INFO    : Running for label 'moving_bbh', output will be saved to 'outdir'\n",
      "10:10 bilby INFO    : Using lal version 7.1.2\n",
      "10:10 bilby INFO    : Using lal git version Branch: None;Tag: lalsuite-v6.82;Id: cf792129c2473f42ce6c6ee21d8234254cefd337;;Builder: Unknown User <>;Repository status: UNCLEAN: Modified working tree\n",
      "10:10 bilby INFO    : Using lalsimulation version 2.5.1\n",
      "10:10 bilby INFO    : Using lalsimulation git version Branch: None;Tag: lalsuite-v6.82;Id: cf792129c2473f42ce6c6ee21d8234254cefd337;;Builder: Unknown User <>;Repository status: UNCLEAN: Modified working tree\n",
      "10:10 bilby INFO    : Search parameters:\n",
      "10:10 bilby INFO    :   mass = Uniform(minimum=45, maximum=55, name='$M$', latex_label='$M$', unit='$M_sun$', boundary=None)\n",
      "10:10 bilby INFO    :   ratio = 6\n",
      "10:10 bilby INFO    :   distance = 300\n",
      "10:10 bilby INFO    :   theta = 45\n",
      "10:10 bilby INFO    :   phi = 45\n",
      "10:10 bilby INFO    :   speed = 3000\n",
      "10:10 bilby INFO    :   v_the = 0\n",
      "10:10 bilby INFO    :   v_phi = 0\n",
      "10:10 bilby INFO    :   ra = 0\n",
      "10:10 bilby INFO    :   dec = 0\n",
      "10:10 bilby INFO    :   psi = 0\n",
      "10:10 bilby INFO    :   geocent_time = 0.0\n"
     ]
    },
    {
     "name": "stdout",
     "output_type": "stream",
     "text": [
      "-1.98 0.019023437500000018 0.0009765625 2048\n",
      "0.0 512.0 0.5 1025\n",
      "-1.98 0.019023437500000018 0.0009765625 2048\n",
      "0.0 512.0 0.5 1025\n",
      "-1.98 0.019023437500000018 0.0009765625 2048\n",
      "0.0 512.0 0.5 1025\n",
      "-1.98 0.019023437500000018 0.0009765625 2048\n",
      "0.0 512.0 0.5 1025\n",
      "-1.98 0.019023437500000018 0.0009765625 2048\n",
      "0.0 512.0 0.5 1025\n",
      "-1.98 0.019023437500000018 0.0009765625 2048\n",
      "0.0 512.0 0.5 1025\n",
      "-1.98 0.019023437500000018 0.0009765625 2048\n",
      "0.0 512.0 0.5 1025\n",
      "-1.98 0.019023437500000018 0.0009765625 2048\n",
      "0.0 512.0 0.5 1025\n",
      "-1.98 0.019023437500000018 0.0009765625 2048\n",
      "0.0 512.0 0.5 1025\n",
      "-1.98 0.019023437500000018 0.0009765625 2048\n",
      "0.0 512.0 0.5 1025\n",
      "-1.98 0.019023437500000018 0.0009765625 2048\n",
      "0.0 512.0 0.5 1025\n",
      "-1.98 0.019023437500000018 0.0009765625 2048\n",
      "0.0 512.0 0.5 1025\n",
      "-1.98 0.019023437500000018 0.0009765625 2048\n",
      "0.0 512.0 0.5 1025\n",
      "-1.98 0.019023437500000018 0.0009765625 2048\n",
      "0.0 512.0 0.5 1025\n",
      "-1.98 0.019023437500000018 0.0009765625 2048\n",
      "0.0 512.0 0.5 1025\n",
      "-1.98 0.019023437500000018 0.0009765625 2048\n",
      "0.0 512.0 0.5 1025\n",
      "-1.98 0.019023437500000018 0.0009765625 2048\n",
      "0.0 512.0 0.5 1025\n",
      "-1.98 0.019023437500000018 0.0009765625 2048\n",
      "0.0 512.0 0.5 1025\n",
      "-1.98 0.019023437500000018 0.0009765625 2048\n",
      "0.0 512.0 0.5 1025\n",
      "-1.98 0.019023437500000018 0.0009765625 2048\n",
      "0.0 512.0 0.5 1025\n",
      "-1.98 0.019023437500000018 0.0009765625 2048\n",
      "0.0 512.0 0.5 1025\n",
      "-1.98 0.019023437500000018 0.0009765625 2048\n",
      "0.0 512.0 0.5 1025\n",
      "-1.98 0.019023437500000018 0.0009765625 2048\n",
      "0.0 512.0 0.5 1025\n",
      "-1.98 0.019023437500000018 0.0009765625 2048\n",
      "0.0 512.0 0.5 1025\n",
      "-1.98 0.019023437500000018 0.0009765625 2048\n",
      "0.0 512.0 0.5 1025\n",
      "-1.98 0.019023437500000018 0.0009765625 2048\n",
      "0.0 512.0 0.5 1025\n",
      "-1.98 0.019023437500000018 0.0009765625 2048\n",
      "0.0 512.0 0.5 1025\n",
      "-1.98 0.019023437500000018 0.0009765625 2048\n",
      "0.0 512.0 0.5 1025\n",
      "-1.98 0.019023437500000018 0.0009765625 2048\n",
      "0.0 512.0 0.5 1025\n",
      "-1.98 0.019023437500000018 0.0009765625 2048\n",
      "0.0 512.0 0.5 1025\n",
      "-1.98 0.019023437500000018 0.0009765625 2048\n",
      "0.0 512.0 0.5 1025\n",
      "-1.98 0.019023437500000018 0.0009765625 2048\n",
      "0.0 512.0 0.5 1025\n",
      "-1.98 0.019023437500000018 0.0009765625 2048\n",
      "0.0 512.0 0.5 1025\n",
      "-1.98 0.019023437500000018 0.0009765625 2048\n",
      "0.0 512.0 0.5 1025\n",
      "-1.98 0.019023437500000018 0.0009765625 2048\n",
      "0.0 512.0 0.5 1025\n",
      "-1.98 0.019023437500000018 0.0009765625 2048\n",
      "0.0 512.0 0.5 1025\n",
      "-1.98 0.019023437500000018 0.0009765625 2048\n",
      "0.0 512.0 0.5 1025\n",
      "-1.98 0.019023437500000018 0.0009765625 2048\n",
      "0.0 512.0 0.5 1025\n",
      "-1.98 0.019023437500000018 0.0009765625 2048\n",
      "0.0 512.0 0.5 1025\n",
      "-1.98 0.019023437500000018 0.0009765625 2048\n",
      "0.0 512.0 0.5 1025\n",
      "-1.98 0.019023437500000018 0.0009765625 2048\n",
      "0.0 512.0 0.5 1025\n",
      "-1.98 0.019023437500000018 0.0009765625 2048\n",
      "0.0 512.0 0.5 1025\n",
      "-1.98 0.019023437500000018 0.0009765625 2048\n",
      "0.0 512.0 0.5 1025\n",
      "-1.98 0.019023437500000018 0.0009765625 2048\n",
      "0.0 512.0 0.5 1025\n",
      "-1.98 0.019023437500000018 0.0009765625 2048\n",
      "0.0 512.0 0.5 1025\n",
      "-1.98 0.019023437500000018 0.0009765625 2048\n",
      "0.0 512.0 0.5 1025\n",
      "-1.98 0.019023437500000018 0.0009765625 2048\n",
      "0.0 512.0 0.5 1025\n",
      "-1.98 0.019023437500000018 0.0009765625 2048\n",
      "0.0 512.0 0.5 1025\n",
      "-1.98 0.019023437500000018 0.0009765625 2048\n",
      "0.0 512.0 0.5 1025\n",
      "-1.98 0.019023437500000018 0.0009765625 2048\n",
      "0.0 512.0 0.5 1025\n"
     ]
    }
   ],
   "source": [
    "# Launch sampler\n",
    "result = bilby.core.sampler.run_sampler(likelihood, prior, sampler='dynesty', npoints=500, injection_parameters=injection_parameters, outdir=outdir, label=label, dlogz=3, npool=8)"
   ]
  },
  {
   "cell_type": "code",
   "execution_count": 9,
   "metadata": {},
   "outputs": [
    {
     "data": {
      "text/plain": [
       "array([ 6.45101852e-23, -1.40381007e-24,  1.28633590e-23, ...,\n",
       "       -1.57319829e-24,  3.34836117e-23,  2.30520039e-23])"
      ]
     },
     "execution_count": 9,
     "metadata": {},
     "output_type": "execute_result"
    }
   ],
   "source": [
    "ifos[0].time_domain_strain"
   ]
  },
  {
   "cell_type": "code",
   "execution_count": 51,
   "metadata": {},
   "outputs": [
    {
     "data": {
      "text/plain": [
       "[<matplotlib.lines.Line2D at 0x7ff747895550>]"
      ]
     },
     "execution_count": 51,
     "metadata": {},
     "output_type": "execute_result"
    },
    {
     "data": {
      "image/png": "[encoded data removed]",
      "text/plain": [
       "<Figure size 432x288 with 1 Axes>"
      ]
     },
     "metadata": {
      "needs_background": "light"
     },
     "output_type": "display_data"
    }
   ],
   "source": [
    "plt.plot(H1.strain_data.time_array,H1.strain_data.time_domain_strain)"
   ]
  },
  {
   "cell_type": "code",
   "execution_count": 11,
   "metadata": {},
   "outputs": [
    {
     "data": {
      "text/plain": [
       "array([ 6.45101852e-23, -1.40381007e-24,  1.28633590e-23, ...,\n",
       "       -1.57319829e-24,  3.34836117e-23,  2.30520039e-23])"
      ]
     },
     "execution_count": 11,
     "metadata": {},
     "output_type": "execute_result"
    }
   ],
   "source": [
    "H1.strain_data.time_domain_strain"
   ]
  },
  {
   "cell_type": "code",
   "execution_count": 7,
   "metadata": {},
   "outputs": [],
   "source": [
    "import h5py\n",
    "import numpy as np\n",
    "  \n",
    "# initializing a random numpy array\n",
    "arr1 = np.random.randn(10000)\n",
    "arr2 = np.random.randn(10000)\n",
    "  \n",
    "# creating a file\n",
    "with h5py.File('test_read.hdf5', 'w') as f:\n",
    "    f.create_dataset('array_1', data = arr1)\n",
    "    f.create_dataset('array_2', data = arr2)"
   ]
  },
  {
   "cell_type": "code",
   "execution_count": 18,
   "metadata": {},
   "outputs": [],
   "source": [
    "# open the file as 'f'\n",
    "\n",
    "with h5py.File('test_read.hdf5', 'r') as f:\n",
    "    d1 = list(f['array_1'])\n",
    "    d2 = list(f['array_2'])"
   ]
  },
  {
   "cell_type": "code",
   "execution_count": 26,
   "metadata": {},
   "outputs": [],
   "source": [
    "with h5py.File('com_time_series.hdf5', 'w') as f:\n",
    "    f.create_dataset('t', data = H1.strain_data.time_array)\n",
    "    f.create_dataset('h(t)', data = H1.strain_data.time_domain_strain)"
   ]
  },
  {
   "cell_type": "code",
   "execution_count": 28,
   "metadata": {},
   "outputs": [],
   "source": [
    "with h5py.File('com_time_series.hdf5', 'r') as f:\n",
    "    t = list(f['t'])\n",
    "    h = list(f['h(t)'])"
   ]
  },
  {
   "cell_type": "code",
   "execution_count": 29,
   "metadata": {
    "scrolled": true
   },
   "outputs": [
    {
     "data": {
      "text/plain": [
       "[<matplotlib.lines.Line2D at 0x7ff7501c8990>]"
      ]
     },
     "execution_count": 29,
     "metadata": {},
     "output_type": "execute_result"
    },
    {
     "data": {
      "image/png": "[encoded data removed]",
      "text/plain": [
       "<Figure size 432x288 with 1 Axes>"
      ]
     },
     "metadata": {
      "needs_background": "light"
     },
     "output_type": "display_data"
    }
   ],
   "source": [
    "plt.plot(t,h)"
   ]
  },
  {
   "cell_type": "code",
   "execution_count": 31,
   "metadata": {},
   "outputs": [],
   "source": [
    "L1 = ifos[1]\n",
    "\n",
    "with h5py.File('com_time_series_L1.hdf5', 'w') as f:\n",
    "    f.create_dataset('t', data = L1.strain_data.time_array)\n",
    "    f.create_dataset('h(t)', data = L1.strain_data.time_domain_strain)"
   ]
  },
  {
   "cell_type": "code",
   "execution_count": 13,
   "metadata": {},
   "outputs": [],
   "source": [
    "H1 = ifos[0]\n",
    "L1 = ifos[1]"
   ]
  },
  {
   "cell_type": "code",
   "execution_count": 55,
   "metadata": {},
   "outputs": [
    {
     "data": {
      "text/plain": [
       "[<matplotlib.lines.Line2D at 0x7ff771d8d290>]"
      ]
     },
     "execution_count": 55,
     "metadata": {},
     "output_type": "execute_result"
    },
    {
     "data": {
      "image/png": "[encoded data removed]",
      "text/plain": [
       "<Figure size 432x288 with 1 Axes>"
      ]
     },
     "metadata": {
      "needs_background": "light"
     },
     "output_type": "display_data"
    }
   ],
   "source": [
    "plt.plot(H1.strain_data.time_array,H1.strain_data.time_domain_strain)"
   ]
  },
  {
   "cell_type": "code",
   "execution_count": 65,
   "metadata": {},
   "outputs": [
    {
     "data": {
      "text/plain": [
       "[<matplotlib.lines.Line2D at 0x7ff771ba01d0>]"
      ]
     },
     "execution_count": 65,
     "metadata": {},
     "output_type": "execute_result"
    },
    {
     "data": {
      "image/png": "[encoded data removed]",
      "text/plain": [
       "<Figure size 432x288 with 1 Axes>"
      ]
     },
     "metadata": {
      "needs_background": "light"
     },
     "output_type": "display_data"
    }
   ],
   "source": [
    "plt.plot(L1.strain_data.time_array,H1.strain_data.time_domain_strain)"
   ]
  },
  {
   "cell_type": "code",
   "execution_count": 63,
   "metadata": {},
   "outputs": [
    {
     "data": {
      "text/plain": [
       "(-0.038, -0.036)"
      ]
     },
     "execution_count": 63,
     "metadata": {},
     "output_type": "execute_result"
    },
    {
     "data": {
      "image/png": "[encoded data removed]",
      "text/plain": [
       "<Figure size 432x288 with 1 Axes>"
      ]
     },
     "metadata": {
      "needs_background": "light"
     },
     "output_type": "display_data"
    }
   ],
   "source": [
    "fig, ax = plt.subplots()\n",
    "ax.plot(H1.strain_data.time_array,H1.strain_data.time_domain_strain)\n",
    "ax.set_xlim(-0.038,-0.036)"
   ]
  },
  {
   "cell_type": "code",
   "execution_count": 62,
   "metadata": {},
   "outputs": [
    {
     "data": {
      "text/plain": [
       "(-0.038, -0.036)"
      ]
     },
     "execution_count": 62,
     "metadata": {},
     "output_type": "execute_result"
    },
    {
     "data": {
      "image/png": "[encoded data removed]",
      "text/plain": [
       "<Figure size 432x288 with 1 Axes>"
      ]
     },
     "metadata": {
      "needs_background": "light"
     },
     "output_type": "display_data"
    }
   ],
   "source": [
    "fig, ax = plt.subplots()\n",
    "ax.plot(L1.strain_data.time_array,L1.strain_data.time_domain_strain)\n",
    "ax.set_xlim(-0.038,-0.036)"
   ]
  },
  {
   "cell_type": "code",
   "execution_count": 70,
   "metadata": {},
   "outputs": [
    {
     "data": {
      "text/plain": [
       "0.0009765625"
      ]
     },
     "execution_count": 70,
     "metadata": {},
     "output_type": "execute_result"
    }
   ],
   "source": [
    "ht = H1.strain_data.time_array[np.argmax(H1.strain_data.time_domain_strain)]\n",
    "lt = L1.strain_data.time_array[np.argmax(L1.strain_data.time_domain_strain)]\n",
    "ht-lt"
   ]
  },
  {
   "cell_type": "code",
   "execution_count": 16,
   "metadata": {},
   "outputs": [
    {
     "data": {
      "text/plain": [
       "-0.0009765625"
      ]
     },
     "execution_count": 16,
     "metadata": {},
     "output_type": "execute_result"
    }
   ],
   "source": [
    "ht = H1.strain_data.time_array[np.argmax(H1.strain_data.time_domain_strain)]\n",
    "lt = L1.strain_data.time_array[np.argmax(L1.strain_data.time_domain_strain)]\n",
    "ht-lt"
   ]
  },
  {
   "cell_type": "code",
   "execution_count": 14,
   "metadata": {},
   "outputs": [
    {
     "data": {
      "text/plain": [
       "[<matplotlib.lines.Line2D at 0x7f43649a0990>]"
      ]
     },
     "execution_count": 14,
     "metadata": {},
     "output_type": "execute_result"
    },
    {
     "data": {
      "image/png": "[encoded data removed]",
      "text/plain": [
       "<Figure size 432x288 with 1 Axes>"
      ]
     },
     "metadata": {
      "needs_background": "light"
     },
     "output_type": "display_data"
    }
   ],
   "source": [
    "plt.plot(H1.strain_data.time_array,H1.strain_data.time_domain_strain)"
   ]
  },
  {
   "cell_type": "code",
   "execution_count": 15,
   "metadata": {},
   "outputs": [
    {
     "data": {
      "text/plain": [
       "[<matplotlib.lines.Line2D at 0x7f436d14c850>]"
      ]
     },
     "execution_count": 15,
     "metadata": {},
     "output_type": "execute_result"
    },
    {
     "data": {
      "image/png": "[encoded data removed]",
      "text/plain": [
       "<Figure size 432x288 with 1 Axes>"
      ]
     },
     "metadata": {
      "needs_background": "light"
     },
     "output_type": "display_data"
    }
   ],
   "source": [
    "plt.plot(L1.strain_data.time_array,H1.strain_data.time_domain_strain)"
   ]
  },
  {
   "cell_type": "code",
   "execution_count": 9,
   "metadata": {},
   "outputs": [],
   "source": [
    "test = H1.strain_data.time_array"
   ]
  },
  {
   "cell_type": "code",
   "execution_count": 10,
   "metadata": {},
   "outputs": [
    {
     "data": {
      "text/plain": [
       "2048"
      ]
     },
     "execution_count": 10,
     "metadata": {},
     "output_type": "execute_result"
    }
   ],
   "source": [
    "len(test)"
   ]
  },
  {
   "cell_type": "code",
   "execution_count": 13,
   "metadata": {},
   "outputs": [
    {
     "data": {
      "text/plain": [
       "array([-1.98      , -1.97902344, -1.97804687, ...,  0.01707031,\n",
       "        0.01804688,  0.01902344])"
      ]
     },
     "execution_count": 13,
     "metadata": {},
     "output_type": "execute_result"
    }
   ],
   "source": [
    "dt = 1/sampling_frequency\n",
    "np.arange(start_time,start_time+2048*dt,dt)"
   ]
  },
  {
   "cell_type": "code",
   "execution_count": 11,
   "metadata": {},
   "outputs": [
    {
     "data": {
      "text/plain": [
       "array([-1.98      , -1.97902344, -1.97804687, ...,  0.01707031,\n",
       "        0.01804688,  0.01902344])"
      ]
     },
     "execution_count": 11,
     "metadata": {},
     "output_type": "execute_result"
    }
   ],
   "source": [
    "test"
   ]
  },
  {
   "cell_type": "code",
   "execution_count": 15,
   "metadata": {},
   "outputs": [],
   "source": [
    "test2 = H1.strain_data.time_array"
   ]
  },
  {
   "cell_type": "code",
   "execution_count": 16,
   "metadata": {},
   "outputs": [
    {
     "data": {
      "text/plain": [
       "array([-1.98      , -1.97902344, -1.97804687, ...,  0.01707031,\n",
       "        0.01804688,  0.01902344])"
      ]
     },
     "execution_count": 16,
     "metadata": {},
     "output_type": "execute_result"
    }
   ],
   "source": [
    "test"
   ]
  },
  {
   "cell_type": "code",
   "execution_count": null,
   "metadata": {},
   "outputs": [],
   "source": []
  },
  {
   "cell_type": "code",
   "execution_count": 43,
   "metadata": {},
   "outputs": [
    {
     "data": {
      "text/plain": [
       "array([0.000e+00, 5.000e-01, 1.000e+00, ..., 5.110e+02,\n",
       "       5.115e+02, 5.120e+02])"
      ]
     },
     "execution_count": 43,
     "metadata": {},
     "output_type": "execute_result"
    }
   ],
   "source": [
    "#frequency domain\n",
    "H1.strain_data.frequency_array"
   ]
  },
  {
   "cell_type": "code",
   "execution_count": 49,
   "metadata": {},
   "outputs": [
    {
     "data": {
      "text/plain": [
       "array([0.000e+00, 5.000e-01, 1.000e+00, ..., 5.110e+02,\n",
       "       5.115e+02, 5.120e+02])"
      ]
     },
     "execution_count": 49,
     "metadata": {},
     "output_type": "execute_result"
    }
   ],
   "source": [
    "#time domain\n",
    "H1.strain_data.frequency_array"
   ]
  },
  {
   "cell_type": "code",
   "execution_count": 21,
   "metadata": {
    "scrolled": true
   },
   "outputs": [],
   "source": [
    "#frequency domain\n",
    "test1 = H1_injection[\"plus\"]"
   ]
  },
  {
   "cell_type": "code",
   "execution_count": 31,
   "metadata": {},
   "outputs": [],
   "source": [
    "# gwpy fft frequency domain\n",
    "test3 = H1_injection[\"plus\"]"
   ]
  },
  {
   "cell_type": "code",
   "execution_count": 25,
   "metadata": {},
   "outputs": [],
   "source": [
    "#time domain\n",
    "test2 = H1_injection[\"plus\"]"
   ]
  },
  {
   "cell_type": "code",
   "execution_count": 33,
   "metadata": {},
   "outputs": [
    {
     "data": {
      "text/plain": [
       "array([1.80360156e-25+0.00000000e+00j,\n",
       "       3.46942808e-25+3.84932968e-26j,\n",
       "       3.45881746e-25+5.41421062e-26j, ...,\n",
       "       5.04840882e-25-5.39860750e-26j,\n",
       "       5.07309793e-25-2.70419804e-26j,\n",
       "       5.08133623e-25+0.00000000e+00j])"
      ]
     },
     "execution_count": 33,
     "metadata": {},
     "output_type": "execute_result"
    }
   ],
   "source": [
    "test3"
   ]
  },
  {
   "cell_type": "code",
   "execution_count": 35,
   "metadata": {},
   "outputs": [
    {
     "data": {
      "text/plain": [
       "array([ 0.00000000e+00+0.00000000e+00j,\n",
       "        9.18354962e-41-1.30865582e-39j,\n",
       "        1.14794370e-39+2.18109303e-40j, ...,\n",
       "       -8.26519465e-40-3.55862548e-40j,\n",
       "        5.51012977e-40+4.01780296e-40j,\n",
       "        0.00000000e+00+0.00000000e+00j])"
      ]
     },
     "execution_count": 35,
     "metadata": {},
     "output_type": "execute_result"
    }
   ],
   "source": [
    "test1 - test2"
   ]
  },
  {
   "cell_type": "code",
   "execution_count": 34,
   "metadata": {},
   "outputs": [
    {
     "data": {
      "text/plain": [
       "(-1.8036015561509885e-25+0j)"
      ]
     },
     "execution_count": 34,
     "metadata": {},
     "output_type": "execute_result"
    }
   ],
   "source": [
    "np.sum(test3 - test2)"
   ]
  },
  {
   "cell_type": "code",
   "execution_count": 45,
   "metadata": {},
   "outputs": [],
   "source": [
    "np.save('frequency_domain_strain_1', H1.strain_data.frequency_domain_strain)"
   ]
  },
  {
   "cell_type": "code",
   "execution_count": 28,
   "metadata": {},
   "outputs": [],
   "source": [
    "b = np.load('time_array.npy')"
   ]
  },
  {
   "cell_type": "code",
   "execution_count": 29,
   "metadata": {},
   "outputs": [
    {
     "data": {
      "text/plain": [
       "array([-1.98      , -1.97902344, -1.97804687, ...,  0.01707031,\n",
       "        0.01804688,  0.01902344])"
      ]
     },
     "execution_count": 29,
     "metadata": {},
     "output_type": "execute_result"
    }
   ],
   "source": [
    "b"
   ]
  },
  {
   "cell_type": "code",
   "execution_count": 36,
   "metadata": {},
   "outputs": [
    {
     "data": {
      "text/plain": [
       "array([-1.98      , -1.97902344, -1.97804687, ...,  0.01707031,\n",
       "        0.01804688,  0.01902344])"
      ]
     },
     "execution_count": 36,
     "metadata": {},
     "output_type": "execute_result"
    }
   ],
   "source": [
    "np.arange(start_time, start_time+duration, 1/sampling_frequency)"
   ]
  },
  {
   "cell_type": "code",
   "execution_count": 35,
   "metadata": {},
   "outputs": [
    {
     "data": {
      "text/plain": [
       "-1.9790234375"
      ]
     },
     "execution_count": 35,
     "metadata": {},
     "output_type": "execute_result"
    }
   ],
   "source": [
    "1/sampling_frequency+start_time"
   ]
  },
  {
   "cell_type": "code",
   "execution_count": 37,
   "metadata": {},
   "outputs": [
    {
     "data": {
      "text/plain": [
       "0.020000000000000018"
      ]
     },
     "execution_count": 37,
     "metadata": {},
     "output_type": "execute_result"
    }
   ],
   "source": [
    "-1.98+2."
   ]
  },
  {
   "cell_type": "code",
   "execution_count": null,
   "metadata": {},
   "outputs": [],
   "source": [
    "#print(times[0],times[-1],times[1]-times[0],len(times))\n",
    "#print(freq_array[0],freq_array[-1],freq_array[1]-freq_array[0],len(freq_array))\n",
    "-1.98 0.019023437500000018 0.0009765625 2048\n",
    "0.0 512.0 0.5 1025"
   ]
  },
  {
   "cell_type": "code",
   "execution_count": null,
   "metadata": {},
   "outputs": [],
   "source": []
  },
  {
   "cell_type": "code",
   "execution_count": null,
   "metadata": {},
   "outputs": [],
   "source": []
  },
  {
   "cell_type": "code",
   "execution_count": null,
   "metadata": {},
   "outputs": [],
   "source": []
  },
  {
   "cell_type": "code",
   "execution_count": null,
   "metadata": {},
   "outputs": [],
   "source": []
  },
  {
   "cell_type": "code",
   "execution_count": null,
   "metadata": {},
   "outputs": [],
   "source": []
  },
  {
   "cell_type": "code",
   "execution_count": null,
   "metadata": {},
   "outputs": [],
   "source": []
  },
  {
   "cell_type": "code",
   "execution_count": null,
   "metadata": {},
   "outputs": [],
   "source": []
  },
  {
   "cell_type": "code",
   "execution_count": null,
   "metadata": {},
   "outputs": [],
   "source": []
  },
  {
   "cell_type": "code",
   "execution_count": null,
   "metadata": {},
   "outputs": [],
   "source": []
  },
  {
   "cell_type": "code",
   "execution_count": null,
   "metadata": {},
   "outputs": [],
   "source": []
  },
  {
   "cell_type": "code",
   "execution_count": null,
   "metadata": {},
   "outputs": [],
   "source": []
  },
  {
   "cell_type": "code",
   "execution_count": null,
   "metadata": {},
   "outputs": [],
   "source": []
  },
  {
   "cell_type": "code",
   "execution_count": null,
   "metadata": {},
   "outputs": [],
   "source": []
  },
  {
   "cell_type": "code",
   "execution_count": null,
   "metadata": {},
   "outputs": [],
   "source": []
  },
  {
   "cell_type": "code",
   "execution_count": null,
   "metadata": {},
   "outputs": [],
   "source": []
  },
  {
   "cell_type": "code",
   "execution_count": null,
   "metadata": {},
   "outputs": [],
   "source": []
  },
  {
   "cell_type": "code",
   "execution_count": null,
   "metadata": {},
   "outputs": [],
   "source": []
  },
  {
   "cell_type": "code",
   "execution_count": null,
   "metadata": {},
   "outputs": [],
   "source": []
  },
  {
   "cell_type": "code",
   "execution_count": null,
   "metadata": {},
   "outputs": [],
   "source": []
  },
  {
   "cell_type": "code",
   "execution_count": null,
   "metadata": {},
   "outputs": [],
   "source": []
  },
  {
   "cell_type": "code",
   "execution_count": null,
   "metadata": {},
   "outputs": [],
   "source": []
  },
  {
   "cell_type": "code",
   "execution_count": null,
   "metadata": {},
   "outputs": [],
   "source": []
  }
 ],
 "metadata": {
  "kernelspec": {
   "display_name": "Python 3",
   "language": "python",
   "name": "python3"
  },
  "language_info": {
   "codemirror_mode": {
    "name": "ipython",
    "version": 3
   },
   "file_extension": ".py",
   "mimetype": "text/x-python",
   "name": "python",
   "nbconvert_exporter": "python",
   "pygments_lexer": "ipython3",
   "version": "3.7.7"
  }
 },
 "nbformat": 4,
 "nbformat_minor": 4
}
