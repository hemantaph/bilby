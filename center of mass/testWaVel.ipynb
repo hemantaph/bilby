{
 "cells": [
  {
   "cell_type": "code",
   "execution_count": 1,
   "metadata": {},
   "outputs": [
    {
     "name": "stderr",
     "output_type": "stream",
     "text": [
      "/home/hemantakumar.phurailatpam/anaconda3/envs/bilby/lib/python3.7/site-packages/gwtools/rotations.py:63: UserWarning: Could not import GWFrames, needed for rotations module\n",
      "  _warnings.warn(\"Could not import GWFrames, needed for rotations module\")\n",
      "/home/hemantakumar.phurailatpam/anaconda3/envs/bilby/lib/python3.7/site-packages/gwtools/__init__.py:11: UserWarning: Could not import rotations, decompositions, or fitfuncs. These are not needed by GWSurrogate.\n",
      "  _warnings.warn(\"Could not import rotations, decompositions, or fitfuncs. These are not needed by GWSurrogate.\")\n"
     ]
    },
    {
     "name": "stdout",
     "output_type": "stream",
     "text": [
      "setting __package__ to gwsurrogate.new so relative imports work\n",
      "__name__ = gwsurrogate.new.spline_evaluation\n",
      "__package__= gwsurrogate.new\n",
      "setting __package__ to gwsurrogate.new so relative imports work\n",
      "setting __package__ to gwsurrogate.new so relative imports work\n"
     ]
    }
   ],
   "source": [
    "import gwsurrogate\n",
    "import numpy as np\n",
    "\n",
    "from math import cos\n",
    "from math import sin\n",
    "from math import sqrt\n",
    "from math import factorial\n",
    "from math import pi\n",
    "from math import e\n",
    "from numpy import conj\n",
    "\n",
    "import bilby\n",
    "import gwpy\n",
    "import WaVel\n",
    "\n",
    "import matplotlib.pyplot as plt\n",
    "%matplotlib inline\n",
    "\n",
    "# Define constants: speed of light (in m/s), gravitational constant (in m^3/(kg*s^2)), solar mass (in kg) and megaparsec (in m)\n",
    "c = 2.99e8\n",
    "G = 6.67e-11\n",
    "M_sun = 1.99e30\n",
    "Mpc = 3.09e22"
   ]
  },
  {
   "cell_type": "code",
   "execution_count": 2,
   "metadata": {},
   "outputs": [
    {
     "name": "stdout",
     "output_type": "stream",
     "text": [
      "Loaded NRHybSur3dq8 model\n"
     ]
    }
   ],
   "source": [
    "import com_fdomain.functions as func"
   ]
  },
  {
   "cell_type": "code",
   "execution_count": 3,
   "metadata": {},
   "outputs": [],
   "source": [
    "moving_bbh = func.moving_bbh"
   ]
  },
  {
   "cell_type": "code",
   "execution_count": 11,
   "metadata": {},
   "outputs": [
    {
     "data": {
      "text/plain": [
       "1126259598.02"
      ]
     },
     "execution_count": 11,
     "metadata": {},
     "output_type": "execute_result"
    }
   ],
   "source": [
    "1126259600.-4.0+0.02+2.0"
   ]
  },
  {
   "cell_type": "code",
   "execution_count": 5,
   "metadata": {},
   "outputs": [
    {
     "name": "stdout",
     "output_type": "stream",
     "text": [
      "Loaded NRHybSur3dq8 model\n"
     ]
    }
   ],
   "source": [
    "# Define labels, sampling frequency and times\n",
    "outdir = 'outdir'\n",
    "label = 'moving_bbh'\n",
    "sampling_frequency = 1024\n",
    "duration = 4.0\n",
    "geocent_time = 1126259600.\n",
    "start_time = geocent_time - duration + 0.02\n",
    "dt = 1/sampling_frequency\n",
    "#frequency domain\n",
    "# Load the surrogate model\n",
    "surrogate = gwsurrogate.LoadSurrogate('NRHybSur3dq8')\n"
   ]
  },
  {
   "cell_type": "code",
   "execution_count": 9,
   "metadata": {},
   "outputs": [],
   "source": [
    "# using gwpy time-series fft\n",
    "#frequency domain\n",
    "# Define the time-domain model\n",
    "dt = 1/sampling_frequency\n",
    "time_array_ = np.arange(0.0-duration+0.02,0.02,dt)\n",
    "def moving_bbh(freq_array, mass, ratio, distance, theta, phi, speed, v_the, v_phi,**kwargs):\n",
    "    #len(times)=duration*sampling_frequency\n",
    "    times = time_array_\n",
    "    \n",
    "    arg_ = {'surrogate_':surrogate,'M_':mass, 'q_':ratio, 'dis_':distance, 'the_':theta, 'phi_':phi, 'v_mag_':speed, 'v_the_':v_the, 'v_phi_':v_phi, 'times_':times, **kwargs}\n",
    "    fplus = WaVel.Fn(**arg_)\n",
    "    h_plus = gwpy.timeseries.TimeSeries(fplus.WaVe()[0], t0=start_time,\\\n",
    "                                        dt=dt, name='Strain', channel=None)\n",
    "    h_cross = gwpy.timeseries.TimeSeries(fplus.WaVe()[1], t0=start_time,\\\n",
    "                                        dt=dt, name='Strain', channel=None)\n",
    "    \n",
    "    fplus = h_plus.fft()\n",
    "    fcross = h_cross.fft()\n",
    "    \n",
    "    print(times[0],times[-1],times[1]-times[0],len(times))\n",
    "    print(freq_array[0],freq_array[-1],freq_array[1]-freq_array[0],len(freq_array))\n",
    "\n",
    "    return {'plus': fplus.value, 'cross': fcross.value}"
   ]
  },
  {
   "cell_type": "code",
   "execution_count": 17,
   "metadata": {},
   "outputs": [],
   "source": [
    "#frequency domain\n",
    "# Define the time-domain model\n",
    "\n",
    "time_array_ = np.arange(start_time,start_time+duration,dt)\n",
    "def moving_bbh(freq_array, mass, ratio, distance, theta, phi, speed, v_the, v_phi,**kwargs):\n",
    "    #len(times)=duration*sampling_frequency\n",
    "    times = time_array_\n",
    "    \n",
    "    arg_ = {'surrogate_':surrogate,'M_':mass, 'q_':ratio, 'dis_':distance, 'the_':theta, 'phi_':phi, 'v_mag_':speed, 'v_the_':v_the, 'v_phi_':v_phi, 'times_':times, **kwargs}\n",
    "    fplus = WaVel.Fn(**arg_)\n",
    "    h_plus = fplus.WaVe()[0]\n",
    "    h_cross = fplus.WaVe()[1]\n",
    "    \n",
    "    n = len(times)\n",
    "    upto = int(n/2)+1\n",
    "    freqs = np.fft.fftfreq(n)\n",
    "    fplus = np.fft.fft(h_plus)\n",
    "    fplus = 2*(fplus/n)\n",
    "    fplus = fplus[:upto]\n",
    "   \n",
    "    fcross = np.fft.fft(h_cross)\n",
    "    fcross = 2*(fcross/n)\n",
    "    fcross = fcross[:upto]\n",
    "    \n",
    "    print(times[0],times[-1],times[1]-times[0],len(times))\n",
    "    print(freq_array[0],freq_array[-1],freq_array[1]-freq_array[0],len(freq_array))\n",
    "\n",
    "    return {'plus': fplus, 'cross': fcross}"
   ]
  },
  {
   "cell_type": "code",
   "execution_count": 3,
   "metadata": {},
   "outputs": [],
   "source": [
    "#time domian\n",
    "# Define the time-domain model\n",
    "def moving_bbh(times, mass, ratio, distance, theta, phi, speed, v_the, v_phi,**kwargs):\n",
    "    \n",
    "    times = times - geocent_time\n",
    "    arg_ = {'surrogate_':surrogate,'M_':mass, 'q_':ratio, 'dis_':distance, 'the_':theta, 'phi_':phi, 'v_mag_':speed, 'v_the_':v_the, 'v_phi_':v_phi, 'times_':times, **kwargs}\n",
    "    fplus = WaVel.Fn(**arg_)\n",
    "    h_plus = fplus.WaVe()[0]\n",
    "    h_cross = fplus.WaVe()[1]\n",
    "    \n",
    "    #print(times[0],times[-1],times[1]-times[0],len(times))\n",
    "    \n",
    "    return {'plus': h_plus, 'cross': h_cross}"
   ]
  },
  {
   "cell_type": "code",
   "execution_count": 19,
   "metadata": {},
   "outputs": [
    {
     "name": "stdout",
     "output_type": "stream",
     "text": [
      "-3.0 0.01953125 0.0009765625 3093\n",
      "1180002599.02 1180002601.0190234 0.0009765625 2048\n"
     ]
    }
   ],
   "source": [
    "ff = moving_bbh(np.arange(start_time,start_time+duration,dt),650,6,300,45,45,3000,0,0) "
   ]
  },
  {
   "cell_type": "code",
   "execution_count": 5,
   "metadata": {},
   "outputs": [
    {
     "data": {
      "text/plain": [
       "array([3.56246332e-21, 3.58546868e-21, 3.60695531e-21, ...,\n",
       "       3.46360409e-21, 2.00221994e-21, 4.76766657e-22])"
      ]
     },
     "execution_count": 5,
     "metadata": {},
     "output_type": "execute_result"
    }
   ],
   "source": [
    "ff['plus']"
   ]
  },
  {
   "cell_type": "code",
   "execution_count": 7,
   "metadata": {},
   "outputs": [
    {
     "data": {
      "text/plain": [
       "array([-1000.,  -900.,  -800.,  -700.,  -600.,  -500.,  -400.,\n",
       "        -300.,  -200.,  -100.])"
      ]
     },
     "execution_count": 7,
     "metadata": {},
     "output_type": "execute_result"
    }
   ],
   "source": [
    "np.linspace(-1.98,0.01902344,1)"
   ]
  },
  {
   "cell_type": "code",
   "execution_count": 10,
   "metadata": {},
   "outputs": [
    {
     "name": "stderr",
     "output_type": "stream",
     "text": [
      "WARNING: UnitsWarning: dimensionless is not a valid unit. Mathematical operations using this unit should work, but conversions to other units will not. [gwpy.detector.units]\n"
     ]
    },
    {
     "name": "stdout",
     "output_type": "stream",
     "text": [
      "-3.98 0.019023437500000018 0.0009765625 4096\n",
      "1180002597.02 1180002601.0190234 0.0009765625 4096\n",
      "Execution took 2.0914\n"
     ]
    }
   ],
   "source": [
    "#for 10 time points\n",
    "import time \n",
    "\n",
    "t0 = time.time()\n",
    "ff = moving_bbh(np.arange(start_time,start_time+duration,dt),650,6,300,45,45,3000,0,0) \n",
    "\n",
    "t1 = time.time()\n",
    "print('Execution took {:.4f}'.format(t1 - t0))"
   ]
  },
  {
   "cell_type": "code",
   "execution_count": 3,
   "metadata": {},
   "outputs": [
    {
     "name": "stdout",
     "output_type": "stream",
     "text": [
      "Execution took 1.3994\n"
     ]
    }
   ],
   "source": [
    "import time \n",
    "\n",
    "t0 = time.time()\n",
    "ff = com_fdomain.functions.moving_bbh([-100,-20],650,6,300,45,45,3000,0,0) \n",
    "\n",
    "t1 = time.time()\n",
    "print('Execution took {:.4f}'.format(t1 - t0))"
   ]
  },
  {
   "cell_type": "code",
   "execution_count": 6,
   "metadata": {},
   "outputs": [
    {
     "name": "stderr",
     "output_type": "stream",
     "text": [
      "05:57 bilby INFO    : Waveform generator initiated with\n",
      "  frequency_domain_source_model: com_fdomain.functions.moving_bbh\n",
      "  time_domain_source_model: None\n",
      "  parameter_conversion: bilby.gw.conversion.convert_to_lal_binary_black_hole_parameters\n",
      "/home/hemantakumar.phurailatpam/anaconda3/envs/bilby/lib/python3.7/site-packages/bilby/gw/detector/psd.py:356: RuntimeWarning: invalid value encountered in multiply\n",
      "  frequency_domain_strain = self.__power_spectral_density_interpolated(frequencies) ** 0.5 * white_noise\n",
      "05:57 bilby INFO    : Injected signal in H1:\n",
      "05:57 bilby INFO    :   optimal SNR = 14.65\n",
      "05:57 bilby INFO    :   matched filter SNR = 12.81-0.27j\n",
      "05:57 bilby INFO    :   total_mass = 50\n",
      "05:57 bilby INFO    :   mass_ratio = 6\n",
      "05:57 bilby INFO    :   luminosity_distance = 300\n",
      "05:57 bilby INFO    :   theta_jn = 45\n",
      "05:57 bilby INFO    :   psi = 45\n",
      "05:57 bilby INFO    :   speed = 3000\n",
      "05:57 bilby INFO    :   v_the = 0\n",
      "05:57 bilby INFO    :   v_phi = 0\n",
      "05:57 bilby INFO    :   ra = 0\n",
      "05:57 bilby INFO    :   dec = 0\n",
      "05:57 bilby INFO    :   geocent_time = 1126259600.0\n",
      "05:57 bilby INFO    : Injected signal in L1:\n",
      "05:57 bilby INFO    :   optimal SNR = 14.22\n",
      "05:57 bilby INFO    :   matched filter SNR = 15.22+1.28j\n",
      "05:57 bilby INFO    :   total_mass = 50\n",
      "05:57 bilby INFO    :   mass_ratio = 6\n",
      "05:57 bilby INFO    :   luminosity_distance = 300\n",
      "05:57 bilby INFO    :   theta_jn = 45\n",
      "05:57 bilby INFO    :   psi = 45\n",
      "05:57 bilby INFO    :   speed = 3000\n",
      "05:57 bilby INFO    :   v_the = 0\n",
      "05:57 bilby INFO    :   v_phi = 0\n",
      "05:57 bilby INFO    :   ra = 0\n",
      "05:57 bilby INFO    :   dec = 0\n",
      "05:57 bilby INFO    :   geocent_time = 1126259600.0\n"
     ]
    },
    {
     "data": {
      "text/plain": [
       "[{'plus': array([8.73192938e-26+0.00000000e+00j,\n",
       "         1.72589534e-25+1.35055739e-26j,\n",
       "         1.69317457e-25+2.30066864e-26j, ...,\n",
       "         1.24835712e-25-5.07044882e-27j,\n",
       "         1.24948497e-25-2.53642698e-27j,\n",
       "         1.24986106e-25+0.00000000e+00j]),\n",
       "  'cross': array([-3.37095088e-25+0.00000000e+00j,\n",
       "         -6.78477448e-25+1.02805674e-26j,\n",
       "         -6.86546299e-25+1.34733553e-26j, ...,\n",
       "          5.39768679e-26-3.76215350e-27j,\n",
       "          5.40780835e-26-1.88220700e-27j,\n",
       "          5.41118355e-26+0.00000000e+00j])},\n",
       " {'plus': array([8.73192938e-26+0.00000000e+00j,\n",
       "         1.72589534e-25+1.35055739e-26j,\n",
       "         1.69317457e-25+2.30066864e-26j, ...,\n",
       "         1.24835712e-25-5.07044882e-27j,\n",
       "         1.24948497e-25-2.53642698e-27j,\n",
       "         1.24986106e-25+0.00000000e+00j]),\n",
       "  'cross': array([-3.37095088e-25+0.00000000e+00j,\n",
       "         -6.78477448e-25+1.02805674e-26j,\n",
       "         -6.86546299e-25+1.34733553e-26j, ...,\n",
       "          5.39768679e-26-3.76215350e-27j,\n",
       "          5.40780835e-26-1.88220700e-27j,\n",
       "          5.41118355e-26+0.00000000e+00j])}]"
      ]
     },
     "execution_count": 6,
     "metadata": {},
     "output_type": "execute_result"
    }
   ],
   "source": [
    "#custom package frequency domain\n",
    "injection_parameters = dict(total_mass=50, mass_ratio=6, luminosity_distance=300, theta_jn=45, psi=45, speed=3000, v_the=0, v_phi=0, ra=0, dec=0, geocent_time=geocent_time)\n",
    "\n",
    "waveform_generator = bilby.gw.waveform_generator.WaveformGenerator(sampling_frequency=sampling_frequency, duration=duration, frequency_domain_source_model=moving_bbh, start_time=start_time)\n",
    "\n",
    "ifos = bilby.gw.detector.InterferometerList(['H1', 'L1'])\n",
    "ifos.set_strain_data_from_power_spectral_densities(sampling_frequency=sampling_frequency, duration=duration, start_time=start_time)\n",
    "ifos.inject_signal(waveform_generator=waveform_generator, parameters=injection_parameters)"
   ]
  },
  {
   "cell_type": "code",
   "execution_count": 12,
   "metadata": {},
   "outputs": [
    {
     "name": "stderr",
     "output_type": "stream",
     "text": [
      "05:56 bilby INFO    : Waveform generator initiated with\n",
      "  frequency_domain_source_model: com_fdomain.functions.moving_bbh\n",
      "  time_domain_source_model: None\n",
      "  parameter_conversion: bilby.gw.conversion.convert_to_lal_binary_black_hole_parameters\n",
      "/home/hemantakumar.phurailatpam/anaconda3/envs/bilby/lib/python3.7/site-packages/bilby/gw/detector/psd.py:356: RuntimeWarning: invalid value encountered in multiply\n",
      "  frequency_domain_strain = self.__power_spectral_density_interpolated(frequencies) ** 0.5 * white_noise\n"
     ]
    },
    {
     "ename": "KeyError",
     "evalue": "'total_mass'",
     "output_type": "error",
     "traceback": [
      "\u001b[0;31m---------------------------------------------------------------------------\u001b[0m",
      "\u001b[0;31mKeyError\u001b[0m                                  Traceback (most recent call last)",
      "\u001b[0;32m<ipython-input-12-a6ab6750d2d3>\u001b[0m in \u001b[0;36m<module>\u001b[0;34m\u001b[0m\n\u001b[1;32m      6\u001b[0m \u001b[0mifos\u001b[0m \u001b[0;34m=\u001b[0m \u001b[0mbilby\u001b[0m\u001b[0;34m.\u001b[0m\u001b[0mgw\u001b[0m\u001b[0;34m.\u001b[0m\u001b[0mdetector\u001b[0m\u001b[0;34m.\u001b[0m\u001b[0mInterferometerList\u001b[0m\u001b[0;34m(\u001b[0m\u001b[0;34m[\u001b[0m\u001b[0;34m'H1'\u001b[0m\u001b[0;34m,\u001b[0m \u001b[0;34m'L1'\u001b[0m\u001b[0;34m,\u001b[0m \u001b[0;34m'V1'\u001b[0m\u001b[0;34m]\u001b[0m\u001b[0;34m)\u001b[0m\u001b[0;34m\u001b[0m\u001b[0;34m\u001b[0m\u001b[0m\n\u001b[1;32m      7\u001b[0m \u001b[0mifos\u001b[0m\u001b[0;34m.\u001b[0m\u001b[0mset_strain_data_from_power_spectral_densities\u001b[0m\u001b[0;34m(\u001b[0m\u001b[0msampling_frequency\u001b[0m\u001b[0;34m=\u001b[0m\u001b[0msampling_frequency\u001b[0m\u001b[0;34m,\u001b[0m \u001b[0mduration\u001b[0m\u001b[0;34m=\u001b[0m\u001b[0mduration\u001b[0m\u001b[0;34m,\u001b[0m \u001b[0mstart_time\u001b[0m\u001b[0;34m=\u001b[0m\u001b[0mstart_time\u001b[0m\u001b[0;34m)\u001b[0m\u001b[0;34m\u001b[0m\u001b[0;34m\u001b[0m\u001b[0m\n\u001b[0;32m----> 8\u001b[0;31m \u001b[0mifos\u001b[0m\u001b[0;34m.\u001b[0m\u001b[0minject_signal\u001b[0m\u001b[0;34m(\u001b[0m\u001b[0mwaveform_generator\u001b[0m\u001b[0;34m=\u001b[0m\u001b[0mwaveform_generator\u001b[0m\u001b[0;34m,\u001b[0m \u001b[0mparameters\u001b[0m\u001b[0;34m=\u001b[0m\u001b[0minjection_parameters\u001b[0m\u001b[0;34m)\u001b[0m\u001b[0;34m\u001b[0m\u001b[0;34m\u001b[0m\u001b[0m\n\u001b[0m",
      "\u001b[0;32m~/anaconda3/envs/bilby/lib/python3.7/site-packages/bilby/gw/detector/networks.py\u001b[0m in \u001b[0;36minject_signal\u001b[0;34m(self, parameters, injection_polarizations, waveform_generator)\u001b[0m\n\u001b[1;32m    143\u001b[0m             \u001b[0;32mif\u001b[0m \u001b[0mwaveform_generator\u001b[0m \u001b[0;32mis\u001b[0m \u001b[0;32mnot\u001b[0m \u001b[0;32mNone\u001b[0m\u001b[0;34m:\u001b[0m\u001b[0;34m\u001b[0m\u001b[0;34m\u001b[0m\u001b[0m\n\u001b[1;32m    144\u001b[0m                 \u001b[0minjection_polarizations\u001b[0m \u001b[0;34m=\u001b[0m\u001b[0;31m \u001b[0m\u001b[0;31m\\\u001b[0m\u001b[0;34m\u001b[0m\u001b[0;34m\u001b[0m\u001b[0m\n\u001b[0;32m--> 145\u001b[0;31m                     \u001b[0mwaveform_generator\u001b[0m\u001b[0;34m.\u001b[0m\u001b[0mfrequency_domain_strain\u001b[0m\u001b[0;34m(\u001b[0m\u001b[0mparameters\u001b[0m\u001b[0;34m)\u001b[0m\u001b[0;34m\u001b[0m\u001b[0;34m\u001b[0m\u001b[0m\n\u001b[0m\u001b[1;32m    146\u001b[0m             \u001b[0;32melse\u001b[0m\u001b[0;34m:\u001b[0m\u001b[0;34m\u001b[0m\u001b[0;34m\u001b[0m\u001b[0m\n\u001b[1;32m    147\u001b[0m                 raise ValueError(\n",
      "\u001b[0;32m~/anaconda3/envs/bilby/lib/python3.7/site-packages/bilby/gw/waveform_generator.py\u001b[0m in \u001b[0;36mfrequency_domain_strain\u001b[0;34m(self, parameters)\u001b[0m\n\u001b[1;32m    127\u001b[0m                                       \u001b[0mtransformation_function\u001b[0m\u001b[0;34m=\u001b[0m\u001b[0mutils\u001b[0m\u001b[0;34m.\u001b[0m\u001b[0mnfft\u001b[0m\u001b[0;34m,\u001b[0m\u001b[0;34m\u001b[0m\u001b[0;34m\u001b[0m\u001b[0m\n\u001b[1;32m    128\u001b[0m                                       \u001b[0mtransformed_model\u001b[0m\u001b[0;34m=\u001b[0m\u001b[0mself\u001b[0m\u001b[0;34m.\u001b[0m\u001b[0mtime_domain_source_model\u001b[0m\u001b[0;34m,\u001b[0m\u001b[0;34m\u001b[0m\u001b[0;34m\u001b[0m\u001b[0m\n\u001b[0;32m--> 129\u001b[0;31m                                       transformed_model_data_points=self.time_array)\n\u001b[0m\u001b[1;32m    130\u001b[0m \u001b[0;34m\u001b[0m\u001b[0m\n\u001b[1;32m    131\u001b[0m     \u001b[0;32mdef\u001b[0m \u001b[0mtime_domain_strain\u001b[0m\u001b[0;34m(\u001b[0m\u001b[0mself\u001b[0m\u001b[0;34m,\u001b[0m \u001b[0mparameters\u001b[0m\u001b[0;34m=\u001b[0m\u001b[0;32mNone\u001b[0m\u001b[0;34m)\u001b[0m\u001b[0;34m:\u001b[0m\u001b[0;34m\u001b[0m\u001b[0;34m\u001b[0m\u001b[0m\n",
      "\u001b[0;32m~/anaconda3/envs/bilby/lib/python3.7/site-packages/bilby/gw/waveform_generator.py\u001b[0m in \u001b[0;36m_calculate_strain\u001b[0;34m(self, model, model_data_points, transformation_function, transformed_model, transformed_model_data_points, parameters)\u001b[0m\n\u001b[1;32m    162\u001b[0m                           transformed_model_data_points, parameters):\n\u001b[1;32m    163\u001b[0m         \u001b[0;32mif\u001b[0m \u001b[0mparameters\u001b[0m \u001b[0;32mis\u001b[0m \u001b[0;32mnot\u001b[0m \u001b[0;32mNone\u001b[0m\u001b[0;34m:\u001b[0m\u001b[0;34m\u001b[0m\u001b[0;34m\u001b[0m\u001b[0m\n\u001b[0;32m--> 164\u001b[0;31m             \u001b[0mself\u001b[0m\u001b[0;34m.\u001b[0m\u001b[0mparameters\u001b[0m \u001b[0;34m=\u001b[0m \u001b[0mparameters\u001b[0m\u001b[0;34m\u001b[0m\u001b[0;34m\u001b[0m\u001b[0m\n\u001b[0m\u001b[1;32m    165\u001b[0m         \u001b[0;32mif\u001b[0m \u001b[0mself\u001b[0m\u001b[0;34m.\u001b[0m\u001b[0mparameters\u001b[0m \u001b[0;34m==\u001b[0m \u001b[0mself\u001b[0m\u001b[0;34m.\u001b[0m\u001b[0m_cache\u001b[0m\u001b[0;34m[\u001b[0m\u001b[0;34m'parameters'\u001b[0m\u001b[0;34m]\u001b[0m \u001b[0;32mand\u001b[0m \u001b[0mself\u001b[0m\u001b[0;34m.\u001b[0m\u001b[0m_cache\u001b[0m\u001b[0;34m[\u001b[0m\u001b[0;34m'model'\u001b[0m\u001b[0;34m]\u001b[0m \u001b[0;34m==\u001b[0m \u001b[0mmodel\u001b[0m \u001b[0;32mand\u001b[0m\u001b[0;31m \u001b[0m\u001b[0;31m\\\u001b[0m\u001b[0;34m\u001b[0m\u001b[0;34m\u001b[0m\u001b[0m\n\u001b[1;32m    166\u001b[0m                 \u001b[0mself\u001b[0m\u001b[0;34m.\u001b[0m\u001b[0m_cache\u001b[0m\u001b[0;34m[\u001b[0m\u001b[0;34m'transformed_model'\u001b[0m\u001b[0;34m]\u001b[0m \u001b[0;34m==\u001b[0m \u001b[0mtransformed_model\u001b[0m\u001b[0;34m:\u001b[0m\u001b[0;34m\u001b[0m\u001b[0;34m\u001b[0m\u001b[0m\n",
      "\u001b[0;32m~/anaconda3/envs/bilby/lib/python3.7/site-packages/bilby/gw/waveform_generator.py\u001b[0m in \u001b[0;36mparameters\u001b[0;34m(self, parameters)\u001b[0m\n\u001b[1;32m    228\u001b[0m         for key in self.source_parameter_keys.symmetric_difference(\n\u001b[1;32m    229\u001b[0m                 new_parameters):\n\u001b[0;32m--> 230\u001b[0;31m             \u001b[0mnew_parameters\u001b[0m\u001b[0;34m.\u001b[0m\u001b[0mpop\u001b[0m\u001b[0;34m(\u001b[0m\u001b[0mkey\u001b[0m\u001b[0;34m)\u001b[0m\u001b[0;34m\u001b[0m\u001b[0;34m\u001b[0m\u001b[0m\n\u001b[0m\u001b[1;32m    231\u001b[0m         \u001b[0mself\u001b[0m\u001b[0;34m.\u001b[0m\u001b[0m__parameters\u001b[0m \u001b[0;34m=\u001b[0m \u001b[0mnew_parameters\u001b[0m\u001b[0;34m\u001b[0m\u001b[0;34m\u001b[0m\u001b[0m\n\u001b[1;32m    232\u001b[0m         \u001b[0mself\u001b[0m\u001b[0;34m.\u001b[0m\u001b[0m__parameters\u001b[0m\u001b[0;34m.\u001b[0m\u001b[0mupdate\u001b[0m\u001b[0;34m(\u001b[0m\u001b[0mself\u001b[0m\u001b[0;34m.\u001b[0m\u001b[0mwaveform_arguments\u001b[0m\u001b[0;34m)\u001b[0m\u001b[0;34m\u001b[0m\u001b[0;34m\u001b[0m\u001b[0m\n",
      "\u001b[0;31mKeyError\u001b[0m: 'total_mass'"
     ]
    }
   ],
   "source": [
    "#frequency domain\n",
    "injection_parameters = dict(mass=50, ratio=6, distance=300, theta=45, phi=45, speed=3000, v_the=0, v_phi=0, ra=0, dec=0, psi=0, geocent_time=geocent_time)\n",
    "\n",
    "waveform_generator = bilby.gw.waveform_generator.WaveformGenerator(sampling_frequency=sampling_frequency, duration=duration, frequency_domain_source_model=moving_bbh, start_time=start_time)\n",
    "\n",
    "ifos = bilby.gw.detector.InterferometerList(['H1', 'L1', 'V1'])\n",
    "ifos.set_strain_data_from_power_spectral_densities(sampling_frequency=sampling_frequency, duration=duration, start_time=start_time)\n",
    "ifos.inject_signal(waveform_generator=waveform_generator, parameters=injection_parameters)"
   ]
  },
  {
   "cell_type": "code",
   "execution_count": 6,
   "metadata": {},
   "outputs": [
    {
     "name": "stderr",
     "output_type": "stream",
     "text": [
      "01:19 bilby INFO    : Waveform generator initiated with\n",
      "  frequency_domain_source_model: None\n",
      "  time_domain_source_model: __main__.moving_bbh\n",
      "  parameter_conversion: bilby.gw.conversion.convert_to_lal_binary_black_hole_parameters\n",
      "/home/hemantakumar.phurailatpam/anaconda3/envs/bilby/lib/python3.7/site-packages/bilby/gw/detector/psd.py:356: RuntimeWarning: invalid value encountered in multiply\n",
      "  frequency_domain_strain = self.__power_spectral_density_interpolated(frequencies) ** 0.5 * white_noise\n",
      "01:19 bilby INFO    : Injected signal in H1:\n",
      "01:19 bilby INFO    :   optimal SNR = 7.56\n",
      "01:19 bilby INFO    :   matched filter SNR = 6.07+1.23j\n",
      "01:19 bilby INFO    :   mass = 50\n",
      "01:19 bilby INFO    :   ratio = 6\n",
      "01:19 bilby INFO    :   distance = 300\n",
      "01:19 bilby INFO    :   theta = 45\n",
      "01:19 bilby INFO    :   phi = 45\n",
      "01:19 bilby INFO    :   speed = 3000\n",
      "01:19 bilby INFO    :   v_the = 0\n",
      "01:19 bilby INFO    :   v_phi = 0\n",
      "01:19 bilby INFO    :   ra = 0\n",
      "01:19 bilby INFO    :   dec = 0\n",
      "01:19 bilby INFO    :   psi = 0\n",
      "01:19 bilby INFO    :   geocent_time = 1180002601.0\n",
      "01:19 bilby INFO    : Injected signal in L1:\n",
      "01:19 bilby INFO    :   optimal SNR = 26.05\n",
      "01:19 bilby INFO    :   matched filter SNR = 26.16+1.16j\n",
      "01:19 bilby INFO    :   mass = 50\n",
      "01:19 bilby INFO    :   ratio = 6\n",
      "01:19 bilby INFO    :   distance = 300\n",
      "01:19 bilby INFO    :   theta = 45\n",
      "01:19 bilby INFO    :   phi = 45\n",
      "01:19 bilby INFO    :   speed = 3000\n",
      "01:19 bilby INFO    :   v_the = 0\n",
      "01:19 bilby INFO    :   v_phi = 0\n",
      "01:19 bilby INFO    :   ra = 0\n",
      "01:19 bilby INFO    :   dec = 0\n",
      "01:19 bilby INFO    :   psi = 0\n",
      "01:19 bilby INFO    :   geocent_time = 1180002601.0\n"
     ]
    },
    {
     "data": {
      "text/plain": [
       "[{'plus': array([3.60720309e-25+0.00000000e+00j,\n",
       "         3.46942806e-25+3.84932907e-26j,\n",
       "         3.45881752e-25+5.41420943e-26j, ...,\n",
       "         5.04839256e-25-5.39859923e-26j,\n",
       "         5.07308171e-25-2.70419393e-26j,\n",
       "         5.08132002e-25+0.00000000e+00j]),\n",
       "  'cross': array([-1.23139809e-24+0.00000000e+00j,\n",
       "         -1.25484231e-24+2.16567669e-26j,\n",
       "         -1.25500328e-24+1.03903647e-26j, ...,\n",
       "          4.76026745e-26-3.33369914e-28j,\n",
       "          4.74428986e-26-1.59865314e-28j,\n",
       "          4.73894557e-26+0.00000000e+00j])},\n",
       " {'plus': array([3.60720309e-25+0.00000000e+00j,\n",
       "         3.46942806e-25+3.84932907e-26j,\n",
       "         3.45881752e-25+5.41420943e-26j, ...,\n",
       "         5.04839256e-25-5.39859923e-26j,\n",
       "         5.07308171e-25-2.70419393e-26j,\n",
       "         5.08132002e-25+0.00000000e+00j]),\n",
       "  'cross': array([-1.23139809e-24+0.00000000e+00j,\n",
       "         -1.25484231e-24+2.16567669e-26j,\n",
       "         -1.25500328e-24+1.03903647e-26j, ...,\n",
       "          4.76026745e-26-3.33369914e-28j,\n",
       "          4.74428986e-26-1.59865314e-28j,\n",
       "          4.73894557e-26+0.00000000e+00j])}]"
      ]
     },
     "execution_count": 6,
     "metadata": {},
     "output_type": "execute_result"
    }
   ],
   "source": [
    "#time domain\n",
    "injection_parameters = dict(mass=50, ratio=6, distance=300, theta=45, phi=45, speed=3000, v_the=0, v_phi=0, ra=0, dec=0, psi=0, geocent_time=geocent_time)\n",
    "\n",
    "waveform_generator = bilby.gw.waveform_generator.WaveformGenerator(sampling_frequency=sampling_frequency, duration=duration, time_domain_source_model=moving_bbh, start_time=start_time)\n",
    "\n",
    "ifos = bilby.gw.detector.InterferometerList(['H1', 'L1'])\n",
    "ifos.set_strain_data_from_power_spectral_densities(sampling_frequency=sampling_frequency, duration=duration, start_time=start_time)\n",
    "ifos.inject_signal(waveform_generator=waveform_generator, parameters=injection_parameters)\n"
   ]
  },
  {
   "cell_type": "code",
   "execution_count": 31,
   "metadata": {},
   "outputs": [
    {
     "data": {
      "text/plain": [
       "array([-1.98      , -1.97902344, -1.97804687, ...,  0.01707031,\n",
       "        0.01804688,  0.01902344])"
      ]
     },
     "execution_count": 31,
     "metadata": {},
     "output_type": "execute_result"
    }
   ],
   "source": [
    "time_array_"
   ]
  },
  {
   "cell_type": "code",
   "execution_count": 17,
   "metadata": {},
   "outputs": [
    {
     "data": {
      "text/plain": [
       "array([           inf,            inf,            inf, ...,\n",
       "       3.24661286e-24, 3.24750448e-24, 3.24839586e-24])"
      ]
     },
     "execution_count": 17,
     "metadata": {},
     "output_type": "execute_result"
    }
   ],
   "source": [
    "H1.amplitude_spectral_density_array"
   ]
  },
  {
   "cell_type": "code",
   "execution_count": 7,
   "metadata": {},
   "outputs": [
    {
     "name": "stderr",
     "output_type": "stream",
     "text": [
      "01:19 bilby INFO    : Injected signal in H1:\n",
      "01:19 bilby INFO    :   optimal SNR = 7.56\n",
      "01:19 bilby INFO    :   matched filter SNR = 13.63+1.23j\n",
      "01:19 bilby INFO    :   mass = 50\n",
      "01:19 bilby INFO    :   ratio = 6\n",
      "01:19 bilby INFO    :   distance = 300\n",
      "01:19 bilby INFO    :   theta = 45\n",
      "01:19 bilby INFO    :   phi = 45\n",
      "01:19 bilby INFO    :   speed = 3000\n",
      "01:19 bilby INFO    :   v_the = 0\n",
      "01:19 bilby INFO    :   v_phi = 0\n",
      "01:19 bilby INFO    :   ra = 0\n",
      "01:19 bilby INFO    :   dec = 0\n",
      "01:19 bilby INFO    :   psi = 0\n",
      "01:19 bilby INFO    :   geocent_time = 1180002601.0\n",
      "01:19 bilby INFO    : Injected signal in L1:\n",
      "01:19 bilby INFO    :   optimal SNR = 26.05\n",
      "01:19 bilby INFO    :   matched filter SNR = 52.22+1.16j\n",
      "01:19 bilby INFO    :   mass = 50\n",
      "01:19 bilby INFO    :   ratio = 6\n",
      "01:19 bilby INFO    :   distance = 300\n",
      "01:19 bilby INFO    :   theta = 45\n",
      "01:19 bilby INFO    :   phi = 45\n",
      "01:19 bilby INFO    :   speed = 3000\n",
      "01:19 bilby INFO    :   v_the = 0\n",
      "01:19 bilby INFO    :   v_phi = 0\n",
      "01:19 bilby INFO    :   ra = 0\n",
      "01:19 bilby INFO    :   dec = 0\n",
      "01:19 bilby INFO    :   psi = 0\n",
      "01:19 bilby INFO    :   geocent_time = 1180002601.0\n"
     ]
    },
    {
     "data": {
      "image/png": "[encoded data removed]",
      "text/plain": [
       "<Figure size 432x288 with 1 Axes>"
      ]
     },
     "metadata": {
      "needs_background": "light"
     },
     "output_type": "display_data"
    }
   ],
   "source": [
    "#to plot the frequency domain  \n",
    "injection = ifos.inject_signal(waveform_generator=waveform_generator,\n",
    "                   parameters=injection_parameters)\n",
    "\n",
    "H1 = ifos[0]\n",
    "H1_injection = injection[0]\n",
    "\n",
    "fig, ax = plt.subplots()\n",
    "idxs = H1.strain_data.frequency_mask  # This is a boolean mask of the frequencies which we'll use in the analysis\n",
    "ax.loglog(H1.strain_data.frequency_array[idxs],\n",
    "          np.abs(H1.strain_data.frequency_domain_strain[idxs]),\n",
    "          label=\"data\")\n",
    "ax.loglog(H1.frequency_array[idxs],\n",
    "          H1.amplitude_spectral_density_array[idxs],\n",
    "          label=\"ASD\")\n",
    "ax.loglog(H1.frequency_array[idxs],\n",
    "          np.abs(H1_injection[\"plus\"][idxs]),\n",
    "          label=\"Abs. val. of plus polarization\")\n",
    "\n",
    "ax.set_xlim(20.,512.)\n",
    "ax.set_ylim(1e-26,2.327737159425905e-21)\n",
    "\n",
    "\n",
    "ax.set_xlabel(\"Frequency [Hz]\")\n",
    "ax.set_ylabel(\"Strain [strain/$\\sqrt{Hz}$]\")\n",
    "ax.legend()\n",
    "plt.show()"
   ]
  },
  {
   "cell_type": "code",
   "execution_count": 8,
   "metadata": {},
   "outputs": [],
   "source": [
    "# Create priors\n",
    "prior = injection_parameters.copy()\n",
    "prior['mass'] = bilby.core.prior.Uniform(45, 55, r'$M$', unit='$M_sun$')\n",
    "#prior['mass'] = bilby.core.prior.Uniform(45, 55, r'$M$', unit='$M_sun$')\n",
    "# Define likelihood\n",
    "likelihood = bilby.gw.likelihood.GravitationalWaveTransient(interferometers=ifos, waveform_generator=waveform_generator, priors=prior)"
   ]
  },
  {
   "cell_type": "code",
   "execution_count": null,
   "metadata": {},
   "outputs": [
    {
     "name": "stderr",
     "output_type": "stream",
     "text": [
      "01:20 bilby INFO    : Running for label 'moving_bbh', output will be saved to 'outdir'\n",
      "01:20 bilby INFO    : Using lal version 7.1.2\n",
      "01:20 bilby INFO    : Using lal git version Branch: None;Tag: lalsuite-v6.82;Id: cf792129c2473f42ce6c6ee21d8234254cefd337;;Builder: Unknown User <>;Repository status: UNCLEAN: Modified working tree\n",
      "01:20 bilby INFO    : Using lalsimulation version 2.5.1\n",
      "01:20 bilby INFO    : Using lalsimulation git version Branch: None;Tag: lalsuite-v6.82;Id: cf792129c2473f42ce6c6ee21d8234254cefd337;;Builder: Unknown User <>;Repository status: UNCLEAN: Modified working tree\n",
      "01:20 bilby INFO    : Search parameters:\n",
      "01:20 bilby INFO    :   mass = Uniform(minimum=45, maximum=55, name='$M$', latex_label='$M$', unit='$M_sun$', boundary=None)\n",
      "01:20 bilby INFO    :   ratio = 6\n",
      "01:20 bilby INFO    :   distance = 300\n",
      "01:20 bilby INFO    :   theta = 45\n",
      "01:20 bilby INFO    :   phi = 45\n",
      "01:20 bilby INFO    :   speed = 3000\n",
      "01:20 bilby INFO    :   v_the = 0\n",
      "01:20 bilby INFO    :   v_phi = 0\n",
      "01:20 bilby INFO    :   ra = 0\n",
      "01:20 bilby INFO    :   dec = 0\n",
      "01:20 bilby INFO    :   psi = 0\n",
      "01:20 bilby INFO    :   geocent_time = 1180002601.0\n",
      "01:21 bilby INFO    : Single likelihood evaluation took 9.032e-01 s\n"
     ]
    },
    {
     "name": "stdout",
     "output_type": "stream",
     "text": [
      "\r",
      "0it [00:00, ?it/s]"
     ]
    },
    {
     "name": "stderr",
     "output_type": "stream",
     "text": [
      "01:21 bilby INFO    : Using sampler Dynesty with kwargs {'bound': 'multi', 'sample': 'rwalk', 'verbose': True, 'periodic': None, 'reflective': None, 'check_point_delta_t': 600, 'nlive': 500, 'first_update': None, 'walks': 100, 'npdim': None, 'rstate': None, 'queue_size': 4, 'pool': None, 'use_pool': None, 'live_points': None, 'logl_args': None, 'logl_kwargs': None, 'ptform_args': None, 'ptform_kwargs': None, 'enlarge': 1.5, 'bootstrap': None, 'vol_dec': 0.5, 'vol_check': 8.0, 'facc': 0.2, 'slices': 5, 'update_interval': 300, 'print_func': <bound method Dynesty._print_func of <bilby.core.sampler.dynesty.Dynesty object at 0x7f5793785b10>>, 'dlogz': 3, 'maxiter': None, 'maxcall': None, 'logl_max': inf, 'add_live': True, 'print_progress': True, 'save_bounds': False, 'n_effective': None, 'maxmcmc': 5000, 'nact': 5}\n",
      "01:21 bilby INFO    : Checkpoint every check_point_delta_t = 600s\n",
      "01:21 bilby INFO    : Using dynesty version 1.0.1\n",
      "01:21 bilby INFO    : Generating initial points from the prior\n",
      "01:29 bilby INFO    : Using the bilby-implemented rwalk sample method with ACT estimated walks\n",
      "01:29 bilby INFO    : Setting up multiproccesing pool with 4 processes.\n",
      "01:29 bilby INFO    : Reading resume file outdir/moving_bbh_resume.pickle\n",
      "01:29 bilby INFO    : Resume file successfully loaded.\n"
     ]
    },
    {
     "name": "stdout",
     "output_type": "stream",
     "text": [
      "1081it [25:33, 20.37s/it, bound:0 nc: 38 ncall:4.9e+03 eff:22.2% logz-ratio=517.96+/-0.17 dlogz:3482.992>3]"
     ]
    },
    {
     "name": "stderr",
     "output_type": "stream",
     "text": [
      "01:47 bilby INFO    : Written checkpoint file outdir/moving_bbh_resume.pickle\n",
      "/home/hemantakumar.phurailatpam/anaconda3/envs/bilby/lib/python3.7/site-packages/dynesty/plotting.py:179: RuntimeWarning: overflow encountered in exp\n",
      "  data = [nlive, np.exp(logl), np.exp(logwt), np.exp(logz)]\n",
      "/home/hemantakumar.phurailatpam/anaconda3/envs/bilby/lib/python3.7/site-packages/dynesty/plotting.py:203: RuntimeWarning: overflow encountered in exp\n",
      "  zspan = (0., 1.05 * np.exp(logz[-1] + 3. * logzerr[-1]))\n",
      "01:47 bilby WARNING : Axis limits cannot be NaN or Inf\n",
      "01:47 bilby WARNING : Failed to create dynesty run plot at checkpoint\n"
     ]
    },
    {
     "name": "stdout",
     "output_type": "stream",
     "text": [
      "1130it [41:22, 28.41s/it, bound:0 nc: 17 ncall:5.9e+03 eff:19.2% logz-ratio=563.70+/-0.17 dlogz:3437.041>3]"
     ]
    },
    {
     "name": "stderr",
     "output_type": "stream",
     "text": [
      "02:03 bilby INFO    : Written checkpoint file outdir/moving_bbh_resume.pickle\n",
      "/home/hemantakumar.phurailatpam/anaconda3/envs/bilby/lib/python3.7/site-packages/dynesty/plotting.py:179: RuntimeWarning: overflow encountered in exp\n",
      "  data = [nlive, np.exp(logl), np.exp(logwt), np.exp(logz)]\n",
      "/home/hemantakumar.phurailatpam/anaconda3/envs/bilby/lib/python3.7/site-packages/dynesty/plotting.py:203: RuntimeWarning: overflow encountered in exp\n",
      "  zspan = (0., 1.05 * np.exp(logz[-1] + 3. * logzerr[-1]))\n",
      "02:03 bilby WARNING : Axis limits cannot be NaN or Inf\n",
      "02:03 bilby WARNING : Failed to create dynesty run plot at checkpoint\n"
     ]
    },
    {
     "name": "stdout",
     "output_type": "stream",
     "text": [
      "1164it [59:59, 85.55s/it, bound:0 nc:139 ncall:7.0e+03 eff:16.7% logz-ratio=630.33+/-0.18 dlogz:3372.012>3]"
     ]
    },
    {
     "name": "stderr",
     "output_type": "stream",
     "text": [
      "02:21 bilby INFO    : Written checkpoint file outdir/moving_bbh_resume.pickle\n",
      "/home/hemantakumar.phurailatpam/anaconda3/envs/bilby/lib/python3.7/site-packages/dynesty/plotting.py:179: RuntimeWarning: overflow encountered in exp\n",
      "  data = [nlive, np.exp(logl), np.exp(logwt), np.exp(logz)]\n",
      "/home/hemantakumar.phurailatpam/anaconda3/envs/bilby/lib/python3.7/site-packages/dynesty/plotting.py:203: RuntimeWarning: overflow encountered in exp\n",
      "  zspan = (0., 1.05 * np.exp(logz[-1] + 3. * logzerr[-1]))\n",
      "02:21 bilby WARNING : Axis limits cannot be NaN or Inf\n",
      "02:21 bilby WARNING : Failed to create dynesty run plot at checkpoint\n"
     ]
    },
    {
     "name": "stdout",
     "output_type": "stream",
     "text": [
      "1197it [1:18:28, 56.73s/it, bound:0 nc:126 ncall:8.0e+03 eff:14.9% logz-ratio=656.95+/-0.17 dlogz:3344.026>3]"
     ]
    },
    {
     "name": "stderr",
     "output_type": "stream",
     "text": [
      "02:40 bilby INFO    : Written checkpoint file outdir/moving_bbh_resume.pickle\n",
      "/home/hemantakumar.phurailatpam/anaconda3/envs/bilby/lib/python3.7/site-packages/dynesty/plotting.py:179: RuntimeWarning: overflow encountered in exp\n",
      "  data = [nlive, np.exp(logl), np.exp(logwt), np.exp(logz)]\n",
      "/home/hemantakumar.phurailatpam/anaconda3/envs/bilby/lib/python3.7/site-packages/dynesty/plotting.py:203: RuntimeWarning: overflow encountered in exp\n",
      "  zspan = (0., 1.05 * np.exp(logz[-1] + 3. * logzerr[-1]))\n",
      "02:40 bilby WARNING : Axis limits cannot be NaN or Inf\n",
      "02:40 bilby WARNING : Failed to create dynesty run plot at checkpoint\n"
     ]
    },
    {
     "name": "stdout",
     "output_type": "stream",
     "text": [
      "1233it [1:35:57, 60.70s/it, bound:0 nc: 87 ncall:9.0e+03 eff:13.6% logz-ratio=701.23+/-0.17 dlogz:3299.566>3]"
     ]
    },
    {
     "name": "stderr",
     "output_type": "stream",
     "text": [
      "02:57 bilby INFO    : Written checkpoint file outdir/moving_bbh_resume.pickle\n",
      "/home/hemantakumar.phurailatpam/anaconda3/envs/bilby/lib/python3.7/site-packages/dynesty/plotting.py:179: RuntimeWarning: overflow encountered in exp\n",
      "  data = [nlive, np.exp(logl), np.exp(logwt), np.exp(logz)]\n",
      "/home/hemantakumar.phurailatpam/anaconda3/envs/bilby/lib/python3.7/site-packages/dynesty/plotting.py:203: RuntimeWarning: overflow encountered in exp\n",
      "  zspan = (0., 1.05 * np.exp(logz[-1] + 3. * logzerr[-1]))\n",
      "02:57 bilby WARNING : Axis limits cannot be NaN or Inf\n",
      "02:57 bilby WARNING : Failed to create dynesty run plot at checkpoint\n"
     ]
    },
    {
     "name": "stdout",
     "output_type": "stream",
     "text": [
      "1266it [1:54:08, 32.80s/it, bound:0 nc: 58 ncall:1.0e+04 eff:12.5% logz-ratio=782.92+/-0.18 dlogz:3218.174>3]"
     ]
    },
    {
     "name": "stderr",
     "output_type": "stream",
     "text": [
      "03:15 bilby INFO    : Written checkpoint file outdir/moving_bbh_resume.pickle\n",
      "/home/hemantakumar.phurailatpam/anaconda3/envs/bilby/lib/python3.7/site-packages/dynesty/plotting.py:179: RuntimeWarning: overflow encountered in exp\n",
      "  data = [nlive, np.exp(logl), np.exp(logwt), np.exp(logz)]\n",
      "/home/hemantakumar.phurailatpam/anaconda3/envs/bilby/lib/python3.7/site-packages/dynesty/plotting.py:203: RuntimeWarning: overflow encountered in exp\n",
      "  zspan = (0., 1.05 * np.exp(logz[-1] + 3. * logzerr[-1]))\n",
      "03:15 bilby WARNING : Axis limits cannot be NaN or Inf\n",
      "03:15 bilby WARNING : Failed to create dynesty run plot at checkpoint\n"
     ]
    },
    {
     "name": "stdout",
     "output_type": "stream",
     "text": [
      "1303it [2:13:08, 103.20s/it, bound:0 nc:236 ncall:1.1e+04 eff:11.6% logz-ratio=841.55+/-0.17 dlogz:3159.130>3]"
     ]
    },
    {
     "name": "stderr",
     "output_type": "stream",
     "text": [
      "03:34 bilby INFO    : Written checkpoint file outdir/moving_bbh_resume.pickle\n",
      "/home/hemantakumar.phurailatpam/anaconda3/envs/bilby/lib/python3.7/site-packages/dynesty/plotting.py:179: RuntimeWarning: overflow encountered in exp\n",
      "  data = [nlive, np.exp(logl), np.exp(logwt), np.exp(logz)]\n",
      "/home/hemantakumar.phurailatpam/anaconda3/envs/bilby/lib/python3.7/site-packages/dynesty/plotting.py:203: RuntimeWarning: overflow encountered in exp\n",
      "  zspan = (0., 1.05 * np.exp(logz[-1] + 3. * logzerr[-1]))\n",
      "03:34 bilby WARNING : Axis limits cannot be NaN or Inf\n",
      "03:34 bilby WARNING : Failed to create dynesty run plot at checkpoint\n"
     ]
    },
    {
     "name": "stdout",
     "output_type": "stream",
     "text": [
      "1322it [2:31:11, 62.84s/it, bound:0 nc: 70 ncall:1.2e+04 eff:10.8% logz-ratio=868.94+/-0.18 dlogz:3131.854>3] "
     ]
    },
    {
     "name": "stderr",
     "output_type": "stream",
     "text": [
      "03:52 bilby INFO    : Written checkpoint file outdir/moving_bbh_resume.pickle\n",
      "/home/hemantakumar.phurailatpam/anaconda3/envs/bilby/lib/python3.7/site-packages/dynesty/plotting.py:179: RuntimeWarning: overflow encountered in exp\n",
      "  data = [nlive, np.exp(logl), np.exp(logwt), np.exp(logz)]\n",
      "/home/hemantakumar.phurailatpam/anaconda3/envs/bilby/lib/python3.7/site-packages/dynesty/plotting.py:203: RuntimeWarning: overflow encountered in exp\n",
      "  zspan = (0., 1.05 * np.exp(logz[-1] + 3. * logzerr[-1]))\n",
      "03:52 bilby WARNING : Axis limits cannot be NaN or Inf\n",
      "03:52 bilby WARNING : Failed to create dynesty run plot at checkpoint\n"
     ]
    },
    {
     "name": "stdout",
     "output_type": "stream",
     "text": [
      "1351it [2:51:14, 52.63s/it, bound:0 nc: 57 ncall:1.3e+04 eff:10.1% logz-ratio=895.56+/-0.18 dlogz:3105.422>3]"
     ]
    },
    {
     "name": "stderr",
     "output_type": "stream",
     "text": [
      "04:12 bilby INFO    : Written checkpoint file outdir/moving_bbh_resume.pickle\n",
      "/home/hemantakumar.phurailatpam/anaconda3/envs/bilby/lib/python3.7/site-packages/dynesty/plotting.py:179: RuntimeWarning: overflow encountered in exp\n",
      "  data = [nlive, np.exp(logl), np.exp(logwt), np.exp(logz)]\n",
      "/home/hemantakumar.phurailatpam/anaconda3/envs/bilby/lib/python3.7/site-packages/dynesty/plotting.py:203: RuntimeWarning: overflow encountered in exp\n",
      "  zspan = (0., 1.05 * np.exp(logz[-1] + 3. * logzerr[-1]))\n",
      "04:12 bilby WARNING : Axis limits cannot be NaN or Inf\n",
      "04:12 bilby WARNING : Failed to create dynesty run plot at checkpoint\n"
     ]
    },
    {
     "name": "stdout",
     "output_type": "stream",
     "text": [
      "1359it [3:44:57, 898.12s/it, bound:1 nc:500 ncall:1.4e+04 eff:9.6% logz-ratio=908.36+/-0.20 dlogz:3096.802>3]"
     ]
    },
    {
     "name": "stderr",
     "output_type": "stream",
     "text": [
      "05:06 bilby INFO    : Written checkpoint file outdir/moving_bbh_resume.pickle\n",
      "/home/hemantakumar.phurailatpam/anaconda3/envs/bilby/lib/python3.7/site-packages/dynesty/plotting.py:179: RuntimeWarning: overflow encountered in exp\n",
      "  data = [nlive, np.exp(logl), np.exp(logwt), np.exp(logz)]\n",
      "/home/hemantakumar.phurailatpam/anaconda3/envs/bilby/lib/python3.7/site-packages/dynesty/plotting.py:203: RuntimeWarning: overflow encountered in exp\n",
      "  zspan = (0., 1.05 * np.exp(logz[-1] + 3. * logzerr[-1]))\n",
      "05:06 bilby WARNING : Axis limits cannot be NaN or Inf\n",
      "05:06 bilby WARNING : Failed to create dynesty run plot at checkpoint\n"
     ]
    },
    {
     "name": "stdout",
     "output_type": "stream",
     "text": [
      "1367it [4:25:09, 549.14s/it, bound:9 nc:500 ncall:1.8e+04 eff:7.5% logz-ratio=917.85+/-0.18 dlogz:3083.905>3]"
     ]
    },
    {
     "name": "stderr",
     "output_type": "stream",
     "text": [
      "05:46 bilby INFO    : Written checkpoint file outdir/moving_bbh_resume.pickle\n",
      "/home/hemantakumar.phurailatpam/anaconda3/envs/bilby/lib/python3.7/site-packages/dynesty/plotting.py:179: RuntimeWarning: overflow encountered in exp\n",
      "  data = [nlive, np.exp(logl), np.exp(logwt), np.exp(logz)]\n",
      "/home/hemantakumar.phurailatpam/anaconda3/envs/bilby/lib/python3.7/site-packages/dynesty/plotting.py:203: RuntimeWarning: overflow encountered in exp\n",
      "  zspan = (0., 1.05 * np.exp(logz[-1] + 3. * logzerr[-1]))\n",
      "05:46 bilby WARNING : Axis limits cannot be NaN or Inf\n",
      "05:46 bilby WARNING : Failed to create dynesty run plot at checkpoint\n"
     ]
    },
    {
     "name": "stdout",
     "output_type": "stream",
     "text": [
      "1375it [5:09:24, 428.43s/it, bound:17 nc:500 ncall:2.2e+04 eff:6.2% logz-ratio=929.00+/-0.18 dlogz:3071.806>3]"
     ]
    },
    {
     "name": "stderr",
     "output_type": "stream",
     "text": [
      "06:31 bilby INFO    : Written checkpoint file outdir/moving_bbh_resume.pickle\n",
      "/home/hemantakumar.phurailatpam/anaconda3/envs/bilby/lib/python3.7/site-packages/dynesty/plotting.py:179: RuntimeWarning: overflow encountered in exp\n",
      "  data = [nlive, np.exp(logl), np.exp(logwt), np.exp(logz)]\n",
      "/home/hemantakumar.phurailatpam/anaconda3/envs/bilby/lib/python3.7/site-packages/dynesty/plotting.py:203: RuntimeWarning: overflow encountered in exp\n",
      "  zspan = (0., 1.05 * np.exp(logz[-1] + 3. * logzerr[-1]))\n",
      "06:31 bilby WARNING : Axis limits cannot be NaN or Inf\n",
      "06:31 bilby WARNING : Failed to create dynesty run plot at checkpoint\n"
     ]
    },
    {
     "name": "stdout",
     "output_type": "stream",
     "text": [
      "1383it [5:55:55, 329.91s/it, bound:25 nc:500 ncall:2.6e+04 eff:5.3% logz-ratio=938.12+/-0.18 dlogz:3062.454>3]"
     ]
    },
    {
     "name": "stderr",
     "output_type": "stream",
     "text": [
      "07:17 bilby INFO    : Written checkpoint file outdir/moving_bbh_resume.pickle\n",
      "/home/hemantakumar.phurailatpam/anaconda3/envs/bilby/lib/python3.7/site-packages/dynesty/plotting.py:179: RuntimeWarning: overflow encountered in exp\n",
      "  data = [nlive, np.exp(logl), np.exp(logwt), np.exp(logz)]\n",
      "/home/hemantakumar.phurailatpam/anaconda3/envs/bilby/lib/python3.7/site-packages/dynesty/plotting.py:203: RuntimeWarning: overflow encountered in exp\n",
      "  zspan = (0., 1.05 * np.exp(logz[-1] + 3. * logzerr[-1]))\n",
      "07:17 bilby WARNING : Axis limits cannot be NaN or Inf\n",
      "07:17 bilby WARNING : Failed to create dynesty run plot at checkpoint\n"
     ]
    },
    {
     "name": "stdout",
     "output_type": "stream",
     "text": [
      "1391it [6:42:21, 301.05s/it, bound:34 nc:995 ncall:3.1e+04 eff:4.5% logz-ratio=944.59+/-0.18 dlogz:3056.318>3]"
     ]
    },
    {
     "name": "stderr",
     "output_type": "stream",
     "text": [
      "08:04 bilby INFO    : Written checkpoint file outdir/moving_bbh_resume.pickle\n",
      "/home/hemantakumar.phurailatpam/anaconda3/envs/bilby/lib/python3.7/site-packages/dynesty/plotting.py:179: RuntimeWarning: overflow encountered in exp\n",
      "  data = [nlive, np.exp(logl), np.exp(logwt), np.exp(logz)]\n",
      "/home/hemantakumar.phurailatpam/anaconda3/envs/bilby/lib/python3.7/site-packages/dynesty/plotting.py:203: RuntimeWarning: overflow encountered in exp\n",
      "  zspan = (0., 1.05 * np.exp(logz[-1] + 3. * logzerr[-1]))\n",
      "08:04 bilby WARNING : Axis limits cannot be NaN or Inf\n",
      "08:04 bilby WARNING : Failed to create dynesty run plot at checkpoint\n"
     ]
    },
    {
     "name": "stdout",
     "output_type": "stream",
     "text": [
      "1397it [7:27:43, 351.76s/it, bound:41 nc:1000 ncall:3.4e+04 eff:4.1% logz-ratio=951.77+/-0.19 dlogz:3049.849>3]"
     ]
    },
    {
     "name": "stderr",
     "output_type": "stream",
     "text": [
      "08:49 bilby INFO    : Written checkpoint file outdir/moving_bbh_resume.pickle\n",
      "/home/hemantakumar.phurailatpam/anaconda3/envs/bilby/lib/python3.7/site-packages/dynesty/plotting.py:179: RuntimeWarning: overflow encountered in exp\n",
      "  data = [nlive, np.exp(logl), np.exp(logwt), np.exp(logz)]\n",
      "/home/hemantakumar.phurailatpam/anaconda3/envs/bilby/lib/python3.7/site-packages/dynesty/plotting.py:203: RuntimeWarning: overflow encountered in exp\n",
      "  zspan = (0., 1.05 * np.exp(logz[-1] + 3. * logzerr[-1]))\n",
      "08:49 bilby WARNING : Axis limits cannot be NaN or Inf\n",
      "08:49 bilby WARNING : Failed to create dynesty run plot at checkpoint\n"
     ]
    },
    {
     "name": "stdout",
     "output_type": "stream",
     "text": [
      "1402it [8:08:34, 356.41s/it, bound:49 nc:1495 ncall:3.8e+04 eff:3.7% logz-ratio=955.52+/-0.18 dlogz:3045.178>3]"
     ]
    },
    {
     "name": "stderr",
     "output_type": "stream",
     "text": [
      "09:30 bilby INFO    : Written checkpoint file outdir/moving_bbh_resume.pickle\n",
      "/home/hemantakumar.phurailatpam/anaconda3/envs/bilby/lib/python3.7/site-packages/dynesty/plotting.py:179: RuntimeWarning: overflow encountered in exp\n",
      "  data = [nlive, np.exp(logl), np.exp(logwt), np.exp(logz)]\n",
      "/home/hemantakumar.phurailatpam/anaconda3/envs/bilby/lib/python3.7/site-packages/dynesty/plotting.py:203: RuntimeWarning: overflow encountered in exp\n",
      "  zspan = (0., 1.05 * np.exp(logz[-1] + 3. * logzerr[-1]))\n",
      "09:30 bilby WARNING : Axis limits cannot be NaN or Inf\n",
      "09:30 bilby WARNING : Failed to create dynesty run plot at checkpoint\n"
     ]
    },
    {
     "name": "stdout",
     "output_type": "stream",
     "text": [
      "1408it [8:48:57, 320.58s/it, bound:57 nc:495 ncall:4.2e+04 eff:3.3% logz-ratio=961.36+/-0.18 dlogz:3039.044>3] "
     ]
    },
    {
     "name": "stderr",
     "output_type": "stream",
     "text": [
      "10:10 bilby INFO    : Written checkpoint file outdir/moving_bbh_resume.pickle\n",
      "/home/hemantakumar.phurailatpam/anaconda3/envs/bilby/lib/python3.7/site-packages/dynesty/plotting.py:179: RuntimeWarning: overflow encountered in exp\n",
      "  data = [nlive, np.exp(logl), np.exp(logwt), np.exp(logz)]\n",
      "/home/hemantakumar.phurailatpam/anaconda3/envs/bilby/lib/python3.7/site-packages/dynesty/plotting.py:203: RuntimeWarning: overflow encountered in exp\n",
      "  zspan = (0., 1.05 * np.exp(logz[-1] + 3. * logzerr[-1]))\n",
      "10:10 bilby WARNING : Axis limits cannot be NaN or Inf\n",
      "10:10 bilby WARNING : Failed to create dynesty run plot at checkpoint\n"
     ]
    },
    {
     "name": "stdout",
     "output_type": "stream",
     "text": [
      "1415it [9:28:53, 300.93s/it, bound:66 nc:995 ncall:4.7e+04 eff:3.0% logz-ratio=966.10+/-0.17 dlogz:3034.207>3]"
     ]
    },
    {
     "name": "stderr",
     "output_type": "stream",
     "text": [
      "10:50 bilby INFO    : Written checkpoint file outdir/moving_bbh_resume.pickle\n",
      "/home/hemantakumar.phurailatpam/anaconda3/envs/bilby/lib/python3.7/site-packages/dynesty/plotting.py:179: RuntimeWarning: overflow encountered in exp\n",
      "  data = [nlive, np.exp(logl), np.exp(logwt), np.exp(logz)]\n",
      "/home/hemantakumar.phurailatpam/anaconda3/envs/bilby/lib/python3.7/site-packages/dynesty/plotting.py:203: RuntimeWarning: overflow encountered in exp\n",
      "  zspan = (0., 1.05 * np.exp(logz[-1] + 3. * logzerr[-1]))\n",
      "10:50 bilby WARNING : Axis limits cannot be NaN or Inf\n",
      "10:50 bilby WARNING : Failed to create dynesty run plot at checkpoint\n"
     ]
    },
    {
     "name": "stdout",
     "output_type": "stream",
     "text": [
      "1421it [10:17:04, 364.31s/it, bound:73 nc:495 ncall:5.0e+04 eff:2.8% logz-ratio=969.94+/-0.17 dlogz:3030.333>3]"
     ]
    },
    {
     "name": "stderr",
     "output_type": "stream",
     "text": [
      "11:38 bilby INFO    : Written checkpoint file outdir/moving_bbh_resume.pickle\n",
      "/home/hemantakumar.phurailatpam/anaconda3/envs/bilby/lib/python3.7/site-packages/dynesty/plotting.py:179: RuntimeWarning: overflow encountered in exp\n",
      "  data = [nlive, np.exp(logl), np.exp(logwt), np.exp(logz)]\n",
      "/home/hemantakumar.phurailatpam/anaconda3/envs/bilby/lib/python3.7/site-packages/dynesty/plotting.py:203: RuntimeWarning: overflow encountered in exp\n",
      "  zspan = (0., 1.05 * np.exp(logz[-1] + 3. * logzerr[-1]))\n",
      "11:38 bilby WARNING : Axis limits cannot be NaN or Inf\n",
      "11:38 bilby WARNING : Failed to create dynesty run plot at checkpoint\n"
     ]
    },
    {
     "name": "stdout",
     "output_type": "stream",
     "text": [
      "1428it [11:11:09, 341.08s/it, bound:81 nc:495 ncall:5.4e+04 eff:2.6% logz-ratio=974.41+/-0.17 dlogz:3025.744>3]"
     ]
    },
    {
     "name": "stderr",
     "output_type": "stream",
     "text": [
      "12:32 bilby INFO    : Written checkpoint file outdir/moving_bbh_resume.pickle\n",
      "/home/hemantakumar.phurailatpam/anaconda3/envs/bilby/lib/python3.7/site-packages/dynesty/plotting.py:179: RuntimeWarning: overflow encountered in exp\n",
      "  data = [nlive, np.exp(logl), np.exp(logwt), np.exp(logz)]\n",
      "/home/hemantakumar.phurailatpam/anaconda3/envs/bilby/lib/python3.7/site-packages/dynesty/plotting.py:203: RuntimeWarning: overflow encountered in exp\n",
      "  zspan = (0., 1.05 * np.exp(logz[-1] + 3. * logzerr[-1]))\n",
      "12:32 bilby WARNING : Axis limits cannot be NaN or Inf\n",
      "12:32 bilby WARNING : Failed to create dynesty run plot at checkpoint\n"
     ]
    },
    {
     "name": "stdout",
     "output_type": "stream",
     "text": [
      "1434it [12:01:24, 393.29s/it, bound:90 nc:995 ncall:5.8e+04 eff:2.5% logz-ratio=979.58+/-0.18 dlogz:3020.785>3]"
     ]
    },
    {
     "name": "stderr",
     "output_type": "stream",
     "text": [
      "13:23 bilby INFO    : Written checkpoint file outdir/moving_bbh_resume.pickle\n",
      "/home/hemantakumar.phurailatpam/anaconda3/envs/bilby/lib/python3.7/site-packages/dynesty/plotting.py:179: RuntimeWarning: overflow encountered in exp\n",
      "  data = [nlive, np.exp(logl), np.exp(logwt), np.exp(logz)]\n",
      "/home/hemantakumar.phurailatpam/anaconda3/envs/bilby/lib/python3.7/site-packages/dynesty/plotting.py:203: RuntimeWarning: overflow encountered in exp\n",
      "  zspan = (0., 1.05 * np.exp(logz[-1] + 3. * logzerr[-1]))\n",
      "13:23 bilby WARNING : Axis limits cannot be NaN or Inf\n",
      "13:23 bilby WARNING : Failed to create dynesty run plot at checkpoint\n"
     ]
    },
    {
     "name": "stdout",
     "output_type": "stream",
     "text": [
      "1440it [12:53:16, 379.70s/it, bound:97 nc:495 ncall:6.2e+04 eff:2.3% logz-ratio=982.71+/-0.17 dlogz:3017.490>3]"
     ]
    },
    {
     "name": "stderr",
     "output_type": "stream",
     "text": [
      "14:14 bilby INFO    : Written checkpoint file outdir/moving_bbh_resume.pickle\n",
      "/home/hemantakumar.phurailatpam/anaconda3/envs/bilby/lib/python3.7/site-packages/dynesty/plotting.py:179: RuntimeWarning: overflow encountered in exp\n",
      "  data = [nlive, np.exp(logl), np.exp(logwt), np.exp(logz)]\n",
      "/home/hemantakumar.phurailatpam/anaconda3/envs/bilby/lib/python3.7/site-packages/dynesty/plotting.py:203: RuntimeWarning: overflow encountered in exp\n",
      "  zspan = (0., 1.05 * np.exp(logz[-1] + 3. * logzerr[-1]))\n",
      "14:15 bilby WARNING : Axis limits cannot be NaN or Inf\n",
      "14:15 bilby WARNING : Failed to create dynesty run plot at checkpoint\n"
     ]
    },
    {
     "name": "stdout",
     "output_type": "stream",
     "text": [
      "\r",
      "1441it [12:53:18, 266.47s/it, bound:98 nc:495 ncall:6.2e+04 eff:2.3% logz-ratio=984.00+/-0.18 dlogz:3017.033>3]"
     ]
    }
   ],
   "source": [
    "# Launch sampler\n",
    "result = bilby.core.sampler.run_sampler(likelihood, prior, sampler='dynesty', npoints=500, \\\n",
    "                                        injection_parameters=injection_parameters, \\\n",
    "                                        outdir=outdir, label=label, dlogz=3, npool=4)"
   ]
  },
  {
   "cell_type": "code",
   "execution_count": null,
   "metadata": {},
   "outputs": [],
   "source": []
  },
  {
   "cell_type": "code",
   "execution_count": null,
   "metadata": {},
   "outputs": [],
   "source": []
  },
  {
   "cell_type": "code",
   "execution_count": null,
   "metadata": {},
   "outputs": [],
   "source": []
  },
  {
   "cell_type": "code",
   "execution_count": null,
   "metadata": {},
   "outputs": [],
   "source": []
  },
  {
   "cell_type": "code",
   "execution_count": null,
   "metadata": {},
   "outputs": [],
   "source": []
  },
  {
   "cell_type": "code",
   "execution_count": null,
   "metadata": {},
   "outputs": [],
   "source": []
  },
  {
   "cell_type": "code",
   "execution_count": null,
   "metadata": {},
   "outputs": [],
   "source": []
  },
  {
   "cell_type": "code",
   "execution_count": null,
   "metadata": {},
   "outputs": [],
   "source": []
  },
  {
   "cell_type": "code",
   "execution_count": null,
   "metadata": {},
   "outputs": [],
   "source": []
  },
  {
   "cell_type": "code",
   "execution_count": null,
   "metadata": {},
   "outputs": [],
   "source": []
  },
  {
   "cell_type": "code",
   "execution_count": null,
   "metadata": {},
   "outputs": [],
   "source": []
  },
  {
   "cell_type": "code",
   "execution_count": null,
   "metadata": {},
   "outputs": [],
   "source": []
  },
  {
   "cell_type": "code",
   "execution_count": null,
   "metadata": {},
   "outputs": [],
   "source": []
  },
  {
   "cell_type": "code",
   "execution_count": null,
   "metadata": {},
   "outputs": [],
   "source": []
  },
  {
   "cell_type": "code",
   "execution_count": null,
   "metadata": {},
   "outputs": [],
   "source": []
  },
  {
   "cell_type": "code",
   "execution_count": null,
   "metadata": {},
   "outputs": [],
   "source": []
  },
  {
   "cell_type": "code",
   "execution_count": null,
   "metadata": {},
   "outputs": [],
   "source": []
  },
  {
   "cell_type": "code",
   "execution_count": null,
   "metadata": {},
   "outputs": [],
   "source": []
  },
  {
   "cell_type": "code",
   "execution_count": null,
   "metadata": {},
   "outputs": [],
   "source": []
  },
  {
   "cell_type": "code",
   "execution_count": null,
   "metadata": {},
   "outputs": [],
   "source": []
  },
  {
   "cell_type": "code",
   "execution_count": null,
   "metadata": {},
   "outputs": [],
   "source": []
  },
  {
   "cell_type": "code",
   "execution_count": null,
   "metadata": {},
   "outputs": [],
   "source": []
  }
 ],
 "metadata": {
  "kernelspec": {
   "display_name": "Python 3",
   "language": "python",
   "name": "python3"
  },
  "language_info": {
   "codemirror_mode": {
    "name": "ipython",
    "version": 3
   },
   "file_extension": ".py",
   "mimetype": "text/x-python",
   "name": "python",
   "nbconvert_exporter": "python",
   "pygments_lexer": "ipython3",
   "version": "3.7.7"
  }
 },
 "nbformat": 4,
 "nbformat_minor": 4
}
