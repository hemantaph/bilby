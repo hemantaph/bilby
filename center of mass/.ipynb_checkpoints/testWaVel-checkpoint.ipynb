{
 "cells": [
  {
   "cell_type": "code",
   "execution_count": 1,
   "metadata": {},
   "outputs": [],
   "source": [
    "%load_ext cython"
   ]
  },
  {
   "cell_type": "code",
   "execution_count": 1,
   "metadata": {},
   "outputs": [
    {
     "name": "stderr",
     "output_type": "stream",
     "text": [
      "/home/hemantakumar.phurailatpam/anaconda3/envs/bilby/lib/python3.7/site-packages/gwtools/rotations.py:63: UserWarning: Could not import GWFrames, needed for rotations module\n",
      "  _warnings.warn(\"Could not import GWFrames, needed for rotations module\")\n",
      "/home/hemantakumar.phurailatpam/anaconda3/envs/bilby/lib/python3.7/site-packages/gwtools/__init__.py:11: UserWarning: Could not import rotations, decompositions, or fitfuncs. These are not needed by GWSurrogate.\n",
      "  _warnings.warn(\"Could not import rotations, decompositions, or fitfuncs. These are not needed by GWSurrogate.\")\n"
     ]
    },
    {
     "name": "stdout",
     "output_type": "stream",
     "text": [
      "setting __package__ to gwsurrogate.new so relative imports work\n",
      "__name__ = gwsurrogate.new.spline_evaluation\n",
      "__package__= gwsurrogate.new\n",
      "setting __package__ to gwsurrogate.new so relative imports work\n",
      "setting __package__ to gwsurrogate.new so relative imports work\n"
     ]
    }
   ],
   "source": [
    "import gwsurrogate\n",
    "import numpy as np\n",
    "\n",
    "from math import cos\n",
    "from math import sin\n",
    "from math import sqrt\n",
    "from math import factorial\n",
    "from math import pi\n",
    "from math import e\n",
    "from numpy import conj\n",
    "\n",
    "import bilby\n",
    "import WaVel\n",
    "\n",
    "import matplotlib.pyplot as plt\n",
    "%matplotlib inline\n",
    "\n",
    "# Define constants: speed of light (in m/s), gravitational constant (in m^3/(kg*s^2)), solar mass (in kg) and megaparsec (in m)\n",
    "c = 2.99e8\n",
    "G = 6.67e-11\n",
    "M_sun = 1.99e30\n",
    "Mpc = 3.09e22"
   ]
  },
  {
   "cell_type": "code",
   "execution_count": 2,
   "metadata": {},
   "outputs": [],
   "source": [
    "# Define labels, sampling frequency and times\n",
    "outdir = 'outdir'\n",
    "label = 'moving_bbh'\n",
    "sampling_frequency = 1024\n",
    "duration = 2.0\n",
    "geocent_time = 0.0\n",
    "start_time = geocent_time - duration + 0.02"
   ]
  },
  {
   "cell_type": "code",
   "execution_count": 3,
   "metadata": {},
   "outputs": [
    {
     "name": "stdout",
     "output_type": "stream",
     "text": [
      "Loaded NRHybSur3dq8 model\n"
     ]
    }
   ],
   "source": [
    "# Load the surrogate model\n",
    "surrogate = gwsurrogate.LoadSurrogate('NRHybSur3dq8')\n",
    "\n",
    "# Define the time-domain model\n",
    "def moving_bbh(times, mass, ratio, distance, theta, phi, speed, v_the, v_phi,**kwargs):\n",
    "\n",
    "    arg_ = {'surrogate_':surrogate,'M_':mass, 'q_':ratio, 'dis_':distance, 'the_':theta, 'phi_':phi, 'v_mag_':speed, 'v_the_':v_the, 'v_phi_':v_phi, 'times_':times, **kwargs}\n",
    "    fplus = WaVel.Fn(**arg_)\n",
    "    h_plus = fplus.WaVe()[0]\n",
    "    h_cross = fplus.WaVe()[1]\n",
    "\n",
    "    return {'plus': h_plus, 'cross': h_cross}"
   ]
  },
  {
   "cell_type": "code",
   "execution_count": 4,
   "metadata": {},
   "outputs": [
    {
     "data": {
      "text/plain": [
       "{'plus': array([-9.70664572e-22,  1.07894238e-21]),\n",
       " 'cross': array([1.74790847e-22, 1.50404401e-22])}"
      ]
     },
     "execution_count": 4,
     "metadata": {},
     "output_type": "execute_result"
    }
   ],
   "source": [
    "moving_bbh(np.array([-1000,-500]),650,6,300,45,45,3000,0,0) "
   ]
  },
  {
   "cell_type": "code",
   "execution_count": 7,
   "metadata": {},
   "outputs": [
    {
     "data": {
      "text/plain": [
       "array([-1000.,  -900.,  -800.,  -700.,  -600.,  -500.,  -400.,\n",
       "        -300.,  -200.,  -100.])"
      ]
     },
     "execution_count": 7,
     "metadata": {},
     "output_type": "execute_result"
    }
   ],
   "source": [
    "np.linspace(-1000.0,-100.0,10)"
   ]
  },
  {
   "cell_type": "code",
   "execution_count": 5,
   "metadata": {},
   "outputs": [
    {
     "name": "stdout",
     "output_type": "stream",
     "text": [
      "Execution took 0.4191\n"
     ]
    }
   ],
   "source": [
    "#for 10 time points\n",
    "import time \n",
    "\n",
    "ttt = np.linspace(-1000.0,-100.0,10)\n",
    "t0 = time.time()\n",
    "zz = moving_bbh(ttt,650,6,300,45,45,3000,0,0) \n",
    "\n",
    "t1 = time.time()\n",
    "print('Execution took {:.4f}'.format(t1 - t0))"
   ]
  },
  {
   "cell_type": "code",
   "execution_count": 5,
   "metadata": {},
   "outputs": [
    {
     "name": "stdout",
     "output_type": "stream",
     "text": [
      "Execution took 26.1352\n"
     ]
    }
   ],
   "source": [
    "#for 10 time points\n",
    "import time \n",
    "\n",
    "ttt = np.linspace(-1000.0,-100.0,10)\n",
    "t0 = time.time()\n",
    "zz = moving_bbh(ttt,650,6,300,45,45,3000,0,0) \n",
    "\n",
    "t1 = time.time()\n",
    "print('Execution took {:.4f}'.format(t1 - t0))"
   ]
  },
  {
   "cell_type": "code",
   "execution_count": 8,
   "metadata": {},
   "outputs": [
    {
     "name": "stdout",
     "output_type": "stream",
     "text": [
      "Execution took 7.7819\n"
     ]
    }
   ],
   "source": [
    "#for 10 time points\n",
    "import time \n",
    "\n",
    "ttt = np.linspace(-1000.0,-100.0,10)\n",
    "t0 = time.time()\n",
    "zz = moving_bbh(ttt,650,6,300,45,45,3000,0,0) \n",
    "\n",
    "t1 = time.time()\n",
    "print('Execution took {:.4f}'.format(t1 - t0))"
   ]
  },
  {
   "cell_type": "code",
   "execution_count": 4,
   "metadata": {},
   "outputs": [
    {
     "name": "stderr",
     "output_type": "stream",
     "text": [
      "15:22 bilby INFO    : Waveform generator initiated with\n",
      "  frequency_domain_source_model: None\n",
      "  time_domain_source_model: __main__.moving_bbh\n",
      "  parameter_conversion: bilby.gw.conversion.convert_to_lal_binary_black_hole_parameters\n",
      "/home/hemantakumar.phurailatpam/anaconda3/envs/bilby/lib/python3.7/site-packages/bilby/gw/detector/psd.py:356: RuntimeWarning: invalid value encountered in multiply\n",
      "  frequency_domain_strain = self.__power_spectral_density_interpolated(frequencies) ** 0.5 * white_noise\n",
      "15:22 bilby INFO    : Injected signal in H1:\n",
      "15:22 bilby INFO    :   optimal SNR = 31.20\n",
      "15:22 bilby INFO    :   matched filter SNR = 31.31-0.58j\n",
      "15:22 bilby INFO    :   mass = 50\n",
      "15:22 bilby INFO    :   ratio = 6\n",
      "15:22 bilby INFO    :   distance = 300\n",
      "15:22 bilby INFO    :   theta = 45\n",
      "15:22 bilby INFO    :   phi = 45\n",
      "15:22 bilby INFO    :   speed = 3000\n",
      "15:22 bilby INFO    :   v_the = 0\n",
      "15:22 bilby INFO    :   v_phi = 0\n",
      "15:22 bilby INFO    :   ra = 0\n",
      "15:22 bilby INFO    :   dec = 0\n",
      "15:22 bilby INFO    :   psi = 0\n",
      "15:22 bilby INFO    :   geocent_time = 0.0\n",
      "15:22 bilby INFO    : Injected signal in L1:\n",
      "15:22 bilby INFO    :   optimal SNR = 36.98\n",
      "15:22 bilby INFO    :   matched filter SNR = 36.95-0.45j\n",
      "15:22 bilby INFO    :   mass = 50\n",
      "15:22 bilby INFO    :   ratio = 6\n",
      "15:22 bilby INFO    :   distance = 300\n",
      "15:22 bilby INFO    :   theta = 45\n",
      "15:22 bilby INFO    :   phi = 45\n",
      "15:22 bilby INFO    :   speed = 3000\n",
      "15:22 bilby INFO    :   v_the = 0\n",
      "15:22 bilby INFO    :   v_phi = 0\n",
      "15:22 bilby INFO    :   ra = 0\n",
      "15:22 bilby INFO    :   dec = 0\n",
      "15:22 bilby INFO    :   psi = 0\n",
      "15:22 bilby INFO    :   geocent_time = 0.0\n",
      "15:22 bilby INFO    : Injected signal in V1:\n",
      "15:22 bilby INFO    :   optimal SNR = 18.12\n",
      "15:22 bilby INFO    :   matched filter SNR = 17.79+0.04j\n",
      "15:22 bilby INFO    :   mass = 50\n",
      "15:22 bilby INFO    :   ratio = 6\n",
      "15:22 bilby INFO    :   distance = 300\n",
      "15:22 bilby INFO    :   theta = 45\n",
      "15:22 bilby INFO    :   phi = 45\n",
      "15:22 bilby INFO    :   speed = 3000\n",
      "15:22 bilby INFO    :   v_the = 0\n",
      "15:22 bilby INFO    :   v_phi = 0\n",
      "15:22 bilby INFO    :   ra = 0\n",
      "15:22 bilby INFO    :   dec = 0\n",
      "15:22 bilby INFO    :   psi = 0\n",
      "15:22 bilby INFO    :   geocent_time = 0.0\n"
     ]
    },
    {
     "data": {
      "text/plain": [
       "[{'plus': array([3.60720311e-25+0.00000000e+00j,\n",
       "         3.46942808e-25+3.84932968e-26j,\n",
       "         3.45881746e-25+5.41421062e-26j, ...,\n",
       "         5.04840882e-25-5.39860750e-26j,\n",
       "         5.07309793e-25-2.70419804e-26j,\n",
       "         5.08133623e-25+0.00000000e+00j]),\n",
       "  'cross': array([-1.23139818e-24+0.00000000e+00j,\n",
       "         -1.25484240e-24+2.16567657e-26j,\n",
       "         -1.25500337e-24+1.03903532e-26j, ...,\n",
       "          4.75784513e-26-3.30317686e-28j,\n",
       "          4.74185350e-26-1.58336381e-28j,\n",
       "          4.73650453e-26+0.00000000e+00j])},\n",
       " {'plus': array([3.60720311e-25+0.00000000e+00j,\n",
       "         3.46942808e-25+3.84932968e-26j,\n",
       "         3.45881746e-25+5.41421062e-26j, ...,\n",
       "         5.04840882e-25-5.39860750e-26j,\n",
       "         5.07309793e-25-2.70419804e-26j,\n",
       "         5.08133623e-25+0.00000000e+00j]),\n",
       "  'cross': array([-1.23139818e-24+0.00000000e+00j,\n",
       "         -1.25484240e-24+2.16567657e-26j,\n",
       "         -1.25500337e-24+1.03903532e-26j, ...,\n",
       "          4.75784513e-26-3.30317686e-28j,\n",
       "          4.74185350e-26-1.58336381e-28j,\n",
       "          4.73650453e-26+0.00000000e+00j])},\n",
       " {'plus': array([3.60720311e-25+0.00000000e+00j,\n",
       "         3.46942808e-25+3.84932968e-26j,\n",
       "         3.45881746e-25+5.41421062e-26j, ...,\n",
       "         5.04840882e-25-5.39860750e-26j,\n",
       "         5.07309793e-25-2.70419804e-26j,\n",
       "         5.08133623e-25+0.00000000e+00j]),\n",
       "  'cross': array([-1.23139818e-24+0.00000000e+00j,\n",
       "         -1.25484240e-24+2.16567657e-26j,\n",
       "         -1.25500337e-24+1.03903532e-26j, ...,\n",
       "          4.75784513e-26-3.30317686e-28j,\n",
       "          4.74185350e-26-1.58336381e-28j,\n",
       "          4.73650453e-26+0.00000000e+00j])}]"
      ]
     },
     "execution_count": 4,
     "metadata": {},
     "output_type": "execute_result"
    }
   ],
   "source": [
    "# Define parameters to inject\n",
    "injection_parameters = dict(mass=50, ratio=6, distance=300, theta=45, phi=45, speed=3000, v_the=0, v_phi=0, ra=0, dec=0, psi=0, geocent_time=geocent_time)\n",
    "# Generate model with waveform_generator\n",
    "waveform_generator = bilby.gw.waveform_generator.WaveformGenerator(sampling_frequency=sampling_frequency, duration=duration, time_domain_source_model=moving_bbh, start_time=start_time)\n",
    "# Inject signal into ifos\n",
    "ifos = bilby.gw.detector.InterferometerList(['H1', 'L1', 'V1'])\n",
    "ifos.set_strain_data_from_power_spectral_densities(sampling_frequency=sampling_frequency, duration=duration, start_time=start_time)\n",
    "ifos.inject_signal(waveform_generator=waveform_generator, parameters=injection_parameters)"
   ]
  },
  {
   "cell_type": "code",
   "execution_count": 5,
   "metadata": {},
   "outputs": [
    {
     "name": "stderr",
     "output_type": "stream",
     "text": [
      "15:22 bilby INFO    : Injected signal in H1:\n",
      "15:22 bilby INFO    :   optimal SNR = 31.20\n",
      "15:22 bilby INFO    :   matched filter SNR = 62.51-0.58j\n",
      "15:22 bilby INFO    :   mass = 50\n",
      "15:22 bilby INFO    :   ratio = 6\n",
      "15:22 bilby INFO    :   distance = 300\n",
      "15:22 bilby INFO    :   theta = 45\n",
      "15:22 bilby INFO    :   phi = 45\n",
      "15:22 bilby INFO    :   speed = 3000\n",
      "15:22 bilby INFO    :   v_the = 0\n",
      "15:22 bilby INFO    :   v_phi = 0\n",
      "15:22 bilby INFO    :   ra = 0\n",
      "15:22 bilby INFO    :   dec = 0\n",
      "15:22 bilby INFO    :   psi = 0\n",
      "15:22 bilby INFO    :   geocent_time = 0.0\n",
      "15:22 bilby INFO    : Injected signal in L1:\n",
      "15:22 bilby INFO    :   optimal SNR = 36.98\n",
      "15:22 bilby INFO    :   matched filter SNR = 73.93-0.45j\n",
      "15:22 bilby INFO    :   mass = 50\n",
      "15:22 bilby INFO    :   ratio = 6\n",
      "15:22 bilby INFO    :   distance = 300\n",
      "15:22 bilby INFO    :   theta = 45\n",
      "15:22 bilby INFO    :   phi = 45\n",
      "15:22 bilby INFO    :   speed = 3000\n",
      "15:22 bilby INFO    :   v_the = 0\n",
      "15:22 bilby INFO    :   v_phi = 0\n",
      "15:22 bilby INFO    :   ra = 0\n",
      "15:22 bilby INFO    :   dec = 0\n",
      "15:22 bilby INFO    :   psi = 0\n",
      "15:22 bilby INFO    :   geocent_time = 0.0\n",
      "15:22 bilby INFO    : Injected signal in V1:\n",
      "15:22 bilby INFO    :   optimal SNR = 18.12\n",
      "15:22 bilby INFO    :   matched filter SNR = 35.92+0.04j\n",
      "15:22 bilby INFO    :   mass = 50\n",
      "15:22 bilby INFO    :   ratio = 6\n",
      "15:22 bilby INFO    :   distance = 300\n",
      "15:22 bilby INFO    :   theta = 45\n",
      "15:22 bilby INFO    :   phi = 45\n",
      "15:22 bilby INFO    :   speed = 3000\n",
      "15:22 bilby INFO    :   v_the = 0\n",
      "15:22 bilby INFO    :   v_phi = 0\n",
      "15:22 bilby INFO    :   ra = 0\n",
      "15:22 bilby INFO    :   dec = 0\n",
      "15:22 bilby INFO    :   psi = 0\n",
      "15:22 bilby INFO    :   geocent_time = 0.0\n"
     ]
    },
    {
     "data": {
      "image/png": "[encoded data removed]",
      "text/plain": [
       "<Figure size 432x288 with 1 Axes>"
      ]
     },
     "metadata": {
      "needs_background": "light"
     },
     "output_type": "display_data"
    }
   ],
   "source": [
    "injection = ifos.inject_signal(waveform_generator=waveform_generator,\n",
    "                   parameters=injection_parameters)\n",
    "\n",
    "H1 = ifos[0]\n",
    "H1_injection = injection[0]\n",
    "\n",
    "fig, ax = plt.subplots()\n",
    "idxs = H1.strain_data.frequency_mask  # This is a boolean mask of the frequencies which we'll use in the analysis\n",
    "ax.loglog(H1.strain_data.frequency_array[idxs],\n",
    "          np.abs(H1.strain_data.frequency_domain_strain[idxs]),\n",
    "          label=\"data\")\n",
    "ax.loglog(H1.frequency_array[idxs],\n",
    "          H1.amplitude_spectral_density_array[idxs],\n",
    "          label=\"ASD\")\n",
    "ax.loglog(H1.frequency_array[idxs],\n",
    "          np.abs(H1_injection[\"cross\"][idxs]),\n",
    "          label=\"Abs. val. of plus polarization\")\n",
    "\n",
    "#ax.set_xlim(minimum_frequency,maximum_frequency)\n",
    "#ax.set_ylim(1e-26,2.327737159425905e-21)\n",
    "\n",
    "\n",
    "ax.set_xlabel(\"Frequency [Hz]\")\n",
    "ax.set_ylabel(\"Strain [strain/$\\sqrt{Hz}$]\")\n",
    "ax.legend()\n",
    "plt.show()"
   ]
  },
  {
   "cell_type": "code",
   "execution_count": 8,
   "metadata": {},
   "outputs": [],
   "source": [
    "# Create priors\n",
    "prior = injection_parameters.copy()\n",
    "prior['mass'] = bilby.core.prior.Uniform(45, 55, r'$M$', unit='$M_sun$')\n",
    "#prior['mass'] = bilby.core.prior.Uniform(45, 55, r'$M$', unit='$M_sun$')\n",
    "# Define likelihood\n",
    "likelihood = bilby.gw.likelihood.GravitationalWaveTransient(interferometers=ifos, waveform_generator=waveform_generator, priors=prior)"
   ]
  },
  {
   "cell_type": "code",
   "execution_count": null,
   "metadata": {},
   "outputs": [
    {
     "name": "stderr",
     "output_type": "stream",
     "text": [
      "10:26 bilby INFO    : Running for label 'moving_bbh', output will be saved to 'outdir'\n",
      "10:26 bilby INFO    : Using lal version 7.1.2\n",
      "10:26 bilby INFO    : Using lal git version Branch: None;Tag: lalsuite-v6.82;Id: cf792129c2473f42ce6c6ee21d8234254cefd337;;Builder: Unknown User <>;Repository status: UNCLEAN: Modified working tree\n",
      "10:26 bilby INFO    : Using lalsimulation version 2.5.1\n",
      "10:26 bilby INFO    : Using lalsimulation git version Branch: None;Tag: lalsuite-v6.82;Id: cf792129c2473f42ce6c6ee21d8234254cefd337;;Builder: Unknown User <>;Repository status: UNCLEAN: Modified working tree\n",
      "10:26 bilby INFO    : Search parameters:\n",
      "10:26 bilby INFO    :   mass = Uniform(minimum=45, maximum=55, name='$M$', latex_label='$M$', unit='$M_sun$', boundary=None)\n",
      "10:26 bilby INFO    :   ratio = 6\n",
      "10:26 bilby INFO    :   distance = 300\n",
      "10:26 bilby INFO    :   theta = 45\n",
      "10:26 bilby INFO    :   phi = 45\n",
      "10:26 bilby INFO    :   speed = 3000\n",
      "10:26 bilby INFO    :   v_the = 0\n",
      "10:26 bilby INFO    :   v_phi = 0\n",
      "10:26 bilby INFO    :   ra = 0\n",
      "10:26 bilby INFO    :   dec = 0\n",
      "10:26 bilby INFO    :   psi = 0\n",
      "10:26 bilby INFO    :   geocent_time = 0.0\n",
      "10:27 bilby INFO    : Single likelihood evaluation took 4.677e-01 s\n"
     ]
    },
    {
     "name": "stdout",
     "output_type": "stream",
     "text": [
      "\r",
      "0it [00:00, ?it/s]"
     ]
    },
    {
     "name": "stderr",
     "output_type": "stream",
     "text": [
      "10:27 bilby INFO    : Using sampler Dynesty with kwargs {'bound': 'multi', 'sample': 'rwalk', 'verbose': True, 'periodic': None, 'reflective': None, 'check_point_delta_t': 600, 'nlive': 500, 'first_update': None, 'walks': 100, 'npdim': None, 'rstate': None, 'queue_size': 8, 'pool': None, 'use_pool': None, 'live_points': None, 'logl_args': None, 'logl_kwargs': None, 'ptform_args': None, 'ptform_kwargs': None, 'enlarge': 1.5, 'bootstrap': None, 'vol_dec': 0.5, 'vol_check': 8.0, 'facc': 0.2, 'slices': 5, 'update_interval': 300, 'print_func': <bound method Dynesty._print_func of <bilby.core.sampler.dynesty.Dynesty object at 0x7f6e1b2e72d0>>, 'dlogz': 3, 'maxiter': None, 'maxcall': None, 'logl_max': inf, 'add_live': True, 'print_progress': True, 'save_bounds': False, 'n_effective': None, 'maxmcmc': 5000, 'nact': 5}\n",
      "10:27 bilby INFO    : Checkpoint every check_point_delta_t = 600s\n",
      "10:27 bilby INFO    : Using dynesty version 1.0.1\n",
      "10:27 bilby INFO    : Generating initial points from the prior\n",
      "10:31 bilby INFO    : Using the bilby-implemented rwalk sample method with ACT estimated walks\n",
      "10:31 bilby INFO    : Setting up multiproccesing pool with 8 processes.\n",
      "10:31 bilby INFO    : Resume file outdir/moving_bbh_resume.pickle does not exist.\n"
     ]
    },
    {
     "name": "stdout",
     "output_type": "stream",
     "text": [
      "512it [11:17,  2.14s/it, bound:0 nc:  9 ncall:1.4e+03 eff:35.5% logz-ratio=-473.45+/-0.16 dlogz:4461.525>3] "
     ]
    }
   ],
   "source": [
    "# Launch sampler\n",
    "result = bilby.core.sampler.run_sampler(likelihood, prior, sampler='dynesty', npoints=500, injection_parameters=injection_parameters, outdir=outdir, label=label, dlogz=3, npool=8)"
   ]
  },
  {
   "cell_type": "code",
   "execution_count": 9,
   "metadata": {},
   "outputs": [
    {
     "data": {
      "text/plain": [
       "array([ 6.45101852e-23, -1.40381007e-24,  1.28633590e-23, ...,\n",
       "       -1.57319829e-24,  3.34836117e-23,  2.30520039e-23])"
      ]
     },
     "execution_count": 9,
     "metadata": {},
     "output_type": "execute_result"
    }
   ],
   "source": [
    "ifos[0].time_domain_strain"
   ]
  },
  {
   "cell_type": "code",
   "execution_count": 12,
   "metadata": {},
   "outputs": [
    {
     "data": {
      "text/plain": [
       "[<matplotlib.lines.Line2D at 0x7f11194ab910>]"
      ]
     },
     "execution_count": 12,
     "metadata": {},
     "output_type": "execute_result"
    },
    {
     "data": {
      "image/png": "[encoded data removed]",
      "text/plain": [
       "<Figure size 432x288 with 1 Axes>"
      ]
     },
     "metadata": {
      "needs_background": "light"
     },
     "output_type": "display_data"
    }
   ],
   "source": [
    "plt.plot(H1.strain_data.time_array,H1.strain_data.time_domain_strain)"
   ]
  },
  {
   "cell_type": "code",
   "execution_count": 11,
   "metadata": {},
   "outputs": [
    {
     "data": {
      "text/plain": [
       "array([ 6.45101852e-23, -1.40381007e-24,  1.28633590e-23, ...,\n",
       "       -1.57319829e-24,  3.34836117e-23,  2.30520039e-23])"
      ]
     },
     "execution_count": 11,
     "metadata": {},
     "output_type": "execute_result"
    }
   ],
   "source": [
    "H1.strain_data.time_domain_strain"
   ]
  },
  {
   "cell_type": "code",
   "execution_count": null,
   "metadata": {},
   "outputs": [],
   "source": []
  },
  {
   "cell_type": "code",
   "execution_count": null,
   "metadata": {},
   "outputs": [],
   "source": []
  },
  {
   "cell_type": "code",
   "execution_count": null,
   "metadata": {},
   "outputs": [],
   "source": []
  },
  {
   "cell_type": "code",
   "execution_count": null,
   "metadata": {},
   "outputs": [],
   "source": []
  },
  {
   "cell_type": "code",
   "execution_count": null,
   "metadata": {},
   "outputs": [],
   "source": []
  },
  {
   "cell_type": "code",
   "execution_count": null,
   "metadata": {},
   "outputs": [],
   "source": []
  },
  {
   "cell_type": "code",
   "execution_count": null,
   "metadata": {},
   "outputs": [],
   "source": []
  },
  {
   "cell_type": "code",
   "execution_count": null,
   "metadata": {},
   "outputs": [],
   "source": []
  },
  {
   "cell_type": "code",
   "execution_count": null,
   "metadata": {},
   "outputs": [],
   "source": []
  },
  {
   "cell_type": "code",
   "execution_count": null,
   "metadata": {},
   "outputs": [],
   "source": []
  },
  {
   "cell_type": "code",
   "execution_count": null,
   "metadata": {},
   "outputs": [],
   "source": []
  },
  {
   "cell_type": "code",
   "execution_count": null,
   "metadata": {},
   "outputs": [],
   "source": []
  },
  {
   "cell_type": "code",
   "execution_count": null,
   "metadata": {},
   "outputs": [],
   "source": []
  },
  {
   "cell_type": "code",
   "execution_count": null,
   "metadata": {},
   "outputs": [],
   "source": []
  },
  {
   "cell_type": "code",
   "execution_count": null,
   "metadata": {},
   "outputs": [],
   "source": []
  },
  {
   "cell_type": "code",
   "execution_count": null,
   "metadata": {},
   "outputs": [],
   "source": []
  },
  {
   "cell_type": "code",
   "execution_count": null,
   "metadata": {},
   "outputs": [],
   "source": []
  },
  {
   "cell_type": "code",
   "execution_count": null,
   "metadata": {},
   "outputs": [],
   "source": []
  },
  {
   "cell_type": "code",
   "execution_count": null,
   "metadata": {},
   "outputs": [],
   "source": []
  },
  {
   "cell_type": "code",
   "execution_count": null,
   "metadata": {},
   "outputs": [],
   "source": []
  },
  {
   "cell_type": "code",
   "execution_count": null,
   "metadata": {},
   "outputs": [],
   "source": []
  },
  {
   "cell_type": "code",
   "execution_count": null,
   "metadata": {},
   "outputs": [],
   "source": []
  },
  {
   "cell_type": "code",
   "execution_count": null,
   "metadata": {},
   "outputs": [],
   "source": []
  }
 ],
 "metadata": {
  "kernelspec": {
   "display_name": "Python 3",
   "language": "python",
   "name": "python3"
  },
  "language_info": {
   "codemirror_mode": {
    "name": "ipython",
    "version": 3
   },
   "file_extension": ".py",
   "mimetype": "text/x-python",
   "name": "python",
   "nbconvert_exporter": "python",
   "pygments_lexer": "ipython3",
   "version": "3.7.7"
  }
 },
 "nbformat": 4,
 "nbformat_minor": 4
}
