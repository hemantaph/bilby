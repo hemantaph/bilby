{
 "cells": [
  {
   "cell_type": "code",
   "execution_count": 1,
   "metadata": {},
   "outputs": [],
   "source": [
    "import matplotlib.pyplot as plt\n",
    "import bilby\n",
    "import numpy as np\n",
    "import time\n",
    "\n",
    "import hphc\n",
    "\n",
    "C = 299792458.\n",
    "G = 6.67408*1e-11\n",
    "Mo = 1.989*1e30\n",
    "Mpc = 3.086*1e22\n",
    "\n",
    "%matplotlib inline"
   ]
  },
  {
   "cell_type": "code",
   "execution_count": 2,
   "metadata": {},
   "outputs": [],
   "source": [
    "sampling_frequency = 1024.0\n",
    "duration = 4.0"
   ]
  },
  {
   "cell_type": "code",
   "execution_count": 11,
   "metadata": {},
   "outputs": [],
   "source": [
    "def eccentric_waveform(frequency_array_, chirp_mass, mass_ratio, initial_eccentricity, luminosity_distance, theta_jn, psi, phase, geocent_time, ra, dec, **kwargs):\n",
    "    \n",
    "    mass_1 = (chirp_mass*(1+mass_ratio)**(1/5))/mass_ratio**(3/5)\n",
    "    mass_2 = chirp_mass*mass_ratio**(2/5)*(1+mass_ratio)**(1/5)\n",
    "    luminosity_distance = luminosity_distance*Mpc\n",
    "    total_mass = (mass_1+mass_2)*Mo\n",
    "    symmetric_mass_ratio = (mass_1*mass_2)/((mass_1+mass_2)**2)\n",
    "    #last stable orbit\n",
    "    lso_f = (C**3)/( G*(mass_1+mass_2)*Mo*np.pi*6**(3/2) )\n",
    "    mass_diff = (mass_1-mass_2)*Mo\n",
    "    f_min = 20.\n",
    "    #f_max is set according to the priors we choose for chirp_mass and mass_ratio; depends on max possible lso_f. \n",
    "    f_max = 150.\n",
    "    #time of coalescence is taken to be 0 for convenience\n",
    "    tc = 0.\n",
    "    \n",
    "    foo = np.array(frequency_array_, dtype='float')\n",
    "\n",
    "    ans = hphc.htilde(foo, total_mass, symmetric_mass_ratio, mass_diff, initial_eccentricity, luminosity_distance, theta_jn, psi, phase, tc, f_min, lso_f, f_max)\n",
    "\n",
    "    return(ans)"
   ]
  },
  {
   "cell_type": "code",
   "execution_count": 21,
   "metadata": {},
   "outputs": [],
   "source": [
    "zz = eccentric_waveform([145.],19.564163812778446,0.9148936170212766,0.04,600.0,0.4,0.1,1.2,1180002601.0,45,5.73)"
   ]
  },
  {
   "cell_type": "code",
   "execution_count": 22,
   "metadata": {},
   "outputs": [
    {
     "data": {
      "text/plain": [
       "0.004026097261771021"
      ]
     },
     "execution_count": 22,
     "metadata": {},
     "output_type": "execute_result"
    }
   ],
   "source": [
    "zz.max()"
   ]
  },
  {
   "cell_type": "code",
   "execution_count": null,
   "metadata": {},
   "outputs": [],
   "source": []
  }
 ],
 "metadata": {
  "kernelspec": {
   "display_name": "Python 3",
   "language": "python",
   "name": "python3"
  },
  "language_info": {
   "codemirror_mode": {
    "name": "ipython",
    "version": 3
   },
   "file_extension": ".py",
   "mimetype": "text/x-python",
   "name": "python",
   "nbconvert_exporter": "python",
   "pygments_lexer": "ipython3",
   "version": "3.7.7"
  }
 },
 "nbformat": 4,
 "nbformat_minor": 4
}
