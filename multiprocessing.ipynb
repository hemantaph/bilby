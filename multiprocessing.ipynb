{
 "cells": [
  {
   "cell_type": "code",
   "execution_count": 4,
   "metadata": {},
   "outputs": [],
   "source": [
    "import time\n",
    "import multiprocessing"
   ]
  },
  {
   "cell_type": "code",
   "execution_count": 2,
   "metadata": {},
   "outputs": [],
   "source": [
    "def sleep_for_a_bit(seconds):\n",
    "    print(f\"Sleeping {seconds} second(s)\")\n",
    "    time.sleep(seconds)\n",
    "    print(\"Done sleeping\")"
   ]
  },
  {
   "cell_type": "code",
   "execution_count": 3,
   "metadata": {},
   "outputs": [
    {
     "name": "stdout",
     "output_type": "stream",
     "text": [
      "Sleeping 1 second(s)\n",
      "Sleeping 1 second(s)\n",
      "Done sleeping\n",
      "Done sleeping\n",
      "Finished running after seconds :  1.0206240937113762\n"
     ]
    }
   ],
   "source": [
    "start = time.perf_counter()\n",
    "p1 = multiprocessing.Process(target=sleep_for_a_bit, args=[1])\n",
    "p2 = multiprocessing.Process(target=sleep_for_a_bit, args=[1])\n",
    "\n",
    "if __name__=='__main__':\n",
    "    p1.start()\n",
    "    p2.start()\n",
    "    p1.join()\n",
    "    p2.join()\n",
    "\n",
    "finish = time.perf_counter()\n",
    "print(\"Finished running after seconds : \",finish-start)   "
   ]
  },
  {
   "cell_type": "code",
   "execution_count": 5,
   "metadata": {},
   "outputs": [
    {
     "name": "stdout",
     "output_type": "stream",
     "text": [
      "Sleeping 1 second(s)Sleeping 1 second(s)Sleeping 1 second(s)Sleeping 1 second(s)Sleeping 1 second(s)Sleeping 1 second(s)\n",
      "\n",
      "\n",
      "\n",
      "\n",
      "\n",
      "Sleeping 1 second(s)\n",
      "Sleeping 1 second(s)\n",
      "Sleeping 1 second(s)\n",
      "Sleeping 1 second(s)\n",
      "Done sleepingDone sleepingDone sleeping\n",
      "\n",
      "\n",
      "Done sleeping\n",
      "Done sleepingDone sleeping\n",
      "Done sleeping\n",
      "\n",
      "Done sleeping\n",
      "Done sleeping\n",
      "Done sleeping\n",
      "Finished running after seconds :  1.0722332065925002\n"
     ]
    }
   ],
   "source": [
    "processes =[]\n",
    "\n",
    "start = time.perf_counter()\n",
    "for x in range(10):\n",
    "    p = multiprocessing.Process(target=sleep_for_a_bit, args = [1])\n",
    "    if __name__=='__main__':\n",
    "        p.start()\n",
    "        processes.append(p)\n",
    "        \n",
    "for p in processes:\n",
    "    p.join()\n",
    "    \n",
    "finish = time.perf_counter()\n",
    "print(\"Finished running after seconds : \",finish-start)  "
   ]
  },
  {
   "cell_type": "code",
   "execution_count": 5,
   "metadata": {},
   "outputs": [],
   "source": [
    "def test(xx):\n",
    "    time.sleep(1)\n",
    "    return(xx**2)"
   ]
  },
  {
   "cell_type": "code",
   "execution_count": 6,
   "metadata": {},
   "outputs": [
    {
     "name": "stdout",
     "output_type": "stream",
     "text": [
      "Finished running after seconds :  1.013970843050629\n"
     ]
    }
   ],
   "source": [
    "processes =[]\n",
    "\n",
    "start = time.perf_counter()\n",
    "for x in range(4):\n",
    "    p = multiprocessing.Process(target=test, args = [x])\n",
    "    if __name__=='__main__':\n",
    "        p.start()\n",
    "        processes.append(p)\n",
    "        \n",
    "for p in processes:\n",
    "    p.join()\n",
    "    \n",
    "finish = time.perf_counter()\n",
    "print(\"Finished running after seconds : \",finish-start) "
   ]
  },
  {
   "cell_type": "code",
   "execution_count": 8,
   "metadata": {},
   "outputs": [
    {
     "ename": "AttributeError",
     "evalue": "'Process' object has no attribute 'result'",
     "output_type": "error",
     "traceback": [
      "\u001b[0;31m---------------------------------------------------------------------------\u001b[0m",
      "\u001b[0;31mAttributeError\u001b[0m                            Traceback (most recent call last)",
      "\u001b[0;32m<ipython-input-8-dfab1d2a7c5d>\u001b[0m in \u001b[0;36m<module>\u001b[0;34m\u001b[0m\n\u001b[0;32m----> 1\u001b[0;31m \u001b[0mp\u001b[0m\u001b[0;34m.\u001b[0m\u001b[0mresult\u001b[0m\u001b[0;34m\u001b[0m\u001b[0;34m\u001b[0m\u001b[0m\n\u001b[0m",
      "\u001b[0;31mAttributeError\u001b[0m: 'Process' object has no attribute 'result'"
     ]
    }
   ],
   "source": [
    "p.result"
   ]
  },
  {
   "cell_type": "code",
   "execution_count": null,
   "metadata": {},
   "outputs": [],
   "source": []
  }
 ],
 "metadata": {
  "kernelspec": {
   "display_name": "Python 3",
   "language": "python",
   "name": "python3"
  },
  "language_info": {
   "codemirror_mode": {
    "name": "ipython",
    "version": 3
   },
   "file_extension": ".py",
   "mimetype": "text/x-python",
   "name": "python",
   "nbconvert_exporter": "python",
   "pygments_lexer": "ipython3",
   "version": "3.7.7"
  }
 },
 "nbformat": 4,
 "nbformat_minor": 4
}
