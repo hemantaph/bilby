{
 "cells": [
  {
   "cell_type": "markdown",
   "metadata": {
    "Collapsed": "false",
    "colab_type": "text",
    "id": "OjUNeFsxyguu"
   },
   "source": [
    "# Gravitational Wave Parameter-Estimation Workshop\n",
    "\n",
    "## Tutorial: Parameter estimation for a GW150914-like injection in simulated data\n",
    "\n",
    "(Note, this tutorial and the open-data tutorial (tutorial A) are based on the [GWOSC ODW #3 tutorial 2.4](https://github.com/gw-odw/odw-2020). You may wish to browse that repository for similar notebooks covering a range of gravitational-wave data analysis subjects). \n",
    "\n",
    "This example estimates the non-spinning parameters of an injected binary black hole system using\n",
    "commonly used prior distributions. This will take about 40 minutes to run.\n",
    "   \n",
    "More examples at https://lscsoft.docs.ligo.org/bilby/examples.html"
   ]
  },
  {
   "cell_type": "markdown",
   "metadata": {
    "Collapsed": "false",
    "colab_type": "text",
    "id": "VwsIdKJ3yguv"
   },
   "source": [
    "##  Installation  (execute only if running on a cloud platform!)"
   ]
  },
  {
   "cell_type": "code",
   "execution_count": 1,
   "metadata": {
    "Collapsed": "false",
    "colab": {},
    "colab_type": "code",
    "id": "eJeo4XrHyguw"
   },
   "outputs": [],
   "source": [
    "# -- Use the following line in Google Colab\n",
    "#! pip install -q 'lalsuite' 'bilby' 'gwpy' 'nestle'\n",
    "#! pip install -q 'nestle'"
   ]
  },
  {
   "cell_type": "markdown",
   "metadata": {
    "Collapsed": "false",
    "colab_type": "text",
    "id": "f0q3Y_9gygu0"
   },
   "source": [
    "**Important:** With Google Colab, you may need to restart the runtime after running the cell above."
   ]
  },
  {
   "cell_type": "markdown",
   "metadata": {
    "Collapsed": "false",
    "colab_type": "text",
    "id": "XK8fHu13ygu1"
   },
   "source": [
    "## Initialization\n",
    "\n",
    "We begin by importing some commonly used functions"
   ]
  },
  {
   "cell_type": "code",
   "execution_count": 1,
   "metadata": {
    "Collapsed": "false",
    "colab": {},
    "colab_type": "code",
    "id": "HyRSGt6cygu2"
   },
   "outputs": [],
   "source": [
    "from __future__ import division, print_function\n",
    "import numpy as np\n",
    "import matplotlib.pyplot as plt\n",
    "\n",
    "import bilby\n",
    "from bilby.core.prior import Uniform\n",
    "from bilby.gw.conversion import convert_to_lal_binary_black_hole_parameters, generate_all_bbh_parameters\n",
    "%matplotlib inline"
   ]
  },
  {
   "cell_type": "markdown",
   "metadata": {
    "colab_type": "text",
    "id": "Kebaay1_-VCl"
   },
   "source": [
    "## Bilby version"
   ]
  },
  {
   "cell_type": "code",
   "execution_count": 2,
   "metadata": {
    "colab": {},
    "colab_type": "code",
    "id": "ce3X6j8_-VCm"
   },
   "outputs": [
    {
     "name": "stdout",
     "output_type": "stream",
     "text": [
      "1.0.1: release\n"
     ]
    }
   ],
   "source": [
    "print(bilby.__version__)"
   ]
  },
  {
   "cell_type": "markdown",
   "metadata": {
    "Collapsed": "false",
    "colab_type": "text",
    "id": "_Hd4d4KVygu6"
   },
   "source": [
    "## Creating fake data\n",
    "In this notebook, we'll analyse GW150914-like injection. Our first task is to create some data!"
   ]
  },
  {
   "cell_type": "markdown",
   "metadata": {
    "colab_type": "text",
    "id": "t_SF9Ka0-VCt"
   },
   "source": [
    "Set up a random seed for result reproducibility.  This is optional!"
   ]
  },
  {
   "cell_type": "code",
   "execution_count": 3,
   "metadata": {
    "Collapsed": "false",
    "colab": {},
    "colab_type": "code",
    "id": "1cUhLaFIygu6"
   },
   "outputs": [],
   "source": [
    "np.random.seed(1234)"
   ]
  },
  {
   "cell_type": "markdown",
   "metadata": {
    "colab_type": "text",
    "id": "LeNFXNhk-VC0"
   },
   "source": [
    "We now need to specify the parameters of our injection. You can set this up as a python dictionary"
   ]
  },
  {
   "cell_type": "code",
   "execution_count": 4,
   "metadata": {
    "colab": {},
    "colab_type": "code",
    "id": "0NS7dsbo-VC1"
   },
   "outputs": [],
   "source": [
    "injection_parameters = dict(\n",
    "    mass_1=36., mass_2=29., a_1=0.4, a_2=0.3, tilt_1=0.5, tilt_2=1.0,\n",
    "    phi_12=1.7, phi_jl=0.3, luminosity_distance=4000., theta_jn=0.4, psi=2.659,\n",
    "    phase=1.3, geocent_time=1126259642.413, ra=1.375, dec=-1.2108)"
   ]
  },
  {
   "cell_type": "markdown",
   "metadata": {
    "colab_type": "text",
    "id": "2O2IkK-s-VC9"
   },
   "source": [
    "We also need to set up some additional arguments such as what waveform approximant to use and what the minimum frequencies for analysis are. This can again be set up as a python dictionary. While the duration and sampling frequenciy can be set up as variables."
   ]
  },
  {
   "cell_type": "code",
   "execution_count": 5,
   "metadata": {
    "colab": {},
    "colab_type": "code",
    "id": "oGbSBHKK-VC-"
   },
   "outputs": [],
   "source": [
    "waveform_arguments = dict(waveform_approximant='IMRPhenomPv2',\n",
    "                          reference_frequency=50., minimum_frequency=20., catch_waveform_errors=True)\n",
    "duration = 4.\n",
    "sampling_frequency = 2048."
   ]
  },
  {
   "cell_type": "code",
   "execution_count": 6,
   "metadata": {},
   "outputs": [
    {
     "data": {
      "text/plain": [
       "{'waveform_approximant': 'IMRPhenomPv2',\n",
       " 'reference_frequency': 50.0,\n",
       " 'minimum_frequency': 20.0,\n",
       " 'catch_waveform_errors': True}"
      ]
     },
     "execution_count": 6,
     "metadata": {},
     "output_type": "execute_result"
    }
   ],
   "source": [
    "waveform_arguments"
   ]
  },
  {
   "cell_type": "markdown",
   "metadata": {
    "colab_type": "text",
    "id": "wcmwU4zS-VDJ"
   },
   "source": [
    "We will now set up a bilby waveform generator. This wraps up some of the jobs of converting between parameters etc"
   ]
  },
  {
   "cell_type": "code",
   "execution_count": 10,
   "metadata": {},
   "outputs": [
    {
     "data": {
      "text/plain": [
       "{'plus': array([0.00000000e+00-0.00000000e+00j,\n",
       "        0.00000000e+00-0.00000000e+00j,\n",
       "        0.00000000e+00-0.00000000e+00j, ...,\n",
       "        2.96073320e-28+4.26046663e-28j,\n",
       "        2.82091103e-28+4.18149017e-28j,\n",
       "        0.00000000e+00-0.00000000e+00j]),\n",
       " 'cross': array([0.00000000e+00+0.00000000e+00j,\n",
       "        0.00000000e+00+0.00000000e+00j,\n",
       "        0.00000000e+00+0.00000000e+00j, ...,\n",
       "        4.24009328e-28-2.97390074e-28j,\n",
       "        4.16186293e-28-2.83397773e-28j,\n",
       "        0.00000000e+00+0.00000000e+00j])}"
      ]
     },
     "execution_count": 10,
     "metadata": {},
     "output_type": "execute_result"
    }
   ],
   "source": [
    "ff=np.arange(0,500,1)\n",
    "bilby.gw.source.lal_binary_black_hole(frequency_array=ff,mass_1=36., mass_2=29., a_1=0.4, a_2=0.3, tilt_1=0.5, tilt_2=1.0,\n",
    "    phi_12=1.7, phi_jl=0.3, luminosity_distance=4000., theta_jn=0.4, psi=2.659,\n",
    "    phase=1.3, geocent_time=1126259642.413, ra=1.375, dec=-1.2108)"
   ]
  },
  {
   "cell_type": "code",
   "execution_count": 8,
   "metadata": {
    "colab": {},
    "colab_type": "code",
    "id": "LGZ3FJEH-VDL",
    "scrolled": true
   },
   "outputs": [
    {
     "name": "stderr",
     "output_type": "stream",
     "text": [
      "21:20 bilby INFO    : Waveform generator initiated with\n",
      "  frequency_domain_source_model: bilby.gw.source.lal_binary_black_hole\n",
      "  time_domain_source_model: None\n",
      "  parameter_conversion: bilby.gw.conversion.convert_to_lal_binary_black_hole_parameters\n"
     ]
    }
   ],
   "source": [
    "waveform_generator = bilby.gw.WaveformGenerator(\n",
    "    duration=duration, sampling_frequency=sampling_frequency,\n",
    "    frequency_domain_source_model=bilby.gw.source.lal_binary_black_hole,\n",
    "    parameter_conversion=bilby.gw.conversion.convert_to_lal_binary_black_hole_parameters,\n",
    "    waveform_arguments=waveform_arguments)"
   ]
  },
  {
   "cell_type": "code",
   "execution_count": 9,
   "metadata": {},
   "outputs": [
    {
     "data": {
      "text/plain": [
       "<function bilby.gw.source.lal_binary_black_hole(frequency_array, mass_1, mass_2, luminosity_distance, a_1, tilt_1, phi_12, a_2, tilt_2, phi_jl, theta_jn, phase, **kwargs)>"
      ]
     },
     "execution_count": 9,
     "metadata": {},
     "output_type": "execute_result"
    }
   ],
   "source": [
    "bilby.gw.source.lal_binary_black_hole"
   ]
  },
  {
   "cell_type": "markdown",
   "metadata": {
    "colab_type": "text",
    "id": "cDjm_WWa-VDb"
   },
   "source": [
    "We now set up the bilby interferometers and inject data"
   ]
  },
  {
   "cell_type": "code",
   "execution_count": 9,
   "metadata": {
    "colab": {},
    "colab_type": "code",
    "id": "DqXqt2_n-VDe"
   },
   "outputs": [
    {
     "name": "stderr",
     "output_type": "stream",
     "text": [
      "/home/hemantakumar.phurailatpam/anaconda3/envs/bilby/lib/python3.6/site-packages/bilby/gw/detector/psd.py:356: RuntimeWarning: invalid value encountered in multiply\n",
      "  frequency_domain_strain = self.__power_spectral_density_interpolated(frequencies) ** 0.5 * white_noise\n",
      "19:22 bilby INFO    : Injected signal in H1:\n",
      "19:22 bilby INFO    :   optimal SNR = 5.89\n",
      "19:22 bilby INFO    :   matched filter SNR = 6.42-0.21j\n",
      "19:22 bilby INFO    :   mass_1 = 36.0\n",
      "19:22 bilby INFO    :   mass_2 = 29.0\n",
      "19:22 bilby INFO    :   a_1 = 0.4\n",
      "19:22 bilby INFO    :   a_2 = 0.3\n",
      "19:22 bilby INFO    :   tilt_1 = 0.5\n",
      "19:22 bilby INFO    :   tilt_2 = 1.0\n",
      "19:22 bilby INFO    :   phi_12 = 1.7\n",
      "19:22 bilby INFO    :   phi_jl = 0.3\n",
      "19:22 bilby INFO    :   luminosity_distance = 4000.0\n",
      "19:22 bilby INFO    :   theta_jn = 0.4\n",
      "19:22 bilby INFO    :   psi = 2.659\n",
      "19:22 bilby INFO    :   phase = 1.3\n",
      "19:22 bilby INFO    :   geocent_time = 1126259642.413\n",
      "19:22 bilby INFO    :   ra = 1.375\n",
      "19:22 bilby INFO    :   dec = -1.2108\n",
      "19:22 bilby INFO    : Injected signal in L1:\n",
      "19:22 bilby INFO    :   optimal SNR = 4.77\n",
      "19:22 bilby INFO    :   matched filter SNR = 5.20+0.72j\n",
      "19:22 bilby INFO    :   mass_1 = 36.0\n",
      "19:22 bilby INFO    :   mass_2 = 29.0\n",
      "19:22 bilby INFO    :   a_1 = 0.4\n",
      "19:22 bilby INFO    :   a_2 = 0.3\n",
      "19:22 bilby INFO    :   tilt_1 = 0.5\n",
      "19:22 bilby INFO    :   tilt_2 = 1.0\n",
      "19:22 bilby INFO    :   phi_12 = 1.7\n",
      "19:22 bilby INFO    :   phi_jl = 0.3\n",
      "19:22 bilby INFO    :   luminosity_distance = 4000.0\n",
      "19:22 bilby INFO    :   theta_jn = 0.4\n",
      "19:22 bilby INFO    :   psi = 2.659\n",
      "19:22 bilby INFO    :   phase = 1.3\n",
      "19:22 bilby INFO    :   geocent_time = 1126259642.413\n",
      "19:22 bilby INFO    :   ra = 1.375\n",
      "19:22 bilby INFO    :   dec = -1.2108\n"
     ]
    }
   ],
   "source": [
    "ifos = bilby.gw.detector.InterferometerList(['H1', 'L1'])\n",
    "ifos.set_strain_data_from_power_spectral_densities(\n",
    "    sampling_frequency=sampling_frequency, duration=duration,\n",
    "    start_time=injection_parameters['geocent_time'] - 3)\n",
    "injection = ifos.inject_signal(\n",
    "    waveform_generator=waveform_generator,\n",
    "    parameters=injection_parameters)"
   ]
  },
  {
   "cell_type": "markdown",
   "metadata": {
    "colab_type": "text",
    "id": "aHJl7KfR-VDn"
   },
   "source": [
    "### Looking at the data\n",
    "Okay, we have spent a bit of time now initializing things. Let's check that everything makes sense. To do this, we'll plot our analysis data alongwise the amplitude spectral density (ASD); this is just the square root of the PSD and has the right units to be comparable to the frequency-domain strain data. We also add the \"injection\", here we plot the absolute value of the (complex) plus polarization."
   ]
  },
  {
   "cell_type": "code",
   "execution_count": 10,
   "metadata": {
    "colab": {},
    "colab_type": "code",
    "id": "5X8dXgfe-VDp",
    "scrolled": true
   },
   "outputs": [
    {
     "data": {
      "image/png": "[encoded data removed]",
      "text/plain": [
       "<Figure size 432x288 with 1 Axes>"
      ]
     },
     "metadata": {
      "needs_background": "light"
     },
     "output_type": "display_data"
    }
   ],
   "source": [
    "H1 = ifos[0]\n",
    "H1_injection = injection[0]\n",
    "\n",
    "fig, ax = plt.subplots()\n",
    "idxs = H1.strain_data.frequency_mask  # This is a boolean mask of the frequencies which we'll use in the analysis\n",
    "ax.loglog(H1.strain_data.frequency_array[idxs],\n",
    "          np.abs(H1.strain_data.frequency_domain_strain[idxs]),\n",
    "          label=\"data\")\n",
    "ax.loglog(H1.frequency_array[idxs],\n",
    "          H1.amplitude_spectral_density_array[idxs],\n",
    "          label=\"ASD\")\n",
    "ax.loglog(H1.frequency_array[idxs],\n",
    "          np.abs(H1_injection[\"plus\"][idxs]),\n",
    "          label=\"Abs. val. of plus polarization\")\n",
    "ax.set_xlabel(\"Frequency [Hz]\")\n",
    "ax.set_ylabel(\"Strain [strain/$\\sqrt{Hz}$]\")\n",
    "ax.legend()\n",
    "plt.show()"
   ]
  },
  {
   "cell_type": "markdown",
   "metadata": {
    "colab_type": "text",
    "id": "BHmntnGC-VDz"
   },
   "source": [
    "## Low dimensional analysis\n",
    "\n",
    "As in the open-data tutorial, we'll do a low-dimensional analysis."
   ]
  },
  {
   "cell_type": "markdown",
   "metadata": {
    "colab_type": "text",
    "id": "-BOBg5PF-VD1"
   },
   "source": [
    "### Create a prior\n",
    "\n",
    "Here, we create a prior fixing everything except the chirp mass, mass ratio and geocent_time parameters to fixed values. The first two we described above. The geocent_time is the time at which it merges."
   ]
  },
  {
   "cell_type": "code",
   "execution_count": 11,
   "metadata": {
    "colab": {},
    "colab_type": "code",
    "id": "i_L0CzpZ-VD2"
   },
   "outputs": [],
   "source": [
    "prior = bilby.core.prior.PriorDict()\n",
    "prior['chirp_mass'] = Uniform(name='chirp_mass', minimum=27.0,maximum=32.5)\n",
    "prior['mass_ratio'] = Uniform(name='mass_ratio', minimum=0.5, maximum=1)\n",
    "# We fix the rest of the parameters to their injected values\n",
    "for key in ['a_1', 'a_2', 'tilt_1', 'tilt_2', 'phi_12', 'phi_jl', 'psi', 'ra',\n",
    "            'dec','luminosity_distance', 'theta_jn', 'phase', 'geocent_time']:\n",
    "    prior[key] = injection_parameters[key]"
   ]
  },
  {
   "cell_type": "code",
   "execution_count": 12,
   "metadata": {
    "colab": {},
    "colab_type": "code",
    "id": "WXjk6dYh-VD-"
   },
   "outputs": [
    {
     "data": {
      "text/plain": [
       "{'chirp_mass': Uniform(minimum=27.0, maximum=32.5, name='chirp_mass', latex_label='$\\\\mathcal{M}$', unit=None, boundary=None),\n",
       " 'mass_ratio': Uniform(minimum=0.5, maximum=1, name='mass_ratio', latex_label='$q$', unit=None, boundary=None),\n",
       " 'a_1': 0.4,\n",
       " 'a_2': 0.3,\n",
       " 'tilt_1': 0.5,\n",
       " 'tilt_2': 1.0,\n",
       " 'phi_12': 1.7,\n",
       " 'phi_jl': 0.3,\n",
       " 'psi': 2.659,\n",
       " 'ra': 1.375,\n",
       " 'dec': -1.2108,\n",
       " 'luminosity_distance': 4000.0,\n",
       " 'theta_jn': 0.4,\n",
       " 'phase': 1.3,\n",
       " 'geocent_time': 1126259642.413}"
      ]
     },
     "execution_count": 12,
     "metadata": {},
     "output_type": "execute_result"
    }
   ],
   "source": [
    "prior"
   ]
  },
  {
   "cell_type": "markdown",
   "metadata": {
    "colab_type": "text",
    "id": "zevvjuE5-VEP"
   },
   "source": [
    "## Create a likelihood\n",
    "\n",
    "For Bayesian inference, we need to evaluate the likelihood. In Bilby, we create a likelihood object. This is the communication interface between the sampling part of Bilby and the data. Explicitly, when Bilby is sampling it only uses the `parameters` and `log_likelihood()` of the likelihood object. This means the likelihood can be arbitrarily complicated and the sampling part of Bilby won't mind a bit!\n",
    "\n",
    "Let's create a `GravitationalWaveTransient`, a special inbuilt method carefully designed to wrap up evaluating the likelihood of a waveform model in some data."
   ]
  },
  {
   "cell_type": "code",
   "execution_count": 13,
   "metadata": {
    "colab": {},
    "colab_type": "code",
    "id": "L1A5gM9e-VER"
   },
   "outputs": [],
   "source": [
    "likelihood = bilby.gw.likelihood.GravitationalWaveTransient(\n",
    "    interferometers=ifos, waveform_generator=waveform_generator, priors=prior,\n",
    "    time_marginalization=False, phase_marginalization=False, distance_marginalization=False)\n"
   ]
  },
  {
   "cell_type": "markdown",
   "metadata": {
    "colab_type": "text",
    "id": "JIH8trrW-VEd"
   },
   "source": [
    "This will print a warning about the `start_time`, it is safe to ignore this.\n",
    "\n",
    "Here, we do not use any marginalization (we fixed these parameters to the injection values in the prior)"
   ]
  },
  {
   "cell_type": "markdown",
   "metadata": {
    "colab_type": "text",
    "id": "rAQMkmOh-VEf"
   },
   "source": [
    "### Run the analysis"
   ]
  },
  {
   "cell_type": "markdown",
   "metadata": {
    "Collapsed": "false",
    "colab_type": "text",
    "id": "LCfygeVyygvM"
   },
   "source": [
    "Now that the prior is set-up and the likelihood is set-up (with the data and the signal mode), we can run the sampler to get the posterior result. This function takes the likelihood and prior along with some options for how to do the sampling and how to save the data."
   ]
  },
  {
   "cell_type": "code",
   "execution_count": 14,
   "metadata": {
    "Collapsed": "false",
    "colab": {},
    "colab_type": "code",
    "id": "HHS9JSX3ygvN"
   },
   "outputs": [
    {
     "name": "stderr",
     "output_type": "stream",
     "text": [
      "19:22 bilby INFO    : Running for label 'GW150914', output will be saved to 'short'\n",
      "19:22 bilby INFO    : Using lal version 7.0.0\n",
      "19:22 bilby INFO    : Using lal git version Branch: None;Tag: lalsuite-v6.76;Id: 384ac5e4b9c95803607658118ba361dfc353dade;;Builder: Unknown User <>;Repository status: UNCLEAN: Modified working tree\n",
      "19:22 bilby INFO    : Using lalsimulation version 2.2.0\n",
      "19:22 bilby INFO    : Using lalsimulation git version Branch: None;Tag: lalsuite-v6.76;Id: 384ac5e4b9c95803607658118ba361dfc353dade;;Builder: Unknown User <>;Repository status: UNCLEAN: Modified working tree\n",
      "19:22 bilby INFO    : Search parameters:\n",
      "19:22 bilby INFO    :   chirp_mass = Uniform(minimum=27.0, maximum=32.5, name='chirp_mass', latex_label='$\\\\mathcal{M}$', unit=None, boundary=None)\n",
      "19:22 bilby INFO    :   mass_ratio = Uniform(minimum=0.5, maximum=1, name='mass_ratio', latex_label='$q$', unit=None, boundary=None)\n",
      "19:22 bilby INFO    :   a_1 = 0.4\n",
      "19:22 bilby INFO    :   a_2 = 0.3\n",
      "19:22 bilby INFO    :   tilt_1 = 0.5\n",
      "19:22 bilby INFO    :   tilt_2 = 1.0\n",
      "19:22 bilby INFO    :   phi_12 = 1.7\n",
      "19:22 bilby INFO    :   phi_jl = 0.3\n",
      "19:22 bilby INFO    :   psi = 2.659\n",
      "19:22 bilby INFO    :   ra = 1.375\n",
      "19:22 bilby INFO    :   dec = -1.2108\n",
      "19:22 bilby INFO    :   luminosity_distance = 4000.0\n",
      "19:22 bilby INFO    :   theta_jn = 0.4\n",
      "19:22 bilby INFO    :   phase = 1.3\n",
      "19:22 bilby INFO    :   geocent_time = 1126259642.413\n",
      "19:22 bilby INFO    : Single likelihood evaluation took 5.636e-03 s\n"
     ]
    },
    {
     "name": "stdout",
     "output_type": "stream",
     "text": [
      "\r",
      "0it [00:00, ?it/s]"
     ]
    },
    {
     "name": "stderr",
     "output_type": "stream",
     "text": [
      "19:22 bilby INFO    : Using sampler Dynesty with kwargs {'bound': 'multi', 'sample': 'rwalk', 'verbose': True, 'periodic': None, 'reflective': None, 'check_point_delta_t': 600, 'nlive': 500, 'first_update': None, 'walks': 100, 'npdim': None, 'rstate': None, 'queue_size': 1, 'pool': None, 'use_pool': None, 'live_points': None, 'logl_args': None, 'logl_kwargs': None, 'ptform_args': None, 'ptform_kwargs': None, 'enlarge': 1.5, 'bootstrap': None, 'vol_dec': 0.5, 'vol_check': 8.0, 'facc': 0.2, 'slices': 5, 'update_interval': 300, 'print_func': <bound method Dynesty._print_func of <bilby.core.sampler.dynesty.Dynesty object at 0x7f55f7eb63c8>>, 'dlogz': 3, 'maxiter': None, 'maxcall': None, 'logl_max': inf, 'add_live': True, 'print_progress': True, 'save_bounds': False, 'n_effective': None, 'maxmcmc': 5000, 'nact': 5}\n",
      "19:22 bilby INFO    : Checkpoint every check_point_delta_t = 600s\n",
      "19:22 bilby INFO    : Using dynesty version 1.0.1\n",
      "19:22 bilby INFO    : Generating initial points from the prior\n",
      "19:22 bilby INFO    : Using the bilby-implemented rwalk sample method with ACT estimated walks\n"
     ]
    },
    {
     "name": "stdout",
     "output_type": "stream",
     "text": [
      "572it [00:09, 68.71it/s, bound:0 nc:  2 ncall:1.5e+03 eff:38.3% logz-ratio=-7.43+/-0.11 dlogz:40.248>3]  "
     ]
    },
    {
     "name": "stderr",
     "output_type": "stream",
     "text": [
      "19:22 bilby INFO    : Written checkpoint file short/GW150914_resume.pickle\n"
     ]
    },
    {
     "name": "stdout",
     "output_type": "stream",
     "text": [
      "2064it [04:55,  1.78it/s, bound:93 nc:101 ncall:5.3e+04 eff:3.9% logz-ratio=26.93+/-0.12 dlogz:3.000>3] "
     ]
    },
    {
     "name": "stderr",
     "output_type": "stream",
     "text": [
      "19:27 bilby INFO    : Written checkpoint file short/GW150914_resume.pickle\n",
      "19:27 bilby INFO    : Writing 236 current samples to short/GW150914_samples.dat\n"
     ]
    },
    {
     "name": "stdout",
     "output_type": "stream",
     "text": [
      "2064it [04:59,  6.90it/s, bound:93 nc:  1 ncall:5.3e+04 eff:4.8% logz-ratio=29.10+/-0.13 dlogz:0.004>3]\n",
      "\n"
     ]
    },
    {
     "name": "stderr",
     "output_type": "stream",
     "text": [
      "19:27 bilby INFO    : Sampling time: 0:04:51.712960\n",
      "19:27 bilby INFO    : Generating sky frame parameters.\n"
     ]
    },
    {
     "name": "stdout",
     "output_type": "stream",
     "text": [
      "100%|██████████| 2564/2564 [00:00<00:00, 2971.41it/s]\n"
     ]
    },
    {
     "name": "stderr",
     "output_type": "stream",
     "text": [
      "19:27 bilby INFO    : Computing SNRs for every sample.\n"
     ]
    },
    {
     "name": "stdout",
     "output_type": "stream",
     "text": [
      "100%|██████████| 2564/2564 [00:11<00:00, 221.38it/s]\n"
     ]
    },
    {
     "name": "stderr",
     "output_type": "stream",
     "text": [
      "19:27 bilby INFO    : Summary of results:\n",
      "nsamples: 2564\n",
      "ln_noise_evidence: -7999.994\n",
      "ln_evidence: -7970.891 +/-  0.125\n",
      "ln_bayes_factor: 29.103 +/-  0.125\n",
      "\n"
     ]
    }
   ],
   "source": [
    "result_short = bilby.run_sampler(\n",
    "    likelihood, prior, sampler='dynesty', outdir='short', label=\"GW150914\",\n",
    "    conversion_function=bilby.gw.conversion.generate_all_bbh_parameters,\n",
    "    nlive=500, dlogz=3,  # <- Arguments are used to make things fast - not recommended for general use\n",
    "    clean=True\n",
    ")"
   ]
  },
  {
   "cell_type": "markdown",
   "metadata": {
    "colab_type": "text",
    "id": "_767bg3b-VEn"
   },
   "source": [
    "### Looking at the outputs"
   ]
  },
  {
   "cell_type": "markdown",
   "metadata": {
    "Collapsed": "false",
    "colab_type": "text",
    "id": "wKR045TIygvT"
   },
   "source": [
    "The `run_sampler` returned `result_short` - this is a Bilby result object. The posterior samples are stored in a [pandas data frame](https://pandas.pydata.org/pandas-docs/stable/reference/api/pandas.DataFrame.html) (think of this like a spreadsheet), let's take a look at it"
   ]
  },
  {
   "cell_type": "code",
   "execution_count": 15,
   "metadata": {
    "colab": {},
    "colab_type": "code",
    "id": "tvlzeXz9-VEo"
   },
   "outputs": [
    {
     "data": {
      "text/html": [
       "<div>\n",
       "<style scoped>\n",
       "    .dataframe tbody tr th:only-of-type {\n",
       "        vertical-align: middle;\n",
       "    }\n",
       "\n",
       "    .dataframe tbody tr th {\n",
       "        vertical-align: top;\n",
       "    }\n",
       "\n",
       "    .dataframe thead th {\n",
       "        text-align: right;\n",
       "    }\n",
       "</style>\n",
       "<table border=\"1\" class=\"dataframe\">\n",
       "  <thead>\n",
       "    <tr style=\"text-align: right;\">\n",
       "      <th></th>\n",
       "      <th>chirp_mass</th>\n",
       "      <th>mass_ratio</th>\n",
       "      <th>a_1</th>\n",
       "      <th>a_2</th>\n",
       "      <th>tilt_1</th>\n",
       "      <th>tilt_2</th>\n",
       "      <th>phi_12</th>\n",
       "      <th>phi_jl</th>\n",
       "      <th>psi</th>\n",
       "      <th>ra</th>\n",
       "      <th>...</th>\n",
       "      <th>redshift</th>\n",
       "      <th>comoving_distance</th>\n",
       "      <th>mass_1_source</th>\n",
       "      <th>mass_2_source</th>\n",
       "      <th>chirp_mass_source</th>\n",
       "      <th>total_mass_source</th>\n",
       "      <th>H1_matched_filter_snr</th>\n",
       "      <th>H1_optimal_snr</th>\n",
       "      <th>L1_matched_filter_snr</th>\n",
       "      <th>L1_optimal_snr</th>\n",
       "    </tr>\n",
       "  </thead>\n",
       "  <tbody>\n",
       "    <tr>\n",
       "      <th>0</th>\n",
       "      <td>28.895338</td>\n",
       "      <td>0.794630</td>\n",
       "      <td>0.4</td>\n",
       "      <td>0.3</td>\n",
       "      <td>0.5</td>\n",
       "      <td>1.0</td>\n",
       "      <td>1.7</td>\n",
       "      <td>0.3</td>\n",
       "      <td>2.659</td>\n",
       "      <td>1.375</td>\n",
       "      <td>...</td>\n",
       "      <td>0.649279</td>\n",
       "      <td>2425.302528</td>\n",
       "      <td>22.606314</td>\n",
       "      <td>17.963653</td>\n",
       "      <td>17.519984</td>\n",
       "      <td>40.569967</td>\n",
       "      <td>5.390572-2.569298j</td>\n",
       "      <td>6.023976</td>\n",
       "      <td>4.262421-2.058825j</td>\n",
       "      <td>4.875912</td>\n",
       "    </tr>\n",
       "    <tr>\n",
       "      <th>1</th>\n",
       "      <td>28.807385</td>\n",
       "      <td>0.792338</td>\n",
       "      <td>0.4</td>\n",
       "      <td>0.3</td>\n",
       "      <td>0.5</td>\n",
       "      <td>1.0</td>\n",
       "      <td>1.7</td>\n",
       "      <td>0.3</td>\n",
       "      <td>2.659</td>\n",
       "      <td>1.375</td>\n",
       "      <td>...</td>\n",
       "      <td>0.649279</td>\n",
       "      <td>2425.302528</td>\n",
       "      <td>22.570824</td>\n",
       "      <td>17.883725</td>\n",
       "      <td>17.466656</td>\n",
       "      <td>40.454549</td>\n",
       "      <td>5.658749-2.185704j</td>\n",
       "      <td>6.008668</td>\n",
       "      <td>4.515051-1.751528j</td>\n",
       "      <td>4.863510</td>\n",
       "    </tr>\n",
       "    <tr>\n",
       "      <th>2</th>\n",
       "      <td>27.275540</td>\n",
       "      <td>0.908430</td>\n",
       "      <td>0.4</td>\n",
       "      <td>0.3</td>\n",
       "      <td>0.5</td>\n",
       "      <td>1.0</td>\n",
       "      <td>1.7</td>\n",
       "      <td>0.3</td>\n",
       "      <td>2.659</td>\n",
       "      <td>1.375</td>\n",
       "      <td>...</td>\n",
       "      <td>0.649279</td>\n",
       "      <td>2425.302528</td>\n",
       "      <td>19.936074</td>\n",
       "      <td>18.110528</td>\n",
       "      <td>16.537859</td>\n",
       "      <td>38.046603</td>\n",
       "      <td>6.226669-1.721413j</td>\n",
       "      <td>5.750664</td>\n",
       "      <td>3.941863+0.640878j</td>\n",
       "      <td>4.654283</td>\n",
       "    </tr>\n",
       "    <tr>\n",
       "      <th>3</th>\n",
       "      <td>27.654895</td>\n",
       "      <td>0.801232</td>\n",
       "      <td>0.4</td>\n",
       "      <td>0.3</td>\n",
       "      <td>0.5</td>\n",
       "      <td>1.0</td>\n",
       "      <td>1.7</td>\n",
       "      <td>0.3</td>\n",
       "      <td>2.659</td>\n",
       "      <td>1.375</td>\n",
       "      <td>...</td>\n",
       "      <td>0.649279</td>\n",
       "      <td>2425.302528</td>\n",
       "      <td>21.544522</td>\n",
       "      <td>17.262164</td>\n",
       "      <td>16.767872</td>\n",
       "      <td>38.806686</td>\n",
       "      <td>6.290570+1.735866j</td>\n",
       "      <td>5.812642</td>\n",
       "      <td>3.961702+2.732766j</td>\n",
       "      <td>4.704653</td>\n",
       "    </tr>\n",
       "    <tr>\n",
       "      <th>4</th>\n",
       "      <td>27.397704</td>\n",
       "      <td>0.910792</td>\n",
       "      <td>0.4</td>\n",
       "      <td>0.3</td>\n",
       "      <td>0.5</td>\n",
       "      <td>1.0</td>\n",
       "      <td>1.7</td>\n",
       "      <td>0.3</td>\n",
       "      <td>2.659</td>\n",
       "      <td>1.375</td>\n",
       "      <td>...</td>\n",
       "      <td>0.649279</td>\n",
       "      <td>2425.302528</td>\n",
       "      <td>19.999134</td>\n",
       "      <td>18.215057</td>\n",
       "      <td>16.611930</td>\n",
       "      <td>38.214191</td>\n",
       "      <td>6.055866-2.368995j</td>\n",
       "      <td>5.771711</td>\n",
       "      <td>4.299640+0.155030j</td>\n",
       "      <td>4.671334</td>\n",
       "    </tr>\n",
       "    <tr>\n",
       "      <th>...</th>\n",
       "      <td>...</td>\n",
       "      <td>...</td>\n",
       "      <td>...</td>\n",
       "      <td>...</td>\n",
       "      <td>...</td>\n",
       "      <td>...</td>\n",
       "      <td>...</td>\n",
       "      <td>...</td>\n",
       "      <td>...</td>\n",
       "      <td>...</td>\n",
       "      <td>...</td>\n",
       "      <td>...</td>\n",
       "      <td>...</td>\n",
       "      <td>...</td>\n",
       "      <td>...</td>\n",
       "      <td>...</td>\n",
       "      <td>...</td>\n",
       "      <td>...</td>\n",
       "      <td>...</td>\n",
       "      <td>...</td>\n",
       "      <td>...</td>\n",
       "    </tr>\n",
       "    <tr>\n",
       "      <th>2559</th>\n",
       "      <td>28.184449</td>\n",
       "      <td>0.801602</td>\n",
       "      <td>0.4</td>\n",
       "      <td>0.3</td>\n",
       "      <td>0.5</td>\n",
       "      <td>1.0</td>\n",
       "      <td>1.7</td>\n",
       "      <td>0.3</td>\n",
       "      <td>2.659</td>\n",
       "      <td>1.375</td>\n",
       "      <td>...</td>\n",
       "      <td>0.649279</td>\n",
       "      <td>2425.302528</td>\n",
       "      <td>21.951892</td>\n",
       "      <td>17.596681</td>\n",
       "      <td>17.088954</td>\n",
       "      <td>39.548574</td>\n",
       "      <td>6.392443-0.347696j</td>\n",
       "      <td>5.903598</td>\n",
       "      <td>5.252168+0.438752j</td>\n",
       "      <td>4.778356</td>\n",
       "    </tr>\n",
       "    <tr>\n",
       "      <th>2560</th>\n",
       "      <td>28.184449</td>\n",
       "      <td>0.801602</td>\n",
       "      <td>0.4</td>\n",
       "      <td>0.3</td>\n",
       "      <td>0.5</td>\n",
       "      <td>1.0</td>\n",
       "      <td>1.7</td>\n",
       "      <td>0.3</td>\n",
       "      <td>2.659</td>\n",
       "      <td>1.375</td>\n",
       "      <td>...</td>\n",
       "      <td>0.649279</td>\n",
       "      <td>2425.302528</td>\n",
       "      <td>21.951892</td>\n",
       "      <td>17.596681</td>\n",
       "      <td>17.088954</td>\n",
       "      <td>39.548574</td>\n",
       "      <td>6.392443-0.347696j</td>\n",
       "      <td>5.903598</td>\n",
       "      <td>5.252168+0.438752j</td>\n",
       "      <td>4.778356</td>\n",
       "    </tr>\n",
       "    <tr>\n",
       "      <th>2561</th>\n",
       "      <td>28.184449</td>\n",
       "      <td>0.801602</td>\n",
       "      <td>0.4</td>\n",
       "      <td>0.3</td>\n",
       "      <td>0.5</td>\n",
       "      <td>1.0</td>\n",
       "      <td>1.7</td>\n",
       "      <td>0.3</td>\n",
       "      <td>2.659</td>\n",
       "      <td>1.375</td>\n",
       "      <td>...</td>\n",
       "      <td>0.649279</td>\n",
       "      <td>2425.302528</td>\n",
       "      <td>21.951892</td>\n",
       "      <td>17.596681</td>\n",
       "      <td>17.088954</td>\n",
       "      <td>39.548574</td>\n",
       "      <td>6.392443-0.347696j</td>\n",
       "      <td>5.903598</td>\n",
       "      <td>5.252168+0.438752j</td>\n",
       "      <td>4.778356</td>\n",
       "    </tr>\n",
       "    <tr>\n",
       "      <th>2562</th>\n",
       "      <td>28.184449</td>\n",
       "      <td>0.801602</td>\n",
       "      <td>0.4</td>\n",
       "      <td>0.3</td>\n",
       "      <td>0.5</td>\n",
       "      <td>1.0</td>\n",
       "      <td>1.7</td>\n",
       "      <td>0.3</td>\n",
       "      <td>2.659</td>\n",
       "      <td>1.375</td>\n",
       "      <td>...</td>\n",
       "      <td>0.649279</td>\n",
       "      <td>2425.302528</td>\n",
       "      <td>21.951892</td>\n",
       "      <td>17.596681</td>\n",
       "      <td>17.088954</td>\n",
       "      <td>39.548574</td>\n",
       "      <td>6.392443-0.347696j</td>\n",
       "      <td>5.903598</td>\n",
       "      <td>5.252168+0.438752j</td>\n",
       "      <td>4.778356</td>\n",
       "    </tr>\n",
       "    <tr>\n",
       "      <th>2563</th>\n",
       "      <td>28.184449</td>\n",
       "      <td>0.801602</td>\n",
       "      <td>0.4</td>\n",
       "      <td>0.3</td>\n",
       "      <td>0.5</td>\n",
       "      <td>1.0</td>\n",
       "      <td>1.7</td>\n",
       "      <td>0.3</td>\n",
       "      <td>2.659</td>\n",
       "      <td>1.375</td>\n",
       "      <td>...</td>\n",
       "      <td>0.649279</td>\n",
       "      <td>2425.302528</td>\n",
       "      <td>21.951892</td>\n",
       "      <td>17.596681</td>\n",
       "      <td>17.088954</td>\n",
       "      <td>39.548574</td>\n",
       "      <td>6.392443-0.347696j</td>\n",
       "      <td>5.903598</td>\n",
       "      <td>5.252168+0.438752j</td>\n",
       "      <td>4.778356</td>\n",
       "    </tr>\n",
       "  </tbody>\n",
       "</table>\n",
       "<p>2564 rows × 49 columns</p>\n",
       "</div>"
      ],
      "text/plain": [
       "      chirp_mass  mass_ratio  a_1  a_2  tilt_1  tilt_2  phi_12  phi_jl    psi  \\\n",
       "0      28.895338    0.794630  0.4  0.3     0.5     1.0     1.7     0.3  2.659   \n",
       "1      28.807385    0.792338  0.4  0.3     0.5     1.0     1.7     0.3  2.659   \n",
       "2      27.275540    0.908430  0.4  0.3     0.5     1.0     1.7     0.3  2.659   \n",
       "3      27.654895    0.801232  0.4  0.3     0.5     1.0     1.7     0.3  2.659   \n",
       "4      27.397704    0.910792  0.4  0.3     0.5     1.0     1.7     0.3  2.659   \n",
       "...          ...         ...  ...  ...     ...     ...     ...     ...    ...   \n",
       "2559   28.184449    0.801602  0.4  0.3     0.5     1.0     1.7     0.3  2.659   \n",
       "2560   28.184449    0.801602  0.4  0.3     0.5     1.0     1.7     0.3  2.659   \n",
       "2561   28.184449    0.801602  0.4  0.3     0.5     1.0     1.7     0.3  2.659   \n",
       "2562   28.184449    0.801602  0.4  0.3     0.5     1.0     1.7     0.3  2.659   \n",
       "2563   28.184449    0.801602  0.4  0.3     0.5     1.0     1.7     0.3  2.659   \n",
       "\n",
       "         ra  ...  redshift  comoving_distance  mass_1_source  mass_2_source  \\\n",
       "0     1.375  ...  0.649279        2425.302528      22.606314      17.963653   \n",
       "1     1.375  ...  0.649279        2425.302528      22.570824      17.883725   \n",
       "2     1.375  ...  0.649279        2425.302528      19.936074      18.110528   \n",
       "3     1.375  ...  0.649279        2425.302528      21.544522      17.262164   \n",
       "4     1.375  ...  0.649279        2425.302528      19.999134      18.215057   \n",
       "...     ...  ...       ...                ...            ...            ...   \n",
       "2559  1.375  ...  0.649279        2425.302528      21.951892      17.596681   \n",
       "2560  1.375  ...  0.649279        2425.302528      21.951892      17.596681   \n",
       "2561  1.375  ...  0.649279        2425.302528      21.951892      17.596681   \n",
       "2562  1.375  ...  0.649279        2425.302528      21.951892      17.596681   \n",
       "2563  1.375  ...  0.649279        2425.302528      21.951892      17.596681   \n",
       "\n",
       "      chirp_mass_source  total_mass_source  H1_matched_filter_snr  \\\n",
       "0             17.519984          40.569967     5.390572-2.569298j   \n",
       "1             17.466656          40.454549     5.658749-2.185704j   \n",
       "2             16.537859          38.046603     6.226669-1.721413j   \n",
       "3             16.767872          38.806686     6.290570+1.735866j   \n",
       "4             16.611930          38.214191     6.055866-2.368995j   \n",
       "...                 ...                ...                    ...   \n",
       "2559          17.088954          39.548574     6.392443-0.347696j   \n",
       "2560          17.088954          39.548574     6.392443-0.347696j   \n",
       "2561          17.088954          39.548574     6.392443-0.347696j   \n",
       "2562          17.088954          39.548574     6.392443-0.347696j   \n",
       "2563          17.088954          39.548574     6.392443-0.347696j   \n",
       "\n",
       "      H1_optimal_snr L1_matched_filter_snr  L1_optimal_snr  \n",
       "0           6.023976    4.262421-2.058825j        4.875912  \n",
       "1           6.008668    4.515051-1.751528j        4.863510  \n",
       "2           5.750664    3.941863+0.640878j        4.654283  \n",
       "3           5.812642    3.961702+2.732766j        4.704653  \n",
       "4           5.771711    4.299640+0.155030j        4.671334  \n",
       "...              ...                   ...             ...  \n",
       "2559        5.903598    5.252168+0.438752j        4.778356  \n",
       "2560        5.903598    5.252168+0.438752j        4.778356  \n",
       "2561        5.903598    5.252168+0.438752j        4.778356  \n",
       "2562        5.903598    5.252168+0.438752j        4.778356  \n",
       "2563        5.903598    5.252168+0.438752j        4.778356  \n",
       "\n",
       "[2564 rows x 49 columns]"
      ]
     },
     "execution_count": 15,
     "metadata": {},
     "output_type": "execute_result"
    }
   ],
   "source": [
    "result_short.posterior"
   ]
  },
  {
   "cell_type": "markdown",
   "metadata": {
    "colab_type": "text",
    "id": "fGCSzPUy-VEw"
   },
   "source": [
    "We can pull out specific parameters that we are interested in"
   ]
  },
  {
   "cell_type": "code",
   "execution_count": 16,
   "metadata": {
    "colab": {},
    "colab_type": "code",
    "id": "JjaoMGOW-VEx"
   },
   "outputs": [
    {
     "data": {
      "text/plain": [
       "0       28.895338\n",
       "1       28.807385\n",
       "2       27.275540\n",
       "3       27.654895\n",
       "4       27.397704\n",
       "          ...    \n",
       "2559    28.184449\n",
       "2560    28.184449\n",
       "2561    28.184449\n",
       "2562    28.184449\n",
       "2563    28.184449\n",
       "Name: chirp_mass, Length: 2564, dtype: float64"
      ]
     },
     "execution_count": 16,
     "metadata": {},
     "output_type": "execute_result"
    }
   ],
   "source": [
    "result_short.posterior[\"chirp_mass\"]"
   ]
  },
  {
   "cell_type": "markdown",
   "metadata": {
    "colab_type": "text",
    "id": "auN_pn4s-VE2"
   },
   "source": [
    "This returned another `pandas` object. If you just want to get the numbers as a numpy array run"
   ]
  },
  {
   "cell_type": "code",
   "execution_count": 17,
   "metadata": {
    "colab": {},
    "colab_type": "code",
    "id": "ayPS0wqE-VE3"
   },
   "outputs": [],
   "source": [
    "Mc = result_short.posterior[\"chirp_mass\"].values"
   ]
  },
  {
   "cell_type": "markdown",
   "metadata": {
    "colab_type": "text",
    "id": "NXcbYaMl-VE9"
   },
   "source": [
    "We can then get some useful quantities such as the 90\\% credible interval"
   ]
  },
  {
   "cell_type": "code",
   "execution_count": 18,
   "metadata": {
    "colab": {},
    "colab_type": "code",
    "id": "ZRAlpHZf-VE-"
   },
   "outputs": [
    {
     "name": "stdout",
     "output_type": "stream",
     "text": [
      "Mc = 28.13646122016737 with a 90% C.I = 27.77920683604636 -> 28.526851677990372\n"
     ]
    }
   ],
   "source": [
    "lower_bound = np.quantile(Mc, 0.05)\n",
    "upper_bound = np.quantile(Mc, 0.95)\n",
    "median = np.quantile(Mc, 0.5)\n",
    "print(\"Mc = {} with a 90% C.I = {} -> {}\".format(median, lower_bound, upper_bound))"
   ]
  },
  {
   "cell_type": "markdown",
   "metadata": {
    "colab_type": "text",
    "id": "zuHlU9Go-VFD"
   },
   "source": [
    "We can then plot the chirp mass in a histogram adding a region to indicate the 90\\% C.I."
   ]
  },
  {
   "cell_type": "code",
   "execution_count": 19,
   "metadata": {
    "colab": {},
    "colab_type": "code",
    "id": "bxVsKaqu-VFE"
   },
   "outputs": [
    {
     "data": {
      "image/png": "[encoded data removed]",
      "text/plain": [
       "<Figure size 432x288 with 1 Axes>"
      ]
     },
     "metadata": {
      "needs_background": "light"
     },
     "output_type": "display_data"
    }
   ],
   "source": [
    "fig, ax = plt.subplots()\n",
    "ax.hist(result_short.posterior[\"chirp_mass\"], bins=20)\n",
    "ax.axvspan(lower_bound, upper_bound, color='C1', alpha=0.4)\n",
    "ax.axvline(median, color='C1')\n",
    "ax.set_xlabel(\"chirp mass\")\n",
    "plt.show()"
   ]
  },
  {
   "cell_type": "markdown",
   "metadata": {
    "colab_type": "text",
    "id": "tS9Z5fKP-VFV"
   },
   "source": [
    "The result object also has in-built methods to make nice plots such as corner plots. You can add the priors if you are only plotting parameter which you sampled in, e.g."
   ]
  },
  {
   "cell_type": "code",
   "execution_count": 20,
   "metadata": {
    "colab": {},
    "colab_type": "code",
    "id": "3UsDVXUF-VFY"
   },
   "outputs": [
    {
     "name": "stderr",
     "output_type": "stream",
     "text": [
      "/home/hemantakumar.phurailatpam/anaconda3/envs/bilby/lib/python3.6/site-packages/gwpy/plot/axes.py:75: UserWarning: Attempting to set identical left == right == 1126259642.413 results in singular transformations; automatically expanding.\n",
      "  return func(self, **kw)\n",
      "/home/hemantakumar.phurailatpam/anaconda3/envs/bilby/lib/python3.6/site-packages/corner/corner.py:809: UserWarning: Attempting to set identical bottom == top == 1126259642.413 results in singular transformations; automatically expanding.\n",
      "  ax.set_ylim(range[1])\n",
      "/home/hemantakumar.phurailatpam/anaconda3/envs/bilby/lib/python3.6/site-packages/corner/corner.py:809: UserWarning: Attempting to set identical bottom == top == 1126259642.413 results in singular transformations; automatically expanding.\n",
      "  ax.set_ylim(range[1])\n"
     ]
    },
    {
     "data": {
      "image/png": "[encoded data removed]",
      "text/plain": [
       "<Figure size 547.2x547.2 with 9 Axes>"
      ]
     },
     "execution_count": 20,
     "metadata": {},
     "output_type": "execute_result"
    }
   ],
   "source": [
    "result_short.plot_corner(parameters=[\"chirp_mass\", \"mass_ratio\", \"geocent_time\"], prior=True)"
   ]
  },
  {
   "cell_type": "markdown",
   "metadata": {
    "colab_type": "text",
    "id": "SID9ApbV-VFj"
   },
   "source": [
    "You can also plot lines indicating specific points. Here, we add the values recorded on [GWOSC](https://www.gw-openscience.org/events/GW150914/). Notably, these fall outside the bulk of the posterior uncertainty here. This is because we limited our prior - if instead we ran the full analysis these agree nicely."
   ]
  },
  {
   "cell_type": "code",
   "execution_count": 21,
   "metadata": {
    "Collapsed": "false",
    "colab": {},
    "colab_type": "code",
    "id": "SB4AqmTaygvU"
   },
   "outputs": [
    {
     "data": {
      "image/png": "[encoded data removed]",
      "text/plain": [
       "<Figure size 396x396 with 4 Axes>"
      ]
     },
     "execution_count": 21,
     "metadata": {},
     "output_type": "execute_result"
    }
   ],
   "source": [
    "parameters = dict(mass_1=36, mass_2=29)\n",
    "result_short.plot_corner(parameters)"
   ]
  },
  {
   "cell_type": "markdown",
   "metadata": {
    "colab_type": "text",
    "id": "_gfuXNik-VFy"
   },
   "source": [
    "Earlier we discussed the \"correlation\" - in this plot we start to see the correlation between $m_1$ and $m_2$."
   ]
  },
  {
   "cell_type": "markdown",
   "metadata": {
    "colab_type": "text",
    "id": "mNzoVEMq-VF1"
   },
   "source": [
    "### Meta data\n",
    "The result object also stores meta data, like the priors"
   ]
  },
  {
   "cell_type": "code",
   "execution_count": 22,
   "metadata": {
    "colab": {},
    "colab_type": "code",
    "id": "lUHVzMZy-VF3"
   },
   "outputs": [
    {
     "data": {
      "text/plain": [
       "{'chirp_mass': Uniform(minimum=27.0, maximum=32.5, name='chirp_mass', latex_label='$\\\\mathcal{M}$', unit=None, boundary=None),\n",
       " 'mass_ratio': Uniform(minimum=0.5, maximum=1, name='mass_ratio', latex_label='$q$', unit=None, boundary=None),\n",
       " 'a_1': DeltaFunction(peak=0.4, name=None, latex_label=None, unit=None),\n",
       " 'a_2': DeltaFunction(peak=0.3, name=None, latex_label=None, unit=None),\n",
       " 'tilt_1': DeltaFunction(peak=0.5, name=None, latex_label=None, unit=None),\n",
       " 'tilt_2': DeltaFunction(peak=1.0, name=None, latex_label=None, unit=None),\n",
       " 'phi_12': DeltaFunction(peak=1.7, name=None, latex_label=None, unit=None),\n",
       " 'phi_jl': DeltaFunction(peak=0.3, name=None, latex_label=None, unit=None),\n",
       " 'psi': DeltaFunction(peak=2.659, name=None, latex_label=None, unit=None),\n",
       " 'ra': DeltaFunction(peak=1.375, name=None, latex_label=None, unit=None),\n",
       " 'dec': DeltaFunction(peak=-1.2108, name=None, latex_label=None, unit=None),\n",
       " 'luminosity_distance': DeltaFunction(peak=4000.0, name=None, latex_label=None, unit=None),\n",
       " 'theta_jn': DeltaFunction(peak=0.4, name=None, latex_label=None, unit=None),\n",
       " 'phase': DeltaFunction(peak=1.3, name=None, latex_label=None, unit=None),\n",
       " 'geocent_time': DeltaFunction(peak=1126259642.413, name=None, latex_label=None, unit=None)}"
      ]
     },
     "execution_count": 22,
     "metadata": {},
     "output_type": "execute_result"
    }
   ],
   "source": [
    "result_short.priors"
   ]
  },
  {
   "cell_type": "markdown",
   "metadata": {
    "colab_type": "text",
    "id": "rTX2uUCG-VF9"
   },
   "source": [
    "and details of the analysis itself:"
   ]
  },
  {
   "cell_type": "code",
   "execution_count": 23,
   "metadata": {
    "colab": {},
    "colab_type": "code",
    "id": "fvAz8exL-VGN"
   },
   "outputs": [
    {
     "data": {
      "text/plain": [
       "500"
      ]
     },
     "execution_count": 23,
     "metadata": {},
     "output_type": "execute_result"
    }
   ],
   "source": [
    "result_short.sampler_kwargs[\"nlive\"]"
   ]
  },
  {
   "cell_type": "markdown",
   "metadata": {
    "colab_type": "text",
    "id": "J7luFxed-VGW"
   },
   "source": [
    "Finally, we can also get out the Bayes factor for the signal vs. Gaussian noise:"
   ]
  },
  {
   "cell_type": "code",
   "execution_count": 24,
   "metadata": {
    "colab": {},
    "colab_type": "code",
    "id": "-AfoZAXI-VGX"
   },
   "outputs": [
    {
     "name": "stdout",
     "output_type": "stream",
     "text": [
      "ln Bayes factor = 29.102763580914655 +/- 0.125169245578615\n"
     ]
    }
   ],
   "source": [
    "print(\"ln Bayes factor = {} +/- {}\".format(\n",
    "    result_short.log_bayes_factor, result_short.log_evidence_err))"
   ]
  },
  {
   "cell_type": "markdown",
   "metadata": {
    "colab_type": "text",
    "id": "1W_uFn76-VGb"
   },
   "source": [
    "## Challenge questions\n",
    "\n",
    "* Rerun the analysis with a different samler. *Hint: [see the docs](https://lscsoft.docs.ligo.org/bilby/samplers.html#switching-between-samplers)*. This may require you to install a new sampler!\n",
    "* Rerun the analysis with time marginalization. This will require you to change the prior to a uniform prior centered on the simulation value."
   ]
  }
 ],
 "metadata": {
  "colab": {
   "collapsed_sections": [],
   "name": "Tutorial for parameter estimation on simulated data with an injected GW150914-like signal",
   "provenance": []
  },
  "kernelspec": {
   "display_name": "Python 3",
   "language": "python",
   "name": "python3"
  },
  "language_info": {
   "codemirror_mode": {
    "name": "ipython",
    "version": 3
   },
   "file_extension": ".py",
   "mimetype": "text/x-python",
   "name": "python",
   "nbconvert_exporter": "python",
   "pygments_lexer": "ipython3",
   "version": "3.6.12"
  }
 },
 "nbformat": 4,
 "nbformat_minor": 1
}
