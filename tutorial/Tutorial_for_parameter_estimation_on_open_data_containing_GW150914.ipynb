{
 "cells": [
  {
   "cell_type": "markdown",
   "metadata": {
    "Collapsed": "false",
    "colab_type": "text",
    "id": "OjUNeFsxyguu"
   },
   "source": [
    "#  Gravitational Wave Parameter-Estimation Workshop\n",
    "\n",
    "\n",
    "## Tutorial A: Parameter estimation on GW150914 using open data.\n",
    "\n",
    "(Note, this tutorial and the injection tutorial (tutorial B) are based on the [GWOSC ODW #3 tutorial 2.4](https://github.com/gw-odw/odw-2020). You may wish to browse that repository for similar notebooks covering a range of gravitational-wave data analysis subjects). \n",
    "\n",
    "This example estimates the non-spinning parameters of the binary black hole system using\n",
    "commonly used prior distributions. This will take about 40 minutes to run.\n",
    "   \n",
    "More examples at https://lscsoft.docs.ligo.org/bilby/examples.html"
   ]
  },
  {
   "cell_type": "markdown",
   "metadata": {
    "Collapsed": "false",
    "colab_type": "text",
    "id": "VwsIdKJ3yguv"
   },
   "source": [
    "##  Installation  (execute only if running on a cloud platform!)"
   ]
  },
  {
   "cell_type": "code",
   "execution_count": null,
   "metadata": {
    "Collapsed": "false",
    "colab": {
     "base_uri": "https://localhost:8080/",
     "height": 221
    },
    "colab_type": "code",
    "id": "eJeo4XrHyguw",
    "outputId": "e2550543-d9a6-4d23-d6e2-ad7ce7e3b331"
   },
   "outputs": [
    {
     "name": "stdout",
     "output_type": "stream",
     "text": [
      "\u001b[K     |████████████████████████████████| 27.2MB 148kB/s \n",
      "\u001b[K     |████████████████████████████████| 2.1MB 35.1MB/s \n",
      "\u001b[K     |████████████████████████████████| 1.4MB 35.8MB/s \n",
      "\u001b[K     |████████████████████████████████| 51kB 7.4MB/s \n",
      "\u001b[K     |████████████████████████████████| 1.6MB 40.4MB/s \n",
      "\u001b[K     |████████████████████████████████| 92kB 10.7MB/s \n",
      "\u001b[K     |████████████████████████████████| 51kB 7.3MB/s \n",
      "\u001b[K     |████████████████████████████████| 61kB 8.8MB/s \n",
      "\u001b[K     |████████████████████████████████| 2.6MB 43.3MB/s \n",
      "\u001b[?25h  Building wheel for bilby (setup.py) ... \u001b[?25l\u001b[?25hdone\n",
      "  Building wheel for ligo-segments (setup.py) ... \u001b[?25l\u001b[?25hdone\n",
      "  Building wheel for lscsoft-glue (setup.py) ... \u001b[?25l\u001b[?25hdone\n"
     ]
    }
   ],
   "source": [
    "# -- Use the following line in Google Colab\n",
    "! pip install -q 'lalsuite' 'bilby' 'gwpy'"
   ]
  },
  {
   "cell_type": "markdown",
   "metadata": {
    "Collapsed": "false",
    "colab_type": "text",
    "id": "f0q3Y_9gygu0"
   },
   "source": [
    "**Important:** With Google Colab, you may need to restart the runtime after running the cell above."
   ]
  },
  {
   "cell_type": "markdown",
   "metadata": {
    "Collapsed": "false",
    "colab_type": "text",
    "id": "XK8fHu13ygu1"
   },
   "source": [
    "## Initialization\n",
    "\n",
    "We begin by importing some commonly used functions"
   ]
  },
  {
   "cell_type": "code",
   "execution_count": 1,
   "metadata": {
    "Collapsed": "false",
    "colab": {},
    "colab_type": "code",
    "id": "HyRSGt6cygu2"
   },
   "outputs": [],
   "source": [
    "from __future__ import division, print_function\n",
    "import numpy as np\n",
    "import matplotlib.pyplot as plt\n",
    "\n",
    "import bilby\n",
    "from bilby.core.prior import Uniform\n",
    "from bilby.gw.conversion import convert_to_lal_binary_black_hole_parameters, generate_all_bbh_parameters\n",
    "\n",
    "from gwpy.timeseries import TimeSeries\n",
    "%matplotlib inline"
   ]
  },
  {
   "cell_type": "markdown",
   "metadata": {
    "colab_type": "text",
    "id": "oEF_M81uqQCP"
   },
   "source": [
    "## Bilby version"
   ]
  },
  {
   "cell_type": "code",
   "execution_count": null,
   "metadata": {
    "colab": {
     "base_uri": "https://localhost:8080/",
     "height": 34
    },
    "colab_type": "code",
    "id": "-DL7DZm4qQCS",
    "outputId": "468aa9c7-846e-445a-ad01-702e99a799e1"
   },
   "outputs": [
    {
     "name": "stdout",
     "output_type": "stream",
     "text": [
      "1.0.0: release\n"
     ]
    }
   ],
   "source": [
    "print(bilby.__version__)"
   ]
  },
  {
   "cell_type": "markdown",
   "metadata": {
    "Collapsed": "false",
    "colab_type": "text",
    "id": "_Hd4d4KVygu6"
   },
   "source": [
    "## Getting the data: GW150914\n",
    "\n",
    "In this notebook, we'll analyse GW150914. Our first task is to obtain some data!\n",
    "\n",
    "We need to know the trigger time. This can be found on the [GWOSC page](https://www.gw-openscience.org/events/GW150914/), here we define it as a variable"
   ]
  },
  {
   "cell_type": "code",
   "execution_count": 2,
   "metadata": {
    "Collapsed": "false",
    "colab": {},
    "colab_type": "code",
    "id": "1cUhLaFIygu6"
   },
   "outputs": [],
   "source": [
    "time_of_event = 1126259462.4"
   ]
  },
  {
   "cell_type": "markdown",
   "metadata": {
    "colab_type": "text",
    "id": "3SGIPHT5qQCg"
   },
   "source": [
    "### Set up empty interferometers\n",
    "\n",
    "We need to get some data to analyse. We'll be using data from the Hanford (H1) and Livinston (L1) ground-based gravitational wave detectors. To organise ourselves, we'll create two \"empty\" interferometers. These are empty in the sense that they don't have any strain data. But, they know about the orientation and location of their respective namesakes. It may also be interesting to note that they are initialised with the planned design sensitivity power spectral density of advanced LIGO - we'll overwrite this later on, but it is often useful for simulations."
   ]
  },
  {
   "cell_type": "code",
   "execution_count": 3,
   "metadata": {
    "colab": {},
    "colab_type": "code",
    "id": "MGp9erudqQCh"
   },
   "outputs": [],
   "source": [
    "H1 = bilby.gw.detector.get_empty_interferometer(\"H1\")\n",
    "L1 = bilby.gw.detector.get_empty_interferometer(\"L1\")"
   ]
  },
  {
   "cell_type": "markdown",
   "metadata": {
    "colab_type": "text",
    "id": "Yhfyw4XpqQCn"
   },
   "source": [
    "### Download the data\n",
    "\n",
    "To analyse the signal, we need to download analyis data. Here, we will use [gwpy](https://gwpy.github.io/) to download the open strain data. For a general introduction to reading/writing data with gwpy, see [the documentation](https://gwpy.github.io/docs/stable/timeseries/).\n",
    "\n",
    "To analyse GW150914, we will use a 4s period duration centered on the event itself. It is standard to choose the data such that it always includes a \"post trigger duration of\". That is, there is always 2s of data after the trigger time. We therefore define all times relative to the trigger time, duration and this post-trigger duration."
   ]
  },
  {
   "cell_type": "code",
   "execution_count": 4,
   "metadata": {
    "colab": {},
    "colab_type": "code",
    "id": "9_HPglP3qQCo"
   },
   "outputs": [],
   "source": [
    "# Definite times in relatation to the trigger time (time_of_event), duration and post_trigger_duration\n",
    "post_trigger_duration = 2\n",
    "duration = 4\n",
    "analysis_start = time_of_event + post_trigger_duration - duration\n",
    "\n",
    "# Use gwpy to fetch the open data\n",
    "H1_analysis_data = TimeSeries.fetch_open_data(\n",
    "    \"H1\", analysis_start, analysis_start + duration, sample_rate=4096, cache=True)\n",
    "\n",
    "L1_analysis_data = TimeSeries.fetch_open_data(\n",
    "    \"L1\", analysis_start, analysis_start + duration, sample_rate=4096, cache=True)"
   ]
  },
  {
   "cell_type": "markdown",
   "metadata": {
    "colab_type": "text",
    "id": "XP1103v8qQCv"
   },
   "source": [
    "Here, `H1_analysis_data` and its L1 counterpart are gwpy TimeSeries objects. As such, we can plot the data itself out:"
   ]
  },
  {
   "cell_type": "code",
   "execution_count": null,
   "metadata": {
    "colab": {
     "base_uri": "https://localhost:8080/",
     "height": 298
    },
    "colab_type": "code",
    "id": "KYUkCvONqQCw",
    "outputId": "0761180b-894f-4d9e-e6ac-6f3c506bdeaf"
   },
   "outputs": [
    {
     "data": {
      "image/png": "[encoded data removed]",
      "text/plain": [
       "<Plot size 864x288 with 1 Axes>"
      ]
     },
     "metadata": {
      "needs_background": "light",
      "tags": []
     },
     "output_type": "display_data"
    }
   ],
   "source": [
    "H1_analysis_data.plot()\n",
    "plt.show()"
   ]
  },
  {
   "cell_type": "markdown",
   "metadata": {
    "colab_type": "text",
    "id": "0sFZFp6_qQC3"
   },
   "source": [
    "This doesn't tell us much of course! It is dominated by the low frequency noise.\n",
    "\n",
    "### Initialise the bilby inteferometers with the strain data\n",
    "\n",
    "Now, we pass the downloaded strain data to our `H1` and `L1` bilby inteferometer objects. For other methods to set the strain data, see the various `set_strain_data*` methods."
   ]
  },
  {
   "cell_type": "code",
   "execution_count": null,
   "metadata": {
    "colab": {},
    "colab_type": "code",
    "id": "gWm_iY_SqQC4"
   },
   "outputs": [],
   "source": [
    "H1.set_strain_data_from_gwpy_timeseries(H1_analysis_data)\n",
    "L1.set_strain_data_from_gwpy_timeseries(L1_analysis_data)"
   ]
  },
  {
   "cell_type": "markdown",
   "metadata": {
    "colab_type": "text",
    "id": "eZGeM7S5qQC9"
   },
   "source": [
    "### Download the power spectral data\n",
    "\n",
    "Parameter estimation relies on having a power spectral density (PSD) - an estimate of the coloured noise properties of the data. Here, we will create a PSD using off-source data (for discussion on methods to estimate PSDs, see, e.g. [Chatziioannou et al. (2019)](https://ui.adsabs.harvard.edu/abs/2019PhRvD.100j4004C/abstract)) \n",
    "\n",
    "Again, we need to download this from the open strain data. We start by figuring out the amount of data needed - in this case 32 times the analysis duration."
   ]
  },
  {
   "cell_type": "code",
   "execution_count": null,
   "metadata": {
    "colab": {},
    "colab_type": "code",
    "id": "f7NNg7FvqQC-"
   },
   "outputs": [],
   "source": [
    "psd_duration = duration * 32\n",
    "psd_start_time = analysis_start - psd_duration\n",
    "\n",
    "H1_psd_data = TimeSeries.fetch_open_data(\n",
    "    \"H1\", psd_start_time, psd_start_time + psd_duration, sample_rate=4096, cache=True)\n",
    "\n",
    "L1_psd_data = TimeSeries.fetch_open_data(\n",
    "    \"L1\", psd_start_time, psd_start_time + psd_duration, sample_rate=4096, cache=True)"
   ]
  },
  {
   "cell_type": "markdown",
   "metadata": {
    "colab_type": "text",
    "id": "IH3Ez7vOqQDG"
   },
   "source": [
    "Having obtained the data to generate the PSD, we now use the standard [gwpy psd](https://gwpy.github.io/docs/stable/api/gwpy.timeseries.TimeSeries.html#gwpy.timeseries.TimeSeries.psd) method to calculate the PSD. Here, the `psd_alpha` variable is converting the `roll_off` applied to the strain data into the fractional value used by `gwpy`."
   ]
  },
  {
   "cell_type": "code",
   "execution_count": null,
   "metadata": {
    "colab": {},
    "colab_type": "code",
    "id": "1i1Smo1UqQDI",
    "scrolled": true
   },
   "outputs": [],
   "source": [
    "psd_alpha = 2 * H1.strain_data.roll_off / duration\n",
    "H1_psd = H1_psd_data.psd(fftlength=duration, overlap=0, window=(\"tukey\", psd_alpha), method=\"median\")\n",
    "L1_psd = L1_psd_data.psd(fftlength=duration, overlap=0, window=(\"tukey\", psd_alpha), method=\"median\")"
   ]
  },
  {
   "cell_type": "markdown",
   "metadata": {
    "colab_type": "text",
    "id": "WPubgfxoqQDP"
   },
   "source": [
    "### Initialise the PSD\n",
    "Now that we have psd's for H1 and L1, we can overwrite the `power_spectal_density` attribute of our interferometers with a new PSD."
   ]
  },
  {
   "cell_type": "code",
   "execution_count": null,
   "metadata": {
    "colab": {},
    "colab_type": "code",
    "id": "1ZojIZcLqQDQ"
   },
   "outputs": [],
   "source": [
    "H1.power_spectral_density = bilby.gw.detector.PowerSpectralDensity(\n",
    "    frequency_array=H1_psd.frequencies.value, psd_array=H1_psd.value)\n",
    "L1.power_spectral_density = bilby.gw.detector.PowerSpectralDensity(\n",
    "    frequency_array=H1_psd.frequencies.value, psd_array=L1_psd.value)"
   ]
  },
  {
   "cell_type": "markdown",
   "metadata": {
    "colab_type": "text",
    "id": "IyAcme9BqQDW"
   },
   "source": [
    "### Looking at the data\n",
    "Okay, we have spent a bit of time now downloading and initializing things. Let's check that everything makes sense. To do this, we'll plot our analysis data alongwise the amplitude spectral density (ASD); this is just the square root of the PSD and has the right units to be comparable to the frequency-domain strain data."
   ]
  },
  {
   "cell_type": "code",
   "execution_count": null,
   "metadata": {
    "colab": {
     "base_uri": "https://localhost:8080/",
     "height": 319
    },
    "colab_type": "code",
    "id": "rOUi7zDnqQDX",
    "outputId": "ae95cd05-9f3f-4a6a-f6d3-155096fd7d3a"
   },
   "outputs": [
    {
     "name": "stderr",
     "output_type": "stream",
     "text": [
      "06:07 bilby INFO    : Generating frequency domain strain from given time domain strain.\n",
      "06:07 bilby INFO    : Applying a tukey window with alpha=0.1, roll off=0.2\n"
     ]
    },
    {
     "data": {
      "image/png": "[encoded data removed]",
      "text/plain": [
       "<Figure size 432x288 with 1 Axes>"
      ]
     },
     "metadata": {
      "needs_background": "light",
      "tags": []
     },
     "output_type": "display_data"
    }
   ],
   "source": [
    "fig, ax = plt.subplots()\n",
    "idxs = H1.strain_data.frequency_mask  # This is a boolean mask of the frequencies which we'll use in the analysis\n",
    "ax.loglog(H1.strain_data.frequency_array[idxs],\n",
    "          np.abs(H1.strain_data.frequency_domain_strain[idxs]))\n",
    "ax.loglog(H1.power_spectral_density.frequency_array[idxs],\n",
    "          H1.power_spectral_density.asd_array[idxs])\n",
    "ax.set_xlabel(\"Frequency [Hz]\")\n",
    "ax.set_ylabel(\"Strain [strain/$\\sqrt{Hz}$]\")\n",
    "plt.show()"
   ]
  },
  {
   "cell_type": "markdown",
   "metadata": {
    "colab_type": "text",
    "id": "MxLtpJ7CqQDc"
   },
   "source": [
    "What is happening at high frequencies? This is an artifact of the downsampling applied to the data - note that we downloaded the 4096Hz data which is downsamples for 16384Hz. We aren't really interested in the data at these high frequencies so let's adjust the maximum frequency used in the analysis to 1024 Hz and plot things again."
   ]
  },
  {
   "cell_type": "code",
   "execution_count": null,
   "metadata": {
    "colab": {},
    "colab_type": "code",
    "id": "iK7fjF0sqQDd"
   },
   "outputs": [],
   "source": [
    "H1.maximum_frequency = 1024\n",
    "L1.maximum_frequency = 1024"
   ]
  },
  {
   "cell_type": "code",
   "execution_count": null,
   "metadata": {
    "colab": {
     "base_uri": "https://localhost:8080/",
     "height": 285
    },
    "colab_type": "code",
    "id": "HKzy9aZPqQDi",
    "outputId": "de0ed896-1dc9-4ff8-945b-b5fcd266313e"
   },
   "outputs": [
    {
     "data": {
      "image/png": "[encoded data removed]",
      "text/plain": [
       "<Figure size 432x288 with 1 Axes>"
      ]
     },
     "metadata": {
      "needs_background": "light",
      "tags": []
     },
     "output_type": "display_data"
    }
   ],
   "source": [
    "fig, ax = plt.subplots()\n",
    "idxs = H1.strain_data.frequency_mask\n",
    "ax.loglog(H1.strain_data.frequency_array[idxs],\n",
    "          np.abs(H1.strain_data.frequency_domain_strain[idxs]))\n",
    "ax.loglog(H1.power_spectral_density.frequency_array[idxs],\n",
    "          H1.power_spectral_density.asd_array[idxs])\n",
    "ax.set_xlabel(\"Frequency [Hz]\")\n",
    "ax.set_ylabel(\"Strain [strain/$\\sqrt{Hz}$]\")\n",
    "plt.show()"
   ]
  },
  {
   "cell_type": "markdown",
   "metadata": {
    "colab_type": "text",
    "id": "ZoqhXkyNqQDo"
   },
   "source": [
    "Okay, that is better - we now won't analyse any data near to the artifact produced by downsampling. Now we have some sensible data to analyse so let's get right on with down the analysis!"
   ]
  },
  {
   "cell_type": "markdown",
   "metadata": {
    "colab_type": "text",
    "id": "U5JcIVYtqQDp"
   },
   "source": [
    "## Low dimensional analysis\n",
    "\n",
    "In general a compact binary coalescense signal is described by 15 parameters describing the masses, spins, orientation, and position of the two compact objects along with a time at which the signal merges. The goal of parameter estimation is to figure out what the data (and any cogent prior information) can tell us about the likely values of these parameters - this is called the \"posterior distribution of the parameters\".\n",
    "\n",
    "To start with, we'll analyse the data fixing all but a few of the parameters to known values (in Bayesian lingo - we use delta function priors), this will enable us to run things in a few minutes rather than the many hours needed to do full parameter estimation.\n",
    "\n",
    "We'll start by thinking about the mass of the system. We call the heavier black hole the primary and label its mass $m_1$ and that of the secondary (lighter) black hole $m_2$. In this way, we always define $m_1 \\ge m_2$. It turns out that inferences about $m_1$ and $m_2$ are highly correlated, we'll see exactly what this means later on.\n",
    "\n",
    "Bayesian inference methods are powerful at figuring out highly correlated posteriors. But, we can help it along by sampling in parameters which are not highly correlated. In particular, we define a new parameter called the [chirp mass](https://en.wikipedia.org/wiki/Chirp_mass) to be\n",
    "\n",
    "$$ \\mathcal{M} = \\frac{(m_1 m_2)^{3/5}}{(m_1 + m_2)^{1/5}} $$\n",
    "\n",
    "and the mass ratio\n",
    "\n",
    "$$ q = \\frac{m_{2}}{m_1} $$\n",
    "\n",
    "If we sample (make inferences about) $\\mathcal{M}$ and $q$, our code is much faster than if we use $m_1$ and $m_2$ directly! Note that so long as equivalent prior is given - one can also sample in the component masses themselves and you will get the same answer, it is just much slower!\n",
    "\n",
    "Once we have inferred $\\mathcal{M}$ and $q$, we can then derive $m_1$ and $m_2$ from the resulting samples (we'll do that in just a moment).\n",
    "\n",
    "Okay, let's run a short (~1min on a single 2.8GHz core), low-dimensional parameter estimation analysis. This is done by defining a prior dictionary where all parameters are fixed, except those that we want to vary."
   ]
  },
  {
   "cell_type": "markdown",
   "metadata": {
    "colab_type": "text",
    "id": "uZlXrQEgqQDr"
   },
   "source": [
    "### Create a prior\n",
    "\n",
    "Here, we create a prior fixing everything except the chirp mass, mass ratio, phase and geocent_time parameters to fixed values. The first two we described above. The second two give the phase of the system and the time at which it mergers."
   ]
  },
  {
   "cell_type": "code",
   "execution_count": null,
   "metadata": {
    "colab": {},
    "colab_type": "code",
    "id": "MW5Nwb5JqQDs"
   },
   "outputs": [],
   "source": [
    "prior = bilby.core.prior.PriorDict()\n",
    "prior['chirp_mass'] = Uniform(name='chirp_mass', minimum=30.0,maximum=32.5)\n",
    "prior['mass_ratio'] = Uniform(name='mass_ratio', minimum=0.5, maximum=1)\n",
    "prior['phase'] = Uniform(name=\"phase\", minimum=0, maximum=2*np.pi)\n",
    "prior['geocent_time'] = Uniform(name=\"geocent_time\", minimum=time_of_event-0.1, maximum=time_of_event+0.1)\n",
    "prior['a_1'] =  0.0\n",
    "prior['a_2'] =  0.0\n",
    "prior['tilt_1'] =  0.0\n",
    "prior['tilt_2'] =  0.0\n",
    "prior['phi_12'] =  0.0\n",
    "prior['phi_jl'] =  0.0\n",
    "prior['dec'] =  -1.2232\n",
    "prior['ra'] =  2.19432\n",
    "prior['theta_jn'] =  1.89694\n",
    "prior['psi'] =  0.532268\n",
    "prior['luminosity_distance'] = 412.066\n"
   ]
  },
  {
   "cell_type": "markdown",
   "metadata": {
    "colab_type": "text",
    "id": "JKagEf7-qQDx"
   },
   "source": [
    "## Create a likelihood\n",
    "\n",
    "For Bayesian inference, we need to evaluate the likelihood. In Bilby, we create a likelihood object. This is the communication interface between the sampling part of Bilby and the data. Explicitly, when Bilby is sampling it only uses the `parameters` and `log_likelihood()` of the likelihood object. This means the likelihood can be arbitrarily complicated and the sampling part of Bilby won't mind a bit!\n",
    "\n",
    "Let's create a `GravitationalWaveTransient`, a special inbuilt method carefully designed to wrap up evaluating the likelihood of a waveform model in some data."
   ]
  },
  {
   "cell_type": "code",
   "execution_count": null,
   "metadata": {
    "colab": {
     "base_uri": "https://localhost:8080/",
     "height": 85
    },
    "colab_type": "code",
    "id": "FG87MTQBqQDy",
    "outputId": "0aef3185-07d3-4dfd-82b6-40f679944e56"
   },
   "outputs": [
    {
     "name": "stderr",
     "output_type": "stream",
     "text": [
      "06:07 bilby INFO    : Waveform generator initiated with\n",
      "  frequency_domain_source_model: bilby.gw.source.lal_binary_black_hole\n",
      "  time_domain_source_model: None\n",
      "  parameter_conversion: bilby.gw.conversion.convert_to_lal_binary_black_hole_parameters\n"
     ]
    }
   ],
   "source": [
    "# First, put our \"data\" created above into a list of intererometers (the order is arbitrary)\n",
    "# it contains strain information i.e. the data \n",
    "interferometers = [H1, L1]\n",
    "\n",
    "# Next create a dictionary of arguments which we pass into the LALSimulation waveform - we specify the waveform approximant here\n",
    "waveform_arguments = dict(\n",
    "    waveform_approximant='IMRPhenomPv2', reference_frequency=100., catch_waveform_errors=True)\n",
    "\n",
    "# Next, create a waveform_generator object. This wraps up some of the jobs of converting between parameters etc\n",
    "waveform_generator = bilby.gw.WaveformGenerator(\n",
    "    frequency_domain_source_model=bilby.gw.source.lal_binary_black_hole,\n",
    "    waveform_arguments=waveform_arguments,\n",
    "    parameter_conversion=convert_to_lal_binary_black_hole_parameters)\n",
    "\n",
    "# Finally, create our likelihood, passing in what is needed to get going\n",
    "likelihood = bilby.gw.likelihood.GravitationalWaveTransient(\n",
    "    interferometers, waveform_generator, priors=prior,\n",
    "    time_marginalization=True, phase_marginalization=True, distance_marginalization=False)"
   ]
  },
  {
   "cell_type": "markdown",
   "metadata": {
    "colab_type": "text",
    "id": "orHOtFd4qQD4"
   },
   "source": [
    "This will print a warning about the `start_time`, it is safe to ignore this.\n",
    "\n",
    "Note that we also specify `time_marginalization=True` and `phase_marginalization=True`. This is a trick often used in Bayesian inference. We analytically marginalize (integrate) over the time/phase of the system while sampling, effectively reducing the parameter space and making it easier to sample. Bilby will then figure out (after the sampling) posteriors for these marginalized parameters. For an introduction to this topic, see [Thrane & Talbot (2019)](https://arxiv.org/abs/1809.02293)."
   ]
  },
  {
   "cell_type": "markdown",
   "metadata": {
    "colab_type": "text",
    "id": "A3ZwuY6KqQD5"
   },
   "source": [
    "### Run the analysis"
   ]
  },
  {
   "cell_type": "markdown",
   "metadata": {
    "Collapsed": "false",
    "colab_type": "text",
    "id": "LCfygeVyygvM"
   },
   "source": [
    "Now that the prior is set-up and the likelihood is set-up (with the data and the signal mode), we can run the sampler to get the posterior result. This function takes the likelihood and prior along with some options for how to do the sampling and how to save the data."
   ]
  },
  {
   "cell_type": "code",
   "execution_count": null,
   "metadata": {
    "Collapsed": "false",
    "colab": {
     "base_uri": "https://localhost:8080/",
     "height": 802
    },
    "colab_type": "code",
    "id": "HHS9JSX3ygvN",
    "outputId": "e0ffd516-a428-44dc-d2f1-7882905a70c6"
   },
   "outputs": [
    {
     "name": "stderr",
     "output_type": "stream",
     "text": [
      "06:07 bilby INFO    : Running for label 'GW150914', output will be saved to 'short'\n",
      "06:07 bilby INFO    : Using LAL version Branch: None;Tag: lalsuite-v6.76;Id: 384ac5e4b9c95803607658118ba361dfc353dade;;Builder: Unknown User <>;Repository status: UNCLEAN: Modified working tree\n",
      "06:07 bilby INFO    : Search parameters:\n",
      "06:07 bilby INFO    :   chirp_mass = Uniform(minimum=30.0, maximum=32.5, name='chirp_mass', latex_label='$\\\\mathcal{M}$', unit=None, boundary=None)\n",
      "06:07 bilby INFO    :   mass_ratio = Uniform(minimum=0.5, maximum=1, name='mass_ratio', latex_label='$q$', unit=None, boundary=None)\n",
      "06:07 bilby INFO    :   time_jitter = Uniform(minimum=-0.000244140625, maximum=0.000244140625, name=None, latex_label=None, unit=None, boundary='periodic')\n",
      "06:07 bilby INFO    :   phase = 0.0\n",
      "06:07 bilby INFO    :   geocent_time = 1126259460.3999023\n",
      "06:07 bilby INFO    :   a_1 = 0.0\n",
      "06:07 bilby INFO    :   a_2 = 0.0\n",
      "06:07 bilby INFO    :   tilt_1 = 0.0\n",
      "06:07 bilby INFO    :   tilt_2 = 0.0\n",
      "06:07 bilby INFO    :   phi_12 = 0.0\n",
      "06:07 bilby INFO    :   phi_jl = 0.0\n",
      "06:07 bilby INFO    :   dec = -1.2232\n",
      "06:07 bilby INFO    :   ra = 2.19432\n",
      "06:07 bilby INFO    :   theta_jn = 1.89694\n",
      "06:07 bilby INFO    :   psi = 0.532268\n",
      "06:07 bilby INFO    :   luminosity_distance = 412.066\n",
      "06:07 bilby INFO    : Generating frequency domain strain from given time domain strain.\n",
      "06:07 bilby INFO    : Applying a tukey window with alpha=0.1, roll off=0.2\n",
      "06:07 bilby INFO    : Single likelihood evaluation took 1.455e-02 s\n"
     ]
    },
    {
     "name": "stdout",
     "output_type": "stream",
     "text": [
      "\r",
      "0it [00:00, ?it/s]"
     ]
    },
    {
     "name": "stderr",
     "output_type": "stream",
     "text": [
      "06:07 bilby INFO    : Using sampler Dynesty with kwargs {'bound': 'multi', 'sample': 'rwalk', 'verbose': True, 'periodic': None, 'reflective': None, 'check_point_delta_t': 600, 'nlive': 500, 'first_update': None, 'walks': 100, 'npdim': None, 'rstate': None, 'queue_size': 1, 'pool': None, 'use_pool': None, 'live_points': None, 'logl_args': None, 'logl_kwargs': None, 'ptform_args': None, 'ptform_kwargs': None, 'enlarge': 1.5, 'bootstrap': None, 'vol_dec': 0.5, 'vol_check': 8.0, 'facc': 0.2, 'slices': 5, 'update_interval': 300, 'print_func': <bound method Dynesty._print_func of <bilby.core.sampler.dynesty.Dynesty object at 0x7f07d3f6bf60>>, 'dlogz': 3, 'maxiter': None, 'maxcall': None, 'logl_max': inf, 'add_live': True, 'print_progress': True, 'save_bounds': False, 'n_effective': None, 'maxmcmc': 5000, 'nact': 5}\n",
      "06:07 bilby INFO    : Checkpoint every check_point_delta_t = 600s\n",
      "06:07 bilby INFO    : Using dynesty version 1.0.1\n",
      "06:07 bilby INFO    : Generating initial points from the prior\n",
      "06:07 bilby INFO    : Using the bilby-implemented rwalk sample method with ACT estimated walks\n",
      "06:07 bilby INFO    : Resume file short/GW150914_resume.pickle does not exist.\n"
     ]
    },
    {
     "name": "stdout",
     "output_type": "stream",
     "text": [
      "927it [00:50, 16.21it/s, bound:0 nc:  2 ncall:3.4e+03 eff:27.6% logz-ratio=266.13+/-0.08 dlogz:3.007>3]"
     ]
    },
    {
     "name": "stderr",
     "output_type": "stream",
     "text": [
      "06:08 bilby INFO    : Written checkpoint file short/GW150914_resume.pickle\n",
      "06:08 bilby INFO    : Writing 200 current samples to short/GW150914_samples.dat\n"
     ]
    },
    {
     "name": "stdout",
     "output_type": "stream",
     "text": [
      "\r",
      "928it [00:54, 17.18it/s, bound:0 nc:  1 ncall:3.4e+03 eff:42.3% logz-ratio=268.11+/-0.12 dlogz:0.005>3]"
     ]
    },
    {
     "name": "stderr",
     "output_type": "stream",
     "text": [
      "06:08 bilby INFO    : Sampling time: 0:00:41.306039\n",
      "06:08 bilby INFO    : Reconstructing marginalised parameters.\n"
     ]
    },
    {
     "name": "stdout",
     "output_type": "stream",
     "text": [
      "\n",
      "\n",
      "100%|██████████| 1428/1428 [00:41<00:00, 34.55it/s]"
     ]
    },
    {
     "name": "stderr",
     "output_type": "stream",
     "text": [
      "06:08 bilby INFO    : Generating sky frame parameters.\n"
     ]
    },
    {
     "name": "stdout",
     "output_type": "stream",
     "text": [
      "\n",
      "100%|██████████| 1428/1428 [00:00<00:00, 2099.84it/s]\n"
     ]
    },
    {
     "name": "stderr",
     "output_type": "stream",
     "text": [
      "06:09 bilby INFO    : Computing SNRs for every sample.\n"
     ]
    },
    {
     "name": "stdout",
     "output_type": "stream",
     "text": [
      "100%|██████████| 1428/1428 [00:20<00:00, 69.59it/s]\n"
     ]
    },
    {
     "name": "stderr",
     "output_type": "stream",
     "text": [
      "06:09 bilby INFO    : Summary of results:\n",
      "nsamples: 1428\n",
      "ln_noise_evidence: -8534.562\n",
      "ln_evidence: -8266.456 +/-  0.122\n",
      "ln_bayes_factor: 268.106 +/-  0.122\n",
      "\n"
     ]
    }
   ],
   "source": [
    "result_short = bilby.run_sampler(\n",
    "    likelihood, prior, sampler='dynesty', outdir='short', label=\"GW150914\",\n",
    "    conversion_function=bilby.gw.conversion.generate_all_bbh_parameters,\n",
    "    nlive=500, dlogz=3  # <- Arguments are used to make things fast - not recommended for general use\n",
    ")"
   ]
  },
  {
   "cell_type": "markdown",
   "metadata": {
    "colab_type": "text",
    "id": "y7y8k9sTqQD_"
   },
   "source": [
    "### Looking at the outputs"
   ]
  },
  {
   "cell_type": "markdown",
   "metadata": {
    "Collapsed": "false",
    "colab_type": "text",
    "id": "wKR045TIygvT"
   },
   "source": [
    "The `run_sampler` returned `result_short` - this is a Bilby result object. The posterior samples are stored in a [pandas data frame](https://pandas.pydata.org/pandas-docs/stable/reference/api/pandas.DataFrame.html) (think of this like a spreadsheet), let's take a look at it"
   ]
  },
  {
   "cell_type": "code",
   "execution_count": null,
   "metadata": {
    "colab": {
     "base_uri": "https://localhost:8080/",
     "height": 439
    },
    "colab_type": "code",
    "id": "ZeD0leNMqQEA",
    "outputId": "0f6cc3c8-0086-4e82-cff0-094db10e2252"
   },
   "outputs": [
    {
     "data": {
      "text/html": [
       "<div>\n",
       "<style scoped>\n",
       "    .dataframe tbody tr th:only-of-type {\n",
       "        vertical-align: middle;\n",
       "    }\n",
       "\n",
       "    .dataframe tbody tr th {\n",
       "        vertical-align: top;\n",
       "    }\n",
       "\n",
       "    .dataframe thead th {\n",
       "        text-align: right;\n",
       "    }\n",
       "</style>\n",
       "<table border=\"1\" class=\"dataframe\">\n",
       "  <thead>\n",
       "    <tr style=\"text-align: right;\">\n",
       "      <th></th>\n",
       "      <th>chirp_mass</th>\n",
       "      <th>mass_ratio</th>\n",
       "      <th>time_jitter</th>\n",
       "      <th>phase</th>\n",
       "      <th>geocent_time</th>\n",
       "      <th>a_1</th>\n",
       "      <th>a_2</th>\n",
       "      <th>tilt_1</th>\n",
       "      <th>tilt_2</th>\n",
       "      <th>phi_12</th>\n",
       "      <th>phi_jl</th>\n",
       "      <th>dec</th>\n",
       "      <th>ra</th>\n",
       "      <th>theta_jn</th>\n",
       "      <th>psi</th>\n",
       "      <th>luminosity_distance</th>\n",
       "      <th>log_likelihood</th>\n",
       "      <th>log_prior</th>\n",
       "      <th>reference_frequency</th>\n",
       "      <th>waveform_approximant</th>\n",
       "      <th>minimum_frequency</th>\n",
       "      <th>total_mass</th>\n",
       "      <th>mass_1</th>\n",
       "      <th>mass_2</th>\n",
       "      <th>symmetric_mass_ratio</th>\n",
       "      <th>iota</th>\n",
       "      <th>spin_1x</th>\n",
       "      <th>spin_1y</th>\n",
       "      <th>spin_1z</th>\n",
       "      <th>spin_2x</th>\n",
       "      <th>spin_2y</th>\n",
       "      <th>spin_2z</th>\n",
       "      <th>phi_1</th>\n",
       "      <th>phi_2</th>\n",
       "      <th>chi_eff</th>\n",
       "      <th>chi_1_in_plane</th>\n",
       "      <th>chi_2_in_plane</th>\n",
       "      <th>chi_p</th>\n",
       "      <th>cos_tilt_1</th>\n",
       "      <th>cos_tilt_2</th>\n",
       "      <th>redshift</th>\n",
       "      <th>comoving_distance</th>\n",
       "      <th>mass_1_source</th>\n",
       "      <th>mass_2_source</th>\n",
       "      <th>chirp_mass_source</th>\n",
       "      <th>total_mass_source</th>\n",
       "      <th>H1_matched_filter_snr</th>\n",
       "      <th>H1_optimal_snr</th>\n",
       "      <th>L1_matched_filter_snr</th>\n",
       "      <th>L1_optimal_snr</th>\n",
       "    </tr>\n",
       "  </thead>\n",
       "  <tbody>\n",
       "    <tr>\n",
       "      <th>0</th>\n",
       "      <td>30.694648</td>\n",
       "      <td>0.603994</td>\n",
       "      <td>-0.000180</td>\n",
       "      <td>4.018892</td>\n",
       "      <td>1.126259e+09</td>\n",
       "      <td>0.0</td>\n",
       "      <td>0.0</td>\n",
       "      <td>0.0</td>\n",
       "      <td>0.0</td>\n",
       "      <td>0.0</td>\n",
       "      <td>0.0</td>\n",
       "      <td>-1.2232</td>\n",
       "      <td>2.19432</td>\n",
       "      <td>1.89694</td>\n",
       "      <td>0.532268</td>\n",
       "      <td>412.066</td>\n",
       "      <td>261.932465</td>\n",
       "      <td>7.401475</td>\n",
       "      <td>100.0</td>\n",
       "      <td>IMRPhenomPv2</td>\n",
       "      <td>20.0</td>\n",
       "      <td>73.229551</td>\n",
       "      <td>45.654504</td>\n",
       "      <td>27.575047</td>\n",
       "      <td>0.234762</td>\n",
       "      <td>1.89694</td>\n",
       "      <td>-0.0</td>\n",
       "      <td>0.0</td>\n",
       "      <td>0.0</td>\n",
       "      <td>-0.0</td>\n",
       "      <td>0.0</td>\n",
       "      <td>0.0</td>\n",
       "      <td>3.141593</td>\n",
       "      <td>3.141593</td>\n",
       "      <td>0.0</td>\n",
       "      <td>0.0</td>\n",
       "      <td>0.0</td>\n",
       "      <td>0.0</td>\n",
       "      <td>1.0</td>\n",
       "      <td>1.0</td>\n",
       "      <td>0.087423</td>\n",
       "      <td>378.938183</td>\n",
       "      <td>41.984135</td>\n",
       "      <td>25.358167</td>\n",
       "      <td>28.226969</td>\n",
       "      <td>67.342302</td>\n",
       "      <td>19.978332+0.060570j</td>\n",
       "      <td>13.844603</td>\n",
       "      <td>14.233012+0.212486j</td>\n",
       "      <td>9.810240</td>\n",
       "    </tr>\n",
       "    <tr>\n",
       "      <th>1</th>\n",
       "      <td>32.491608</td>\n",
       "      <td>0.816021</td>\n",
       "      <td>-0.000022</td>\n",
       "      <td>4.479788</td>\n",
       "      <td>1.126259e+09</td>\n",
       "      <td>0.0</td>\n",
       "      <td>0.0</td>\n",
       "      <td>0.0</td>\n",
       "      <td>0.0</td>\n",
       "      <td>0.0</td>\n",
       "      <td>0.0</td>\n",
       "      <td>-1.2232</td>\n",
       "      <td>2.19432</td>\n",
       "      <td>1.89694</td>\n",
       "      <td>0.532268</td>\n",
       "      <td>412.066</td>\n",
       "      <td>263.821878</td>\n",
       "      <td>7.401475</td>\n",
       "      <td>100.0</td>\n",
       "      <td>IMRPhenomPv2</td>\n",
       "      <td>20.0</td>\n",
       "      <td>75.109598</td>\n",
       "      <td>41.359431</td>\n",
       "      <td>33.750167</td>\n",
       "      <td>0.247434</td>\n",
       "      <td>1.89694</td>\n",
       "      <td>-0.0</td>\n",
       "      <td>0.0</td>\n",
       "      <td>0.0</td>\n",
       "      <td>-0.0</td>\n",
       "      <td>0.0</td>\n",
       "      <td>0.0</td>\n",
       "      <td>3.141593</td>\n",
       "      <td>3.141593</td>\n",
       "      <td>0.0</td>\n",
       "      <td>0.0</td>\n",
       "      <td>0.0</td>\n",
       "      <td>0.0</td>\n",
       "      <td>1.0</td>\n",
       "      <td>1.0</td>\n",
       "      <td>0.087423</td>\n",
       "      <td>378.938183</td>\n",
       "      <td>38.034362</td>\n",
       "      <td>31.036841</td>\n",
       "      <td>29.879463</td>\n",
       "      <td>69.071204</td>\n",
       "      <td>19.630581+2.590080j</td>\n",
       "      <td>14.903869</td>\n",
       "      <td>13.538421+1.792040j</td>\n",
       "      <td>10.568779</td>\n",
       "    </tr>\n",
       "    <tr>\n",
       "      <th>2</th>\n",
       "      <td>30.661089</td>\n",
       "      <td>0.688545</td>\n",
       "      <td>0.000018</td>\n",
       "      <td>1.610023</td>\n",
       "      <td>1.126259e+09</td>\n",
       "      <td>0.0</td>\n",
       "      <td>0.0</td>\n",
       "      <td>0.0</td>\n",
       "      <td>0.0</td>\n",
       "      <td>0.0</td>\n",
       "      <td>0.0</td>\n",
       "      <td>-1.2232</td>\n",
       "      <td>2.19432</td>\n",
       "      <td>1.89694</td>\n",
       "      <td>0.532268</td>\n",
       "      <td>412.066</td>\n",
       "      <td>264.379812</td>\n",
       "      <td>7.401475</td>\n",
       "      <td>100.0</td>\n",
       "      <td>IMRPhenomPv2</td>\n",
       "      <td>20.0</td>\n",
       "      <td>71.918944</td>\n",
       "      <td>42.592246</td>\n",
       "      <td>29.326699</td>\n",
       "      <td>0.241494</td>\n",
       "      <td>1.89694</td>\n",
       "      <td>0.0</td>\n",
       "      <td>-0.0</td>\n",
       "      <td>0.0</td>\n",
       "      <td>0.0</td>\n",
       "      <td>-0.0</td>\n",
       "      <td>0.0</td>\n",
       "      <td>0.000000</td>\n",
       "      <td>0.000000</td>\n",
       "      <td>0.0</td>\n",
       "      <td>0.0</td>\n",
       "      <td>0.0</td>\n",
       "      <td>0.0</td>\n",
       "      <td>1.0</td>\n",
       "      <td>1.0</td>\n",
       "      <td>0.087423</td>\n",
       "      <td>378.938183</td>\n",
       "      <td>39.168066</td>\n",
       "      <td>26.968995</td>\n",
       "      <td>28.196107</td>\n",
       "      <td>66.137061</td>\n",
       "      <td>19.931372-0.196489j</td>\n",
       "      <td>14.030324</td>\n",
       "      <td>14.304262+0.169544j</td>\n",
       "      <td>9.961996</td>\n",
       "    </tr>\n",
       "    <tr>\n",
       "      <th>3</th>\n",
       "      <td>32.320186</td>\n",
       "      <td>0.805690</td>\n",
       "      <td>0.000038</td>\n",
       "      <td>4.669197</td>\n",
       "      <td>1.126259e+09</td>\n",
       "      <td>0.0</td>\n",
       "      <td>0.0</td>\n",
       "      <td>0.0</td>\n",
       "      <td>0.0</td>\n",
       "      <td>0.0</td>\n",
       "      <td>0.0</td>\n",
       "      <td>-1.2232</td>\n",
       "      <td>2.19432</td>\n",
       "      <td>1.89694</td>\n",
       "      <td>0.532268</td>\n",
       "      <td>412.066</td>\n",
       "      <td>264.758704</td>\n",
       "      <td>7.401475</td>\n",
       "      <td>100.0</td>\n",
       "      <td>IMRPhenomPv2</td>\n",
       "      <td>20.0</td>\n",
       "      <td>74.773015</td>\n",
       "      <td>41.409661</td>\n",
       "      <td>33.363354</td>\n",
       "      <td>0.247105</td>\n",
       "      <td>1.89694</td>\n",
       "      <td>-0.0</td>\n",
       "      <td>0.0</td>\n",
       "      <td>0.0</td>\n",
       "      <td>-0.0</td>\n",
       "      <td>0.0</td>\n",
       "      <td>0.0</td>\n",
       "      <td>3.141593</td>\n",
       "      <td>3.141593</td>\n",
       "      <td>0.0</td>\n",
       "      <td>0.0</td>\n",
       "      <td>0.0</td>\n",
       "      <td>0.0</td>\n",
       "      <td>1.0</td>\n",
       "      <td>1.0</td>\n",
       "      <td>0.087423</td>\n",
       "      <td>378.938183</td>\n",
       "      <td>38.080554</td>\n",
       "      <td>30.681126</td>\n",
       "      <td>29.721823</td>\n",
       "      <td>68.761680</td>\n",
       "      <td>19.887544-1.037778j</td>\n",
       "      <td>14.828347</td>\n",
       "      <td>13.800574-0.578615j</td>\n",
       "      <td>10.517147</td>\n",
       "    </tr>\n",
       "    <tr>\n",
       "      <th>4</th>\n",
       "      <td>32.264843</td>\n",
       "      <td>0.821835</td>\n",
       "      <td>0.000176</td>\n",
       "      <td>4.740025</td>\n",
       "      <td>1.126259e+09</td>\n",
       "      <td>0.0</td>\n",
       "      <td>0.0</td>\n",
       "      <td>0.0</td>\n",
       "      <td>0.0</td>\n",
       "      <td>0.0</td>\n",
       "      <td>0.0</td>\n",
       "      <td>-1.2232</td>\n",
       "      <td>2.19432</td>\n",
       "      <td>1.89694</td>\n",
       "      <td>0.532268</td>\n",
       "      <td>412.066</td>\n",
       "      <td>264.935792</td>\n",
       "      <td>7.401475</td>\n",
       "      <td>100.0</td>\n",
       "      <td>IMRPhenomPv2</td>\n",
       "      <td>20.0</td>\n",
       "      <td>74.553772</td>\n",
       "      <td>40.922346</td>\n",
       "      <td>33.631427</td>\n",
       "      <td>0.247609</td>\n",
       "      <td>1.89694</td>\n",
       "      <td>0.0</td>\n",
       "      <td>0.0</td>\n",
       "      <td>0.0</td>\n",
       "      <td>0.0</td>\n",
       "      <td>0.0</td>\n",
       "      <td>0.0</td>\n",
       "      <td>0.000000</td>\n",
       "      <td>0.000000</td>\n",
       "      <td>0.0</td>\n",
       "      <td>0.0</td>\n",
       "      <td>0.0</td>\n",
       "      <td>0.0</td>\n",
       "      <td>1.0</td>\n",
       "      <td>1.0</td>\n",
       "      <td>0.087423</td>\n",
       "      <td>378.938183</td>\n",
       "      <td>37.632416</td>\n",
       "      <td>30.927647</td>\n",
       "      <td>29.670929</td>\n",
       "      <td>68.560063</td>\n",
       "      <td>19.748932-2.647626j</td>\n",
       "      <td>14.822441</td>\n",
       "      <td>13.729153-1.780147j</td>\n",
       "      <td>10.515485</td>\n",
       "    </tr>\n",
       "    <tr>\n",
       "      <th>...</th>\n",
       "      <td>...</td>\n",
       "      <td>...</td>\n",
       "      <td>...</td>\n",
       "      <td>...</td>\n",
       "      <td>...</td>\n",
       "      <td>...</td>\n",
       "      <td>...</td>\n",
       "      <td>...</td>\n",
       "      <td>...</td>\n",
       "      <td>...</td>\n",
       "      <td>...</td>\n",
       "      <td>...</td>\n",
       "      <td>...</td>\n",
       "      <td>...</td>\n",
       "      <td>...</td>\n",
       "      <td>...</td>\n",
       "      <td>...</td>\n",
       "      <td>...</td>\n",
       "      <td>...</td>\n",
       "      <td>...</td>\n",
       "      <td>...</td>\n",
       "      <td>...</td>\n",
       "      <td>...</td>\n",
       "      <td>...</td>\n",
       "      <td>...</td>\n",
       "      <td>...</td>\n",
       "      <td>...</td>\n",
       "      <td>...</td>\n",
       "      <td>...</td>\n",
       "      <td>...</td>\n",
       "      <td>...</td>\n",
       "      <td>...</td>\n",
       "      <td>...</td>\n",
       "      <td>...</td>\n",
       "      <td>...</td>\n",
       "      <td>...</td>\n",
       "      <td>...</td>\n",
       "      <td>...</td>\n",
       "      <td>...</td>\n",
       "      <td>...</td>\n",
       "      <td>...</td>\n",
       "      <td>...</td>\n",
       "      <td>...</td>\n",
       "      <td>...</td>\n",
       "      <td>...</td>\n",
       "      <td>...</td>\n",
       "      <td>...</td>\n",
       "      <td>...</td>\n",
       "      <td>...</td>\n",
       "      <td>...</td>\n",
       "    </tr>\n",
       "    <tr>\n",
       "      <th>1423</th>\n",
       "      <td>31.424547</td>\n",
       "      <td>0.945168</td>\n",
       "      <td>-0.000053</td>\n",
       "      <td>1.962310</td>\n",
       "      <td>1.126259e+09</td>\n",
       "      <td>0.0</td>\n",
       "      <td>0.0</td>\n",
       "      <td>0.0</td>\n",
       "      <td>0.0</td>\n",
       "      <td>0.0</td>\n",
       "      <td>0.0</td>\n",
       "      <td>-1.2232</td>\n",
       "      <td>2.19432</td>\n",
       "      <td>1.89694</td>\n",
       "      <td>0.532268</td>\n",
       "      <td>412.066</td>\n",
       "      <td>270.937617</td>\n",
       "      <td>7.401475</td>\n",
       "      <td>100.0</td>\n",
       "      <td>IMRPhenomPv2</td>\n",
       "      <td>20.0</td>\n",
       "      <td>72.229093</td>\n",
       "      <td>37.132575</td>\n",
       "      <td>35.096519</td>\n",
       "      <td>0.249801</td>\n",
       "      <td>1.89694</td>\n",
       "      <td>0.0</td>\n",
       "      <td>-0.0</td>\n",
       "      <td>0.0</td>\n",
       "      <td>0.0</td>\n",
       "      <td>-0.0</td>\n",
       "      <td>0.0</td>\n",
       "      <td>0.000000</td>\n",
       "      <td>0.000000</td>\n",
       "      <td>0.0</td>\n",
       "      <td>0.0</td>\n",
       "      <td>0.0</td>\n",
       "      <td>0.0</td>\n",
       "      <td>1.0</td>\n",
       "      <td>1.0</td>\n",
       "      <td>0.087423</td>\n",
       "      <td>378.938183</td>\n",
       "      <td>34.147322</td>\n",
       "      <td>32.274953</td>\n",
       "      <td>28.898188</td>\n",
       "      <td>66.422275</td>\n",
       "      <td>20.021397+1.485890j</td>\n",
       "      <td>14.560852</td>\n",
       "      <td>14.255778+1.117171j</td>\n",
       "      <td>10.351050</td>\n",
       "    </tr>\n",
       "    <tr>\n",
       "      <th>1424</th>\n",
       "      <td>31.424547</td>\n",
       "      <td>0.945168</td>\n",
       "      <td>-0.000053</td>\n",
       "      <td>5.064488</td>\n",
       "      <td>1.126259e+09</td>\n",
       "      <td>0.0</td>\n",
       "      <td>0.0</td>\n",
       "      <td>0.0</td>\n",
       "      <td>0.0</td>\n",
       "      <td>0.0</td>\n",
       "      <td>0.0</td>\n",
       "      <td>-1.2232</td>\n",
       "      <td>2.19432</td>\n",
       "      <td>1.89694</td>\n",
       "      <td>0.532268</td>\n",
       "      <td>412.066</td>\n",
       "      <td>270.937617</td>\n",
       "      <td>7.401475</td>\n",
       "      <td>100.0</td>\n",
       "      <td>IMRPhenomPv2</td>\n",
       "      <td>20.0</td>\n",
       "      <td>72.229093</td>\n",
       "      <td>37.132575</td>\n",
       "      <td>35.096519</td>\n",
       "      <td>0.249801</td>\n",
       "      <td>1.89694</td>\n",
       "      <td>0.0</td>\n",
       "      <td>0.0</td>\n",
       "      <td>0.0</td>\n",
       "      <td>0.0</td>\n",
       "      <td>0.0</td>\n",
       "      <td>0.0</td>\n",
       "      <td>0.000000</td>\n",
       "      <td>0.000000</td>\n",
       "      <td>0.0</td>\n",
       "      <td>0.0</td>\n",
       "      <td>0.0</td>\n",
       "      <td>0.0</td>\n",
       "      <td>1.0</td>\n",
       "      <td>1.0</td>\n",
       "      <td>0.087423</td>\n",
       "      <td>378.938183</td>\n",
       "      <td>34.147322</td>\n",
       "      <td>32.274953</td>\n",
       "      <td>28.898188</td>\n",
       "      <td>66.422275</td>\n",
       "      <td>19.986166+1.398634j</td>\n",
       "      <td>14.560852</td>\n",
       "      <td>14.231879+0.975618j</td>\n",
       "      <td>10.351050</td>\n",
       "    </tr>\n",
       "    <tr>\n",
       "      <th>1425</th>\n",
       "      <td>31.424547</td>\n",
       "      <td>0.945168</td>\n",
       "      <td>-0.000053</td>\n",
       "      <td>5.221360</td>\n",
       "      <td>1.126259e+09</td>\n",
       "      <td>0.0</td>\n",
       "      <td>0.0</td>\n",
       "      <td>0.0</td>\n",
       "      <td>0.0</td>\n",
       "      <td>0.0</td>\n",
       "      <td>0.0</td>\n",
       "      <td>-1.2232</td>\n",
       "      <td>2.19432</td>\n",
       "      <td>1.89694</td>\n",
       "      <td>0.532268</td>\n",
       "      <td>412.066</td>\n",
       "      <td>270.937617</td>\n",
       "      <td>7.401475</td>\n",
       "      <td>100.0</td>\n",
       "      <td>IMRPhenomPv2</td>\n",
       "      <td>20.0</td>\n",
       "      <td>72.229093</td>\n",
       "      <td>37.132575</td>\n",
       "      <td>35.096519</td>\n",
       "      <td>0.249801</td>\n",
       "      <td>1.89694</td>\n",
       "      <td>0.0</td>\n",
       "      <td>0.0</td>\n",
       "      <td>0.0</td>\n",
       "      <td>0.0</td>\n",
       "      <td>0.0</td>\n",
       "      <td>0.0</td>\n",
       "      <td>0.000000</td>\n",
       "      <td>0.000000</td>\n",
       "      <td>0.0</td>\n",
       "      <td>0.0</td>\n",
       "      <td>0.0</td>\n",
       "      <td>0.0</td>\n",
       "      <td>1.0</td>\n",
       "      <td>1.0</td>\n",
       "      <td>0.087423</td>\n",
       "      <td>378.938183</td>\n",
       "      <td>34.147322</td>\n",
       "      <td>32.274953</td>\n",
       "      <td>28.898188</td>\n",
       "      <td>66.422275</td>\n",
       "      <td>19.955134+1.311784j</td>\n",
       "      <td>14.560853</td>\n",
       "      <td>14.191558+1.228762j</td>\n",
       "      <td>10.351050</td>\n",
       "    </tr>\n",
       "    <tr>\n",
       "      <th>1426</th>\n",
       "      <td>31.424547</td>\n",
       "      <td>0.945168</td>\n",
       "      <td>-0.000053</td>\n",
       "      <td>2.035128</td>\n",
       "      <td>1.126259e+09</td>\n",
       "      <td>0.0</td>\n",
       "      <td>0.0</td>\n",
       "      <td>0.0</td>\n",
       "      <td>0.0</td>\n",
       "      <td>0.0</td>\n",
       "      <td>0.0</td>\n",
       "      <td>-1.2232</td>\n",
       "      <td>2.19432</td>\n",
       "      <td>1.89694</td>\n",
       "      <td>0.532268</td>\n",
       "      <td>412.066</td>\n",
       "      <td>270.937617</td>\n",
       "      <td>7.401475</td>\n",
       "      <td>100.0</td>\n",
       "      <td>IMRPhenomPv2</td>\n",
       "      <td>20.0</td>\n",
       "      <td>72.229093</td>\n",
       "      <td>37.132575</td>\n",
       "      <td>35.096519</td>\n",
       "      <td>0.249801</td>\n",
       "      <td>1.89694</td>\n",
       "      <td>0.0</td>\n",
       "      <td>-0.0</td>\n",
       "      <td>0.0</td>\n",
       "      <td>0.0</td>\n",
       "      <td>-0.0</td>\n",
       "      <td>0.0</td>\n",
       "      <td>0.000000</td>\n",
       "      <td>0.000000</td>\n",
       "      <td>0.0</td>\n",
       "      <td>0.0</td>\n",
       "      <td>0.0</td>\n",
       "      <td>0.0</td>\n",
       "      <td>1.0</td>\n",
       "      <td>1.0</td>\n",
       "      <td>0.087423</td>\n",
       "      <td>378.938183</td>\n",
       "      <td>34.147322</td>\n",
       "      <td>32.274953</td>\n",
       "      <td>28.898188</td>\n",
       "      <td>66.422275</td>\n",
       "      <td>19.978031-1.904049j</td>\n",
       "      <td>14.560852</td>\n",
       "      <td>14.231676-1.320045j</td>\n",
       "      <td>10.351050</td>\n",
       "    </tr>\n",
       "    <tr>\n",
       "      <th>1427</th>\n",
       "      <td>31.424547</td>\n",
       "      <td>0.945168</td>\n",
       "      <td>-0.000053</td>\n",
       "      <td>5.109663</td>\n",
       "      <td>1.126259e+09</td>\n",
       "      <td>0.0</td>\n",
       "      <td>0.0</td>\n",
       "      <td>0.0</td>\n",
       "      <td>0.0</td>\n",
       "      <td>0.0</td>\n",
       "      <td>0.0</td>\n",
       "      <td>-1.2232</td>\n",
       "      <td>2.19432</td>\n",
       "      <td>1.89694</td>\n",
       "      <td>0.532268</td>\n",
       "      <td>412.066</td>\n",
       "      <td>270.937617</td>\n",
       "      <td>7.401475</td>\n",
       "      <td>100.0</td>\n",
       "      <td>IMRPhenomPv2</td>\n",
       "      <td>20.0</td>\n",
       "      <td>72.229093</td>\n",
       "      <td>37.132575</td>\n",
       "      <td>35.096519</td>\n",
       "      <td>0.249801</td>\n",
       "      <td>1.89694</td>\n",
       "      <td>0.0</td>\n",
       "      <td>0.0</td>\n",
       "      <td>0.0</td>\n",
       "      <td>0.0</td>\n",
       "      <td>0.0</td>\n",
       "      <td>0.0</td>\n",
       "      <td>0.000000</td>\n",
       "      <td>0.000000</td>\n",
       "      <td>0.0</td>\n",
       "      <td>0.0</td>\n",
       "      <td>0.0</td>\n",
       "      <td>0.0</td>\n",
       "      <td>1.0</td>\n",
       "      <td>1.0</td>\n",
       "      <td>0.087423</td>\n",
       "      <td>378.938183</td>\n",
       "      <td>34.147322</td>\n",
       "      <td>32.274953</td>\n",
       "      <td>28.898188</td>\n",
       "      <td>66.422275</td>\n",
       "      <td>19.793308+3.350991j</td>\n",
       "      <td>14.560852</td>\n",
       "      <td>14.071843+2.550034j</td>\n",
       "      <td>10.351050</td>\n",
       "    </tr>\n",
       "  </tbody>\n",
       "</table>\n",
       "<p>1428 rows × 50 columns</p>\n",
       "</div>"
      ],
      "text/plain": [
       "      chirp_mass  mass_ratio  ...  L1_matched_filter_snr  L1_optimal_snr\n",
       "0      30.694648    0.603994  ...    14.233012+0.212486j        9.810240\n",
       "1      32.491608    0.816021  ...    13.538421+1.792040j       10.568779\n",
       "2      30.661089    0.688545  ...    14.304262+0.169544j        9.961996\n",
       "3      32.320186    0.805690  ...    13.800574-0.578615j       10.517147\n",
       "4      32.264843    0.821835  ...    13.729153-1.780147j       10.515485\n",
       "...          ...         ...  ...                    ...             ...\n",
       "1423   31.424547    0.945168  ...    14.255778+1.117171j       10.351050\n",
       "1424   31.424547    0.945168  ...    14.231879+0.975618j       10.351050\n",
       "1425   31.424547    0.945168  ...    14.191558+1.228762j       10.351050\n",
       "1426   31.424547    0.945168  ...    14.231676-1.320045j       10.351050\n",
       "1427   31.424547    0.945168  ...    14.071843+2.550034j       10.351050\n",
       "\n",
       "[1428 rows x 50 columns]"
      ]
     },
     "execution_count": 18,
     "metadata": {
      "tags": []
     },
     "output_type": "execute_result"
    }
   ],
   "source": [
    "result_short.posterior"
   ]
  },
  {
   "cell_type": "markdown",
   "metadata": {
    "colab_type": "text",
    "id": "MO8L-Q3-qQEF"
   },
   "source": [
    "We can pull out specific parameters that we are interested in"
   ]
  },
  {
   "cell_type": "code",
   "execution_count": null,
   "metadata": {
    "colab": {
     "base_uri": "https://localhost:8080/",
     "height": 221
    },
    "colab_type": "code",
    "id": "xVO52PEaqQEG",
    "outputId": "f01d476a-dbaf-4171-c7a0-7e1e9718cdba"
   },
   "outputs": [
    {
     "data": {
      "text/plain": [
       "0       30.694648\n",
       "1       32.491608\n",
       "2       30.661089\n",
       "3       32.320186\n",
       "4       32.264843\n",
       "          ...    \n",
       "1423    31.424547\n",
       "1424    31.424547\n",
       "1425    31.424547\n",
       "1426    31.424547\n",
       "1427    31.424547\n",
       "Name: chirp_mass, Length: 1428, dtype: float64"
      ]
     },
     "execution_count": 19,
     "metadata": {
      "tags": []
     },
     "output_type": "execute_result"
    }
   ],
   "source": [
    "result_short.posterior[\"chirp_mass\"]"
   ]
  },
  {
   "cell_type": "markdown",
   "metadata": {
    "colab_type": "text",
    "id": "O6KlrwquqQEM"
   },
   "source": [
    "This returned another `pandas` object. If you just want to get the numbers as a numpy array run"
   ]
  },
  {
   "cell_type": "code",
   "execution_count": null,
   "metadata": {
    "colab": {},
    "colab_type": "code",
    "id": "ZQ39J39aqQEN"
   },
   "outputs": [],
   "source": [
    "Mc = result_short.posterior[\"chirp_mass\"].values"
   ]
  },
  {
   "cell_type": "markdown",
   "metadata": {
    "colab_type": "text",
    "id": "hjFh2_t9qQET"
   },
   "source": [
    "We can then get some useful quantities such as the 90\\% credible interval"
   ]
  },
  {
   "cell_type": "code",
   "execution_count": null,
   "metadata": {
    "colab": {
     "base_uri": "https://localhost:8080/",
     "height": 34
    },
    "colab_type": "code",
    "id": "B24GHxefqQEU",
    "outputId": "9849e69a-12ce-425a-edcc-ad8ec8a185b0"
   },
   "outputs": [
    {
     "name": "stdout",
     "output_type": "stream",
     "text": [
      "Mc = 31.479502294406373 with a 90% C.I = 30.953606013000922 -> 31.98541075622618\n"
     ]
    }
   ],
   "source": [
    "lower_bound = np.quantile(Mc, 0.05)\n",
    "upper_bound = np.quantile(Mc, 0.95)\n",
    "median = np.quantile(Mc, 0.5)\n",
    "print(\"Mc = {} with a 90% C.I = {} -> {}\".format(median, lower_bound, upper_bound))"
   ]
  },
  {
   "cell_type": "markdown",
   "metadata": {
    "colab_type": "text",
    "id": "f6uEkwL9qQEa"
   },
   "source": [
    "We can then plot the chirp mass in a histogram adding a region to indicate the 90\\% C.I."
   ]
  },
  {
   "cell_type": "code",
   "execution_count": null,
   "metadata": {
    "colab": {
     "base_uri": "https://localhost:8080/",
     "height": 289
    },
    "colab_type": "code",
    "id": "ViTi3vABqQEb",
    "outputId": "d39b105c-5641-4044-e682-470af5b0b7f2"
   },
   "outputs": [
    {
     "data": {
      "image/png": "[encoded data removed]",
      "text/plain": [
       "<Figure size 432x288 with 1 Axes>"
      ]
     },
     "metadata": {
      "needs_background": "light",
      "tags": []
     },
     "output_type": "display_data"
    }
   ],
   "source": [
    "fig, ax = plt.subplots()\n",
    "ax.hist(result_short.posterior[\"chirp_mass\"], bins=20)\n",
    "ax.axvspan(lower_bound, upper_bound, color='C1', alpha=0.4)\n",
    "ax.axvline(median, color='C1')\n",
    "ax.set_xlabel(\"chirp mass\")\n",
    "plt.show()"
   ]
  },
  {
   "cell_type": "markdown",
   "metadata": {
    "colab_type": "text",
    "id": "xULrCilhqQEf"
   },
   "source": [
    "The result object also has in-built methods to make nice plots such as corner plots. You can add the priors if you are only plotting parameter which you sampled in, e.g."
   ]
  },
  {
   "cell_type": "code",
   "execution_count": null,
   "metadata": {
    "colab": {
     "base_uri": "https://localhost:8080/",
     "height": 746
    },
    "colab_type": "code",
    "id": "abDEIDJIqQEg",
    "outputId": "ebd5f247-f4d9-4eea-e72c-e290b52fe973"
   },
   "outputs": [
    {
     "name": "stderr",
     "output_type": "stream",
     "text": [
      "findfont: Font family ['serif'] not found. Falling back to DejaVu Sans.\n",
      "findfont: Font family ['serif'] not found. Falling back to DejaVu Sans.\n"
     ]
    },
    {
     "data": {
      "image/png": "[encoded data removed]",
      "text/plain": [
       "<Figure size 698.4x698.4 with 16 Axes>"
      ]
     },
     "execution_count": 23,
     "metadata": {
      "tags": []
     },
     "output_type": "execute_result"
    }
   ],
   "source": [
    "result_short.plot_corner(parameters=[\"chirp_mass\", \"mass_ratio\", \"geocent_time\", \"phase\"], prior=True)"
   ]
  },
  {
   "cell_type": "markdown",
   "metadata": {
    "colab_type": "text",
    "id": "9jo9EPU4qQEk"
   },
   "source": [
    "You can also plot lines indicating specific points. Here, we add the values recorded on [GWOSC](https://www.gw-openscience.org/events/GW150914/). Notably, these fall outside the bulk of the posterior uncertainty here. This is because we limited our prior - if instead we ran the full analysis these agree nicely."
   ]
  },
  {
   "cell_type": "code",
   "execution_count": null,
   "metadata": {
    "Collapsed": "false",
    "colab": {
     "base_uri": "https://localhost:8080/",
     "height": 409
    },
    "colab_type": "code",
    "id": "SB4AqmTaygvU",
    "outputId": "46843b86-204e-4acd-9384-67018296c5d7"
   },
   "outputs": [
    {
     "data": {
      "image/png": "[encoded data removed]",
      "text/plain": [
       "<Figure size 396x396 with 4 Axes>"
      ]
     },
     "execution_count": 24,
     "metadata": {
      "tags": []
     },
     "output_type": "execute_result"
    }
   ],
   "source": [
    "parameters = dict(mass_1=36.2, mass_2=29.1)\n",
    "result_short.plot_corner(parameters)"
   ]
  },
  {
   "cell_type": "code",
   "execution_count": null,
   "metadata": {
    "colab": {
     "base_uri": "https://localhost:8080/",
     "height": 34
    },
    "colab_type": "code",
    "id": "0zwJ0ycj1FKg",
    "outputId": "1333738a-f289-487d-b8c1-278327a8955b"
   },
   "outputs": [
    {
     "data": {
      "text/plain": [
       "{'mass_1': 36.2, 'mass_2': 29.1}"
      ]
     },
     "execution_count": 28,
     "metadata": {
      "tags": []
     },
     "output_type": "execute_result"
    }
   ],
   "source": [
    "parameters"
   ]
  },
  {
   "cell_type": "markdown",
   "metadata": {
    "colab_type": "text",
    "id": "DGGY0b72qQEq"
   },
   "source": [
    "Earlier we discussed the \"correlation\" - in this plot we start to see the correlation between $m_1$ and $m_2$."
   ]
  },
  {
   "cell_type": "markdown",
   "metadata": {
    "colab_type": "text",
    "id": "LFMhEvRjqQEr"
   },
   "source": [
    "### Meta data\n",
    "The result object also stores meta data, like the priors"
   ]
  },
  {
   "cell_type": "code",
   "execution_count": null,
   "metadata": {
    "colab": {
     "base_uri": "https://localhost:8080/",
     "height": 289
    },
    "colab_type": "code",
    "id": "ikakcvpXqQEs",
    "outputId": "654fa7a6-2468-488e-ed12-161059bbee9b"
   },
   "outputs": [
    {
     "data": {
      "text/plain": [
       "{'a_1': DeltaFunction(peak=0.0, name=None, latex_label=None, unit=None),\n",
       " 'a_2': DeltaFunction(peak=0.0, name=None, latex_label=None, unit=None),\n",
       " 'chirp_mass': Uniform(minimum=30.0, maximum=32.5, name='chirp_mass', latex_label='$\\\\mathcal{M}$', unit=None, boundary=None),\n",
       " 'dec': DeltaFunction(peak=-1.2232, name=None, latex_label=None, unit=None),\n",
       " 'geocent_time': Uniform(minimum=1126259462.3000002, maximum=1126259462.5, name='geocent_time', latex_label='$t_c$', unit=None, boundary=None),\n",
       " 'luminosity_distance': DeltaFunction(peak=412.066, name=None, latex_label=None, unit=None),\n",
       " 'mass_ratio': Uniform(minimum=0.5, maximum=1, name='mass_ratio', latex_label='$q$', unit=None, boundary=None),\n",
       " 'phase': Uniform(minimum=0, maximum=6.283185307179586, name='phase', latex_label='$\\\\phi$', unit=None, boundary=None),\n",
       " 'phi_12': DeltaFunction(peak=0.0, name=None, latex_label=None, unit=None),\n",
       " 'phi_jl': DeltaFunction(peak=0.0, name=None, latex_label=None, unit=None),\n",
       " 'psi': DeltaFunction(peak=0.532268, name=None, latex_label=None, unit=None),\n",
       " 'ra': DeltaFunction(peak=2.19432, name=None, latex_label=None, unit=None),\n",
       " 'theta_jn': DeltaFunction(peak=1.89694, name=None, latex_label=None, unit=None),\n",
       " 'tilt_1': DeltaFunction(peak=0.0, name=None, latex_label=None, unit=None),\n",
       " 'tilt_2': DeltaFunction(peak=0.0, name=None, latex_label=None, unit=None),\n",
       " 'time_jitter': Uniform(minimum=-0.000244140625, maximum=0.000244140625, name=None, latex_label=None, unit=None, boundary='periodic')}"
      ]
     },
     "execution_count": 25,
     "metadata": {
      "tags": []
     },
     "output_type": "execute_result"
    }
   ],
   "source": [
    "result_short.priors"
   ]
  },
  {
   "cell_type": "markdown",
   "metadata": {
    "colab_type": "text",
    "id": "HWDGpaiFqQEy"
   },
   "source": [
    "and details of the analysis itself:"
   ]
  },
  {
   "cell_type": "code",
   "execution_count": null,
   "metadata": {
    "colab": {
     "base_uri": "https://localhost:8080/",
     "height": 34
    },
    "colab_type": "code",
    "id": "nm9gi2AIqQEz",
    "outputId": "e8ea4477-083e-4226-e00f-64c03484a83a"
   },
   "outputs": [
    {
     "data": {
      "text/plain": [
       "500"
      ]
     },
     "execution_count": 26,
     "metadata": {
      "tags": []
     },
     "output_type": "execute_result"
    }
   ],
   "source": [
    "result_short.sampler_kwargs[\"nlive\"]"
   ]
  },
  {
   "cell_type": "markdown",
   "metadata": {
    "colab_type": "text",
    "id": "pzBJrYvfqQE4"
   },
   "source": [
    "Finally, we can also get out the Bayes factor for the signal vs. Gaussian noise:"
   ]
  },
  {
   "cell_type": "code",
   "execution_count": null,
   "metadata": {
    "colab": {
     "base_uri": "https://localhost:8080/",
     "height": 34
    },
    "colab_type": "code",
    "id": "elhs9W8_qQE5",
    "outputId": "daee96ba-8d3d-4ba5-9682-24c186dccc2a"
   },
   "outputs": [
    {
     "name": "stdout",
     "output_type": "stream",
     "text": [
      "ln Bayes factor = 268.10579619893264 +/- 0.12230936112148952\n"
     ]
    }
   ],
   "source": [
    "print(\"ln Bayes factor = {} +/- {}\".format(\n",
    "    result_short.log_bayes_factor, result_short.log_evidence_err))"
   ]
  },
  {
   "cell_type": "markdown",
   "metadata": {
    "colab_type": "text",
    "id": "bXCH27WcqQE-"
   },
   "source": [
    "## Challenge questions\n",
    "First, let's take a closer look at the result obtained with the run above. What are the means of the chirp mass and mass ratio distributions? What are the medians of the distributions for the components masses? You can use `np.mean` and `np.median` to calculate these.\n",
    "\n",
    "Now let's expand on this example a bit. Rerun the analysis above but change the prior on the distance from a delta function to `bilby.core.prior.PowerLaw(alpha=2., minimum=50., maximum=800., name='luminosity_distance')`. You should also replace `sample='unif'` with `sample=\"rwalk\", nact=1, walks=1` in your call to `bilby.run_sampler` above. This will take a bit longer than the original run, around ~20 minutes. You also need to change the `label` in the call to `run_sampler` to avoid over-writing your results.\n",
    "\n",
    "What is the median reported value of the distance posterior? What is the new log Bayes factor for signal vs. Gaussian noise? Don't be alarmed if your results do not match the official LVC results, as these are not rigorous settings."
   ]
  },
  {
   "cell_type": "code",
   "execution_count": null,
   "metadata": {
    "colab": {},
    "colab_type": "code",
    "id": "6kQ0T4PgqQE_"
   },
   "outputs": [],
   "source": []
  }
 ],
 "metadata": {
  "colab": {
   "collapsed_sections": [],
   "name": "Tutorial for parameter estimation on open data containing GW150914",
   "provenance": []
  },
  "kernelspec": {
   "display_name": "Python 3",
   "language": "python",
   "name": "python3"
  },
  "language_info": {
   "codemirror_mode": {
    "name": "ipython",
    "version": 3
   },
   "file_extension": ".py",
   "mimetype": "text/x-python",
   "name": "python",
   "nbconvert_exporter": "python",
   "pygments_lexer": "ipython3",
   "version": "3.7.7"
  }
 },
 "nbformat": 4,
 "nbformat_minor": 1
}
