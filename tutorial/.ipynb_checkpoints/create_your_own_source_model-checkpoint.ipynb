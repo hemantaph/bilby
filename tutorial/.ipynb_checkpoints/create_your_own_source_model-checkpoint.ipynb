{
 "cells": [
  {
   "cell_type": "code",
   "execution_count": 13,
   "metadata": {},
   "outputs": [],
   "source": [
    "#!/usr/bin/env python\n",
    "\"\"\"\n",
    "A script to demonstrate how to use your own source model\n",
    "\"\"\"\n",
    "from __future__ import division, print_function\n",
    "import matplotlib.pyplot as plt\n",
    "import bilby\n",
    "import numpy as np\n",
    "%matplotlib inline"
   ]
  },
  {
   "cell_type": "code",
   "execution_count": 3,
   "metadata": {},
   "outputs": [],
   "source": [
    "# First set up logging and some output directories and labels\n",
    "outdir = 'outdir_new_model'\n",
    "label = 'create_your_own_source_model'\n",
    "sampling_frequency = 4096\n",
    "duration = 1"
   ]
  },
  {
   "cell_type": "code",
   "execution_count": 4,
   "metadata": {},
   "outputs": [],
   "source": [
    "# Here we define our source model - this is the sine-Gaussian model in the\n",
    "# frequency domain.\n",
    "def sine_gaussian(f, A, f0, tau, phi0, geocent_time, ra, dec, psi):\n",
    "    arg = -(np.pi * tau * (f - f0))**2 + 1j * phi0\n",
    "    plus = np.sqrt(np.pi) * A * tau * np.exp(arg) / 2.\n",
    "    cross = plus * np.exp(1j * np.pi / 2)\n",
    "    return {'plus': plus, 'cross': cross}"
   ]
  },
  {
   "cell_type": "code",
   "execution_count": 5,
   "metadata": {},
   "outputs": [
    {
     "data": {
      "text/plain": [
       "array([  0,   1,   2, ..., 497, 498, 499])"
      ]
     },
     "execution_count": 5,
     "metadata": {},
     "output_type": "execute_result"
    }
   ],
   "source": [
    "#testing\n",
    "ff=np.arange(0,500,1)\n",
    "ff"
   ]
  },
  {
   "cell_type": "code",
   "execution_count": 6,
   "metadata": {},
   "outputs": [
    {
     "data": {
      "text/plain": [
       "{'plus': array([0.+0.j, 0.+0.j, 0.+0.j, ..., 0.+0.j, 0.+0.j, 0.+0.j]),\n",
       " 'cross': array([0.+0.j, 0.+0.j, 0.+0.j, ..., 0.+0.j, 0.+0.j, 0.+0.j])}"
      ]
     },
     "execution_count": 6,
     "metadata": {},
     "output_type": "execute_result"
    }
   ],
   "source": [
    "#testing\n",
    "sine_gaussian(f=ff, A=1e-23, f0=100, tau=1, phi0=0, geocent_time=0,\n",
    "                            ra=0, dec=0, psi=0)"
   ]
  },
  {
   "cell_type": "code",
   "execution_count": 7,
   "metadata": {},
   "outputs": [],
   "source": [
    "# We now define some parameters that we will inject\n",
    "injection_parameters = dict(A=1e-23, f0=100, tau=1, phi0=0, geocent_time=0,\n",
    "                            ra=0, dec=0, psi=0)"
   ]
  },
  {
   "cell_type": "code",
   "execution_count": 8,
   "metadata": {},
   "outputs": [
    {
     "name": "stderr",
     "output_type": "stream",
     "text": [
      "12:11 bilby INFO    : Waveform generator initiated with\n",
      "  frequency_domain_source_model: __main__.sine_gaussian\n",
      "  time_domain_source_model: None\n",
      "  parameter_conversion: bilby.gw.conversion.convert_to_lal_binary_black_hole_parameters\n"
     ]
    }
   ],
   "source": [
    "# Now we pass our source function to the WaveformGenerator\n",
    "waveform_generator = bilby.gw.waveform_generator.WaveformGenerator(\n",
    "    duration=duration, sampling_frequency=sampling_frequency,\n",
    "    frequency_domain_source_model=sine_gaussian)"
   ]
  },
  {
   "cell_type": "code",
   "execution_count": 11,
   "metadata": {},
   "outputs": [
    {
     "name": "stderr",
     "output_type": "stream",
     "text": [
      "12:19 bilby WARNING : Injecting signal outside segment, start_time=-3, merger time=0.\n",
      "12:19 bilby INFO    : Injected signal in H1:\n",
      "12:19 bilby INFO    :   optimal SNR = 3.19\n",
      "12:19 bilby INFO    :   matched filter SNR = 3.03-1.82j\n",
      "12:19 bilby INFO    :   A = 1e-23\n",
      "12:19 bilby INFO    :   f0 = 100\n",
      "12:19 bilby INFO    :   tau = 1\n",
      "12:19 bilby INFO    :   phi0 = 0\n",
      "12:19 bilby INFO    :   geocent_time = 0\n",
      "12:19 bilby INFO    :   ra = 0\n",
      "12:19 bilby INFO    :   dec = 0\n",
      "12:19 bilby INFO    :   psi = 0\n",
      "12:19 bilby WARNING : Injecting signal outside segment, start_time=-3, merger time=0.\n",
      "12:19 bilby INFO    : Injected signal in L1:\n",
      "12:19 bilby INFO    :   optimal SNR = 3.77\n",
      "12:19 bilby INFO    :   matched filter SNR = 4.74-0.66j\n",
      "12:19 bilby INFO    :   A = 1e-23\n",
      "12:19 bilby INFO    :   f0 = 100\n",
      "12:19 bilby INFO    :   tau = 1\n",
      "12:19 bilby INFO    :   phi0 = 0\n",
      "12:19 bilby INFO    :   geocent_time = 0\n",
      "12:19 bilby INFO    :   ra = 0\n",
      "12:19 bilby INFO    :   dec = 0\n",
      "12:19 bilby INFO    :   psi = 0\n"
     ]
    }
   ],
   "source": [
    "# Set up interferometers.\n",
    "ifos = bilby.gw.detector.InterferometerList(['H1', 'L1'])\n",
    "ifos.set_strain_data_from_power_spectral_densities(\n",
    "    sampling_frequency=sampling_frequency, duration=duration,\n",
    "    start_time=injection_parameters['geocent_time'] - 3)\n",
    "injection = ifos.inject_signal(waveform_generator=waveform_generator,\n",
    "                   parameters=injection_parameters)"
   ]
  },
  {
   "cell_type": "markdown",
   "metadata": {},
   "source": [
    "### Looking at the data\n",
    "Okay, we have spent a bit of time now initializing things. Let's check that everything makes sense. To do this, we'll plot our analysis data alongwise the amplitude spectral density (ASD); this is just the square root of the PSD and has the right units to be comparable to the frequency-domain strain data. We also add the \"injection\", here we plot the absolute value of the (complex) plus polarization."
   ]
  },
  {
   "cell_type": "code",
   "execution_count": 38,
   "metadata": {},
   "outputs": [
    {
     "data": {
      "text/plain": [
       "array([False, False, False, False, False, False, False, False,\n",
       "       False, False, False, False, False, False, False, False,\n",
       "       False, False, False, False,  True,  True,  True,  True,\n",
       "        True,  True,  True,  True,  True,  True,  True,  True,\n",
       "        True,  True,  True,  True,  True,  True,  True,  True,\n",
       "        True,  True,  True,  True,  True,  True,  True,  True,\n",
       "        True,  True])"
      ]
     },
     "execution_count": 38,
     "metadata": {},
     "output_type": "execute_result"
    }
   ],
   "source": [
    "#checking values\n",
    "H1.strain_data.frequency_mask[0:50]\n",
    "#therefore it takes value starting from 20Hz"
   ]
  },
  {
   "cell_type": "code",
   "execution_count": 36,
   "metadata": {},
   "outputs": [
    {
     "data": {
      "text/plain": [
       "array([ 0.,  1.,  2.,  3.,  4.,  5.,  6.,  7.,  8.,  9., 10.,\n",
       "       11., 12., 13., 14., 15., 16., 17., 18., 19., 20., 21.,\n",
       "       22., 23., 24., 25., 26., 27., 28., 29., 30., 31., 32.,\n",
       "       33., 34., 35., 36., 37., 38., 39., 40., 41., 42., 43.,\n",
       "       44., 45., 46., 47., 48., 49.])"
      ]
     },
     "execution_count": 36,
     "metadata": {},
     "output_type": "execute_result"
    }
   ],
   "source": [
    "#checking values\n",
    "H1.strain_data.frequency_array[0:50]"
   ]
  },
  {
   "cell_type": "code",
   "execution_count": 40,
   "metadata": {},
   "outputs": [
    {
     "data": {
      "text/plain": [
       "array([ 0.,  1.,  2.,  3.,  4.,  5.,  6.,  7.,  8.,  9., 10.,\n",
       "       11., 12., 13., 14., 15., 16., 17., 18., 19., 20., 21.,\n",
       "       22., 23., 24., 25., 26., 27., 28., 29., 30., 31., 32.,\n",
       "       33., 34., 35., 36., 37., 38., 39., 40., 41., 42., 43.,\n",
       "       44., 45., 46., 47., 48., 49.])"
      ]
     },
     "execution_count": 40,
     "metadata": {},
     "output_type": "execute_result"
    }
   ],
   "source": [
    "#checking values\n",
    "H1.frequency_array[0:50]"
   ]
  },
  {
   "cell_type": "code",
   "execution_count": 16,
   "metadata": {},
   "outputs": [
    {
     "data": {
      "image/png": "[encoded data removed]",
      "text/plain": [
       "<Figure size 432x288 with 1 Axes>"
      ]
     },
     "metadata": {
      "needs_background": "light"
     },
     "output_type": "display_data"
    }
   ],
   "source": [
    "H1 = ifos[0]\n",
    "H1_injection = injection[0]\n",
    "\n",
    "fig, ax = plt.subplots()\n",
    "idxs = H1.strain_data.frequency_mask  # This is a boolean mask of the frequencies which we'll use in the analysis\n",
    "ax.loglog(H1.strain_data.frequency_array[idxs],\n",
    "          np.abs(H1.strain_data.frequency_domain_strain[idxs]),\n",
    "          label=\"data\")\n",
    "ax.loglog(H1.frequency_array[idxs],\n",
    "          H1.amplitude_spectral_density_array[idxs],\n",
    "          label=\"ASD\")\n",
    "'''ax.loglog(H1.frequency_array[idxs],\n",
    "          np.abs(H1_injection[\"plus\"][idxs]),\n",
    "          label=\"Abs. val. of plus polarization\")'''\n",
    "ax.set_xlabel(\"Frequency [Hz]\")\n",
    "ax.set_ylabel(\"Strain [strain/$\\sqrt{Hz}$]\")\n",
    "ax.legend()\n",
    "plt.show()"
   ]
  },
  {
   "cell_type": "code",
   "execution_count": null,
   "metadata": {},
   "outputs": [
    {
     "name": "stderr",
     "output_type": "stream",
     "text": [
      "23:39 bilby INFO    : Waveform generator initiated with\n",
      "  frequency_domain_source_model: __main__.sine_gaussian\n",
      "  time_domain_source_model: None\n",
      "  parameter_conversion: bilby.gw.conversion.convert_to_lal_binary_black_hole_parameters\n",
      "/home/hemantakumar.phurailatpam/anaconda3/envs/bilby/lib/python3.6/site-packages/bilby/gw/detector/psd.py:356: RuntimeWarning: invalid value encountered in multiply\n",
      "  frequency_domain_strain = self.__power_spectral_density_interpolated(frequencies) ** 0.5 * white_noise\n",
      "23:39 bilby WARNING : Injecting signal outside segment, start_time=-3, merger time=0.\n",
      "23:39 bilby INFO    : Injected signal in H1:\n",
      "23:39 bilby INFO    :   optimal SNR = 3.19\n",
      "23:39 bilby INFO    :   matched filter SNR = 2.40-0.91j\n",
      "23:39 bilby INFO    :   A = 1e-23\n",
      "23:39 bilby INFO    :   f0 = 100\n",
      "23:39 bilby INFO    :   tau = 1\n",
      "23:39 bilby INFO    :   phi0 = 0\n",
      "23:39 bilby INFO    :   geocent_time = 0\n",
      "23:39 bilby INFO    :   ra = 0\n",
      "23:39 bilby INFO    :   dec = 0\n",
      "23:39 bilby INFO    :   psi = 0\n",
      "23:39 bilby WARNING : Injecting signal outside segment, start_time=-3, merger time=0.\n",
      "23:39 bilby INFO    : Injected signal in L1:\n",
      "23:39 bilby INFO    :   optimal SNR = 3.77\n",
      "23:39 bilby INFO    :   matched filter SNR = 3.84-0.18j\n",
      "23:39 bilby INFO    :   A = 1e-23\n",
      "23:39 bilby INFO    :   f0 = 100\n",
      "23:39 bilby INFO    :   tau = 1\n",
      "23:39 bilby INFO    :   phi0 = 0\n",
      "23:39 bilby INFO    :   geocent_time = 0\n",
      "23:39 bilby INFO    :   ra = 0\n",
      "23:39 bilby INFO    :   dec = 0\n",
      "23:39 bilby INFO    :   psi = 0\n",
      "23:39 bilby INFO    : Running for label 'create_your_own_source_model', output will be saved to 'outdir'\n",
      "23:39 bilby INFO    : Using lal version 7.0.0\n",
      "23:39 bilby INFO    : Using lal git version Branch: None;Tag: lalsuite-v6.76;Id: 384ac5e4b9c95803607658118ba361dfc353dade;;Builder: Unknown User <>;Repository status: UNCLEAN: Modified working tree\n",
      "23:39 bilby INFO    : Using lalsimulation version 2.2.0\n",
      "23:39 bilby INFO    : Using lalsimulation git version Branch: None;Tag: lalsuite-v6.76;Id: 384ac5e4b9c95803607658118ba361dfc353dade;;Builder: Unknown User <>;Repository status: UNCLEAN: Modified working tree\n",
      "23:39 bilby INFO    : Search parameters:\n",
      "23:39 bilby INFO    :   A = LogUniform(minimum=1e-25, maximum=1e-21, name='A', latex_label='A', unit=None, boundary=None)\n",
      "23:39 bilby INFO    :   f0 = Uniform(minimum=90, maximum=110, name='f', latex_label='f', unit=None, boundary=None)\n",
      "23:39 bilby INFO    :   tau = 1\n",
      "23:39 bilby INFO    :   phi0 = 0\n",
      "23:39 bilby INFO    :   geocent_time = 0\n",
      "23:39 bilby INFO    :   ra = 0\n",
      "23:39 bilby INFO    :   dec = 0\n",
      "23:39 bilby INFO    :   psi = 0\n",
      "23:39 bilby INFO    : Single likelihood evaluation took 2.089e-03 s\n"
     ]
    },
    {
     "name": "stdout",
     "output_type": "stream",
     "text": [
      "\r",
      "0it [00:00, ?it/s]"
     ]
    },
    {
     "name": "stderr",
     "output_type": "stream",
     "text": [
      "23:39 bilby INFO    : Using sampler Dynesty with kwargs {'bound': 'multi', 'sample': 'unif', 'verbose': True, 'periodic': None, 'reflective': None, 'check_point_delta_t': 600, 'nlive': 1000, 'first_update': None, 'walks': 100, 'npdim': None, 'rstate': None, 'queue_size': 1, 'pool': None, 'use_pool': None, 'live_points': None, 'logl_args': None, 'logl_kwargs': None, 'ptform_args': None, 'ptform_kwargs': None, 'enlarge': 1.5, 'bootstrap': None, 'vol_dec': 0.5, 'vol_check': 8.0, 'facc': 0.2, 'slices': 5, 'update_interval': 600, 'print_func': <bound method Dynesty._print_func of <bilby.core.sampler.dynesty.Dynesty object at 0x7f624326ca90>>, 'dlogz': 0.1, 'maxiter': None, 'maxcall': None, 'logl_max': inf, 'add_live': True, 'print_progress': True, 'save_bounds': False, 'n_effective': None, 'maxmcmc': 5000, 'nact': 5}\n",
      "23:39 bilby INFO    : Checkpoint every check_point_delta_t = 600s\n",
      "23:39 bilby INFO    : Using dynesty version 1.0.1\n",
      "23:39 bilby INFO    : Generating initial points from the prior\n"
     ]
    },
    {
     "name": "stdout",
     "output_type": "stream",
     "text": [
      "4127it [01:53,  5.05it/s, bound:16 nc: 28 ncall:4.6e+04 eff:9.0% logz-ratio=-0.69+/-0.04 dlogz:6.654>0.1]     "
     ]
    },
    {
     "name": "stderr",
     "output_type": "stream",
     "text": [
      "23:41 bilby INFO    : Run interrupted by signal 2: checkpoint and exit on 130\n",
      "23:41 bilby INFO    : Written checkpoint file outdir/create_your_own_source_model_resume.pickle\n",
      "23:41 bilby INFO    : Writing 1528 current samples to outdir/create_your_own_source_model_samples.dat\n"
     ]
    }
   ],
   "source": [
    "#!/usr/bin/env python\n",
    "\"\"\"\n",
    "A script to demonstrate how to use your own source model\n",
    "\"\"\"\n",
    "from __future__ import division, print_function\n",
    "import bilby\n",
    "import numpy as np\n",
    "\n",
    "# First set up logging and some output directories and labels\n",
    "outdir = 'outdir'\n",
    "label = 'create_your_own_source_model'\n",
    "sampling_frequency = 4096\n",
    "duration = 1\n",
    "\n",
    "\n",
    "# Here we define out source model - this is the sine-Gaussian model in the\n",
    "# frequency domain.\n",
    "def sine_gaussian(f, A, f0, tau, phi0, geocent_time, ra, dec, psi):\n",
    "    arg = -(np.pi * tau * (f - f0))**2 + 1j * phi0\n",
    "    plus = np.sqrt(np.pi) * A * tau * np.exp(arg) / 2.\n",
    "    cross = plus * np.exp(1j * np.pi / 2)\n",
    "    return {'plus': plus, 'cross': cross}\n",
    "\n",
    "\n",
    "# We now define some parameters that we will inject\n",
    "injection_parameters = dict(A=1e-23, f0=100, tau=1, phi0=0, geocent_time=0,\n",
    "                            ra=0, dec=0, psi=0)\n",
    "\n",
    "# Now we pass our source function to the WaveformGenerator\n",
    "waveform_generator = bilby.gw.waveform_generator.WaveformGenerator(\n",
    "    duration=duration, sampling_frequency=sampling_frequency,\n",
    "    frequency_domain_source_model=sine_gaussian)\n",
    "\n",
    "# Set up interferometers.\n",
    "ifos = bilby.gw.detector.InterferometerList(['H1', 'L1'])\n",
    "ifos.set_strain_data_from_power_spectral_densities(\n",
    "    sampling_frequency=sampling_frequency, duration=duration,\n",
    "    start_time=injection_parameters['geocent_time'] - 3)\n",
    "ifos.inject_signal(waveform_generator=waveform_generator,\n",
    "                   parameters=injection_parameters)\n",
    "\n",
    "# Here we define the priors for the search. We use the injection parameters\n",
    "# except for the amplitude, f0, and geocent_time\n",
    "prior = injection_parameters.copy()\n",
    "prior['A'] = bilby.core.prior.LogUniform(minimum=1e-25, maximum=1e-21, name='A')\n",
    "prior['f0'] = bilby.core.prior.Uniform(90, 110, 'f')\n",
    "\n",
    "likelihood = bilby.gw.likelihood.GravitationalWaveTransient(\n",
    "    interferometers=ifos, waveform_generator=waveform_generator)\n",
    "\n",
    "result = bilby.core.sampler.run_sampler(\n",
    "    likelihood, prior, sampler='dynesty', outdir=outdir, label=label,\n",
    "    resume=False, sample='unif', injection_parameters=injection_parameters)\n",
    "result.plot_corner()\n"
   ]
  }
 ],
 "metadata": {
  "kernelspec": {
   "display_name": "Python 3",
   "language": "python",
   "name": "python3"
  },
  "language_info": {
   "codemirror_mode": {
    "name": "ipython",
    "version": 3
   },
   "file_extension": ".py",
   "mimetype": "text/x-python",
   "name": "python",
   "nbconvert_exporter": "python",
   "pygments_lexer": "ipython3",
   "version": "3.6.12"
  }
 },
 "nbformat": 4,
 "nbformat_minor": 4
}
