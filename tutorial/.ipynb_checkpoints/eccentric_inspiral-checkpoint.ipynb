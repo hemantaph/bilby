{
 "cells": [
  {
   "cell_type": "code",
   "execution_count": 1,
   "metadata": {},
   "outputs": [],
   "source": [
    "#!/usr/bin/env python\n",
    "\"\"\"\n",
    "Tutorial to demonstrate running parameter estimation on a reduced parameter\n",
    "space for an injected eccentric binary black hole signal with masses & distnace\n",
    "similar to GW150914.\n",
    "\n",
    "This uses the same binary parameters that were used to make Figures 1, 2 & 5 in\n",
    "Lower et al. (2018) -> arXiv:1806.05350.\n",
    "\n",
    "For a more comprehensive look at what goes on in each step, refer to the\n",
    "\"basic_tutorial.py\" example.\n",
    "\"\"\"\n",
    "from __future__ import division\n",
    "\n",
    "import numpy as np\n",
    "import matplotlib.pyplot as plt\n",
    "import bilby\n",
    "\n",
    "%matplotlib inline"
   ]
  },
  {
   "cell_type": "code",
   "execution_count": 2,
   "metadata": {},
   "outputs": [
    {
     "name": "stderr",
     "output_type": "stream",
     "text": [
      "23:14 bilby INFO    : Waveform generator initiated with\n",
      "  frequency_domain_source_model: bilby.gw.source.lal_eccentric_binary_black_hole_no_spins\n",
      "  time_domain_source_model: None\n",
      "  parameter_conversion: bilby.gw.conversion.convert_to_lal_binary_black_hole_parameters\n"
     ]
    }
   ],
   "source": [
    "duration = 64.\n",
    "sampling_frequency = 256.\n",
    "\n",
    "outdir = 'outdir'\n",
    "label = 'eccentric_GW140914'\n",
    "bilby.core.utils.setup_logger(outdir=outdir, label=label)\n",
    "\n",
    "# Set up a random seed for result reproducibility.\n",
    "np.random.seed(150914)\n",
    "\n",
    "injection_parameters = dict(\n",
    "    mass_1=35., mass_2=30., eccentricity=0.1, luminosity_distance=440.,\n",
    "    theta_jn=0.4, psi=0.1, phase=1.2, geocent_time=1180002601.0, ra=45, dec=5.73)\n",
    "\n",
    "waveform_arguments = dict(waveform_approximant='EccentricFD',\n",
    "                          reference_frequency=10., minimum_frequency=10.)\n",
    "\n",
    "# Create the waveform_generator using the LAL eccentric black hole no spins\n",
    "# source function\n",
    "waveform_generator = bilby.gw.WaveformGenerator(\n",
    "    duration=duration, sampling_frequency=sampling_frequency,\n",
    "    frequency_domain_source_model=bilby.gw.source.lal_eccentric_binary_black_hole_no_spins,\n",
    "    parameters=injection_parameters, waveform_arguments=waveform_arguments)\n",
    "\n",
    "\n",
    "# Setting up three interferometers (LIGO-Hanford (H1), LIGO-Livingston (L1), and\n",
    "# Virgo (V1)) at their design sensitivities. The maximum frequency is set just\n",
    "# prior to the point at which the waveform model terminates. This is to avoid\n",
    "# any biases introduced from using a sharply terminating waveform model.\n",
    "minimum_frequency = 10.\n",
    "maximum_frequency = 128.\n"
   ]
  },
  {
   "cell_type": "code",
   "execution_count": 4,
   "metadata": {},
   "outputs": [
    {
     "name": "stderr",
     "output_type": "stream",
     "text": [
      "23:16 bilby INFO    : Injected signal in H1:\n",
      "23:16 bilby INFO    :   optimal SNR = 66.39\n",
      "23:16 bilby INFO    :   matched filter SNR = 66.72+1.40j\n",
      "23:16 bilby INFO    :   mass_1 = 35.0\n",
      "23:16 bilby INFO    :   mass_2 = 30.0\n",
      "23:16 bilby INFO    :   eccentricity = 0.1\n",
      "23:16 bilby INFO    :   luminosity_distance = 440.0\n",
      "23:16 bilby INFO    :   theta_jn = 0.4\n",
      "23:16 bilby INFO    :   psi = 0.1\n",
      "23:16 bilby INFO    :   phase = 1.2\n",
      "23:16 bilby INFO    :   geocent_time = 1180002601.0\n",
      "23:16 bilby INFO    :   ra = 45\n",
      "23:16 bilby INFO    :   dec = 5.73\n",
      "23:16 bilby INFO    : Injected signal in L1:\n",
      "23:16 bilby INFO    :   optimal SNR = 39.04\n",
      "23:16 bilby INFO    :   matched filter SNR = 39.83-1.44j\n",
      "23:16 bilby INFO    :   mass_1 = 35.0\n",
      "23:16 bilby INFO    :   mass_2 = 30.0\n",
      "23:16 bilby INFO    :   eccentricity = 0.1\n",
      "23:16 bilby INFO    :   luminosity_distance = 440.0\n",
      "23:16 bilby INFO    :   theta_jn = 0.4\n",
      "23:16 bilby INFO    :   psi = 0.1\n",
      "23:16 bilby INFO    :   phase = 1.2\n",
      "23:16 bilby INFO    :   geocent_time = 1180002601.0\n",
      "23:16 bilby INFO    :   ra = 45\n",
      "23:16 bilby INFO    :   dec = 5.73\n"
     ]
    }
   ],
   "source": [
    "ifos = bilby.gw.detector.InterferometerList(['H1', 'L1'])\n",
    "for ifo in ifos:\n",
    "    ifo.minimum_frequency = minimum_frequency\n",
    "    ifo.maximum_frequency = maximum_frequency\n",
    "ifos.set_strain_data_from_power_spectral_densities(\n",
    "    sampling_frequency=sampling_frequency, duration=duration,\n",
    "    start_time=injection_parameters['geocent_time'] - 3)\n",
    "injection = ifos.inject_signal(waveform_generator=waveform_generator,\n",
    "                   parameters=injection_parameters)\n"
   ]
  },
  {
   "cell_type": "code",
   "execution_count": 5,
   "metadata": {},
   "outputs": [
    {
     "ename": "NameError",
     "evalue": "name 'plt' is not defined",
     "output_type": "error",
     "traceback": [
      "\u001b[0;31m---------------------------------------------------------------------------\u001b[0m",
      "\u001b[0;31mNameError\u001b[0m                                 Traceback (most recent call last)",
      "\u001b[0;32m<ipython-input-5-5b7a7483207f>\u001b[0m in \u001b[0;36m<module>\u001b[0;34m\u001b[0m\n\u001b[1;32m      2\u001b[0m \u001b[0mH1_injection\u001b[0m \u001b[0;34m=\u001b[0m \u001b[0minjection\u001b[0m\u001b[0;34m[\u001b[0m\u001b[0;36m0\u001b[0m\u001b[0;34m]\u001b[0m\u001b[0;34m\u001b[0m\u001b[0;34m\u001b[0m\u001b[0m\n\u001b[1;32m      3\u001b[0m \u001b[0;34m\u001b[0m\u001b[0m\n\u001b[0;32m----> 4\u001b[0;31m \u001b[0mfig\u001b[0m\u001b[0;34m,\u001b[0m \u001b[0max\u001b[0m \u001b[0;34m=\u001b[0m \u001b[0mplt\u001b[0m\u001b[0;34m.\u001b[0m\u001b[0msubplots\u001b[0m\u001b[0;34m(\u001b[0m\u001b[0;34m)\u001b[0m\u001b[0;34m\u001b[0m\u001b[0;34m\u001b[0m\u001b[0m\n\u001b[0m\u001b[1;32m      5\u001b[0m \u001b[0midxs\u001b[0m \u001b[0;34m=\u001b[0m \u001b[0mH1\u001b[0m\u001b[0;34m.\u001b[0m\u001b[0mstrain_data\u001b[0m\u001b[0;34m.\u001b[0m\u001b[0mfrequency_mask\u001b[0m  \u001b[0;31m# This is a boolean mask of the frequencies which we'll use in the analysis\u001b[0m\u001b[0;34m\u001b[0m\u001b[0;34m\u001b[0m\u001b[0m\n\u001b[1;32m      6\u001b[0m ax.loglog(H1.strain_data.frequency_array[idxs],\n",
      "\u001b[0;31mNameError\u001b[0m: name 'plt' is not defined"
     ]
    }
   ],
   "source": [
    "H1 = ifos[0]\n",
    "H1_injection = injection[0]\n",
    "\n",
    "fig, ax = plt.subplots()\n",
    "idxs = H1.strain_data.frequency_mask  # This is a boolean mask of the frequencies which we'll use in the analysis\n",
    "ax.loglog(H1.strain_data.frequency_array[idxs],\n",
    "          np.abs(H1.strain_data.frequency_domain_strain[idxs]),\n",
    "          label=\"data\")\n",
    "ax.loglog(H1.frequency_array[idxs],\n",
    "          H1.amplitude_spectral_density_array[idxs],\n",
    "          label=\"ASD\")\n",
    "ax.loglog(H1.frequency_array[idxs],\n",
    "          np.abs(H1_injection[\"plus\"][idxs]),\n",
    "          label=\"Abs. val. of plus polarization\")\n",
    "\n",
    "'''L1 = ifos[1]\n",
    "L1_injection = injection[1]\n",
    "\n",
    "ax.loglog(L1.frequency_array[idxs]+5,\n",
    "          L1.amplitude_spectral_density_array[idxs],\n",
    "          label=\"ASD\")'''\n",
    "\n",
    "ax.set_xlim(20,2000)\n",
    "ax.set_ylim(1e-27,2.327737159425905e-22)\n",
    "\n",
    "\n",
    "ax.set_xlabel(\"Frequency [Hz]\")\n",
    "ax.set_ylabel(\"Strain [strain/$\\sqrt{Hz}$]\")\n",
    "ax.legend()\n",
    "plt.show()"
   ]
  },
  {
   "cell_type": "code",
   "execution_count": null,
   "metadata": {},
   "outputs": [],
   "source": []
  }
 ],
 "metadata": {
  "kernelspec": {
   "display_name": "Python 3",
   "language": "python",
   "name": "python3"
  },
  "language_info": {
   "codemirror_mode": {
    "name": "ipython",
    "version": 3
   },
   "file_extension": ".py",
   "mimetype": "text/x-python",
   "name": "python",
   "nbconvert_exporter": "python",
   "pygments_lexer": "ipython3",
   "version": "3.6.12"
  }
 },
 "nbformat": 4,
 "nbformat_minor": 4
}
