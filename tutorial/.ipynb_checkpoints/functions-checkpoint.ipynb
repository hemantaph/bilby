{
 "cells": [
  {
   "cell_type": "code",
   "execution_count": 2,
   "metadata": {},
   "outputs": [],
   "source": [
    "import numpy as np\n",
    "import matplotlib.pyplot as plt\n",
    "\n",
    "c = 299792458.0\n",
    "G = 6.673*1e-11\n",
    "Mo = 1.989*1e30\n",
    "Mpc = 3.086*1e22"
   ]
  },
  {
   "cell_type": "code",
   "execution_count": 76,
   "metadata": {},
   "outputs": [
    {
     "data": {
      "text/plain": [
       "6.673e-10"
      ]
     },
     "execution_count": 76,
     "metadata": {},
     "output_type": "execute_result"
    }
   ],
   "source": [
    "G*10"
   ]
  },
  {
   "cell_type": "code",
   "execution_count": 34,
   "metadata": {},
   "outputs": [
    {
     "data": {
      "text/plain": [
       "1e+23"
      ]
     },
     "execution_count": 34,
     "metadata": {},
     "output_type": "execute_result"
    }
   ],
   "source": [
    "1e22*10"
   ]
  },
  {
   "cell_type": "code",
   "execution_count": null,
   "metadata": {},
   "outputs": [],
   "source": [
    "arg = {'iota':np.pi/3, 'beta':np.pi/3, 'D':100*3.086*1e22 , 'm1':15, 'm2':5, 'f', 'fo', 'Fp', 'Fc', 'eti', 'Phi_c', 't_c'}"
   ]
  },
  {
   "cell_type": "code",
   "execution_count": 30,
   "metadata": {},
   "outputs": [],
   "source": [
    "class Fn:\n",
    "    def __init__(self, iota, beta, D, m1, m2, f, fo, Fp, Fc, eti, Phi_c, t_c ):\n",
    "\n",
    "        self.iota = iota\n",
    "        self.beta = beta\n",
    "        self.D = D\n",
    "        self.m1 = m1*Mo\n",
    "        self.m2 = m2*Mo\n",
    "        self.f = f\n",
    "        self.fo = fo\n",
    "        self.Fp = Fp\n",
    "        self.Fc = Fc\n",
    "        self.eti = eti\n",
    "        self.Phi_c = Phi_c\n",
    "        self.t_c = t_c\n",
    "\n",
    "#eccentricity\n",
    "    def eccn(self):\n",
    "        eto = self.eti\n",
    "        chi = self.f/self.fo\n",
    "        \n",
    "        et = eto**3 *( -(3323/(1824*chi**(19/6))) + 3323/(1824*chi**(19/18)) ) + \\\n",
    "            eto**5 *( 50259743/(6653952*chi**(95/18)) - 11042329/(1108992*chi**(19/6)) + \\\n",
    "                 15994231/(6653952*chi**(19/18)) ) + eto/chi**(19/18)\n",
    "        \n",
    "        return(et)\n",
    "     \n",
    "#frequency domain frequency\n",
    "    def psi_l(self):\n",
    "        l = np.arange(1,10,1)\n",
    "        phic = self.Phi_c\n",
    "        tc = self.t_c\n",
    "        eta = (self.m1*self.m2)/(M**2)\n",
    "        M = self.m1 + self.m2\n",
    "        eto = self.eti\n",
    "        chi = self.f/self.fo\n",
    "        \n",
    "        psi = l*phic - 2*np.pi*f*self.tc - 3/(128*eta) * ((G*M*np.pi*f)/c**3)**(-5/3) * \\\n",
    "            (l/2)**(8/3) *( 1 + eto**6 *(-(75356125/(3326976 *chi**(19/3)))+\\\n",
    "                                     17355248095/(455518464 *chi**(38/9))-\\\n",
    "                                     326481225/(101334144 *chi**(19/9))) + \\\n",
    "                       eto**4 *(5222765/(998944 *chi**(38/9))-2608555/(444448 *chi**(19/9))) - \\\n",
    "                       (2355 *eto**2)/(1462 *chi**(19/9)) )\n",
    "        return(psi)\n",
    "        \n",
    "    \n",
    "#for plus        \n",
    "    def C_plus(self):\n",
    "        s = lambda a : np.sin(a)\n",
    "        c = lambda a : np.cos(a)\n",
    "        e = self.eccentricity\n",
    "        i = self.iota\n",
    "        b = self.beta\n",
    "        e = eccn() \n",
    "        \n",
    "        Cplus = np.zeros(10)\n",
    "        Cplus[0] = s(i)**2 * ( e - (1/8)*e**3 + (1/192)*e**5) - \\\n",
    "                    (1+c(i)**2)*c(2*b)*( -(3/2)*e + (2/3)*e**3 - (37/768)*e**5 )\n",
    "        \n",
    "        Cplus[1] = s(i)**2 * ( e**2 - (1/3)*e**4 + (1/24)*e**6 ) - \\\n",
    "                    (1+c(i)**2)*c(2*b)*( 2 - (5)*e**2 + (11/4)*e**4 - (179/360)*e**6)\n",
    "        \n",
    "        Cplus[2] = s(i)**2 * ( (9/8)*e**3 - (81/128)*e**5 ) - \\\n",
    "                    (1+c(i)**2)*c(2*b)*( (9/2)*e - (171/16)*e**3 + (9477/1280)*e**5 )\n",
    "        \n",
    "        Cplus[3] = s(i)**2 * ( (4/3)*e**4 - (16/15)*e**6 ) - \\\n",
    "                    (1+c(i)**2)*c(2*b)*( (8)*e**2 - (20)*e**4 + (752/45)*e**6 )\n",
    "        \n",
    "        Cplus[4] = s(i)**2 * ( (625/384)*e**5 ) - \\\n",
    "                    (1+c(i)**2)*c(2*b)*( (625/48)*e**3 - (26875/768)*e**5 )\n",
    "        \n",
    "        Cplus[5] = s(i)**2 * ( (81/40)*e**6 ) - \\\n",
    "                    (1+c(i)**2)*c(2*b)*( (81/4)*e**4 - (2349/40)*e**6 )\n",
    "        \n",
    "        Cplus[6] = - (1+c(i)**2)*c(2*b)*( (117649/3840)*e**5 )\n",
    "        \n",
    "        Cplus[7] = - (1+c(i)**2)*c(2*b)*( (2048/45)*e**6 )\n",
    "        \n",
    "        Cplus[8] = 0\n",
    "        \n",
    "        Cplus[9] = 0\n",
    "        \n",
    "        \n",
    "        return(Cplus)\n",
    "\n",
    "    def S_plus(self):\n",
    "        s = lambda a : np.sin(a)\n",
    "        c = lambda a : np.cos(a)\n",
    "        e = self.eccentricity\n",
    "        i = self.iota\n",
    "        b = self.beta\n",
    "        e = eccn()\n",
    "        \n",
    "        Splus = np.zeros(10)\n",
    "        Splus[0] = - (1+c(i)**2)*s(2*b)*( -(3/2)*e + (23/24)*e**3 - (19/256)*e**5 )\n",
    "        \n",
    "        Splus[1] = - (1+c(i)**2)*s(2*b)*( 2 - (5)*e**2 + (3)*e**4 - (73/180)*e**6)\n",
    "        \n",
    "        Splus[2] = - (1+c(i)**2)*s(2*b)*( (9/2)*e - (171/16)*e**3 + (9783/1280)*e**5 )\n",
    "        \n",
    "        Splus[3] = - (1+c(i)**2)*s(2*b)*( (8)*e**2 - (20)*e**4 + (763/45)*e**6 )\n",
    "        \n",
    "        Splus[4] = - (1+c(i)**2)*s(2*b)*( (625/48)*e**3 - (26875/768)*e**5 )\n",
    "        \n",
    "        Splus[5] = - (1+c(i)**2)*s(2*b)*( (81/4)*e**4 - (2349/40)*e**6 )\n",
    "        \n",
    "        Splus[6] = - (1+c(i)**2)*s(2*b)*( (117649/3840)*e**5 )\n",
    "        \n",
    "        Splus[7] = - (1+c(i)**2)*s(2*b)*( (2048/45)*e**6 )\n",
    "        \n",
    "        Splus[8] = 0\n",
    "        \n",
    "        Splus[9] = 0\n",
    "        \n",
    "        return(Splus)\n",
    "        \n",
    "#for cross \n",
    "    def C_cross(self):\n",
    "        s = lambda a : np.sin(a)\n",
    "        c = lambda a : np.cos(a)\n",
    "        e = self.eccentricity\n",
    "        i = self.iota\n",
    "        b = self.beta\n",
    "        e = eccn()\n",
    "        \n",
    "        Cx = np.zeros(10)\n",
    "        Cx[0] = - s(2*b)*c(i)*( 3*e - (4/3)*e**3 + (37/384)*e**5 )\n",
    "        \n",
    "        Cx[1] = - s(2*b)*c(i)*( - 4 + 10*e**2 - (11/2)*e**4 + (179/180)*e**6 )\n",
    "        \n",
    "        Cx[2] = - s(2*b)*c(i)*( - 9*e + (171/8)*e**3 - (9477/640)*e**5 )\n",
    "        \n",
    "        Cx[3] = - s(2*b)*c(i)*( - 16*e**2 + (40)*e**4 - (1504/45)*e**6 )\n",
    "        \n",
    "        Cx[4] = - s(2*b)*c(i)*( - (625/24)*e**3 + (26875/384)*e**5 )\n",
    "        \n",
    "        Cx[5] = - s(2*b)*c(i)*( - (81/2)*e**4 + (2349/20)*e**6 )\n",
    "        \n",
    "        Cx[6] = - s(2*b)*c(i)*( - (117649/1920)*e**5 )\n",
    "        \n",
    "        Cx[7] = - s(2*b)*c(i)*( - (4096/45)*e**6 )\n",
    "        \n",
    "        Cx[8] = 0\n",
    "        \n",
    "        Cx[9] = 0\n",
    "        \n",
    "        \n",
    "        return(Ccross)\n",
    "\n",
    "    def S_cross(self):\n",
    "        s = lambda a : np.sin(a)\n",
    "        c = lambda a : np.cos(a)\n",
    "        e = self.eccentricity\n",
    "        i = self.iota\n",
    "        b = self.beta\n",
    "        e = eccn()\n",
    "        \n",
    "        Sx = np.zeros(10)\n",
    "        Sx[0] = - c(2*b)*c(i)*( - 3*e + (23/12)*e**3 + (19/128)*e**5 )\n",
    "        \n",
    "        Sx[1] = - c(2*b)*c(i)*( 4 - 10*e**2 + (6)*e**4 - (73/90)*e**6 )\n",
    "        \n",
    "        Sx[2] = - c(2*b)*c(i)*( 9*e - (171/8)*e**3 + (9783/640)*e**5 )\n",
    "        \n",
    "        Sx[3] = - c(2*b)*c(i)*( 16*e**2 - (40)*e**4 + (1526/45)*e**6 )\n",
    "        \n",
    "        Sx[4] = - c(2*b)*c(i)*( (625/24)*e**3 - (26875/384)*e**5 )\n",
    "        \n",
    "        Sx[5] = - c(2*b)*c(i)*( (81/2)*e**4 - (2349/20)*e**6 )\n",
    "        \n",
    "        Sx[6] = - c(2*b)*c(i)*( (117649/1920)*e**5 )\n",
    "        \n",
    "        Sx[7] = - c(2*b)*c(i)*( (4096/45)*e**6 )\n",
    "        \n",
    "        Sx[8] = 0\n",
    "        \n",
    "        Sx[9] = 0\n",
    "        \n",
    "        return(Scross)\n",
    "             \n",
    "    \n",
    "    def alpha_l(self):\n",
    "        Gamma_l = self.Fp*C_plus + self.Fc*C_cross\n",
    "        Sigma_l = self.Fp*S_plus + self.Fc*S_cross\n",
    "        \n",
    "        al = sign(Gamma_l)*np.sqrt(Gamma_l**2 + Sigma_l**2)\n",
    "        \n",
    "        return(al)\n",
    "\n",
    "    def phi_l(self):\n",
    "        Gamma_l = self.Fp*C_plus + self.Fc*C_cross\n",
    "        Sigma_l = self.Fp*S_plus + self.Fc*S_cross\n",
    "        \n",
    "        phil = np.arctan(- (Sigma_l/Gamma_l))\n",
    "        \n",
    "        return(phil)\n",
    "    \n",
    "    def amplitude(self):\n",
    "        e = self.eccentricity\n",
    "        i = self.iota\n",
    "        b = self.beta\n",
    "        M = self.m1 + self.m2\n",
    "        eta = (self.m1*self.m2)/(M**2)\n",
    "        d = self.D \n",
    "        F = self.F\n",
    "        \n",
    "        x = ( (G*M*2*np.pi*F)/(c**3) )**(2/3)\n",
    "        \n",
    "        A = ((G*M*eta)/((c**2) * d)) * x\n",
    "        \n",
    "        return(A)\n",
    "    \n",
    "    def amplitude(self):\n",
    "        e = self.eccentricity\n",
    "        i = self.iota\n",
    "        b = self.beta\n",
    "        M = self.m1 + self.m2\n",
    "        eta = (self.m1*self.m2)/(M**2)\n",
    "        d = self.D \n",
    "        F = self.F\n",
    "        \n",
    "        x = ( (G*M*2*np.pi*F)/(c**3) )**(2/3)\n",
    "        \n",
    "        A = ((G*M*eta)/((c**2) * d)) * x\n",
    "        \n",
    "        return(A)\n",
    "    \n",
    "    def Xi_l(self):\n",
    "        \n",
    "        numerator = (1-e**2)**(7/4)\n",
    "        denomitor = ( 1 + (73/24)*e**2 + (37/96)*e**4 )\n",
    "        \n",
    "        xil = (numerator/denomitor)*alpha_l()*( np.cos(phi_l) - 1j*np.sin(phi_l) )\n",
    "        \n",
    "        \n",
    "        \n",
    "    def h_tilde(self):\n",
    "        ff = self.f\n",
    "        chi = self.f/self.fo\n",
    "        \n",
    "        htilde = amplitude*ff**(-7/6)*np.sum( Xi_l()*(l/2)**(2/3) * ( np.cos(np.pi/4+psi_l()) - 1j*np.sin(np.pi/4+psi_l()) ) ) \n",
    "        \n",
    "'''  "
   ]
  },
  {
   "cell_type": "code",
   "execution_count": 16,
   "metadata": {},
   "outputs": [
    {
     "data": {
      "text/plain": [
       "16"
      ]
     },
     "execution_count": 16,
     "metadata": {},
     "output_type": "execute_result"
    }
   ],
   "source": [
    "aaa=np.array([1,2,2])\n",
    "bbb=np.array([2,3,4])\n",
    "np.sum(aaa*bbb)"
   ]
  },
  {
   "cell_type": "code",
   "execution_count": 17,
   "metadata": {},
   "outputs": [
    {
     "data": {
      "text/plain": [
       "16"
      ]
     },
     "execution_count": 17,
     "metadata": {},
     "output_type": "execute_result"
    }
   ],
   "source": [
    "2+6+8"
   ]
  },
  {
   "cell_type": "code",
   "execution_count": 15,
   "metadata": {},
   "outputs": [],
   "source": [
    "#D in Mpc and m1,m2 in Mo\n",
    "ff=20\n",
    "f = Fn(eccentricity=0.2, iota=np.pi/3 , beta=np.pi/3 , D=4000. , m1=36. , m2=29., F=ff)"
   ]
  },
  {
   "cell_type": "code",
   "execution_count": 16,
   "metadata": {},
   "outputs": [],
   "source": [
    "cplus = f.C_plus()\n",
    "splus = f.S_plus()\n",
    "Amp = f.amplitude()"
   ]
  },
  {
   "cell_type": "code",
   "execution_count": 99,
   "metadata": {},
   "outputs": [
    {
     "data": {
      "text/plain": [
       "array([2.25626658e-23, 2.95654561e-23, 3.58159995e-23])"
      ]
     },
     "execution_count": 99,
     "metadata": {},
     "output_type": "execute_result"
    }
   ],
   "source": [
    "Amp"
   ]
  },
  {
   "cell_type": "code",
   "execution_count": 17,
   "metadata": {},
   "outputs": [
    {
     "data": {
      "text/plain": [
       "array([ 0.31648583, -1.95372521, -0.88436972, -0.31294386, -0.10064162,\n",
       "       -0.03100544, -0.01061323, -0.0031531 ,  0.        ,  0.        ])"
      ]
     },
     "execution_count": 17,
     "metadata": {},
     "output_type": "execute_result"
    }
   ],
   "source": [
    "splus"
   ]
  },
  {
   "cell_type": "code",
   "execution_count": 63,
   "metadata": {},
   "outputs": [
    {
     "data": {
      "text/plain": [
       "0.33342753958333327"
      ]
     },
     "execution_count": 63,
     "metadata": {},
     "output_type": "execute_result"
    }
   ],
   "source": [
    "\n",
    "np.sin(np.pi/3)**2 * ( 0.2 - (1/8)*0.2**3 + (1/192)*0.2**5 - (1/9216)*0.2**7  ) + \\\n",
    "                    (1+np.cos(np.pi/3)**2)*np.cos(2*np.pi/3)*( -(3/2)*0.2 + (2/3)*0.2**3 - (37/768)*0.2**5 + (11/7680)*0.2**7 )"
   ]
  },
  {
   "cell_type": "code",
   "execution_count": 19,
   "metadata": {},
   "outputs": [
    {
     "data": {
      "text/plain": [
       "[<matplotlib.lines.Line2D at 0x7fd8903ae278>]"
      ]
     },
     "execution_count": 19,
     "metadata": {},
     "output_type": "execute_result"
    },
    {
     "data": {
      "image/png": "[encoded data removed]",
      "text/plain": [
       "<Figure size 432x288 with 1 Axes>"
      ]
     },
     "metadata": {
      "needs_background": "light"
     },
     "output_type": "display_data"
    }
   ],
   "source": [
    "plt.plot(np.linspace(0,9,10), splus)"
   ]
  },
  {
   "cell_type": "code",
   "execution_count": null,
   "metadata": {},
   "outputs": [],
   "source": [
    "(-2+5 et^2-(11 et^4)/4+(179 et^6)/360+(-2+5 et^2-(11 et^4)/4+(179 et^6)/360) Cos[i]^2) Cos[2 \\[Beta]]+(et^2-et^4/3+et^6/24) Sin[i]^2"
   ]
  },
  {
   "cell_type": "code",
   "execution_count": 5,
   "metadata": {},
   "outputs": [
    {
     "data": {
      "text/plain": [
       "array([0.00000e+00, 9.76000e-04, 1.95200e-03, ..., 9.97472e-01,\n",
       "       9.98448e-01, 9.99424e-01])"
      ]
     },
     "execution_count": 5,
     "metadata": {},
     "output_type": "execute_result"
    }
   ],
   "source": [
    "tt=np.arange(0, 1, 0.000976)\n",
    "tt"
   ]
  },
  {
   "cell_type": "code",
   "execution_count": 4,
   "metadata": {},
   "outputs": [
    {
     "data": {
      "text/plain": [
       "0.0009765625"
      ]
     },
     "execution_count": 4,
     "metadata": {},
     "output_type": "execute_result"
    }
   ],
   "source": [
    "1/1024"
   ]
  },
  {
   "cell_type": "code",
   "execution_count": null,
   "metadata": {},
   "outputs": [],
   "source": []
  }
 ],
 "metadata": {
  "kernelspec": {
   "display_name": "Python 3",
   "language": "python",
   "name": "python3"
  },
  "language_info": {
   "codemirror_mode": {
    "name": "ipython",
    "version": 3
   },
   "file_extension": ".py",
   "mimetype": "text/x-python",
   "name": "python",
   "nbconvert_exporter": "python",
   "pygments_lexer": "ipython3",
   "version": "3.6.12"
  }
 },
 "nbformat": 4,
 "nbformat_minor": 4
}
