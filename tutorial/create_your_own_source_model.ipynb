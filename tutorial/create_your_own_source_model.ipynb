{
 "cells": [
  {
   "cell_type": "code",
   "execution_count": 1,
   "metadata": {},
   "outputs": [],
   "source": [
    "import bilby\n",
    "import numpy as np\n",
    "import matplotlib.pyplot as plt\n",
    "%matplotlib inline"
   ]
  },
  {
   "cell_type": "code",
   "execution_count": 2,
   "metadata": {},
   "outputs": [],
   "source": [
    "outdir = 'outdir'\n",
    "label = 'create_your_own_source_model'\n",
    "sampling_frequency = 4096\n",
    "duration = 1\n"
   ]
  },
  {
   "cell_type": "code",
   "execution_count": 3,
   "metadata": {},
   "outputs": [],
   "source": [
    "def sine_gaussian(f, A, f0, tau, phi0, geocent_time, ra, dec, psi):\n",
    "    arg = -(np.pi * tau * (f - f0))**2 + 1j * phi0\n",
    "    plus = np.sqrt(np.pi) * A * tau * np.exp(arg) / 2.\n",
    "    cross = plus * np.exp(1j * np.pi / 2)\n",
    "    return {'plus': plus, 'cross': cross}\n"
   ]
  },
  {
   "cell_type": "code",
   "execution_count": 4,
   "metadata": {
    "scrolled": false
   },
   "outputs": [],
   "source": [
    "#testing\n",
    "#sine_gaussian(np.arange(0,100,1), A=1e-23, f0=100, tau=1, phi0=0, geocent_time=0,ra=0, dec=0, psi=0)"
   ]
  },
  {
   "cell_type": "code",
   "execution_count": 5,
   "metadata": {},
   "outputs": [],
   "source": [
    "# We now define some parameters that we will inject\n",
    "injection_parameters = dict(A=5.0*1e-23, f0=100, tau=1, phi0=0, geocent_time=1126259600.,\n",
    "                            ra=0, dec=0, psi=0)\n"
   ]
  },
  {
   "cell_type": "code",
   "execution_count": 6,
   "metadata": {},
   "outputs": [
    {
     "name": "stderr",
     "output_type": "stream",
     "text": [
      "12:45 bilby INFO    : Waveform generator initiated with\n",
      "  frequency_domain_source_model: __main__.sine_gaussian\n",
      "  time_domain_source_model: None\n",
      "  parameter_conversion: bilby.gw.conversion.convert_to_lal_binary_black_hole_parameters\n"
     ]
    }
   ],
   "source": [
    "# Now we pass our source function to the WaveformGenerator\n",
    "waveform_generator = bilby.gw.waveform_generator.WaveformGenerator(\n",
    "    duration=duration, sampling_frequency=sampling_frequency,\n",
    "    frequency_domain_source_model=sine_gaussian)\n"
   ]
  },
  {
   "cell_type": "code",
   "execution_count": 7,
   "metadata": {},
   "outputs": [
    {
     "name": "stderr",
     "output_type": "stream",
     "text": [
      "/home/hemantakumar.phurailatpam/anaconda3/envs/bilby/lib/python3.7/site-packages/bilby/gw/detector/psd.py:356: RuntimeWarning: invalid value encountered in multiply\n",
      "  frequency_domain_strain = self.__power_spectral_density_interpolated(frequencies) ** 0.5 * white_noise\n",
      "12:45 bilby WARNING : Injecting signal outside segment, start_time=1126259597.0, merger time=1126259600.0.\n",
      "12:45 bilby INFO    : Injected signal in H1:\n",
      "12:45 bilby INFO    :   optimal SNR = 15.05\n",
      "12:45 bilby INFO    :   matched filter SNR = 14.80-1.37j\n",
      "12:45 bilby INFO    :   A = 4.9999999999999997e-23\n",
      "12:45 bilby INFO    :   f0 = 100\n",
      "12:45 bilby INFO    :   tau = 1\n",
      "12:45 bilby INFO    :   phi0 = 0\n",
      "12:45 bilby INFO    :   geocent_time = 1126259600.0\n",
      "12:45 bilby INFO    :   ra = 0\n",
      "12:45 bilby INFO    :   dec = 0\n",
      "12:45 bilby INFO    :   psi = 0\n",
      "12:45 bilby WARNING : Injecting signal outside segment, start_time=1126259597.0, merger time=1126259600.0.\n",
      "12:45 bilby INFO    : Injected signal in L1:\n",
      "12:45 bilby INFO    :   optimal SNR = 14.60\n",
      "12:45 bilby INFO    :   matched filter SNR = 14.36+1.41j\n",
      "12:45 bilby INFO    :   A = 4.9999999999999997e-23\n",
      "12:45 bilby INFO    :   f0 = 100\n",
      "12:45 bilby INFO    :   tau = 1\n",
      "12:45 bilby INFO    :   phi0 = 0\n",
      "12:45 bilby INFO    :   geocent_time = 1126259600.0\n",
      "12:45 bilby INFO    :   ra = 0\n",
      "12:45 bilby INFO    :   dec = 0\n",
      "12:45 bilby INFO    :   psi = 0\n"
     ]
    },
    {
     "data": {
      "text/plain": [
       "[{'plus': array([0.+0.j, 0.+0.j, 0.+0.j, ..., 0.+0.j, 0.+0.j, 0.+0.j]),\n",
       "  'cross': array([0.+0.j, 0.+0.j, 0.+0.j, ..., 0.+0.j, 0.+0.j, 0.+0.j])},\n",
       " {'plus': array([0.+0.j, 0.+0.j, 0.+0.j, ..., 0.+0.j, 0.+0.j, 0.+0.j]),\n",
       "  'cross': array([0.+0.j, 0.+0.j, 0.+0.j, ..., 0.+0.j, 0.+0.j, 0.+0.j])}]"
      ]
     },
     "execution_count": 7,
     "metadata": {},
     "output_type": "execute_result"
    }
   ],
   "source": [
    "# Set up interferometers.\n",
    "ifos = bilby.gw.detector.InterferometerList(['H1', 'L1'])\n",
    "ifos.set_strain_data_from_power_spectral_densities(\n",
    "    sampling_frequency=sampling_frequency, duration=duration,\n",
    "    start_time=injection_parameters['geocent_time'] - 3)\n",
    "ifos.inject_signal(waveform_generator=waveform_generator,\n",
    "                   parameters=injection_parameters)\n"
   ]
  },
  {
   "cell_type": "code",
   "execution_count": 8,
   "metadata": {},
   "outputs": [
    {
     "name": "stderr",
     "output_type": "stream",
     "text": [
      "12:45 bilby WARNING : Injecting signal outside segment, start_time=1126259597.0, merger time=1126259600.0.\n",
      "12:45 bilby INFO    : Injected signal in H1:\n",
      "12:45 bilby INFO    :   optimal SNR = 15.05\n",
      "12:45 bilby INFO    :   matched filter SNR = 29.85-1.37j\n",
      "12:45 bilby INFO    :   A = 4.9999999999999997e-23\n",
      "12:45 bilby INFO    :   f0 = 100\n",
      "12:45 bilby INFO    :   tau = 1\n",
      "12:45 bilby INFO    :   phi0 = 0\n",
      "12:45 bilby INFO    :   geocent_time = 1126259600.0\n",
      "12:45 bilby INFO    :   ra = 0\n",
      "12:45 bilby INFO    :   dec = 0\n",
      "12:45 bilby INFO    :   psi = 0\n",
      "12:45 bilby WARNING : Injecting signal outside segment, start_time=1126259597.0, merger time=1126259600.0.\n",
      "12:45 bilby INFO    : Injected signal in L1:\n",
      "12:45 bilby INFO    :   optimal SNR = 14.60\n",
      "12:45 bilby INFO    :   matched filter SNR = 28.96+1.41j\n",
      "12:45 bilby INFO    :   A = 4.9999999999999997e-23\n",
      "12:45 bilby INFO    :   f0 = 100\n",
      "12:45 bilby INFO    :   tau = 1\n",
      "12:45 bilby INFO    :   phi0 = 0\n",
      "12:45 bilby INFO    :   geocent_time = 1126259600.0\n",
      "12:45 bilby INFO    :   ra = 0\n",
      "12:45 bilby INFO    :   dec = 0\n",
      "12:45 bilby INFO    :   psi = 0\n"
     ]
    },
    {
     "data": {
      "image/png": "[encoded data removed]",
      "text/plain": [
       "<Figure size 432x288 with 1 Axes>"
      ]
     },
     "metadata": {
      "needs_background": "light"
     },
     "output_type": "display_data"
    }
   ],
   "source": [
    "#to plot the frequency domain  \n",
    "injection = ifos.inject_signal(waveform_generator=waveform_generator,\n",
    "                   parameters=injection_parameters)\n",
    "\n",
    "H1 = ifos[0]\n",
    "H1_injection = injection[0]\n",
    "\n",
    "fig, ax = plt.subplots()\n",
    "idxs = H1.strain_data.frequency_mask  # This is a boolean mask of the frequencies which we'll use in the analysis\n",
    "ax.loglog(H1.strain_data.frequency_array[idxs],\n",
    "          np.abs(H1.strain_data.frequency_domain_strain[idxs]),\n",
    "          label=\"data\")\n",
    "ax.loglog(H1.frequency_array[idxs],\n",
    "          H1.amplitude_spectral_density_array[idxs],\n",
    "          label=\"ASD\")\n",
    "ax.loglog(H1.frequency_array[idxs],\n",
    "          np.abs(H1_injection[\"plus\"][idxs]),\n",
    "          label=\"Abs. val. of plus polarization\")\n",
    "\n",
    "'''L1 = ifos[1]\n",
    "L1_injection = injection[1]\n",
    "\n",
    "ax.loglog(L1.frequency_array[idxs]+5,\n",
    "          L1.amplitude_spectral_density_array[idxs],\n",
    "          label=\"ASD\")'''\n",
    "\n",
    "ax.set_xlim(20,2000)\n",
    "ax.set_ylim(1e-27,2.327737159425905e-22)\n",
    "\n",
    "\n",
    "ax.set_xlabel(\"Frequency [Hz]\")\n",
    "ax.set_ylabel(\"Strain [strain/$\\sqrt{Hz}$]\")\n",
    "ax.legend()\n",
    "plt.show()"
   ]
  },
  {
   "cell_type": "code",
   "execution_count": 9,
   "metadata": {},
   "outputs": [],
   "source": [
    "# Here we define the priors for the search. We use the injection parameters\n",
    "# except for the amplitude, f0, and geocent_time\n",
    "prior = injection_parameters.copy()\n",
    "#prior['A'] = bilby.core.prior.LogUniform(minimum=1e-25, maximum=1e-21, name='A')\n",
    "prior['A'] = bilby.core.prior.Uniform(minimum=1.0*1e-23, maximum=10.0*1e-23, name='A')\n",
    "prior['f0'] = bilby.core.prior.Uniform(90, 110, 'f')\n",
    "\n",
    "likelihood = bilby.gw.likelihood.GravitationalWaveTransient(\n",
    "    interferometers=ifos, waveform_generator=waveform_generator)\n"
   ]
  },
  {
   "cell_type": "code",
   "execution_count": 10,
   "metadata": {},
   "outputs": [
    {
     "data": {
      "text/plain": [
       "'\\nimport smtplib\\nfrom email.message import EmailMessage\\n\\ndef email_alert(subject, body, to):\\n    msg =  EmailMessage()\\n    msg.set_content(body)\\n    msg[\\'subject\\'] = subject\\n    msg[\\'to\\'] = to\\n    \\n    \\n    user = \"hemantaphurailatpam@gmail.com\"\\n    msg[\\'from\\'] = user\\n    password = \"syrgxspjntbuzyoz\"\\n    \\n    server = smtplib.SMTP(\"smtp.gmail.com\", 587)\\n    server.starttls()\\n    server.login(user, password)\\n    server.send_message(msg)\\n    \\n    server.quit()\\n'"
      ]
     },
     "execution_count": 10,
     "metadata": {},
     "output_type": "execute_result"
    }
   ],
   "source": [
    "'''\n",
    "import smtplib\n",
    "from email.message import EmailMessage\n",
    "\n",
    "def email_alert(subject, body, to):\n",
    "    msg =  EmailMessage()\n",
    "    msg.set_content(body)\n",
    "    msg['subject'] = subject\n",
    "    msg['to'] = to\n",
    "    \n",
    "    \n",
    "    user = \"hemantaphurailatpam@gmail.com\"\n",
    "    msg['from'] = user\n",
    "    password = \"syrgxspjntbuzyoz\"\n",
    "    \n",
    "    server = smtplib.SMTP(\"smtp.gmail.com\", 587)\n",
    "    server.starttls()\n",
    "    server.login(user, password)\n",
    "    server.send_message(msg)\n",
    "    \n",
    "    server.quit()\n",
    "'''    "
   ]
  },
  {
   "cell_type": "code",
   "execution_count": 11,
   "metadata": {},
   "outputs": [
    {
     "name": "stderr",
     "output_type": "stream",
     "text": [
      "12:46 bilby INFO    : Running for label 'create_your_own_source_model', output will be saved to 'outdir'\n",
      "12:46 bilby INFO    : Using lal version 7.1.2\n",
      "12:46 bilby INFO    : Using lal git version Branch: None;Tag: lalsuite-v6.82;Id: cf792129c2473f42ce6c6ee21d8234254cefd337;;Builder: Unknown User <>;Repository status: UNCLEAN: Modified working tree\n",
      "12:46 bilby INFO    : Using lalsimulation version 2.5.1\n",
      "12:46 bilby INFO    : Using lalsimulation git version Branch: None;Tag: lalsuite-v6.82;Id: cf792129c2473f42ce6c6ee21d8234254cefd337;;Builder: Unknown User <>;Repository status: UNCLEAN: Modified working tree\n",
      "12:46 bilby INFO    : Search parameters:\n",
      "12:46 bilby INFO    :   A = Uniform(minimum=1e-23, maximum=9.999999999999999e-23, name='A', latex_label='A', unit=None, boundary=None)\n",
      "12:46 bilby INFO    :   f0 = Uniform(minimum=90, maximum=110, name='f', latex_label='f', unit=None, boundary=None)\n",
      "12:46 bilby INFO    :   tau = 1\n",
      "12:46 bilby INFO    :   phi0 = 0\n",
      "12:46 bilby INFO    :   geocent_time = 1126259600.0\n",
      "12:46 bilby INFO    :   ra = 0\n",
      "12:46 bilby INFO    :   dec = 0\n",
      "12:46 bilby INFO    :   psi = 0\n",
      "12:46 bilby INFO    : Single likelihood evaluation took 1.310e-03 s\n"
     ]
    },
    {
     "name": "stdout",
     "output_type": "stream",
     "text": [
      "\r",
      "0it [00:00, ?it/s]"
     ]
    },
    {
     "name": "stderr",
     "output_type": "stream",
     "text": [
      "12:46 bilby INFO    : Using sampler Dynesty with kwargs {'bound': 'multi', 'sample': 'unif', 'verbose': True, 'periodic': None, 'reflective': None, 'check_point_delta_t': 600, 'nlive': 1000, 'first_update': None, 'walks': 100, 'npdim': None, 'rstate': None, 'queue_size': 4, 'pool': None, 'use_pool': None, 'live_points': None, 'logl_args': None, 'logl_kwargs': None, 'ptform_args': None, 'ptform_kwargs': None, 'enlarge': 1.5, 'bootstrap': None, 'vol_dec': 0.5, 'vol_check': 8.0, 'facc': 0.2, 'slices': 5, 'update_interval': 600, 'print_func': <bound method Dynesty._print_func of <bilby.core.sampler.dynesty.Dynesty object at 0x7fc8daf5c390>>, 'dlogz': 0.1, 'maxiter': None, 'maxcall': None, 'logl_max': inf, 'add_live': True, 'print_progress': True, 'save_bounds': False, 'n_effective': None, 'maxmcmc': 5000, 'nact': 5}\n",
      "12:46 bilby INFO    : Checkpoint every check_point_delta_t = 600s\n",
      "12:46 bilby INFO    : Using dynesty version 1.0.1\n",
      "12:46 bilby INFO    : Generating initial points from the prior\n",
      "12:46 bilby INFO    : Setting up multiproccesing pool with 4 processes.\n"
     ]
    },
    {
     "name": "stdout",
     "output_type": "stream",
     "text": [
      "10827it [00:38, 359.24it/s, bound:35 nc:  1 ncall:5.6e+04 eff:19.4% logz-ratio=856.16+/-0.13 dlogz:0.104>0.1]"
     ]
    },
    {
     "name": "stderr",
     "output_type": "stream",
     "text": [
      "12:46 bilby INFO    : Written checkpoint file outdir/create_your_own_source_model_resume.pickle\n",
      "12:46 bilby INFO    : Writing 2235 current samples to outdir/create_your_own_source_model_samples.dat\n",
      "/home/hemantakumar.phurailatpam/anaconda3/envs/bilby/lib/python3.7/site-packages/dynesty/plotting.py:179: RuntimeWarning: overflow encountered in exp\n",
      "  data = [nlive, np.exp(logl), np.exp(logwt), np.exp(logz)]\n",
      "/home/hemantakumar.phurailatpam/anaconda3/envs/bilby/lib/python3.7/site-packages/dynesty/plotting.py:203: RuntimeWarning: overflow encountered in exp\n",
      "  zspan = (0., 1.05 * np.exp(logz[-1] + 3. * logzerr[-1]))\n",
      "12:46 bilby WARNING : Axis limits cannot be NaN or Inf\n",
      "12:46 bilby WARNING : Failed to create dynesty run plot at checkpoint\n",
      "12:46 bilby INFO    : Starting to close worker pool.\n",
      "12:46 bilby INFO    : Finished closing worker pool.\n"
     ]
    },
    {
     "name": "stdout",
     "output_type": "stream",
     "text": [
      "10860it [00:46, 234.69it/s, bound:35 nc:  1 ncall:5.6e+04 eff:21.2% logz-ratio=856.26+/-0.12 dlogz:0.000>0.1]\n",
      "\n"
     ]
    },
    {
     "name": "stderr",
     "output_type": "stream",
     "text": [
      "12:47 bilby INFO    : Sampling time: 0:00:36.279361\n",
      "12:47 bilby INFO    : Summary of results:\n",
      "nsamples: 11860\n",
      "ln_noise_evidence: -5008.629\n",
      "ln_evidence: -4152.367 +/-  0.124\n",
      "ln_bayes_factor: 856.262 +/-  0.124\n",
      "\n"
     ]
    },
    {
     "data": {
      "text/plain": [
       "'\\nif __name__ == \\'__main__\\':\\n    email_alert(\"bilby\", \"running code got completed\", \"hemantaphurailatpam@outlook.com\")\\n'"
      ]
     },
     "execution_count": 11,
     "metadata": {},
     "output_type": "execute_result"
    }
   ],
   "source": [
    "result = bilby.core.sampler.run_sampler(\n",
    "    likelihood, prior, sampler='dynesty', outdir=outdir, label=label,\n",
    "    resume=False, sample='unif', injection_parameters=injection_parameters, npool=4)\n",
    "\n",
    "\n",
    "'''\n",
    "if __name__ == '__main__':\n",
    "    email_alert(\"bilby\", \"running code got completed\", \"hemantaphurailatpam@outlook.com\")\n",
    "'''"
   ]
  },
  {
   "cell_type": "code",
   "execution_count": 12,
   "metadata": {
    "scrolled": true
   },
   "outputs": [
    {
     "data": {
      "image/png": "[encoded data removed]",
      "text/plain": [
       "<Figure size 396x396 with 4 Axes>"
      ]
     },
     "execution_count": 12,
     "metadata": {},
     "output_type": "execute_result"
    }
   ],
   "source": [
    "result.plot_corner()"
   ]
  },
  {
   "cell_type": "code",
   "execution_count": 13,
   "metadata": {},
   "outputs": [
    {
     "data": {
      "text/plain": [
       "8.705505632961241"
      ]
     },
     "execution_count": 13,
     "metadata": {},
     "output_type": "execute_result"
    }
   ],
   "source": [
    "#chirp mass\n",
    "m1_ = 10.\n",
    "m2_ = 10.\n",
    "((m1_*m2_)**(3/5))/((m1_+m2_)**(1/5))"
   ]
  },
  {
   "cell_type": "code",
   "execution_count": 15,
   "metadata": {},
   "outputs": [
    {
     "data": {
      "text/plain": [
       "1.0"
      ]
     },
     "execution_count": 15,
     "metadata": {},
     "output_type": "execute_result"
    }
   ],
   "source": [
    "m2_/m1_"
   ]
  },
  {
   "cell_type": "code",
   "execution_count": null,
   "metadata": {},
   "outputs": [],
   "source": []
  },
  {
   "cell_type": "code",
   "execution_count": null,
   "metadata": {},
   "outputs": [],
   "source": []
  },
  {
   "cell_type": "code",
   "execution_count": null,
   "metadata": {},
   "outputs": [],
   "source": []
  },
  {
   "cell_type": "code",
   "execution_count": null,
   "metadata": {},
   "outputs": [],
   "source": []
  },
  {
   "cell_type": "code",
   "execution_count": null,
   "metadata": {},
   "outputs": [],
   "source": []
  },
  {
   "cell_type": "code",
   "execution_count": null,
   "metadata": {},
   "outputs": [],
   "source": []
  },
  {
   "cell_type": "code",
   "execution_count": null,
   "metadata": {},
   "outputs": [],
   "source": []
  },
  {
   "cell_type": "code",
   "execution_count": null,
   "metadata": {},
   "outputs": [],
   "source": []
  },
  {
   "cell_type": "code",
   "execution_count": null,
   "metadata": {},
   "outputs": [],
   "source": []
  },
  {
   "cell_type": "code",
   "execution_count": null,
   "metadata": {},
   "outputs": [],
   "source": []
  },
  {
   "cell_type": "code",
   "execution_count": null,
   "metadata": {},
   "outputs": [],
   "source": []
  }
 ],
 "metadata": {
  "kernelspec": {
   "display_name": "Python 3",
   "language": "python",
   "name": "python3"
  },
  "language_info": {
   "codemirror_mode": {
    "name": "ipython",
    "version": 3
   },
   "file_extension": ".py",
   "mimetype": "text/x-python",
   "name": "python",
   "nbconvert_exporter": "python",
   "pygments_lexer": "ipython3",
   "version": "3.7.7"
  }
 },
 "nbformat": 4,
 "nbformat_minor": 4
}
