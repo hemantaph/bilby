{
 "cells": [
  {
   "cell_type": "code",
   "execution_count": 1,
   "metadata": {},
   "outputs": [],
   "source": [
    "from __future__ import division, print_function\n",
    "import matplotlib.pyplot as plt\n",
    "import bilby\n",
    "import numpy as np\n",
    "\n",
    "import hphc11\n",
    "import hphc10\n",
    "\n",
    "C = 299792458.\n",
    "G = 6.67408*1e-11\n",
    "Mo = 1.989*1e30\n",
    "Mpc = 3.086*1e22\n",
    "\n",
    "%matplotlib inline"
   ]
  },
  {
   "cell_type": "code",
   "execution_count": 2,
   "metadata": {},
   "outputs": [],
   "source": [
    "chi_2by3=3"
   ]
  },
  {
   "cell_type": "code",
   "execution_count": 3,
   "metadata": {},
   "outputs": [
    {
     "data": {
      "text/plain": [
       "3"
      ]
     },
     "execution_count": 3,
     "metadata": {},
     "output_type": "execute_result"
    }
   ],
   "source": [
    "chi_2by3"
   ]
  },
  {
   "cell_type": "code",
   "execution_count": 20,
   "metadata": {},
   "outputs": [],
   "source": [
    "def get_injection_snr(injection_parameters):\n",
    "    duration = 4.\n",
    "    sampling_frequency = 2048.\n",
    "    np.random.seed(88170235)\n",
    "    waveform_generator = bilby.gw.WaveformGenerator(\n",
    "        duration=duration,\n",
    "        sampling_frequency=sampling_frequency,\n",
    "        frequency_domain_source_model=bilby.gw.source.lal_binary_black_hole,\n",
    "        parameter_conversion=bilby.gw.conversion.convert_to_lal_binary_black_hole_parameters,\n",
    "        waveform_arguments=dict(\n",
    "            waveform_approximant='IMRPhenomPv2',\n",
    "            reference_frequency=50., minimum_frequency=20.\n",
    "        )\n",
    "    )\n",
    "    # Set up interferometers.\n",
    "    ifos = bilby.gw.detector.InterferometerList(['H1', 'L1'])\n",
    "    ifos.set_strain_data_from_power_spectral_densities(\n",
    "        sampling_frequency=sampling_frequency,\n",
    "        duration=duration,\n",
    "        start_time=injection_parameters['geocent_time'] - 2\n",
    "    )\n",
    "    ifos.inject_signal(\n",
    "        waveform_generator=waveform_generator,\n",
    "        parameters=injection_parameters\n",
    "    )\n",
    "    snrs = [ifo.meta_data[\"optimal_SNR\"] for ifo in ifos]\n",
    "    return np.sqrt(np.sum([i ** 2 for i in snrs]))"
   ]
  },
  {
   "cell_type": "code",
   "execution_count": 22,
   "metadata": {},
   "outputs": [
    {
     "data": {
      "text/plain": [
       "<function bilby.gw.source.lal_eccentric_binary_black_hole_no_spins(frequency_array, mass_1, mass_2, eccentricity, luminosity_distance, theta_jn, phase, **kwargs)>"
      ]
     },
     "execution_count": 22,
     "metadata": {},
     "output_type": "execute_result"
    }
   ],
   "source": [
    "bilby.gw.source.lal_eccentric_binary_black_hole_no_spins([30],25.0,20.0,0.1,200.0,0.4,0.1,1.2,1180002601.0,45,5.73)"
   ]
  },
  {
   "cell_type": "code",
   "execution_count": 2,
   "metadata": {},
   "outputs": [
    {
     "data": {
      "text/plain": [
       "109.90037592347498"
      ]
     },
     "execution_count": 2,
     "metadata": {},
     "output_type": "execute_result"
    }
   ],
   "source": [
    "(C**3)/( G*(20+20)*Mo*np.pi*6**(3/2) )"
   ]
  },
  {
   "cell_type": "code",
   "execution_count": 2,
   "metadata": {},
   "outputs": [],
   "source": [
    "sampling_frequency = 1024.0\n",
    "duration = 4.0"
   ]
  },
  {
   "cell_type": "code",
   "execution_count": 3,
   "metadata": {},
   "outputs": [],
   "source": [
    "'''\n",
    "def eccentric_waveform(frequency_array_, chirp_mass, mass_ratio, eccentricity, luminosity_distance, theta_jn, psi, phase, geocent_time, ra, dec):\n",
    "    frequency_array = np.array(frequency_array_)\n",
    "    \n",
    "    mass_1 = (chirp_mass*(1+mass_ratio)**(1/5))/mass_ratio**(3/5)\n",
    "    mass_2 = chirp_mass*mass_ratio**(2/5)*(1+mass_ratio)**(1/5)\n",
    "    luminosity_distance = luminosity_distance*Mpc\n",
    "    total_mass = (mass_1+mass_2)*Mo\n",
    "    symmetric_mass_ratio = (mass_1*mass_2)/((mass_1+mass_2)**2)\n",
    "    maximum_f = (C**3)/( G*(mass_1+mass_2)*Mo*np.pi*6**(3/2) )\n",
    "    minimum_f = 20.0\n",
    "    mass_diff = (mass_1-mass_2)*Mo\n",
    "    \n",
    "    N = len(frequency_array)\n",
    "    h_plus = np.zeros(N)*1j\n",
    "    h_cross = np.zeros(N)*1j\n",
    "    \n",
    "    k = 0\n",
    "    for f in frequency_array:\n",
    "        if f>=minimum_f and f<=maximum_f: \n",
    "            arg_plus = {'iota_':theta_jn, 'beta_':psi, 'D_':luminosity_distance , \\\n",
    "                        'f_':f, 'f0_':20.0, 'et0_':eccentricity, 'phic_':phase, \\\n",
    "                        'tc_':geocent_time, 'M_':total_mass, 'eta_':symmetric_mass_ratio, \\\n",
    "                        'ff_':maximum_f, 'delta_':mass_diff}\n",
    "\n",
    "            fplus = hphc10.Fn(**arg_plus)\n",
    "\n",
    "            h_plus[k] = fplus.htilde()[0]\n",
    "            h_cross[k] = fplus.htilde()[1]\n",
    "        k = k+1\n",
    "\n",
    "    return {'plus': h_plus, 'cross': h_cross}\n",
    "'''"
   ]
  },
  {
   "cell_type": "code",
   "execution_count": 10,
   "metadata": {},
   "outputs": [],
   "source": [
    "def eccentric_waveform(frequency_array_, chirp_mass, mass_ratio, eccentricity, luminosity_distance, theta_jn, psi, phase, geocent_time, ra, dec):\n",
    "    \n",
    "    mass_1 = (chirp_mass*(1+mass_ratio)**(1/5))/mass_ratio**(3/5)\n",
    "    mass_2 = chirp_mass*mass_ratio**(2/5)*(1+mass_ratio)**(1/5)\n",
    "    luminosity_distance = luminosity_distance*Mpc\n",
    "    total_mass = (mass_1+mass_2)*Mo\n",
    "    symmetric_mass_ratio = (mass_1*mass_2)/((mass_1+mass_2)**2)\n",
    "    maximum_f = (C**3)/( G*(mass_1+mass_2)*Mo*np.pi*6**(3/2) )\n",
    "    minimum_f = 20.0\n",
    "    mass_diff = (mass_1-mass_2)*Mo\n",
    "    \n",
    "    foo = np.array(frequency_array_)\n",
    "    N = len(foo)\n",
    "    h_plus = np.zeros(N)*1j\n",
    "    h_cross = np.zeros(N)*1j\n",
    "\n",
    "    mask_3 = np.logical_and(foo >= minimum_f, foo <= maximum_f)\n",
    "    index = np.array(np.where(mask_3)).flatten()\n",
    "    \n",
    "    for k in index:\n",
    "        arg_plus = {'iota_':theta_jn, 'beta_':psi, 'D_':luminosity_distance , \\\n",
    "                    'f_':foo[k], 'f0_':20.0, 'et0_':eccentricity, 'phic_':phase, \\\n",
    "                    'tc_':geocent_time, 'M_':total_mass, 'eta_':symmetric_mass_ratio, \\\n",
    "                    'ff_':maximum_f, 'delta_':mass_diff}\n",
    "\n",
    "        fplus = hphc11.Fn(**arg_plus)\n",
    "\n",
    "        h_plus[k] = fplus.htilde()[0]\n",
    "        h_cross[k] = fplus.htilde()[1]\n",
    "\n",
    "    #return {'plus': h_plus, 'cross': h_cross}\n",
    "    return {'plus': h_plus, 'cross': h_cross}"
   ]
  },
  {
   "cell_type": "code",
   "execution_count": 7,
   "metadata": {},
   "outputs": [
    {
     "data": {
      "text/plain": [
       "{'plus': array([-5.36029112e-23+3.18179166e-23j]),\n",
       " 'cross': array([-3.17752409e-23-5.34641083e-23j])}"
      ]
     },
     "execution_count": 7,
     "metadata": {},
     "output_type": "execute_result"
    }
   ],
   "source": [
    "eccentric_waveform([30],19.564163812778446,0.9148936170212766,0.1,200.0,0.4,0.1,1.2,1180002601.0,45,5.73)"
   ]
  },
  {
   "cell_type": "code",
   "execution_count": 12,
   "metadata": {},
   "outputs": [
    {
     "name": "stdout",
     "output_type": "stream",
     "text": [
      "Execution took 4.2496\n"
     ]
    }
   ],
   "source": [
    "import time \n",
    "\n",
    "fff = np.arange(0.0,512.0,0.25)\n",
    "t0 = time.time()\n",
    "zz = eccentric_waveform(fff,28.19,0.86,0.1,440.0,0.4,0.1,1.2,1180002601.0,45,5.73)\n",
    "\n",
    "t1 = time.time()\n",
    "print('Execution took {:.4f}'.format(t1 - t0))"
   ]
  },
  {
   "cell_type": "code",
   "execution_count": 8,
   "metadata": {},
   "outputs": [
    {
     "data": {
      "text/plain": [
       "2048"
      ]
     },
     "execution_count": 8,
     "metadata": {},
     "output_type": "execute_result"
    }
   ],
   "source": [
    "len(fff)"
   ]
  },
  {
   "cell_type": "code",
   "execution_count": 4,
   "metadata": {},
   "outputs": [],
   "source": [
    "def eccentric_waveform(frequency_array_, chirp_mass, mass_ratio, eccentricity, luminosity_distance, theta_jn, psi, phase, geocent_time, ra, dec):\n",
    "    \n",
    "    mass_1 = (chirp_mass*(1+mass_ratio)**(1/5))/mass_ratio**(3/5)\n",
    "    mass_2 = chirp_mass*mass_ratio**(2/5)*(1+mass_ratio)**(1/5)\n",
    "    luminosity_distance = luminosity_distance*Mpc\n",
    "    total_mass = (mass_1+mass_2)*Mo\n",
    "    symmetric_mass_ratio = (mass_1*mass_2)/((mass_1+mass_2)**2)\n",
    "    maximum_f = (C**3)/( G*(mass_1+mass_2)*Mo*np.pi*6**(3/2) )\n",
    "    minimum_f = 20.0\n",
    "    mass_diff = (mass_1-mass_2)*Mo\n",
    "    \n",
    "    foo = np.array(frequency_array_)\n",
    "    N = len(foo)\n",
    "    h_plus = np.zeros(N)*1j\n",
    "    h_cross = np.zeros(N)*1j\n",
    "\n",
    "    mask_3 = foo >= 1.0\n",
    "    index = np.array(np.where(mask_3)).flatten()\n",
    "    \n",
    "    for k in index:\n",
    "        arg_plus = {'iota_':theta_jn, 'beta_':psi, 'D_':luminosity_distance , \\\n",
    "                    'f_':foo[k], 'f0_':20.0, 'et0_':eccentricity, 'phic_':phase, \\\n",
    "                    'tc_':geocent_time, 'M_':total_mass, 'eta_':symmetric_mass_ratio, \\\n",
    "                    'ff_':maximum_f, 'delta_':mass_diff}\n",
    "\n",
    "        fplus = hphc10.Fn(**arg_plus)\n",
    "\n",
    "        h_plus[k] = fplus.htilde()[0]\n",
    "        h_cross[k] = fplus.htilde()[1]\n",
    "\n",
    "    #return {'plus': h_plus, 'cross': h_cross}\n",
    "    return {'plus': h_plus, 'cross': h_cross}"
   ]
  },
  {
   "cell_type": "code",
   "execution_count": 10,
   "metadata": {},
   "outputs": [
    {
     "data": {
      "text/plain": [
       "{'plus': array([nan+nanj]), 'cross': array([nan+nanj])}"
      ]
     },
     "execution_count": 10,
     "metadata": {},
     "output_type": "execute_result"
    }
   ],
   "source": [
    "eccentric_waveform([1],16.749689566557148,0.6,0.1,200.0,0.4,0.1,1.2,1180002601.0,45,5.73)"
   ]
  },
  {
   "cell_type": "code",
   "execution_count": 34,
   "metadata": {},
   "outputs": [],
   "source": [
    "items = ((d,28.19,0.86,0.1,440.0,0.4,0.1,1.2,1180002601.0,45,5.73) for d in fff)\n",
    "argg = list(items)"
   ]
  },
  {
   "cell_type": "code",
   "execution_count": 50,
   "metadata": {},
   "outputs": [
    {
     "data": {
      "text/plain": [
       "array([0.+0.j, 0.+0.j, 0.+0.j, ..., 0.+0.j, 0.+0.j, 0.+0.j])"
      ]
     },
     "execution_count": 50,
     "metadata": {},
     "output_type": "execute_result"
    }
   ],
   "source": [
    "np.array(result)[:,1]"
   ]
  },
  {
   "cell_type": "code",
   "execution_count": 99,
   "metadata": {},
   "outputs": [
    {
     "name": "stdout",
     "output_type": "stream",
     "text": [
      "Execution took 19.4486\n"
     ]
    }
   ],
   "source": [
    "import time \n",
    "\n",
    "fff = np.arange(0.0,512.0,0.25)\n",
    "t0 = time.time()\n",
    "zz = eccentric_waveform(fff,28.19,0.86,0.1,440.0,0.4,0.1,1.2,1180002601.0,45,5.73)\n",
    "\n",
    "t1 = time.time()\n",
    "print('Execution took {:.4f}'.format(t1 - t0))"
   ]
  },
  {
   "cell_type": "code",
   "execution_count": 8,
   "metadata": {},
   "outputs": [
    {
     "data": {
      "text/plain": [
       "21.7637640824031"
      ]
     },
     "execution_count": 8,
     "metadata": {},
     "output_type": "execute_result"
    }
   ],
   "source": [
    "#chirp mass\n",
    "m1=25.0\n",
    "m2=25.0\n",
    "((m1*m2)**(3/5))/((m1+m2)**(1/5))"
   ]
  },
  {
   "cell_type": "code",
   "execution_count": 21,
   "metadata": {},
   "outputs": [
    {
     "data": {
      "text/plain": [
       "0.9148936170212766"
      ]
     },
     "execution_count": 21,
     "metadata": {},
     "output_type": "execute_result"
    }
   ],
   "source": [
    "#mass ratio\n",
    "m2/m1"
   ]
  },
  {
   "cell_type": "code",
   "execution_count": 11,
   "metadata": {},
   "outputs": [],
   "source": [
    "#injection_parameters = dict(mass_1=25.0, mass_2=10.0, eccentricity=0.1, luminosity_distance=200.0, theta_jn=0.4, psi=2.659, phase=1.3, geocent_time=1126259642.413, ra=1.375, dec=-1.2108)\n",
    "injection_parameters = dict(chirp_mass=19.564163812778446, mass_ratio=0.9148936170212766, eccentricity=0.1, luminosity_distance=200.0, theta_jn=0.4, psi=0.1, phase=1.2, geocent_time=1180002601.0, ra=45.0, dec=5.73)"
   ]
  },
  {
   "cell_type": "code",
   "execution_count": 12,
   "metadata": {},
   "outputs": [
    {
     "name": "stderr",
     "output_type": "stream",
     "text": [
      "15:57 bilby INFO    : Waveform generator initiated with\n",
      "  frequency_domain_source_model: __main__.eccentric_waveform\n",
      "  time_domain_source_model: None\n",
      "  parameter_conversion: bilby.gw.conversion.convert_to_lal_binary_black_hole_parameters\n"
     ]
    }
   ],
   "source": [
    "# Now we pass our source function to the WaveformGenerator\n",
    "waveform_generator = bilby.gw.waveform_generator.WaveformGenerator(\n",
    "    duration=duration, sampling_frequency=sampling_frequency,\n",
    "    frequency_domain_source_model=eccentric_waveform)"
   ]
  },
  {
   "cell_type": "code",
   "execution_count": 13,
   "metadata": {},
   "outputs": [
    {
     "name": "stderr",
     "output_type": "stream",
     "text": [
      "15:57 bilby INFO    : Injected signal in H1:\n",
      "15:57 bilby INFO    :   optimal SNR = 91.28\n",
      "15:57 bilby INFO    :   matched filter SNR = 91.56-0.75j\n",
      "15:57 bilby INFO    :   chirp_mass = 19.564163812778446\n",
      "15:57 bilby INFO    :   mass_ratio = 0.9148936170212766\n",
      "15:57 bilby INFO    :   eccentricity = 0.1\n",
      "15:57 bilby INFO    :   luminosity_distance = 200.0\n",
      "15:57 bilby INFO    :   theta_jn = 0.4\n",
      "15:57 bilby INFO    :   psi = 0.1\n",
      "15:57 bilby INFO    :   phase = 1.2\n",
      "15:57 bilby INFO    :   geocent_time = 1180002601.0\n",
      "15:57 bilby INFO    :   ra = 45.0\n",
      "15:57 bilby INFO    :   dec = 5.73\n",
      "15:57 bilby INFO    : Injected signal in L1:\n",
      "15:57 bilby INFO    :   optimal SNR = 53.68\n",
      "15:57 bilby INFO    :   matched filter SNR = 53.18+0.32j\n",
      "15:57 bilby INFO    :   chirp_mass = 19.564163812778446\n",
      "15:57 bilby INFO    :   mass_ratio = 0.9148936170212766\n",
      "15:57 bilby INFO    :   eccentricity = 0.1\n",
      "15:57 bilby INFO    :   luminosity_distance = 200.0\n",
      "15:57 bilby INFO    :   theta_jn = 0.4\n",
      "15:57 bilby INFO    :   psi = 0.1\n",
      "15:57 bilby INFO    :   phase = 1.2\n",
      "15:57 bilby INFO    :   geocent_time = 1180002601.0\n",
      "15:57 bilby INFO    :   ra = 45.0\n",
      "15:57 bilby INFO    :   dec = 5.73\n"
     ]
    }
   ],
   "source": [
    "ifos = bilby.gw.detector.InterferometerList(['H1', 'L1'])\n",
    "ifos.set_strain_data_from_power_spectral_densities(\n",
    "    sampling_frequency=sampling_frequency, duration=duration,\n",
    "    start_time=injection_parameters['geocent_time'] - 3)\n",
    "injection = ifos.inject_signal(\n",
    "    waveform_generator=waveform_generator,\n",
    "    parameters=injection_parameters)"
   ]
  },
  {
   "cell_type": "code",
   "execution_count": 14,
   "metadata": {},
   "outputs": [
    {
     "name": "stderr",
     "output_type": "stream",
     "text": [
      "15:57 bilby INFO    : Injected signal in H1:\n",
      "15:57 bilby INFO    :   optimal SNR = 85.84\n",
      "15:57 bilby INFO    :   matched filter SNR = 85.72+0.23j\n",
      "15:57 bilby INFO    :   chirp_mass = 19.564163812778446\n",
      "15:57 bilby INFO    :   mass_ratio = 0.9148936170212766\n",
      "15:57 bilby INFO    :   eccentricity = 0.1\n",
      "15:57 bilby INFO    :   luminosity_distance = 200.0\n",
      "15:57 bilby INFO    :   theta_jn = 0.4\n",
      "15:57 bilby INFO    :   psi = 0.1\n",
      "15:57 bilby INFO    :   phase = 1.2\n",
      "15:57 bilby INFO    :   geocent_time = 1180002601.0\n",
      "15:57 bilby INFO    :   ra = 45.0\n",
      "15:57 bilby INFO    :   dec = 5.73\n",
      "15:57 bilby INFO    : Injected signal in L1:\n",
      "15:57 bilby INFO    :   optimal SNR = 50.48\n",
      "15:57 bilby INFO    :   matched filter SNR = 49.69+0.34j\n",
      "15:57 bilby INFO    :   chirp_mass = 19.564163812778446\n",
      "15:57 bilby INFO    :   mass_ratio = 0.9148936170212766\n",
      "15:57 bilby INFO    :   eccentricity = 0.1\n",
      "15:57 bilby INFO    :   luminosity_distance = 200.0\n",
      "15:57 bilby INFO    :   theta_jn = 0.4\n",
      "15:57 bilby INFO    :   psi = 0.1\n",
      "15:57 bilby INFO    :   phase = 1.2\n",
      "15:57 bilby INFO    :   geocent_time = 1180002601.0\n",
      "15:57 bilby INFO    :   ra = 45.0\n",
      "15:57 bilby INFO    :   dec = 5.73\n"
     ]
    },
    {
     "data": {
      "text/plain": [
       "[{'plus': array([0.+0.j, 0.+0.j, 0.+0.j, ..., 0.+0.j, 0.+0.j, 0.+0.j]),\n",
       "  'cross': array([0.+0.j, 0.+0.j, 0.+0.j, ..., 0.+0.j, 0.+0.j, 0.+0.j])},\n",
       " {'plus': array([0.+0.j, 0.+0.j, 0.+0.j, ..., 0.+0.j, 0.+0.j, 0.+0.j]),\n",
       "  'cross': array([0.+0.j, 0.+0.j, 0.+0.j, ..., 0.+0.j, 0.+0.j, 0.+0.j])}]"
      ]
     },
     "execution_count": 14,
     "metadata": {},
     "output_type": "execute_result"
    }
   ],
   "source": [
    "# Set up interferometers.\n",
    "#maximum_f = (C**3)/( G*(mass_1+mass_2)*Mo*np.pi*6**(3/2) )\n",
    "minimum_frequency = 20.0+3.0\n",
    "MM1 = 25.0\n",
    "MM2 = 25.0\n",
    "maximum_frequency = (C**3)/( G*(MM1+MM2)*Mo*np.pi*6**(3/2) )-3.0\n",
    "\n",
    "ifos = bilby.gw.detector.InterferometerList(['H1', 'L1'])\n",
    "for ifo in ifos:\n",
    "    ifo.minimum_frequency = minimum_frequency\n",
    "    ifo.maximum_frequency = maximum_frequency\n",
    "ifos.set_strain_data_from_power_spectral_densities(\n",
    "    sampling_frequency=sampling_frequency, duration=duration,\n",
    "    start_time=injection_parameters['geocent_time'] - 3)\n",
    "ifos.inject_signal(waveform_generator=waveform_generator,\n",
    "                   parameters=injection_parameters)\n"
   ]
  },
  {
   "cell_type": "code",
   "execution_count": 15,
   "metadata": {},
   "outputs": [],
   "source": [
    "snrs = [ifo.meta_data[\"optimal_SNR\"] for ifo in ifos]"
   ]
  },
  {
   "cell_type": "code",
   "execution_count": 16,
   "metadata": {},
   "outputs": [
    {
     "data": {
      "text/plain": [
       "[85.84025874151817, 50.48355380370145]"
      ]
     },
     "execution_count": 16,
     "metadata": {},
     "output_type": "execute_result"
    }
   ],
   "source": [
    "snrs"
   ]
  },
  {
   "cell_type": "code",
   "execution_count": 17,
   "metadata": {},
   "outputs": [
    {
     "data": {
      "text/plain": [
       "99.58483431457827"
      ]
     },
     "execution_count": 17,
     "metadata": {},
     "output_type": "execute_result"
    }
   ],
   "source": [
    "np.sqrt(np.sum([i ** 2 for i in snrs]))"
   ]
  },
  {
   "cell_type": "code",
   "execution_count": 18,
   "metadata": {},
   "outputs": [
    {
     "name": "stderr",
     "output_type": "stream",
     "text": [
      "15:58 bilby INFO    : Injected signal in H1:\n",
      "15:58 bilby INFO    :   optimal SNR = 85.84\n",
      "15:58 bilby INFO    :   matched filter SNR = 171.56+0.23j\n",
      "15:58 bilby INFO    :   chirp_mass = 19.564163812778446\n",
      "15:58 bilby INFO    :   mass_ratio = 0.9148936170212766\n",
      "15:58 bilby INFO    :   eccentricity = 0.1\n",
      "15:58 bilby INFO    :   luminosity_distance = 200.0\n",
      "15:58 bilby INFO    :   theta_jn = 0.4\n",
      "15:58 bilby INFO    :   psi = 0.1\n",
      "15:58 bilby INFO    :   phase = 1.2\n",
      "15:58 bilby INFO    :   geocent_time = 1180002601.0\n",
      "15:58 bilby INFO    :   ra = 45.0\n",
      "15:58 bilby INFO    :   dec = 5.73\n",
      "15:58 bilby INFO    : Injected signal in L1:\n",
      "15:58 bilby INFO    :   optimal SNR = 50.48\n",
      "15:58 bilby INFO    :   matched filter SNR = 100.18+0.34j\n",
      "15:58 bilby INFO    :   chirp_mass = 19.564163812778446\n",
      "15:58 bilby INFO    :   mass_ratio = 0.9148936170212766\n",
      "15:58 bilby INFO    :   eccentricity = 0.1\n",
      "15:58 bilby INFO    :   luminosity_distance = 200.0\n",
      "15:58 bilby INFO    :   theta_jn = 0.4\n",
      "15:58 bilby INFO    :   psi = 0.1\n",
      "15:58 bilby INFO    :   phase = 1.2\n",
      "15:58 bilby INFO    :   geocent_time = 1180002601.0\n",
      "15:58 bilby INFO    :   ra = 45.0\n",
      "15:58 bilby INFO    :   dec = 5.73\n"
     ]
    },
    {
     "data": {
      "image/png": "[encoded data removed]",
      "text/plain": [
       "<Figure size 432x288 with 1 Axes>"
      ]
     },
     "metadata": {
      "needs_background": "light"
     },
     "output_type": "display_data"
    }
   ],
   "source": [
    "injection = ifos.inject_signal(waveform_generator=waveform_generator,\n",
    "                   parameters=injection_parameters)\n",
    "\n",
    "H1 = ifos[0]\n",
    "H1_injection = injection[0]\n",
    "\n",
    "fig, ax = plt.subplots()\n",
    "idxs = H1.strain_data.frequency_mask  # This is a boolean mask of the frequencies which we'll use in the analysis\n",
    "ax.loglog(H1.strain_data.frequency_array[idxs],\n",
    "          np.abs(H1.strain_data.frequency_domain_strain[idxs]),\n",
    "          label=\"data\")\n",
    "ax.loglog(H1.frequency_array[idxs],\n",
    "          H1.amplitude_spectral_density_array[idxs],\n",
    "          label=\"ASD\")\n",
    "ax.loglog(H1.frequency_array[idxs],\n",
    "          np.abs(H1_injection[\"cross\"][idxs]),\n",
    "          label=\"Abs. val. of plus polarization\")\n",
    "\n",
    "ax.set_xlim(minimum_frequency,maximum_frequency)\n",
    "ax.set_ylim(1e-26,2.327737159425905e-21)\n",
    "\n",
    "\n",
    "ax.set_xlabel(\"Frequency [Hz]\")\n",
    "ax.set_ylabel(\"Strain [strain/$\\sqrt{Hz}$]\")\n",
    "ax.legend()\n",
    "plt.show()"
   ]
  },
  {
   "cell_type": "code",
   "execution_count": 8,
   "metadata": {},
   "outputs": [],
   "source": [
    "#17.411011265922482,19.441935582935383,21.7637640824031\n",
    "prior = bilby.core.prior.PriorDict()\n",
    "prior['chirp_mass'] = bilby.core.prior.Uniform(name='chirp_mass', minimum=17.411,maximum=21.764)\n",
    "prior['mass_ratio'] = bilby.core.prior.Uniform(name='mass_ratio', minimum=0.5, maximum=1)\n",
    "prior['eccentricity'] = bilby.core.prior.LogUniform(name='eccentricity', minimum=0.01, maximum=0.2)\n",
    "\n",
    "prior[\"luminosity_distance\"] = 200.0\n",
    "prior[\"theta_jn\"] = 0.4\n",
    "prior[\"psi\"] = 0.1\n",
    "prior[\"phase\"] = 1.2\n",
    "prior[\"geocent_time\"] = 1180002601.0\n",
    "prior[\"ra\"] = 45.0\n",
    "prior[\"dec\"] = 5.73"
   ]
  },
  {
   "cell_type": "code",
   "execution_count": 13,
   "metadata": {},
   "outputs": [],
   "source": [
    "likelihood = bilby.gw.likelihood.GravitationalWaveTransient(\n",
    "    interferometers=ifos, waveform_generator=waveform_generator, priors=prior,\n",
    "    time_marginalization=False, phase_marginalization=False, distance_marginalization=False)"
   ]
  },
  {
   "cell_type": "code",
   "execution_count": null,
   "metadata": {},
   "outputs": [
    {
     "name": "stderr",
     "output_type": "stream",
     "text": [
      "15:22 bilby INFO    : Running for label 'eccn', output will be saved to 'short'\n",
      "15:22 bilby INFO    : Using lal version 6.21.0\n",
      "15:22 bilby INFO    : Using lal git version Branch: None;Tag: lal-v6.21.0;Id: 37caf89936b637993c30b3076fe4b853311873ee;;Builder: Adam Mercer <adam.mercer@ligo.org>;Repository status: CLEAN: All modifications committed\n",
      "15:22 bilby INFO    : Using lalsimulation version 1.10.0\n",
      "15:22 bilby INFO    : Using lalsimulation git version Branch: None;Tag: lalsimulation-v1.10.0;Id: 5bfe091197594d55cf634f8a1c004eb9dc9b6459;;Builder: Adam Mercer <adam.mercer@ligo.org>;Repository status: CLEAN: All modifications committed\n",
      "15:22 bilby INFO    : Search parameters:\n",
      "15:22 bilby INFO    :   chirp_mass = Uniform(minimum=17.411, maximum=21.764, name='chirp_mass', latex_label='$\\\\mathcal{M}$', unit=None, boundary=None)\n",
      "15:22 bilby INFO    :   mass_ratio = Uniform(minimum=0.5, maximum=1, name='mass_ratio', latex_label='$q$', unit=None, boundary=None)\n",
      "15:22 bilby INFO    :   eccentricity = LogUniform(minimum=0.01, maximum=0.2, name='eccentricity', latex_label='eccentricity', unit=None, boundary=None)\n",
      "15:22 bilby INFO    :   luminosity_distance = 200.0\n",
      "15:22 bilby INFO    :   theta_jn = 0.4\n",
      "15:22 bilby INFO    :   psi = 0.1\n",
      "15:22 bilby INFO    :   phase = 1.2\n",
      "15:22 bilby INFO    :   geocent_time = 1180002601.0\n",
      "15:22 bilby INFO    :   ra = 45.0\n",
      "15:22 bilby INFO    :   dec = 5.73\n"
     ]
    }
   ],
   "source": [
    "result_short = bilby.run_sampler(\n",
    "    likelihood, prior, sampler='dynesty', outdir='short', label=\"eccn\",\n",
    "    nlive=500, dlogz=3, npool=16,  # <- Arguments are used to make things fast - not recommended for general use\n",
    "    clean=True\n",
    ")"
   ]
  },
  {
   "cell_type": "code",
   "execution_count": null,
   "metadata": {},
   "outputs": [],
   "source": [
    "result_short.plot_corner(parameters=[\"chirp_mass\", \"mass_ratio\", \"eccentricity\"], prior=True)"
   ]
  },
  {
   "cell_type": "code",
   "execution_count": 9,
   "metadata": {},
   "outputs": [],
   "source": [
    "# Initialising the likelihood function.\n",
    "likelihood = bilby.gw.likelihood.GravitationalWaveTransient(\n",
    "    interferometers=ifos, waveform_generator=waveform_generator)"
   ]
  },
  {
   "cell_type": "code",
   "execution_count": 13,
   "metadata": {},
   "outputs": [
    {
     "name": "stderr",
     "output_type": "stream",
     "text": [
      "12:00 bilby INFO    : Running for label 'eccn', output will be saved to 'short'\n",
      "12:00 bilby INFO    : Using lal version 6.21.0\n",
      "12:00 bilby INFO    : Using lal git version Branch: None;Tag: lal-v6.21.0;Id: 37caf89936b637993c30b3076fe4b853311873ee;;Builder: Adam Mercer <adam.mercer@ligo.org>;Repository status: CLEAN: All modifications committed\n",
      "12:00 bilby INFO    : Using lalsimulation version 1.10.0\n",
      "12:00 bilby INFO    : Using lalsimulation git version Branch: None;Tag: lalsimulation-v1.10.0;Id: 5bfe091197594d55cf634f8a1c004eb9dc9b6459;;Builder: Adam Mercer <adam.mercer@ligo.org>;Repository status: CLEAN: All modifications committed\n"
     ]
    },
    {
     "name": "stdout",
     "output_type": "stream",
     "text": [
      "\n",
      "ERROR:   Could not load MultiNest library \"libmultinest.so\"\n",
      "ERROR:   You have to build it first,\n",
      "ERROR:   and point the LD_LIBRARY_PATH environment variable to it!\n",
      "ERROR:   manual: http://johannesbuchner.github.com/PyMultiNest/install.html\n",
      "\n",
      "\n",
      "ERROR:   Could not load MultiNest library: libmultinest.so\n",
      "ERROR:   You have to build MultiNest,\n",
      "ERROR:   and point the LD_LIBRARY_PATH environment variable to it!\n",
      "ERROR:   manual: http://johannesbuchner.github.com/PyMultiNest/install.html\n",
      "\n",
      "problem: libmultinest.so: cannot open shared object file: No such file or directory\n"
     ]
    },
    {
     "ename": "SamplerNotInstalledError",
     "evalue": "Sampler pymultinest is not installed on this system",
     "output_type": "error",
     "traceback": [
      "\u001b[0;31m---------------------------------------------------------------------------\u001b[0m",
      "\u001b[0;31mOSError\u001b[0m                                   Traceback (most recent call last)",
      "\u001b[0;32m~/anaconda3/envs/bilby/lib/python3.7/site-packages/pymultinest/run.py\u001b[0m in \u001b[0;36m_load_library\u001b[0;34m(libname)\u001b[0m\n\u001b[1;32m     15\u001b[0m                         \u001b[0mlibname\u001b[0m \u001b[0;34m=\u001b[0m \u001b[0mfind_library\u001b[0m\u001b[0;34m(\u001b[0m\u001b[0mlibname\u001b[0m\u001b[0;34m)\u001b[0m\u001b[0;34m\u001b[0m\u001b[0;34m\u001b[0m\u001b[0m\n\u001b[0;32m---> 16\u001b[0;31m                 \u001b[0;32mreturn\u001b[0m \u001b[0mcdll\u001b[0m\u001b[0;34m.\u001b[0m\u001b[0mLoadLibrary\u001b[0m\u001b[0;34m(\u001b[0m\u001b[0mlibname\u001b[0m\u001b[0;34m)\u001b[0m\u001b[0;34m\u001b[0m\u001b[0;34m\u001b[0m\u001b[0m\n\u001b[0m\u001b[1;32m     17\u001b[0m         \u001b[0;32mexcept\u001b[0m \u001b[0mOSError\u001b[0m \u001b[0;32mas\u001b[0m \u001b[0me\u001b[0m\u001b[0;34m:\u001b[0m\u001b[0;34m\u001b[0m\u001b[0;34m\u001b[0m\u001b[0m\n",
      "\u001b[0;32m~/anaconda3/envs/bilby/lib/python3.7/ctypes/__init__.py\u001b[0m in \u001b[0;36mLoadLibrary\u001b[0;34m(self, name)\u001b[0m\n\u001b[1;32m    441\u001b[0m     \u001b[0;32mdef\u001b[0m \u001b[0mLoadLibrary\u001b[0m\u001b[0;34m(\u001b[0m\u001b[0mself\u001b[0m\u001b[0;34m,\u001b[0m \u001b[0mname\u001b[0m\u001b[0;34m)\u001b[0m\u001b[0;34m:\u001b[0m\u001b[0;34m\u001b[0m\u001b[0;34m\u001b[0m\u001b[0m\n\u001b[0;32m--> 442\u001b[0;31m         \u001b[0;32mreturn\u001b[0m \u001b[0mself\u001b[0m\u001b[0;34m.\u001b[0m\u001b[0m_dlltype\u001b[0m\u001b[0;34m(\u001b[0m\u001b[0mname\u001b[0m\u001b[0;34m)\u001b[0m\u001b[0;34m\u001b[0m\u001b[0;34m\u001b[0m\u001b[0m\n\u001b[0m\u001b[1;32m    443\u001b[0m \u001b[0;34m\u001b[0m\u001b[0m\n",
      "\u001b[0;32m~/anaconda3/envs/bilby/lib/python3.7/ctypes/__init__.py\u001b[0m in \u001b[0;36m__init__\u001b[0;34m(self, name, mode, handle, use_errno, use_last_error)\u001b[0m\n\u001b[1;32m    363\u001b[0m         \u001b[0;32mif\u001b[0m \u001b[0mhandle\u001b[0m \u001b[0;32mis\u001b[0m \u001b[0;32mNone\u001b[0m\u001b[0;34m:\u001b[0m\u001b[0;34m\u001b[0m\u001b[0;34m\u001b[0m\u001b[0m\n\u001b[0;32m--> 364\u001b[0;31m             \u001b[0mself\u001b[0m\u001b[0;34m.\u001b[0m\u001b[0m_handle\u001b[0m \u001b[0;34m=\u001b[0m \u001b[0m_dlopen\u001b[0m\u001b[0;34m(\u001b[0m\u001b[0mself\u001b[0m\u001b[0;34m.\u001b[0m\u001b[0m_name\u001b[0m\u001b[0;34m,\u001b[0m \u001b[0mmode\u001b[0m\u001b[0;34m)\u001b[0m\u001b[0;34m\u001b[0m\u001b[0;34m\u001b[0m\u001b[0m\n\u001b[0m\u001b[1;32m    365\u001b[0m         \u001b[0;32melse\u001b[0m\u001b[0;34m:\u001b[0m\u001b[0;34m\u001b[0m\u001b[0;34m\u001b[0m\u001b[0m\n",
      "\u001b[0;31mOSError\u001b[0m: libmultinest.so: cannot open shared object file: No such file or directory",
      "\nDuring handling of the above exception, another exception occurred:\n",
      "\u001b[0;31mSystemExit\u001b[0m                                Traceback (most recent call last)",
      "\u001b[0;32m~/anaconda3/envs/bilby/lib/python3.7/site-packages/bilby/core/sampler/base_sampler.py\u001b[0m in \u001b[0;36m_verify_external_sampler\u001b[0;34m(self)\u001b[0m\n\u001b[1;32m    180\u001b[0m         \u001b[0;32mtry\u001b[0m\u001b[0;34m:\u001b[0m\u001b[0;34m\u001b[0m\u001b[0;34m\u001b[0m\u001b[0m\n\u001b[0;32m--> 181\u001b[0;31m             \u001b[0mself\u001b[0m\u001b[0;34m.\u001b[0m\u001b[0mexternal_sampler\u001b[0m \u001b[0;34m=\u001b[0m \u001b[0m__import__\u001b[0m\u001b[0;34m(\u001b[0m\u001b[0mexternal_sampler_name\u001b[0m\u001b[0;34m)\u001b[0m\u001b[0;34m\u001b[0m\u001b[0;34m\u001b[0m\u001b[0m\n\u001b[0m\u001b[1;32m    182\u001b[0m         \u001b[0;32mexcept\u001b[0m \u001b[0;34m(\u001b[0m\u001b[0mImportError\u001b[0m\u001b[0;34m,\u001b[0m \u001b[0mSystemExit\u001b[0m\u001b[0;34m)\u001b[0m\u001b[0;34m:\u001b[0m\u001b[0;34m\u001b[0m\u001b[0;34m\u001b[0m\u001b[0m\n",
      "\u001b[0;32m~/anaconda3/envs/bilby/lib/python3.7/site-packages/pymultinest/__init__.py\u001b[0m in \u001b[0;36m<module>\u001b[0;34m\u001b[0m\n\u001b[1;32m     18\u001b[0m \u001b[0;32mtry\u001b[0m\u001b[0;34m:\u001b[0m\u001b[0;34m\u001b[0m\u001b[0;34m\u001b[0m\u001b[0m\n\u001b[0;32m---> 19\u001b[0;31m         \u001b[0;32mfrom\u001b[0m \u001b[0;34m.\u001b[0m\u001b[0mrun\u001b[0m \u001b[0;32mimport\u001b[0m \u001b[0mrun\u001b[0m\u001b[0;34m\u001b[0m\u001b[0;34m\u001b[0m\u001b[0m\n\u001b[0m\u001b[1;32m     20\u001b[0m         \u001b[0;32mfrom\u001b[0m \u001b[0;34m.\u001b[0m\u001b[0msolve\u001b[0m \u001b[0;32mimport\u001b[0m \u001b[0msolve\u001b[0m\u001b[0;34m,\u001b[0m \u001b[0mSolver\u001b[0m\u001b[0;34m\u001b[0m\u001b[0;34m\u001b[0m\u001b[0m\n",
      "\u001b[0;32m~/anaconda3/envs/bilby/lib/python3.7/site-packages/pymultinest/run.py\u001b[0m in \u001b[0;36m<module>\u001b[0;34m\u001b[0m\n\u001b[1;32m     51\u001b[0m \u001b[0;34m\u001b[0m\u001b[0m\n\u001b[0;32m---> 52\u001b[0;31m \u001b[0mlib\u001b[0m \u001b[0;34m=\u001b[0m \u001b[0m_load_library\u001b[0m\u001b[0;34m(\u001b[0m\u001b[0;34m'libmultinest'\u001b[0m\u001b[0;34m)\u001b[0m\u001b[0;34m\u001b[0m\u001b[0;34m\u001b[0m\u001b[0m\n\u001b[0m\u001b[1;32m     53\u001b[0m \u001b[0;34m\u001b[0m\u001b[0m\n",
      "\u001b[0;32m~/anaconda3/envs/bilby/lib/python3.7/site-packages/pymultinest/run.py\u001b[0m in \u001b[0;36m_load_library\u001b[0;34m(libname)\u001b[0m\n\u001b[1;32m     49\u001b[0m                 \u001b[0mprint\u001b[0m\u001b[0;34m(\u001b[0m\u001b[0;34m'problem:'\u001b[0m\u001b[0;34m,\u001b[0m \u001b[0me\u001b[0m\u001b[0;34m)\u001b[0m\u001b[0;34m\u001b[0m\u001b[0;34m\u001b[0m\u001b[0m\n\u001b[0;32m---> 50\u001b[0;31m                 \u001b[0msys\u001b[0m\u001b[0;34m.\u001b[0m\u001b[0mexit\u001b[0m\u001b[0;34m(\u001b[0m\u001b[0;36m1\u001b[0m\u001b[0;34m)\u001b[0m\u001b[0;34m\u001b[0m\u001b[0;34m\u001b[0m\u001b[0m\n\u001b[0m\u001b[1;32m     51\u001b[0m \u001b[0;34m\u001b[0m\u001b[0m\n",
      "\u001b[0;31mSystemExit\u001b[0m: 1",
      "\nDuring handling of the above exception, another exception occurred:\n",
      "\u001b[0;31mSamplerNotInstalledError\u001b[0m                  Traceback (most recent call last)",
      "\u001b[0;32m<ipython-input-13-3f859fda7960>\u001b[0m in \u001b[0;36m<module>\u001b[0;34m\u001b[0m\n\u001b[1;32m      2\u001b[0m result = bilby.run_sampler(\n\u001b[1;32m      3\u001b[0m     \u001b[0mlikelihood\u001b[0m\u001b[0;34m=\u001b[0m\u001b[0mlikelihood\u001b[0m\u001b[0;34m,\u001b[0m \u001b[0mpriors\u001b[0m\u001b[0;34m=\u001b[0m\u001b[0mprior\u001b[0m\u001b[0;34m,\u001b[0m \u001b[0msampler\u001b[0m\u001b[0;34m=\u001b[0m\u001b[0;34m'pymultinest'\u001b[0m\u001b[0;34m,\u001b[0m \u001b[0mnpoints\u001b[0m\u001b[0;34m=\u001b[0m\u001b[0;36m500\u001b[0m\u001b[0;34m,\u001b[0m \u001b[0mnpool\u001b[0m\u001b[0;34m=\u001b[0m\u001b[0;36m16\u001b[0m\u001b[0;34m,\u001b[0m\u001b[0;34m\u001b[0m\u001b[0;34m\u001b[0m\u001b[0m\n\u001b[0;32m----> 4\u001b[0;31m     injection_parameters=injection_parameters, outdir='short', label=\"eccn\")\n\u001b[0m",
      "\u001b[0;32m~/anaconda3/envs/bilby/lib/python3.7/site-packages/bilby/core/sampler/__init__.py\u001b[0m in \u001b[0;36mrun_sampler\u001b[0;34m(likelihood, priors, label, outdir, sampler, use_ratio, injection_parameters, conversion_function, plot, default_priors_file, clean, meta_data, save, gzip, result_class, npool, **kwargs)\u001b[0m\n\u001b[1;32m    155\u001b[0m                 \u001b[0minjection_parameters\u001b[0m\u001b[0;34m=\u001b[0m\u001b[0minjection_parameters\u001b[0m\u001b[0;34m,\u001b[0m \u001b[0mmeta_data\u001b[0m\u001b[0;34m=\u001b[0m\u001b[0mmeta_data\u001b[0m\u001b[0;34m,\u001b[0m\u001b[0;34m\u001b[0m\u001b[0;34m\u001b[0m\u001b[0m\n\u001b[1;32m    156\u001b[0m                 \u001b[0muse_ratio\u001b[0m\u001b[0;34m=\u001b[0m\u001b[0muse_ratio\u001b[0m\u001b[0;34m,\u001b[0m \u001b[0mplot\u001b[0m\u001b[0;34m=\u001b[0m\u001b[0mplot\u001b[0m\u001b[0;34m,\u001b[0m \u001b[0mresult_class\u001b[0m\u001b[0;34m=\u001b[0m\u001b[0mresult_class\u001b[0m\u001b[0;34m,\u001b[0m\u001b[0;34m\u001b[0m\u001b[0;34m\u001b[0m\u001b[0m\n\u001b[0;32m--> 157\u001b[0;31m                 npool=npool, **kwargs)\n\u001b[0m\u001b[1;32m    158\u001b[0m         \u001b[0;32melse\u001b[0m\u001b[0;34m:\u001b[0m\u001b[0;34m\u001b[0m\u001b[0;34m\u001b[0m\u001b[0m\n\u001b[1;32m    159\u001b[0m             \u001b[0mprint\u001b[0m\u001b[0;34m(\u001b[0m\u001b[0mIMPLEMENTED_SAMPLERS\u001b[0m\u001b[0;34m)\u001b[0m\u001b[0;34m\u001b[0m\u001b[0;34m\u001b[0m\u001b[0m\n",
      "\u001b[0;32m~/anaconda3/envs/bilby/lib/python3.7/site-packages/bilby/core/sampler/pymultinest.py\u001b[0m in \u001b[0;36m__init__\u001b[0;34m(self, likelihood, priors, outdir, label, use_ratio, plot, exit_code, skip_import_verification, temporary_directory, **kwargs)\u001b[0m\n\u001b[1;32m     89\u001b[0m             \u001b[0mskip_import_verification\u001b[0m\u001b[0;34m=\u001b[0m\u001b[0mskip_import_verification\u001b[0m\u001b[0;34m,\u001b[0m\u001b[0;34m\u001b[0m\u001b[0;34m\u001b[0m\u001b[0m\n\u001b[1;32m     90\u001b[0m             \u001b[0mexit_code\u001b[0m\u001b[0;34m=\u001b[0m\u001b[0mexit_code\u001b[0m\u001b[0;34m,\u001b[0m\u001b[0;34m\u001b[0m\u001b[0;34m\u001b[0m\u001b[0m\n\u001b[0;32m---> 91\u001b[0;31m             \u001b[0;34m**\u001b[0m\u001b[0mkwargs\u001b[0m\u001b[0;34m\u001b[0m\u001b[0;34m\u001b[0m\u001b[0m\n\u001b[0m\u001b[1;32m     92\u001b[0m         )\n\u001b[1;32m     93\u001b[0m         \u001b[0mself\u001b[0m\u001b[0;34m.\u001b[0m\u001b[0m_apply_multinest_boundaries\u001b[0m\u001b[0;34m(\u001b[0m\u001b[0;34m)\u001b[0m\u001b[0;34m\u001b[0m\u001b[0;34m\u001b[0m\u001b[0m\n",
      "\u001b[0;32m~/anaconda3/envs/bilby/lib/python3.7/site-packages/bilby/core/sampler/base_sampler.py\u001b[0m in \u001b[0;36m__init__\u001b[0;34m(self, likelihood, priors, outdir, label, use_ratio, plot, skip_import_verification, injection_parameters, meta_data, result_class, likelihood_benchmark, soft_init, exit_code, **kwargs)\u001b[0m\n\u001b[1;32m    108\u001b[0m         \u001b[0mself\u001b[0m\u001b[0;34m.\u001b[0m\u001b[0muse_ratio\u001b[0m \u001b[0;34m=\u001b[0m \u001b[0muse_ratio\u001b[0m\u001b[0;34m\u001b[0m\u001b[0;34m\u001b[0m\u001b[0m\n\u001b[1;32m    109\u001b[0m         \u001b[0;32mif\u001b[0m \u001b[0;32mnot\u001b[0m \u001b[0mskip_import_verification\u001b[0m\u001b[0;34m:\u001b[0m\u001b[0;34m\u001b[0m\u001b[0;34m\u001b[0m\u001b[0m\n\u001b[0;32m--> 110\u001b[0;31m             \u001b[0mself\u001b[0m\u001b[0;34m.\u001b[0m\u001b[0m_verify_external_sampler\u001b[0m\u001b[0;34m(\u001b[0m\u001b[0;34m)\u001b[0m\u001b[0;34m\u001b[0m\u001b[0;34m\u001b[0m\u001b[0m\n\u001b[0m\u001b[1;32m    111\u001b[0m         \u001b[0mself\u001b[0m\u001b[0;34m.\u001b[0m\u001b[0mexternal_sampler_function\u001b[0m \u001b[0;34m=\u001b[0m \u001b[0;32mNone\u001b[0m\u001b[0;34m\u001b[0m\u001b[0;34m\u001b[0m\u001b[0m\n\u001b[1;32m    112\u001b[0m         \u001b[0mself\u001b[0m\u001b[0;34m.\u001b[0m\u001b[0mplot\u001b[0m \u001b[0;34m=\u001b[0m \u001b[0mplot\u001b[0m\u001b[0;34m\u001b[0m\u001b[0;34m\u001b[0m\u001b[0m\n",
      "\u001b[0;32m~/anaconda3/envs/bilby/lib/python3.7/site-packages/bilby/core/sampler/base_sampler.py\u001b[0m in \u001b[0;36m_verify_external_sampler\u001b[0;34m(self)\u001b[0m\n\u001b[1;32m    182\u001b[0m         \u001b[0;32mexcept\u001b[0m \u001b[0;34m(\u001b[0m\u001b[0mImportError\u001b[0m\u001b[0;34m,\u001b[0m \u001b[0mSystemExit\u001b[0m\u001b[0;34m)\u001b[0m\u001b[0;34m:\u001b[0m\u001b[0;34m\u001b[0m\u001b[0;34m\u001b[0m\u001b[0m\n\u001b[1;32m    183\u001b[0m             raise SamplerNotInstalledError(\n\u001b[0;32m--> 184\u001b[0;31m                 \"Sampler {} is not installed on this system\".format(external_sampler_name))\n\u001b[0m\u001b[1;32m    185\u001b[0m \u001b[0;34m\u001b[0m\u001b[0m\n\u001b[1;32m    186\u001b[0m     \u001b[0;32mdef\u001b[0m \u001b[0m_verify_kwargs_against_default_kwargs\u001b[0m\u001b[0;34m(\u001b[0m\u001b[0mself\u001b[0m\u001b[0;34m)\u001b[0m\u001b[0;34m:\u001b[0m\u001b[0;34m\u001b[0m\u001b[0;34m\u001b[0m\u001b[0m\n",
      "\u001b[0;31mSamplerNotInstalledError\u001b[0m: Sampler pymultinest is not installed on this system"
     ]
    }
   ],
   "source": [
    "# Now we run sampler (PyMultiNest in our case).\n",
    "result = bilby.run_sampler(\n",
    "    likelihood=likelihood, priors=prior, sampler='pymultinest', npoints=500, npool=16,\n",
    "    injection_parameters=injection_parameters, outdir='short', label=\"eccn\")"
   ]
  },
  {
   "cell_type": "code",
   "execution_count": null,
   "metadata": {},
   "outputs": [],
   "source": []
  },
  {
   "cell_type": "code",
   "execution_count": null,
   "metadata": {},
   "outputs": [],
   "source": []
  },
  {
   "cell_type": "code",
   "execution_count": null,
   "metadata": {},
   "outputs": [],
   "source": []
  },
  {
   "cell_type": "code",
   "execution_count": null,
   "metadata": {},
   "outputs": [],
   "source": []
  },
  {
   "cell_type": "code",
   "execution_count": null,
   "metadata": {},
   "outputs": [],
   "source": []
  },
  {
   "cell_type": "code",
   "execution_count": null,
   "metadata": {},
   "outputs": [],
   "source": []
  },
  {
   "cell_type": "code",
   "execution_count": null,
   "metadata": {},
   "outputs": [],
   "source": []
  },
  {
   "cell_type": "code",
   "execution_count": null,
   "metadata": {},
   "outputs": [],
   "source": []
  },
  {
   "cell_type": "code",
   "execution_count": null,
   "metadata": {},
   "outputs": [],
   "source": []
  },
  {
   "cell_type": "code",
   "execution_count": null,
   "metadata": {},
   "outputs": [],
   "source": []
  }
 ],
 "metadata": {
  "kernelspec": {
   "display_name": "Python 3",
   "language": "python",
   "name": "python3"
  },
  "language_info": {
   "codemirror_mode": {
    "name": "ipython",
    "version": 3
   },
   "file_extension": ".py",
   "mimetype": "text/x-python",
   "name": "python",
   "nbconvert_exporter": "python",
   "pygments_lexer": "ipython3",
   "version": "3.7.7"
  }
 },
 "nbformat": 4,
 "nbformat_minor": 4
}
