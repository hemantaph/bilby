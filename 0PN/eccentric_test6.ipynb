{
 "cells": [
  {
   "cell_type": "code",
   "execution_count": 1,
   "metadata": {},
   "outputs": [],
   "source": [
    "from __future__ import division, print_function\n",
    "import matplotlib.pyplot as plt\n",
    "import bilby\n",
    "import numpy as np\n",
    "\n",
    "import hphc9\n",
    "\n",
    "C = 299792458.\n",
    "G = 6.67408*1e-11\n",
    "Mo = 1.989*1e30\n",
    "Mpc = 3.086*1e22\n",
    "\n",
    "%matplotlib inline"
   ]
  },
  {
   "cell_type": "code",
   "execution_count": 2,
   "metadata": {},
   "outputs": [],
   "source": [
    "outdir = 'outdir_new_model'\n",
    "label = 'create_your_own_source_model'\n",
    "sampling_frequency = 4096\n",
    "duration = 1"
   ]
  },
  {
   "cell_type": "code",
   "execution_count": 10,
   "metadata": {},
   "outputs": [],
   "source": [
    "def eccentric_waveform(frequency_array_, A, f0, tau, phi0, geocent_time, ra, dec, psi):\n",
    "    \n",
    "    N = len(frequency_array_)\n",
    "    h_plus = np.zeros(N)*1j\n",
    "    h_cross = np.zeros(N)*1j\n",
    "    \n",
    "    k = 0\n",
    "    for f in frequency_array_:\n",
    "\n",
    "        arg_plus = {'iota_':tau, 'beta_':psi, 'D_':440.0 , 'm1_':35.0, 'm2_':30.0, 'f_':f, 'f0_':20.0, 'et0_':0.1, 'phic_':phi0, 'tc_':geocent_time}\n",
    "\n",
    "        fplus = hphc9.Fn(**arg_plus)\n",
    "\n",
    "        h_plus[k] = fplus.hphc()[0]\n",
    "        h_cross[k] = fplus.hphc()[1]\n",
    "\n",
    "        k=k+1\n",
    "    #return {'plus': h_plus, 'cross': h_cross}\n",
    "    return {'plus': h_plus, 'cross': h_cross}"
   ]
  },
  {
   "cell_type": "code",
   "execution_count": 11,
   "metadata": {},
   "outputs": [
    {
     "name": "stdout",
     "output_type": "stream",
     "text": [
      "Execution took 4.0937\n"
     ]
    }
   ],
   "source": [
    "import time \n",
    "\n",
    "\n",
    "fff = np.arange(0.0,500.0,1.0)\n",
    "t0 = time.time()\n",
    "zz = eccentric_waveform(np.arange(0,100,1), A=1e-23, f0=100, tau=1, phi0=0, geocent_time=0,\n",
    "                            ra=0, dec=0, psi=0)\n",
    "t1 = time.time()\n",
    "print('Execution took {:.4f}'.format(t1 - t0))"
   ]
  },
  {
   "cell_type": "code",
   "execution_count": 5,
   "metadata": {},
   "outputs": [],
   "source": [
    "# We now define some parameters that we will inject\n",
    "injection_parameters = dict(A=1e-23, f0=100, tau=1, phi0=0, geocent_time=0,\n",
    "                            ra=0, dec=0, psi=0)"
   ]
  },
  {
   "cell_type": "code",
   "execution_count": 6,
   "metadata": {},
   "outputs": [
    {
     "name": "stderr",
     "output_type": "stream",
     "text": [
      "14:22 bilby INFO    : Waveform generator initiated with\n",
      "  frequency_domain_source_model: __main__.eccentric_waveform\n",
      "  time_domain_source_model: None\n",
      "  parameter_conversion: bilby.gw.conversion.convert_to_lal_binary_black_hole_parameters\n"
     ]
    }
   ],
   "source": [
    "# Now we pass our source function to the WaveformGenerator\n",
    "waveform_generator = bilby.gw.waveform_generator.WaveformGenerator(\n",
    "    duration=duration, sampling_frequency=sampling_frequency,\n",
    "    frequency_domain_source_model=eccentric_waveform, parameters=injection_parameters)"
   ]
  },
  {
   "cell_type": "code",
   "execution_count": 7,
   "metadata": {},
   "outputs": [
    {
     "name": "stderr",
     "output_type": "stream",
     "text": [
      "/home/hemantakumar.phurailatpam/anaconda3/envs/bilby/lib/python3.7/site-packages/bilby/gw/detector/psd.py:356: RuntimeWarning: invalid value encountered in multiply\n",
      "  frequency_domain_strain = self.__power_spectral_density_interpolated(frequencies) ** 0.5 * white_noise\n",
      "14:23 bilby WARNING : Injecting signal outside segment, start_time=-3, merger time=0.\n",
      "14:23 bilby INFO    : Injected signal in H1:\n",
      "14:23 bilby INFO    :   optimal SNR = 15.60\n",
      "14:23 bilby INFO    :   matched filter SNR = 16.08+0.06j\n",
      "14:23 bilby INFO    :   A = 1e-23\n",
      "14:23 bilby INFO    :   f0 = 100\n",
      "14:23 bilby INFO    :   tau = 1\n",
      "14:23 bilby INFO    :   phi0 = 0\n",
      "14:23 bilby INFO    :   geocent_time = 0\n",
      "14:23 bilby INFO    :   ra = 0\n",
      "14:23 bilby INFO    :   dec = 0\n",
      "14:23 bilby INFO    :   psi = 0\n",
      "14:23 bilby WARNING : Injecting signal outside segment, start_time=-3, merger time=0.\n",
      "14:23 bilby INFO    : Injected signal in L1:\n",
      "14:23 bilby INFO    :   optimal SNR = 24.97\n",
      "14:23 bilby INFO    :   matched filter SNR = 24.25+0.75j\n",
      "14:23 bilby INFO    :   A = 1e-23\n",
      "14:23 bilby INFO    :   f0 = 100\n",
      "14:23 bilby INFO    :   tau = 1\n",
      "14:23 bilby INFO    :   phi0 = 0\n",
      "14:23 bilby INFO    :   geocent_time = 0\n",
      "14:23 bilby INFO    :   ra = 0\n",
      "14:23 bilby INFO    :   dec = 0\n",
      "14:23 bilby INFO    :   psi = 0\n"
     ]
    }
   ],
   "source": [
    "# Set up interferometers.\n",
    "ifos = bilby.gw.detector.InterferometerList(['H1', 'L1'])\n",
    "ifos.set_strain_data_from_power_spectral_densities(\n",
    "    sampling_frequency=sampling_frequency, duration=duration,\n",
    "    start_time=injection_parameters['geocent_time'] - 3)\n",
    "injection = ifos.inject_signal(waveform_generator=waveform_generator,\n",
    "                   parameters=injection_parameters)"
   ]
  },
  {
   "cell_type": "code",
   "execution_count": null,
   "metadata": {},
   "outputs": [],
   "source": []
  },
  {
   "cell_type": "code",
   "execution_count": null,
   "metadata": {},
   "outputs": [],
   "source": []
  },
  {
   "cell_type": "code",
   "execution_count": null,
   "metadata": {},
   "outputs": [],
   "source": []
  },
  {
   "cell_type": "code",
   "execution_count": null,
   "metadata": {},
   "outputs": [],
   "source": []
  },
  {
   "cell_type": "code",
   "execution_count": null,
   "metadata": {},
   "outputs": [],
   "source": []
  },
  {
   "cell_type": "code",
   "execution_count": null,
   "metadata": {},
   "outputs": [],
   "source": []
  },
  {
   "cell_type": "code",
   "execution_count": null,
   "metadata": {},
   "outputs": [],
   "source": []
  },
  {
   "cell_type": "code",
   "execution_count": null,
   "metadata": {},
   "outputs": [],
   "source": []
  },
  {
   "cell_type": "code",
   "execution_count": null,
   "metadata": {},
   "outputs": [],
   "source": []
  },
  {
   "cell_type": "code",
   "execution_count": null,
   "metadata": {},
   "outputs": [],
   "source": []
  },
  {
   "cell_type": "code",
   "execution_count": null,
   "metadata": {},
   "outputs": [],
   "source": []
  },
  {
   "cell_type": "code",
   "execution_count": null,
   "metadata": {},
   "outputs": [],
   "source": []
  },
  {
   "cell_type": "code",
   "execution_count": null,
   "metadata": {},
   "outputs": [],
   "source": []
  },
  {
   "cell_type": "code",
   "execution_count": null,
   "metadata": {},
   "outputs": [],
   "source": []
  },
  {
   "cell_type": "code",
   "execution_count": null,
   "metadata": {},
   "outputs": [],
   "source": []
  },
  {
   "cell_type": "code",
   "execution_count": null,
   "metadata": {},
   "outputs": [],
   "source": []
  },
  {
   "cell_type": "code",
   "execution_count": null,
   "metadata": {},
   "outputs": [],
   "source": []
  }
 ],
 "metadata": {
  "kernelspec": {
   "display_name": "Python 3",
   "language": "python",
   "name": "python3"
  },
  "language_info": {
   "codemirror_mode": {
    "name": "ipython",
    "version": 3
   },
   "file_extension": ".py",
   "mimetype": "text/x-python",
   "name": "python",
   "nbconvert_exporter": "python",
   "pygments_lexer": "ipython3",
   "version": "3.7.7"
  }
 },
 "nbformat": 4,
 "nbformat_minor": 4
}
