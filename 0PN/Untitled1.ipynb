{
 "cells": [
  {
   "cell_type": "code",
   "execution_count": null,
   "metadata": {},
   "outputs": [],
   "source": [
    "ee**3*( - 38*sine(iota)*sine(3*beta) - 38*np.cos(iota)**2*sine(iota)*sine(3*beta)) + ee*(8*sine(iota)*sine(3*beta) + 8*np.cos(iota)**2*sine(iota)*sine(3*beta)) + ee**5*(176/3*sine(iota)*sine(3*beta) + 176/3*np.cos(iota)**2*sine(iota)*sine(3*beta))"
   ]
  }
 ],
 "metadata": {
  "kernelspec": {
   "display_name": "Python 3",
   "language": "python",
   "name": "python3"
  },
  "language_info": {
   "codemirror_mode": {
    "name": "ipython",
    "version": 3
   },
   "file_extension": ".py",
   "mimetype": "text/x-python",
   "name": "python",
   "nbconvert_exporter": "python",
   "pygments_lexer": "ipython3",
   "version": "3.7.7"
  }
 },
 "nbformat": 4,
 "nbformat_minor": 4
}
