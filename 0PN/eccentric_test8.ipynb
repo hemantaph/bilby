{
 "cells": [
  {
   "cell_type": "code",
   "execution_count": 1,
   "metadata": {},
   "outputs": [],
   "source": [
    "from __future__ import division, print_function\n",
    "import matplotlib.pyplot as plt\n",
    "import bilby\n",
    "import numpy as np\n",
    "import time\n",
    "\n",
    "C = 299792458.\n",
    "G = 6.67408*1e-11\n",
    "Mo = 1.989*1e30\n",
    "Mpc = 3.086*1e22\n",
    "\n",
    "%matplotlib inline"
   ]
  },
  {
   "cell_type": "code",
   "execution_count": 1,
   "metadata": {},
   "outputs": [],
   "source": [
    "#test for eccn package\n",
    "from eccn.functions import eccentric_waveform"
   ]
  },
  {
   "cell_type": "code",
   "execution_count": 2,
   "metadata": {},
   "outputs": [
    {
     "data": {
      "text/plain": [
       "<function eccn.functions.eccentric_waveform(frequency_array_, chirp_mass, mass_ratio, initial_eccentricity, luminosity_distance, theta_jn, psi, phase, geocent_time, ra, dec, **kwargs)>"
      ]
     },
     "execution_count": 2,
     "metadata": {},
     "output_type": "execute_result"
    }
   ],
   "source": [
    "eccentric_waveform"
   ]
  },
  {
   "cell_type": "code",
   "execution_count": 3,
   "metadata": {},
   "outputs": [
    {
     "name": "stdout",
     "output_type": "stream",
     "text": [
      "0.00450825691223144531\n"
     ]
    }
   ],
   "source": [
    "t1 = time.time()\n",
    "\n",
    "zz = eccentric_waveform([105.],19.564163812778446,0.9148936170212766,0.1,600.0,0.4,0.1,1.2,1180002601.0,45,5.73)\n",
    "\n",
    "t2 = time.time()\n",
    "t = t2 - t1\n",
    "print(\"%.20f\" % t)"
   ]
  },
  {
   "cell_type": "code",
   "execution_count": 4,
   "metadata": {},
   "outputs": [
    {
     "data": {
      "text/plain": [
       "{'plus': array([1.11684598e-25+1.77240903e-25j]),\n",
       " 'cross': array([-1.76643375e-25+1.11308083e-25j])}"
      ]
     },
     "execution_count": 4,
     "metadata": {},
     "output_type": "execute_result"
    }
   ],
   "source": [
    "zz"
   ]
  },
  {
   "cell_type": "code",
   "execution_count": 5,
   "metadata": {},
   "outputs": [
    {
     "name": "stderr",
     "output_type": "stream",
     "text": [
      "16:46 bilby INFO    : Waveform generator initiated with\n",
      "  frequency_domain_source_model: eccn.functions.eccentric_waveform\n",
      "  time_domain_source_model: None\n",
      "  parameter_conversion: bilby.gw.conversion.convert_to_lal_binary_black_hole_parameters\n"
     ]
    }
   ],
   "source": [
    "sampling_frequency = 1024.0\n",
    "duration = 4.0\n",
    "#geocent_time = 1180002601.0\n",
    "#start_time = geocent_time - duration + 0.02\n",
    "\n",
    "#chirp_mass = 19.564163812778446\n",
    "#mass_ratio = 0.9148936170212766\n",
    "#mass_1 = (chirp_mass*(1+mass_ratio)**(1/5))/mass_ratio**(3/5) = 23.499999999999996\n",
    "#mass_2 = chirp_mass*mass_ratio**(2/5)*(1+mass_ratio)**(1/5) = 21.499999999999993\n",
    "#eta = (mass_1*mass_2)/((mass_1+mass_2)**2) = 0.24950617283950624\n",
    "#lso_f = (C**3)/( G*(mass_1+mass_2)*Mo*np.pi*6**(3/2) ) = 97.6892230430889\n",
    "injection_parameters = dict(chirp_mass=19.564163812778446, mass_ratio=0.9148936170212766, initial_eccentricity=0.1, luminosity_distance=400.0, theta_jn=0.4, psi=0.1, phase=1.2, geocent_time = 1180002601.0, ra=45.0, dec=5.73)\n",
    "\n",
    "waveform_generator = bilby.gw.waveform_generator.WaveformGenerator(\n",
    "    duration=duration, sampling_frequency=sampling_frequency,\n",
    "    frequency_domain_source_model=eccentric_waveform)"
   ]
  },
  {
   "cell_type": "code",
   "execution_count": 6,
   "metadata": {},
   "outputs": [
    {
     "name": "stderr",
     "output_type": "stream",
     "text": [
      "/home/hemantakumar.phurailatpam/anaconda3/envs/bilby/lib/python3.7/site-packages/bilby/gw/detector/psd.py:356: RuntimeWarning: invalid value encountered in multiply\n",
      "  frequency_domain_strain = self.__power_spectral_density_interpolated(frequencies) ** 0.5 * white_noise\n",
      "16:46 bilby INFO    : Injected signal in H1:\n",
      "16:46 bilby INFO    :   optimal SNR = 48.94\n",
      "16:46 bilby INFO    :   matched filter SNR = 47.69+0.40j\n",
      "16:46 bilby INFO    :   chirp_mass = 19.564163812778446\n",
      "16:46 bilby INFO    :   mass_ratio = 0.9148936170212766\n",
      "16:46 bilby INFO    :   initial_eccentricity = 0.1\n",
      "16:46 bilby INFO    :   luminosity_distance = 400.0\n",
      "16:46 bilby INFO    :   theta_jn = 0.4\n",
      "16:46 bilby INFO    :   psi = 0.1\n",
      "16:46 bilby INFO    :   phase = 1.2\n",
      "16:46 bilby INFO    :   geocent_time = 1180002601.0\n",
      "16:46 bilby INFO    :   ra = 45.0\n",
      "16:46 bilby INFO    :   dec = 5.73\n",
      "16:46 bilby INFO    : Injected signal in L1:\n",
      "16:46 bilby INFO    :   optimal SNR = 28.78\n",
      "16:46 bilby INFO    :   matched filter SNR = 27.54+0.59j\n",
      "16:46 bilby INFO    :   chirp_mass = 19.564163812778446\n",
      "16:46 bilby INFO    :   mass_ratio = 0.9148936170212766\n",
      "16:46 bilby INFO    :   initial_eccentricity = 0.1\n",
      "16:46 bilby INFO    :   luminosity_distance = 400.0\n",
      "16:46 bilby INFO    :   theta_jn = 0.4\n",
      "16:46 bilby INFO    :   psi = 0.1\n",
      "16:46 bilby INFO    :   phase = 1.2\n",
      "16:46 bilby INFO    :   geocent_time = 1180002601.0\n",
      "16:46 bilby INFO    :   ra = 45.0\n",
      "16:46 bilby INFO    :   dec = 5.73\n"
     ]
    },
    {
     "data": {
      "text/plain": [
       "[{'plus': array([0.+0.j, 0.+0.j, 0.+0.j, ..., 0.+0.j, 0.+0.j, 0.+0.j]),\n",
       "  'cross': array([0.+0.j, 0.+0.j, 0.+0.j, ..., 0.+0.j, 0.+0.j, 0.+0.j])},\n",
       " {'plus': array([0.+0.j, 0.+0.j, 0.+0.j, ..., 0.+0.j, 0.+0.j, 0.+0.j]),\n",
       "  'cross': array([0.+0.j, 0.+0.j, 0.+0.j, ..., 0.+0.j, 0.+0.j, 0.+0.j])}]"
      ]
     },
     "execution_count": 6,
     "metadata": {},
     "output_type": "execute_result"
    }
   ],
   "source": [
    "minimum_frequency = 20.0+3.0\n",
    "maximum_frequency = 100.0-3.0\n",
    "\n",
    "ifos = bilby.gw.detector.InterferometerList(['H1', 'L1'])\n",
    "for ifo in ifos:\n",
    "    ifo.minimum_frequency = minimum_frequency\n",
    "    ifo.maximum_frequency = maximum_frequency\n",
    "ifos.set_strain_data_from_power_spectral_densities(\n",
    "    sampling_frequency=sampling_frequency, duration=duration,\n",
    "    start_time=injection_parameters['geocent_time'] - 3)\n",
    "ifos.inject_signal(waveform_generator=waveform_generator,\n",
    "                   parameters=injection_parameters)"
   ]
  },
  {
   "cell_type": "code",
   "execution_count": 7,
   "metadata": {},
   "outputs": [
    {
     "name": "stderr",
     "output_type": "stream",
     "text": [
      "16:46 bilby INFO    : Injected signal in H1:\n",
      "16:46 bilby INFO    :   optimal SNR = 48.94\n",
      "16:46 bilby INFO    :   matched filter SNR = 96.62+0.40j\n",
      "16:46 bilby INFO    :   chirp_mass = 19.564163812778446\n",
      "16:46 bilby INFO    :   mass_ratio = 0.9148936170212766\n",
      "16:46 bilby INFO    :   initial_eccentricity = 0.1\n",
      "16:46 bilby INFO    :   luminosity_distance = 400.0\n",
      "16:46 bilby INFO    :   theta_jn = 0.4\n",
      "16:46 bilby INFO    :   psi = 0.1\n",
      "16:46 bilby INFO    :   phase = 1.2\n",
      "16:46 bilby INFO    :   geocent_time = 1180002601.0\n",
      "16:46 bilby INFO    :   ra = 45.0\n",
      "16:46 bilby INFO    :   dec = 5.73\n",
      "16:46 bilby INFO    : Injected signal in L1:\n",
      "16:46 bilby INFO    :   optimal SNR = 28.78\n",
      "16:46 bilby INFO    :   matched filter SNR = 56.32+0.59j\n",
      "16:46 bilby INFO    :   chirp_mass = 19.564163812778446\n",
      "16:46 bilby INFO    :   mass_ratio = 0.9148936170212766\n",
      "16:46 bilby INFO    :   initial_eccentricity = 0.1\n",
      "16:46 bilby INFO    :   luminosity_distance = 400.0\n",
      "16:46 bilby INFO    :   theta_jn = 0.4\n",
      "16:46 bilby INFO    :   psi = 0.1\n",
      "16:46 bilby INFO    :   phase = 1.2\n",
      "16:46 bilby INFO    :   geocent_time = 1180002601.0\n",
      "16:46 bilby INFO    :   ra = 45.0\n",
      "16:46 bilby INFO    :   dec = 5.73\n"
     ]
    },
    {
     "data": {
      "image/png": "[encoded data removed]",
      "text/plain": [
       "<Figure size 432x288 with 1 Axes>"
      ]
     },
     "metadata": {
      "needs_background": "light"
     },
     "output_type": "display_data"
    }
   ],
   "source": [
    "injection = ifos.inject_signal(waveform_generator=waveform_generator,\n",
    "                   parameters=injection_parameters)\n",
    "\n",
    "H1 = ifos[0]\n",
    "H1_injection = injection[0]\n",
    "\n",
    "fig, ax = plt.subplots()\n",
    "idxs = H1.strain_data.frequency_mask  # This is a boolean mask of the frequencies which we'll use in the analysis\n",
    "ax.loglog(H1.strain_data.frequency_array[idxs],\n",
    "          np.abs(H1.strain_data.frequency_domain_strain[idxs]),\n",
    "          label=\"data\")\n",
    "ax.loglog(H1.frequency_array[idxs],\n",
    "          H1.amplitude_spectral_density_array[idxs],\n",
    "          label=\"ASD\")\n",
    "ax.loglog(H1.frequency_array[idxs],\n",
    "          np.abs(H1_injection[\"plus\"][idxs]),\n",
    "          label=\"Abs. val. of plus polarization\")\n",
    "\n",
    "ax.set_xlim(minimum_frequency,maximum_frequency)\n",
    "ax.set_ylim(1e-26,2.327737159425905e-21)\n",
    "\n",
    "\n",
    "ax.set_xlabel(\"Frequency [Hz]\")\n",
    "ax.set_ylabel(\"Strain [strain/$\\sqrt{Hz}$]\")\n",
    "ax.legend()\n",
    "plt.show()"
   ]
  },
  {
   "cell_type": "code",
   "execution_count": 8,
   "metadata": {},
   "outputs": [
    {
     "data": {
      "text/plain": [
       "56.77078845254031"
      ]
     },
     "execution_count": 8,
     "metadata": {},
     "output_type": "execute_result"
    }
   ],
   "source": [
    "#SNR\n",
    "snrs = [ifo.meta_data[\"optimal_SNR\"] for ifo in ifos]\n",
    "np.sqrt(np.sum([i ** 2 for i in snrs]))"
   ]
  },
  {
   "cell_type": "code",
   "execution_count": 22,
   "metadata": {},
   "outputs": [],
   "source": [
    "prior = injection_parameters.copy()\n",
    "prior['eccentricity'] = bilby.core.prior.LogUniform(name='eccentricity', minimum=0.01, maximum=0.2)\n",
    "\n",
    "likelihood = bilby.gw.likelihood.GravitationalWaveTransient(interferometers=ifos, waveform_generator=waveform_generator, priors=prior)"
   ]
  },
  {
   "cell_type": "code",
   "execution_count": null,
   "metadata": {},
   "outputs": [],
   "source": [
    "result = bilby.run_sampler(likelihood=likelihood, priors=prior, sampler='dynesty', outdir='short', label=\"eccn\", nlive=500, dlogz=3, npool=8)"
   ]
  },
  {
   "cell_type": "code",
   "execution_count": null,
   "metadata": {},
   "outputs": [],
   "source": [
    "start=1126259461.4, end=1126259465.4"
   ]
  },
  {
   "cell_type": "code",
   "execution_count": 9,
   "metadata": {},
   "outputs": [
    {
     "data": {
      "text/plain": [
       "1126259461.4"
      ]
     },
     "execution_count": 9,
     "metadata": {},
     "output_type": "execute_result"
    }
   ],
   "source": [
    "1126259463.4-2"
   ]
  },
  {
   "cell_type": "code",
   "execution_count": null,
   "metadata": {},
   "outputs": [],
   "source": []
  },
  {
   "cell_type": "code",
   "execution_count": null,
   "metadata": {},
   "outputs": [],
   "source": []
  },
  {
   "cell_type": "code",
   "execution_count": null,
   "metadata": {},
   "outputs": [],
   "source": []
  },
  {
   "cell_type": "code",
   "execution_count": null,
   "metadata": {},
   "outputs": [],
   "source": []
  },
  {
   "cell_type": "code",
   "execution_count": null,
   "metadata": {},
   "outputs": [],
   "source": []
  },
  {
   "cell_type": "code",
   "execution_count": null,
   "metadata": {},
   "outputs": [],
   "source": []
  },
  {
   "cell_type": "code",
   "execution_count": null,
   "metadata": {},
   "outputs": [],
   "source": []
  },
  {
   "cell_type": "code",
   "execution_count": null,
   "metadata": {},
   "outputs": [],
   "source": []
  },
  {
   "cell_type": "code",
   "execution_count": null,
   "metadata": {},
   "outputs": [],
   "source": []
  },
  {
   "cell_type": "code",
   "execution_count": null,
   "metadata": {},
   "outputs": [],
   "source": []
  },
  {
   "cell_type": "code",
   "execution_count": null,
   "metadata": {},
   "outputs": [],
   "source": []
  },
  {
   "cell_type": "code",
   "execution_count": null,
   "metadata": {},
   "outputs": [],
   "source": []
  },
  {
   "cell_type": "code",
   "execution_count": null,
   "metadata": {},
   "outputs": [],
   "source": []
  },
  {
   "cell_type": "code",
   "execution_count": null,
   "metadata": {},
   "outputs": [],
   "source": []
  },
  {
   "cell_type": "code",
   "execution_count": null,
   "metadata": {},
   "outputs": [],
   "source": []
  },
  {
   "cell_type": "code",
   "execution_count": null,
   "metadata": {},
   "outputs": [],
   "source": []
  },
  {
   "cell_type": "code",
   "execution_count": null,
   "metadata": {},
   "outputs": [],
   "source": []
  },
  {
   "cell_type": "code",
   "execution_count": null,
   "metadata": {},
   "outputs": [],
   "source": []
  }
 ],
 "metadata": {
  "kernelspec": {
   "display_name": "Python 3",
   "language": "python",
   "name": "python3"
  },
  "language_info": {
   "codemirror_mode": {
    "name": "ipython",
    "version": 3
   },
   "file_extension": ".py",
   "mimetype": "text/x-python",
   "name": "python",
   "nbconvert_exporter": "python",
   "pygments_lexer": "ipython3",
   "version": "3.7.7"
  }
 },
 "nbformat": 4,
 "nbformat_minor": 4
}
