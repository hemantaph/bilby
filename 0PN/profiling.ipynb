{
 "cells": [
  {
   "cell_type": "code",
   "execution_count": 1,
   "metadata": {},
   "outputs": [],
   "source": [
    "import cProfile, pstats, io\n",
    "\n",
    "def profile(fnc):\n",
    "    \"\"\"A decorator that uses cProfile to profile a function\"\"\"\n",
    "    def inner(*args, **kwargs):\n",
    "        \n",
    "        pr = cProfile.Profile()\n",
    "        pr.enable()\n",
    "        retval = fnc(*args, **kwargs)\n",
    "        pr.disable()\n",
    "        s = io.StringIO()\n",
    "        sortby = 'cumulative'\n",
    "        ps = pstats.Stats(pr, stream=s).sort_stats(sortby)\n",
    "        ps.print_stats()\n",
    "        print(s.getvalue())\n",
    "        return retval\n",
    "\n",
    "    return inner"
   ]
  },
  {
   "cell_type": "code",
   "execution_count": 2,
   "metadata": {},
   "outputs": [],
   "source": [
    "import time\n",
    "import multiprocessing as mp\n",
    "\n",
    "import numpy as np\n",
    "import sympy as sp\n",
    "import matplotlib.pyplot as plt\n",
    "\n",
    "import hphc4\n",
    "\n",
    "C = 299792458.\n",
    "G = 6.67408*1e-11\n",
    "Mo = 1.989*1e30\n",
    "Mpc = 3.086*1e22"
   ]
  },
  {
   "cell_type": "code",
   "execution_count": 3,
   "metadata": {},
   "outputs": [],
   "source": [
    "@profile\n",
    "def hf(freq):\n",
    "    N = len(freq)\n",
    "    h_plus = np.zeros(N)\n",
    "    zz = 0\n",
    "    for z in freq:\n",
    "        arg_plus = {'iota_':np.pi/3, 'beta_':np.pi/3, 'D_':100. , 'm1_':10., 'm2_':10., 'f_':z, 'f0_':20., 'Fp_':1.0, 'Fc_':0.0, 'et0_':0.1, 'phic_':0., 'tc_':0.}\n",
    "        fplus = hphc4.Fn(**arg_plus)\n",
    "        \n",
    "        h_plus[zz] = abs(fplus.htilde())\n",
    "        zz = zz+1\n",
    "        \n",
    "    return(h_plus)"
   ]
  },
  {
   "cell_type": "code",
   "execution_count": 4,
   "metadata": {},
   "outputs": [
    {
     "name": "stdout",
     "output_type": "stream",
     "text": [
      "         17636709 function calls (17616185 primitive calls) in 12.061 seconds\n",
      "\n",
      "   Ordered by: cumulative time\n",
      "\n",
      "   ncalls  tottime  percall  cumtime  percall filename:lineno(function)\n",
      "        1    0.000    0.000   12.061   12.061 <ipython-input-3-8dc7350b079a>:1(hf)\n",
      "        1    0.000    0.000   12.061   12.061 /home/hemantakumar.phurailatpam/bilby/0PN/hphc4.py:408(htilde)\n",
      "    60896    0.130    0.000    9.972    0.000 /home/hemantakumar.phurailatpam/anaconda3/envs/bilby/lib/python3.7/site-packages/sympy/core/decorators.py:255(_func)\n",
      "        1    0.001    0.001    9.144    9.144 /home/hemantakumar.phurailatpam/bilby/0PN/hphc4.py:369(htilde1)\n",
      "    60896    0.077    0.000    8.492    0.000 /home/hemantakumar.phurailatpam/anaconda3/envs/bilby/lib/python3.7/site-packages/sympy/core/decorators.py:130(binary_op_wrapper)\n",
      "162808/160824    0.302    0.000    8.395    0.000 /home/hemantakumar.phurailatpam/anaconda3/envs/bilby/lib/python3.7/site-packages/sympy/core/cache.py:69(wrapper)\n",
      "    36388    0.059    0.000    8.149    0.000 /home/hemantakumar.phurailatpam/anaconda3/envs/bilby/lib/python3.7/site-packages/sympy/core/expr.py:219(__rmul__)\n",
      "       30    0.003    0.000    8.032    0.268 /home/hemantakumar.phurailatpam/bilby/0PN/hphc4.py:291(xi_l1)\n",
      "    15706    0.229    0.000    7.589    0.000 /home/hemantakumar.phurailatpam/anaconda3/envs/bilby/lib/python3.7/site-packages/sympy/core/operations.py:46(__new__)\n",
      "    15562    0.425    0.000    6.959    0.000 /home/hemantakumar.phurailatpam/anaconda3/envs/bilby/lib/python3.7/site-packages/sympy/core/mul.py:111(flatten)\n",
      "    31174    0.130    0.000    5.594    0.000 /home/hemantakumar.phurailatpam/anaconda3/envs/bilby/lib/python3.7/site-packages/sympy/core/assumptions.py:452(getit)\n",
      "    60449    2.152    0.000    5.104    0.000 /home/hemantakumar.phurailatpam/anaconda3/envs/bilby/lib/python3.7/site-packages/sympy/core/facts.py:499(deduce_all_facts)\n",
      "    30225    0.099    0.000    3.364    0.000 /home/hemantakumar.phurailatpam/anaconda3/envs/bilby/lib/python3.7/site-packages/sympy/core/assumptions.py:464(_ask)\n",
      "       21    0.111    0.005    2.953    0.141 /home/hemantakumar.phurailatpam/bilby/0PN/h1CpxSpx4.py:14(cplus)\n",
      "       21    0.092    0.004    2.190    0.104 /home/hemantakumar.phurailatpam/bilby/0PN/h1CpxSpx4.py:66(splus)\n",
      "  1799237    0.595    0.000    2.127    0.000 {built-in method builtins.all}\n",
      "        1    0.000    0.000    2.110    2.110 /home/hemantakumar.phurailatpam/bilby/0PN/hphc4.py:255(htilde05)\n",
      "       24    0.001    0.000    2.101    0.088 /home/hemantakumar.phurailatpam/bilby/0PN/hphc4.py:217(xi_l05)\n",
      "    30217    0.038    0.000    2.100    0.000 /home/hemantakumar.phurailatpam/anaconda3/envs/bilby/lib/python3.7/site-packages/sympy/core/assumptions.py:436(copy)\n",
      "    30239    0.123    0.000    2.062    0.000 /home/hemantakumar.phurailatpam/anaconda3/envs/bilby/lib/python3.7/site-packages/sympy/core/assumptions.py:424(__init__)\n",
      "112492/96770    0.112    0.000    1.980    0.000 /home/hemantakumar.phurailatpam/anaconda3/envs/bilby/lib/python3.7/site-packages/sympy/core/decorators.py:89(__sympifyit_wrapper)\n",
      "  5166327    1.291    0.000    1.729    0.000 /home/hemantakumar.phurailatpam/anaconda3/envs/bilby/lib/python3.7/site-packages/sympy/core/facts.py:533(<genexpr>)\n",
      "       21    0.081    0.004    1.575    0.075 /home/hemantakumar.phurailatpam/bilby/0PN/h1CpxSpx4.py:152(scross)\n",
      "117824/117644    0.192    0.000    1.406    0.000 /home/hemantakumar.phurailatpam/anaconda3/envs/bilby/lib/python3.7/site-packages/sympy/core/sympify.py:92(sympify)\n",
      "       21    0.069    0.003    1.302    0.062 /home/hemantakumar.phurailatpam/bilby/0PN/h1CpxSpx4.py:110(ccross)\n",
      "    66540    0.205    0.000    1.178    0.000 /home/hemantakumar.phurailatpam/anaconda3/envs/bilby/lib/python3.7/site-packages/sympy/core/numbers.py:1316(__mul__)\n",
      "       18    0.001    0.000    1.101    0.061 /home/hemantakumar.phurailatpam/bilby/0PN/hphc4.py:329(xi_pn)\n",
      "    32298    0.281    0.000    1.092    0.000 /home/hemantakumar.phurailatpam/anaconda3/envs/bilby/lib/python3.7/site-packages/sympy/core/numbers.py:1042(__new__)\n",
      "   129981    0.242    0.000    1.024    0.000 /home/hemantakumar.phurailatpam/anaconda3/envs/bilby/lib/python3.7/site-packages/sympy/core/numbers.py:1202(_new)\n",
      "       22    0.039    0.002    0.839    0.038 /home/hemantakumar.phurailatpam/bilby/0PN/h0CpxSpx4.py:13(cplus)\n",
      "        1    0.000    0.000    0.806    0.806 /home/hemantakumar.phurailatpam/bilby/0PN/hphc4.py:183(htilde0)\n",
      "       18    0.001    0.000    0.800    0.044 /home/hemantakumar.phurailatpam/bilby/0PN/hphc4.py:145(xi_l0)\n",
      "       16    0.042    0.003    0.701    0.044 /home/hemantakumar.phurailatpam/bilby/0PN/h05CpxSpx4.py:13(cplus)\n",
      "       16    0.042    0.003    0.668    0.042 /home/hemantakumar.phurailatpam/bilby/0PN/h05CpxSpx4.py:54(splus)\n",
      "   134973    0.281    0.000    0.600    0.000 /home/hemantakumar.phurailatpam/anaconda3/envs/bilby/lib/python3.7/site-packages/sympy/core/numbers.py:149(mpf_norm)\n",
      "       22    0.027    0.001    0.559    0.025 /home/hemantakumar.phurailatpam/bilby/0PN/h0CpxSpx4.py:62(splus)\n",
      "    16567    0.045    0.000    0.535    0.000 /home/hemantakumar.phurailatpam/anaconda3/envs/bilby/lib/python3.7/site-packages/sympy/core/numbers.py:2209(__mul__)\n",
      "       16    0.034    0.002    0.506    0.032 /home/hemantakumar.phurailatpam/bilby/0PN/h05CpxSpx4.py:114(ccross)\n",
      "  1120481    0.480    0.000    0.480    0.000 /home/hemantakumar.phurailatpam/anaconda3/envs/bilby/lib/python3.7/site-packages/sympy/core/facts.py:482(_tell)\n",
      "  3467132    0.453    0.000    0.453    0.000 {method 'get' of 'dict' objects}\n",
      "    15562    0.031    0.000    0.435    0.000 /home/hemantakumar.phurailatpam/anaconda3/envs/bilby/lib/python3.7/site-packages/sympy/core/numbers.py:1747(__mul__)\n",
      "   219371    0.107    0.000    0.390    0.000 <frozen importlib._bootstrap>:1009(_handle_fromlist)\n",
      "   486637    0.356    0.000    0.356    0.000 {built-in method builtins.hasattr}\n",
      "    24248    0.024    0.000    0.354    0.000 /home/hemantakumar.phurailatpam/anaconda3/envs/bilby/lib/python3.7/site-packages/sympy/core/expr.py:229(__pow__)\n",
      "       22    0.023    0.001    0.345    0.016 /home/hemantakumar.phurailatpam/bilby/0PN/h0CpxSpx4.py:97(ccross)\n",
      "    93186    0.088    0.000    0.315    0.000 /home/hemantakumar.phurailatpam/anaconda3/envs/bilby/lib/python3.7/site-packages/sympy/core/numbers.py:1489(__hash__)\n",
      "    32298    0.081    0.000    0.268    0.000 /home/hemantakumar.phurailatpam/anaconda3/envs/bilby/lib/python3.7/site-packages/mpmath/libmp/libmpf.py:410(from_float)\n",
      "    14477    0.043    0.000    0.260    0.000 /home/hemantakumar.phurailatpam/anaconda3/envs/bilby/lib/python3.7/site-packages/sympy/core/numbers.py:1302(__add__)\n",
      "   860277    0.249    0.000    0.249    0.000 {built-in method builtins.isinstance}\n",
      "    66540    0.139    0.000    0.246    0.000 /home/hemantakumar.phurailatpam/anaconda3/envs/bilby/lib/python3.7/site-packages/mpmath/libmp/libmpf.py:884(python_mpf_mul)\n",
      "    53691    0.088    0.000    0.232    0.000 /home/hemantakumar.phurailatpam/anaconda3/envs/bilby/lib/python3.7/site-packages/mpmath/libmp/libmpf.py:291(from_man_exp)\n",
      "    93346    0.077    0.000    0.227    0.000 /home/hemantakumar.phurailatpam/anaconda3/envs/bilby/lib/python3.7/site-packages/sympy/core/numbers.py:818(__hash__)\n",
      "       16    0.029    0.002    0.218    0.014 /home/hemantakumar.phurailatpam/bilby/0PN/h05CpxSpx4.py:155(scross)\n",
      "   131204    0.160    0.000    0.204    0.000 /home/hemantakumar.phurailatpam/anaconda3/envs/bilby/lib/python3.7/site-packages/sympy/core/basic.py:109(__new__)\n",
      "    10079    0.026    0.000    0.167    0.000 /home/hemantakumar.phurailatpam/anaconda3/envs/bilby/lib/python3.7/site-packages/sympy/core/numbers.py:1309(__sub__)\n",
      "    21384    0.026    0.000    0.158    0.000 /home/hemantakumar.phurailatpam/anaconda3/envs/bilby/lib/python3.7/site-packages/sympy/core/numbers.py:681(_as_mpf_op)\n",
      "    18044    0.064    0.000    0.157    0.000 /home/hemantakumar.phurailatpam/anaconda3/envs/bilby/lib/python3.7/site-packages/sympy/core/numbers.py:1394(__eq__)\n",
      "     5682    0.021    0.000    0.155    0.000 /home/hemantakumar.phurailatpam/anaconda3/envs/bilby/lib/python3.7/site-packages/sympy/core/numbers.py:1323(__truediv__)\n",
      "   190561    0.155    0.000    0.155    0.000 /home/hemantakumar.phurailatpam/anaconda3/envs/bilby/lib/python3.7/site-packages/mpmath/libmp/libmpf.py:153(_normalize)\n",
      "    94901    0.151    0.000    0.151    0.000 /home/hemantakumar.phurailatpam/anaconda3/envs/bilby/lib/python3.7/site-packages/mpmath/libmp/libmpf.py:208(_normalize1)\n",
      "93363/93362    0.117    0.000    0.150    0.000 /home/hemantakumar.phurailatpam/anaconda3/envs/bilby/lib/python3.7/site-packages/sympy/core/expr.py:117(__hash__)\n",
      "   151250    0.146    0.000    0.146    0.000 {method 'update' of 'set' objects}\n",
      "       22    0.020    0.001    0.145    0.007 /home/hemantakumar.phurailatpam/bilby/0PN/h0CpxSpx4.py:132(scross)\n",
      "    24248    0.027    0.000    0.142    0.000 /home/hemantakumar.phurailatpam/anaconda3/envs/bilby/lib/python3.7/site-packages/sympy/core/expr.py:224(_pow)\n",
      "    24556    0.064    0.000    0.140    0.000 /home/hemantakumar.phurailatpam/anaconda3/envs/bilby/lib/python3.7/site-packages/mpmath/libmp/libmpf.py:702(mpf_add)\n",
      "49039/48993    0.055    0.000    0.133    0.000 {built-in method builtins.any}\n",
      "    32298    0.050    0.000    0.122    0.000 /home/hemantakumar.phurailatpam/anaconda3/envs/bilby/lib/python3.7/site-packages/sympy/core/sympify.py:58(_is_numpy_instance)\n",
      "    21384    0.025    0.000    0.116    0.000 /home/hemantakumar.phurailatpam/anaconda3/envs/bilby/lib/python3.7/site-packages/sympy/core/numbers.py:2085(_as_mpf_val)\n",
      "    50414    0.038    0.000    0.103    0.000 /home/hemantakumar.phurailatpam/anaconda3/envs/bilby/lib/python3.7/site-packages/sympy/core/sympify.py:487(_sympify)\n",
      "    67410    0.038    0.000    0.103    0.000 /home/hemantakumar.phurailatpam/anaconda3/envs/bilby/lib/python3.7/site-packages/mpmath/libmp/libintmath.py:83(python_bitcount)\n",
      "    32306    0.050    0.000    0.096    0.000 /home/hemantakumar.phurailatpam/anaconda3/envs/bilby/lib/python3.7/site-packages/mpmath/libmp/libmpf.py:64(dps_to_prec)\n",
      "      189    0.000    0.000    0.093    0.000 /home/hemantakumar.phurailatpam/anaconda3/envs/bilby/lib/python3.7/site-packages/sympy/core/expr.py:199(__radd__)\n",
      "    21410    0.016    0.000    0.091    0.000 /home/hemantakumar.phurailatpam/anaconda3/envs/bilby/lib/python3.7/site-packages/mpmath/libmp/libmpf.py:330(from_int)\n",
      "    75386    0.046    0.000    0.087    0.000 /home/hemantakumar.phurailatpam/anaconda3/envs/bilby/lib/python3.7/site-packages/sympy/core/numbers.py:1253(_as_mpf_op)\n",
      "      144    0.002    0.000    0.087    0.001 /home/hemantakumar.phurailatpam/anaconda3/envs/bilby/lib/python3.7/site-packages/sympy/core/add.py:77(flatten)\n",
      "     18/2    0.000    0.000    0.079    0.040 <frozen importlib._bootstrap>:978(_find_and_load)\n",
      "     18/2    0.000    0.000    0.079    0.040 <frozen importlib._bootstrap>:948(_find_and_load_unlocked)\n",
      "   129940    0.078    0.000    0.078    0.000 {built-in method builtins.max}\n",
      "     18/2    0.000    0.000    0.078    0.039 <frozen importlib._bootstrap>:663(_load_unlocked)\n",
      "     18/2    0.000    0.000    0.078    0.039 <frozen importlib._bootstrap_external>:722(exec_module)\n",
      "     18/2    0.000    0.000    0.073    0.037 <frozen importlib._bootstrap>:211(_call_with_frames_removed)\n",
      "     18/2    0.000    0.000    0.073    0.037 {built-in method builtins.exec}\n",
      "        1    0.000    0.000    0.073    0.073 /home/hemantakumar.phurailatpam/anaconda3/envs/bilby/lib/python3.7/site-packages/sympy/tensor/tensor.py:30(<module>)\n",
      "   186194    0.059    0.000    0.067    0.000 {built-in method builtins.getattr}\n",
      "        1    0.000    0.000    0.067    0.067 /home/hemantakumar.phurailatpam/anaconda3/envs/bilby/lib/python3.7/site-packages/sympy/combinatorics/__init__.py:1(<module>)\n",
      "    15706    0.055    0.000    0.066    0.000 /home/hemantakumar.phurailatpam/anaconda3/envs/bilby/lib/python3.7/site-packages/sympy/core/basic.py:1783(_exec_constructor_postprocessors)\n",
      "    67410    0.065    0.000    0.065    0.000 {built-in method _bisect.bisect_right}\n",
      "    10079    0.007    0.000    0.062    0.000 /home/hemantakumar.phurailatpam/anaconda3/envs/bilby/lib/python3.7/site-packages/mpmath/libmp/libmpf.py:797(mpf_sub)\n",
      "        1    0.001    0.001    0.054    0.054 /home/hemantakumar.phurailatpam/anaconda3/envs/bilby/lib/python3.7/site-packages/sympy/combinatorics/polyhedron.py:1(<module>)\n",
      "    31124    0.040    0.000    0.049    0.000 /home/hemantakumar.phurailatpam/anaconda3/envs/bilby/lib/python3.7/site-packages/sympy/core/mul.py:388(_gather)\n",
      "     4992    0.008    0.000    0.045    0.000 /home/hemantakumar.phurailatpam/anaconda3/envs/bilby/lib/python3.7/site-packages/sympy/core/numbers.py:685(__float__)\n",
      "   131235    0.045    0.000    0.045    0.000 {built-in method __new__ of type object at 0x55f2a529a240}\n",
      "    47118    0.017    0.000    0.040    0.000 /home/hemantakumar.phurailatpam/anaconda3/envs/bilby/lib/python3.7/site-packages/sympy/core/operations.py:59(<genexpr>)\n",
      "    96894    0.036    0.000    0.036    0.000 /home/hemantakumar.phurailatpam/anaconda3/envs/bilby/lib/python3.7/site-packages/sympy/core/sympify.py:64(<genexpr>)\n",
      "    30217    0.018    0.000    0.032    0.000 /home/hemantakumar.phurailatpam/anaconda3/envs/bilby/lib/python3.7/site-packages/sympy/core/assumptions.py:439(generator)\n",
      "     5674    0.015    0.000    0.031    0.000 /home/hemantakumar.phurailatpam/anaconda3/envs/bilby/lib/python3.7/site-packages/mpmath/libmp/libmpf.py:950(mpf_div)\n",
      "    32298    0.030    0.000    0.030    0.000 {built-in method math.frexp}\n",
      "    15562    0.014    0.000    0.027    0.000 /home/hemantakumar.phurailatpam/anaconda3/envs/bilby/lib/python3.7/site-packages/sympy/core/mul.py:30(_mulsort)\n",
      "    32314    0.026    0.000    0.026    0.000 {built-in method builtins.round}\n",
      "     4992    0.005    0.000    0.026    0.000 /home/hemantakumar.phurailatpam/anaconda3/envs/bilby/lib/python3.7/site-packages/sympy/core/numbers.py:1247(_as_mpf_val)\n",
      "       72    0.021    0.000    0.024    0.000 /home/hemantakumar.phurailatpam/bilby/0PN/hphc4.py:105(psi_l)\n",
      "   186012    0.024    0.000    0.024    0.000 {method 'items' of 'dict' objects}\n",
      "       90    0.020    0.000    0.024    0.000 /home/hemantakumar.phurailatpam/bilby/0PN/hphc4.py:67(eccn)\n",
      "        5    0.000    0.000    0.024    0.005 /home/hemantakumar.phurailatpam/anaconda3/envs/bilby/lib/python3.7/site-packages/sympy/combinatorics/polyhedron.py:30(__new__)\n",
      "74098/73197    0.023    0.000    0.023    0.000 {built-in method builtins.hash}\n",
      "   121157    0.022    0.000    0.022    0.000 {method 'append' of 'list' objects}\n",
      "    32853    0.016    0.000    0.022    0.000 /home/hemantakumar.phurailatpam/anaconda3/envs/bilby/lib/python3.7/site-packages/sympy/core/numbers.py:2293(__hash__)\n",
      "      367    0.001    0.000    0.020    0.000 /home/hemantakumar.phurailatpam/anaconda3/envs/bilby/lib/python3.7/site-packages/sympy/combinatorics/permutations.py:1554(__call__)\n",
      "    47118    0.013    0.000    0.019    0.000 /home/hemantakumar.phurailatpam/anaconda3/envs/bilby/lib/python3.7/site-packages/sympy/core/operations.py:63(<genexpr>)\n",
      "116247/116242    0.018    0.000    0.018    0.000 {built-in method builtins.len}\n",
      "    30124    0.017    0.000    0.017    0.000 /home/hemantakumar.phurailatpam/anaconda3/envs/bilby/lib/python3.7/site-packages/sympy/core/numbers.py:1293(_eval_is_zero)\n",
      "    15707    0.013    0.000    0.017    0.000 /home/hemantakumar.phurailatpam/anaconda3/envs/bilby/lib/python3.7/site-packages/sympy/core/operations.py:94(_from_args)\n",
      "    30239    0.016    0.000    0.016    0.000 /home/hemantakumar.phurailatpam/anaconda3/envs/bilby/lib/python3.7/site-packages/sympy/core/facts.py:479(__init__)\n",
      "    39793    0.016    0.000    0.016    0.000 /home/hemantakumar.phurailatpam/anaconda3/envs/bilby/lib/python3.7/site-packages/sympy/core/numbers.py:1226(_hashable_content)\n",
      "       21    0.001    0.000    0.016    0.001 /home/hemantakumar.phurailatpam/anaconda3/envs/bilby/lib/python3.7/site-packages/sympy/sets/sets.py:1751(__new__)\n",
      "    15706    0.015    0.000    0.015    0.000 /home/hemantakumar.phurailatpam/anaconda3/envs/bilby/lib/python3.7/site-packages/sympy/core/operations.py:78(<listcomp>)\n",
      "       18    0.000    0.000    0.015    0.001 <frozen importlib._bootstrap_external>:793(get_code)\n",
      "        8    0.000    0.000    0.014    0.002 /home/hemantakumar.phurailatpam/anaconda3/envs/bilby/lib/python3.7/site-packages/sympy/core/function.py:450(__new__)\n",
      "    30224    0.013    0.000    0.013    0.000 {method 'copy' of 'dict' objects}\n",
      "    15706    0.013    0.000    0.013    0.000 {method 'sort' of 'list' objects}\n",
      "  394/174    0.002    0.000    0.013    0.000 /home/hemantakumar.phurailatpam/anaconda3/envs/bilby/lib/python3.7/site-packages/sympy/core/compatibility.py:570(ordered)\n",
      "      465    0.001    0.000    0.012    0.000 /home/hemantakumar.phurailatpam/anaconda3/envs/bilby/lib/python3.7/site-packages/sympy/combinatorics/permutations.py:831(__new__)\n",
      "        8    0.000    0.000    0.011    0.001 /home/hemantakumar.phurailatpam/anaconda3/envs/bilby/lib/python3.7/site-packages/sympy/core/function.py:270(__new__)\n",
      "     4992    0.005    0.000    0.011    0.000 /home/hemantakumar.phurailatpam/anaconda3/envs/bilby/lib/python3.7/site-packages/mpmath/libmp/libmpf.py:454(to_float)\n",
      "    15706    0.011    0.000    0.011    0.000 {method 'insert' of 'list' objects}\n",
      "    19058    0.011    0.000    0.011    0.000 /home/hemantakumar.phurailatpam/anaconda3/envs/bilby/lib/python3.7/site-packages/sympy/core/numbers.py:1296(__bool__)\n",
      "       18    0.002    0.000    0.010    0.001 <frozen importlib._bootstrap_external>:523(_compile_bytecode)\n",
      "      252    0.010    0.000    0.010    0.000 /home/hemantakumar.phurailatpam/bilby/0PN/hphc4.py:52(k_)\n",
      "     5674    0.004    0.000    0.009    0.000 /home/hemantakumar.phurailatpam/anaconda3/envs/bilby/lib/python3.7/site-packages/sympy/core/numbers.py:2254(__ne__)\n",
      "    16997    0.008    0.000    0.008    0.000 /home/hemantakumar.phurailatpam/anaconda3/envs/bilby/lib/python3.7/site-packages/sympy/core/basic.py:708(args)\n",
      "    50431    0.008    0.000    0.008    0.000 /home/hemantakumar.phurailatpam/anaconda3/envs/bilby/lib/python3.7/site-packages/sympy/core/core.py:71(<lambda>)\n",
      "      459    0.001    0.000    0.008    0.000 /home/hemantakumar.phurailatpam/anaconda3/envs/bilby/lib/python3.7/site-packages/sympy/combinatorics/permutations.py:350(list)\n",
      "       18    0.008    0.000    0.008    0.000 {built-in method marshal.loads}\n",
      "      903    0.002    0.000    0.008    0.000 /home/hemantakumar.phurailatpam/anaconda3/envs/bilby/lib/python3.7/site-packages/sympy/core/numbers.py:1299(__neg__)\n",
      "        4    0.000    0.000    0.007    0.002 /home/hemantakumar.phurailatpam/anaconda3/envs/bilby/lib/python3.7/site-packages/sympy/functions/elementary/trigonometric.py:565(eval)\n",
      "    31519    0.007    0.000    0.007    0.000 {method 'extend' of 'list' objects}\n",
      "      380    0.002    0.000    0.007    0.000 /home/hemantakumar.phurailatpam/anaconda3/envs/bilby/lib/python3.7/site-packages/sympy/core/compatibility.py:386(default_sort_key)\n",
      "      459    0.001    0.000    0.007    0.000 /home/hemantakumar.phurailatpam/anaconda3/envs/bilby/lib/python3.7/site-packages/sympy/combinatorics/permutations.py:429(__init__)\n",
      "        5    0.000    0.000    0.006    0.001 /home/hemantakumar.phurailatpam/anaconda3/envs/bilby/lib/python3.7/site-packages/sympy/combinatorics/polyhedron.py:382(<listcomp>)\n",
      "       50    0.000    0.000    0.006    0.000 /home/hemantakumar.phurailatpam/anaconda3/envs/bilby/lib/python3.7/site-packages/sympy/utilities/iterables.py:2401(minlex)\n",
      "       24    0.000    0.000    0.006    0.000 /home/hemantakumar.phurailatpam/anaconda3/envs/bilby/lib/python3.7/site-packages/sympy/core/expr.py:2155(extract_multiplicatively)\n",
      "       31    0.001    0.000    0.006    0.000 {built-in method builtins.__build_class__}\n",
      "     6795    0.005    0.000    0.006    0.000 /home/hemantakumar.phurailatpam/anaconda3/envs/bilby/lib/python3.7/site-packages/sympy/core/numbers.py:2247(__eq__)\n",
      "      459    0.002    0.000    0.006    0.000 /home/hemantakumar.phurailatpam/anaconda3/envs/bilby/lib/python3.7/site-packages/sympy/combinatorics/permutations.py:381(<listcomp>)\n",
      "     4992    0.006    0.000    0.006    0.000 {built-in method math.ldexp}\n",
      "       63    0.000    0.000    0.006    0.000 /home/hemantakumar.phurailatpam/anaconda3/envs/bilby/lib/python3.7/site-packages/sympy/core/expr.py:209(__rsub__)\n",
      "        1    0.000    0.000    0.004    0.004 /home/hemantakumar.phurailatpam/anaconda3/envs/bilby/lib/python3.7/site-packages/sympy/combinatorics/perm_groups.py:1(<module>)\n",
      "    15562    0.004    0.000    0.004    0.000 /home/hemantakumar.phurailatpam/anaconda3/envs/bilby/lib/python3.7/site-packages/sympy/core/mul.py:476(<listcomp>)\n",
      "       18    0.000    0.000    0.004    0.000 <frozen importlib._bootstrap>:882(_find_spec)\n",
      "      148    0.000    0.000    0.004    0.000 /home/hemantakumar.phurailatpam/anaconda3/envs/bilby/lib/python3.7/site-packages/sympy/core/numbers.py:2168(__add__)\n",
      "      367    0.002    0.000    0.004    0.000 /home/hemantakumar.phurailatpam/anaconda3/envs/bilby/lib/python3.7/site-packages/sympy/combinatorics/permutations.py:1247(__mul__)\n",
      "       22    0.002    0.000    0.004    0.000 /home/hemantakumar.phurailatpam/anaconda3/envs/bilby/lib/python3.7/site-packages/sympy/core/assumptions.py:526(__init__)\n",
      "       69    0.000    0.000    0.004    0.000 {built-in method builtins.min}\n",
      "        8    0.000    0.000    0.004    0.001 /home/hemantakumar.phurailatpam/anaconda3/envs/bilby/lib/python3.7/site-packages/sympy/core/expr.py:2417(could_extract_minus_sign)\n",
      "       18    0.000    0.000    0.004    0.000 <frozen importlib._bootstrap_external>:1272(find_spec)\n",
      "       18    0.000    0.000    0.004    0.000 <frozen importlib._bootstrap_external>:1240(_get_spec)\n",
      "      100    0.000    0.000    0.004    0.000 /home/hemantakumar.phurailatpam/anaconda3/envs/bilby/lib/python3.7/site-packages/sympy/core/compatibility.py:548(_nodes)\n",
      "       18    0.000    0.000    0.004    0.000 <frozen importlib._bootstrap_external>:1356(find_spec)\n",
      "       18    0.003    0.000    0.004    0.000 <frozen importlib._bootstrap_external>:914(get_data)\n",
      "     4952    0.001    0.000    0.004    0.000 /home/hemantakumar.phurailatpam/anaconda3/envs/bilby/lib/python3.7/site-packages/sympy/combinatorics/permutations.py:316(__missing__)\n",
      "        1    0.000    0.000    0.003    0.003 /home/hemantakumar.phurailatpam/anaconda3/envs/bilby/lib/python3.7/site-packages/sympy/combinatorics/permutations.py:1(<module>)\n",
      "      144    0.000    0.000    0.003    0.000 /home/hemantakumar.phurailatpam/anaconda3/envs/bilby/lib/python3.7/site-packages/sympy/core/numbers.py:1708(__add__)\n",
      "      459    0.001    0.000    0.003    0.000 /home/hemantakumar.phurailatpam/anaconda3/envs/bilby/lib/python3.7/site-packages/sympy/utilities/iterables.py:2029(has_dups)\n",
      "    15562    0.003    0.000    0.003    0.000 /home/hemantakumar.phurailatpam/anaconda3/envs/bilby/lib/python3.7/site-packages/sympy/core/mul.py:574(<listcomp>)\n",
      "    15564    0.003    0.000    0.003    0.000 /home/hemantakumar.phurailatpam/anaconda3/envs/bilby/lib/python3.7/site-packages/sympy/core/numbers.py:2645(__bool__)\n",
      "       58    0.000    0.000    0.003    0.000 <frozen importlib._bootstrap_external>:74(_path_stat)\n",
      "       58    0.003    0.000    0.003    0.000 {built-in method posix.stat}\n",
      "        4    0.000    0.000    0.003    0.001 /home/hemantakumar.phurailatpam/anaconda3/envs/bilby/lib/python3.7/site-packages/sympy/functions/elementary/trigonometric.py:266(eval)\n",
      "      100    0.000    0.000    0.003    0.000 /home/hemantakumar.phurailatpam/anaconda3/envs/bilby/lib/python3.7/site-packages/sympy/core/basic.py:1514(count)\n",
      "5018/5014    0.003    0.000    0.003    0.000 {built-in method builtins.divmod}\n",
      "        1    0.000    0.000    0.003    0.003 /home/hemantakumar.phurailatpam/anaconda3/envs/bilby/lib/python3.7/site-packages/sympy/multipledispatch/core.py:58(_)\n",
      "     6116    0.002    0.000    0.003    0.000 /home/hemantakumar.phurailatpam/anaconda3/envs/bilby/lib/python3.7/site-packages/sympy/core/compatibility.py:319(as_int)\n",
      "       21    0.000    0.000    0.003    0.000 <frozen importlib._bootstrap_external>:93(_path_isfile)\n",
      "       62    0.001    0.000    0.003    0.000 {built-in method builtins.sorted}\n",
      "       22    0.000    0.000    0.003    0.000 <frozen importlib._bootstrap_external>:84(_path_is_mode_type)\n",
      "        8    0.000    0.000    0.002    0.000 /home/hemantakumar.phurailatpam/anaconda3/envs/bilby/lib/python3.7/site-packages/sympy/core/expr.py:1643(as_coefficient)\n",
      "        1    0.000    0.000    0.002    0.002 /home/hemantakumar.phurailatpam/anaconda3/envs/bilby/lib/python3.7/site-packages/sympy/multipledispatch/dispatcher.py:178(add)\n",
      "        1    0.000    0.000    0.002    0.002 /home/hemantakumar.phurailatpam/anaconda3/envs/bilby/lib/python3.7/site-packages/sympy/multipledispatch/dispatcher.py:222(reorder)\n",
      "      100    0.000    0.000    0.002    0.000 {built-in method builtins.sum}\n",
      "      817    0.000    0.000    0.002    0.000 /home/hemantakumar.phurailatpam/anaconda3/envs/bilby/lib/python3.7/site-packages/sympy/core/basic.py:2036(__next__)\n",
      "      927    0.001    0.000    0.002    0.000 /home/hemantakumar.phurailatpam/anaconda3/envs/bilby/lib/python3.7/site-packages/sympy/combinatorics/permutations.py:957(_af_new)\n",
      "        8    0.000    0.000    0.002    0.000 /home/hemantakumar.phurailatpam/anaconda3/envs/bilby/lib/python3.7/site-packages/sympy/core/numbers.py:771(__truediv__)\n",
      "      560    0.000    0.000    0.002    0.000 /home/hemantakumar.phurailatpam/anaconda3/envs/bilby/lib/python3.7/site-packages/sympy/core/basic.py:1517(<genexpr>)\n",
      "   134/84    0.000    0.000    0.002    0.000 /home/hemantakumar.phurailatpam/anaconda3/envs/bilby/lib/python3.7/site-packages/sympy/core/containers.py:48(__new__)\n",
      "        8    0.000    0.000    0.002    0.000 /home/hemantakumar.phurailatpam/anaconda3/envs/bilby/lib/python3.7/site-packages/sympy/core/expr.py:251(__truediv__)\n",
      "       66    0.000    0.000    0.002    0.000 /home/hemantakumar.phurailatpam/anaconda3/envs/bilby/lib/python3.7/site-packages/sympy/core/basic.py:513(as_dummy)\n",
      "      817    0.000    0.000    0.002    0.000 {built-in method builtins.next}\n",
      "        5    0.000    0.000    0.002    0.000 /home/hemantakumar.phurailatpam/anaconda3/envs/bilby/lib/python3.7/site-packages/sympy/combinatorics/perm_groups.py:123(__new__)\n",
      "     1004    0.001    0.000    0.002    0.000 /home/hemantakumar.phurailatpam/anaconda3/envs/bilby/lib/python3.7/site-packages/sympy/core/numbers.py:838(as_coeff_Mul)\n",
      "  892/662    0.000    0.000    0.002    0.000 /home/hemantakumar.phurailatpam/anaconda3/envs/bilby/lib/python3.7/site-packages/sympy/core/containers.py:50(<genexpr>)\n",
      " 1867/817    0.001    0.000    0.002    0.000 /home/hemantakumar.phurailatpam/anaconda3/envs/bilby/lib/python3.7/site-packages/sympy/core/basic.py:1992(_preorder_traversal)\n",
      "       46    0.000    0.000    0.001    0.000 /home/hemantakumar.phurailatpam/anaconda3/envs/bilby/lib/python3.7/site-packages/sympy/core/basic.py:1163(has)\n",
      "      266    0.000    0.000    0.001    0.000 /home/hemantakumar.phurailatpam/anaconda3/envs/bilby/lib/python3.7/site-packages/sympy/core/numbers.py:2266(__lt__)\n",
      "       92    0.000    0.000    0.001    0.000 /home/hemantakumar.phurailatpam/anaconda3/envs/bilby/lib/python3.7/site-packages/sympy/core/basic.py:1210(<genexpr>)\n",
      "       46    0.000    0.000    0.001    0.000 /home/hemantakumar.phurailatpam/anaconda3/envs/bilby/lib/python3.7/site-packages/sympy/core/basic.py:1212(_has)\n",
      "     1766    0.001    0.000    0.001    0.000 <frozen importlib._bootstrap>:416(parent)\n",
      "        8    0.000    0.000    0.001    0.000 /home/hemantakumar.phurailatpam/anaconda3/envs/bilby/lib/python3.7/site-packages/sympy/core/evalf.py:1384(evalf)\n",
      "        1    0.000    0.000    0.001    0.001 /home/hemantakumar.phurailatpam/anaconda3/envs/bilby/lib/python3.7/site-packages/sympy/combinatorics/pc_groups.py:1(<module>)\n",
      "        1    0.000    0.000    0.001    0.001 /home/hemantakumar.phurailatpam/anaconda3/envs/bilby/lib/python3.7/site-packages/sympy/multipledispatch/conflict.py:56(ordering)\n",
      "        1    0.000    0.000    0.001    0.001 /home/hemantakumar.phurailatpam/anaconda3/envs/bilby/lib/python3.7/site-packages/sympy/multipledispatch/conflict.py:24(ambiguities)\n",
      "        1    0.000    0.000    0.001    0.001 /home/hemantakumar.phurailatpam/anaconda3/envs/bilby/lib/python3.7/site-packages/sympy/multipledispatch/conflict.py:27(<setcomp>)\n",
      "      459    0.000    0.000    0.001    0.000 /home/hemantakumar.phurailatpam/anaconda3/envs/bilby/lib/python3.7/site-packages/sympy/combinatorics/permutations.py:451(<listcomp>)\n",
      "      162    0.001    0.000    0.001    0.000 {method 'astype' of 'numpy.generic' objects}\n",
      "        1    0.000    0.000    0.001    0.001 /home/hemantakumar.phurailatpam/anaconda3/envs/bilby/lib/python3.7/site-packages/sympy/combinatorics/subsets.py:1(<module>)\n",
      "      257    0.000    0.000    0.001    0.000 /home/hemantakumar.phurailatpam/anaconda3/envs/bilby/lib/python3.7/site-packages/sympy/core/basic.py:1221(<genexpr>)\n",
      "        5    0.000    0.000    0.001    0.000 /home/hemantakumar.phurailatpam/anaconda3/envs/bilby/lib/python3.7/site-packages/sympy/combinatorics/polyhedron.py:384(<listcomp>)\n",
      "        8    0.000    0.000    0.001    0.000 /home/hemantakumar.phurailatpam/anaconda3/envs/bilby/lib/python3.7/site-packages/sympy/core/function.py:214(nargs)\n",
      "     17/8    0.000    0.000    0.001    0.000 /home/hemantakumar.phurailatpam/anaconda3/envs/bilby/lib/python3.7/site-packages/sympy/core/evalf.py:1321(evalf)\n",
      "        1    0.000    0.000    0.001    0.001 /home/hemantakumar.phurailatpam/anaconda3/envs/bilby/lib/python3.7/site-packages/sympy/multipledispatch/conflict.py:62(<listcomp>)\n",
      "      237    0.001    0.000    0.001    0.000 {built-in method numpy.zeros}\n",
      "        8    0.000    0.000    0.001    0.000 /home/hemantakumar.phurailatpam/anaconda3/envs/bilby/lib/python3.7/site-packages/sympy/core/evalf.py:781(evalf_trig)\n",
      "      253    0.000    0.000    0.001    0.000 /home/hemantakumar.phurailatpam/anaconda3/envs/bilby/lib/python3.7/site-packages/sympy/multipledispatch/conflict.py:19(ambiguous)\n",
      "      529    0.000    0.000    0.001    0.000 /home/hemantakumar.phurailatpam/anaconda3/envs/bilby/lib/python3.7/site-packages/sympy/multipledispatch/conflict.py:43(edge)\n",
      "      250    0.000    0.000    0.001    0.000 /home/hemantakumar.phurailatpam/anaconda3/envs/bilby/lib/python3.7/site-packages/sympy/core/containers.py:104(__hash__)\n",
      "      143    0.000    0.000    0.001    0.000 /home/hemantakumar.phurailatpam/anaconda3/envs/bilby/lib/python3.7/site-packages/sympy/core/numbers.py:2257(__gt__)\n",
      "       18    0.000    0.000    0.001    0.000 <frozen importlib._bootstrap>:576(module_from_spec)\n",
      "      648    0.000    0.000    0.001    0.000 /home/hemantakumar.phurailatpam/anaconda3/envs/bilby/lib/python3.7/site-packages/sympy/multipledispatch/conflict.py:7(supercedes)\n",
      "       45    0.000    0.000    0.001    0.000 /home/hemantakumar.phurailatpam/anaconda3/envs/bilby/lib/python3.7/site-packages/sympy/core/basic.py:281(sort_key)\n",
      "        3    0.000    0.000    0.001    0.000 /home/hemantakumar.phurailatpam/anaconda3/envs/bilby/lib/python3.7/site-packages/sympy/core/power.py:269(__new__)\n",
      "      253    0.000    0.000    0.001    0.000 /home/hemantakumar.phurailatpam/anaconda3/envs/bilby/lib/python3.7/site-packages/sympy/multipledispatch/conflict.py:12(consistent)\n",
      "        5    0.000    0.000    0.001    0.000 /home/hemantakumar.phurailatpam/anaconda3/envs/bilby/lib/python3.7/site-packages/sympy/combinatorics/perm_groups.py:143(<listcomp>)\n",
      "       18    0.000    0.000    0.001    0.000 <frozen importlib._bootstrap>:504(_init_module_attrs)\n",
      "        9    0.000    0.000    0.001    0.000 /home/hemantakumar.phurailatpam/anaconda3/envs/bilby/lib/python3.7/site-packages/mpmath/libmp/libelefun.py:1299(mpf_cos_sin)\n",
      "      459    0.000    0.000    0.001    0.000 /home/hemantakumar.phurailatpam/anaconda3/envs/bilby/lib/python3.7/site-packages/sympy/utilities/iterables.py:2050(<genexpr>)\n",
      "        1    0.000    0.000    0.001    0.001 /home/hemantakumar.phurailatpam/anaconda3/envs/bilby/lib/python3.7/site-packages/sympy/multipledispatch/core.py:75(ismethod)\n",
      "      117    0.000    0.000    0.001    0.000 /home/hemantakumar.phurailatpam/anaconda3/envs/bilby/lib/python3.7/site-packages/sympy/core/numbers.py:2091(__new__)\n",
      "        1    0.000    0.000    0.001    0.001 /home/hemantakumar.phurailatpam/anaconda3/envs/bilby/lib/python3.7/site-packages/sympy/sets/setexpr.py:1(<module>)\n",
      "      100    0.000    0.000    0.001    0.000 /home/hemantakumar.phurailatpam/anaconda3/envs/bilby/lib/python3.7/site-packages/sympy/core/basic.py:2043(_make_find_query)\n",
      "       18    0.001    0.000    0.001    0.000 {method 'read' of '_io.FileIO' objects}\n",
      "     6116    0.000    0.000    0.000    0.000 {built-in method _operator.index}\n",
      "       50    0.000    0.000    0.000    0.000 /home/hemantakumar.phurailatpam/anaconda3/envs/bilby/lib/python3.7/site-packages/sympy/core/containers.py:145(<lambda>)\n",
      "     1891    0.000    0.000    0.000    0.000 {method 'rpartition' of 'str' objects}\n",
      "        1    0.000    0.000    0.000    0.000 /home/hemantakumar.phurailatpam/anaconda3/envs/bilby/lib/python3.7/inspect.py:3081(signature)\n",
      "     1546    0.000    0.000    0.000    0.000 /home/hemantakumar.phurailatpam/anaconda3/envs/bilby/lib/python3.7/site-packages/sympy/core/assumptions.py:444(as_property)\n",
      "      100    0.000    0.000    0.000    0.000 /home/hemantakumar.phurailatpam/anaconda3/envs/bilby/lib/python3.7/site-packages/sympy/utilities/iterables.py:2075(uniq)\n",
      "      903    0.000    0.000    0.000    0.000 /home/hemantakumar.phurailatpam/anaconda3/envs/bilby/lib/python3.7/site-packages/mpmath/libmp/libmpf.py:663(mpf_neg)\n",
      "        4    0.000    0.000    0.000    0.000 /home/hemantakumar.phurailatpam/anaconda3/envs/bilby/lib/python3.7/site-packages/mpmath/libmp/libelefun.py:1378(mpf_cos)\n",
      "      168    0.000    0.000    0.000    0.000 {method 'pop' of 'dict' objects}\n",
      "        1    0.000    0.000    0.000    0.000 /home/hemantakumar.phurailatpam/anaconda3/envs/bilby/lib/python3.7/site-packages/sympy/combinatorics/partitions.py:1(<module>)\n",
      "        1    0.000    0.000    0.000    0.000 /home/hemantakumar.phurailatpam/anaconda3/envs/bilby/lib/python3.7/inspect.py:2829(from_callable)\n",
      "        3    0.000    0.000    0.000    0.000 /home/hemantakumar.phurailatpam/anaconda3/envs/bilby/lib/python3.7/site-packages/sympy/core/function.py:62(_coeff_isneg)\n",
      "      367    0.000    0.000    0.000    0.000 /home/hemantakumar.phurailatpam/anaconda3/envs/bilby/lib/python3.7/site-packages/sympy/combinatorics/permutations.py:1309(<listcomp>)\n",
      "       45    0.000    0.000    0.000    0.000 /home/hemantakumar.phurailatpam/anaconda3/envs/bilby/lib/python3.7/site-packages/sympy/core/basic.py:309(<listcomp>)\n",
      "        1    0.000    0.000    0.000    0.000 /home/hemantakumar.phurailatpam/anaconda3/envs/bilby/lib/python3.7/inspect.py:2198(_signature_from_callable)\n",
      "       36    0.000    0.000    0.000    0.000 <frozen importlib._bootstrap_external>:271(cache_from_source)\n",
      "     1019    0.000    0.000    0.000    0.000 /home/hemantakumar.phurailatpam/anaconda3/envs/bilby/lib/python3.7/site-packages/sympy/combinatorics/permutations.py:988(array_form)\n",
      "       16    0.000    0.000    0.000    0.000 /home/hemantakumar.phurailatpam/anaconda3/envs/bilby/lib/python3.7/site-packages/sympy/core/numbers.py:1274(_eval_is_positive)\n",
      "      165    0.000    0.000    0.000    0.000 /home/hemantakumar.phurailatpam/anaconda3/envs/bilby/lib/python3.7/site-packages/sympy/core/basic.py:302(inner_key)\n",
      "        5    0.000    0.000    0.000    0.000 /home/hemantakumar.phurailatpam/anaconda3/envs/bilby/lib/python3.7/site-packages/sympy/combinatorics/perm_groups.py:145(<listcomp>)\n",
      "        1    0.000    0.000    0.000    0.000 /home/hemantakumar.phurailatpam/anaconda3/envs/bilby/lib/python3.7/site-packages/sympy/combinatorics/tensor_can.py:1(<module>)\n",
      "       36    0.000    0.000    0.000    0.000 <frozen importlib._bootstrap>:403(cached)\n",
      "       95    0.000    0.000    0.000    0.000 /home/hemantakumar.phurailatpam/anaconda3/envs/bilby/lib/python3.7/site-packages/sympy/combinatorics/permutations.py:1977(is_identity)\n",
      "      160    0.000    0.000    0.000    0.000 /home/hemantakumar.phurailatpam/anaconda3/envs/bilby/lib/python3.7/site-packages/sympy/core/numbers.py:2963(__hash__)\n",
      "      109    0.000    0.000    0.000    0.000 <frozen importlib._bootstrap_external>:56(_path_join)\n",
      "       18    0.000    0.000    0.000    0.000 <frozen importlib._bootstrap_external>:369(_get_cached)\n",
      "        5    0.000    0.000    0.000    0.000 /home/hemantakumar.phurailatpam/anaconda3/envs/bilby/lib/python3.7/abc.py:125(__new__)\n",
      "        9    0.000    0.000    0.000    0.000 /home/hemantakumar.phurailatpam/anaconda3/envs/bilby/lib/python3.7/site-packages/mpmath/libmp/libelefun.py:1122(cos_sin_basecase)\n",
      "     1623    0.000    0.000    0.000    0.000 /home/hemantakumar.phurailatpam/anaconda3/envs/bilby/lib/python3.7/site-packages/sympy/combinatorics/permutations.py:452(<genexpr>)\n",
      "       18    0.000    0.000    0.000    0.000 <frozen importlib._bootstrap>:147(__enter__)\n",
      "       95    0.000    0.000    0.000    0.000 /home/hemantakumar.phurailatpam/anaconda3/envs/bilby/lib/python3.7/site-packages/sympy/combinatorics/permutations.py:1981(is_Identity)\n",
      "       90    0.000    0.000    0.000    0.000 /home/hemantakumar.phurailatpam/bilby/0PN/hphc4.py:45(uniarray)\n",
      "      366    0.000    0.000    0.000    0.000 {built-in method builtins.setattr}\n",
      "      367    0.000    0.000    0.000    0.000 /home/hemantakumar.phurailatpam/anaconda3/envs/bilby/lib/python3.7/site-packages/sympy/combinatorics/permutations.py:377(<listcomp>)\n",
      "        1    0.000    0.000    0.000    0.000 /home/hemantakumar.phurailatpam/anaconda3/envs/bilby/lib/python3.7/inspect.py:2117(_signature_from_function)\n",
      "      555    0.000    0.000    0.000    0.000 /home/hemantakumar.phurailatpam/anaconda3/envs/bilby/lib/python3.7/site-packages/sympy/multipledispatch/conflict.py:15(<genexpr>)\n",
      "       18    0.000    0.000    0.000    0.000 <frozen importlib._bootstrap_external>:951(path_stats)\n",
      "      683    0.000    0.000    0.000    0.000 {method 'get' of 'mappingproxy' objects}\n",
      "      190    0.000    0.000    0.000    0.000 /home/hemantakumar.phurailatpam/anaconda3/envs/bilby/lib/python3.7/site-packages/sympy/core/basic.py:134(__hash__)\n",
      "     1288    0.000    0.000    0.000    0.000 {method 'add' of 'set' objects}\n",
      "       33    0.000    0.000    0.000    0.000 /home/hemantakumar.phurailatpam/anaconda3/envs/bilby/lib/python3.7/functools.py:37(update_wrapper)\n",
      "       26    0.000    0.000    0.000    0.000 /home/hemantakumar.phurailatpam/anaconda3/envs/bilby/lib/python3.7/site-packages/mpmath/ctx_mp_python.py:167(_cmp)\n",
      "        1    0.000    0.000    0.000    0.000 /home/hemantakumar.phurailatpam/anaconda3/envs/bilby/lib/python3.7/site-packages/sympy/combinatorics/graycode.py:1(<module>)\n",
      "        1    0.000    0.000    0.000    0.000 /home/hemantakumar.phurailatpam/anaconda3/envs/bilby/lib/python3.7/site-packages/sympy/sets/setexpr.py:6(SetExpr)\n",
      "      460    0.000    0.000    0.000    0.000 /home/hemantakumar.phurailatpam/anaconda3/envs/bilby/lib/python3.7/site-packages/sympy/core/basic.py:2050(<lambda>)\n",
      "      144    0.000    0.000    0.000    0.000 /home/hemantakumar.phurailatpam/anaconda3/envs/bilby/lib/python3.7/site-packages/sympy/core/add.py:17(_addsort)\n",
      "     1297    0.000    0.000    0.000    0.000 /home/hemantakumar.phurailatpam/anaconda3/envs/bilby/lib/python3.7/site-packages/sympy/combinatorics/permutations.py:1538(__iter__)\n",
      "       26    0.000    0.000    0.000    0.000 /home/hemantakumar.phurailatpam/anaconda3/envs/bilby/lib/python3.7/site-packages/sympy/core/numbers.py:1243(num)\n",
      "        1    0.000    0.000    0.000    0.000 /home/hemantakumar.phurailatpam/anaconda3/envs/bilby/lib/python3.7/site-packages/sympy/combinatorics/prufer.py:1(<module>)\n",
      "       18    0.000    0.000    0.000    0.000 /home/hemantakumar.phurailatpam/anaconda3/envs/bilby/lib/python3.7/site-packages/sympy/core/numbers.py:1873(__eq__)\n",
      "       18    0.000    0.000    0.000    0.000 <frozen importlib._bootstrap_external>:1351(_get_spec)\n",
      "        3    0.000    0.000    0.000    0.000 /home/hemantakumar.phurailatpam/anaconda3/envs/bilby/lib/python3.7/site-packages/mpmath/libmp/libelefun.py:1011(exponential_series)\n",
      "       20    0.000    0.000    0.000    0.000 <frozen importlib._bootstrap>:157(_get_module_lock)\n",
      "      139    0.000    0.000    0.000    0.000 /home/hemantakumar.phurailatpam/anaconda3/envs/bilby/lib/python3.7/site-packages/sympy/core/containers.py:66(__iter__)\n",
      "       16    0.000    0.000    0.000    0.000 /home/hemantakumar.phurailatpam/anaconda3/envs/bilby/lib/python3.7/site-packages/mpmath/ctx_mp_python.py:178(__gt__)\n",
      "        9    0.000    0.000    0.000    0.000 /home/hemantakumar.phurailatpam/anaconda3/envs/bilby/lib/python3.7/site-packages/mpmath/libmp/libelefun.py:1263(mod_pi2)\n",
      "        1    0.000    0.000    0.000    0.000 /home/hemantakumar.phurailatpam/anaconda3/envs/bilby/lib/python3.7/site-packages/sympy/combinatorics/free_groups.py:1(<module>)\n",
      "        5    0.000    0.000    0.000    0.000 /home/hemantakumar.phurailatpam/anaconda3/envs/bilby/lib/python3.7/site-packages/mpmath/libmp/libelefun.py:1379(mpf_sin)\n",
      "      109    0.000    0.000    0.000    0.000 <frozen importlib._bootstrap_external>:58(<listcomp>)\n",
      "       92    0.000    0.000    0.000    0.000 /home/hemantakumar.phurailatpam/anaconda3/envs/bilby/lib/python3.7/site-packages/sympy/combinatorics/permutations.py:459(size)\n",
      "       26    0.000    0.000    0.000    0.000 /home/hemantakumar.phurailatpam/anaconda3/envs/bilby/lib/python3.7/site-packages/mpmath/ctx_mp_python.py:47(__new__)\n",
      "       66    0.000    0.000    0.000    0.000 /home/hemantakumar.phurailatpam/anaconda3/envs/bilby/lib/python3.7/site-packages/sympy/sets/sets.py:74(_infimum_key)\n",
      "        4    0.000    0.000    0.000    0.000 /home/hemantakumar.phurailatpam/anaconda3/envs/bilby/lib/python3.7/site-packages/sympy/core/numbers.py:2146(__divmod__)\n",
      "        7    0.000    0.000    0.000    0.000 /home/hemantakumar.phurailatpam/anaconda3/envs/bilby/lib/python3.7/site-packages/sympy/core/decorators.py:23(deprecated_decorator)\n",
      "        8    0.000    0.000    0.000    0.000 /home/hemantakumar.phurailatpam/anaconda3/envs/bilby/lib/python3.7/site-packages/sympy/core/numbers.py:1269(_eval_is_negative)\n",
      "        2    0.000    0.000    0.000    0.000 /home/hemantakumar.phurailatpam/anaconda3/envs/bilby/lib/python3.7/inspect.py:2467(__init__)\n",
      "        1    0.000    0.000    0.000    0.000 /home/hemantakumar.phurailatpam/anaconda3/envs/bilby/lib/python3.7/site-packages/sympy/tensor/tensor.py:911(TensorIndexType)\n",
      "        1    0.000    0.000    0.000    0.000 <frozen importlib._bootstrap_external>:1404(_fill_cache)\n",
      "      140    0.000    0.000    0.000    0.000 /home/hemantakumar.phurailatpam/anaconda3/envs/bilby/lib/python3.7/site-packages/sympy/core/containers.py:60(__len__)\n",
      "       18    0.000    0.000    0.000    0.000 <frozen importlib._bootstrap_external>:574(spec_from_file_location)\n",
      "      567    0.000    0.000    0.000    0.000 /home/hemantakumar.phurailatpam/anaconda3/envs/bilby/lib/python3.7/site-packages/sympy/combinatorics/permutations.py:1108(size)\n",
      "       18    0.000    0.000    0.000    0.000 <frozen importlib._bootstrap_external>:438(_classify_pyc)\n",
      "        1    0.000    0.000    0.000    0.000 /home/hemantakumar.phurailatpam/anaconda3/envs/bilby/lib/python3.7/site-packages/sympy/tensor/tensor.py:2264(TensAdd)\n",
      "       90    0.000    0.000    0.000    0.000 /home/hemantakumar.phurailatpam/bilby/0PN/hphc4.py:38(unitstep)\n",
      "       18    0.000    0.000    0.000    0.000 <frozen importlib._bootstrap>:318(__exit__)\n",
      "        1    0.000    0.000    0.000    0.000 /home/hemantakumar.phurailatpam/anaconda3/envs/bilby/lib/python3.7/site-packages/sympy/multipledispatch/utils.py:22(_toposort)\n",
      "       15    0.000    0.000    0.000    0.000 /home/hemantakumar.phurailatpam/anaconda3/envs/bilby/lib/python3.7/site-packages/mpmath/libmp/libelefun.py:94(g)\n",
      "       18    0.000    0.000    0.000    0.000 <frozen importlib._bootstrap>:151(__exit__)\n",
      "        2    0.000    0.000    0.000    0.000 /home/hemantakumar.phurailatpam/anaconda3/envs/bilby/lib/python3.7/site-packages/sympy/core/numbers.py:1354(_eval_power)\n",
      "      521    0.000    0.000    0.000    0.000 {method 'keys' of 'dict' objects}\n",
      "      409    0.000    0.000    0.000    0.000 /home/hemantakumar.phurailatpam/anaconda3/envs/bilby/lib/python3.7/site-packages/sympy/logic/boolalg.py:423(<lambda>)\n",
      "        1    0.000    0.000    0.000    0.000 {built-in method posix.listdir}\n",
      "      543    0.000    0.000    0.000    0.000 {built-in method builtins.issubclass}\n",
      "       95    0.000    0.000    0.000    0.000 /home/hemantakumar.phurailatpam/anaconda3/envs/bilby/lib/python3.7/site-packages/sympy/combinatorics/permutations.py:983(_hashable_content)\n",
      "       21    0.000    0.000    0.000    0.000 /home/hemantakumar.phurailatpam/bilby/0PN/h1CpxSpx4.py:7(__init__)\n",
      "        8    0.000    0.000    0.000    0.000 /home/hemantakumar.phurailatpam/anaconda3/envs/bilby/lib/python3.7/site-packages/sympy/sets/sets.py:668(__contains__)\n",
      "        6    0.000    0.000    0.000    0.000 /home/hemantakumar.phurailatpam/anaconda3/envs/bilby/lib/python3.7/site-packages/mpmath/libmp/libintmath.py:223(isqrt_fast_python)\n",
      "        5    0.000    0.000    0.000    0.000 {built-in method _abc._abc_init}\n",
      "        3    0.000    0.000    0.000    0.000 /home/hemantakumar.phurailatpam/anaconda3/envs/bilby/lib/python3.7/site-packages/mpmath/libmp/libelefun.py:233(pi_fixed)\n",
      "       10    0.000    0.000    0.000    0.000 /home/hemantakumar.phurailatpam/anaconda3/envs/bilby/lib/python3.7/site-packages/mpmath/ctx_mp_python.py:177(__lt__)\n",
      "        5    0.000    0.000    0.000    0.000 /home/hemantakumar.phurailatpam/anaconda3/envs/bilby/lib/python3.7/site-packages/sympy/utilities/iterables.py:2053(has_variety)\n",
      "       10    0.000    0.000    0.000    0.000 /home/hemantakumar.phurailatpam/anaconda3/envs/bilby/lib/python3.7/site-packages/sympy/core/decorators.py:129(priority_decorator)\n",
      "       22    0.000    0.000    0.000    0.000 /home/hemantakumar.phurailatpam/anaconda3/envs/bilby/lib/python3.7/site-packages/sympy/core/core.py:69(__init__)\n",
      "       20    0.000    0.000    0.000    0.000 <frozen importlib._bootstrap>:103(release)\n",
      "       10    0.000    0.000    0.000    0.000 /home/hemantakumar.phurailatpam/anaconda3/envs/bilby/lib/python3.7/site-packages/sympy/core/decorators.py:66(deco)\n",
      "       20    0.000    0.000    0.000    0.000 <frozen importlib._bootstrap>:78(acquire)\n",
      "       16    0.000    0.000    0.000    0.000 /home/hemantakumar.phurailatpam/anaconda3/envs/bilby/lib/python3.7/site-packages/sympy/core/function.py:482(_should_evalf)\n",
      "       36    0.000    0.000    0.000    0.000 <frozen importlib._bootstrap_external>:62(_path_split)\n",
      "       16    0.000    0.000    0.000    0.000 /home/hemantakumar.phurailatpam/anaconda3/envs/bilby/lib/python3.7/site-packages/sympy/core/function.py:475(<genexpr>)\n",
      "       54    0.000    0.000    0.000    0.000 <frozen importlib._bootstrap_external>:51(_r_long)\n",
      "       22    0.000    0.000    0.000    0.000 /home/hemantakumar.phurailatpam/bilby/0PN/h0CpxSpx4.py:7(__init__)\n",
      "      146    0.000    0.000    0.000    0.000 /home/hemantakumar.phurailatpam/anaconda3/envs/bilby/lib/python3.7/site-packages/sympy/core/basic.py:1988(__init__)\n",
      "      122    0.000    0.000    0.000    0.000 <frozen importlib._bootstrap>:222(_verbose_message)\n",
      "       10    0.000    0.000    0.000    0.000 /home/hemantakumar.phurailatpam/anaconda3/envs/bilby/lib/python3.7/site-packages/sympy/core/decorators.py:72(__sympifyit)\n",
      "       18    0.000    0.000    0.000    0.000 <frozen importlib._bootstrap_external>:1203(_path_importer_cache)\n",
      "        6    0.000    0.000    0.000    0.000 /home/hemantakumar.phurailatpam/anaconda3/envs/bilby/lib/python3.7/site-packages/sympy/utilities/decorator.py:225(memoize_property)\n",
      "        8    0.000    0.000    0.000    0.000 /home/hemantakumar.phurailatpam/anaconda3/envs/bilby/lib/python3.7/site-packages/sympy/functions/elementary/trigonometric.py:134(_pi_coeff)\n",
      "      100    0.000    0.000    0.000    0.000 /home/hemantakumar.phurailatpam/anaconda3/envs/bilby/lib/python3.7/site-packages/sympy/core/sympify.py:14(__init__)\n",
      "       18    0.000    0.000    0.000    0.000 <frozen importlib._bootstrap_external>:471(_validate_timestamp_pyc)\n",
      "      145    0.000    0.000    0.000    0.000 {method 'join' of 'str' objects}\n",
      "       15    0.000    0.000    0.000    0.000 /home/hemantakumar.phurailatpam/anaconda3/envs/bilby/lib/python3.7/site-packages/sympy/core/containers.py:94(__eq__)\n",
      "        8    0.000    0.000    0.000    0.000 /home/hemantakumar.phurailatpam/anaconda3/envs/bilby/lib/python3.7/site-packages/sympy/core/expr.py:135(__eq__)\n",
      "       38    0.000    0.000    0.000    0.000 /home/hemantakumar.phurailatpam/anaconda3/envs/bilby/lib/python3.7/site-packages/sympy/core/numbers.py:722(sort_key)\n",
      "     23/3    0.000    0.000    0.000    0.000 /home/hemantakumar.phurailatpam/anaconda3/envs/bilby/lib/python3.7/site-packages/mpmath/libmp/libelefun.py:211(bs_chudnovsky)\n",
      "       18    0.000    0.000    0.000    0.000 <frozen importlib._bootstrap>:176(cb)\n",
      "       18    0.000    0.000    0.000    0.000 <frozen importlib._bootstrap>:58(__init__)\n",
      "      100    0.000    0.000    0.000    0.000 /home/hemantakumar.phurailatpam/anaconda3/envs/bilby/lib/python3.7/site-packages/sympy/combinatorics/perm_groups.py:135(<genexpr>)\n",
      "        1    0.000    0.000    0.000    0.000 /home/hemantakumar.phurailatpam/anaconda3/envs/bilby/lib/python3.7/site-packages/sympy/tensor/tensor.py:3073(TensMul)\n",
      "       26    0.000    0.000    0.000    0.000 /home/hemantakumar.phurailatpam/anaconda3/envs/bilby/lib/python3.7/site-packages/mpmath/libmp/libmpf.py:574(mpf_cmp)\n",
      "       16    0.000    0.000    0.000    0.000 /home/hemantakumar.phurailatpam/anaconda3/envs/bilby/lib/python3.7/site-packages/mpmath/libmp/libmpf.py:636(mpf_gt)\n",
      "      100    0.000    0.000    0.000    0.000 /home/hemantakumar.phurailatpam/anaconda3/envs/bilby/lib/python3.7/site-packages/sympy/combinatorics/perm_groups.py:133(<genexpr>)\n",
      "        1    0.000    0.000    0.000    0.000 /home/hemantakumar.phurailatpam/anaconda3/envs/bilby/lib/python3.7/site-packages/sympy/multipledispatch/utils.py:80(groupby)\n",
      "       26    0.000    0.000    0.000    0.000 /home/hemantakumar.phurailatpam/anaconda3/envs/bilby/lib/python3.7/site-packages/mpmath/ctx_mp_python.py:98(mpf_convert_rhs)\n",
      "        1    0.000    0.000    0.000    0.000 /home/hemantakumar.phurailatpam/anaconda3/envs/bilby/lib/python3.7/inspect.py:2750(__init__)\n",
      "        2    0.000    0.000    0.000    0.000 /home/hemantakumar.phurailatpam/anaconda3/envs/bilby/lib/python3.7/enum.py:284(__call__)\n",
      "      254    0.000    0.000    0.000    0.000 {method 'rstrip' of 'str' objects}\n",
      "        1    0.000    0.000    0.000    0.000 /home/hemantakumar.phurailatpam/anaconda3/envs/bilby/lib/python3.7/site-packages/sympy/testing/randtest.py:1(<module>)\n",
      "       21    0.000    0.000    0.000    0.000 /home/hemantakumar.phurailatpam/anaconda3/envs/bilby/lib/python3.7/site-packages/sympy/combinatorics/polyhedron.py:1009(<genexpr>)\n",
      "        1    0.000    0.000    0.000    0.000 <frozen importlib._bootstrap_external>:1190(_path_hooks)\n",
      "        1    0.000    0.000    0.000    0.000 /home/hemantakumar.phurailatpam/anaconda3/envs/bilby/lib/python3.7/site-packages/sympy/combinatorics/perm_groups.py:24(PermutationGroup)\n",
      "       41    0.000    0.000    0.000    0.000 {method 'pop' of 'list' objects}\n",
      "       16    0.000    0.000    0.000    0.000 /home/hemantakumar.phurailatpam/bilby/0PN/h05CpxSpx4.py:7(__init__)\n",
      "       11    0.000    0.000    0.000    0.000 /home/hemantakumar.phurailatpam/anaconda3/envs/bilby/lib/python3.7/site-packages/sympy/core/compatibility.py:279(is_sequence)\n",
      "  149/144    0.000    0.000    0.000    0.000 {built-in method builtins.iter}\n",
      "       79    0.000    0.000    0.000    0.000 {method 'update' of 'dict' objects}\n",
      "        2    0.000    0.000    0.000    0.000 /home/hemantakumar.phurailatpam/anaconda3/envs/bilby/lib/python3.7/site-packages/sympy/core/numbers.py:1279(_eval_is_extended_negative)\n",
      "       18    0.000    0.000    0.000    0.000 <frozen importlib._bootstrap_external>:401(_check_name_wrapper)\n",
      "      195    0.000    0.000    0.000    0.000 /home/hemantakumar.phurailatpam/anaconda3/envs/bilby/lib/python3.7/site-packages/sympy/combinatorics/permutations.py:2009(<genexpr>)\n",
      "      328    0.000    0.000    0.000    0.000 /home/hemantakumar.phurailatpam/anaconda3/envs/bilby/lib/python3.7/site-packages/sympy/logic/boolalg.py:390(__bool__)\n",
      "       54    0.000    0.000    0.000    0.000 {built-in method from_bytes}\n",
      "        1    0.000    0.000    0.000    0.000 /home/hemantakumar.phurailatpam/anaconda3/envs/bilby/lib/python3.7/site-packages/sympy/combinatorics/generators.py:1(<module>)\n",
      "       95    0.000    0.000    0.000    0.000 /home/hemantakumar.phurailatpam/anaconda3/envs/bilby/lib/python3.7/site-packages/sympy/utilities/iterables.py:2105(check)\n",
      "        1    0.000    0.000    0.000    0.000 /home/hemantakumar.phurailatpam/anaconda3/envs/bilby/lib/python3.7/inspect.py:484(unwrap)\n",
      "        7    0.000    0.000    0.000    0.000 /home/hemantakumar.phurailatpam/anaconda3/envs/bilby/lib/python3.7/site-packages/sympy/core/decorators.py:13(deprecated)\n",
      "       10    0.000    0.000    0.000    0.000 /home/hemantakumar.phurailatpam/anaconda3/envs/bilby/lib/python3.7/site-packages/mpmath/libmp/libmpf.py:626(mpf_lt)\n",
      "        8    0.000    0.000    0.000    0.000 /home/hemantakumar.phurailatpam/anaconda3/envs/bilby/lib/python3.7/site-packages/mpmath/libmp/libmpf.py:59(prec_to_dps)\n",
      "       18    0.000    0.000    0.000    0.000 <frozen importlib._bootstrap>:35(_new_module)\n",
      "       54    0.000    0.000    0.000    0.000 <frozen importlib._bootstrap>:859(__exit__)\n",
      "        5    0.000    0.000    0.000    0.000 /home/hemantakumar.phurailatpam/anaconda3/envs/bilby/lib/python3.7/site-packages/sympy/combinatorics/polyhedron.py:1001(<genexpr>)\n",
      "       45    0.000    0.000    0.000    0.000 /home/hemantakumar.phurailatpam/anaconda3/envs/bilby/lib/python3.7/site-packages/sympy/core/basic.py:740(_sorted_args)\n",
      "       75    0.000    0.000    0.000    0.000 /home/hemantakumar.phurailatpam/anaconda3/envs/bilby/lib/python3.7/site-packages/sympy/core/numbers.py:1702(_eval_is_zero)\n",
      "       15    0.000    0.000    0.000    0.000 /home/hemantakumar.phurailatpam/anaconda3/envs/bilby/lib/python3.7/site-packages/sympy/core/basic.py:312(__eq__)\n",
      "       18    0.000    0.000    0.000    0.000 <frozen importlib._bootstrap>:792(find_spec)\n",
      "       92    0.000    0.000    0.000    0.000 {built-in method _imp.acquire_lock}\n",
      "        1    0.000    0.000    0.000    0.000 /home/hemantakumar.phurailatpam/anaconda3/envs/bilby/lib/python3.7/site-packages/sympy/tensor/tensor.py:2614(Tensor)\n",
      "        1    0.000    0.000    0.000    0.000 /home/hemantakumar.phurailatpam/anaconda3/envs/bilby/lib/python3.7/site-packages/sympy/multipledispatch/utils.py:58(reverse_dict)\n",
      "        1    0.000    0.000    0.000    0.000 /home/hemantakumar.phurailatpam/anaconda3/envs/bilby/lib/python3.7/site-packages/sympy/combinatorics/permutations.py:469(Permutation)\n",
      "       16    0.000    0.000    0.000    0.000 /home/hemantakumar.phurailatpam/anaconda3/envs/bilby/lib/python3.7/site-packages/sympy/core/function.py:477(<genexpr>)\n",
      "        1    0.000    0.000    0.000    0.000 <frozen importlib._bootstrap_external>:1445(path_hook_for_FileFinder)\n",
      "        2    0.000    0.000    0.000    0.000 <frozen importlib._bootstrap>:194(_lock_unlock_module)\n",
      "       54    0.000    0.000    0.000    0.000 <frozen importlib._bootstrap>:855(__enter__)\n",
      "        1    0.000    0.000    0.000    0.000 /home/hemantakumar.phurailatpam/anaconda3/envs/bilby/lib/python3.7/site-packages/sympy/tensor/tensor.py:1855(TensExpr)\n",
      "        5    0.000    0.000    0.000    0.000 /home/hemantakumar.phurailatpam/anaconda3/envs/bilby/lib/python3.7/site-packages/sympy/core/compatibility.py:221(iterable)\n",
      "      146    0.000    0.000    0.000    0.000 /home/hemantakumar.phurailatpam/anaconda3/envs/bilby/lib/python3.7/site-packages/sympy/core/basic.py:2039(__iter__)\n",
      "        2    0.000    0.000    0.000    0.000 /home/hemantakumar.phurailatpam/anaconda3/envs/bilby/lib/python3.7/enum.py:526(__new__)\n",
      "       13    0.000    0.000    0.000    0.000 /home/hemantakumar.phurailatpam/anaconda3/envs/bilby/lib/python3.7/site-packages/sympy/combinatorics/polyhedron.py:1007(<genexpr>)\n",
      "       33    0.000    0.000    0.000    0.000 /home/hemantakumar.phurailatpam/anaconda3/envs/bilby/lib/python3.7/functools.py:67(wraps)\n",
      "       26    0.000    0.000    0.000    0.000 /home/hemantakumar.phurailatpam/anaconda3/envs/bilby/lib/python3.7/site-packages/mpmath/libmp/libmpf.py:692(mpf_sign)\n",
      "       92    0.000    0.000    0.000    0.000 {built-in method _imp.release_lock}\n",
      "        3    0.000    0.000    0.000    0.000 /home/hemantakumar.phurailatpam/anaconda3/envs/bilby/lib/python3.7/site-packages/sympy/utilities/decorator.py:176(public)\n",
      "       18    0.000    0.000    0.000    0.000 <frozen importlib._bootstrap>:369(__init__)\n",
      "        1    0.000    0.000    0.000    0.000 /home/hemantakumar.phurailatpam/anaconda3/envs/bilby/lib/python3.7/site-packages/sympy/core/singleton.py:110(__getattr__)\n",
      "        1    0.000    0.000    0.000    0.000 /home/hemantakumar.phurailatpam/anaconda3/envs/bilby/lib/python3.7/site-packages/sympy/tensor/tensor.py:382(_TensorDataLazyEvaluator)\n",
      "       72    0.000    0.000    0.000    0.000 <frozen importlib._bootstrap>:321(<genexpr>)\n",
      "      2/1    0.000    0.000    0.000    0.000 /home/hemantakumar.phurailatpam/anaconda3/envs/bilby/lib/python3.7/site-packages/sympy/core/numbers.py:1602(__new__)\n",
      "        1    0.000    0.000    0.000    0.000 /home/hemantakumar.phurailatpam/anaconda3/envs/bilby/lib/python3.7/site-packages/sympy/multipledispatch/conflict.py:67(<dictcomp>)\n",
      "       18    0.000    0.000    0.000    0.000 {built-in method _imp.is_frozen}\n",
      "       18    0.000    0.000    0.000    0.000 {built-in method _imp._fix_co_filename}\n",
      "        8    0.000    0.000    0.000    0.000 /home/hemantakumar.phurailatpam/anaconda3/envs/bilby/lib/python3.7/site-packages/sympy/sets/sets.py:1831(_contains)\n",
      "       18    0.000    0.000    0.000    0.000 {method 'endswith' of 'str' objects}\n",
      "        1    0.000    0.000    0.000    0.000 /home/hemantakumar.phurailatpam/anaconda3/envs/bilby/lib/python3.7/site-packages/sympy/combinatorics/named_groups.py:1(<module>)\n",
      "        1    0.000    0.000    0.000    0.000 /home/hemantakumar.phurailatpam/anaconda3/envs/bilby/lib/python3.7/site-packages/sympy/combinatorics/free_groups.py:345(FreeGroupElement)\n",
      "        9    0.000    0.000    0.000    0.000 /home/hemantakumar.phurailatpam/anaconda3/envs/bilby/lib/python3.7/site-packages/sympy/combinatorics/polyhedron.py:1005(<genexpr>)\n",
      "        1    0.000    0.000    0.000    0.000 /home/hemantakumar.phurailatpam/bilby/0PN/hphc4.py:17(__init__)\n",
      "        1    0.000    0.000    0.000    0.000 /home/hemantakumar.phurailatpam/anaconda3/envs/bilby/lib/python3.7/site-packages/sympy/core/numbers.py:3875(_eval_power)\n",
      "       18    0.000    0.000    0.000    0.000 <frozen importlib._bootstrap_external>:884(__init__)\n",
      "        7    0.000    0.000    0.000    0.000 /home/hemantakumar.phurailatpam/anaconda3/envs/bilby/lib/python3.7/site-packages/sympy/combinatorics/polyhedron.py:1003(<genexpr>)\n",
      "       45    0.000    0.000    0.000    0.000 /home/hemantakumar.phurailatpam/anaconda3/envs/bilby/lib/python3.7/site-packages/sympy/core/basic.py:276(class_key)\n",
      "       18    0.000    0.000    0.000    0.000 <frozen importlib._bootstrap>:307(__init__)\n",
      "       36    0.000    0.000    0.000    0.000 {built-in method _thread.allocate_lock}\n",
      "        1    0.000    0.000    0.000    0.000 /home/hemantakumar.phurailatpam/anaconda3/envs/bilby/lib/python3.7/site-packages/sympy/combinatorics/util.py:1(<module>)\n",
      "        1    0.000    0.000    0.000    0.000 /home/hemantakumar.phurailatpam/anaconda3/envs/bilby/lib/python3.7/site-packages/sympy/tensor/tensor.py:73(_IndexStructure)\n",
      "       18    0.000    0.000    0.000    0.000 <frozen importlib._bootstrap>:311(__enter__)\n",
      "       50    0.000    0.000    0.000    0.000 {method 'index' of 'list' objects}\n",
      "        1    0.000    0.000    0.000    0.000 /home/hemantakumar.phurailatpam/anaconda3/envs/bilby/lib/python3.7/site-packages/sympy/tensor/tensor.py:3865(TensorElement)\n",
      "       18    0.000    0.000    0.000    0.000 <frozen importlib._bootstrap>:143(__init__)\n",
      "        1    0.000    0.000    0.000    0.000 /home/hemantakumar.phurailatpam/anaconda3/envs/bilby/lib/python3.7/site-packages/sympy/core/expr.py:183(__neg__)\n",
      "        8    0.000    0.000    0.000    0.000 /home/hemantakumar.phurailatpam/anaconda3/envs/bilby/lib/python3.7/site-packages/sympy/core/basic.py:1798(<genexpr>)\n",
      "        2    0.000    0.000    0.000    0.000 /home/hemantakumar.phurailatpam/anaconda3/envs/bilby/lib/python3.7/inspect.py:158(isfunction)\n",
      "        1    0.000    0.000    0.000    0.000 /home/hemantakumar.phurailatpam/anaconda3/envs/bilby/lib/python3.7/site-packages/sympy/combinatorics/group_constructs.py:1(<module>)\n",
      "        1    0.000    0.000    0.000    0.000 /home/hemantakumar.phurailatpam/anaconda3/envs/bilby/lib/python3.7/site-packages/sympy/tensor/tensor.py:1588(TensorHead)\n",
      "        4    0.000    0.000    0.000    0.000 /home/hemantakumar.phurailatpam/anaconda3/envs/bilby/lib/python3.7/site-packages/sympy/core/numbers.py:2229(__mod__)\n",
      "        1    0.000    0.000    0.000    0.000 /home/hemantakumar.phurailatpam/anaconda3/envs/bilby/lib/python3.7/site-packages/sympy/multipledispatch/utils.py:41(<dictcomp>)\n",
      "       17    0.000    0.000    0.000    0.000 /home/hemantakumar.phurailatpam/anaconda3/envs/bilby/lib/python3.7/site-packages/sympy/core/evalf.py:85(fastlog)\n",
      "       30    0.000    0.000    0.000    0.000 /home/hemantakumar.phurailatpam/anaconda3/envs/bilby/lib/python3.7/site-packages/sympy/core/basic.py:143(_hashable_content)\n",
      "        2    0.000    0.000    0.000    0.000 /home/hemantakumar.phurailatpam/anaconda3/envs/bilby/lib/python3.7/site-packages/mpmath/libmp/libmpf.py:1042(mpf_pow_int)\n",
      "        1    0.000    0.000    0.000    0.000 <frozen importlib._bootstrap_external>:1319(__init__)\n",
      "       54    0.000    0.000    0.000    0.000 {built-in method posix.fspath}\n",
      "        1    0.000    0.000    0.000    0.000 /home/hemantakumar.phurailatpam/anaconda3/envs/bilby/lib/python3.7/site-packages/sympy/tensor/tensor.py:766(__init__)\n",
      "        4    0.000    0.000    0.000    0.000 /home/hemantakumar.phurailatpam/anaconda3/envs/bilby/lib/python3.7/site-packages/sympy/core/numbers.py:2014(as_numer_denom)\n",
      "        1    0.000    0.000    0.000    0.000 /home/hemantakumar.phurailatpam/anaconda3/envs/bilby/lib/python3.7/site-packages/sympy/core/singleton.py:183(__call__)\n",
      "        6    0.000    0.000    0.000    0.000 {built-in method math.log}\n",
      "        1    0.000    0.000    0.000    0.000 /home/hemantakumar.phurailatpam/anaconda3/envs/bilby/lib/python3.7/site-packages/sympy/combinatorics/perm_groups.py:5212(SymmetricPermutationGroup)\n",
      "        1    0.000    0.000    0.000    0.000 /home/hemantakumar.phurailatpam/anaconda3/envs/bilby/lib/python3.7/site-packages/sympy/combinatorics/subsets.py:7(Subset)\n",
      "       89    0.000    0.000    0.000    0.000 /home/hemantakumar.phurailatpam/anaconda3/envs/bilby/lib/python3.7/site-packages/sympy/logic/boolalg.py:322(__bool__)\n",
      "       23    0.000    0.000    0.000    0.000 /home/hemantakumar.phurailatpam/anaconda3/envs/bilby/lib/python3.7/site-packages/sympy/multipledispatch/conflict.py:67(<listcomp>)\n",
      "        1    0.000    0.000    0.000    0.000 <frozen importlib._bootstrap_external>:98(_path_isdir)\n",
      "       40    0.000    0.000    0.000    0.000 {built-in method _thread.get_ident}\n",
      "        1    0.000    0.000    0.000    0.000 /home/hemantakumar.phurailatpam/anaconda3/envs/bilby/lib/python3.7/site-packages/sympy/combinatorics/free_groups.py:114(FreeGroup)\n",
      "        1    0.000    0.000    0.000    0.000 /home/hemantakumar.phurailatpam/anaconda3/envs/bilby/lib/python3.7/site-packages/sympy/tensor/tensor.py:769(_comm_init)\n",
      "        1    0.000    0.000    0.000    0.000 /home/hemantakumar.phurailatpam/anaconda3/envs/bilby/lib/python3.7/site-packages/sympy/tensor/tensor.py:746(_TensorManager)\n",
      "        1    0.000    0.000    0.000    0.000 /home/hemantakumar.phurailatpam/anaconda3/envs/bilby/lib/python3.7/site-packages/sympy/tensor/tensor.py:1504(TensorType)\n",
      "        5    0.000    0.000    0.000    0.000 /home/hemantakumar.phurailatpam/anaconda3/envs/bilby/lib/python3.7/site-packages/sympy/core/containers.py:54(__getitem__)\n",
      "       24    0.000    0.000    0.000    0.000 /home/hemantakumar.phurailatpam/anaconda3/envs/bilby/lib/python3.7/site-packages/sympy/multipledispatch/utils.py:53(<genexpr>)\n",
      "        3    0.000    0.000    0.000    0.000 /home/hemantakumar.phurailatpam/anaconda3/envs/bilby/lib/python3.7/site-packages/mpmath/libmp/libintmath.py:15(giant_steps)\n",
      "       18    0.000    0.000    0.000    0.000 <frozen importlib._bootstrap>:719(find_spec)\n",
      "        8    0.000    0.000    0.000    0.000 {method 'mro' of 'type' objects}\n",
      "       21    0.000    0.000    0.000    0.000 {method 'values' of 'dict' objects}\n",
      "        1    0.000    0.000    0.000    0.000 /home/hemantakumar.phurailatpam/anaconda3/envs/bilby/lib/python3.7/site-packages/sympy/combinatorics/graycode.py:6(GrayCode)\n",
      "        1    0.000    0.000    0.000    0.000 /home/hemantakumar.phurailatpam/anaconda3/envs/bilby/lib/python3.7/site-packages/sympy/tensor/tensor.py:1185(TensorIndex)\n",
      "        5    0.000    0.000    0.000    0.000 {method 'setter' of 'property' objects}\n",
      "        1    0.000    0.000    0.000    0.000 /home/hemantakumar.phurailatpam/anaconda3/envs/bilby/lib/python3.7/site-packages/sympy/combinatorics/polyhedron.py:11(Polyhedron)\n",
      "        1    0.000    0.000    0.000    0.000 /home/hemantakumar.phurailatpam/anaconda3/envs/bilby/lib/python3.7/site-packages/sympy/tensor/tensor.py:1307(TensorSymmetry)\n",
      "        8    0.000    0.000    0.000    0.000 /home/hemantakumar.phurailatpam/anaconda3/envs/bilby/lib/python3.7/site-packages/sympy/core/function.py:348(func)\n",
      "       38    0.000    0.000    0.000    0.000 /home/hemantakumar.phurailatpam/anaconda3/envs/bilby/lib/python3.7/site-packages/sympy/core/numbers.py:718(class_key)\n",
      "        9    0.000    0.000    0.000    0.000 /home/hemantakumar.phurailatpam/anaconda3/envs/bilby/lib/python3.7/site-packages/sympy/core/basic.py:682(func)\n",
      "        3    0.000    0.000    0.000    0.000 /home/hemantakumar.phurailatpam/anaconda3/envs/bilby/lib/python3.7/inspect.py:2799(<genexpr>)\n",
      "        5    0.000    0.000    0.000    0.000 /home/hemantakumar.phurailatpam/anaconda3/envs/bilby/lib/python3.7/site-packages/sympy/sets/sets.py:1779(__iter__)\n",
      "       18    0.000    0.000    0.000    0.000 <frozen importlib._bootstrap_external>:719(create_module)\n",
      "        5    0.000    0.000    0.000    0.000 {method 'deleter' of 'property' objects}\n",
      "        1    0.000    0.000    0.000    0.000 /home/hemantakumar.phurailatpam/anaconda3/envs/bilby/lib/python3.7/site-packages/sympy/combinatorics/partitions.py:12(Partition)\n",
      "        1    0.000    0.000    0.000    0.000 /home/hemantakumar.phurailatpam/anaconda3/envs/bilby/lib/python3.7/site-packages/sympy/combinatorics/permutations.py:240(Cycle)\n",
      "        1    0.000    0.000    0.000    0.000 /home/hemantakumar.phurailatpam/anaconda3/envs/bilby/lib/python3.7/site-packages/sympy/combinatorics/prufer.py:8(Prufer)\n",
      "        9    0.000    0.000    0.000    0.000 /home/hemantakumar.phurailatpam/anaconda3/envs/bilby/lib/python3.7/site-packages/sympy/core/evalf.py:1281(<lambda>)\n",
      "       23    0.000    0.000    0.000    0.000 {method 'pop' of 'set' objects}\n",
      "        1    0.000    0.000    0.000    0.000 /home/hemantakumar.phurailatpam/anaconda3/envs/bilby/lib/python3.7/site-packages/sympy/combinatorics/partitions.py:305(IntegerPartition)\n",
      "        1    0.000    0.000    0.000    0.000 /home/hemantakumar.phurailatpam/anaconda3/envs/bilby/lib/python3.7/site-packages/sympy/core/numbers.py:2573(__new__)\n",
      "        6    0.000    0.000    0.000    0.000 /home/hemantakumar.phurailatpam/anaconda3/envs/bilby/lib/python3.7/site-packages/sympy/core/numbers.py:3264(__eq__)\n",
      "       40    0.000    0.000    0.000    0.000 /home/hemantakumar.phurailatpam/anaconda3/envs/bilby/lib/python3.7/site-packages/sympy/multipledispatch/conflict.py:63(<lambda>)\n",
      "        1    0.000    0.000    0.000    0.000 /home/hemantakumar.phurailatpam/anaconda3/envs/bilby/lib/python3.7/site-packages/sympy/multipledispatch/utils.py:42(<setcomp>)\n",
      "       18    0.000    0.000    0.000    0.000 <frozen importlib._bootstrap_external>:909(get_filename)\n",
      "       18    0.000    0.000    0.000    0.000 <frozen importlib._bootstrap>:424(has_location)\n",
      "        8    0.000    0.000    0.000    0.000 {built-in method from_iterable}\n",
      "        1    0.000    0.000    0.000    0.000 /home/hemantakumar.phurailatpam/anaconda3/envs/bilby/lib/python3.7/site-packages/sympy/combinatorics/perm_groups.py:5295(Coset)\n",
      "       10    0.000    0.000    0.000    0.000 /home/hemantakumar.phurailatpam/anaconda3/envs/bilby/lib/python3.7/site-packages/sympy/core/decorators.py:103(call_highest_priority)\n",
      "        1    0.000    0.000    0.000    0.000 /home/hemantakumar.phurailatpam/anaconda3/envs/bilby/lib/python3.7/site-packages/sympy/core/core.py:57(__setattr__)\n",
      "       10    0.000    0.000    0.000    0.000 /home/hemantakumar.phurailatpam/anaconda3/envs/bilby/lib/python3.7/site-packages/sympy/core/decorators.py:43(_sympifyit)\n",
      "       18    0.000    0.000    0.000    0.000 <frozen importlib._bootstrap_external>:40(_relax_case)\n",
      "        4    0.000    0.000    0.000    0.000 {built-in method builtins.abs}\n",
      "        2    0.000    0.000    0.000    0.000 {method 'startswith' of 'str' objects}\n",
      "       40    0.000    0.000    0.000    0.000 {method 'remove' of 'set' objects}\n",
      "        1    0.000    0.000    0.000    0.000 /home/hemantakumar.phurailatpam/anaconda3/envs/bilby/lib/python3.7/site-packages/sympy/combinatorics/pc_groups.py:42(Collector)\n",
      "        5    0.000    0.000    0.000    0.000 /home/hemantakumar.phurailatpam/anaconda3/envs/bilby/lib/python3.7/site-packages/sympy/combinatorics/polyhedron.py:467(faces)\n",
      "        3    0.000    0.000    0.000    0.000 /home/hemantakumar.phurailatpam/anaconda3/envs/bilby/lib/python3.7/site-packages/sympy/core/expr.py:126(_hashable_content)\n",
      "        2    0.000    0.000    0.000    0.000 /home/hemantakumar.phurailatpam/anaconda3/envs/bilby/lib/python3.7/inspect.py:2517(name)\n",
      "        1    0.000    0.000    0.000    0.000 /home/hemantakumar.phurailatpam/anaconda3/envs/bilby/lib/python3.7/inspect.py:504(_is_wrapper)\n",
      "        5    0.000    0.000    0.000    0.000 /home/hemantakumar.phurailatpam/anaconda3/envs/bilby/lib/python3.7/abc.py:7(abstractmethod)\n",
      "        2    0.000    0.000    0.000    0.000 {method 'isidentifier' of 'str' objects}\n",
      "        1    0.000    0.000    0.000    0.000 {method 'clear' of 'dict' objects}\n",
      "        1    0.000    0.000    0.000    0.000 /home/hemantakumar.phurailatpam/anaconda3/envs/bilby/lib/python3.7/site-packages/sympy/combinatorics/pc_groups.py:7(PolycyclicGroup)\n",
      "        1    0.000    0.000    0.000    0.000 /home/hemantakumar.phurailatpam/anaconda3/envs/bilby/lib/python3.7/site-packages/sympy/combinatorics/permutations.py:2997(AppliedPermutation)\n",
      "        1    0.000    0.000    0.000    0.000 /home/hemantakumar.phurailatpam/anaconda3/envs/bilby/lib/python3.7/site-packages/sympy/tensor/tensor.py:770(<listcomp>)\n",
      "        1    0.000    0.000    0.000    0.000 /home/hemantakumar.phurailatpam/anaconda3/envs/bilby/lib/python3.7/site-packages/sympy/tensor/tensor.py:1851(_TensorMetaclass)\n",
      "        1    0.000    0.000    0.000    0.000 /home/hemantakumar.phurailatpam/anaconda3/envs/bilby/lib/python3.7/site-packages/sympy/multipledispatch/core.py:12(dispatch)\n",
      "        3    0.000    0.000    0.000    0.000 /home/hemantakumar.phurailatpam/anaconda3/envs/bilby/lib/python3.7/site-packages/sympy/multipledispatch/dispatcher.py:204(<genexpr>)\n",
      "        1    0.000    0.000    0.000    0.000 /home/hemantakumar.phurailatpam/anaconda3/envs/bilby/lib/python3.7/inspect.py:2835(parameters)\n",
      "        1    0.000    0.000    0.000    0.000 {built-in method sys.getrecursionlimit}\n",
      "        1    0.000    0.000    0.000    0.000 {built-in method builtins.callable}\n",
      "        1    0.000    0.000    0.000    0.000 {built-in method builtins.id}\n",
      "        1    0.000    0.000    0.000    0.000 {method 'disable' of '_lsprof.Profiler' objects}\n",
      "        8    0.000    0.000    0.000    0.000 <frozen importlib._bootstrap_external>:1325(<genexpr>)\n",
      "\n",
      "\n",
      "\n"
     ]
    },
    {
     "data": {
      "text/plain": [
       "array([4.78691127e-24])"
      ]
     },
     "execution_count": 4,
     "metadata": {},
     "output_type": "execute_result"
    }
   ],
   "source": [
    "hf([215])"
   ]
  },
  {
   "cell_type": "code",
   "execution_count": 36,
   "metadata": {},
   "outputs": [],
   "source": [
    "import time\n",
    "import multiprocessing"
   ]
  },
  {
   "cell_type": "code",
   "execution_count": 8,
   "metadata": {},
   "outputs": [],
   "source": [
    "def hf2(freq):\n",
    "    N = len(freq)\n",
    "    h_plus = np.zeros(N)\n",
    "    zz = 0\n",
    "    for z in freq:\n",
    "        arg_plus = {'iota_':np.pi/3, 'beta_':np.pi/3, 'D_':100. , 'm1_':10., 'm2_':10., 'f_':z, 'f0_':20., 'Fp_':1.0, 'Fc_':0.0, 'et0_':0.1, 'phic_':0., 'tc_':0.}\n",
    "        fplus = hphc4.Fn(**arg_plus)\n",
    "        \n",
    "        h_plus[zz] = abs(fplus.htilde())\n",
    "        zz = zz+1\n",
    "        \n",
    "    return(h_plus)"
   ]
  },
  {
   "cell_type": "code",
   "execution_count": 20,
   "metadata": {},
   "outputs": [],
   "source": [
    "'''\n",
    "def multi(frequency_):\n",
    "    frequency_ = np.array(frequency_)\n",
    "    #number of frequency each core will handle\n",
    "    div = np.array(np.divmod(len(frequency_),cores))\n",
    "    h_plus_ = np.zeros(cores,object)\n",
    "    \n",
    "    for ii in range(cores):\n",
    "        array_start = ii*div[0]\n",
    "        array_stop = array_start + div[0]\n",
    "        if ii == cores-1:\n",
    "            array_stop = array_stop + div[1]\n",
    "        frequency_array = frequency_[array_start:array_stop]\n",
    "        h_plus_[ii] = hf2(frequency_array) \n",
    "        \n",
    "    return(h_plus_)\n",
    "'''\n",
    "def multi(frequency_):\n",
    "    \n",
    "    frequency_ = np.array(frequency_)\n",
    "    #number of frequency each core will handle\n",
    "    div = np.array(np.divmod(len(frequency_),cores))\n",
    "    h_plus_ = np.zeros(cores,object)\n",
    "    \n",
    "    frequency_array = []\n",
    "    result_ = []\n",
    "    for ii in range(cores):\n",
    "        #declaring frequency array start and stop point\n",
    "        array_start = ii*div[0]\n",
    "        array_stop = array_start + div[0]\n",
    "        if ii == cores-1:\n",
    "            array_stop = array_stop + div[1]\n",
    "            \n",
    "        frequency_array.append(frequency_[array_start:array_stop])\n",
    "        #h_plus_[ii] = hf2(frequency_array) \n",
    "        \n",
    "    with mp.Pool(processes=cores) as pool:\n",
    "        result_ = pool.map(hf2, frequency_array)   \n",
    "        \n",
    "    return(result)"
   ]
  },
  {
   "cell_type": "code",
   "execution_count": 21,
   "metadata": {},
   "outputs": [
    {
     "name": "stdout",
     "output_type": "stream",
     "text": [
      "Execution took 68.7259\n",
      "[array([1.01923136e-22]), array([7.73831938e-23]), array([4.30238214e-23]), array([4.35123465e-23]), array([3.30099442e-23]), array([3.3032459e-23]), array([2.39028874e-23]), array([2.94726349e-23]), array([2.13246907e-23]), array([2.0983938e-23]), array([1.93733766e-23]), array([1.68677995e-23]), array([1.63672848e-23]), array([1.48759875e-23]), array([1.37345772e-23]), array([1.40046981e-23]), array([1.19071943e-23]), array([1.232781e-23]), array([1.05067557e-23]), array([1.03990252e-23]), array([1.07318831e-23]), array([9.63915e-24]), array([8.68740226e-24]), array([8.49522706e-24]), array([8.76351223e-24]), array([8.5366633e-24]), array([7.65907969e-24]), array([7.54771781e-24]), array([6.93249068e-24]), array([6.52395615e-24]), array([6.22647094e-24]), array([6.17387880e-24, 5.65939482e-24, 6.01071999e-24, 5.63323280e-24,\n",
      "       5.30956274e-24, 5.55693598e-24, 5.40476719e-24, 4.94804415e-24,\n",
      "       4.78691127e-24])]\n"
     ]
    }
   ],
   "source": [
    "cores = 32\n",
    "t0 = time.time()\n",
    "ee = multi(test_array)\n",
    "t1 = time.time()\n",
    "print('Execution took {:.4f}'.format(t1 - t0))\n",
    "print(ee)"
   ]
  },
  {
   "cell_type": "code",
   "execution_count": 23,
   "metadata": {
    "scrolled": true
   },
   "outputs": [
    {
     "data": {
      "text/plain": [
       "array([7.73831938e-23])"
      ]
     },
     "execution_count": 23,
     "metadata": {},
     "output_type": "execute_result"
    }
   ],
   "source": [
    "ee[1]"
   ]
  },
  {
   "cell_type": "code",
   "execution_count": 27,
   "metadata": {},
   "outputs": [],
   "source": [
    "def hf3(freq):\n",
    "\n",
    "    arg_plus = {'iota_':np.pi/3, 'beta_':np.pi/3, 'D_':100. , 'm1_':10., 'm2_':10., 'f_':freq, 'f0_':20., 'Fp_':1.0, 'Fc_':0.0, 'et0_':0.1, 'phic_':0., 'tc_':0.}\n",
    "    fplus = hphc4.Fn(**arg_plus)\n",
    "\n",
    "    h_plus = abs(fplus.htilde())\n",
    "\n",
    "        \n",
    "    return(h_plus)"
   ]
  },
  {
   "cell_type": "code",
   "execution_count": 28,
   "metadata": {
    "scrolled": true
   },
   "outputs": [
    {
     "name": "stdout",
     "output_type": "stream",
     "text": [
      "Execution took 25.9355\n",
      "[1.0192313648344236e-22, 7.738319383251714e-23, 4.3023821356445706e-23, 4.351234646852694e-23, 3.300994416093859e-23, 3.3032458987460667e-23, 2.3902887352325758e-23, 2.947263489540225e-23, 2.1324690694354982e-23, 2.0983937958457505e-23, 1.9373376554692873e-23, 1.686779954244985e-23, 1.636728482590296e-23, 1.4875987453505207e-23, 1.3734577249959598e-23, 1.4004698071665277e-23, 1.1907194300533693e-23, 1.2327809952165748e-23, 1.0506755713680582e-23, 1.0399025153255574e-23, 1.073188307271881e-23, 9.639149996519937e-24, 8.687402262803257e-24, 8.49522706436776e-24, 8.76351222904602e-24, 8.536663301480596e-24, 7.659079693693365e-24, 7.547717813466042e-24, 6.932490680993183e-24, 6.523956154419118e-24, 6.226470941468745e-24, 6.1738787970701104e-24, 5.659394822334997e-24, 6.0107199890949206e-24, 5.6332327990662525e-24, 5.3095627395208505e-24, 5.5569359792698424e-24, 5.4047671855361916e-24, 4.948044154859264e-24, 4.7869112691847975e-24]\n"
     ]
    }
   ],
   "source": [
    "result = []\n",
    "t0 = time.time()\n",
    "with mp.Pool(processes=32) as pool:\n",
    "    result = pool.map(hf3, test_array)\n",
    "t1 = time.time()\n",
    "print('Execution took {:.4f}'.format(t1 - t0))\n",
    "print(result)"
   ]
  },
  {
   "cell_type": "code",
   "execution_count": 29,
   "metadata": {},
   "outputs": [
    {
     "data": {
      "text/plain": [
       "array([0., 0., 0., 0., 0., 0., 0., 0., 0., 0., 0., 0., 0., 0., 0., 0., 0.,\n",
       "       0., 0., 0., 0., 0., 0., 0., 0., 0., 0., 0., 0., 0., 0., 0., 0., 0.,\n",
       "       0., 0., 0., 0., 0., 0.])"
      ]
     },
     "execution_count": 29,
     "metadata": {},
     "output_type": "execute_result"
    }
   ],
   "source": [
    "np.array(result)-np.array(test_result)"
   ]
  },
  {
   "cell_type": "code",
   "execution_count": 25,
   "metadata": {
    "scrolled": true
   },
   "outputs": [
    {
     "name": "stdout",
     "output_type": "stream",
     "text": [
      "2.0\n"
     ]
    }
   ],
   "source": [
    "#et.astype('float64')\n",
    "h_plus_test = np.zeros(4,object)\n",
    "h_plus_test[0] = np.array([1,2,3])\n",
    "dd = np.array(h_plus_test[0].astype(np.float))\n",
    "print(dd[1])"
   ]
  },
  {
   "cell_type": "code",
   "execution_count": 35,
   "metadata": {},
   "outputs": [
    {
     "data": {
      "text/plain": [
       "array([1., 2., 3.])"
      ]
     },
     "execution_count": 35,
     "metadata": {},
     "output_type": "execute_result"
    }
   ],
   "source": [
    "dd"
   ]
  },
  {
   "cell_type": "code",
   "execution_count": 6,
   "metadata": {},
   "outputs": [
    {
     "data": {
      "text/plain": [
       "219.80075184694996"
      ]
     },
     "execution_count": 6,
     "metadata": {},
     "output_type": "execute_result"
    }
   ],
   "source": [
    "#to find fmax\n",
    "(C**3)/( G*(10.0+10.0)*Mo*np.pi*6**(3/2) )"
   ]
  },
  {
   "cell_type": "code",
   "execution_count": 27,
   "metadata": {},
   "outputs": [
    {
     "data": {
      "text/plain": [
       "array([1, 2, 3, 4, 5, 6, 7, 8])"
      ]
     },
     "execution_count": 27,
     "metadata": {},
     "output_type": "execute_result"
    }
   ],
   "source": [
    "aa=np.array([1,2,3])\n",
    "bb=np.array([4,5,6])\n",
    "cc=np.array([7,8])\n",
    "np.hstack((aa,bb,cc))"
   ]
  },
  {
   "cell_type": "code",
   "execution_count": 26,
   "metadata": {
    "scrolled": true
   },
   "outputs": [
    {
     "data": {
      "text/plain": [
       "array([ 20,  25,  30,  35,  40,  45,  50,  55,  60,  65,  70,  75,  80,\n",
       "        85,  90,  95, 100, 105, 110, 115, 120, 125, 130, 135, 140, 145,\n",
       "       150, 155, 160, 165, 170, 175, 180, 185, 190, 195, 200, 205, 210,\n",
       "       215])"
      ]
     },
     "execution_count": 26,
     "metadata": {},
     "output_type": "execute_result"
    }
   ],
   "source": [
    "np.array(np.arange(20,220,5))"
   ]
  },
  {
   "cell_type": "code",
   "execution_count": 17,
   "metadata": {},
   "outputs": [],
   "source": [
    "test_array = np.arange(20,220,5)"
   ]
  },
  {
   "cell_type": "code",
   "execution_count": 18,
   "metadata": {},
   "outputs": [
    {
     "name": "stdout",
     "output_type": "stream",
     "text": [
      "Execution took 369.3626\n",
      "[1.01923136e-22 7.73831938e-23 4.30238214e-23 4.35123465e-23\n",
      " 3.30099442e-23 3.30324590e-23 2.39028874e-23 2.94726349e-23\n",
      " 2.13246907e-23 2.09839380e-23 1.93733766e-23 1.68677995e-23\n",
      " 1.63672848e-23 1.48759875e-23 1.37345772e-23 1.40046981e-23\n",
      " 1.19071943e-23 1.23278100e-23 1.05067557e-23 1.03990252e-23\n",
      " 1.07318831e-23 9.63915000e-24 8.68740226e-24 8.49522706e-24\n",
      " 8.76351223e-24 8.53666330e-24 7.65907969e-24 7.54771781e-24\n",
      " 6.93249068e-24 6.52395615e-24 6.22647094e-24 6.17387880e-24\n",
      " 5.65939482e-24 6.01071999e-24 5.63323280e-24 5.30956274e-24\n",
      " 5.55693598e-24 5.40476719e-24 4.94804415e-24 4.78691127e-24]\n"
     ]
    }
   ],
   "source": [
    "t0 = time.time()\n",
    "test_result = hf2(test_array)\n",
    "t1 = time.time()\n",
    "print('Execution took {:.4f}'.format(t1 - t0))\n",
    "print(test_result)"
   ]
  },
  {
   "cell_type": "code",
   "execution_count": 10,
   "metadata": {},
   "outputs": [],
   "source": [
    "array = np.array([1.01923136e-22, 7.73831938e-23, 4.30238214e-23, 4.35123465e-23,\n",
    "       3.30099442e-23, 3.30324590e-23, 2.39028874e-23, 2.94726349e-23,\n",
    "       2.13246907e-23, 2.09839380e-23, 1.93733766e-23, 1.68677995e-23,\n",
    "       1.63672848e-23, 1.48759875e-23, 1.37345772e-23, 1.40046981e-23,\n",
    "       1.19071943e-23, 1.23278100e-23, 1.05067557e-23, 1.03990252e-23,\n",
    "       1.07318831e-23, 9.63915000e-24, 8.68740226e-24, 8.49522706e-24,\n",
    "       8.76351223e-24, 8.53666330e-24, 7.65907969e-24, 7.54771781e-24,\n",
    "       6.93249068e-24, 6.52395615e-24, 6.22647094e-24, 6.17387880e-24,\n",
    "       5.65939482e-24, 6.01071999e-24, 5.63323280e-24, 5.30956274e-24,\n",
    "       5.55693598e-24, 5.40476719e-24, 4.94804415e-24, 4.78691127e-24])"
   ]
  },
  {
   "cell_type": "code",
   "execution_count": 11,
   "metadata": {},
   "outputs": [
    {
     "data": {
      "text/plain": [
       "[<matplotlib.lines.Line2D at 0x7f3b0fc7d310>]"
      ]
     },
     "execution_count": 11,
     "metadata": {},
     "output_type": "execute_result"
    },
    {
     "data": {
      "image/png": "[encoded data removed]",
      "text/plain": [
       "<Figure size 432x288 with 1 Axes>"
      ]
     },
     "metadata": {
      "needs_background": "light"
     },
     "output_type": "display_data"
    }
   ],
   "source": [
    "plt.loglog(frequency_array,array)"
   ]
  },
  {
   "cell_type": "code",
   "execution_count": null,
   "metadata": {},
   "outputs": [],
   "source": []
  }
 ],
 "metadata": {
  "kernelspec": {
   "display_name": "Python 3",
   "language": "python",
   "name": "python3"
  },
  "language_info": {
   "codemirror_mode": {
    "name": "ipython",
    "version": 3
   },
   "file_extension": ".py",
   "mimetype": "text/x-python",
   "name": "python",
   "nbconvert_exporter": "python",
   "pygments_lexer": "ipython3",
   "version": "3.7.7"
  }
 },
 "nbformat": 4,
 "nbformat_minor": 4
}
