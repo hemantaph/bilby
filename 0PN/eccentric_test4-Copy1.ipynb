{
 "cells": [
  {
   "cell_type": "code",
   "execution_count": null,
   "metadata": {},
   "outputs": [],
   "source": [
    "#from __future__ import division, print_function\n",
    "import matplotlib.pyplot as plt\n",
    "import bilby\n",
    "import numpy as np\n",
    "\n",
    "import time\n",
    "\n",
    "from bilby.core.prior import Uniform\n",
    "#from bilby.gw.conversion import convert_to_lal_binary_black_hole_parameters, generate_all_bbh_parameters\n",
    "%matplotlib inline\n",
    "\n",
    "import hphc10\n",
    "\n",
    "C = 299792458.\n",
    "G = 6.67408*1e-11\n",
    "Mo = 1.989*1e30\n",
    "Mpc = 3.086*1e22"
   ]
  },
  {
   "cell_type": "code",
   "execution_count": null,
   "metadata": {},
   "outputs": [],
   "source": [
    "np.random.seed(1234)"
   ]
  },
  {
   "cell_type": "code",
   "execution_count": null,
   "metadata": {},
   "outputs": [],
   "source": [
    "outdir = 'outdir_new_model'\n",
    "label = 'create_your_own_source_model'\n",
    "sampling_frequency = 1024\n",
    "duration = 2"
   ]
  },
  {
   "cell_type": "code",
   "execution_count": null,
   "metadata": {},
   "outputs": [],
   "source": [
    "def eccentric_waveform(frequency_array_, mass_1, mass_2, eccentricity, luminosity_distance, theta_jn, psi, phase, geocent_time, ra, dec):\n",
    "    frequency_array = np.array(frequency_array_)\n",
    "    minimum_f = 20.0\n",
    "    maximum_f = (C**3)/( G*(mass_1+mass_2)*Mo*np.pi*6**(3/2) )\n",
    "    \n",
    "    N = len(frequency_array)\n",
    "    h_plus = np.zeros(N)*1j\n",
    "    h_cross = np.zeros(N)*1j\n",
    "    \n",
    "    k = 0\n",
    "    for f in frequency_array:\n",
    "        if f>=minimum_f and f<=maximum_f\n",
    "            arg_plus = {'iota_':theta_jn, 'beta_':psi, 'D_':luminosity_distance , 'm1_':mass_1, 'm2_':mass_2, 'f_':f, 'f0_':20.0, 'et0_':eccentricity, 'phic_':phase, 'tc_':geocent_time}\n",
    "\n",
    "            fplus = hphc10.Fn(**arg_plus)\n",
    "\n",
    "            h_plus[k] = fplus.htilde()[0]\n",
    "            h_cross[k] = fplus.htilde()[1]\n",
    "\n",
    "        k=k+1\n",
    "    #return {'plus': h_plus, 'cross': h_cross}\n",
    "    return {'plus': h_plus, 'cross': h_cross}"
   ]
  },
  {
   "cell_type": "code",
   "execution_count": 4,
   "metadata": {},
   "outputs": [],
   "source": [
    "def eccentric_waveform(frequency_array_, mass_1, mass_2, eccentricity, luminosity_distance, theta_jn, psi, phase, geocent_time, ra, dec):\n",
    "    \n",
    "    minimum_f = 20.0\n",
    "    maximum_f = (C**3)/( G*(mass_1+mass_2)*Mo*np.pi*6**(3/2) )\n",
    "    \n",
    "    frequency_array = frequency_array_[(frequency_array_>=minimum_f) & (frequency_array_<=maximum_f)]\n",
    "    before = frequency_array_[(frequency_array_<minimum_f)]*0.0\n",
    "    after = frequency_array_[(frequency_array_>maximum_f)]*0.0\n",
    "    \n",
    "    N = len(frequency_array)\n",
    "    h_plus = np.zeros(N)*1j\n",
    "    h_cross = np.zeros(N)*1j\n",
    "    \n",
    "    k = 0\n",
    "    for f in frequency_array:\n",
    "\n",
    "        arg_plus = {'iota_':theta_jn, 'beta_':psi, 'D_':luminosity_distance , 'm1_':mass_1, 'm2_':mass_2, 'f_':f, 'f0_':20.0, 'et0_':eccentricity, 'phic_':phase, 'tc_':geocent_time}\n",
    "\n",
    "        fplus = hphc10.Fn(**arg_plus)\n",
    "\n",
    "        h_plus[k] = fplus.htilde()[0]\n",
    "        h_cross[k] = fplus.htilde()[1]\n",
    "\n",
    "        k=k+1\n",
    "    #return {'plus': h_plus, 'cross': h_cross}\n",
    "    return {'plus': np.concatenate((before,h_plus,after)), 'cross': np.concatenate((before,h_cross,after))}"
   ]
  },
  {
   "cell_type": "code",
   "execution_count": 5,
   "metadata": {},
   "outputs": [],
   "source": [
    "#eccentric_waveform(np.arange(0,100,1),35.0,30.0,0.1,440.0,0.4,0.1,1.2,1180002601.0,45,5.73)"
   ]
  },
  {
   "cell_type": "code",
   "execution_count": 6,
   "metadata": {},
   "outputs": [
    {
     "name": "stdout",
     "output_type": "stream",
     "text": [
      "Execution took 1.5726\n"
     ]
    }
   ],
   "source": [
    "import time \n",
    "\n",
    "fff = np.arange(0,100,1)\n",
    "t0 = time.time()\n",
    "zz = eccentric_waveform(fff,35.0,30.0,0.1,440.0,0.4,0.1,1.2,1180002601.0,45,5.73)\n",
    "\n",
    "t1 = time.time()\n",
    "print('Execution took {:.4f}'.format(t1 - t0))"
   ]
  },
  {
   "cell_type": "code",
   "execution_count": 7,
   "metadata": {},
   "outputs": [
    {
     "data": {
      "text/plain": [
       "\"\\nimport pandas as pd \\n\\nyy = {'frequency': H1.strain_data.frequency_array[:]} \\nyy.update(zz)\\ndf = pd.DataFrame(yy, columns = ['frequency', 'plus', 'cross'])\\ndf.to_csv('raw_data.csv', index=False)\\n\""
      ]
     },
     "execution_count": 7,
     "metadata": {},
     "output_type": "execute_result"
    }
   ],
   "source": [
    "'''\n",
    "import pandas as pd \n",
    "\n",
    "yy = {'frequency': H1.strain_data.frequency_array[:]} \n",
    "yy.update(zz)\n",
    "df = pd.DataFrame(yy, columns = ['frequency', 'plus', 'cross'])\n",
    "df.to_csv('raw_data.csv', index=False)\n",
    "'''"
   ]
  },
  {
   "cell_type": "code",
   "execution_count": 8,
   "metadata": {},
   "outputs": [],
   "source": [
    "injection_parameters = dict(mass_1=36.0, mass_2=29.0, eccentricity=0.1, luminosity_distance=4000.0, theta_jn=0.4, psi=2.659, phase=1.3, geocent_time=1126259642.413, ra=1.375, dec=-1.2108)"
   ]
  },
  {
   "cell_type": "code",
   "execution_count": 9,
   "metadata": {},
   "outputs": [
    {
     "name": "stderr",
     "output_type": "stream",
     "text": [
      "13:55 bilby INFO    : Waveform generator initiated with\n",
      "  frequency_domain_source_model: __main__.eccentric_waveform\n",
      "  time_domain_source_model: None\n",
      "  parameter_conversion: bilby.gw.conversion.convert_to_lal_binary_black_hole_parameters\n"
     ]
    }
   ],
   "source": [
    "waveform_generator = bilby.gw.waveform_generator.WaveformGenerator(\n",
    "    duration=duration, sampling_frequency=sampling_frequency,\n",
    "    frequency_domain_source_model=eccentric_waveform)\n"
   ]
  },
  {
   "cell_type": "code",
   "execution_count": 10,
   "metadata": {},
   "outputs": [
    {
     "name": "stderr",
     "output_type": "stream",
     "text": [
      "/home/hemantakumar.phurailatpam/anaconda3/envs/bilby/lib/python3.7/site-packages/bilby/gw/detector/psd.py:356: RuntimeWarning: invalid value encountered in multiply\n",
      "  frequency_domain_strain = self.__power_spectral_density_interpolated(frequencies) ** 0.5 * white_noise\n",
      "13:55 bilby WARNING : Injecting signal outside segment, start_time=1126259639.413, merger time=1126259642.413.\n",
      "13:55 bilby INFO    : Injected signal in H1:\n",
      "13:55 bilby INFO    :   optimal SNR = 4.17\n",
      "13:55 bilby INFO    :   matched filter SNR = 4.25-0.40j\n",
      "13:55 bilby INFO    :   mass_1 = 36.0\n",
      "13:55 bilby INFO    :   mass_2 = 29.0\n",
      "13:55 bilby INFO    :   eccentricity = 0.1\n",
      "13:55 bilby INFO    :   luminosity_distance = 4000.0\n",
      "13:55 bilby INFO    :   theta_jn = 0.4\n",
      "13:55 bilby INFO    :   psi = 2.659\n",
      "13:55 bilby INFO    :   phase = 1.3\n",
      "13:55 bilby INFO    :   geocent_time = 1126259642.413\n",
      "13:55 bilby INFO    :   ra = 1.375\n",
      "13:55 bilby INFO    :   dec = -1.2108\n",
      "13:55 bilby WARNING : Injecting signal outside segment, start_time=1126259639.413, merger time=1126259642.413.\n",
      "13:55 bilby INFO    : Injected signal in L1:\n",
      "13:55 bilby INFO    :   optimal SNR = 3.38\n",
      "13:55 bilby INFO    :   matched filter SNR = 3.64-0.62j\n",
      "13:55 bilby INFO    :   mass_1 = 36.0\n",
      "13:55 bilby INFO    :   mass_2 = 29.0\n",
      "13:55 bilby INFO    :   eccentricity = 0.1\n",
      "13:55 bilby INFO    :   luminosity_distance = 4000.0\n",
      "13:55 bilby INFO    :   theta_jn = 0.4\n",
      "13:55 bilby INFO    :   psi = 2.659\n",
      "13:55 bilby INFO    :   phase = 1.3\n",
      "13:55 bilby INFO    :   geocent_time = 1126259642.413\n",
      "13:55 bilby INFO    :   ra = 1.375\n",
      "13:55 bilby INFO    :   dec = -1.2108\n"
     ]
    }
   ],
   "source": [
    "# Set up interferometers.\n",
    "minimum_frequency = 20.0+5.0\n",
    "MM1 = 35.0\n",
    "MM2 = 30.0\n",
    "maximum_frequency = (C**3)/( G*(MM1+MM2)*Mo*np.pi*6**(3/2) )-5.0\n",
    "\n",
    "ifos = bilby.gw.detector.InterferometerList(['H1', 'L1'])\n",
    "for ifo in ifos:\n",
    "    ifo.minimum_frequency = minimum_frequency\n",
    "    ifo.maximum_frequency = maximum_frequency\n",
    "ifos.set_strain_data_from_power_spectral_densities(\n",
    "    sampling_frequency=sampling_frequency, duration=duration,\n",
    "    start_time=injection_parameters['geocent_time'] - 3)\n",
    "injection = ifos.inject_signal(waveform_generator=waveform_generator,\n",
    "                   parameters=injection_parameters)"
   ]
  },
  {
   "cell_type": "code",
   "execution_count": 11,
   "metadata": {},
   "outputs": [],
   "source": [
    "#aa = np.array(H1_injection[\"cross\"])\n",
    "#print(aa[0:200])\n",
    "#aa = H1_injection[\"plus\"][idxs]\n",
    "#print(aa)"
   ]
  },
  {
   "cell_type": "code",
   "execution_count": 12,
   "metadata": {
    "scrolled": true
   },
   "outputs": [
    {
     "data": {
      "image/png": "[encoded data removed]",
      "text/plain": [
       "<Figure size 432x288 with 1 Axes>"
      ]
     },
     "metadata": {
      "needs_background": "light"
     },
     "output_type": "display_data"
    }
   ],
   "source": [
    "H1 = ifos[0]\n",
    "H1_injection = injection[0]\n",
    "\n",
    "fig, ax = plt.subplots()\n",
    "idxs = H1.strain_data.frequency_mask  # This is a boolean mask of the frequencies which we'll use in the analysis\n",
    "ax.loglog(H1.strain_data.frequency_array[idxs],\n",
    "          np.abs(H1.strain_data.frequency_domain_strain[idxs]),\n",
    "          label=\"data\")\n",
    "ax.loglog(H1.frequency_array[idxs],\n",
    "          H1.amplitude_spectral_density_array[idxs],\n",
    "          label=\"ASD\")\n",
    "ax.loglog(H1.frequency_array[idxs],\n",
    "          np.abs(H1_injection[\"cross\"][idxs]),\n",
    "          label=\"Abs. val. of plus polarization\")\n",
    "\n",
    "ax.set_xlim(minimum_frequency,maximum_frequency)\n",
    "ax.set_ylim(1e-26,2.327737159425905e-21)\n",
    "\n",
    "\n",
    "ax.set_xlabel(\"Frequency [Hz]\")\n",
    "ax.set_ylabel(\"Strain [strain/$\\sqrt{Hz}$]\")\n",
    "ax.legend()\n",
    "plt.show()"
   ]
  },
  {
   "cell_type": "code",
   "execution_count": 18,
   "metadata": {},
   "outputs": [
    {
     "data": {
      "text/plain": [
       "'\\npriors = bilby.core.prior.PriorDict()\\npriors[\"mass_1\"] = 10.0\\npriors[\"mass_2\"] = 10.0\\npriors[\"eccentricity\"] = Uniform(name=\\'eccentricity\\', minimum=0.01,maximum=0.4)\\npriors[\"luminosity_distance\"] = 100.\\npriors[\"theta_jn\"] = 1.0471975511965976\\npriors[\"psi\"] = 1.0471975511965976\\npriors[\"phase\"] = 0.0\\npriors[\"geocent_time\"] = 1180002601.0\\npriors[\"ra\"] = 1.375\\npriors[\"dec\"] = -1.2108\\n'"
      ]
     },
     "execution_count": 18,
     "metadata": {},
     "output_type": "execute_result"
    }
   ],
   "source": [
    "#injection_parameters = dict(mass_1=35.0, mass_2=30.0, eccentricity=0.1, luminosity_distance=440.0, \n",
    "#theta_jn=0.4, psi=0.1, phase=1.2, geocent_time=1180002601.0, ra=1.375, dec=-1.2108)\n",
    "prior = injection_parameters.copy()\n",
    "prior['eccentricity'] = bilby.core.prior.LogUniform(\n",
    "    name='eccentricity', latex_label='$e$', minimum=1e-4, maximum=0.4)\n",
    "\n",
    "\n",
    "'''\n",
    "priors = bilby.core.prior.PriorDict()\n",
    "priors[\"mass_1\"] = 10.0\n",
    "priors[\"mass_2\"] = 10.0\n",
    "priors[\"eccentricity\"] = Uniform(name='eccentricity', minimum=0.01,maximum=0.4)\n",
    "priors[\"luminosity_distance\"] = 100.\n",
    "priors[\"theta_jn\"] = 1.0471975511965976\n",
    "priors[\"psi\"] = 1.0471975511965976\n",
    "priors[\"phase\"] = 0.0\n",
    "priors[\"geocent_time\"] = 1180002601.0\n",
    "priors[\"ra\"] = 1.375\n",
    "priors[\"dec\"] = -1.2108\n",
    "'''"
   ]
  },
  {
   "cell_type": "code",
   "execution_count": 19,
   "metadata": {},
   "outputs": [],
   "source": [
    "likelihood = bilby.gw.likelihood.GravitationalWaveTransient(\n",
    "    interferometers=ifos, waveform_generator=waveform_generator)"
   ]
  },
  {
   "cell_type": "code",
   "execution_count": 20,
   "metadata": {
    "scrolled": true
   },
   "outputs": [
    {
     "name": "stderr",
     "output_type": "stream",
     "text": [
      "03:52 bilby INFO    : Running for label 'create_your_own_source_model', output will be saved to 'outdir_new_model'\n",
      "03:52 bilby INFO    : Using lal version 6.21.0\n",
      "03:52 bilby INFO    : Using lal git version Branch: None;Tag: lal-v6.21.0;Id: 37caf89936b637993c30b3076fe4b853311873ee;;Builder: Adam Mercer <adam.mercer@ligo.org>;Repository status: CLEAN: All modifications committed\n",
      "03:52 bilby INFO    : Using lalsimulation version 1.10.0\n",
      "03:52 bilby INFO    : Using lalsimulation git version Branch: None;Tag: lalsimulation-v1.10.0;Id: 5bfe091197594d55cf634f8a1c004eb9dc9b6459;;Builder: Adam Mercer <adam.mercer@ligo.org>;Repository status: CLEAN: All modifications committed\n",
      "03:52 bilby INFO    : Search parameters:\n",
      "03:52 bilby INFO    :   eccentricity = LogUniform(minimum=0.0001, maximum=0.4, name='eccentricity', latex_label='$e$', unit=None, boundary=None)\n",
      "03:52 bilby INFO    :   mass_1 = 36.0\n",
      "03:52 bilby INFO    :   mass_2 = 29.0\n",
      "03:52 bilby INFO    :   luminosity_distance = 4000.0\n",
      "03:52 bilby INFO    :   theta_jn = 0.4\n",
      "03:52 bilby INFO    :   psi = 2.659\n",
      "03:52 bilby INFO    :   phase = 1.3\n",
      "03:52 bilby INFO    :   geocent_time = 1126259642.413\n",
      "03:52 bilby INFO    :   ra = 1.375\n",
      "03:52 bilby INFO    :   dec = -1.2108\n",
      "03:58 bilby INFO    : Single likelihood evaluation took 3.494e+00 s\n"
     ]
    },
    {
     "name": "stdout",
     "output_type": "stream",
     "text": [
      "\r",
      "0it [00:00, ?it/s]"
     ]
    },
    {
     "name": "stderr",
     "output_type": "stream",
     "text": [
      "03:58 bilby INFO    : Using sampler Dynesty with kwargs {'bound': 'multi', 'sample': 'unif', 'verbose': True, 'periodic': None, 'reflective': None, 'check_point_delta_t': 600, 'nlive': 1000, 'first_update': None, 'walks': 100, 'npdim': None, 'rstate': None, 'queue_size': 16, 'pool': None, 'use_pool': None, 'live_points': None, 'logl_args': None, 'logl_kwargs': None, 'ptform_args': None, 'ptform_kwargs': None, 'enlarge': 1.5, 'bootstrap': None, 'vol_dec': 0.5, 'vol_check': 8.0, 'facc': 0.2, 'slices': 5, 'update_interval': 600, 'print_func': <bound method Dynesty._print_func of <bilby.core.sampler.dynesty.Dynesty object at 0x7f2a98461310>>, 'dlogz': 0.1, 'maxiter': None, 'maxcall': None, 'logl_max': inf, 'add_live': True, 'print_progress': True, 'save_bounds': False, 'n_effective': None, 'maxmcmc': 5000, 'nact': 5}\n",
      "03:58 bilby INFO    : Checkpoint every check_point_delta_t = 600s\n",
      "03:58 bilby INFO    : Using dynesty version 1.0.1\n",
      "03:58 bilby INFO    : Generating initial points from the prior\n",
      "04:55 bilby INFO    : Setting up multiproccesing pool with 16 processes.\n"
     ]
    },
    {
     "name": "stdout",
     "output_type": "stream",
     "text": [
      "688it [1:05:59,  1.14s/it, bound:0 nc:  3 ncall:2.0e+03 eff:34.5% logz-ratio=14.64+/-0.04 dlogz:0.891>0.1]"
     ]
    },
    {
     "name": "stderr",
     "output_type": "stream",
     "text": [
      "05:04 bilby INFO    : Written checkpoint file outdir_new_model/create_your_own_source_model_resume.pickle\n",
      "05:04 bilby INFO    : Writing 1094 current samples to outdir_new_model/create_your_own_source_model_samples.dat\n"
     ]
    },
    {
     "name": "stdout",
     "output_type": "stream",
     "text": [
      "1410it [1:23:23,  1.81s/it, bound:0 nc:  6 ncall:4.0e+03 eff:35.3% logz-ratio=15.19+/-0.03 dlogz:0.339>0.1]"
     ]
    },
    {
     "name": "stderr",
     "output_type": "stream",
     "text": [
      "05:22 bilby INFO    : Written checkpoint file outdir_new_model/create_your_own_source_model_resume.pickle\n",
      "05:22 bilby INFO    : Writing 1082 current samples to outdir_new_model/create_your_own_source_model_samples.dat\n"
     ]
    },
    {
     "name": "stdout",
     "output_type": "stream",
     "text": [
      "1816it [1:40:44,  4.03s/it, bound:0 nc:  6 ncall:6.0e+03 eff:30.2% logz-ratio=15.31+/-0.03 dlogz:0.213>0.1]"
     ]
    },
    {
     "name": "stderr",
     "output_type": "stream",
     "text": [
      "05:39 bilby INFO    : Written checkpoint file outdir_new_model/create_your_own_source_model_resume.pickle\n",
      "05:39 bilby INFO    : Writing 1103 current samples to outdir_new_model/create_your_own_source_model_samples.dat\n"
     ]
    },
    {
     "name": "stdout",
     "output_type": "stream",
     "text": [
      "2101it [1:58:03,  5.61s/it, bound:0 nc: 12 ncall:8.0e+03 eff:26.2% logz-ratio=15.37+/-0.02 dlogz:0.156>0.1]"
     ]
    },
    {
     "name": "stderr",
     "output_type": "stream",
     "text": [
      "05:56 bilby INFO    : Written checkpoint file outdir_new_model/create_your_own_source_model_resume.pickle\n",
      "05:56 bilby INFO    : Writing 1098 current samples to outdir_new_model/create_your_own_source_model_samples.dat\n"
     ]
    },
    {
     "name": "stdout",
     "output_type": "stream",
     "text": [
      "2307it [2:16:11,  7.55s/it, bound:0 nc: 16 ncall:1.0e+04 eff:22.8% logz-ratio=15.40+/-0.02 dlogz:0.125>0.1]"
     ]
    },
    {
     "name": "stderr",
     "output_type": "stream",
     "text": [
      "06:14 bilby INFO    : Written checkpoint file outdir_new_model/create_your_own_source_model_resume.pickle\n",
      "06:14 bilby INFO    : Writing 1121 current samples to outdir_new_model/create_your_own_source_model_samples.dat\n"
     ]
    },
    {
     "name": "stdout",
     "output_type": "stream",
     "text": [
      "2492it [2:33:57,  7.88s/it, bound:0 nc: 16 ncall:1.2e+04 eff:20.6% logz-ratio=15.42+/-0.02 dlogz:0.103>0.1]"
     ]
    },
    {
     "name": "stderr",
     "output_type": "stream",
     "text": [
      "06:32 bilby INFO    : Written checkpoint file outdir_new_model/create_your_own_source_model_resume.pickle\n",
      "06:32 bilby INFO    : Writing 1054 current samples to outdir_new_model/create_your_own_source_model_samples.dat\n"
     ]
    },
    {
     "name": "stdout",
     "output_type": "stream",
     "text": [
      "2516it [2:36:13,  3.72s/it, bound:0 nc:  1 ncall:1.2e+04 eff:22.0% logz-ratio=15.45+/-0.02 dlogz:0.079>0.1]"
     ]
    },
    {
     "name": "stderr",
     "output_type": "stream",
     "text": [
      "06:34 bilby INFO    : Written checkpoint file outdir_new_model/create_your_own_source_model_resume.pickle\n",
      "06:34 bilby INFO    : Writing 1109 current samples to outdir_new_model/create_your_own_source_model_samples.dat\n",
      "06:34 bilby INFO    : Starting to close worker pool.\n",
      "06:34 bilby INFO    : Finished closing worker pool.\n"
     ]
    },
    {
     "name": "stdout",
     "output_type": "stream",
     "text": [
      "\r",
      "2516it [2:36:17,  3.73s/it, bound:0 nc:  1 ncall:1.2e+04 eff:28.5% logz-ratio=15.53+/-nan dlogz:0.000>0.1] "
     ]
    },
    {
     "name": "stderr",
     "output_type": "stream",
     "text": [
      "06:34 bilby INFO    : Sampling time: 1:39:21.751654\n"
     ]
    },
    {
     "name": "stdout",
     "output_type": "stream",
     "text": [
      "\n",
      "\n"
     ]
    },
    {
     "name": "stderr",
     "output_type": "stream",
     "text": [
      "06:34 bilby INFO    : Summary of results:\n",
      "nsamples: 3516\n",
      "ln_noise_evidence: -166.744\n",
      "ln_evidence: -151.217 +/-    nan\n",
      "ln_bayes_factor: 15.527 +/-    nan\n",
      "\n"
     ]
    },
    {
     "data": {
      "image/png": "[encoded data removed]",
      "text/plain": [
       "<Figure size 432x288 with 1 Axes>"
      ]
     },
     "execution_count": 20,
     "metadata": {},
     "output_type": "execute_result"
    }
   ],
   "source": [
    "'''\n",
    "result = bilby.core.sampler.run_sampler(\n",
    "    likelihood, prior, sampler='dynesty', outdir=outdir, label=label,\n",
    "    resume=False, sample='unif', injection_parameters=injection_parameters, \n",
    "    nlive=500, clean=True, npool=16)\n",
    "'''\n",
    "result = bilby.core.sampler.run_sampler(\n",
    "    likelihood, prior, sampler='dynesty', outdir=outdir, label=label,\n",
    "    resume=False, sample='unif', injection_parameters=injection_parameters, npool=16)\n",
    "result.plot_corner()\n"
   ]
  },
  {
   "cell_type": "code",
   "execution_count": 16,
   "metadata": {
    "scrolled": true
   },
   "outputs": [
    {
     "data": {
      "text/plain": [
       "637"
      ]
     },
     "execution_count": 16,
     "metadata": {},
     "output_type": "execute_result"
    }
   ],
   "source": [
    "len(result.samples)"
   ]
  },
  {
   "cell_type": "code",
   "execution_count": null,
   "metadata": {},
   "outputs": [],
   "source": []
  },
  {
   "cell_type": "code",
   "execution_count": null,
   "metadata": {},
   "outputs": [],
   "source": []
  },
  {
   "cell_type": "code",
   "execution_count": null,
   "metadata": {},
   "outputs": [],
   "source": []
  },
  {
   "cell_type": "code",
   "execution_count": null,
   "metadata": {},
   "outputs": [],
   "source": []
  },
  {
   "cell_type": "code",
   "execution_count": null,
   "metadata": {},
   "outputs": [],
   "source": []
  },
  {
   "cell_type": "code",
   "execution_count": null,
   "metadata": {},
   "outputs": [],
   "source": []
  },
  {
   "cell_type": "code",
   "execution_count": null,
   "metadata": {},
   "outputs": [],
   "source": []
  },
  {
   "cell_type": "code",
   "execution_count": null,
   "metadata": {},
   "outputs": [],
   "source": []
  },
  {
   "cell_type": "code",
   "execution_count": null,
   "metadata": {},
   "outputs": [],
   "source": []
  },
  {
   "cell_type": "code",
   "execution_count": null,
   "metadata": {},
   "outputs": [],
   "source": []
  },
  {
   "cell_type": "code",
   "execution_count": null,
   "metadata": {},
   "outputs": [],
   "source": []
  },
  {
   "cell_type": "code",
   "execution_count": null,
   "metadata": {},
   "outputs": [],
   "source": []
  },
  {
   "cell_type": "code",
   "execution_count": null,
   "metadata": {},
   "outputs": [],
   "source": []
  },
  {
   "cell_type": "code",
   "execution_count": null,
   "metadata": {},
   "outputs": [],
   "source": []
  },
  {
   "cell_type": "code",
   "execution_count": null,
   "metadata": {},
   "outputs": [],
   "source": []
  },
  {
   "cell_type": "code",
   "execution_count": null,
   "metadata": {},
   "outputs": [],
   "source": []
  },
  {
   "cell_type": "code",
   "execution_count": null,
   "metadata": {},
   "outputs": [],
   "source": []
  },
  {
   "cell_type": "code",
   "execution_count": null,
   "metadata": {},
   "outputs": [],
   "source": []
  },
  {
   "cell_type": "code",
   "execution_count": null,
   "metadata": {},
   "outputs": [],
   "source": []
  },
  {
   "cell_type": "code",
   "execution_count": null,
   "metadata": {},
   "outputs": [],
   "source": []
  },
  {
   "cell_type": "code",
   "execution_count": null,
   "metadata": {},
   "outputs": [],
   "source": []
  },
  {
   "cell_type": "code",
   "execution_count": null,
   "metadata": {},
   "outputs": [],
   "source": []
  },
  {
   "cell_type": "code",
   "execution_count": null,
   "metadata": {},
   "outputs": [],
   "source": []
  }
 ],
 "metadata": {
  "kernelspec": {
   "display_name": "Python 3",
   "language": "python",
   "name": "python3"
  },
  "language_info": {
   "codemirror_mode": {
    "name": "ipython",
    "version": 3
   },
   "file_extension": ".py",
   "mimetype": "text/x-python",
   "name": "python",
   "nbconvert_exporter": "python",
   "pygments_lexer": "ipython3",
   "version": "3.7.7"
  }
 },
 "nbformat": 4,
 "nbformat_minor": 4
}
