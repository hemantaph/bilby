{
 "cells": [
  {
   "cell_type": "markdown",
   "metadata": {},
   "source": [
    "# eccentric waveform"
   ]
  },
  {
   "cell_type": "code",
   "execution_count": 1,
   "metadata": {},
   "outputs": [],
   "source": [
    "from __future__ import division, print_function\n",
    "import matplotlib.pyplot as plt\n",
    "import bilby\n",
    "import numpy as np\n",
    "\n",
    "import hphc14\n",
    "#import hphc11\n",
    "\n",
    "C = 299792458.\n",
    "G = 6.67408*1e-11\n",
    "Mo = 1.989*1e30\n",
    "Mpc = 3.086*1e22\n",
    "\n",
    "%matplotlib inline"
   ]
  },
  {
   "cell_type": "code",
   "execution_count": 2,
   "metadata": {},
   "outputs": [],
   "source": [
    "sampling_frequency = 1024.0\n",
    "duration = 4.0"
   ]
  },
  {
   "cell_type": "code",
   "execution_count": 3,
   "metadata": {},
   "outputs": [],
   "source": [
    "#test for eccn package\n",
    "from eccn.functions import eccentric_waveform"
   ]
  },
  {
   "cell_type": "code",
   "execution_count": 30,
   "metadata": {},
   "outputs": [],
   "source": [
    "def eccentric_waveform(frequency_array_, chirp_mass, mass_ratio, eccentricity, luminosity_distance, theta_jn, psi, phase, geocent_time, ra, dec):\n",
    "    \n",
    "    mass_1 = (chirp_mass*(1+mass_ratio)**(1/5))/mass_ratio**(3/5)\n",
    "    mass_2 = chirp_mass*mass_ratio**(2/5)*(1+mass_ratio)**(1/5)\n",
    "    luminosity_distance = luminosity_distance*Mpc\n",
    "    total_mass = (mass_1+mass_2)*Mo\n",
    "    symmetric_mass_ratio = (mass_1*mass_2)/((mass_1+mass_2)**2)\n",
    "    maximum_f = (C**3)/( G*(mass_1+mass_2)*Mo*np.pi*6**(3/2) )\n",
    "    minimum_f = 20.0\n",
    "    mass_diff = (mass_1-mass_2)*Mo\n",
    "    \n",
    "    foo = np.array(frequency_array_)\n",
    "\n",
    "    arg_plus = {'iota_':theta_jn, 'beta_':psi, 'D_':luminosity_distance , \\\n",
    "                'farray_':foo, 'f0_':20.0, 'et0_':eccentricity, 'phic_':phase, \\\n",
    "                'tc_':geocent_time, 'M_':total_mass, 'eta_':symmetric_mass_ratio, \\\n",
    "                'ff_':maximum_f, 'delta_':mass_diff}\n",
    "\n",
    "    fplus = hphc14.Fn(**arg_plus)\n",
    "\n",
    "    h_plus = fplus.htilde()[0]\n",
    "    h_cross = fplus.htilde()[1]\n",
    "\n",
    "    return {'plus': h_plus, 'cross': h_cross}\n",
    "    #return(fplus.htilde())"
   ]
  },
  {
   "cell_type": "code",
   "execution_count": 4,
   "metadata": {},
   "outputs": [
    {
     "data": {
      "text/plain": [
       "{'plus': array([-3.64941971e-23+2.33325147e-23j,\n",
       "         3.27331426e-23+1.31537610e-23j]),\n",
       " 'cross': array([-2.32564747e-23-3.63700052e-23j,\n",
       "        -1.31116592e-23+3.26272999e-23j])}"
      ]
     },
     "execution_count": 4,
     "metadata": {},
     "output_type": "execute_result"
    }
   ],
   "source": [
    "eccentric_waveform([40,50],19.564163812778446,0.9148936170212766,0.1,200.0,0.4,0.1,1.2,1180002601.0,45,5.73)"
   ]
  },
  {
   "cell_type": "code",
   "execution_count": 9,
   "metadata": {},
   "outputs": [
    {
     "ename": "NameError",
     "evalue": "name 'zz' is not defined",
     "output_type": "error",
     "traceback": [
      "\u001b[0;31m---------------------------------------------------------------------------\u001b[0m",
      "\u001b[0;31mNameError\u001b[0m                                 Traceback (most recent call last)",
      "\u001b[0;32m<ipython-input-9-15546de8c3b0>\u001b[0m in \u001b[0;36m<module>\u001b[0;34m\u001b[0m\n\u001b[0;32m----> 1\u001b[0;31m \u001b[0mzz\u001b[0m\u001b[0;34m\u001b[0m\u001b[0;34m\u001b[0m\u001b[0m\n\u001b[0m",
      "\u001b[0;31mNameError\u001b[0m: name 'zz' is not defined"
     ]
    }
   ],
   "source": [
    "zz"
   ]
  },
  {
   "cell_type": "code",
   "execution_count": 10,
   "metadata": {},
   "outputs": [
    {
     "ename": "NameError",
     "evalue": "name 'zz' is not defined",
     "output_type": "error",
     "traceback": [
      "\u001b[0;31m---------------------------------------------------------------------------\u001b[0m",
      "\u001b[0;31mNameError\u001b[0m                                 Traceback (most recent call last)",
      "\u001b[0;32m<ipython-input-10-09c6e173f209>\u001b[0m in \u001b[0;36m<module>\u001b[0;34m\u001b[0m\n\u001b[1;32m      1\u001b[0m \u001b[0;32mfor\u001b[0m \u001b[0mii\u001b[0m \u001b[0;32min\u001b[0m \u001b[0mrange\u001b[0m\u001b[0;34m(\u001b[0m\u001b[0;36m10\u001b[0m\u001b[0;34m)\u001b[0m\u001b[0;34m:\u001b[0m\u001b[0;34m\u001b[0m\u001b[0;34m\u001b[0m\u001b[0m\n\u001b[0;32m----> 2\u001b[0;31m     \u001b[0mprint\u001b[0m\u001b[0;34m(\u001b[0m\u001b[0mzz\u001b[0m\u001b[0;34m[\u001b[0m\u001b[0mii\u001b[0m\u001b[0;34m,\u001b[0m\u001b[0;36m0\u001b[0m\u001b[0;34m]\u001b[0m\u001b[0;34m)\u001b[0m\u001b[0;34m\u001b[0m\u001b[0;34m\u001b[0m\u001b[0m\n\u001b[0m",
      "\u001b[0;31mNameError\u001b[0m: name 'zz' is not defined"
     ]
    }
   ],
   "source": [
    "for ii in range(10):\n",
    "    print(zz[ii,0])"
   ]
  },
  {
   "cell_type": "code",
   "execution_count": 11,
   "metadata": {},
   "outputs": [
    {
     "ename": "NameError",
     "evalue": "name 'zz' is not defined",
     "output_type": "error",
     "traceback": [
      "\u001b[0;31m---------------------------------------------------------------------------\u001b[0m",
      "\u001b[0;31mNameError\u001b[0m                                 Traceback (most recent call last)",
      "\u001b[0;32m<ipython-input-11-5346e71d3486>\u001b[0m in \u001b[0;36m<module>\u001b[0;34m\u001b[0m\n\u001b[0;32m----> 1\u001b[0;31m \u001b[0mzz\u001b[0m\u001b[0;34m.\u001b[0m\u001b[0mshape\u001b[0m\u001b[0;34m\u001b[0m\u001b[0;34m\u001b[0m\u001b[0m\n\u001b[0m",
      "\u001b[0;31mNameError\u001b[0m: name 'zz' is not defined"
     ]
    }
   ],
   "source": [
    "zz.shape"
   ]
  },
  {
   "cell_type": "code",
   "execution_count": 12,
   "metadata": {},
   "outputs": [
    {
     "ename": "NameError",
     "evalue": "name 'time' is not defined",
     "output_type": "error",
     "traceback": [
      "\u001b[0;31m---------------------------------------------------------------------------\u001b[0m",
      "\u001b[0;31mNameError\u001b[0m                                 Traceback (most recent call last)",
      "\u001b[0;32m<ipython-input-12-bf4e6250804d>\u001b[0m in \u001b[0;36m<module>\u001b[0;34m\u001b[0m\n\u001b[0;32m----> 1\u001b[0;31m \u001b[0mt1\u001b[0m \u001b[0;34m=\u001b[0m \u001b[0mtime\u001b[0m\u001b[0;34m.\u001b[0m\u001b[0mtime\u001b[0m\u001b[0;34m(\u001b[0m\u001b[0;34m)\u001b[0m\u001b[0;34m\u001b[0m\u001b[0;34m\u001b[0m\u001b[0m\n\u001b[0m\u001b[1;32m      2\u001b[0m \u001b[0;34m\u001b[0m\u001b[0m\n\u001b[1;32m      3\u001b[0m \u001b[0mzz\u001b[0m \u001b[0;34m=\u001b[0m \u001b[0meccentric_waveform\u001b[0m\u001b[0;34m(\u001b[0m\u001b[0mnp\u001b[0m\u001b[0;34m.\u001b[0m\u001b[0marange\u001b[0m\u001b[0;34m(\u001b[0m\u001b[0;36m20.\u001b[0m\u001b[0;34m,\u001b[0m\u001b[0;36m200.\u001b[0m\u001b[0;34m,\u001b[0m\u001b[0;36m1.\u001b[0m\u001b[0;34m)\u001b[0m\u001b[0;34m,\u001b[0m\u001b[0;36m19.564163812778446\u001b[0m\u001b[0;34m,\u001b[0m\u001b[0;36m0.9148936170212766\u001b[0m\u001b[0;34m,\u001b[0m\u001b[0;36m0.1\u001b[0m\u001b[0;34m,\u001b[0m\u001b[0;36m200.0\u001b[0m\u001b[0;34m,\u001b[0m\u001b[0;36m0.4\u001b[0m\u001b[0;34m,\u001b[0m\u001b[0;36m0.1\u001b[0m\u001b[0;34m,\u001b[0m\u001b[0;36m1.2\u001b[0m\u001b[0;34m,\u001b[0m\u001b[0;36m1180002601.0\u001b[0m\u001b[0;34m,\u001b[0m\u001b[0;36m45\u001b[0m\u001b[0;34m,\u001b[0m\u001b[0;36m5.73\u001b[0m\u001b[0;34m)\u001b[0m\u001b[0;34m\u001b[0m\u001b[0;34m\u001b[0m\u001b[0m\n\u001b[1;32m      4\u001b[0m \u001b[0;34m\u001b[0m\u001b[0m\n\u001b[1;32m      5\u001b[0m \u001b[0mt2\u001b[0m \u001b[0;34m=\u001b[0m \u001b[0mtime\u001b[0m\u001b[0;34m.\u001b[0m\u001b[0mtime\u001b[0m\u001b[0;34m(\u001b[0m\u001b[0;34m)\u001b[0m\u001b[0;34m\u001b[0m\u001b[0;34m\u001b[0m\u001b[0m\n",
      "\u001b[0;31mNameError\u001b[0m: name 'time' is not defined"
     ]
    }
   ],
   "source": [
    "t1 = time.time()\n",
    "\n",
    "zz = eccentric_waveform(np.arange(20.,200.,1.),19.564163812778446,0.9148936170212766,0.1,200.0,0.4,0.1,1.2,1180002601.0,45,5.73)\n",
    "\n",
    "t2 = time.time()\n",
    "t = t2 - t1\n",
    "print(\"%.20f\" % t)"
   ]
  },
  {
   "cell_type": "code",
   "execution_count": 13,
   "metadata": {
    "scrolled": true
   },
   "outputs": [
    {
     "name": "stderr",
     "output_type": "stream",
     "text": [
      "20:33 bilby INFO    : Waveform generator initiated with\n",
      "  frequency_domain_source_model: __main__.eccentric_waveform\n",
      "  time_domain_source_model: None\n",
      "  parameter_conversion: bilby.gw.conversion.convert_to_lal_binary_black_hole_parameters\n"
     ]
    }
   ],
   "source": [
    "injection_parameters = dict(chirp_mass=19.564163812778446, mass_ratio=0.9148936170212766, eccentricity=0.1, luminosity_distance=200.0, theta_jn=0.4, psi=0.1, phase=1.2, geocent_time=1180002601.0, ra=45.0, dec=5.73)\n",
    "\n",
    "waveform_generator = bilby.gw.waveform_generator.WaveformGenerator(\n",
    "    duration=duration, sampling_frequency=sampling_frequency,\n",
    "    frequency_domain_source_model=eccentric_waveform)"
   ]
  },
  {
   "cell_type": "code",
   "execution_count": 14,
   "metadata": {
    "scrolled": true
   },
   "outputs": [
    {
     "name": "stderr",
     "output_type": "stream",
     "text": [
      "/home/hemantakumar.phurailatpam/anaconda3/envs/bilby/lib/python3.7/site-packages/bilby/gw/detector/psd.py:356: RuntimeWarning: invalid value encountered in multiply\n",
      "  frequency_domain_strain = self.__power_spectral_density_interpolated(frequencies) ** 0.5 * white_noise\n",
      "20:33 bilby INFO    : Injected signal in H1:\n",
      "20:33 bilby INFO    :   optimal SNR = 89.59\n",
      "20:33 bilby INFO    :   matched filter SNR = 88.91-0.81j\n",
      "20:33 bilby INFO    :   chirp_mass = 19.564163812778446\n",
      "20:33 bilby INFO    :   mass_ratio = 0.9148936170212766\n",
      "20:33 bilby INFO    :   eccentricity = 0.1\n",
      "20:33 bilby INFO    :   luminosity_distance = 200.0\n",
      "20:33 bilby INFO    :   theta_jn = 0.4\n",
      "20:33 bilby INFO    :   psi = 0.1\n",
      "20:33 bilby INFO    :   phase = 1.2\n",
      "20:33 bilby INFO    :   geocent_time = 1180002601.0\n",
      "20:33 bilby INFO    :   ra = 45.0\n",
      "20:33 bilby INFO    :   dec = 5.73\n",
      "20:33 bilby INFO    : Injected signal in L1:\n",
      "20:33 bilby INFO    :   optimal SNR = 52.69\n",
      "20:33 bilby INFO    :   matched filter SNR = 52.34+0.97j\n",
      "20:33 bilby INFO    :   chirp_mass = 19.564163812778446\n",
      "20:33 bilby INFO    :   mass_ratio = 0.9148936170212766\n",
      "20:33 bilby INFO    :   eccentricity = 0.1\n",
      "20:33 bilby INFO    :   luminosity_distance = 200.0\n",
      "20:33 bilby INFO    :   theta_jn = 0.4\n",
      "20:33 bilby INFO    :   psi = 0.1\n",
      "20:33 bilby INFO    :   phase = 1.2\n",
      "20:33 bilby INFO    :   geocent_time = 1180002601.0\n",
      "20:33 bilby INFO    :   ra = 45.0\n",
      "20:33 bilby INFO    :   dec = 5.73\n"
     ]
    },
    {
     "data": {
      "text/plain": [
       "[{'plus': array([0.+0.j, 0.+0.j, 0.+0.j, ..., 0.+0.j, 0.+0.j, 0.+0.j]),\n",
       "  'cross': array([0.+0.j, 0.+0.j, 0.+0.j, ..., 0.+0.j, 0.+0.j, 0.+0.j])},\n",
       " {'plus': array([0.+0.j, 0.+0.j, 0.+0.j, ..., 0.+0.j, 0.+0.j, 0.+0.j]),\n",
       "  'cross': array([0.+0.j, 0.+0.j, 0.+0.j, ..., 0.+0.j, 0.+0.j, 0.+0.j])}]"
      ]
     },
     "execution_count": 14,
     "metadata": {},
     "output_type": "execute_result"
    }
   ],
   "source": [
    "# Set up interferometers.\n",
    "#maximum_f = (C**3)/( G*(mass_1+mass_2)*Mo*np.pi*6**(3/2) )\n",
    "minimum_frequency = 20.0+3.0\n",
    "MM1 = 23.5\n",
    "MM2 = 21.5\n",
    "maximum_frequency = (C**3)/( G*(MM1+MM2)*Mo*np.pi*6**(3/2) )-3.0\n",
    "\n",
    "ifos = bilby.gw.detector.InterferometerList(['H1', 'L1'])\n",
    "for ifo in ifos:\n",
    "    ifo.minimum_frequency = minimum_frequency\n",
    "    ifo.maximum_frequency = maximum_frequency\n",
    "ifos.set_strain_data_from_power_spectral_densities(\n",
    "    sampling_frequency=sampling_frequency, duration=duration,\n",
    "    start_time=injection_parameters['geocent_time'] - 3)\n",
    "ifos.inject_signal(waveform_generator=waveform_generator,\n",
    "                   parameters=injection_parameters)"
   ]
  },
  {
   "cell_type": "code",
   "execution_count": 16,
   "metadata": {},
   "outputs": [
    {
     "name": "stderr",
     "output_type": "stream",
     "text": [
      "20:34 bilby INFO    : Injected signal in H1:\n",
      "20:34 bilby INFO    :   optimal SNR = 89.59\n",
      "20:34 bilby INFO    :   matched filter SNR = 268.09-0.81j\n",
      "20:34 bilby INFO    :   chirp_mass = 19.564163812778446\n",
      "20:34 bilby INFO    :   mass_ratio = 0.9148936170212766\n",
      "20:34 bilby INFO    :   eccentricity = 0.1\n",
      "20:34 bilby INFO    :   luminosity_distance = 200.0\n",
      "20:34 bilby INFO    :   theta_jn = 0.4\n",
      "20:34 bilby INFO    :   psi = 0.1\n",
      "20:34 bilby INFO    :   phase = 1.2\n",
      "20:34 bilby INFO    :   geocent_time = 1180002601.0\n",
      "20:34 bilby INFO    :   ra = 45.0\n",
      "20:34 bilby INFO    :   dec = 5.73\n",
      "20:34 bilby INFO    : Injected signal in L1:\n",
      "20:34 bilby INFO    :   optimal SNR = 52.69\n",
      "20:34 bilby INFO    :   matched filter SNR = 157.72+0.97j\n",
      "20:34 bilby INFO    :   chirp_mass = 19.564163812778446\n",
      "20:34 bilby INFO    :   mass_ratio = 0.9148936170212766\n",
      "20:34 bilby INFO    :   eccentricity = 0.1\n",
      "20:34 bilby INFO    :   luminosity_distance = 200.0\n",
      "20:34 bilby INFO    :   theta_jn = 0.4\n",
      "20:34 bilby INFO    :   psi = 0.1\n",
      "20:34 bilby INFO    :   phase = 1.2\n",
      "20:34 bilby INFO    :   geocent_time = 1180002601.0\n",
      "20:34 bilby INFO    :   ra = 45.0\n",
      "20:34 bilby INFO    :   dec = 5.73\n"
     ]
    },
    {
     "data": {
      "image/png": "[encoded data removed]",
      "text/plain": [
       "<Figure size 432x288 with 1 Axes>"
      ]
     },
     "metadata": {
      "needs_background": "light"
     },
     "output_type": "display_data"
    }
   ],
   "source": [
    "injection = ifos.inject_signal(waveform_generator=waveform_generator,\n",
    "                   parameters=injection_parameters)\n",
    "\n",
    "H1 = ifos[0]\n",
    "H1_injection = injection[0]\n",
    "\n",
    "fig, ax = plt.subplots()\n",
    "idxs = H1.strain_data.frequency_mask  # This is a boolean mask of the frequencies which we'll use in the analysis\n",
    "ax.loglog(H1.strain_data.frequency_array[idxs],\n",
    "          np.abs(H1.strain_data.frequency_domain_strain[idxs]),\n",
    "          label=\"data\")\n",
    "ax.loglog(H1.frequency_array[idxs],\n",
    "          H1.amplitude_spectral_density_array[idxs],\n",
    "          label=\"ASD\")\n",
    "ax.loglog(H1.frequency_array[idxs],\n",
    "          np.abs(H1_injection[\"cross\"][idxs]),\n",
    "          label=\"Abs. val. of plus polarization\")\n",
    "\n",
    "ax.set_xlim(minimum_frequency,maximum_frequency)\n",
    "ax.set_ylim(1e-26,2.327737159425905e-21)\n",
    "\n",
    "\n",
    "ax.set_xlabel(\"Frequency [Hz]\")\n",
    "ax.set_ylabel(\"Strain [strain/$\\sqrt{Hz}$]\")\n",
    "ax.legend()\n",
    "plt.show()"
   ]
  },
  {
   "cell_type": "code",
   "execution_count": 9,
   "metadata": {},
   "outputs": [],
   "source": [
    "#17.411011265922482,19.441935582935383,21.7637640824031\n",
    "prior = bilby.core.prior.PriorDict()\n",
    "prior['chirp_mass'] = 19.564163812778446\n",
    "prior['mass_ratio'] = 0.9148936170212766\n",
    "prior['eccentricity'] = bilby.core.prior.LogUniform(name='eccentricity', minimum=0.01, maximum=0.2)\n",
    "prior[\"luminosity_distance\"] = 200.0\n",
    "prior[\"theta_jn\"] = 0.4\n",
    "prior[\"psi\"] = 0.1\n",
    "prior[\"phase\"] = 1.2\n",
    "prior[\"geocent_time\"] = 1180002601.0\n",
    "prior[\"ra\"] = 45.0\n",
    "prior[\"dec\"] = 5.73"
   ]
  },
  {
   "cell_type": "code",
   "execution_count": 10,
   "metadata": {},
   "outputs": [],
   "source": [
    "# Initialising the likelihood function.\n",
    "likelihood = bilby.gw.likelihood.GravitationalWaveTransient(\n",
    "    interferometers=ifos, waveform_generator=waveform_generator)"
   ]
  },
  {
   "cell_type": "code",
   "execution_count": null,
   "metadata": {},
   "outputs": [
    {
     "name": "stderr",
     "output_type": "stream",
     "text": [
      "07:58 bilby INFO    : Running for label 'eccn', output will be saved to 'short'\n",
      "07:58 bilby INFO    : Using lal version 7.1.2\n",
      "07:58 bilby INFO    : Using lal git version Branch: None;Tag: lalsuite-v6.82;Id: cf792129c2473f42ce6c6ee21d8234254cefd337;;Builder: Unknown User <>;Repository status: UNCLEAN: Modified working tree\n",
      "07:58 bilby INFO    : Using lalsimulation version 2.5.1\n",
      "07:58 bilby INFO    : Using lalsimulation git version Branch: None;Tag: lalsuite-v6.82;Id: cf792129c2473f42ce6c6ee21d8234254cefd337;;Builder: Unknown User <>;Repository status: UNCLEAN: Modified working tree\n",
      "07:58 bilby INFO    : Search parameters:\n",
      "07:58 bilby INFO    :   eccentricity = LogUniform(minimum=0.01, maximum=0.2, name='eccentricity', latex_label='eccentricity', unit=None, boundary=None)\n",
      "07:58 bilby INFO    :   chirp_mass = 19.564163812778446\n",
      "07:58 bilby INFO    :   mass_ratio = 0.9148936170212766\n",
      "07:58 bilby INFO    :   luminosity_distance = 200.0\n",
      "07:58 bilby INFO    :   theta_jn = 0.4\n",
      "07:58 bilby INFO    :   psi = 0.1\n",
      "07:58 bilby INFO    :   phase = 1.2\n",
      "07:58 bilby INFO    :   geocent_time = 1180002601.0\n",
      "07:58 bilby INFO    :   ra = 45.0\n",
      "07:58 bilby INFO    :   dec = 5.73\n",
      "08:03 bilby INFO    : Single likelihood evaluation took 2.953e+00 s\n"
     ]
    },
    {
     "name": "stdout",
     "output_type": "stream",
     "text": [
      "\r",
      "0it [00:00, ?it/s]"
     ]
    },
    {
     "name": "stderr",
     "output_type": "stream",
     "text": [
      "08:03 bilby INFO    : Using sampler Dynesty with kwargs {'bound': 'multi', 'sample': 'rwalk', 'verbose': True, 'periodic': None, 'reflective': None, 'check_point_delta_t': 600, 'nlive': 500, 'first_update': None, 'walks': 100, 'npdim': None, 'rstate': None, 'queue_size': 1, 'pool': None, 'use_pool': None, 'live_points': None, 'logl_args': None, 'logl_kwargs': None, 'ptform_args': None, 'ptform_kwargs': None, 'enlarge': 1.5, 'bootstrap': None, 'vol_dec': 0.5, 'vol_check': 8.0, 'facc': 0.2, 'slices': 5, 'update_interval': 300, 'print_func': <bound method Dynesty._print_func of <bilby.core.sampler.dynesty.Dynesty object at 0x7ff3363c5c90>>, 'dlogz': 3, 'maxiter': None, 'maxcall': None, 'logl_max': inf, 'add_live': True, 'print_progress': True, 'save_bounds': False, 'n_effective': None, 'maxmcmc': 5000, 'nact': 5}\n",
      "08:03 bilby INFO    : Checkpoint every check_point_delta_t = 600s\n",
      "08:03 bilby INFO    : Using dynesty version 1.0.1\n",
      "08:03 bilby INFO    : Generating initial points from the prior\n",
      "08:28 bilby INFO    : Using the bilby-implemented rwalk sample method with ACT estimated walks\n",
      "08:28 bilby INFO    : Reading resume file short/eccn_resume.pickle\n",
      "08:28 bilby INFO    : Resume file successfully loaded.\n"
     ]
    },
    {
     "name": "stdout",
     "output_type": "stream",
     "text": [
      "714it [56:48, 10.60s/it, bound:0 nc:  1 ncall:2.2e+03 eff:32.9% logz-ratio=14376.35+/-0.16 dlogz:439.749>3]"
     ]
    }
   ],
   "source": [
    "result = bilby.run_sampler(likelihood=likelihood, priors=prior, sampler='dynesty', outdir='short', label=\"eccn\", nlive=500, dlogz=3, npool=1)"
   ]
  },
  {
   "cell_type": "code",
   "execution_count": 28,
   "metadata": {},
   "outputs": [],
   "source": [
    "H1 = ifos[0]\n",
    "L1 = ifos[1]"
   ]
  },
  {
   "cell_type": "code",
   "execution_count": 32,
   "metadata": {},
   "outputs": [
    {
     "data": {
      "text/plain": [
       "[<matplotlib.lines.Line2D at 0x7fa3536eced0>]"
      ]
     },
     "execution_count": 32,
     "metadata": {},
     "output_type": "execute_result"
    },
    {
     "data": {
      "image/png": "[encoded data removed]",
      "text/plain": [
       "<Figure size 432x288 with 1 Axes>"
      ]
     },
     "metadata": {
      "needs_background": "light"
     },
     "output_type": "display_data"
    }
   ],
   "source": [
    "plt.plot(H1.strain_data.time_array,H1.strain_data.time_domain_strain)"
   ]
  },
  {
   "cell_type": "code",
   "execution_count": 36,
   "metadata": {},
   "outputs": [
    {
     "data": {
      "text/plain": [
       "(1180002599.5, 1180002600.5)"
      ]
     },
     "execution_count": 36,
     "metadata": {},
     "output_type": "execute_result"
    },
    {
     "data": {
      "image/png": "[encoded data removed]",
      "text/plain": [
       "<Figure size 432x288 with 1 Axes>"
      ]
     },
     "metadata": {
      "needs_background": "light"
     },
     "output_type": "display_data"
    }
   ],
   "source": [
    "fig, ax = plt.subplots()\n",
    "ax.plot(H1.strain_data.time_array,H1.strain_data.time_domain_strain)\n",
    "ax.set_xlim(1180002600.0-0.5,1180002600.0+0.5)"
   ]
  },
  {
   "cell_type": "code",
   "execution_count": 11,
   "metadata": {},
   "outputs": [],
   "source": [
    "chirp_mass=19.564163812778446\n",
    "mass_ratio=0.9148936170212766\n",
    "mass_1 = (chirp_mass*(1+mass_ratio)**(1/5))/mass_ratio**(3/5)\n",
    "mass_2 = chirp_mass*mass_ratio**(2/5)*(1+mass_ratio)**(1/5)"
   ]
  },
  {
   "cell_type": "code",
   "execution_count": 12,
   "metadata": {},
   "outputs": [
    {
     "data": {
      "text/plain": [
       "23.499999999999996"
      ]
     },
     "execution_count": 12,
     "metadata": {},
     "output_type": "execute_result"
    }
   ],
   "source": [
    "mass_1"
   ]
  },
  {
   "cell_type": "code",
   "execution_count": 13,
   "metadata": {},
   "outputs": [
    {
     "data": {
      "text/plain": [
       "21.499999999999993"
      ]
     },
     "execution_count": 13,
     "metadata": {},
     "output_type": "execute_result"
    }
   ],
   "source": [
    "mass_2"
   ]
  },
  {
   "cell_type": "code",
   "execution_count": null,
   "metadata": {},
   "outputs": [],
   "source": []
  },
  {
   "cell_type": "code",
   "execution_count": null,
   "metadata": {},
   "outputs": [],
   "source": []
  },
  {
   "cell_type": "code",
   "execution_count": null,
   "metadata": {},
   "outputs": [],
   "source": []
  },
  {
   "cell_type": "code",
   "execution_count": null,
   "metadata": {},
   "outputs": [],
   "source": []
  },
  {
   "cell_type": "code",
   "execution_count": null,
   "metadata": {},
   "outputs": [],
   "source": []
  },
  {
   "cell_type": "code",
   "execution_count": null,
   "metadata": {},
   "outputs": [],
   "source": []
  },
  {
   "cell_type": "code",
   "execution_count": null,
   "metadata": {},
   "outputs": [],
   "source": []
  },
  {
   "cell_type": "code",
   "execution_count": null,
   "metadata": {},
   "outputs": [],
   "source": []
  },
  {
   "cell_type": "code",
   "execution_count": null,
   "metadata": {},
   "outputs": [],
   "source": []
  },
  {
   "cell_type": "code",
   "execution_count": null,
   "metadata": {},
   "outputs": [],
   "source": []
  },
  {
   "cell_type": "code",
   "execution_count": null,
   "metadata": {},
   "outputs": [],
   "source": []
  },
  {
   "cell_type": "code",
   "execution_count": null,
   "metadata": {},
   "outputs": [],
   "source": []
  }
 ],
 "metadata": {
  "kernelspec": {
   "display_name": "Python 3",
   "language": "python",
   "name": "python3"
  },
  "language_info": {
   "codemirror_mode": {
    "name": "ipython",
    "version": 3
   },
   "file_extension": ".py",
   "mimetype": "text/x-python",
   "name": "python",
   "nbconvert_exporter": "python",
   "pygments_lexer": "ipython3",
   "version": "3.7.7"
  }
 },
 "nbformat": 4,
 "nbformat_minor": 4
}
