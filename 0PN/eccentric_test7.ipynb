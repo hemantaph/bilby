{
 "cells": [
  {
   "cell_type": "code",
   "execution_count": 1,
   "metadata": {},
   "outputs": [],
   "source": [
    "from __future__ import division, print_function\n",
    "import matplotlib.pyplot as plt\n",
    "import bilby\n",
    "import numpy as np\n",
    "\n",
    "import hphc13\n",
    "import hphc11\n",
    "\n",
    "C = 299792458.\n",
    "G = 6.67408*1e-11\n",
    "Mo = 1.989*1e30\n",
    "Mpc = 3.086*1e22\n",
    "\n",
    "%matplotlib inline"
   ]
  },
  {
   "cell_type": "code",
   "execution_count": 4,
   "metadata": {},
   "outputs": [],
   "source": [
    "sampling_frequency = 1024.0\n",
    "duration = 4.0"
   ]
  },
  {
   "cell_type": "code",
   "execution_count": 9,
   "metadata": {},
   "outputs": [],
   "source": [
    "def eccentric_waveform(frequency_array_, chirp_mass, mass_ratio, eccentricity, luminosity_distance, theta_jn, psi, phase, geocent_time, ra, dec):\n",
    "    \n",
    "    mass_1 = (chirp_mass*(1+mass_ratio)**(1/5))/mass_ratio**(3/5)\n",
    "    mass_2 = chirp_mass*mass_ratio**(2/5)*(1+mass_ratio)**(1/5)\n",
    "    luminosity_distance = luminosity_distance*Mpc\n",
    "    total_mass = (mass_1+mass_2)*Mo\n",
    "    symmetric_mass_ratio = (mass_1*mass_2)/((mass_1+mass_2)**2)\n",
    "    maximum_f = (C**3)/( G*(mass_1+mass_2)*Mo*np.pi*6**(3/2) )\n",
    "    minimum_f = 20.0\n",
    "    mass_diff = (mass_1-mass_2)*Mo\n",
    "    \n",
    "    foo = np.array(frequency_array_)\n",
    "    foo2 = foo[foo>=20.0]\n",
    "    foo3 = foo[foo<20.0]\n",
    "    foo4 = foo2[foo2<=maximum_f]\n",
    "    foo5 = foo2[foo2>maximum_f]\n",
    "\n",
    "    arg_plus = {'iota_':theta_jn, 'beta_':psi, 'D_':luminosity_distance , \\\n",
    "                'farray_':foo4, 'f0_':20.0, 'et0_':eccentricity, 'phic_':phase, \\\n",
    "                'tc_':geocent_time, 'M_':total_mass, 'eta_':symmetric_mass_ratio, \\\n",
    "                'ff_':maximum_f, 'delta_':mass_diff}\n",
    "\n",
    "    fplus = hphc13.Fn(**arg_plus)\n",
    "\n",
    "    h_plus = fplus.htilde()[0]\n",
    "    h_cross = fplus.htilde()[1]\n",
    "\n",
    "    h_plus = np.concatenate(( np.zeros(len(foo3)),h_plus,np.zeros(len(foo5)) ))\n",
    "    h_cross = np.concatenate(( np.zeros(len(foo3)),h_cross,np.zeros(len(foo5)) ))\n",
    "    return {'plus': h_plus, 'cross': h_cross}"
   ]
  },
  {
   "cell_type": "code",
   "execution_count": 10,
   "metadata": {},
   "outputs": [],
   "source": [
    "injection_parameters = dict(chirp_mass=19.564163812778446, mass_ratio=0.9148936170212766, eccentricity=0.1, luminosity_distance=200.0, theta_jn=0.4, psi=0.1, phase=1.2, geocent_time=1180002601.0, ra=45.0, dec=5.73)"
   ]
  },
  {
   "cell_type": "code",
   "execution_count": 11,
   "metadata": {},
   "outputs": [
    {
     "name": "stderr",
     "output_type": "stream",
     "text": [
      "16:28 bilby INFO    : Waveform generator initiated with\n",
      "  frequency_domain_source_model: __main__.eccentric_waveform\n",
      "  time_domain_source_model: None\n",
      "  parameter_conversion: bilby.gw.conversion.convert_to_lal_binary_black_hole_parameters\n"
     ]
    }
   ],
   "source": [
    "# Now we pass our source function to the WaveformGenerator\n",
    "waveform_generator = bilby.gw.waveform_generator.WaveformGenerator(\n",
    "    duration=duration, sampling_frequency=sampling_frequency,\n",
    "    frequency_domain_source_model=eccentric_waveform)"
   ]
  },
  {
   "cell_type": "code",
   "execution_count": 12,
   "metadata": {},
   "outputs": [
    {
     "name": "stderr",
     "output_type": "stream",
     "text": [
      "16:28 bilby INFO    : Injected signal in H1:\n",
      "16:28 bilby INFO    :   optimal SNR = 85.84\n",
      "16:28 bilby INFO    :   matched filter SNR = 85.12-0.19j\n",
      "16:28 bilby INFO    :   chirp_mass = 19.564163812778446\n",
      "16:28 bilby INFO    :   mass_ratio = 0.9148936170212766\n",
      "16:28 bilby INFO    :   eccentricity = 0.1\n",
      "16:28 bilby INFO    :   luminosity_distance = 200.0\n",
      "16:28 bilby INFO    :   theta_jn = 0.4\n",
      "16:28 bilby INFO    :   psi = 0.1\n",
      "16:28 bilby INFO    :   phase = 1.2\n",
      "16:28 bilby INFO    :   geocent_time = 1180002601.0\n",
      "16:28 bilby INFO    :   ra = 45.0\n",
      "16:28 bilby INFO    :   dec = 5.73\n",
      "16:28 bilby INFO    : Injected signal in L1:\n",
      "16:28 bilby INFO    :   optimal SNR = 50.48\n",
      "16:28 bilby INFO    :   matched filter SNR = 50.22-0.06j\n",
      "16:28 bilby INFO    :   chirp_mass = 19.564163812778446\n",
      "16:28 bilby INFO    :   mass_ratio = 0.9148936170212766\n",
      "16:28 bilby INFO    :   eccentricity = 0.1\n",
      "16:28 bilby INFO    :   luminosity_distance = 200.0\n",
      "16:28 bilby INFO    :   theta_jn = 0.4\n",
      "16:28 bilby INFO    :   psi = 0.1\n",
      "16:28 bilby INFO    :   phase = 1.2\n",
      "16:28 bilby INFO    :   geocent_time = 1180002601.0\n",
      "16:28 bilby INFO    :   ra = 45.0\n",
      "16:28 bilby INFO    :   dec = 5.73\n"
     ]
    },
    {
     "data": {
      "text/plain": [
       "[{'plus': array([0.+0.j, 0.+0.j, 0.+0.j, ..., 0.+0.j, 0.+0.j, 0.+0.j]),\n",
       "  'cross': array([0.+0.j, 0.+0.j, 0.+0.j, ..., 0.+0.j, 0.+0.j, 0.+0.j])},\n",
       " {'plus': array([0.+0.j, 0.+0.j, 0.+0.j, ..., 0.+0.j, 0.+0.j, 0.+0.j]),\n",
       "  'cross': array([0.+0.j, 0.+0.j, 0.+0.j, ..., 0.+0.j, 0.+0.j, 0.+0.j])}]"
      ]
     },
     "execution_count": 12,
     "metadata": {},
     "output_type": "execute_result"
    }
   ],
   "source": [
    "# Set up interferometers.\n",
    "#maximum_f = (C**3)/( G*(mass_1+mass_2)*Mo*np.pi*6**(3/2) )\n",
    "minimum_frequency = 20.0+3.0\n",
    "MM1 = 25.0\n",
    "MM2 = 25.0\n",
    "maximum_frequency = (C**3)/( G*(MM1+MM2)*Mo*np.pi*6**(3/2) )-3.0\n",
    "\n",
    "ifos = bilby.gw.detector.InterferometerList(['H1', 'L1'])\n",
    "for ifo in ifos:\n",
    "    ifo.minimum_frequency = minimum_frequency\n",
    "    ifo.maximum_frequency = maximum_frequency\n",
    "ifos.set_strain_data_from_power_spectral_densities(\n",
    "    sampling_frequency=sampling_frequency, duration=duration,\n",
    "    start_time=injection_parameters['geocent_time'] - 3)\n",
    "ifos.inject_signal(waveform_generator=waveform_generator,\n",
    "                   parameters=injection_parameters)"
   ]
  },
  {
   "cell_type": "code",
   "execution_count": 13,
   "metadata": {},
   "outputs": [
    {
     "name": "stderr",
     "output_type": "stream",
     "text": [
      "16:28 bilby INFO    : Injected signal in H1:\n",
      "16:28 bilby INFO    :   optimal SNR = 85.84\n",
      "16:28 bilby INFO    :   matched filter SNR = 170.96-0.19j\n",
      "16:28 bilby INFO    :   chirp_mass = 19.564163812778446\n",
      "16:28 bilby INFO    :   mass_ratio = 0.9148936170212766\n",
      "16:28 bilby INFO    :   eccentricity = 0.1\n",
      "16:28 bilby INFO    :   luminosity_distance = 200.0\n",
      "16:28 bilby INFO    :   theta_jn = 0.4\n",
      "16:28 bilby INFO    :   psi = 0.1\n",
      "16:28 bilby INFO    :   phase = 1.2\n",
      "16:28 bilby INFO    :   geocent_time = 1180002601.0\n",
      "16:28 bilby INFO    :   ra = 45.0\n",
      "16:28 bilby INFO    :   dec = 5.73\n",
      "16:28 bilby INFO    : Injected signal in L1:\n",
      "16:28 bilby INFO    :   optimal SNR = 50.48\n",
      "16:28 bilby INFO    :   matched filter SNR = 100.71-0.06j\n",
      "16:28 bilby INFO    :   chirp_mass = 19.564163812778446\n",
      "16:28 bilby INFO    :   mass_ratio = 0.9148936170212766\n",
      "16:28 bilby INFO    :   eccentricity = 0.1\n",
      "16:28 bilby INFO    :   luminosity_distance = 200.0\n",
      "16:28 bilby INFO    :   theta_jn = 0.4\n",
      "16:28 bilby INFO    :   psi = 0.1\n",
      "16:28 bilby INFO    :   phase = 1.2\n",
      "16:28 bilby INFO    :   geocent_time = 1180002601.0\n",
      "16:28 bilby INFO    :   ra = 45.0\n",
      "16:28 bilby INFO    :   dec = 5.73\n"
     ]
    },
    {
     "data": {
      "image/png": "[encoded data removed]",
      "text/plain": [
       "<Figure size 432x288 with 1 Axes>"
      ]
     },
     "metadata": {
      "needs_background": "light"
     },
     "output_type": "display_data"
    }
   ],
   "source": [
    "injection = ifos.inject_signal(waveform_generator=waveform_generator,\n",
    "                   parameters=injection_parameters)\n",
    "\n",
    "H1 = ifos[0]\n",
    "H1_injection = injection[0]\n",
    "\n",
    "fig, ax = plt.subplots()\n",
    "idxs = H1.strain_data.frequency_mask  # This is a boolean mask of the frequencies which we'll use in the analysis\n",
    "ax.loglog(H1.strain_data.frequency_array[idxs],\n",
    "          np.abs(H1.strain_data.frequency_domain_strain[idxs]),\n",
    "          label=\"data\")\n",
    "ax.loglog(H1.frequency_array[idxs],\n",
    "          H1.amplitude_spectral_density_array[idxs],\n",
    "          label=\"ASD\")\n",
    "ax.loglog(H1.frequency_array[idxs],\n",
    "          np.abs(H1_injection[\"cross\"][idxs]),\n",
    "          label=\"Abs. val. of plus polarization\")\n",
    "\n",
    "ax.set_xlim(minimum_frequency,maximum_frequency)\n",
    "ax.set_ylim(1e-26,2.327737159425905e-21)\n",
    "\n",
    "\n",
    "ax.set_xlabel(\"Frequency [Hz]\")\n",
    "ax.set_ylabel(\"Strain [strain/$\\sqrt{Hz}$]\")\n",
    "ax.legend()\n",
    "plt.show()"
   ]
  },
  {
   "cell_type": "code",
   "execution_count": 16,
   "metadata": {},
   "outputs": [],
   "source": [
    "#17.411011265922482,19.441935582935383,21.7637640824031\n",
    "prior = bilby.core.prior.PriorDict()\n",
    "prior['chirp_mass'] = 19.564163812778446\n",
    "prior['mass_ratio'] = 0.9148936170212766\n",
    "prior['eccentricity'] = bilby.core.prior.LogUniform(name='eccentricity', minimum=0.01, maximum=0.2)\n",
    "\n",
    "prior[\"luminosity_distance\"] = 200.0\n",
    "prior[\"theta_jn\"] = 0.4\n",
    "prior[\"psi\"] = 0.1\n",
    "prior[\"phase\"] = 1.2\n",
    "prior[\"geocent_time\"] = 1180002601.0\n",
    "prior[\"ra\"] = 45.0\n",
    "prior[\"dec\"] = 5.73"
   ]
  },
  {
   "cell_type": "code",
   "execution_count": 17,
   "metadata": {},
   "outputs": [],
   "source": [
    "# Initialising the likelihood function.\n",
    "likelihood = bilby.gw.likelihood.GravitationalWaveTransient(\n",
    "    interferometers=ifos, waveform_generator=waveform_generator)"
   ]
  },
  {
   "cell_type": "code",
   "execution_count": null,
   "metadata": {},
   "outputs": [
    {
     "name": "stderr",
     "output_type": "stream",
     "text": [
      "16:30 bilby INFO    : Running for label 'eccn', output will be saved to 'short'\n",
      "16:30 bilby INFO    : Using lal version 6.21.0\n",
      "16:30 bilby INFO    : Using lal git version Branch: None;Tag: lal-v6.21.0;Id: 37caf89936b637993c30b3076fe4b853311873ee;;Builder: Adam Mercer <adam.mercer@ligo.org>;Repository status: CLEAN: All modifications committed\n",
      "16:30 bilby INFO    : Using lalsimulation version 1.10.0\n",
      "16:30 bilby INFO    : Using lalsimulation git version Branch: None;Tag: lalsimulation-v1.10.0;Id: 5bfe091197594d55cf634f8a1c004eb9dc9b6459;;Builder: Adam Mercer <adam.mercer@ligo.org>;Repository status: CLEAN: All modifications committed\n",
      "16:30 bilby INFO    : Search parameters:\n",
      "16:30 bilby INFO    :   eccentricity = LogUniform(minimum=0.01, maximum=0.2, name='eccentricity', latex_label='eccentricity', unit=None, boundary=None)\n",
      "16:30 bilby INFO    :   chirp_mass = 19.564163812778446\n",
      "16:30 bilby INFO    :   mass_ratio = 0.9148936170212766\n",
      "16:30 bilby INFO    :   luminosity_distance = 200.0\n",
      "16:30 bilby INFO    :   theta_jn = 0.4\n",
      "16:30 bilby INFO    :   psi = 0.1\n",
      "16:30 bilby INFO    :   phase = 1.2\n",
      "16:30 bilby INFO    :   geocent_time = 1180002601.0\n",
      "16:30 bilby INFO    :   ra = 45.0\n",
      "16:30 bilby INFO    :   dec = 5.73\n",
      "16:35 bilby INFO    : Single likelihood evaluation took 3.087e+00 s\n"
     ]
    },
    {
     "name": "stdout",
     "output_type": "stream",
     "text": [
      "\r",
      "0it [00:00, ?it/s]"
     ]
    },
    {
     "name": "stderr",
     "output_type": "stream",
     "text": [
      "16:35 bilby INFO    : Using sampler Dynesty with kwargs {'bound': 'multi', 'sample': 'rwalk', 'verbose': True, 'periodic': None, 'reflective': None, 'check_point_delta_t': 600, 'nlive': 500, 'first_update': None, 'walks': 100, 'npdim': None, 'rstate': None, 'queue_size': 8, 'pool': None, 'use_pool': None, 'live_points': None, 'logl_args': None, 'logl_kwargs': None, 'ptform_args': None, 'ptform_kwargs': None, 'enlarge': 1.5, 'bootstrap': None, 'vol_dec': 0.5, 'vol_check': 8.0, 'facc': 0.2, 'slices': 5, 'update_interval': 300, 'print_func': <bound method Dynesty._print_func of <bilby.core.sampler.dynesty.Dynesty object at 0x7fede9526a90>>, 'dlogz': 3, 'maxiter': None, 'maxcall': None, 'logl_max': inf, 'add_live': True, 'print_progress': True, 'save_bounds': False, 'n_effective': None, 'maxmcmc': 5000, 'nact': 5}\n",
      "16:35 bilby INFO    : Checkpoint every check_point_delta_t = 600s\n",
      "16:35 bilby INFO    : Using dynesty version 1.0.1\n",
      "16:35 bilby INFO    : Generating initial points from the prior\n"
     ]
    }
   ],
   "source": [
    "result = bilby.run_sampler(\n",
    "    likelihood=likelihood, priors=prior, sampler='dynesty', outdir='short', label=\"eccn\",\n",
    "    nlive=500, dlogz=3, npool=8)"
   ]
  },
  {
   "cell_type": "code",
   "execution_count": null,
   "metadata": {},
   "outputs": [],
   "source": []
  },
  {
   "cell_type": "code",
   "execution_count": null,
   "metadata": {},
   "outputs": [],
   "source": []
  },
  {
   "cell_type": "code",
   "execution_count": null,
   "metadata": {},
   "outputs": [],
   "source": []
  },
  {
   "cell_type": "code",
   "execution_count": null,
   "metadata": {},
   "outputs": [],
   "source": []
  },
  {
   "cell_type": "code",
   "execution_count": null,
   "metadata": {},
   "outputs": [],
   "source": []
  },
  {
   "cell_type": "code",
   "execution_count": null,
   "metadata": {},
   "outputs": [],
   "source": []
  },
  {
   "cell_type": "code",
   "execution_count": null,
   "metadata": {},
   "outputs": [],
   "source": []
  },
  {
   "cell_type": "code",
   "execution_count": null,
   "metadata": {},
   "outputs": [],
   "source": []
  },
  {
   "cell_type": "code",
   "execution_count": null,
   "metadata": {},
   "outputs": [],
   "source": []
  },
  {
   "cell_type": "code",
   "execution_count": null,
   "metadata": {},
   "outputs": [],
   "source": []
  },
  {
   "cell_type": "code",
   "execution_count": null,
   "metadata": {},
   "outputs": [],
   "source": []
  },
  {
   "cell_type": "code",
   "execution_count": null,
   "metadata": {},
   "outputs": [],
   "source": []
  },
  {
   "cell_type": "code",
   "execution_count": null,
   "metadata": {},
   "outputs": [],
   "source": []
  },
  {
   "cell_type": "code",
   "execution_count": null,
   "metadata": {},
   "outputs": [],
   "source": []
  },
  {
   "cell_type": "code",
   "execution_count": null,
   "metadata": {},
   "outputs": [],
   "source": []
  },
  {
   "cell_type": "code",
   "execution_count": null,
   "metadata": {},
   "outputs": [],
   "source": []
  },
  {
   "cell_type": "code",
   "execution_count": null,
   "metadata": {},
   "outputs": [],
   "source": []
  },
  {
   "cell_type": "code",
   "execution_count": null,
   "metadata": {},
   "outputs": [],
   "source": []
  },
  {
   "cell_type": "code",
   "execution_count": null,
   "metadata": {},
   "outputs": [],
   "source": []
  },
  {
   "cell_type": "code",
   "execution_count": null,
   "metadata": {},
   "outputs": [],
   "source": []
  },
  {
   "cell_type": "code",
   "execution_count": null,
   "metadata": {},
   "outputs": [],
   "source": []
  },
  {
   "cell_type": "code",
   "execution_count": null,
   "metadata": {},
   "outputs": [],
   "source": []
  }
 ],
 "metadata": {
  "kernelspec": {
   "display_name": "Python 3",
   "language": "python",
   "name": "python3"
  },
  "language_info": {
   "codemirror_mode": {
    "name": "ipython",
    "version": 3
   },
   "file_extension": ".py",
   "mimetype": "text/x-python",
   "name": "python",
   "nbconvert_exporter": "python",
   "pygments_lexer": "ipython3",
   "version": "3.7.7"
  }
 },
 "nbformat": 4,
 "nbformat_minor": 4
}
