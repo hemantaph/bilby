{
 "cells": [
  {
   "cell_type": "code",
   "execution_count": 4,
   "metadata": {},
   "outputs": [],
   "source": [
    "from __future__ import division, print_function\n",
    "import matplotlib.pyplot as plt\n",
    "import bilby\n",
    "import numpy as np\n",
    "\n",
    "from bilby.core.prior import Uniform\n",
    "from bilby.gw.conversion import convert_to_lal_binary_black_hole_parameters, generate_all_bbh_parameters\n",
    "%matplotlib inline\n",
    "\n",
    "import hphc\n",
    "\n",
    "C = 299792458.\n",
    "G = 6.67408*1e-11\n",
    "Mo = 1.989*1e30\n",
    "Mpc = 3.086*1e22"
   ]
  },
  {
   "cell_type": "code",
   "execution_count": 5,
   "metadata": {},
   "outputs": [],
   "source": [
    "outdir = 'outdir_new_model'\n",
    "label = 'create_your_own_source_model'\n",
    "sampling_frequency = 1024.\n",
    "duration = 4."
   ]
  },
  {
   "cell_type": "code",
   "execution_count": 6,
   "metadata": {},
   "outputs": [],
   "source": [
    "# Here we define our source model - this is the sine-Gaussian model in the\n",
    "# frequency domain.\n",
    "def eccentric_waveform(frequency_array, mass_1, mass_2, eccentricity, luminosity_distance, theta_jn, psi, phase, geocent_time, ra, dec):\n",
    "\n",
    "    h_plus = []\n",
    "    h_cross = []\n",
    "    \n",
    "    fmin = 10.0\n",
    "    fmax = (C**3)/( G*(mass_1+mass_2)*Mo*np.pi*6**(3/2) )\n",
    "    \n",
    "    for f in frequency_array:\n",
    "        if f<fmin or f>fmax:\n",
    "            h_plus = np.append(h_plus,0.0*1j)\n",
    "            h_cross = np.append(h_cross,0.0*1j)\n",
    "        else:        \n",
    "            arg_plus = {'iota_':theta_jn, 'beta_':psi, 'D_':luminosity_distance , 'm1_':mass_1, 'm2_':mass_2, 'f_':f, 'f0_':10., 'Fp_':1., 'Fc_':0., 'et0_':eccentricity, 'phic_':phase, 'tc_':geocent_time}\n",
    "\n",
    "            arg_cross = {'iota_':theta_jn, 'beta_':psi, 'D_':luminosity_distance , 'm1_':mass_1, 'm2_':mass_2, 'f_':f, 'f0_':10., 'Fp_':0., 'Fc_':1., 'et0_':eccentricity, 'phic_':phase, 'tc_':geocent_time}\n",
    "\n",
    "            fplus = hphc.Fn(**arg_plus)\n",
    "            h_plus = np.append(h_plus,fplus.htilde())\n",
    "\n",
    "            fcross = hphc.Fn(**arg_cross)\n",
    "            h_cross = np.append(h_cross,fcross.htilde())\n",
    "\n",
    "    return {'plus': h_plus, 'cross': h_cross}"
   ]
  },
  {
   "cell_type": "code",
   "execution_count": 4,
   "metadata": {},
   "outputs": [],
   "source": [
    "#eccentric_waveform"
   ]
  },
  {
   "cell_type": "code",
   "execution_count": 4,
   "metadata": {},
   "outputs": [],
   "source": [
    "#arg_plus = {'iota_':np.pi/3, 'beta_':np.pi/3, 'D_':100. , 'm1_':10., 'm2_':10., 'f_':0., 'f0_':10., 'Fp_':1.0, 'Fc_':0.0, 'et0_':0.1, 'phic_':0., 'tc_':0.}\n",
    "#fplus = hphc.Fn(**arg_plus)\n",
    "#fplus.eccn()"
   ]
  },
  {
   "cell_type": "code",
   "execution_count": 5,
   "metadata": {},
   "outputs": [],
   "source": [
    "#frequency = np.arange(10,200,1)\n",
    "#eccentric_waveform([500], 10.0,10.0,100.0,np.pi/3,np.pi/3,0.0,0.0)['plus']"
   ]
  },
  {
   "cell_type": "code",
   "execution_count": 6,
   "metadata": {},
   "outputs": [],
   "source": [
    "#plt.loglog(frequency, abs(hp_))"
   ]
  },
  {
   "cell_type": "code",
   "execution_count": 7,
   "metadata": {},
   "outputs": [],
   "source": [
    "# Set up a random seed for result reproducibility.\n",
    "np.random.seed(150914)"
   ]
  },
  {
   "cell_type": "code",
   "execution_count": 8,
   "metadata": {},
   "outputs": [],
   "source": [
    "# We now define some parameters that we will inject\n",
    "injection_parameters = dict(mass_1=35.0, mass_2=30.0, eccentricity=0.1, luminosity_distance=440.0, theta_jn=0.4, psi=0.1, phase=1.2, geocent_time=1180002601.0, ra=1.375, dec=-1.2108)"
   ]
  },
  {
   "cell_type": "code",
   "execution_count": 9,
   "metadata": {},
   "outputs": [
    {
     "name": "stderr",
     "output_type": "stream",
     "text": [
      "12:34 bilby INFO    : Waveform generator initiated with\n",
      "  frequency_domain_source_model: __main__.eccentric_waveform\n",
      "  time_domain_source_model: None\n",
      "  parameter_conversion: bilby.gw.conversion.convert_to_lal_binary_black_hole_parameters\n"
     ]
    }
   ],
   "source": [
    "#waveform_arguments = dict(waveform_approximant='IMRPhenomPv2',reference_frequency=50., minimum_frequency=10., catch_waveform_errors=True)\n",
    "\n",
    "# Now we pass our source function to the WaveformGenerator\n",
    "waveform_generator = bilby.gw.waveform_generator.WaveformGenerator(\n",
    "    duration=duration, sampling_frequency=sampling_frequency,\n",
    "    frequency_domain_source_model=eccentric_waveform,\n",
    "    parameters=injection_parameters)"
   ]
  },
  {
   "cell_type": "code",
   "execution_count": 10,
   "metadata": {
    "scrolled": true
   },
   "outputs": [
    {
     "name": "stderr",
     "output_type": "stream",
     "text": [
      "/home/hemantakumar.phurailatpam/anaconda3/envs/bilby/lib/python3.6/site-packages/bilby/gw/detector/psd.py:356: RuntimeWarning: invalid value encountered in multiply\n",
      "  frequency_domain_strain = self.__power_spectral_density_interpolated(frequencies) ** 0.5 * white_noise\n",
      "12:34 bilby INFO    : Injected signal in H1:\n",
      "12:34 bilby INFO    :   optimal SNR = 61.07\n",
      "12:34 bilby INFO    :   matched filter SNR = 59.49+1.03j\n",
      "12:34 bilby INFO    :   mass_1 = 35.0\n",
      "12:34 bilby INFO    :   mass_2 = 30.0\n",
      "12:34 bilby INFO    :   eccentricity = 0.1\n",
      "12:34 bilby INFO    :   luminosity_distance = 440.0\n",
      "12:34 bilby INFO    :   theta_jn = 0.4\n",
      "12:34 bilby INFO    :   psi = 0.1\n",
      "12:34 bilby INFO    :   phase = 1.2\n",
      "12:34 bilby INFO    :   geocent_time = 1180002601.0\n",
      "12:34 bilby INFO    :   ra = 1.375\n",
      "12:34 bilby INFO    :   dec = -1.2108\n",
      "12:34 bilby INFO    : Injected signal in L1:\n",
      "12:34 bilby INFO    :   optimal SNR = 48.27\n",
      "12:34 bilby INFO    :   matched filter SNR = 48.71+0.68j\n",
      "12:34 bilby INFO    :   mass_1 = 35.0\n",
      "12:34 bilby INFO    :   mass_2 = 30.0\n",
      "12:34 bilby INFO    :   eccentricity = 0.1\n",
      "12:34 bilby INFO    :   luminosity_distance = 440.0\n",
      "12:34 bilby INFO    :   theta_jn = 0.4\n",
      "12:34 bilby INFO    :   psi = 0.1\n",
      "12:34 bilby INFO    :   phase = 1.2\n",
      "12:34 bilby INFO    :   geocent_time = 1180002601.0\n",
      "12:34 bilby INFO    :   ra = 1.375\n",
      "12:34 bilby INFO    :   dec = -1.2108\n"
     ]
    },
    {
     "data": {
      "text/plain": [
       "[{'plus': array([0.+0.j, 0.+0.j, 0.+0.j, ..., 0.+0.j, 0.+0.j, 0.+0.j]),\n",
       "  'cross': array([0.+0.j, 0.+0.j, 0.+0.j, ..., 0.+0.j, 0.+0.j, 0.+0.j])},\n",
       " {'plus': array([0.+0.j, 0.+0.j, 0.+0.j, ..., 0.+0.j, 0.+0.j, 0.+0.j]),\n",
       "  'cross': array([0.+0.j, 0.+0.j, 0.+0.j, ..., 0.+0.j, 0.+0.j, 0.+0.j])}]"
      ]
     },
     "execution_count": 10,
     "metadata": {},
     "output_type": "execute_result"
    }
   ],
   "source": [
    "# Set up interferometers.\n",
    "minimum_frequency = 10.0+5.0\n",
    "maximum_frequency = (C**3)/( G*(35.0+30.0)*Mo*np.pi*6**(3/2) )-5.0\n",
    "\n",
    "ifos = bilby.gw.detector.InterferometerList(['H1', 'L1'])\n",
    "for ifo in ifos:\n",
    "    ifo.minimum_frequency = minimum_frequency\n",
    "    ifo.maximum_frequency = maximum_frequency\n",
    "ifos.set_strain_data_from_power_spectral_densities(\n",
    "    sampling_frequency=sampling_frequency, duration=duration,\n",
    "    start_time=injection_parameters['geocent_time'] - 3)\n",
    "ifos.inject_signal(waveform_generator=waveform_generator,\n",
    "                   parameters=injection_parameters)"
   ]
  },
  {
   "cell_type": "code",
   "execution_count": 11,
   "metadata": {},
   "outputs": [
    {
     "name": "stderr",
     "output_type": "stream",
     "text": [
      "12:34 bilby INFO    : Injected signal in H1:\n",
      "12:34 bilby INFO    :   optimal SNR = 61.07\n",
      "12:34 bilby INFO    :   matched filter SNR = 120.56+1.03j\n",
      "12:34 bilby INFO    :   mass_1 = 35.0\n",
      "12:34 bilby INFO    :   mass_2 = 30.0\n",
      "12:34 bilby INFO    :   eccentricity = 0.1\n",
      "12:34 bilby INFO    :   luminosity_distance = 440.0\n",
      "12:34 bilby INFO    :   theta_jn = 0.4\n",
      "12:34 bilby INFO    :   psi = 0.1\n",
      "12:34 bilby INFO    :   phase = 1.2\n",
      "12:34 bilby INFO    :   geocent_time = 1180002601.0\n",
      "12:34 bilby INFO    :   ra = 1.375\n",
      "12:34 bilby INFO    :   dec = -1.2108\n",
      "12:34 bilby INFO    : Injected signal in L1:\n",
      "12:34 bilby INFO    :   optimal SNR = 48.27\n",
      "12:34 bilby INFO    :   matched filter SNR = 96.98+0.68j\n",
      "12:34 bilby INFO    :   mass_1 = 35.0\n",
      "12:34 bilby INFO    :   mass_2 = 30.0\n",
      "12:34 bilby INFO    :   eccentricity = 0.1\n",
      "12:34 bilby INFO    :   luminosity_distance = 440.0\n",
      "12:34 bilby INFO    :   theta_jn = 0.4\n",
      "12:34 bilby INFO    :   psi = 0.1\n",
      "12:34 bilby INFO    :   phase = 1.2\n",
      "12:34 bilby INFO    :   geocent_time = 1180002601.0\n",
      "12:34 bilby INFO    :   ra = 1.375\n",
      "12:34 bilby INFO    :   dec = -1.2108\n"
     ]
    },
    {
     "data": {
      "image/png": "[encoded data removed]",
      "text/plain": [
       "<Figure size 432x288 with 1 Axes>"
      ]
     },
     "metadata": {
      "needs_background": "light"
     },
     "output_type": "display_data"
    }
   ],
   "source": [
    "injection = ifos.inject_signal(waveform_generator=waveform_generator,\n",
    "                   parameters=injection_parameters)\n",
    "H1 = ifos[0]\n",
    "H1_injection = injection[0]\n",
    "\n",
    "fig, ax = plt.subplots()\n",
    "idxs = H1.strain_data.frequency_mask  # This is a boolean mask of the frequencies which we'll use in the analysis\n",
    "ax.loglog(H1.strain_data.frequency_array[idxs],\n",
    "          np.abs(H1.strain_data.frequency_domain_strain[idxs]),\n",
    "          label=\"data\")\n",
    "ax.loglog(H1.frequency_array[idxs],\n",
    "          H1.amplitude_spectral_density_array[idxs],\n",
    "          label=\"ASD\")\n",
    "ax.loglog(H1.frequency_array[idxs],\n",
    "          np.abs(H1_injection[\"plus\"][idxs]),\n",
    "          label=\"Abs. val. of plus polarization\")\n",
    "\n",
    "'''L1 = ifos[1]\n",
    "L1_injection = injection[1]\n",
    "\n",
    "ax.loglog(L1.frequency_array[idxs]+5,\n",
    "          L1.amplitude_spectral_density_array[idxs],\n",
    "          label=\"ASD\")'''\n",
    "\n",
    "ax.set_xlim(minimum_frequency,maximum_frequency)\n",
    "ax.set_ylim(1e-26,2.327737159425905e-21)\n",
    "\n",
    "\n",
    "ax.set_xlabel(\"Frequency [Hz]\")\n",
    "ax.set_ylabel(\"Strain [strain/$\\sqrt{Hz}$]\")\n",
    "ax.legend()\n",
    "plt.show()"
   ]
  },
  {
   "cell_type": "code",
   "execution_count": 12,
   "metadata": {},
   "outputs": [],
   "source": [
    "#injection_parameters = dict(mass_1=35.0, mass_2=30.0, eccentricity=0.1, luminosity_distance=440.0, \n",
    "#theta_jn=0.4, psi=0.1, phase=1.2, geocent_time=1180002601.0, ra=1.375, dec=-1.2108)\n",
    "priors = bilby.core.prior.PriorDict()\n",
    "priors[\"mass_1\"] = 35.\n",
    "priors[\"mass_2\"] = 30.\n",
    "priors[\"eccentricity\"] = bilby.core.prior.LogUniform(\n",
    "    name='eccentricity', latex_label='$e$', minimum=0.01, maximum=0.4)\n",
    "priors[\"luminosity_distance\"] = 440.\n",
    "priors[\"theta_jn\"] = 0.4\n",
    "priors[\"psi\"] = 0.1\n",
    "priors[\"phase\"] = 1.2\n",
    "priors[\"geocent_time\"] = 1180002601.0\n",
    "priors[\"ra\"] = 1.375\n",
    "priors[\"dec\"] = -1.2108\n"
   ]
  },
  {
   "cell_type": "code",
   "execution_count": 13,
   "metadata": {},
   "outputs": [],
   "source": [
    "likelihood = bilby.gw.likelihood.GravitationalWaveTransient(\n",
    "    interferometers=ifos, waveform_generator=waveform_generator)"
   ]
  },
  {
   "cell_type": "code",
   "execution_count": 14,
   "metadata": {
    "scrolled": true
   },
   "outputs": [
    {
     "name": "stderr",
     "output_type": "stream",
     "text": [
      "12:34 bilby INFO    : Running for label 'eccentric_test', output will be saved to 'short'\n",
      "12:34 bilby INFO    : Using lal version 7.0.0\n",
      "12:34 bilby INFO    : Using lal git version Branch: None;Tag: lalsuite-v6.76;Id: 384ac5e4b9c95803607658118ba361dfc353dade;;Builder: Unknown User <>;Repository status: UNCLEAN: Modified working tree\n",
      "12:34 bilby INFO    : Using lalsimulation version 2.2.0\n",
      "12:34 bilby INFO    : Using lalsimulation git version Branch: None;Tag: lalsuite-v6.76;Id: 384ac5e4b9c95803607658118ba361dfc353dade;;Builder: Unknown User <>;Repository status: UNCLEAN: Modified working tree\n",
      "12:34 bilby INFO    : Search parameters:\n",
      "12:34 bilby INFO    :   eccentricity = LogUniform(minimum=0.01, maximum=0.4, name='eccentricity', latex_label='$e$', unit=None, boundary=None)\n",
      "12:34 bilby INFO    :   mass_1 = 35.0\n",
      "12:34 bilby INFO    :   mass_2 = 30.0\n",
      "12:34 bilby INFO    :   luminosity_distance = 440.0\n",
      "12:34 bilby INFO    :   theta_jn = 0.4\n",
      "12:34 bilby INFO    :   psi = 0.1\n",
      "12:34 bilby INFO    :   phase = 1.2\n",
      "12:34 bilby INFO    :   geocent_time = 1180002601.0\n",
      "12:34 bilby INFO    :   ra = 1.375\n",
      "12:34 bilby INFO    :   dec = -1.2108\n",
      "12:35 bilby INFO    : Single likelihood evaluation took 5.450e-01 s\n"
     ]
    },
    {
     "name": "stdout",
     "output_type": "stream",
     "text": [
      "\r",
      "0it [00:00, ?it/s]"
     ]
    },
    {
     "name": "stderr",
     "output_type": "stream",
     "text": [
      "12:35 bilby INFO    : Using sampler Dynesty with kwargs {'bound': 'multi', 'sample': 'rwalk', 'verbose': True, 'periodic': None, 'reflective': None, 'check_point_delta_t': 600, 'nlive': 500, 'first_update': None, 'walks': 100, 'npdim': None, 'rstate': None, 'queue_size': 1, 'pool': None, 'use_pool': None, 'live_points': None, 'logl_args': None, 'logl_kwargs': None, 'ptform_args': None, 'ptform_kwargs': None, 'enlarge': 1.5, 'bootstrap': None, 'vol_dec': 0.5, 'vol_check': 8.0, 'facc': 0.2, 'slices': 5, 'update_interval': 300, 'print_func': <bound method Dynesty._print_func of <bilby.core.sampler.dynesty.Dynesty object at 0x7f25844fca58>>, 'dlogz': 3, 'maxiter': None, 'maxcall': None, 'logl_max': inf, 'add_live': True, 'print_progress': True, 'save_bounds': False, 'n_effective': None, 'maxmcmc': 5000, 'nact': 5}\n",
      "12:35 bilby INFO    : Checkpoint every check_point_delta_t = 600s\n",
      "12:35 bilby INFO    : Using dynesty version 1.0.1\n",
      "12:35 bilby INFO    : Generating initial points from the prior\n",
      "12:39 bilby INFO    : Using the bilby-implemented rwalk sample method with ACT estimated walks\n"
     ]
    },
    {
     "name": "stdout",
     "output_type": "stream",
     "text": [
      "790it [23:08,  4.42s/it, bound:0 nc:  3 ncall:2.5e+03 eff:31.5% logz-ratio=8999.28+/-0.12 dlogz:13.149>3] "
     ]
    },
    {
     "name": "stderr",
     "output_type": "stream",
     "text": [
      "12:58 bilby INFO    : Written checkpoint file short/eccentric_test_resume.pickle\n",
      "12:58 bilby INFO    : Writing 136 current samples to short/eccentric_test_samples.dat\n",
      "/home/hemantakumar.phurailatpam/anaconda3/envs/bilby/lib/python3.6/site-packages/dynesty/plotting.py:179: RuntimeWarning: overflow encountered in exp\n",
      "  data = [nlive, np.exp(logl), np.exp(logwt), np.exp(logz)]\n",
      "/home/hemantakumar.phurailatpam/anaconda3/envs/bilby/lib/python3.6/site-packages/dynesty/plotting.py:203: RuntimeWarning: overflow encountered in exp\n",
      "  zspan = (0., 1.05 * np.exp(logz[-1] + 3. * logzerr[-1]))\n",
      "12:58 bilby WARNING : Axis limits cannot be NaN or Inf\n",
      "12:58 bilby WARNING : Failed to create dynesty run plot at checkpoint\n"
     ]
    },
    {
     "name": "stdout",
     "output_type": "stream",
     "text": [
      "1068it [42:06,  6.29s/it, bound:0 nc: 20 ncall:4.5e+03 eff:23.5% logz-ratio=9006.09+/-0.11 dlogz:5.769>3]"
     ]
    },
    {
     "name": "stderr",
     "output_type": "stream",
     "text": [
      "13:17 bilby INFO    : Written checkpoint file short/eccentric_test_resume.pickle\n",
      "13:17 bilby INFO    : Writing 216 current samples to short/eccentric_test_samples.dat\n",
      "/home/hemantakumar.phurailatpam/anaconda3/envs/bilby/lib/python3.6/site-packages/dynesty/plotting.py:179: RuntimeWarning: overflow encountered in exp\n",
      "  data = [nlive, np.exp(logl), np.exp(logwt), np.exp(logz)]\n",
      "/home/hemantakumar.phurailatpam/anaconda3/envs/bilby/lib/python3.6/site-packages/dynesty/plotting.py:203: RuntimeWarning: overflow encountered in exp\n",
      "  zspan = (0., 1.05 * np.exp(logz[-1] + 3. * logzerr[-1]))\n",
      "13:17 bilby WARNING : Axis limits cannot be NaN or Inf\n",
      "13:17 bilby WARNING : Failed to create dynesty run plot at checkpoint\n"
     ]
    },
    {
     "name": "stdout",
     "output_type": "stream",
     "text": [
      "1241it [1:01:10, 12.24s/it, bound:0 nc: 46 ncall:6.6e+03 eff:18.9% logz-ratio=9008.15+/-0.11 dlogz:3.383>3]"
     ]
    },
    {
     "name": "stderr",
     "output_type": "stream",
     "text": [
      "13:36 bilby INFO    : Written checkpoint file short/eccentric_test_resume.pickle\n",
      "13:36 bilby INFO    : Writing 353 current samples to short/eccentric_test_samples.dat\n",
      "/home/hemantakumar.phurailatpam/anaconda3/envs/bilby/lib/python3.6/site-packages/dynesty/plotting.py:179: RuntimeWarning: overflow encountered in exp\n",
      "  data = [nlive, np.exp(logl), np.exp(logwt), np.exp(logz)]\n",
      "/home/hemantakumar.phurailatpam/anaconda3/envs/bilby/lib/python3.6/site-packages/dynesty/plotting.py:203: RuntimeWarning: overflow encountered in exp\n",
      "  zspan = (0., 1.05 * np.exp(logz[-1] + 3. * logzerr[-1]))\n",
      "13:36 bilby WARNING : Axis limits cannot be NaN or Inf\n",
      "13:36 bilby WARNING : Failed to create dynesty run plot at checkpoint\n"
     ]
    },
    {
     "name": "stdout",
     "output_type": "stream",
     "text": [
      "1279it [1:06:30, 12.26s/it, bound:0 nc: 22 ncall:7.1e+03 eff:17.9% logz-ratio=9008.47+/-0.11 dlogz:3.005>3]"
     ]
    },
    {
     "name": "stderr",
     "output_type": "stream",
     "text": [
      "13:41 bilby INFO    : Written checkpoint file short/eccentric_test_resume.pickle\n",
      "13:41 bilby INFO    : Writing 361 current samples to short/eccentric_test_samples.dat\n",
      "/home/hemantakumar.phurailatpam/anaconda3/envs/bilby/lib/python3.6/site-packages/dynesty/plotting.py:179: RuntimeWarning: overflow encountered in exp\n",
      "  data = [nlive, np.exp(logl), np.exp(logwt), np.exp(logz)]\n",
      "/home/hemantakumar.phurailatpam/anaconda3/envs/bilby/lib/python3.6/site-packages/dynesty/plotting.py:203: RuntimeWarning: overflow encountered in exp\n",
      "  zspan = (0., 1.05 * np.exp(logz[-1] + 3. * logzerr[-1]))\n",
      "13:41 bilby WARNING : Axis limits cannot be NaN or Inf\n",
      "13:41 bilby WARNING : Failed to create dynesty run plot at checkpoint\n"
     ]
    },
    {
     "name": "stdout",
     "output_type": "stream",
     "text": [
      "\r",
      "1279it [1:06:32,  3.12s/it, bound:0 nc:  1 ncall:7.1e+03 eff:24.9% logz-ratio=9011.08+/-nan dlogz:0.003>3] "
     ]
    },
    {
     "name": "stderr",
     "output_type": "stream",
     "text": [
      "13:41 bilby INFO    : Sampling time: 1:01:56.036609\n"
     ]
    },
    {
     "name": "stdout",
     "output_type": "stream",
     "text": [
      "\n",
      "\n"
     ]
    },
    {
     "name": "stderr",
     "output_type": "stream",
     "text": [
      "13:41 bilby INFO    : Summary of results:\n",
      "nsamples: 1779\n",
      "ln_noise_evidence: -12346.237\n",
      "ln_evidence: -3335.161 +/-    nan\n",
      "ln_bayes_factor: 9011.076 +/-    nan\n",
      "\n"
     ]
    }
   ],
   "source": [
    "result_short = bilby.run_sampler(\n",
    "    likelihood, priors, sampler='dynesty', outdir='short', label=\"eccentric_test\",\n",
    "    nlive=500, dlogz=3,  # <- Arguments are used to make things fast - not recommended for general use\n",
    "    clean=True\n",
    ")\n"
   ]
  },
  {
   "cell_type": "code",
   "execution_count": 16,
   "metadata": {},
   "outputs": [
    {
     "data": {
      "image/png": "[encoded data removed]",
      "text/plain": [
       "<Figure size 432x288 with 1 Axes>"
      ]
     },
     "execution_count": 16,
     "metadata": {},
     "output_type": "execute_result"
    }
   ],
   "source": [
    "result_short.plot_corner()"
   ]
  },
  {
   "cell_type": "code",
   "execution_count": 17,
   "metadata": {
    "scrolled": true
   },
   "outputs": [
    {
     "data": {
      "text/plain": [
       "1779"
      ]
     },
     "execution_count": 17,
     "metadata": {},
     "output_type": "execute_result"
    }
   ],
   "source": [
    "len(result_short.samples)"
   ]
  },
  {
   "cell_type": "code",
   "execution_count": null,
   "metadata": {},
   "outputs": [],
   "source": []
  }
 ],
 "metadata": {
  "kernelspec": {
   "display_name": "Python 3",
   "language": "python",
   "name": "python3"
  },
  "language_info": {
   "codemirror_mode": {
    "name": "ipython",
    "version": 3
   },
   "file_extension": ".py",
   "mimetype": "text/x-python",
   "name": "python",
   "nbconvert_exporter": "python",
   "pygments_lexer": "ipython3",
   "version": "3.6.12"
  }
 },
 "nbformat": 4,
 "nbformat_minor": 4
}
