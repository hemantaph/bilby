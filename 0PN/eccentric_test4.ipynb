{
 "cells": [
  {
   "cell_type": "code",
   "execution_count": 13,
   "metadata": {},
   "outputs": [],
   "source": [
    "#from __future__ import division, print_function\n",
    "import matplotlib.pyplot as plt\n",
    "import bilby\n",
    "import numpy as np\n",
    "\n",
    "import time\n",
    "\n",
    "from bilby.core.prior import Uniform\n",
    "#from bilby.gw.conversion import convert_to_lal_binary_black_hole_parameters, generate_all_bbh_parameters\n",
    "%matplotlib inline\n",
    "\n",
    "import hphc5\n",
    "\n",
    "C = 299792458.\n",
    "G = 6.67408*1e-11\n",
    "Mo = 1.989*1e30\n",
    "Mpc = 3.086*1e22"
   ]
  },
  {
   "cell_type": "code",
   "execution_count": 4,
   "metadata": {},
   "outputs": [],
   "source": [
    "outdir = 'outdir_new_model'\n",
    "label = 'create_your_own_source_model'\n",
    "sampling_frequency = 1024.\n",
    "duration = 4."
   ]
  },
  {
   "cell_type": "code",
   "execution_count": 10,
   "metadata": {},
   "outputs": [],
   "source": [
    "# Here we define our source model - this is the sine-Gaussian model in the\n",
    "# frequency domain.\n",
    "def eccentric_waveform(frequency_array, mass_1, mass_2, eccentricity, luminosity_distance, theta_jn, psi, phase, geocent_time, ra, dec):\n",
    "    \n",
    "    N = len(frequency_array)\n",
    "    h_plus = np.zeros(N)*1j\n",
    "    h_cross = np.zeros(N)*1j\n",
    "    \n",
    "    fmin = 20.0\n",
    "    fmax = (C**3)/( G*(mass_1+mass_2)*Mo*np.pi*6**(3/2) )\n",
    "    \n",
    "    k = 0\n",
    "    for f in frequency_array:\n",
    "        if f>=fmin and f<=fmax:        \n",
    "            arg_plus = {'iota_':theta_jn, 'beta_':psi, 'D_':luminosity_distance , 'm1_':mass_1, 'm2_':mass_2, 'f_':f, 'f0_':20.0, 'Fp_':1.0, 'Fc_':0.0, 'et0_':eccentricity, 'phic_':phase, 'tc_':geocent_time}\n",
    "\n",
    "            arg_cross = {'iota_':theta_jn, 'beta_':psi, 'D_':luminosity_distance , 'm1_':mass_1, 'm2_':mass_2, 'f_':f, 'f0_':20.0, 'Fp_':0.0, 'Fc_':1.0, 'et0_':eccentricity, 'phic_':phase, 'tc_':geocent_time}\n",
    "\n",
    "            fplus = hphc5.Fn(**arg_plus)\n",
    "            h_plus[k] = fplus.htilde()\n",
    "\n",
    "            fcross = hphc5.Fn(**arg_cross)\n",
    "            h_cross[k] = fcross.htilde()\n",
    "            \n",
    "        k=k+1\n",
    "\n",
    "    return {'plus': h_plus, 'cross': h_cross}"
   ]
  },
  {
   "cell_type": "code",
   "execution_count": 12,
   "metadata": {},
   "outputs": [
    {
     "name": "stdout",
     "output_type": "stream",
     "text": [
      "Execution took 20.3710\n"
     ]
    }
   ],
   "source": [
    "test_frequency = np.arange(10,10000,1)\n",
    "t0 = time.time()\n",
    "data = eccentric_waveform(test_frequency, 35.0 ,30.0 , 0.1, 440.0, 0.4, 0.1, 1.2, 1180002601.0, 1.375, -1.2108)\n",
    "t1 = time.time()\n",
    "print('Execution took {:.4f}'.format(t1 - t0))"
   ]
  },
  {
   "cell_type": "code",
   "execution_count": 14,
   "metadata": {},
   "outputs": [],
   "source": [
    "# Set up a random seed for result reproducibility.\n",
    "np.random.seed(150914)"
   ]
  },
  {
   "cell_type": "code",
   "execution_count": 15,
   "metadata": {},
   "outputs": [],
   "source": [
    "# We now define some parameters that we will inject\n",
    "injection_parameters = dict(mass_1=35.0, mass_2=30.0, eccentricity=0.1, luminosity_distance=440.0, theta_jn=0.4, psi=0.1, phase=1.2, geocent_time=1180002601.0, ra=1.375, dec=-1.2108)"
   ]
  },
  {
   "cell_type": "code",
   "execution_count": 16,
   "metadata": {},
   "outputs": [
    {
     "name": "stderr",
     "output_type": "stream",
     "text": [
      "14:08 bilby INFO    : Waveform generator initiated with\n",
      "  frequency_domain_source_model: __main__.eccentric_waveform\n",
      "  time_domain_source_model: None\n",
      "  parameter_conversion: bilby.gw.conversion.convert_to_lal_binary_black_hole_parameters\n"
     ]
    }
   ],
   "source": [
    "#waveform_arguments = dict(waveform_approximant='IMRPhenomPv2',reference_frequency=50., minimum_frequency=10., catch_waveform_errors=True)\n",
    "\n",
    "# Now we pass our source function to the WaveformGenerator\n",
    "waveform_generator = bilby.gw.waveform_generator.WaveformGenerator(\n",
    "    duration=duration, sampling_frequency=sampling_frequency,\n",
    "    frequency_domain_source_model=eccentric_waveform,\n",
    "    parameters=injection_parameters)"
   ]
  },
  {
   "cell_type": "code",
   "execution_count": 19,
   "metadata": {
    "scrolled": true
   },
   "outputs": [
    {
     "name": "stderr",
     "output_type": "stream",
     "text": [
      "/home/hemantakumar.phurailatpam/anaconda3/envs/bilby/lib/python3.7/site-packages/bilby/gw/detector/psd.py:356: RuntimeWarning: invalid value encountered in multiply\n",
      "  frequency_domain_strain = self.__power_spectral_density_interpolated(frequencies) ** 0.5 * white_noise\n",
      "14:11 bilby INFO    : Injected signal in H1:\n",
      "14:11 bilby INFO    :   optimal SNR = 53.86\n",
      "14:11 bilby INFO    :   matched filter SNR = 53.46+1.46j\n",
      "14:11 bilby INFO    :   mass_1 = 35.0\n",
      "14:11 bilby INFO    :   mass_2 = 30.0\n",
      "14:11 bilby INFO    :   eccentricity = 0.1\n",
      "14:11 bilby INFO    :   luminosity_distance = 440.0\n",
      "14:11 bilby INFO    :   theta_jn = 0.4\n",
      "14:11 bilby INFO    :   psi = 0.1\n",
      "14:11 bilby INFO    :   phase = 1.2\n",
      "14:11 bilby INFO    :   geocent_time = 1180002601.0\n",
      "14:11 bilby INFO    :   ra = 1.375\n",
      "14:11 bilby INFO    :   dec = -1.2108\n",
      "14:11 bilby INFO    : Injected signal in L1:\n",
      "14:11 bilby INFO    :   optimal SNR = 42.56\n",
      "14:11 bilby INFO    :   matched filter SNR = 41.83+0.68j\n",
      "14:11 bilby INFO    :   mass_1 = 35.0\n",
      "14:11 bilby INFO    :   mass_2 = 30.0\n",
      "14:11 bilby INFO    :   eccentricity = 0.1\n",
      "14:11 bilby INFO    :   luminosity_distance = 440.0\n",
      "14:11 bilby INFO    :   theta_jn = 0.4\n",
      "14:11 bilby INFO    :   psi = 0.1\n",
      "14:11 bilby INFO    :   phase = 1.2\n",
      "14:11 bilby INFO    :   geocent_time = 1180002601.0\n",
      "14:11 bilby INFO    :   ra = 1.375\n",
      "14:11 bilby INFO    :   dec = -1.2108\n"
     ]
    },
    {
     "data": {
      "text/plain": [
       "[{'plus': array([0.+0.j, 0.+0.j, 0.+0.j, ..., 0.+0.j, 0.+0.j, 0.+0.j]),\n",
       "  'cross': array([0.+0.j, 0.+0.j, 0.+0.j, ..., 0.+0.j, 0.+0.j, 0.+0.j])},\n",
       " {'plus': array([0.+0.j, 0.+0.j, 0.+0.j, ..., 0.+0.j, 0.+0.j, 0.+0.j]),\n",
       "  'cross': array([0.+0.j, 0.+0.j, 0.+0.j, ..., 0.+0.j, 0.+0.j, 0.+0.j])}]"
      ]
     },
     "execution_count": 19,
     "metadata": {},
     "output_type": "execute_result"
    }
   ],
   "source": [
    "# Set up interferometers.\n",
    "minimum_frequency = 20.0+5.0\n",
    "MM1 = 35.0\n",
    "MM2 = 30.0\n",
    "maximum_frequency = (C**3)/( G*(MM1+MM2)*Mo*np.pi*6**(3/2) )-5.0\n",
    "\n",
    "ifos = bilby.gw.detector.InterferometerList(['H1', 'L1'])\n",
    "for ifo in ifos:\n",
    "    ifo.minimum_frequency = minimum_frequency\n",
    "    ifo.maximum_frequency = maximum_frequency\n",
    "ifos.set_strain_data_from_power_spectral_densities(\n",
    "    sampling_frequency=sampling_frequency, duration=duration,\n",
    "    start_time=injection_parameters['geocent_time'] - 2)\n",
    "ifos.inject_signal(waveform_generator=waveform_generator,\n",
    "                   parameters=injection_parameters)"
   ]
  },
  {
   "cell_type": "code",
   "execution_count": 20,
   "metadata": {
    "scrolled": true
   },
   "outputs": [
    {
     "name": "stderr",
     "output_type": "stream",
     "text": [
      "14:11 bilby INFO    : Injected signal in H1:\n",
      "14:11 bilby INFO    :   optimal SNR = 53.86\n",
      "14:11 bilby INFO    :   matched filter SNR = 107.32+1.46j\n",
      "14:11 bilby INFO    :   mass_1 = 35.0\n",
      "14:11 bilby INFO    :   mass_2 = 30.0\n",
      "14:11 bilby INFO    :   eccentricity = 0.1\n",
      "14:11 bilby INFO    :   luminosity_distance = 440.0\n",
      "14:11 bilby INFO    :   theta_jn = 0.4\n",
      "14:11 bilby INFO    :   psi = 0.1\n",
      "14:11 bilby INFO    :   phase = 1.2\n",
      "14:11 bilby INFO    :   geocent_time = 1180002601.0\n",
      "14:11 bilby INFO    :   ra = 1.375\n",
      "14:11 bilby INFO    :   dec = -1.2108\n",
      "14:11 bilby INFO    : Injected signal in L1:\n",
      "14:11 bilby INFO    :   optimal SNR = 42.56\n",
      "14:11 bilby INFO    :   matched filter SNR = 84.39+0.68j\n",
      "14:11 bilby INFO    :   mass_1 = 35.0\n",
      "14:11 bilby INFO    :   mass_2 = 30.0\n",
      "14:11 bilby INFO    :   eccentricity = 0.1\n",
      "14:11 bilby INFO    :   luminosity_distance = 440.0\n",
      "14:11 bilby INFO    :   theta_jn = 0.4\n",
      "14:11 bilby INFO    :   psi = 0.1\n",
      "14:11 bilby INFO    :   phase = 1.2\n",
      "14:11 bilby INFO    :   geocent_time = 1180002601.0\n",
      "14:11 bilby INFO    :   ra = 1.375\n",
      "14:11 bilby INFO    :   dec = -1.2108\n"
     ]
    },
    {
     "data": {
      "image/png": "[encoded data removed]",
      "text/plain": [
       "<Figure size 432x288 with 1 Axes>"
      ]
     },
     "metadata": {
      "needs_background": "light"
     },
     "output_type": "display_data"
    }
   ],
   "source": [
    "injection = ifos.inject_signal(waveform_generator=waveform_generator,\n",
    "                   parameters=injection_parameters)\n",
    "H1 = ifos[0]\n",
    "H1_injection = injection[0]\n",
    "\n",
    "fig, ax = plt.subplots()\n",
    "idxs = H1.strain_data.frequency_mask  # This is a boolean mask of the frequencies which we'll use in the analysis\n",
    "ax.loglog(H1.strain_data.frequency_array[idxs],\n",
    "          np.abs(H1.strain_data.frequency_domain_strain[idxs]),\n",
    "          label=\"data\")\n",
    "ax.loglog(H1.frequency_array[idxs],\n",
    "          H1.amplitude_spectral_density_array[idxs],\n",
    "          label=\"ASD\")\n",
    "ax.loglog(H1.frequency_array[idxs],\n",
    "          np.abs(H1_injection[\"plus\"][idxs]),\n",
    "          label=\"Abs. val. of plus polarization\")\n",
    "\n",
    "ax.set_xlim(minimum_frequency,maximum_frequency)\n",
    "ax.set_ylim(1e-26,2.327737159425905e-21)\n",
    "\n",
    "\n",
    "ax.set_xlabel(\"Frequency [Hz]\")\n",
    "ax.set_ylabel(\"Strain [strain/$\\sqrt{Hz}$]\")\n",
    "ax.legend()\n",
    "plt.show()"
   ]
  },
  {
   "cell_type": "code",
   "execution_count": 21,
   "metadata": {},
   "outputs": [],
   "source": [
    "#injection_parameters = dict(mass_1=35.0, mass_2=30.0, eccentricity=0.1, luminosity_distance=440.0, \n",
    "#theta_jn=0.4, psi=0.1, phase=1.2, geocent_time=1180002601.0, ra=1.375, dec=-1.2108)\n",
    "priors = bilby.core.prior.PriorDict()\n",
    "priors[\"mass_1\"] = 35.\n",
    "priors[\"mass_2\"] = 30.\n",
    "priors[\"eccentricity\"] = bilby.core.prior.LogUniform(\n",
    "    name='eccentricity', latex_label='$e$', minimum=0.01, maximum=0.4)\n",
    "priors[\"luminosity_distance\"] = 440.\n",
    "priors[\"theta_jn\"] = 0.4\n",
    "priors[\"psi\"] = 0.1\n",
    "priors[\"phase\"] = 1.2\n",
    "priors[\"geocent_time\"] = 1180002601.0\n",
    "priors[\"ra\"] = 1.375\n",
    "priors[\"dec\"] = -1.2108\n"
   ]
  },
  {
   "cell_type": "code",
   "execution_count": 22,
   "metadata": {},
   "outputs": [],
   "source": [
    "likelihood = bilby.gw.likelihood.GravitationalWaveTransient(\n",
    "    interferometers=ifos, waveform_generator=waveform_generator)"
   ]
  },
  {
   "cell_type": "code",
   "execution_count": null,
   "metadata": {
    "scrolled": true
   },
   "outputs": [
    {
     "name": "stderr",
     "output_type": "stream",
     "text": [
      "14:12 bilby INFO    : Running for label 'eccentric_test', output will be saved to 'short'\n",
      "14:12 bilby INFO    : Using lal version 6.21.0\n",
      "14:12 bilby INFO    : Using lal git version Branch: None;Tag: lal-v6.21.0;Id: 37caf89936b637993c30b3076fe4b853311873ee;;Builder: Adam Mercer <adam.mercer@ligo.org>;Repository status: CLEAN: All modifications committed\n",
      "14:12 bilby INFO    : Using lalsimulation version 1.10.0\n",
      "14:12 bilby INFO    : Using lalsimulation git version Branch: None;Tag: lalsimulation-v1.10.0;Id: 5bfe091197594d55cf634f8a1c004eb9dc9b6459;;Builder: Adam Mercer <adam.mercer@ligo.org>;Repository status: CLEAN: All modifications committed\n",
      "14:12 bilby INFO    : Search parameters:\n",
      "14:12 bilby INFO    :   eccentricity = LogUniform(minimum=0.01, maximum=0.4, name='eccentricity', latex_label='$e$', unit=None, boundary=None)\n",
      "14:12 bilby INFO    :   mass_1 = 35.0\n",
      "14:12 bilby INFO    :   mass_2 = 30.0\n",
      "14:12 bilby INFO    :   luminosity_distance = 440.0\n",
      "14:12 bilby INFO    :   theta_jn = 0.4\n",
      "14:12 bilby INFO    :   psi = 0.1\n",
      "14:12 bilby INFO    :   phase = 1.2\n",
      "14:12 bilby INFO    :   geocent_time = 1180002601.0\n",
      "14:12 bilby INFO    :   ra = 1.375\n",
      "14:12 bilby INFO    :   dec = -1.2108\n"
     ]
    }
   ],
   "source": [
    "result_short = bilby.run_sampler(\n",
    "    likelihood, priors, sampler='dynesty', outdir='short', label=\"eccentric_test\",\n",
    "    nlive=500, dlogz=3,  # <- Arguments are used to make things fast - not recommended for general use\n",
    "    clean=True\n",
    ")\n"
   ]
  },
  {
   "cell_type": "code",
   "execution_count": 12,
   "metadata": {},
   "outputs": [
    {
     "data": {
      "image/png": "[encoded data removed]",
      "text/plain": [
       "<Figure size 432x288 with 1 Axes>"
      ]
     },
     "execution_count": 12,
     "metadata": {},
     "output_type": "execute_result"
    }
   ],
   "source": [
    "result_short.plot_corner()"
   ]
  },
  {
   "cell_type": "code",
   "execution_count": 17,
   "metadata": {
    "scrolled": true
   },
   "outputs": [
    {
     "data": {
      "text/plain": [
       "1779"
      ]
     },
     "execution_count": 17,
     "metadata": {},
     "output_type": "execute_result"
    }
   ],
   "source": [
    "len(result_short.samples)"
   ]
  },
  {
   "cell_type": "code",
   "execution_count": null,
   "metadata": {},
   "outputs": [],
   "source": []
  }
 ],
 "metadata": {
  "kernelspec": {
   "display_name": "Python 3",
   "language": "python",
   "name": "python3"
  },
  "language_info": {
   "codemirror_mode": {
    "name": "ipython",
    "version": 3
   },
   "file_extension": ".py",
   "mimetype": "text/x-python",
   "name": "python",
   "nbconvert_exporter": "python",
   "pygments_lexer": "ipython3",
   "version": "3.7.7"
  }
 },
 "nbformat": 4,
 "nbformat_minor": 4
}
