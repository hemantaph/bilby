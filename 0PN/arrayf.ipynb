{
 "cells": [
  {
   "cell_type": "code",
   "execution_count": 1,
   "metadata": {},
   "outputs": [],
   "source": [
    "import numpy as np\n",
    "import matplotlib.pyplot as plt\n",
    "\n",
    "import h0CpxSpx"
   ]
  },
  {
   "cell_type": "code",
   "execution_count": 2,
   "metadata": {},
   "outputs": [],
   "source": [
    "C = 299792458.0\n",
    "G = 6.67408*1e-11\n",
    "Mo = 1.989*1e30\n",
    "Mpc = 3.086*1e22\n",
    "\n",
    "D = 100.0*Mpc\n",
    "m1 = 10.0*Mo \n",
    "m2=10.0*Mo \n",
    "\n",
    "phic=0.0 \n",
    "tc=0.0 \n",
    "ra=1.375 \n",
    "dec=-1.2108\n",
    "\n",
    "f0 = 20.0\n",
    "et0 = 0.1\n",
    "\n",
    "Fp = 1.0\n",
    "Fx = 0.0\n",
    "\n",
    "iota = np.pi/3 \n",
    "beta = np.pi/3 "
   ]
  },
  {
   "cell_type": "code",
   "execution_count": 6,
   "metadata": {},
   "outputs": [],
   "source": [
    "frequency = np.arange(30,40,10)\n",
    "hf0 = []\n",
    "\n",
    "for f in frequency:\n",
    "    \n",
    "    M = m1 + m2\n",
    "    eta = (m1*m2)/(M**2)\n",
    "    chi = f/f0\n",
    "    ff = f\n",
    "    ff = C**3/(G*M*np.pi*6**(3/2))\n",
    "    l = np.arange(1,11,1)\n",
    "    \n",
    "    #eccentricity\n",
    "    et = et0**3*( - (3323/(1824*chi**(19/6))) + 3323/(1824*chi**(19/18)) ) + \\\n",
    "    et0**5*( 50259743/(6653952*chi**(95/18)) - 11042329/(1108992*chi**(19/6)) + 15994231/(6653952*chi**(19/18)) ) + et0/chi**(19/18)\n",
    "    \n",
    "    #calling class for Cx C+ Sx S+\n",
    "    fn = h0CpxSpx.Fn(et,iota,beta)\n",
    "    \n",
    "    #to find Xi\n",
    "    Gamma_l = Fp*fn.cplus() + Fx*fn.ccross()\n",
    "    Sigma_l = Fp*fn.splus() + Fx*fn.scross()\n",
    "\n",
    "    al = np.sign(Gamma_l)*np.sqrt(Gamma_l**2 + Sigma_l**2)\n",
    "\n",
    "    phil = np.zeros((10,3))\n",
    "    for i in range(10):\n",
    "        for j in range(3):\n",
    "            if Gamma_l[i][j]==0:\n",
    "                phil[i][j] = -np.sign(Sigma_l[i][j])*np.pi/2 \n",
    "            else:\n",
    "                phil[i][j] = np.arctan(- (Sigma_l[i][j]/Gamma_l[i][j]))\n",
    "\n",
    "    numerator = (1-et**2)**(7/4)\n",
    "    denomitor = ( 1 + (73/24)*et**2 + (37/96)*et**4 )**(1/2)\n",
    "    xil = (numerator/denomitor)*al*np.exp(-1j*phil)                \n",
    "    \n",
    "    #fourier phase\n",
    "    psi = l*phic - 2*np.pi*f*tc - 3/(128*eta) * ((G*M*np.pi*f)/C**3)**(-5/3) * \\\n",
    "    (l/2)**(8/3) *( 1 + et0**6 *( -(75356125/(3326976 *chi**(19/3)))+\\\n",
    "                                 (17355248095/(455518464 *chi**(38/9)))-\\\n",
    "                                 (1326481225/(101334144 *chi**(19/9))) ) + \\\n",
    "                   et0**4 *( (5222765/(998944 *chi**(38/9))) - (2608555/(444448 *chi**(19/9))) ) - \\\n",
    "                   (2355 *et0**2)/(1462 *chi**(19/9)) ) \n",
    "    \n",
    "    #defining unit-step function \n",
    "    def unitstep(lp):\n",
    "        if lp*ff-2*f>=0:\n",
    "            return(1)\n",
    "        else:\n",
    "            return(0)\n",
    "\n",
    "    def uniarray():\n",
    "        lx = np.arange(1,11,1)\n",
    "        for i in range(10):\n",
    "            lx[i] = unitstep(l[i])\n",
    "\n",
    "        return(lx)\n",
    "    \n",
    "    #frequency domain waveform\n",
    "    s = np.sum( xil[:,0]*((l/2)**(2/3))*np.exp( -1j*(np.pi/4 + psi) )*uniarray() ) + \\\n",
    "    np.sum( xil[:,-2]*((l/2)**(2/3))*np.exp( -1j*(np.pi/4 + psi) )*uniarray() ) + \\\n",
    "    np.sum( xil[:,2]*((l/2)**(2/3))*np.exp( -1j*(np.pi/4 + psi) )*uniarray() )\n",
    "    hf = ((5*np.pi*eta)/384)**(1/2) * (G**2*M**2)/(C**5*D)*( ((G*M*np.pi*f)/C**3)**(-7/6) )*np.sum(s)\n",
    "    \n",
    "    hf0 = np.append(hf0,hf)\n",
    "    \n",
    "    \n",
    "    \n",
    "    \n",
    "    \n",
    "    \n",
    "    \n",
    "    \n",
    "    \n",
    "    "
   ]
  },
  {
   "cell_type": "code",
   "execution_count": 19,
   "metadata": {},
   "outputs": [
    {
     "data": {
      "text/plain": [
       "array([2.98656253e-23-4.14833298e-23j])"
      ]
     },
     "execution_count": 19,
     "metadata": {},
     "output_type": "execute_result"
    }
   ],
   "source": [
    "hf0"
   ]
  },
  {
   "cell_type": "code",
   "execution_count": 18,
   "metadata": {
    "scrolled": false
   },
   "outputs": [
    {
     "data": {
      "text/plain": [
       "array([[ 4.86750904e-02+0.00000000e+00j, -6.07338182e-02+1.05194059e-01j,\n",
       "        -2.57201368e-05-4.45485837e-05j],\n",
       "       [ 3.20292677e-03+0.00000000e+00j,  1.21908698e+00-2.11152059e+00j,\n",
       "        -1.45164246e-06-2.51431849e-06j],\n",
       "       [ 2.37082467e-04+0.00000000e+00j,  1.80754848e-01-3.13076581e-01j,\n",
       "        -9.12795972e-08-1.58100900e-07j],\n",
       "       [ 1.84871394e-05+0.00000000e+00j,  2.11527002e-02-3.66375515e-02j,\n",
       "        -6.14717018e-09-1.06472111e-08j],\n",
       "       [ 1.49149669e-06+0.00000000e+00j,  2.26554550e-03-3.92403991e-03j,\n",
       "         0.00000000e+00+0.00000000e+00j],\n",
       "       [ 1.22216920e-07+0.00000000e+00j,  2.31839062e-04-4.01557034e-04j,\n",
       "         0.00000000e+00+0.00000000e+00j],\n",
       "       [ 0.00000000e+00+0.00000000e+00j,  2.33964125e-05-4.05237751e-05j,\n",
       "         0.00000000e+00+0.00000000e+00j],\n",
       "       [ 0.00000000e+00+0.00000000e+00j,  2.28898264e-06-3.96463424e-06j,\n",
       "         0.00000000e+00+0.00000000e+00j],\n",
       "       [ 0.00000000e+00+0.00000000e+00j,  0.00000000e+00+0.00000000e+00j,\n",
       "         0.00000000e+00+0.00000000e+00j],\n",
       "       [ 0.00000000e+00+0.00000000e+00j,  0.00000000e+00+0.00000000e+00j,\n",
       "         0.00000000e+00+0.00000000e+00j]])"
      ]
     },
     "execution_count": 18,
     "metadata": {},
     "output_type": "execute_result"
    }
   ],
   "source": [
    "xil"
   ]
  },
  {
   "cell_type": "code",
   "execution_count": 17,
   "metadata": {},
   "outputs": [
    {
     "data": {
      "text/plain": [
       "6.674079999999999e-11"
      ]
     },
     "execution_count": 17,
     "metadata": {},
     "output_type": "execute_result"
    }
   ],
   "source": [
    "G"
   ]
  },
  {
   "cell_type": "code",
   "execution_count": 6,
   "metadata": {
    "scrolled": true
   },
   "outputs": [
    {
     "data": {
      "text/plain": [
       "[<matplotlib.lines.Line2D at 0x7f7d5b866be0>]"
      ]
     },
     "execution_count": 6,
     "metadata": {},
     "output_type": "execute_result"
    },
    {
     "data": {
      "image/png": "[encoded data removed]",
      "text/plain": [
       "<Figure size 432x288 with 1 Axes>"
      ]
     },
     "metadata": {
      "needs_background": "light"
     },
     "output_type": "display_data"
    }
   ],
   "source": [
    "plt.loglog(frequency,abs(hf0))"
   ]
  },
  {
   "cell_type": "code",
   "execution_count": null,
   "metadata": {},
   "outputs": [],
   "source": []
  }
 ],
 "metadata": {
  "kernelspec": {
   "display_name": "Python 3",
   "language": "python",
   "name": "python3"
  },
  "language_info": {
   "codemirror_mode": {
    "name": "ipython",
    "version": 3
   },
   "file_extension": ".py",
   "mimetype": "text/x-python",
   "name": "python",
   "nbconvert_exporter": "python",
   "pygments_lexer": "ipython3",
   "version": "3.7.7"
  }
 },
 "nbformat": 4,
 "nbformat_minor": 4
}
