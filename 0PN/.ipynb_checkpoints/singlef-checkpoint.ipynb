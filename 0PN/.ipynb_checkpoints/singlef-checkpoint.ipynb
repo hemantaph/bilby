{
 "cells": [
  {
   "cell_type": "code",
   "execution_count": 136,
   "metadata": {},
   "outputs": [],
   "source": [
    "import numpy as np\n",
    "import h0CpxSpx"
   ]
  },
  {
   "cell_type": "code",
   "execution_count": 137,
   "metadata": {},
   "outputs": [],
   "source": [
    "C = 299792458.0\n",
    "G = 6.67408*1e-11\n",
    "Mo = 1.989*1e30\n",
    "Mpc = 3.086*1e22\n",
    "\n",
    "D = 100*Mpc\n",
    "mass_1 = 10.0*Mo \n",
    "mass_2=10.0*Mo \n",
    "\n",
    "theta_jn=np.pi/3 \n",
    "psi=np.pi/3 \n",
    "phase=0.0 \n",
    "geocent_time=0.0 \n",
    "ra=1.375 \n",
    "dec=-1.2108\n",
    "\n",
    "f0 = 20.0\n",
    "f = 22.0\n",
    "et0 = 0.1\n",
    "\n",
    "Fp = 1.0\n",
    "Fx = 0.0\n",
    "\n",
    "iota = psi \n",
    "beta = theta_jn \n",
    "\n",
    "chi = f/f0"
   ]
  },
  {
   "cell_type": "code",
   "execution_count": 138,
   "metadata": {},
   "outputs": [],
   "source": [
    "et = et0**3*( - (3323/(1824*chi**(19/6))) + 3323/(1824*chi**(19/18)) ) + \\\n",
    "et0**5*( 50259743/(6653952*chi**(95/18)) - 11042329/(1108992*chi**(19/6)) + 15994231/(6653952*chi**(19/18)) ) + et0/chi**(19/18)"
   ]
  },
  {
   "cell_type": "code",
   "execution_count": 139,
   "metadata": {},
   "outputs": [
    {
     "name": "stdout",
     "output_type": "stream",
     "text": [
      "0.090723044381382\n"
     ]
    }
   ],
   "source": [
    "print(et)"
   ]
  },
  {
   "cell_type": "code",
   "execution_count": 140,
   "metadata": {},
   "outputs": [],
   "source": [
    "fn = h0CpxSpx.Fn(et,iota,beta)"
   ]
  },
  {
   "cell_type": "code",
   "execution_count": 141,
   "metadata": {},
   "outputs": [],
   "source": [
    "#np.array([1,2,3])+np.array([1,2,3])"
   ]
  },
  {
   "cell_type": "code",
   "execution_count": 142,
   "metadata": {},
   "outputs": [],
   "source": [
    "Gamma_l = Fp*fn.cplus() + Fx*fn.ccross()\n",
    "Sigma_l = Fp*fn.splus() + Fx*fn.scross()\n",
    "\n",
    "al = np.sign(Gamma_l)*np.sqrt(Gamma_l**2 + Sigma_l**2)\n",
    "\n",
    "phil = np.zeros((10,3))\n",
    "for i in range(10):\n",
    "    for j in range(3):\n",
    "        if Gamma_l[i][j]==0:\n",
    "            phil[i][j] = -np.sign(Sigma_l[i][j])*np.pi/2 \n",
    "        else:\n",
    "            phil[i][j] = np.arctan(- (Sigma_l[i][j]/Gamma_l[i][j]))"
   ]
  },
  {
   "cell_type": "code",
   "execution_count": 143,
   "metadata": {},
   "outputs": [
    {
     "name": "stdout",
     "output_type": "stream",
     "text": [
      "[[ 6.79723031e-02 -8.46736147e-02 -6.82947170e-05]\n",
      " [ 6.15608453e-03  1.22440072e+00 -5.30846772e-06]\n",
      " [ 6.27120918e-04  2.50199662e-01 -4.59144679e-07]\n",
      " [ 6.72978791e-05  4.03124208e-02 -4.25927700e-08]\n",
      " [ 7.50236403e-06  5.94233647e-03  0.00000000e+00]\n",
      " [ 8.46821709e-07  8.36919402e-04  0.00000000e+00]\n",
      " [ 0.00000000e+00  1.17686083e-04  0.00000000e+00]\n",
      " [ 0.00000000e+00  1.58599987e-05  0.00000000e+00]\n",
      " [ 0.00000000e+00  0.00000000e+00  0.00000000e+00]\n",
      " [ 0.00000000e+00  0.00000000e+00  0.00000000e+00]] \n",
      " \n",
      " [[ 0.00000000e+00  1.46659003e-01 -1.18289920e-04]\n",
      " [ 0.00000000e+00 -2.12072426e+00 -9.19453580e-06]\n",
      " [ 0.00000000e+00 -4.33358526e-01 -7.95261911e-07]\n",
      " [ 0.00000000e+00 -6.98231610e-02 -7.37728417e-08]\n",
      " [ 0.00000000e+00 -1.02924287e-02  0.00000000e+00]\n",
      " [ 0.00000000e+00 -1.44958693e-03  0.00000000e+00]\n",
      " [ 0.00000000e+00 -2.03838276e-04  0.00000000e+00]\n",
      " [ 0.00000000e+00 -2.74703236e-05  0.00000000e+00]\n",
      " [ 0.00000000e+00  0.00000000e+00  0.00000000e+00]\n",
      " [ 0.00000000e+00  0.00000000e+00  0.00000000e+00]] \n",
      " \n",
      " [[ 6.79723031e-02 -1.69347229e-01 -1.36589434e-04]\n",
      " [ 6.15608453e-03  2.44880145e+00 -1.06169354e-05]\n",
      " [ 6.27120918e-04  5.00399324e-01 -9.18289357e-07]\n",
      " [ 6.72978791e-05  8.06248417e-02 -8.51855400e-08]\n",
      " [ 7.50236403e-06  1.18846729e-02  0.00000000e+00]\n",
      " [ 8.46821709e-07  1.67383880e-03  0.00000000e+00]\n",
      " [ 0.00000000e+00  2.35372167e-04  0.00000000e+00]\n",
      " [ 0.00000000e+00  3.17199974e-05  0.00000000e+00]\n",
      " [ 0.00000000e+00  0.00000000e+00  0.00000000e+00]\n",
      " [ 0.00000000e+00  0.00000000e+00  0.00000000e+00]] \n",
      " \n",
      " [[-0.          1.04719755 -1.04719755]\n",
      " [-0.          1.04719755 -1.04719755]\n",
      " [-0.          1.04719755 -1.04719755]\n",
      " [-0.          1.04719755 -1.04719755]\n",
      " [-0.          1.04719755 -0.        ]\n",
      " [-0.          1.04719755 -0.        ]\n",
      " [-0.          1.04719755 -0.        ]\n",
      " [-0.          1.04719755 -0.        ]\n",
      " [-0.         -0.         -0.        ]\n",
      " [-0.         -0.         -0.        ]]\n"
     ]
    }
   ],
   "source": [
    "print(Gamma_l,'\\n \\n',Sigma_l, '\\n \\n',al, '\\n \\n',phil)"
   ]
  },
  {
   "cell_type": "code",
   "execution_count": 144,
   "metadata": {},
   "outputs": [],
   "source": [
    "l = np.arange(1,11,1)\n",
    "phic = phase\n",
    "tc = geocent_time\n",
    "m1 = mass_1\n",
    "m2 = mass_2\n",
    "\n",
    "M = m1 + m2\n",
    "eta = (m1*m2)/(M**2)\n",
    "eto = et0\n",
    "chi = f/f0\n",
    "ff = f\n",
    "\n",
    "psi = l*phic - 2*np.pi*ff*tc - 3/(128*eta) * ((G*M*np.pi*ff)/C**3)**(-5/3) * \\\n",
    "(l/2)**(8/3) *( 1 + eto**6 *( -(75356125/(3326976 *chi**(19/3)))+\\\n",
    "                             (17355248095/(455518464 *chi**(38/9)))-\\\n",
    "                             (1326481225/(101334144 *chi**(19/9))) ) + \\\n",
    "               eto**4 *( (5222765/(998944 *chi**(38/9))) - (2608555/(444448 *chi**(19/9))) ) - \\\n",
    "               (2355 *eto**2)/(1462 *chi**(19/9)) )"
   ]
  },
  {
   "cell_type": "code",
   "execution_count": 145,
   "metadata": {},
   "outputs": [
    {
     "name": "stdout",
     "output_type": "stream",
     "text": [
      "[   -59.53860075   -378.04654983  -1114.60752235  -2400.4459636\n",
      "  -4352.29811732  -7077.31661405 -10675.62714236 -15241.88179127\n",
      " -20866.29368665 -27635.37043968]\n"
     ]
    }
   ],
   "source": [
    "print(psi)"
   ]
  },
  {
   "cell_type": "code",
   "execution_count": 146,
   "metadata": {},
   "outputs": [],
   "source": [
    "numerator = (1-et**2)**(7/4)\n",
    "denomitor = ( 1 + (73/24)*et**2 + (37/96)*et**4 )**(1/2)\n",
    "xil = (numerator/denomitor)*al*np.exp(-1j*phil)"
   ]
  },
  {
   "cell_type": "code",
   "execution_count": 147,
   "metadata": {},
   "outputs": [
    {
     "name": "stdout",
     "output_type": "stream",
     "text": [
      "[[ 6.61722336e-02+0.00000000e+00j -8.24312545e-02+1.42775121e-01j\n",
      "  -6.64861092e-05-1.15157319e-04j]\n",
      " [ 5.99305666e-03+0.00000000e+00j  1.19197566e+00-2.06456240e+00j\n",
      "  -5.16788678e-06-8.95104246e-06j]\n",
      " [ 6.10513253e-04+0.00000000e+00j  2.43573775e-01-4.21882154e-01j\n",
      "  -4.46985427e-07-7.74201471e-07j]\n",
      " [ 6.55156700e-05+0.00000000e+00j  3.92448513e-02-6.79740764e-02j\n",
      "  -4.14648114e-08-7.18191601e-08j]\n",
      " [ 7.30368345e-06+0.00000000e+00j  5.78496917e-03-1.00198605e-02j\n",
      "   0.00000000e+00+0.00000000e+00j]\n",
      " [ 8.24395841e-07+0.00000000e+00j  8.14755771e-04-1.41119839e-03j\n",
      "   0.00000000e+00+0.00000000e+00j]\n",
      " [ 0.00000000e+00+0.00000000e+00j  1.14569474e-04-1.98440150e-04j\n",
      "   0.00000000e+00+0.00000000e+00j]\n",
      " [ 0.00000000e+00+0.00000000e+00j  1.54399880e-05-2.67428436e-05j\n",
      "   0.00000000e+00+0.00000000e+00j]\n",
      " [ 0.00000000e+00+0.00000000e+00j  0.00000000e+00+0.00000000e+00j\n",
      "   0.00000000e+00+0.00000000e+00j]\n",
      " [ 0.00000000e+00+0.00000000e+00j  0.00000000e+00+0.00000000e+00j\n",
      "   0.00000000e+00+0.00000000e+00j]]\n"
     ]
    }
   ],
   "source": [
    "print(xil)"
   ]
  },
  {
   "cell_type": "code",
   "execution_count": 148,
   "metadata": {},
   "outputs": [],
   "source": [
    "ff = C**3/(G*M*np.pi*6**(3/2))\n",
    "def unitstep(lp):\n",
    "    if lp*ff-2*f>=0:\n",
    "        return(1)\n",
    "    else:\n",
    "        return(0)\n",
    "    \n",
    "def uniarray():\n",
    "    lx = np.arange(1,11,1)\n",
    "    for i in range(10):\n",
    "        lx[i] = unitstep(l[i])\n",
    "        \n",
    "    return(lx)"
   ]
  },
  {
   "cell_type": "code",
   "execution_count": 149,
   "metadata": {},
   "outputs": [
    {
     "data": {
      "text/plain": [
       "array([1, 1, 1, 1, 1, 1, 1, 1, 1, 1])"
      ]
     },
     "execution_count": 149,
     "metadata": {},
     "output_type": "execute_result"
    }
   ],
   "source": [
    "uniarray()\n",
    "    "
   ]
  },
  {
   "cell_type": "code",
   "execution_count": 156,
   "metadata": {},
   "outputs": [],
   "source": [
    "s = np.sum( xil[:,0]*((l/2)**(2/3))*np.exp( -1j*(np.pi/4 + psi) )*uniarray() ) + \\\n",
    "np.sum( xil[:,-2]*((l/2)**(2/3))*np.exp( -1j*(np.pi/4 + psi) )*uniarray() ) + \\\n",
    "np.sum( xil[:,2]*((l/2)**(2/3))*np.exp( -1j*(np.pi/4 + psi) )*uniarray() )"
   ]
  },
  {
   "cell_type": "code",
   "execution_count": 157,
   "metadata": {},
   "outputs": [],
   "source": [
    "hf = ((5*np.pi*eta)/384)**(1/2) * (G**2*M**2)/(C**5*D)*( ((G*M*np.pi*f)/C**3)**(-7/6) )*np.sum(s)"
   ]
  },
  {
   "cell_type": "code",
   "execution_count": 158,
   "metadata": {},
   "outputs": [
    {
     "data": {
      "text/plain": [
       "8.306200516283813e-23"
      ]
     },
     "execution_count": 158,
     "metadata": {},
     "output_type": "execute_result"
    }
   ],
   "source": [
    "abs(hf)"
   ]
  },
  {
   "cell_type": "code",
   "execution_count": 153,
   "metadata": {},
   "outputs": [
    {
     "data": {
      "text/plain": [
       "array([-6.64861092e-05-1.15157319e-04j, -5.16788678e-06-8.95104246e-06j,\n",
       "       -4.46985427e-07-7.74201471e-07j, -4.14648114e-08-7.18191601e-08j,\n",
       "        0.00000000e+00+0.00000000e+00j,  0.00000000e+00+0.00000000e+00j,\n",
       "        0.00000000e+00+0.00000000e+00j,  0.00000000e+00+0.00000000e+00j])"
      ]
     },
     "execution_count": 153,
     "metadata": {},
     "output_type": "execute_result"
    }
   ],
   "source": [
    "xil[0:8,2]"
   ]
  },
  {
   "cell_type": "code",
   "execution_count": 154,
   "metadata": {},
   "outputs": [
    {
     "data": {
      "text/plain": [
       "array([1, 2, 3, 4])"
      ]
     },
     "execution_count": 154,
     "metadata": {},
     "output_type": "execute_result"
    }
   ],
   "source": [
    "l[0:4]"
   ]
  },
  {
   "cell_type": "code",
   "execution_count": null,
   "metadata": {},
   "outputs": [],
   "source": []
  }
 ],
 "metadata": {
  "kernelspec": {
   "display_name": "Python 3",
   "language": "python",
   "name": "python3"
  },
  "language_info": {
   "codemirror_mode": {
    "name": "ipython",
    "version": 3
   },
   "file_extension": ".py",
   "mimetype": "text/x-python",
   "name": "python",
   "nbconvert_exporter": "python",
   "pygments_lexer": "ipython3",
   "version": "3.6.12"
  }
 },
 "nbformat": 4,
 "nbformat_minor": 4
}
