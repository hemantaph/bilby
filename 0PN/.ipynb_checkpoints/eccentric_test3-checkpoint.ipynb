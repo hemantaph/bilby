{
 "cells": [
  {
   "cell_type": "code",
   "execution_count": 16,
   "metadata": {},
   "outputs": [],
   "source": [
    "#from __future__ import division, print_function\n",
    "import matplotlib.pyplot as plt\n",
    "import bilby\n",
    "import numpy as np\n",
    "\n",
    "from bilby.core.prior import Uniform\n",
    "#from bilby.gw.conversion import convert_to_lal_binary_black_hole_parameters, generate_all_bbh_parameters\n",
    "%matplotlib inline\n",
    "\n",
    "import time\n",
    "import multiprocessing as mp\n",
    "\n",
    "import hphc5\n",
    "\n",
    "C = 299792458.\n",
    "G = 6.67408*1e-11\n",
    "Mo = 1.989*1e30\n",
    "Mpc = 3.086*1e22"
   ]
  },
  {
   "cell_type": "code",
   "execution_count": 3,
   "metadata": {},
   "outputs": [],
   "source": [
    "outdir = 'outdir_new_model'\n",
    "label = 'create_your_own_source_model'\n",
    "sampling_frequency = 1024.\n",
    "duration = 4."
   ]
  },
  {
   "cell_type": "code",
   "execution_count": 25,
   "metadata": {},
   "outputs": [],
   "source": [
    "# Here we define our source model - this is the sine-Gaussian model in the\n",
    "# frequency domain.\n",
    "def eccentric_waveform(f, mass_1, mass_2, eccentricity, luminosity_distance, theta_jn, psi, phase, geocent_time, ra, dec):\n",
    "    \n",
    "    h_plus = 0*1j\n",
    "    h_cross = 0*1j\n",
    "    \n",
    "    #define the range where the analytic waveformis valid\n",
    "    fmin = 20.0\n",
    "    fmax = (C**3)/( G*(mass_1+mass_2)*Mo*np.pi*6**(3/2) )\n",
    "\n",
    "    if f>=fmin and f<=fmax:        \n",
    "        arg_plus = {'iota_':theta_jn, 'beta_':psi, 'D_':luminosity_distance , 'm1_':mass_1, 'm2_':mass_2, 'f_':f, 'f0_':20., 'Fp_':1., 'Fc_':0., 'et0_':eccentricity, 'phic_':phase, 'tc_':geocent_time}\n",
    "\n",
    "        arg_cross = {'iota_':theta_jn, 'beta_':psi, 'D_':luminosity_distance , 'm1_':mass_1, 'm2_':mass_2, 'f_':f, 'f0_':20., 'Fp_':0., 'Fc_':1., 'et0_':eccentricity, 'phic_':phase, 'tc_':geocent_time}\n",
    "\n",
    "        fplus = hphc5.Fn(**arg_plus)\n",
    "        h_plus = fplus.htilde()\n",
    "\n",
    "        fcross = hphc5.Fn(**arg_cross)\n",
    "        h_cross = fcross.htilde()\n",
    "\n",
    "    return(h_plus, h_cross)"
   ]
  },
  {
   "cell_type": "code",
   "execution_count": 15,
   "metadata": {},
   "outputs": [
    {
     "name": "stdout",
     "output_type": "stream",
     "text": [
      "Execution took 0.4677\n"
     ]
    }
   ],
   "source": [
    "t0 = time.time()\n",
    "eccentric_waveform(30, 35.0 ,30.0 , 0.1, 440.0, 0.4, 0.1, 1.2, 1180002601.0, 1.375, -1.2108)\n",
    "t1 = time.time()\n",
    "print('Execution took {:.4f}'.format(t1 - t0))"
   ]
  },
  {
   "cell_type": "code",
   "execution_count": 46,
   "metadata": {},
   "outputs": [
    {
     "data": {
      "text/plain": [
       "((-8.150061987465542e-23-5.528894817439469e-24j),\n",
       " (5.529269253573273e-24-8.150064530932003e-23j))"
      ]
     },
     "execution_count": 46,
     "metadata": {},
     "output_type": "execute_result"
    }
   ],
   "source": [
    "eccentric_waveform(25, 35.0 ,30.0 , 0.1, 440.0, 0.4, 0.1, 1.2, 1180002601.0, 1.375, -1.2108)"
   ]
  },
  {
   "cell_type": "code",
   "execution_count": 67,
   "metadata": {},
   "outputs": [],
   "source": [
    "def multi_run_wrapper(args):\n",
    "   return eccentric_waveform(*args)\n",
    "\n",
    "def multicore(f_array, mass_1, mass_2, eccentricity, luminosity_distance, theta_jn, psi, phase, geocent_time, ra, dec):\n",
    "    \n",
    "    arg_list = []\n",
    "    \n",
    "    for jj in f_array:\n",
    "        arg_list.append((jj, mass_1, mass_2, eccentricity, luminosity_distance, theta_jn, psi, phase, geocent_time, ra, dec))\n",
    "\n",
    "    result = []\n",
    "    with mp.Pool(processes=8) as pool:\n",
    "        result = pool.map(multi_run_wrapper, arg_list)\n",
    "    \n",
    "    result = np.array(result)\n",
    "    h_plus = result[:,0]\n",
    "    h_cross = result[:,1]\n",
    "    \n",
    "    return {'plus': h_plus, 'cross': h_cross}"
   ]
  },
  {
   "cell_type": "code",
   "execution_count": 39,
   "metadata": {},
   "outputs": [
    {
     "data": {
      "text/plain": [
       "67.6310005682923"
      ]
     },
     "execution_count": 39,
     "metadata": {},
     "output_type": "execute_result"
    }
   ],
   "source": [
    "(C**3)/( G*(35.0+30.0)*Mo*np.pi*6**(3/2) )"
   ]
  },
  {
   "cell_type": "code",
   "execution_count": 68,
   "metadata": {},
   "outputs": [
    {
     "name": "stderr",
     "output_type": "stream",
     "text": [
      "13:31 bilby INFO    : Waveform generator initiated with\n",
      "  frequency_domain_source_model: __main__.multicore\n",
      "  time_domain_source_model: None\n",
      "  parameter_conversion: bilby.gw.conversion.convert_to_lal_binary_black_hole_parameters\n"
     ]
    }
   ],
   "source": [
    "# Set up a random seed for result reproducibility.\n",
    "np.random.seed(150914)\n",
    "\n",
    "# We now define some parameters that we will inject\n",
    "injection_parameters = dict(mass_1=35.0, mass_2=30.0, eccentricity=0.1, luminosity_distance=440.0, theta_jn=0.4, psi=0.1, phase=1.2, geocent_time=1180002601.0, ra=1.375, dec=-1.2108)\n",
    "\n",
    "# Now we pass our source function to the WaveformGenerator\n",
    "waveform_generator = bilby.gw.waveform_generator.WaveformGenerator(\n",
    "    duration=duration, sampling_frequency=sampling_frequency,\n",
    "    frequency_domain_source_model=multicore,\n",
    "    parameters=injection_parameters)"
   ]
  },
  {
   "cell_type": "code",
   "execution_count": 69,
   "metadata": {},
   "outputs": [
    {
     "name": "stderr",
     "output_type": "stream",
     "text": [
      "13:33 bilby INFO    : Injected signal in H1:\n",
      "13:33 bilby INFO    :   optimal SNR = 77.54\n",
      "13:33 bilby INFO    :   matched filter SNR = 75.79-0.01j\n",
      "13:33 bilby INFO    :   mass_1 = 35.0\n",
      "13:33 bilby INFO    :   mass_2 = 30.0\n",
      "13:33 bilby INFO    :   eccentricity = 0.1\n",
      "13:33 bilby INFO    :   luminosity_distance = 440.0\n",
      "13:33 bilby INFO    :   theta_jn = 0.4\n",
      "13:33 bilby INFO    :   psi = 0.1\n",
      "13:33 bilby INFO    :   phase = 1.2\n",
      "13:33 bilby INFO    :   geocent_time = 1180002601.0\n",
      "13:33 bilby INFO    :   ra = 1.375\n",
      "13:33 bilby INFO    :   dec = -1.2108\n",
      "13:33 bilby INFO    : Injected signal in L1:\n",
      "13:33 bilby INFO    :   optimal SNR = 61.28\n",
      "13:33 bilby INFO    :   matched filter SNR = 61.13+0.00j\n",
      "13:33 bilby INFO    :   mass_1 = 35.0\n",
      "13:33 bilby INFO    :   mass_2 = 30.0\n",
      "13:33 bilby INFO    :   eccentricity = 0.1\n",
      "13:33 bilby INFO    :   luminosity_distance = 440.0\n",
      "13:33 bilby INFO    :   theta_jn = 0.4\n",
      "13:33 bilby INFO    :   psi = 0.1\n",
      "13:33 bilby INFO    :   phase = 1.2\n",
      "13:33 bilby INFO    :   geocent_time = 1180002601.0\n",
      "13:33 bilby INFO    :   ra = 1.375\n",
      "13:33 bilby INFO    :   dec = -1.2108\n"
     ]
    },
    {
     "data": {
      "text/plain": [
       "[{'plus': array([3.73481756e-23+2.46946453e-23j,\n",
       "         3.73481756e-23+2.46946453e-23j,\n",
       "         3.73481756e-23+2.46946453e-23j, ...,\n",
       "         3.73481756e-23+2.46946453e-23j,\n",
       "         3.73481756e-23+2.46946453e-23j,\n",
       "         3.73481756e-23+2.46946453e-23j]),\n",
       "  'cross': array([-2.46944391e-23+3.73475905e-23j,\n",
       "         -2.46944391e-23+3.73475905e-23j,\n",
       "         -2.46944391e-23+3.73475905e-23j, ...,\n",
       "         -2.46944391e-23+3.73475905e-23j,\n",
       "         -2.46944391e-23+3.73475905e-23j,\n",
       "         -2.46944391e-23+3.73475905e-23j])},\n",
       " {'plus': array([3.73481756e-23+2.46946453e-23j,\n",
       "         3.73481756e-23+2.46946453e-23j,\n",
       "         3.73481756e-23+2.46946453e-23j, ...,\n",
       "         3.73481756e-23+2.46946453e-23j,\n",
       "         3.73481756e-23+2.46946453e-23j,\n",
       "         3.73481756e-23+2.46946453e-23j]),\n",
       "  'cross': array([-2.46944391e-23+3.73475905e-23j,\n",
       "         -2.46944391e-23+3.73475905e-23j,\n",
       "         -2.46944391e-23+3.73475905e-23j, ...,\n",
       "         -2.46944391e-23+3.73475905e-23j,\n",
       "         -2.46944391e-23+3.73475905e-23j,\n",
       "         -2.46944391e-23+3.73475905e-23j])}]"
      ]
     },
     "execution_count": 69,
     "metadata": {},
     "output_type": "execute_result"
    }
   ],
   "source": [
    "# Set up interferometers.\n",
    "minimum_frequency = 20.0+5.0\n",
    "maximum_frequency = (C**3)/( G*(35.0+30.0)*Mo*np.pi*6**(3/2) )-5.0\n",
    "\n",
    "ifos = bilby.gw.detector.InterferometerList(['H1', 'L1'])\n",
    "for ifo in ifos:\n",
    "    ifo.minimum_frequency = minimum_frequency\n",
    "    ifo.maximum_frequency = maximum_frequency\n",
    "ifos.set_strain_data_from_power_spectral_densities(\n",
    "    sampling_frequency=sampling_frequency, duration=duration,\n",
    "    start_time=injection_parameters['geocent_time'] - 2)\n",
    "ifos.inject_signal(waveform_generator=waveform_generator,\n",
    "                   parameters=injection_parameters)"
   ]
  },
  {
   "cell_type": "code",
   "execution_count": null,
   "metadata": {},
   "outputs": [],
   "source": []
  },
  {
   "cell_type": "code",
   "execution_count": null,
   "metadata": {},
   "outputs": [],
   "source": []
  },
  {
   "cell_type": "code",
   "execution_count": null,
   "metadata": {},
   "outputs": [],
   "source": []
  },
  {
   "cell_type": "code",
   "execution_count": null,
   "metadata": {},
   "outputs": [],
   "source": []
  },
  {
   "cell_type": "code",
   "execution_count": null,
   "metadata": {},
   "outputs": [],
   "source": []
  },
  {
   "cell_type": "code",
   "execution_count": null,
   "metadata": {},
   "outputs": [],
   "source": []
  },
  {
   "cell_type": "code",
   "execution_count": null,
   "metadata": {},
   "outputs": [],
   "source": []
  },
  {
   "cell_type": "code",
   "execution_count": null,
   "metadata": {},
   "outputs": [],
   "source": []
  },
  {
   "cell_type": "code",
   "execution_count": null,
   "metadata": {},
   "outputs": [],
   "source": []
  },
  {
   "cell_type": "code",
   "execution_count": null,
   "metadata": {},
   "outputs": [],
   "source": []
  },
  {
   "cell_type": "code",
   "execution_count": null,
   "metadata": {},
   "outputs": [],
   "source": []
  },
  {
   "cell_type": "code",
   "execution_count": null,
   "metadata": {},
   "outputs": [],
   "source": []
  }
 ],
 "metadata": {
  "kernelspec": {
   "display_name": "Python 3",
   "language": "python",
   "name": "python3"
  },
  "language_info": {
   "codemirror_mode": {
    "name": "ipython",
    "version": 3
   },
   "file_extension": ".py",
   "mimetype": "text/x-python",
   "name": "python",
   "nbconvert_exporter": "python",
   "pygments_lexer": "ipython3",
   "version": "3.7.7"
  }
 },
 "nbformat": 4,
 "nbformat_minor": 4
}
