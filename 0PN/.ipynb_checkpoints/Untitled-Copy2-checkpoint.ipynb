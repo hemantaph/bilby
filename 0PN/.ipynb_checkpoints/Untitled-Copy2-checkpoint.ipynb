{
 "cells": [
  {
   "cell_type": "code",
   "execution_count": 1,
   "metadata": {},
   "outputs": [],
   "source": [
    "from __future__ import division, print_function\n",
    "import matplotlib.pyplot as plt\n",
    "import bilby\n",
    "import numpy as np\n",
    "\n",
    "from bilby.core.prior import Uniform\n",
    "from bilby.gw.conversion import convert_to_lal_binary_black_hole_parameters, generate_all_bbh_parameters\n",
    "%matplotlib inline\n",
    "\n",
    "import hphc"
   ]
  },
  {
   "cell_type": "code",
   "execution_count": 2,
   "metadata": {},
   "outputs": [],
   "source": [
    "outdir = 'outdir_new_model'\n",
    "label = 'create_your_own_source_model'\n",
    "sampling_frequency = 4096\n",
    "duration = 4"
   ]
  },
  {
   "cell_type": "code",
   "execution_count": 3,
   "metadata": {},
   "outputs": [],
   "source": [
    "# Here we define our source model - this is the sine-Gaussian model in the\n",
    "# frequency domain.\n",
    "def eccentric_waveform(frequency_array, mass_1, mass_2, eccentricity, luminosity_distance, theta_jn, psi, phase, geocent_time):\n",
    "    '''\n",
    "    freq = []\n",
    "    for ii in range(len(frequency_array)):\n",
    "        if frequency_array[ii]>=10. :\n",
    "            freq = np.append(freq, frequency_array[ii])\n",
    "    '''       \n",
    "    h_plus = []\n",
    "    h_cross = []\n",
    "    \n",
    "    for f in frequency_array:\n",
    "        if f<10.0:\n",
    "            h_plus = np.append(h_plus,0*1j)\n",
    "            h_cross = np.append(h_cross,0*1j)\n",
    "        else:\n",
    "            arg_plus = {'iota_':theta_jn, 'beta_':psi, 'D_':luminosity_distance , 'm1_':mass_1, 'm2_':mass_2, 'f_':f, 'f0_':10., 'Fp_':1., 'Fc_':0., 'et0_':eccentricity, 'phic_':phase, 'tc_':geocent_time}\n",
    "\n",
    "            arg_cross = {'iota_':theta_jn, 'beta_':psi, 'D_':luminosity_distance , 'm1_':mass_1, 'm2_':mass_2, 'f_':f, 'f0_':10., 'Fp_':0., 'Fc_':1., 'et0_':eccentricity, 'phic_':phase, 'tc_':geocent_time}\n",
    "\n",
    "            fplus = hphc.Fn(**arg_plus)\n",
    "            h_plus = np.append(h_plus,fplus.htilde())\n",
    "\n",
    "            fcross = hphc.Fn(**arg_cross)\n",
    "            h_cross = np.append(h_cross,fcross.htilde())\n",
    "\n",
    "    return {'plus': h_plus, 'cross': h_cross}"
   ]
  },
  {
   "cell_type": "code",
   "execution_count": 4,
   "metadata": {},
   "outputs": [],
   "source": [
    "#arg_plus = {'iota_':np.pi/3, 'beta_':np.pi/3, 'D_':100. , 'm1_':10., 'm2_':10., 'f_':0., 'f0_':10., 'Fp_':1.0, 'Fc_':0.0, 'et0_':0.1, 'phic_':0., 'tc_':0.}\n",
    "#fplus = hphc.Fn(**arg_plus)\n",
    "#fplus.eccn()"
   ]
  },
  {
   "cell_type": "code",
   "execution_count": 5,
   "metadata": {},
   "outputs": [],
   "source": [
    "#frequency = np.arange(10,200,1)\n",
    "#eccentric_waveform([500], 10.0,10.0,100.0,np.pi/3,np.pi/3,0.0,0.0)['plus']"
   ]
  },
  {
   "cell_type": "code",
   "execution_count": 6,
   "metadata": {},
   "outputs": [],
   "source": [
    "#plt.loglog(frequency, abs(hp_))"
   ]
  },
  {
   "cell_type": "code",
   "execution_count": 4,
   "metadata": {},
   "outputs": [],
   "source": [
    "# We now define some parameters that we will inject\n",
    " injection_parameters = dict(mass_1=10.0, mass_2=10.0, eccentricity=0.8, luminosity_distance=100.0, theta_jn=np.pi/3, psi=np.pi/3, phase=1.2, geocent_time=1180002601.0, ra=1.375, dec=-1.2108)"
   ]
  },
  {
   "cell_type": "code",
   "execution_count": 5,
   "metadata": {},
   "outputs": [
    {
     "name": "stderr",
     "output_type": "stream",
     "text": [
      "09:17 bilby INFO    : Waveform generator initiated with\n",
      "  frequency_domain_source_model: __main__.eccentric_waveform\n",
      "  time_domain_source_model: None\n",
      "  parameter_conversion: bilby.gw.conversion.convert_to_lal_binary_black_hole_parameters\n"
     ]
    }
   ],
   "source": [
    "# Now we pass our source function to the WaveformGenerator\n",
    "waveform_generator = bilby.gw.waveform_generator.WaveformGenerator(\n",
    "    duration=duration, sampling_frequency=sampling_frequency,\n",
    "    frequency_domain_source_model=eccentric_waveform)"
   ]
  },
  {
   "cell_type": "code",
   "execution_count": 6,
   "metadata": {},
   "outputs": [
    {
     "name": "stderr",
     "output_type": "stream",
     "text": [
      "/home/hemantakumar.phurailatpam/anaconda3/envs/bilby/lib/python3.6/site-packages/bilby/gw/detector/psd.py:356: RuntimeWarning: invalid value encountered in multiply\n",
      "  frequency_domain_strain = self.__power_spectral_density_interpolated(frequencies) ** 0.5 * white_noise\n",
      "09:18 bilby INFO    : Injected signal in H1:\n",
      "09:18 bilby INFO    :   optimal SNR = 96.65\n",
      "09:18 bilby INFO    :   matched filter SNR = 98.36+0.73j\n",
      "09:18 bilby INFO    :   mass_1 = 10.0\n",
      "09:18 bilby INFO    :   mass_2 = 10.0\n",
      "09:18 bilby INFO    :   eccentricity = 0.8\n",
      "09:18 bilby INFO    :   luminosity_distance = 100.0\n",
      "09:18 bilby INFO    :   theta_jn = 1.0471975511965976\n",
      "09:18 bilby INFO    :   psi = 1.0471975511965976\n",
      "09:18 bilby INFO    :   phase = 1.2\n",
      "09:18 bilby INFO    :   geocent_time = 1180002601.0\n",
      "09:18 bilby INFO    :   ra = 1.375\n",
      "09:18 bilby INFO    :   dec = -1.2108\n",
      "09:18 bilby INFO    : Injected signal in L1:\n",
      "09:18 bilby INFO    :   optimal SNR = 76.37\n",
      "09:18 bilby INFO    :   matched filter SNR = 75.87-0.54j\n",
      "09:18 bilby INFO    :   mass_1 = 10.0\n",
      "09:18 bilby INFO    :   mass_2 = 10.0\n",
      "09:18 bilby INFO    :   eccentricity = 0.8\n",
      "09:18 bilby INFO    :   luminosity_distance = 100.0\n",
      "09:18 bilby INFO    :   theta_jn = 1.0471975511965976\n",
      "09:18 bilby INFO    :   psi = 1.0471975511965976\n",
      "09:18 bilby INFO    :   phase = 1.2\n",
      "09:18 bilby INFO    :   geocent_time = 1180002601.0\n",
      "09:18 bilby INFO    :   ra = 1.375\n",
      "09:18 bilby INFO    :   dec = -1.2108\n"
     ]
    },
    {
     "data": {
      "text/plain": [
       "[{'plus': array([0.+0.j, 0.+0.j, 0.+0.j, ..., 0.+0.j, 0.+0.j, 0.+0.j]),\n",
       "  'cross': array([0.+0.j, 0.+0.j, 0.+0.j, ..., 0.+0.j, 0.+0.j, 0.+0.j])},\n",
       " {'plus': array([0.+0.j, 0.+0.j, 0.+0.j, ..., 0.+0.j, 0.+0.j, 0.+0.j]),\n",
       "  'cross': array([0.+0.j, 0.+0.j, 0.+0.j, ..., 0.+0.j, 0.+0.j, 0.+0.j])}]"
      ]
     },
     "execution_count": 6,
     "metadata": {},
     "output_type": "execute_result"
    }
   ],
   "source": [
    "# Set up interferometers.\n",
    "minimum_frequency = 10.\n",
    "maximum_frequency = 200.\n",
    "\n",
    "ifos = bilby.gw.detector.InterferometerList(['H1', 'L1'])\n",
    "for ifo in ifos:\n",
    "    ifo.minimum_frequency = minimum_frequency\n",
    "    ifo.maximum_frequency = maximum_frequency\n",
    "ifos.set_strain_data_from_power_spectral_densities(\n",
    "    sampling_frequency=sampling_frequency, duration=duration,\n",
    "    start_time=injection_parameters['geocent_time'] - 3)\n",
    "ifos.inject_signal(waveform_generator=waveform_generator,\n",
    "                   parameters=injection_parameters)"
   ]
  },
  {
   "cell_type": "code",
   "execution_count": 9,
   "metadata": {},
   "outputs": [
    {
     "name": "stderr",
     "output_type": "stream",
     "text": [
      "09:20 bilby INFO    : Injected signal in H1:\n",
      "09:20 bilby INFO    :   optimal SNR = 96.65\n",
      "09:20 bilby INFO    :   matched filter SNR = 388.30+0.73j\n",
      "09:20 bilby INFO    :   mass_1 = 10.0\n",
      "09:20 bilby INFO    :   mass_2 = 10.0\n",
      "09:20 bilby INFO    :   eccentricity = 0.8\n",
      "09:20 bilby INFO    :   luminosity_distance = 100.0\n",
      "09:20 bilby INFO    :   theta_jn = 1.0471975511965976\n",
      "09:20 bilby INFO    :   psi = 1.0471975511965976\n",
      "09:20 bilby INFO    :   phase = 1.2\n",
      "09:20 bilby INFO    :   geocent_time = 1180002601.0\n",
      "09:20 bilby INFO    :   ra = 1.375\n",
      "09:20 bilby INFO    :   dec = -1.2108\n",
      "09:20 bilby INFO    : Injected signal in L1:\n",
      "09:20 bilby INFO    :   optimal SNR = 76.37\n",
      "09:20 bilby INFO    :   matched filter SNR = 304.99-0.54j\n",
      "09:20 bilby INFO    :   mass_1 = 10.0\n",
      "09:20 bilby INFO    :   mass_2 = 10.0\n",
      "09:20 bilby INFO    :   eccentricity = 0.8\n",
      "09:20 bilby INFO    :   luminosity_distance = 100.0\n",
      "09:20 bilby INFO    :   theta_jn = 1.0471975511965976\n",
      "09:20 bilby INFO    :   psi = 1.0471975511965976\n",
      "09:20 bilby INFO    :   phase = 1.2\n",
      "09:20 bilby INFO    :   geocent_time = 1180002601.0\n",
      "09:20 bilby INFO    :   ra = 1.375\n",
      "09:20 bilby INFO    :   dec = -1.2108\n"
     ]
    },
    {
     "data": {
      "image/png": "[encoded data removed]",
      "text/plain": [
       "<Figure size 432x288 with 1 Axes>"
      ]
     },
     "metadata": {
      "needs_background": "light"
     },
     "output_type": "display_data"
    }
   ],
   "source": [
    "injection = ifos.inject_signal(waveform_generator=waveform_generator,\n",
    "                   parameters=injection_parameters)\n",
    "H1 = ifos[0]\n",
    "H1_injection = injection[0]\n",
    "\n",
    "fig, ax = plt.subplots()\n",
    "idxs = H1.strain_data.frequency_mask  # This is a boolean mask of the frequencies which we'll use in the analysis\n",
    "ax.loglog(H1.strain_data.frequency_array[idxs],\n",
    "          np.abs(H1.strain_data.frequency_domain_strain[idxs]),\n",
    "          label=\"data\")\n",
    "ax.loglog(H1.frequency_array[idxs],\n",
    "          H1.amplitude_spectral_density_array[idxs],\n",
    "          label=\"ASD\")\n",
    "ax.loglog(H1.frequency_array[idxs],\n",
    "          np.abs(H1_injection[\"plus\"][idxs]),\n",
    "          label=\"Abs. val. of plus polarization\")\n",
    "\n",
    "'''L1 = ifos[1]\n",
    "L1_injection = injection[1]\n",
    "\n",
    "ax.loglog(L1.frequency_array[idxs]+5,\n",
    "          L1.amplitude_spectral_density_array[idxs],\n",
    "          label=\"ASD\")'''\n",
    "\n",
    "ax.set_xlim(20,500)\n",
    "ax.set_ylim(1e-26,2.327737159425905e-21)\n",
    "\n",
    "\n",
    "ax.set_xlabel(\"Frequency [Hz]\")\n",
    "ax.set_ylabel(\"Strain [strain/$\\sqrt{Hz}$]\")\n",
    "ax.legend()\n",
    "plt.show()"
   ]
  },
  {
   "cell_type": "code",
   "execution_count": 11,
   "metadata": {},
   "outputs": [],
   "source": [
    "prior = bilby.core.prior.PriorDict()\n",
    "prior['mass_1'] = 10.\n",
    "prior['mass_2'] = 10.\n",
    "prior['phase'] = 1.2\n",
    "prior['geocent_time'] = 1180002601.0\n",
    "prior['dec'] =  -1.2108\n",
    "prior['ra'] =  1.375\n",
    "prior['theta_jn'] =  np.pi/3\n",
    "prior['psi'] =  np.pi/3\n",
    "prior['luminosity_distance'] = 100.\n",
    "prior[\"eccentricity\"] = bilby.core.prior.LogUniform(minimum=1e-4, maximum=0.1, name='eccentricity')\n"
   ]
  },
  {
   "cell_type": "code",
   "execution_count": 12,
   "metadata": {},
   "outputs": [],
   "source": [
    "likelihood = bilby.gw.likelihood.GravitationalWaveTransient(\n",
    "    interferometers=ifos, waveform_generator=waveform_generator)"
   ]
  },
  {
   "cell_type": "code",
   "execution_count": null,
   "metadata": {
    "scrolled": false
   },
   "outputs": [
    {
     "name": "stderr",
     "output_type": "stream",
     "text": [
      "09:09 bilby INFO    : Running for label 'create_your_own_source_model', output will be saved to 'outdir_new_model'\n",
      "09:09 bilby INFO    : Using lal version 7.0.0\n",
      "09:09 bilby INFO    : Using lal git version Branch: None;Tag: lalsuite-v6.76;Id: 384ac5e4b9c95803607658118ba361dfc353dade;;Builder: Unknown User <>;Repository status: UNCLEAN: Modified working tree\n",
      "09:09 bilby INFO    : Using lalsimulation version 2.2.0\n",
      "09:09 bilby INFO    : Using lalsimulation git version Branch: None;Tag: lalsuite-v6.76;Id: 384ac5e4b9c95803607658118ba361dfc353dade;;Builder: Unknown User <>;Repository status: UNCLEAN: Modified working tree\n",
      "09:09 bilby INFO    : Search parameters:\n",
      "09:09 bilby INFO    :   eccentricity = LogUniform(minimum=0.0001, maximum=0.1, name='eccentricity', latex_label='eccentricity', unit=None, boundary=None)\n",
      "09:09 bilby INFO    :   mass_1 = 10.0\n",
      "09:09 bilby INFO    :   mass_2 = 10.0\n",
      "09:09 bilby INFO    :   phase = 1.2\n",
      "09:09 bilby INFO    :   geocent_time = 1180002601.0\n",
      "09:09 bilby INFO    :   dec = -1.2108\n",
      "09:09 bilby INFO    :   ra = 1.375\n",
      "09:09 bilby INFO    :   theta_jn = 1.0471975511965976\n",
      "09:09 bilby INFO    :   psi = 1.0471975511965976\n",
      "09:09 bilby INFO    :   luminosity_distance = 100.0\n"
     ]
    }
   ],
   "source": [
    "result = bilby.core.sampler.run_sampler(\n",
    "    likelihood, prior, sampler='dynesty', outdir=outdir, label=label,\n",
    "    resume=False, sample='unif', injection_parameters=injection_parameters)\n"
   ]
  },
  {
   "cell_type": "code",
   "execution_count": 16,
   "metadata": {},
   "outputs": [
    {
     "data": {
      "image/png": "[encoded data removed]",
      "text/plain": [
       "<Figure size 432x288 with 1 Axes>"
      ]
     },
     "execution_count": 16,
     "metadata": {},
     "output_type": "execute_result"
    }
   ],
   "source": [
    "result.plot_corner()"
   ]
  },
  {
   "cell_type": "code",
   "execution_count": 19,
   "metadata": {
    "scrolled": true
   },
   "outputs": [
    {
     "data": {
      "text/plain": [
       "(array([605., 149.,  74.,  45.,  47.,  33.,  28.,  28.,  25.,\n",
       "         14.,  20.,  16.,  14.,  14.,  10.,   4.,  14.,   9.,\n",
       "         11.,  11.,  12.,   4.,   7.,  11.,  11.,   6.,   9.,\n",
       "          6.,   5.,   5.,   7.,   6.,  11.,   7.,   2.,   8.,\n",
       "          4.,   1.,   3.,   3.,   6.,   8.,   5.,   1.,   6.,\n",
       "          3.,   8.,   7.,   8.,   3.]),\n",
       " array([0.00010008, 0.00209104, 0.004082  , 0.00607296,\n",
       "        0.00806393, 0.01005489, 0.01204585, 0.01403681,\n",
       "        0.01602777, 0.01801873, 0.02000969, 0.02200065,\n",
       "        0.02399161, 0.02598257, 0.02797353, 0.02996449,\n",
       "        0.03195545, 0.03394641, 0.03593737, 0.03792833,\n",
       "        0.03991929, 0.04191025, 0.04390121, 0.04589217,\n",
       "        0.04788313, 0.04987409, 0.05186505, 0.05385601,\n",
       "        0.05584697, 0.05783793, 0.05982889, 0.06181985,\n",
       "        0.06381081, 0.06580177, 0.06779273, 0.06978369,\n",
       "        0.07177465, 0.07376561, 0.07575658, 0.07774754,\n",
       "        0.0797385 , 0.08172946, 0.08372042, 0.08571138,\n",
       "        0.08770234, 0.0896933 , 0.09168426, 0.09367522,\n",
       "        0.09566618, 0.09765714, 0.0996481 ]),\n",
       " <a list of 50 Patch objects>)"
      ]
     },
     "execution_count": 19,
     "metadata": {},
     "output_type": "execute_result"
    },
    {
     "data": {
      "image/png": "[encoded data removed]",
      "text/plain": [
       "<Figure size 432x288 with 1 Axes>"
      ]
     },
     "metadata": {
      "needs_background": "light"
     },
     "output_type": "display_data"
    }
   ],
   "source": [
    "plt.hist(result.samples[2000:], bins=50)"
   ]
  },
  {
   "cell_type": "code",
   "execution_count": 16,
   "metadata": {},
   "outputs": [
    {
     "data": {
      "text/plain": [
       "2354"
      ]
     },
     "execution_count": 16,
     "metadata": {},
     "output_type": "execute_result"
    }
   ],
   "source": [
    "len(result.samples)"
   ]
  },
  {
   "cell_type": "code",
   "execution_count": null,
   "metadata": {},
   "outputs": [],
   "source": []
  }
 ],
 "metadata": {
  "kernelspec": {
   "display_name": "Python 3",
   "language": "python",
   "name": "python3"
  },
  "language_info": {
   "codemirror_mode": {
    "name": "ipython",
    "version": 3
   },
   "file_extension": ".py",
   "mimetype": "text/x-python",
   "name": "python",
   "nbconvert_exporter": "python",
   "pygments_lexer": "ipython3",
   "version": "3.6.12"
  }
 },
 "nbformat": 4,
 "nbformat_minor": 4
}
