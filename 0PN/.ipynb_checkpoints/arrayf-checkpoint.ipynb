{
 "cells": [
  {
   "cell_type": "code",
   "execution_count": 1,
   "metadata": {},
   "outputs": [],
   "source": [
    "import numpy as np\n",
    "import h0CpxSpx"
   ]
  },
  {
   "cell_type": "code",
   "execution_count": null,
   "metadata": {},
   "outputs": [],
   "source": [
    "C = 299792458.0\n",
    "G = 6.67408*1e-11\n",
    "Mo = 1.989*1e30\n",
    "Mpc = 3.086*1e22\n",
    "\n",
    "D = 100*Mpc\n",
    "mass_1 = 10.0*Mo \n",
    "mass_2=10.0*Mo \n",
    "\n",
    "phase=0.0 \n",
    "geocent_time=0.0 \n",
    "ra=1.375 \n",
    "dec=-1.2108\n",
    "\n",
    "f0 = 20.0\n",
    "et0 = 0.1\n",
    "\n",
    "Fp = 1.0\n",
    "Fx = 0.0\n",
    "\n",
    "theta_jn=np.pi/3 \n",
    "psi=np.pi/3 \n",
    "iota = psi \n",
    "beta = theta_jn "
   ]
  },
  {
   "cell_type": "code",
   "execution_count": null,
   "metadata": {},
   "outputs": [],
   "source": []
  }
 ],
 "metadata": {
  "kernelspec": {
   "display_name": "Python 3",
   "language": "python",
   "name": "python3"
  },
  "language_info": {
   "codemirror_mode": {
    "name": "ipython",
    "version": 3
   },
   "file_extension": ".py",
   "mimetype": "text/x-python",
   "name": "python",
   "nbconvert_exporter": "python",
   "pygments_lexer": "ipython3",
   "version": "3.6.12"
  }
 },
 "nbformat": 4,
 "nbformat_minor": 4
}
