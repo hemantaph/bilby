{
 "cells": [
  {
   "cell_type": "code",
   "execution_count": 1,
   "metadata": {},
   "outputs": [],
   "source": [
    "from __future__ import division, print_function\n",
    "import matplotlib.pyplot as plt\n",
    "import bilby\n",
    "import numpy as np\n",
    "\n",
    "import hphc9\n",
    "import hphc10\n",
    "\n",
    "C = 299792458.\n",
    "G = 6.67408*1e-11\n",
    "Mo = 1.989*1e30\n",
    "Mpc = 3.086*1e22\n",
    "\n",
    "%matplotlib inline"
   ]
  },
  {
   "cell_type": "code",
   "execution_count": 2,
   "metadata": {},
   "outputs": [
    {
     "data": {
      "text/plain": [
       "109.90037592347498"
      ]
     },
     "execution_count": 2,
     "metadata": {},
     "output_type": "execute_result"
    }
   ],
   "source": [
    "(C**3)/( G*(20+20)*Mo*np.pi*6**(3/2) )"
   ]
  },
  {
   "cell_type": "code",
   "execution_count": 2,
   "metadata": {},
   "outputs": [],
   "source": [
    "sampling_frequency = 1024.0\n",
    "duration = 4.0"
   ]
  },
  {
   "cell_type": "code",
   "execution_count": null,
   "metadata": {},
   "outputs": [],
   "source": [
    "def eccentric_waveform(frequency_array_, chirp_mass, mass_ratio, eccentricity, luminosity_distance, theta_jn, psi, phase, geocent_time, ra, dec):\n",
    "    frequency_array = np.array(frequency_array_)\n",
    "    \n",
    "    mass_1 = (chirp_mass*(1+mass_ratio)**(1/5))/mass_ratio**(3/5)\n",
    "    mass_2 = chirp_mass*mass_ratio**(2/5)*(1+mass_ratio)**(1/5)\n",
    "    luminosity_distance = luminosity_distance*Mpc\n",
    "    total_mass = (mass_1+mass_2)*Mo\n",
    "    symmetric_mass_ratio = (mass_1*mass_2)/((mass_1+mass_2)**2)\n",
    "    maximum_f = (C**3)/( G*(mass_1+mass_2)*Mo*np.pi*6**(3/2) )\n",
    "    minimum_f = 20.0\n",
    "    mass_diff = (mass_1-mass_2)*Mo\n",
    "    \n",
    "    N = len(frequency_array)\n",
    "    h_plus = np.zeros(N)*1j\n",
    "    h_cross = np.zeros(N)*1j\n",
    "    \n",
    "    k = 0\n",
    "    for f in frequency_array:\n",
    "        if f>=minimum_f and f<=maximum_f: \n",
    "            arg_plus = {'iota_':theta_jn, 'beta_':psi, 'D_':luminosity_distance , \\\n",
    "                        'f_':foo[k], 'f0_':20.0, 'et0_':eccentricity, 'phic_':phase, \\\n",
    "                        'tc_':geocent_time, 'M_':total_mass, 'eta_':symmetric_mass_ratio, \\\n",
    "                        'ff_':maximum_f, 'delta_':mass_diff}\n",
    "\n",
    "            fplus = hphc10.Fn(**arg_plus)\n",
    "\n",
    "            h_plus[k] = fplus.htilde()[0]\n",
    "            h_cross[k] = fplus.htilde()[1]\n",
    "        k = k+1\n",
    "\n",
    "    return {'plus': h_plus, 'cross': h_cross}"
   ]
  },
  {
   "cell_type": "code",
   "execution_count": 4,
   "metadata": {},
   "outputs": [],
   "source": [
    "def eccentric_waveform(frequency_array_, chirp_mass, mass_ratio, eccentricity, luminosity_distance, theta_jn, psi, phase, geocent_time, ra, dec):\n",
    "    \n",
    "    mass_1 = (chirp_mass*(1+mass_ratio)**(1/5))/mass_ratio**(3/5)\n",
    "    mass_2 = chirp_mass*mass_ratio**(2/5)*(1+mass_ratio)**(1/5)\n",
    "    luminosity_distance = luminosity_distance*Mpc\n",
    "    total_mass = (mass_1+mass_2)*Mo\n",
    "    symmetric_mass_ratio = (mass_1*mass_2)/((mass_1+mass_2)**2)\n",
    "    maximum_f = (C**3)/( G*(mass_1+mass_2)*Mo*np.pi*6**(3/2) )\n",
    "    minimum_f = 20.0\n",
    "    mass_diff = (mass_1-mass_2)*Mo\n",
    "    \n",
    "    foo = np.array(frequency_array_)\n",
    "    N = len(foo)\n",
    "    h_plus = np.zeros(N)*1j\n",
    "    h_cross = np.zeros(N)*1j\n",
    "\n",
    "    mask_3 = np.logical_and(foo >= minimum_f, foo <= maximum_f)\n",
    "    index = np.array(np.where(mask_3)).flatten()\n",
    "    \n",
    "    for k in index:\n",
    "        arg_plus = {'iota_':theta_jn, 'beta_':psi, 'D_':luminosity_distance , \\\n",
    "                    'f_':foo[k], 'f0_':20.0, 'et0_':eccentricity, 'phic_':phase, \\\n",
    "                    'tc_':geocent_time, 'M_':total_mass, 'eta_':symmetric_mass_ratio, \\\n",
    "                    'ff_':maximum_f, 'delta_':mass_diff}\n",
    "\n",
    "        fplus = hphc10.Fn(**arg_plus)\n",
    "\n",
    "        h_plus[k] = fplus.htilde()[0]\n",
    "        h_cross[k] = fplus.htilde()[1]\n",
    "\n",
    "    #return {'plus': h_plus, 'cross': h_cross}\n",
    "    return {'plus': h_plus, 'cross': h_cross}"
   ]
  },
  {
   "cell_type": "code",
   "execution_count": 5,
   "metadata": {},
   "outputs": [
    {
     "data": {
      "text/plain": [
       "{'plus': array([-5.36029112e-23+3.18179166e-23j]),\n",
       " 'cross': array([-3.17752409e-23-5.34641083e-23j])}"
      ]
     },
     "execution_count": 5,
     "metadata": {},
     "output_type": "execute_result"
    }
   ],
   "source": [
    "eccentric_waveform([30],19.564163812778446,0.9148936170212766,0.1,200.0,0.4,0.1,1.2,1180002601.0,45,5.73)"
   ]
  },
  {
   "cell_type": "code",
   "execution_count": 95,
   "metadata": {},
   "outputs": [
    {
     "name": "stdout",
     "output_type": "stream",
     "text": [
      "Execution took 18.0161\n"
     ]
    }
   ],
   "source": [
    "import time \n",
    "\n",
    "fff = np.arange(0.0,512.0,0.25)\n",
    "t0 = time.time()\n",
    "zz = eccentric_waveform(fff,28.19,0.86,0.1,440.0,0.4,0.1,1.2,1180002601.0,45,5.73)\n",
    "\n",
    "t1 = time.time()\n",
    "print('Execution took {:.4f}'.format(t1 - t0))"
   ]
  },
  {
   "cell_type": "code",
   "execution_count": 110,
   "metadata": {},
   "outputs": [
    {
     "data": {
      "text/plain": [
       "(array([2, 3]),)"
      ]
     },
     "execution_count": 110,
     "metadata": {},
     "output_type": "execute_result"
    }
   ],
   "source": [
    "foo = np.array([1,2,3,4])\n",
    "mask_3 = foo>2\n",
    "np.where(mask_3)"
   ]
  },
  {
   "cell_type": "code",
   "execution_count": 4,
   "metadata": {},
   "outputs": [],
   "source": [
    "def eccentric_waveform(frequency_array_, chirp_mass, mass_ratio, eccentricity, luminosity_distance, theta_jn, psi, phase, geocent_time, ra, dec):\n",
    "    \n",
    "    mass_1 = (chirp_mass*(1+mass_ratio)**(1/5))/mass_ratio**(3/5)\n",
    "    mass_2 = chirp_mass*mass_ratio**(2/5)*(1+mass_ratio)**(1/5)\n",
    "    luminosity_distance = luminosity_distance*Mpc\n",
    "    total_mass = (mass_1+mass_2)*Mo\n",
    "    symmetric_mass_ratio = (mass_1*mass_2)/((mass_1+mass_2)**2)\n",
    "    maximum_f = (C**3)/( G*(mass_1+mass_2)*Mo*np.pi*6**(3/2) )\n",
    "    minimum_f = 20.0\n",
    "    mass_diff = (mass_1-mass_2)*Mo\n",
    "    \n",
    "    foo = np.array(frequency_array_)\n",
    "    N = len(foo)\n",
    "    h_plus = np.zeros(N)*1j\n",
    "    h_cross = np.zeros(N)*1j\n",
    "\n",
    "    mask_3 = foo >= 1.0\n",
    "    index = np.array(np.where(mask_3)).flatten()\n",
    "    \n",
    "    for k in index:\n",
    "        arg_plus = {'iota_':theta_jn, 'beta_':psi, 'D_':luminosity_distance , \\\n",
    "                    'f_':foo[k], 'f0_':20.0, 'et0_':eccentricity, 'phic_':phase, \\\n",
    "                    'tc_':geocent_time, 'M_':total_mass, 'eta_':symmetric_mass_ratio, \\\n",
    "                    'ff_':maximum_f, 'delta_':mass_diff}\n",
    "\n",
    "        fplus = hphc10.Fn(**arg_plus)\n",
    "\n",
    "        h_plus[k] = fplus.htilde()[0]\n",
    "        h_cross[k] = fplus.htilde()[1]\n",
    "\n",
    "    #return {'plus': h_plus, 'cross': h_cross}\n",
    "    return {'plus': h_plus, 'cross': h_cross}"
   ]
  },
  {
   "cell_type": "code",
   "execution_count": 10,
   "metadata": {},
   "outputs": [
    {
     "data": {
      "text/plain": [
       "{'plus': array([nan+nanj]), 'cross': array([nan+nanj])}"
      ]
     },
     "execution_count": 10,
     "metadata": {},
     "output_type": "execute_result"
    }
   ],
   "source": [
    "eccentric_waveform([1],16.749689566557148,0.6,0.1,200.0,0.4,0.1,1.2,1180002601.0,45,5.73)"
   ]
  },
  {
   "cell_type": "code",
   "execution_count": 34,
   "metadata": {},
   "outputs": [],
   "source": [
    "items = ((d,28.19,0.86,0.1,440.0,0.4,0.1,1.2,1180002601.0,45,5.73) for d in fff)\n",
    "argg = list(items)"
   ]
  },
  {
   "cell_type": "code",
   "execution_count": 50,
   "metadata": {},
   "outputs": [
    {
     "data": {
      "text/plain": [
       "array([0.+0.j, 0.+0.j, 0.+0.j, ..., 0.+0.j, 0.+0.j, 0.+0.j])"
      ]
     },
     "execution_count": 50,
     "metadata": {},
     "output_type": "execute_result"
    }
   ],
   "source": [
    "np.array(result)[:,1]"
   ]
  },
  {
   "cell_type": "code",
   "execution_count": 99,
   "metadata": {},
   "outputs": [
    {
     "name": "stdout",
     "output_type": "stream",
     "text": [
      "Execution took 19.4486\n"
     ]
    }
   ],
   "source": [
    "import time \n",
    "\n",
    "fff = np.arange(0.0,512.0,0.25)\n",
    "t0 = time.time()\n",
    "zz = eccentric_waveform(fff,28.19,0.86,0.1,440.0,0.4,0.1,1.2,1180002601.0,45,5.73)\n",
    "\n",
    "t1 = time.time()\n",
    "print('Execution took {:.4f}'.format(t1 - t0))"
   ]
  },
  {
   "cell_type": "code",
   "execution_count": 8,
   "metadata": {},
   "outputs": [
    {
     "data": {
      "text/plain": [
       "21.7637640824031"
      ]
     },
     "execution_count": 8,
     "metadata": {},
     "output_type": "execute_result"
    }
   ],
   "source": [
    "#chirp mass\n",
    "m1=25.0\n",
    "m2=25.0\n",
    "((m1*m2)**(3/5))/((m1+m2)**(1/5))"
   ]
  },
  {
   "cell_type": "code",
   "execution_count": 21,
   "metadata": {},
   "outputs": [
    {
     "data": {
      "text/plain": [
       "0.9148936170212766"
      ]
     },
     "execution_count": 21,
     "metadata": {},
     "output_type": "execute_result"
    }
   ],
   "source": [
    "#mass ratio\n",
    "m2/m1"
   ]
  },
  {
   "cell_type": "code",
   "execution_count": 6,
   "metadata": {},
   "outputs": [],
   "source": [
    "#injection_parameters = dict(mass_1=25.0, mass_2=10.0, eccentricity=0.1, luminosity_distance=200.0, theta_jn=0.4, psi=2.659, phase=1.3, geocent_time=1126259642.413, ra=1.375, dec=-1.2108)\n",
    "injection_parameters = dict(chirp_mass=19.564163812778446, mass_ratio=0.9148936170212766, eccentricity=0.1, luminosity_distance=200.0, theta_jn=0.4, psi=0.1, phase=1.2, geocent_time=1180002601.0, ra=45.0, dec=5.73)"
   ]
  },
  {
   "cell_type": "code",
   "execution_count": 7,
   "metadata": {},
   "outputs": [
    {
     "name": "stderr",
     "output_type": "stream",
     "text": [
      "15:18 bilby INFO    : Waveform generator initiated with\n",
      "  frequency_domain_source_model: __main__.eccentric_waveform\n",
      "  time_domain_source_model: None\n",
      "  parameter_conversion: bilby.gw.conversion.convert_to_lal_binary_black_hole_parameters\n"
     ]
    }
   ],
   "source": [
    "# Now we pass our source function to the WaveformGenerator\n",
    "waveform_generator = bilby.gw.waveform_generator.WaveformGenerator(\n",
    "    duration=duration, sampling_frequency=sampling_frequency,\n",
    "    frequency_domain_source_model=eccentric_waveform)"
   ]
  },
  {
   "cell_type": "code",
   "execution_count": 8,
   "metadata": {},
   "outputs": [
    {
     "name": "stderr",
     "output_type": "stream",
     "text": [
      "/home/hemantakumar.phurailatpam/anaconda3/envs/bilby/lib/python3.7/site-packages/bilby/gw/detector/psd.py:356: RuntimeWarning: invalid value encountered in multiply\n",
      "  frequency_domain_strain = self.__power_spectral_density_interpolated(frequencies) ** 0.5 * white_noise\n",
      "15:18 bilby INFO    : Injected signal in H1:\n",
      "15:18 bilby INFO    :   optimal SNR = 91.28\n",
      "15:18 bilby INFO    :   matched filter SNR = 91.59-0.75j\n",
      "15:18 bilby INFO    :   chirp_mass = 19.564163812778446\n",
      "15:18 bilby INFO    :   mass_ratio = 0.9148936170212766\n",
      "15:18 bilby INFO    :   eccentricity = 0.1\n",
      "15:18 bilby INFO    :   luminosity_distance = 200.0\n",
      "15:18 bilby INFO    :   theta_jn = 0.4\n",
      "15:18 bilby INFO    :   psi = 0.1\n",
      "15:18 bilby INFO    :   phase = 1.2\n",
      "15:18 bilby INFO    :   geocent_time = 1180002601.0\n",
      "15:18 bilby INFO    :   ra = 45.0\n",
      "15:18 bilby INFO    :   dec = 5.73\n",
      "15:18 bilby INFO    : Injected signal in L1:\n",
      "15:18 bilby INFO    :   optimal SNR = 53.68\n",
      "15:18 bilby INFO    :   matched filter SNR = 53.52+0.89j\n",
      "15:18 bilby INFO    :   chirp_mass = 19.564163812778446\n",
      "15:18 bilby INFO    :   mass_ratio = 0.9148936170212766\n",
      "15:18 bilby INFO    :   eccentricity = 0.1\n",
      "15:18 bilby INFO    :   luminosity_distance = 200.0\n",
      "15:18 bilby INFO    :   theta_jn = 0.4\n",
      "15:18 bilby INFO    :   psi = 0.1\n",
      "15:18 bilby INFO    :   phase = 1.2\n",
      "15:18 bilby INFO    :   geocent_time = 1180002601.0\n",
      "15:18 bilby INFO    :   ra = 45.0\n",
      "15:18 bilby INFO    :   dec = 5.73\n"
     ]
    }
   ],
   "source": [
    "ifos = bilby.gw.detector.InterferometerList(['H1', 'L1'])\n",
    "ifos.set_strain_data_from_power_spectral_densities(\n",
    "    sampling_frequency=sampling_frequency, duration=duration,\n",
    "    start_time=injection_parameters['geocent_time'] - 3)\n",
    "injection = ifos.inject_signal(\n",
    "    waveform_generator=waveform_generator,\n",
    "    parameters=injection_parameters)"
   ]
  },
  {
   "cell_type": "code",
   "execution_count": 10,
   "metadata": {},
   "outputs": [
    {
     "name": "stderr",
     "output_type": "stream",
     "text": [
      "15:19 bilby INFO    : Injected signal in H1:\n",
      "15:19 bilby INFO    :   optimal SNR = 85.84\n",
      "15:19 bilby INFO    :   matched filter SNR = 84.88+1.50j\n",
      "15:19 bilby INFO    :   chirp_mass = 19.564163812778446\n",
      "15:19 bilby INFO    :   mass_ratio = 0.9148936170212766\n",
      "15:19 bilby INFO    :   eccentricity = 0.1\n",
      "15:19 bilby INFO    :   luminosity_distance = 200.0\n",
      "15:19 bilby INFO    :   theta_jn = 0.4\n",
      "15:19 bilby INFO    :   psi = 0.1\n",
      "15:19 bilby INFO    :   phase = 1.2\n",
      "15:19 bilby INFO    :   geocent_time = 1180002601.0\n",
      "15:19 bilby INFO    :   ra = 45.0\n",
      "15:19 bilby INFO    :   dec = 5.73\n",
      "15:19 bilby INFO    : Injected signal in L1:\n",
      "15:19 bilby INFO    :   optimal SNR = 50.48\n",
      "15:19 bilby INFO    :   matched filter SNR = 52.07-1.85j\n",
      "15:19 bilby INFO    :   chirp_mass = 19.564163812778446\n",
      "15:19 bilby INFO    :   mass_ratio = 0.9148936170212766\n",
      "15:19 bilby INFO    :   eccentricity = 0.1\n",
      "15:19 bilby INFO    :   luminosity_distance = 200.0\n",
      "15:19 bilby INFO    :   theta_jn = 0.4\n",
      "15:19 bilby INFO    :   psi = 0.1\n",
      "15:19 bilby INFO    :   phase = 1.2\n",
      "15:19 bilby INFO    :   geocent_time = 1180002601.0\n",
      "15:19 bilby INFO    :   ra = 45.0\n",
      "15:19 bilby INFO    :   dec = 5.73\n"
     ]
    },
    {
     "data": {
      "text/plain": [
       "[{'plus': array([0.+0.j, 0.+0.j, 0.+0.j, ..., 0.+0.j, 0.+0.j, 0.+0.j]),\n",
       "  'cross': array([0.+0.j, 0.+0.j, 0.+0.j, ..., 0.+0.j, 0.+0.j, 0.+0.j])},\n",
       " {'plus': array([0.+0.j, 0.+0.j, 0.+0.j, ..., 0.+0.j, 0.+0.j, 0.+0.j]),\n",
       "  'cross': array([0.+0.j, 0.+0.j, 0.+0.j, ..., 0.+0.j, 0.+0.j, 0.+0.j])}]"
      ]
     },
     "execution_count": 10,
     "metadata": {},
     "output_type": "execute_result"
    }
   ],
   "source": [
    "# Set up interferometers.\n",
    "#maximum_f = (C**3)/( G*(mass_1+mass_2)*Mo*np.pi*6**(3/2) )\n",
    "minimum_frequency = 20.0+3.0\n",
    "MM1 = 25.0\n",
    "MM2 = 25.0\n",
    "maximum_frequency = (C**3)/( G*(MM1+MM2)*Mo*np.pi*6**(3/2) )-3.0\n",
    "\n",
    "ifos = bilby.gw.detector.InterferometerList(['H1', 'L1'])\n",
    "for ifo in ifos:\n",
    "    ifo.minimum_frequency = minimum_frequency\n",
    "    ifo.maximum_frequency = maximum_frequency\n",
    "ifos.set_strain_data_from_power_spectral_densities(\n",
    "    sampling_frequency=sampling_frequency, duration=duration,\n",
    "    start_time=injection_parameters['geocent_time'] - 3)\n",
    "ifos.inject_signal(waveform_generator=waveform_generator,\n",
    "                   parameters=injection_parameters)\n"
   ]
  },
  {
   "cell_type": "code",
   "execution_count": 11,
   "metadata": {},
   "outputs": [
    {
     "name": "stderr",
     "output_type": "stream",
     "text": [
      "15:19 bilby INFO    : Injected signal in H1:\n",
      "15:19 bilby INFO    :   optimal SNR = 85.84\n",
      "15:19 bilby INFO    :   matched filter SNR = 170.72+1.50j\n",
      "15:19 bilby INFO    :   chirp_mass = 19.564163812778446\n",
      "15:19 bilby INFO    :   mass_ratio = 0.9148936170212766\n",
      "15:19 bilby INFO    :   eccentricity = 0.1\n",
      "15:19 bilby INFO    :   luminosity_distance = 200.0\n",
      "15:19 bilby INFO    :   theta_jn = 0.4\n",
      "15:19 bilby INFO    :   psi = 0.1\n",
      "15:19 bilby INFO    :   phase = 1.2\n",
      "15:19 bilby INFO    :   geocent_time = 1180002601.0\n",
      "15:19 bilby INFO    :   ra = 45.0\n",
      "15:19 bilby INFO    :   dec = 5.73\n",
      "15:19 bilby INFO    : Injected signal in L1:\n",
      "15:19 bilby INFO    :   optimal SNR = 50.48\n",
      "15:19 bilby INFO    :   matched filter SNR = 102.55-1.85j\n",
      "15:19 bilby INFO    :   chirp_mass = 19.564163812778446\n",
      "15:19 bilby INFO    :   mass_ratio = 0.9148936170212766\n",
      "15:19 bilby INFO    :   eccentricity = 0.1\n",
      "15:19 bilby INFO    :   luminosity_distance = 200.0\n",
      "15:19 bilby INFO    :   theta_jn = 0.4\n",
      "15:19 bilby INFO    :   psi = 0.1\n",
      "15:19 bilby INFO    :   phase = 1.2\n",
      "15:19 bilby INFO    :   geocent_time = 1180002601.0\n",
      "15:19 bilby INFO    :   ra = 45.0\n",
      "15:19 bilby INFO    :   dec = 5.73\n"
     ]
    },
    {
     "data": {
      "image/png": "[encoded data removed]",
      "text/plain": [
       "<Figure size 432x288 with 1 Axes>"
      ]
     },
     "metadata": {
      "needs_background": "light"
     },
     "output_type": "display_data"
    }
   ],
   "source": [
    "injection = ifos.inject_signal(waveform_generator=waveform_generator,\n",
    "                   parameters=injection_parameters)\n",
    "\n",
    "H1 = ifos[0]\n",
    "H1_injection = injection[0]\n",
    "\n",
    "fig, ax = plt.subplots()\n",
    "idxs = H1.strain_data.frequency_mask  # This is a boolean mask of the frequencies which we'll use in the analysis\n",
    "ax.loglog(H1.strain_data.frequency_array[idxs],\n",
    "          np.abs(H1.strain_data.frequency_domain_strain[idxs]),\n",
    "          label=\"data\")\n",
    "ax.loglog(H1.frequency_array[idxs],\n",
    "          H1.amplitude_spectral_density_array[idxs],\n",
    "          label=\"ASD\")\n",
    "ax.loglog(H1.frequency_array[idxs],\n",
    "          np.abs(H1_injection[\"cross\"][idxs]),\n",
    "          label=\"Abs. val. of plus polarization\")\n",
    "\n",
    "ax.set_xlim(minimum_frequency,maximum_frequency)\n",
    "ax.set_ylim(1e-26,2.327737159425905e-21)\n",
    "\n",
    "\n",
    "ax.set_xlabel(\"Frequency [Hz]\")\n",
    "ax.set_ylabel(\"Strain [strain/$\\sqrt{Hz}$]\")\n",
    "ax.legend()\n",
    "plt.show()"
   ]
  },
  {
   "cell_type": "code",
   "execution_count": 12,
   "metadata": {},
   "outputs": [],
   "source": [
    "prior = bilby.core.prior.PriorDict()\n",
    "prior['chirp_mass'] = bilby.core.prior.Uniform(name='chirp_mass', minimum=17.411,maximum=21.764)\n",
    "prior['mass_ratio'] = bilby.core.prior.Uniform(name='mass_ratio', minimum=0.5, maximum=1)\n",
    "prior['eccentricity'] = bilby.core.prior.LogUniform(name='eccentricity', minimum=0.01, maximum=0.2)\n",
    "\n",
    "prior[\"luminosity_distance\"] = 200.0\n",
    "prior[\"theta_jn\"] = 0.4\n",
    "prior[\"psi\"] = 0.1\n",
    "prior[\"phase\"] = 1.2\n",
    "prior[\"geocent_time\"] = 1180002601.0\n",
    "prior[\"ra\"] = 45.0\n",
    "prior[\"dec\"] = 5.73"
   ]
  },
  {
   "cell_type": "code",
   "execution_count": 13,
   "metadata": {},
   "outputs": [],
   "source": [
    "likelihood = bilby.gw.likelihood.GravitationalWaveTransient(\n",
    "    interferometers=ifos, waveform_generator=waveform_generator, priors=prior,\n",
    "    time_marginalization=False, phase_marginalization=False, distance_marginalization=False)"
   ]
  },
  {
   "cell_type": "code",
   "execution_count": null,
   "metadata": {},
   "outputs": [
    {
     "name": "stderr",
     "output_type": "stream",
     "text": [
      "15:22 bilby INFO    : Running for label 'eccn', output will be saved to 'short'\n",
      "15:22 bilby INFO    : Using lal version 6.21.0\n",
      "15:22 bilby INFO    : Using lal git version Branch: None;Tag: lal-v6.21.0;Id: 37caf89936b637993c30b3076fe4b853311873ee;;Builder: Adam Mercer <adam.mercer@ligo.org>;Repository status: CLEAN: All modifications committed\n",
      "15:22 bilby INFO    : Using lalsimulation version 1.10.0\n",
      "15:22 bilby INFO    : Using lalsimulation git version Branch: None;Tag: lalsimulation-v1.10.0;Id: 5bfe091197594d55cf634f8a1c004eb9dc9b6459;;Builder: Adam Mercer <adam.mercer@ligo.org>;Repository status: CLEAN: All modifications committed\n",
      "15:22 bilby INFO    : Search parameters:\n",
      "15:22 bilby INFO    :   chirp_mass = Uniform(minimum=17.411, maximum=21.764, name='chirp_mass', latex_label='$\\\\mathcal{M}$', unit=None, boundary=None)\n",
      "15:22 bilby INFO    :   mass_ratio = Uniform(minimum=0.5, maximum=1, name='mass_ratio', latex_label='$q$', unit=None, boundary=None)\n",
      "15:22 bilby INFO    :   eccentricity = LogUniform(minimum=0.01, maximum=0.2, name='eccentricity', latex_label='eccentricity', unit=None, boundary=None)\n",
      "15:22 bilby INFO    :   luminosity_distance = 200.0\n",
      "15:22 bilby INFO    :   theta_jn = 0.4\n",
      "15:22 bilby INFO    :   psi = 0.1\n",
      "15:22 bilby INFO    :   phase = 1.2\n",
      "15:22 bilby INFO    :   geocent_time = 1180002601.0\n",
      "15:22 bilby INFO    :   ra = 45.0\n",
      "15:22 bilby INFO    :   dec = 5.73\n"
     ]
    }
   ],
   "source": [
    "result_short = bilby.run_sampler(\n",
    "    likelihood, prior, sampler='dynesty', outdir='short', label=\"eccn\",\n",
    "    nlive=500, dlogz=3, npool=16,  # <- Arguments are used to make things fast - not recommended for general use\n",
    "    clean=True\n",
    ")"
   ]
  },
  {
   "cell_type": "code",
   "execution_count": null,
   "metadata": {},
   "outputs": [],
   "source": [
    "result_short.plot_corner(parameters=[\"chirp_mass\", \"mass_ratio\", \"eccentricity\"], prior=True)"
   ]
  },
  {
   "cell_type": "code",
   "execution_count": null,
   "metadata": {},
   "outputs": [],
   "source": []
  },
  {
   "cell_type": "code",
   "execution_count": null,
   "metadata": {},
   "outputs": [],
   "source": []
  },
  {
   "cell_type": "code",
   "execution_count": null,
   "metadata": {},
   "outputs": [],
   "source": []
  },
  {
   "cell_type": "code",
   "execution_count": null,
   "metadata": {},
   "outputs": [],
   "source": []
  },
  {
   "cell_type": "code",
   "execution_count": null,
   "metadata": {},
   "outputs": [],
   "source": []
  },
  {
   "cell_type": "code",
   "execution_count": null,
   "metadata": {},
   "outputs": [],
   "source": []
  },
  {
   "cell_type": "code",
   "execution_count": null,
   "metadata": {},
   "outputs": [],
   "source": []
  },
  {
   "cell_type": "code",
   "execution_count": null,
   "metadata": {},
   "outputs": [],
   "source": []
  },
  {
   "cell_type": "code",
   "execution_count": null,
   "metadata": {},
   "outputs": [],
   "source": []
  },
  {
   "cell_type": "code",
   "execution_count": null,
   "metadata": {},
   "outputs": [],
   "source": []
  },
  {
   "cell_type": "code",
   "execution_count": null,
   "metadata": {},
   "outputs": [],
   "source": []
  },
  {
   "cell_type": "code",
   "execution_count": null,
   "metadata": {},
   "outputs": [],
   "source": []
  }
 ],
 "metadata": {
  "kernelspec": {
   "display_name": "Python 3",
   "language": "python",
   "name": "python3"
  },
  "language_info": {
   "codemirror_mode": {
    "name": "ipython",
    "version": 3
   },
   "file_extension": ".py",
   "mimetype": "text/x-python",
   "name": "python",
   "nbconvert_exporter": "python",
   "pygments_lexer": "ipython3",
   "version": "3.7.7"
  }
 },
 "nbformat": 4,
 "nbformat_minor": 4
}
