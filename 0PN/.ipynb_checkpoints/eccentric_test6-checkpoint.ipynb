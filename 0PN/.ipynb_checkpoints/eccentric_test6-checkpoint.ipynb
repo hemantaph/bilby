{
 "cells": [
  {
   "cell_type": "code",
   "execution_count": 1,
   "metadata": {},
   "outputs": [],
   "source": [
    "from __future__ import division, print_function\n",
    "import matplotlib.pyplot as plt\n",
    "import bilby\n",
    "import numpy as np\n",
    "\n",
    "import hphc8\n",
    "\n",
    "C = 299792458.\n",
    "G = 6.67408*1e-11\n",
    "Mo = 1.989*1e30\n",
    "Mpc = 3.086*1e22\n",
    "\n",
    "%matplotlib inline"
   ]
  },
  {
   "cell_type": "code",
   "execution_count": 2,
   "metadata": {},
   "outputs": [],
   "source": [
    "outdir = 'outdir_new_model'\n",
    "label = 'create_your_own_source_model'\n",
    "sampling_frequency = 4096\n",
    "duration = 1"
   ]
  },
  {
   "cell_type": "code",
   "execution_count": 3,
   "metadata": {},
   "outputs": [],
   "source": [
    "def eccentric_waveform(frequency_array_, A, f0, tau, phi0, geocent_time, ra, dec, psi):\n",
    "    \n",
    "    mass_1 = 35.0\n",
    "    mass_2 = 30.0\n",
    "    \n",
    "    minimum_f = 20.0\n",
    "    maximum_f = (C**3)/( G*(mass_1+mass_2)*Mo*np.pi*6**(3/2) )\n",
    "\n",
    "    freq_mask1 = (frequency_array_>=minimum_f) & (frequency_array_<=maximum_f) \n",
    "    freq_mask2 = (frequency_array_<minimum_f) \n",
    "    freq_mask3 = (frequency_array_>maximum_f)\n",
    "    \n",
    "    frequency_array = frequency_array_[freq_mask1]\n",
    "    before = frequency_array_[freq_mask2]*0.0\n",
    "    after = frequency_array_[freq_mask3]*0.0\n",
    "    \n",
    "    N = len(frequency_array)\n",
    "    h_plus = np.zeros(N)*1j\n",
    "    h_cross = np.zeros(N)*1j\n",
    "    \n",
    "    k = 0\n",
    "    for f in frequency_array:\n",
    "\n",
    "        arg_plus = {'iota_':tau, 'beta_':psi, 'D_':440.0 , 'm1_':mass_1, 'm2_':mass_2, 'f_':f, 'f0_':20.0, 'et0_':0.1, 'phic_':phi0, 'tc_':geocent_time}\n",
    "\n",
    "        fplus = hphc8.Fn(**arg_plus)\n",
    "\n",
    "        h_plus[k] = fplus.htilde()[0]\n",
    "        h_cross[k] = fplus.htilde()[1]\n",
    "\n",
    "        k=k+1\n",
    "    #return {'plus': h_plus, 'cross': h_cross}\n",
    "    return {'plus': abs(np.concatenate((before,h_plus,after))), 'cross': abs(np.concatenate((before,h_cross,after)))}"
   ]
  },
  {
   "cell_type": "code",
   "execution_count": 4,
   "metadata": {},
   "outputs": [
    {
     "data": {
      "text/plain": [
       "{'plus': array([0.+0.j, 0.+0.j]), 'cross': array([0.+0.j, 0.+0.j])}"
      ]
     },
     "execution_count": 4,
     "metadata": {},
     "output_type": "execute_result"
    }
   ],
   "source": [
    "eccentric_waveform(np.array([500,505]), A=1e-23, f0=100, tau=1, phi0=0, geocent_time=0,\n",
    "                            ra=0, dec=0, psi=0)"
   ]
  },
  {
   "cell_type": "code",
   "execution_count": 5,
   "metadata": {},
   "outputs": [],
   "source": [
    "# We now define some parameters that we will inject\n",
    "injection_parameters = dict(A=1e-23, f0=100, tau=1, phi0=0, geocent_time=0,\n",
    "                            ra=0, dec=0, psi=0)"
   ]
  },
  {
   "cell_type": "code",
   "execution_count": 6,
   "metadata": {},
   "outputs": [
    {
     "name": "stderr",
     "output_type": "stream",
     "text": [
      "13:53 bilby INFO    : Waveform generator initiated with\n",
      "  frequency_domain_source_model: __main__.eccentric_waveform\n",
      "  time_domain_source_model: None\n",
      "  parameter_conversion: bilby.gw.conversion.convert_to_lal_binary_black_hole_parameters\n"
     ]
    }
   ],
   "source": [
    "# Now we pass our source function to the WaveformGenerator\n",
    "waveform_generator = bilby.gw.waveform_generator.WaveformGenerator(\n",
    "    duration=duration, sampling_frequency=sampling_frequency,\n",
    "    frequency_domain_source_model=eccentric_waveform, parameters=injection_parameters)"
   ]
  },
  {
   "cell_type": "code",
   "execution_count": 7,
   "metadata": {},
   "outputs": [
    {
     "name": "stderr",
     "output_type": "stream",
     "text": [
      "/home/hemantakumar.phurailatpam/anaconda3/envs/bilby/lib/python3.7/site-packages/bilby/gw/detector/psd.py:356: RuntimeWarning: invalid value encountered in multiply\n",
      "  frequency_domain_strain = self.__power_spectral_density_interpolated(frequencies) ** 0.5 * white_noise\n",
      "13:53 bilby WARNING : Injecting signal outside segment, start_time=-3, merger time=0.\n",
      "13:53 bilby INFO    : Injected signal in H1:\n",
      "13:53 bilby INFO    :   optimal SNR = 15.59\n",
      "13:53 bilby INFO    :   matched filter SNR = 14.66+1.80j\n",
      "13:53 bilby INFO    :   A = 1e-23\n",
      "13:53 bilby INFO    :   f0 = 100\n",
      "13:53 bilby INFO    :   tau = 1\n",
      "13:53 bilby INFO    :   phi0 = 0\n",
      "13:53 bilby INFO    :   geocent_time = 0\n",
      "13:53 bilby INFO    :   ra = 0\n",
      "13:53 bilby INFO    :   dec = 0\n",
      "13:53 bilby INFO    :   psi = 0\n",
      "13:53 bilby WARNING : Injecting signal outside segment, start_time=-3, merger time=0.\n",
      "13:53 bilby INFO    : Injected signal in L1:\n",
      "13:53 bilby INFO    :   optimal SNR = 24.96\n",
      "13:53 bilby INFO    :   matched filter SNR = 26.28+0.64j\n",
      "13:53 bilby INFO    :   A = 1e-23\n",
      "13:53 bilby INFO    :   f0 = 100\n",
      "13:53 bilby INFO    :   tau = 1\n",
      "13:53 bilby INFO    :   phi0 = 0\n",
      "13:53 bilby INFO    :   geocent_time = 0\n",
      "13:53 bilby INFO    :   ra = 0\n",
      "13:53 bilby INFO    :   dec = 0\n",
      "13:53 bilby INFO    :   psi = 0\n"
     ]
    }
   ],
   "source": [
    "# Set up interferometers.\n",
    "ifos = bilby.gw.detector.InterferometerList(['H1', 'L1'])\n",
    "ifos.set_strain_data_from_power_spectral_densities(\n",
    "    sampling_frequency=sampling_frequency, duration=duration,\n",
    "    start_time=injection_parameters['geocent_time'] - 3)\n",
    "injection = ifos.inject_signal(waveform_generator=waveform_generator,\n",
    "                   parameters=injection_parameters)"
   ]
  },
  {
   "cell_type": "code",
   "execution_count": null,
   "metadata": {},
   "outputs": [],
   "source": []
  },
  {
   "cell_type": "code",
   "execution_count": null,
   "metadata": {},
   "outputs": [],
   "source": []
  },
  {
   "cell_type": "code",
   "execution_count": null,
   "metadata": {},
   "outputs": [],
   "source": []
  },
  {
   "cell_type": "code",
   "execution_count": null,
   "metadata": {},
   "outputs": [],
   "source": []
  },
  {
   "cell_type": "code",
   "execution_count": null,
   "metadata": {},
   "outputs": [],
   "source": []
  },
  {
   "cell_type": "code",
   "execution_count": null,
   "metadata": {},
   "outputs": [],
   "source": []
  },
  {
   "cell_type": "code",
   "execution_count": null,
   "metadata": {},
   "outputs": [],
   "source": []
  },
  {
   "cell_type": "code",
   "execution_count": null,
   "metadata": {},
   "outputs": [],
   "source": []
  },
  {
   "cell_type": "code",
   "execution_count": null,
   "metadata": {},
   "outputs": [],
   "source": []
  },
  {
   "cell_type": "code",
   "execution_count": null,
   "metadata": {},
   "outputs": [],
   "source": []
  },
  {
   "cell_type": "code",
   "execution_count": null,
   "metadata": {},
   "outputs": [],
   "source": []
  },
  {
   "cell_type": "code",
   "execution_count": null,
   "metadata": {},
   "outputs": [],
   "source": []
  },
  {
   "cell_type": "code",
   "execution_count": null,
   "metadata": {},
   "outputs": [],
   "source": []
  },
  {
   "cell_type": "code",
   "execution_count": null,
   "metadata": {},
   "outputs": [],
   "source": []
  },
  {
   "cell_type": "code",
   "execution_count": null,
   "metadata": {},
   "outputs": [],
   "source": []
  },
  {
   "cell_type": "code",
   "execution_count": null,
   "metadata": {},
   "outputs": [],
   "source": []
  },
  {
   "cell_type": "code",
   "execution_count": null,
   "metadata": {},
   "outputs": [],
   "source": []
  }
 ],
 "metadata": {
  "kernelspec": {
   "display_name": "Python 3",
   "language": "python",
   "name": "python3"
  },
  "language_info": {
   "codemirror_mode": {
    "name": "ipython",
    "version": 3
   },
   "file_extension": ".py",
   "mimetype": "text/x-python",
   "name": "python",
   "nbconvert_exporter": "python",
   "pygments_lexer": "ipython3",
   "version": "3.7.7"
  }
 },
 "nbformat": 4,
 "nbformat_minor": 4
}
