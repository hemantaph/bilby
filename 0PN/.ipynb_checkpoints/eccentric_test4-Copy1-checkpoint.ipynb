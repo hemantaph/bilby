{
 "cells": [
  {
   "cell_type": "code",
   "execution_count": 1,
   "metadata": {},
   "outputs": [],
   "source": [
    "#from __future__ import division, print_function\n",
    "import matplotlib.pyplot as plt\n",
    "import bilby\n",
    "import numpy as np\n",
    "\n",
    "import time\n",
    "\n",
    "from bilby.core.prior import Uniform\n",
    "#from bilby.gw.conversion import convert_to_lal_binary_black_hole_parameters, generate_all_bbh_parameters\n",
    "%matplotlib inline\n",
    "\n",
    "import hphc10\n",
    "\n",
    "C = 299792458.\n",
    "G = 6.67408*1e-11\n",
    "Mo = 1.989*1e30\n",
    "Mpc = 3.086*1e22"
   ]
  },
  {
   "cell_type": "code",
   "execution_count": 2,
   "metadata": {},
   "outputs": [],
   "source": [
    "np.random.seed(1234)"
   ]
  },
  {
   "cell_type": "code",
   "execution_count": 3,
   "metadata": {},
   "outputs": [],
   "source": [
    "outdir = 'outdir_new_model'\n",
    "label = 'create_your_own_source_model'\n",
    "sampling_frequency = 1024\n",
    "duration = 2"
   ]
  },
  {
   "cell_type": "code",
   "execution_count": 4,
   "metadata": {},
   "outputs": [],
   "source": [
    "def eccentric_waveform(frequency_array_, mass_1, mass_2, eccentricity, luminosity_distance, theta_jn, psi, phase, geocent_time, ra, dec):\n",
    "    \n",
    "    minimum_f = 20.0\n",
    "    maximum_f = (C**3)/( G*(mass_1+mass_2)*Mo*np.pi*6**(3/2) )\n",
    "    \n",
    "    frequency_array = frequency_array_[(frequency_array_>=minimum_f) & (frequency_array_<=maximum_f)]\n",
    "    before = frequency_array_[(frequency_array_<minimum_f)]*0.0\n",
    "    after = frequency_array_[(frequency_array_>maximum_f)]*0.0\n",
    "    \n",
    "    N = len(frequency_array)\n",
    "    h_plus = np.zeros(N)*1j\n",
    "    h_cross = np.zeros(N)*1j\n",
    "    \n",
    "    k = 0\n",
    "    for f in frequency_array:\n",
    "\n",
    "        arg_plus = {'iota_':theta_jn, 'beta_':psi, 'D_':luminosity_distance , 'm1_':mass_1, 'm2_':mass_2, 'f_':f, 'f0_':20.0, 'et0_':eccentricity, 'phic_':phase, 'tc_':geocent_time}\n",
    "\n",
    "        fplus = hphc10.Fn(**arg_plus)\n",
    "\n",
    "        h_plus[k] = fplus.htilde()[0]\n",
    "        h_cross[k] = fplus.htilde()[1]\n",
    "\n",
    "        k=k+1\n",
    "    #return {'plus': h_plus, 'cross': h_cross}\n",
    "    return {'plus': np.concatenate((before,h_plus,after)), 'cross': np.concatenate((before,h_cross,after))}"
   ]
  },
  {
   "cell_type": "code",
   "execution_count": 5,
   "metadata": {},
   "outputs": [],
   "source": [
    "#eccentric_waveform(np.arange(0,100,1),35.0,30.0,0.1,440.0,0.4,0.1,1.2,1180002601.0,45,5.73)"
   ]
  },
  {
   "cell_type": "code",
   "execution_count": 6,
   "metadata": {},
   "outputs": [
    {
     "name": "stdout",
     "output_type": "stream",
     "text": [
      "Execution took 1.6152\n"
     ]
    }
   ],
   "source": [
    "import time \n",
    "\n",
    "fff = np.arange(0,100,1)\n",
    "t0 = time.time()\n",
    "zz = eccentric_waveform(fff,35.0,30.0,0.1,440.0,0.4,0.1,1.2,1180002601.0,45,5.73)\n",
    "\n",
    "t1 = time.time()\n",
    "print('Execution took {:.4f}'.format(t1 - t0))"
   ]
  },
  {
   "cell_type": "code",
   "execution_count": 7,
   "metadata": {},
   "outputs": [
    {
     "data": {
      "text/plain": [
       "\"\\nimport pandas as pd \\n\\nyy = {'frequency': H1.strain_data.frequency_array[:]} \\nyy.update(zz)\\ndf = pd.DataFrame(yy, columns = ['frequency', 'plus', 'cross'])\\ndf.to_csv('raw_data.csv', index=False)\\n\""
      ]
     },
     "execution_count": 7,
     "metadata": {},
     "output_type": "execute_result"
    }
   ],
   "source": [
    "'''\n",
    "import pandas as pd \n",
    "\n",
    "yy = {'frequency': H1.strain_data.frequency_array[:]} \n",
    "yy.update(zz)\n",
    "df = pd.DataFrame(yy, columns = ['frequency', 'plus', 'cross'])\n",
    "df.to_csv('raw_data.csv', index=False)\n",
    "'''"
   ]
  },
  {
   "cell_type": "code",
   "execution_count": 8,
   "metadata": {},
   "outputs": [],
   "source": [
    "injection_parameters = dict(mass_1=36.0, mass_2=29.0, eccentricity=0.1, luminosity_distance=4000.0, theta_jn=0.4, psi=2.659, phase=1.3, geocent_time=1126259642.413, ra=1.375, dec=-1.2108)"
   ]
  },
  {
   "cell_type": "code",
   "execution_count": 9,
   "metadata": {},
   "outputs": [
    {
     "name": "stderr",
     "output_type": "stream",
     "text": [
      "13:27 bilby INFO    : Waveform generator initiated with\n",
      "  frequency_domain_source_model: __main__.eccentric_waveform\n",
      "  time_domain_source_model: None\n",
      "  parameter_conversion: bilby.gw.conversion.convert_to_lal_binary_black_hole_parameters\n"
     ]
    }
   ],
   "source": [
    "waveform_generator = bilby.gw.waveform_generator.WaveformGenerator(\n",
    "    duration=duration, sampling_frequency=sampling_frequency,\n",
    "    frequency_domain_source_model=eccentric_waveform)\n"
   ]
  },
  {
   "cell_type": "code",
   "execution_count": 12,
   "metadata": {},
   "outputs": [
    {
     "name": "stderr",
     "output_type": "stream",
     "text": [
      "13:29 bilby WARNING : Injecting signal outside segment, start_time=1126259639.413, merger time=1126259642.413.\n",
      "13:29 bilby INFO    : Injected signal in H1:\n",
      "13:29 bilby INFO    :   optimal SNR = 4.17\n",
      "13:29 bilby INFO    :   matched filter SNR = 3.15-0.43j\n",
      "13:29 bilby INFO    :   mass_1 = 36.0\n",
      "13:29 bilby INFO    :   mass_2 = 29.0\n",
      "13:29 bilby INFO    :   eccentricity = 0.1\n",
      "13:29 bilby INFO    :   luminosity_distance = 4000.0\n",
      "13:29 bilby INFO    :   theta_jn = 0.4\n",
      "13:29 bilby INFO    :   psi = 2.659\n",
      "13:29 bilby INFO    :   phase = 1.3\n",
      "13:29 bilby INFO    :   geocent_time = 1126259642.413\n",
      "13:29 bilby INFO    :   ra = 1.375\n",
      "13:29 bilby INFO    :   dec = -1.2108\n",
      "13:29 bilby WARNING : Injecting signal outside segment, start_time=1126259639.413, merger time=1126259642.413.\n",
      "13:29 bilby INFO    : Injected signal in L1:\n",
      "13:29 bilby INFO    :   optimal SNR = 3.38\n",
      "13:29 bilby INFO    :   matched filter SNR = 2.90-0.61j\n",
      "13:29 bilby INFO    :   mass_1 = 36.0\n",
      "13:29 bilby INFO    :   mass_2 = 29.0\n",
      "13:29 bilby INFO    :   eccentricity = 0.1\n",
      "13:29 bilby INFO    :   luminosity_distance = 4000.0\n",
      "13:29 bilby INFO    :   theta_jn = 0.4\n",
      "13:29 bilby INFO    :   psi = 2.659\n",
      "13:29 bilby INFO    :   phase = 1.3\n",
      "13:29 bilby INFO    :   geocent_time = 1126259642.413\n",
      "13:29 bilby INFO    :   ra = 1.375\n",
      "13:29 bilby INFO    :   dec = -1.2108\n"
     ]
    }
   ],
   "source": [
    "# Set up interferometers.\n",
    "minimum_frequency = 20.0+5.0\n",
    "MM1 = 35.0\n",
    "MM2 = 30.0\n",
    "maximum_frequency = (C**3)/( G*(MM1+MM2)*Mo*np.pi*6**(3/2) )-5.0\n",
    "\n",
    "ifos = bilby.gw.detector.InterferometerList(['H1', 'L1'])\n",
    "for ifo in ifos:\n",
    "    ifo.minimum_frequency = minimum_frequency\n",
    "    ifo.maximum_frequency = maximum_frequency\n",
    "ifos.set_strain_data_from_power_spectral_densities(\n",
    "    sampling_frequency=sampling_frequency, duration=duration,\n",
    "    start_time=injection_parameters['geocent_time'] - 3)\n",
    "injection = ifos.inject_signal(waveform_generator=waveform_generator,\n",
    "                   parameters=injection_parameters)"
   ]
  },
  {
   "cell_type": "code",
   "execution_count": 111,
   "metadata": {},
   "outputs": [],
   "source": [
    "#aa = np.array(H1_injection[\"cross\"])\n",
    "#print(aa[0:200])\n",
    "#aa = H1_injection[\"plus\"][idxs]\n",
    "#print(aa)"
   ]
  },
  {
   "cell_type": "code",
   "execution_count": 14,
   "metadata": {
    "scrolled": true
   },
   "outputs": [
    {
     "data": {
      "image/png": "[encoded data removed]",
      "text/plain": [
       "<Figure size 432x288 with 1 Axes>"
      ]
     },
     "metadata": {
      "needs_background": "light"
     },
     "output_type": "display_data"
    }
   ],
   "source": [
    "H1 = ifos[0]\n",
    "H1_injection = injection[0]\n",
    "\n",
    "fig, ax = plt.subplots()\n",
    "idxs = H1.strain_data.frequency_mask  # This is a boolean mask of the frequencies which we'll use in the analysis\n",
    "ax.loglog(H1.strain_data.frequency_array[idxs],\n",
    "          np.abs(H1.strain_data.frequency_domain_strain[idxs]),\n",
    "          label=\"data\")\n",
    "ax.loglog(H1.frequency_array[idxs],\n",
    "          H1.amplitude_spectral_density_array[idxs],\n",
    "          label=\"ASD\")\n",
    "ax.loglog(H1.frequency_array[idxs],\n",
    "          np.abs(H1_injection[\"cross\"][idxs]),\n",
    "          label=\"Abs. val. of plus polarization\")\n",
    "\n",
    "ax.set_xlim(minimum_frequency,maximum_frequency)\n",
    "ax.set_ylim(1e-26,2.327737159425905e-21)\n",
    "\n",
    "\n",
    "ax.set_xlabel(\"Frequency [Hz]\")\n",
    "ax.set_ylabel(\"Strain [strain/$\\sqrt{Hz}$]\")\n",
    "ax.legend()\n",
    "plt.show()"
   ]
  },
  {
   "cell_type": "code",
   "execution_count": 24,
   "metadata": {},
   "outputs": [
    {
     "data": {
      "text/plain": [
       "'\\npriors = bilby.core.prior.PriorDict()\\npriors[\"mass_1\"] = 10.0\\npriors[\"mass_2\"] = 10.0\\npriors[\"eccentricity\"] = Uniform(name=\\'eccentricity\\', minimum=0.01,maximum=0.4)\\npriors[\"luminosity_distance\"] = 100.\\npriors[\"theta_jn\"] = 1.0471975511965976\\npriors[\"psi\"] = 1.0471975511965976\\npriors[\"phase\"] = 0.0\\npriors[\"geocent_time\"] = 1180002601.0\\npriors[\"ra\"] = 1.375\\npriors[\"dec\"] = -1.2108\\n'"
      ]
     },
     "execution_count": 24,
     "metadata": {},
     "output_type": "execute_result"
    }
   ],
   "source": [
    "#injection_parameters = dict(mass_1=35.0, mass_2=30.0, eccentricity=0.1, luminosity_distance=440.0, \n",
    "#theta_jn=0.4, psi=0.1, phase=1.2, geocent_time=1180002601.0, ra=1.375, dec=-1.2108)\n",
    "prior = injection_parameters.copy()\n",
    "prior['eccentricity'] = bilby.core.prior.Uniform(0.01, 0.2, 'eccentricity')\n",
    "\n",
    "'''\n",
    "priors = bilby.core.prior.PriorDict()\n",
    "priors[\"mass_1\"] = 10.0\n",
    "priors[\"mass_2\"] = 10.0\n",
    "priors[\"eccentricity\"] = Uniform(name='eccentricity', minimum=0.01,maximum=0.4)\n",
    "priors[\"luminosity_distance\"] = 100.\n",
    "priors[\"theta_jn\"] = 1.0471975511965976\n",
    "priors[\"psi\"] = 1.0471975511965976\n",
    "priors[\"phase\"] = 0.0\n",
    "priors[\"geocent_time\"] = 1180002601.0\n",
    "priors[\"ra\"] = 1.375\n",
    "priors[\"dec\"] = -1.2108\n",
    "'''"
   ]
  },
  {
   "cell_type": "code",
   "execution_count": 25,
   "metadata": {},
   "outputs": [],
   "source": [
    "likelihood = bilby.gw.likelihood.GravitationalWaveTransient(\n",
    "    interferometers=ifos, waveform_generator=waveform_generator)"
   ]
  },
  {
   "cell_type": "code",
   "execution_count": 11,
   "metadata": {
    "scrolled": true
   },
   "outputs": [
    {
     "ename": "NameError",
     "evalue": "name 'likelihood' is not defined",
     "output_type": "error",
     "traceback": [
      "\u001b[0;31m---------------------------------------------------------------------------\u001b[0m",
      "\u001b[0;31mNameError\u001b[0m                                 Traceback (most recent call last)",
      "\u001b[0;32m<ipython-input-11-b53511bf3de9>\u001b[0m in \u001b[0;36m<module>\u001b[0;34m\u001b[0m\n\u001b[1;32m      1\u001b[0m result = bilby.core.sampler.run_sampler(\n\u001b[0;32m----> 2\u001b[0;31m     \u001b[0mlikelihood\u001b[0m\u001b[0;34m,\u001b[0m \u001b[0mprior\u001b[0m\u001b[0;34m,\u001b[0m \u001b[0msampler\u001b[0m\u001b[0;34m=\u001b[0m\u001b[0;34m'dynesty'\u001b[0m\u001b[0;34m,\u001b[0m \u001b[0moutdir\u001b[0m\u001b[0;34m=\u001b[0m\u001b[0moutdir\u001b[0m\u001b[0;34m,\u001b[0m \u001b[0mlabel\u001b[0m\u001b[0;34m=\u001b[0m\u001b[0mlabel\u001b[0m\u001b[0;34m,\u001b[0m\u001b[0;34m\u001b[0m\u001b[0;34m\u001b[0m\u001b[0m\n\u001b[0m\u001b[1;32m      3\u001b[0m     \u001b[0mresume\u001b[0m\u001b[0;34m=\u001b[0m\u001b[0;32mFalse\u001b[0m\u001b[0;34m,\u001b[0m \u001b[0msample\u001b[0m\u001b[0;34m=\u001b[0m\u001b[0;34m'unif'\u001b[0m\u001b[0;34m,\u001b[0m \u001b[0minjection_parameters\u001b[0m\u001b[0;34m=\u001b[0m\u001b[0minjection_parameters\u001b[0m\u001b[0;34m,\u001b[0m\u001b[0;34m\u001b[0m\u001b[0;34m\u001b[0m\u001b[0m\n\u001b[1;32m      4\u001b[0m     nlive=500, dlogz=4, clean=True, npool=8)\n",
      "\u001b[0;31mNameError\u001b[0m: name 'likelihood' is not defined"
     ]
    }
   ],
   "source": [
    "result = bilby.core.sampler.run_sampler(\n",
    "    likelihood, prior, sampler='dynesty', outdir=outdir, label=label,\n",
    "    resume=False, sample='unif', injection_parameters=injection_parameters, \n",
    "    nlive=500, dlogz=4, clean=True, npool=8)"
   ]
  },
  {
   "cell_type": "code",
   "execution_count": 17,
   "metadata": {
    "scrolled": true
   },
   "outputs": [
    {
     "data": {
      "text/plain": [
       "1779"
      ]
     },
     "execution_count": 17,
     "metadata": {},
     "output_type": "execute_result"
    }
   ],
   "source": [
    "len(result.samples)"
   ]
  },
  {
   "cell_type": "code",
   "execution_count": null,
   "metadata": {},
   "outputs": [],
   "source": []
  },
  {
   "cell_type": "code",
   "execution_count": null,
   "metadata": {},
   "outputs": [],
   "source": []
  },
  {
   "cell_type": "code",
   "execution_count": null,
   "metadata": {},
   "outputs": [],
   "source": []
  },
  {
   "cell_type": "code",
   "execution_count": null,
   "metadata": {},
   "outputs": [],
   "source": []
  },
  {
   "cell_type": "code",
   "execution_count": null,
   "metadata": {},
   "outputs": [],
   "source": []
  },
  {
   "cell_type": "code",
   "execution_count": null,
   "metadata": {},
   "outputs": [],
   "source": []
  },
  {
   "cell_type": "code",
   "execution_count": null,
   "metadata": {},
   "outputs": [],
   "source": []
  },
  {
   "cell_type": "code",
   "execution_count": null,
   "metadata": {},
   "outputs": [],
   "source": []
  },
  {
   "cell_type": "code",
   "execution_count": null,
   "metadata": {},
   "outputs": [],
   "source": []
  },
  {
   "cell_type": "code",
   "execution_count": null,
   "metadata": {},
   "outputs": [],
   "source": []
  },
  {
   "cell_type": "code",
   "execution_count": null,
   "metadata": {},
   "outputs": [],
   "source": []
  },
  {
   "cell_type": "code",
   "execution_count": null,
   "metadata": {},
   "outputs": [],
   "source": []
  },
  {
   "cell_type": "code",
   "execution_count": null,
   "metadata": {},
   "outputs": [],
   "source": []
  },
  {
   "cell_type": "code",
   "execution_count": null,
   "metadata": {},
   "outputs": [],
   "source": []
  },
  {
   "cell_type": "code",
   "execution_count": null,
   "metadata": {},
   "outputs": [],
   "source": []
  },
  {
   "cell_type": "code",
   "execution_count": null,
   "metadata": {},
   "outputs": [],
   "source": []
  },
  {
   "cell_type": "code",
   "execution_count": null,
   "metadata": {},
   "outputs": [],
   "source": []
  },
  {
   "cell_type": "code",
   "execution_count": null,
   "metadata": {},
   "outputs": [],
   "source": []
  },
  {
   "cell_type": "code",
   "execution_count": null,
   "metadata": {},
   "outputs": [],
   "source": []
  },
  {
   "cell_type": "code",
   "execution_count": null,
   "metadata": {},
   "outputs": [],
   "source": []
  },
  {
   "cell_type": "code",
   "execution_count": null,
   "metadata": {},
   "outputs": [],
   "source": []
  },
  {
   "cell_type": "code",
   "execution_count": null,
   "metadata": {},
   "outputs": [],
   "source": []
  },
  {
   "cell_type": "code",
   "execution_count": null,
   "metadata": {},
   "outputs": [],
   "source": []
  }
 ],
 "metadata": {
  "kernelspec": {
   "display_name": "Python 3",
   "language": "python",
   "name": "python3"
  },
  "language_info": {
   "codemirror_mode": {
    "name": "ipython",
    "version": 3
   },
   "file_extension": ".py",
   "mimetype": "text/x-python",
   "name": "python",
   "nbconvert_exporter": "python",
   "pygments_lexer": "ipython3",
   "version": "3.7.7"
  }
 },
 "nbformat": 4,
 "nbformat_minor": 4
}
