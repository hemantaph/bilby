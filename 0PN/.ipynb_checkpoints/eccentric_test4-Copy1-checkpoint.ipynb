{
 "cells": [
  {
   "cell_type": "code",
   "execution_count": 1,
   "metadata": {},
   "outputs": [],
   "source": [
    "#from __future__ import division, print_function\n",
    "import matplotlib.pyplot as plt\n",
    "import bilby\n",
    "import numpy as np\n",
    "\n",
    "import time\n",
    "\n",
    "from bilby.core.prior import Uniform\n",
    "#from bilby.gw.conversion import convert_to_lal_binary_black_hole_parameters, generate_all_bbh_parameters\n",
    "%matplotlib inline\n",
    "\n",
    "import hphc8\n",
    "\n",
    "C = 299792458.\n",
    "G = 6.67408*1e-11\n",
    "Mo = 1.989*1e30\n",
    "Mpc = 3.086*1e22"
   ]
  },
  {
   "cell_type": "code",
   "execution_count": 2,
   "metadata": {},
   "outputs": [],
   "source": [
    "np.random.seed(1234)"
   ]
  },
  {
   "cell_type": "code",
   "execution_count": 21,
   "metadata": {},
   "outputs": [],
   "source": [
    "outdir = 'outdir_new_model'\n",
    "label = 'create_your_own_source_model'\n",
    "sampling_frequency = 256.\n",
    "duration = 64."
   ]
  },
  {
   "cell_type": "code",
   "execution_count": 22,
   "metadata": {},
   "outputs": [],
   "source": [
    "def eccentric_waveform(frequency_array, mass_1, mass_2, eccentricity, luminosity_distance, theta_jn, psi, phase, geocent_time, ra, dec):\n",
    "    \n",
    "    N = len(frequency_array)\n",
    "    h_plus = np.zeros(N)*1j\n",
    "    h_cross = np.zeros(N)*1j\n",
    "    \n",
    "    fmin = 20.0\n",
    "    fmax = (C**3)/( G*(mass_1+mass_2)*Mo*np.pi*6**(3/2) )\n",
    "    \n",
    "    k = 0\n",
    "    for f in frequency_array:\n",
    "        if f>=fmin and f<=fmax:        \n",
    "            arg_plus = {'iota_':theta_jn, 'beta_':psi, 'D_':luminosity_distance , 'm1_':mass_1, 'm2_':mass_2, 'f_':f, 'f0_':20.0, 'Fp_':1.0, 'Fc_':0.0, 'et0_':eccentricity, 'phic_':phase, 'tc_':geocent_time}\n",
    "\n",
    "            fplus = hphc8.Fn(**arg_plus)\n",
    "            \n",
    "            h_plus[k] = fplus.htilde()[0]\n",
    "            h_cross[k] = fplus.htilde()[1]\n",
    "            \n",
    "        k=k+1\n",
    "\n",
    "    return {'plus': h_plus, 'cross': h_cross}"
   ]
  },
  {
   "cell_type": "code",
   "execution_count": 23,
   "metadata": {},
   "outputs": [],
   "source": [
    "# We now define some parameters that we will inject\n",
    "injection_parameters = dict(mass_1=35.0, mass_2=30.0, eccentricity=0.1, luminosity_distance=440.0, theta_jn=0.4, psi=0.1, phase=1.2, geocent_time=1180002601.0, ra=45, dec=5.73)"
   ]
  },
  {
   "cell_type": "code",
   "execution_count": 8,
   "metadata": {},
   "outputs": [
    {
     "name": "stderr",
     "output_type": "stream",
     "text": [
      "10:14 bilby INFO    : Waveform generator initiated with\n",
      "  frequency_domain_source_model: __main__.eccentric_waveform\n",
      "  time_domain_source_model: None\n",
      "  parameter_conversion: bilby.gw.conversion.convert_to_lal_binary_black_hole_parameters\n"
     ]
    }
   ],
   "source": [
    "# Now we pass our source function to the WaveformGenerator\n",
    "waveform_generator = bilby.gw.waveform_generator.WaveformGenerator(\n",
    "    duration=duration, sampling_frequency=sampling_frequency,\n",
    "    frequency_domain_source_model=eccentric_waveform, parameters=injection_parameters)"
   ]
  },
  {
   "cell_type": "code",
   "execution_count": 9,
   "metadata": {},
   "outputs": [
    {
     "name": "stderr",
     "output_type": "stream",
     "text": [
      "/home/hemantakumar.phurailatpam/anaconda3/envs/bilby/lib/python3.7/site-packages/bilby/gw/detector/psd.py:356: RuntimeWarning: invalid value encountered in multiply\n",
      "  frequency_domain_strain = self.__power_spectral_density_interpolated(frequencies) ** 0.5 * white_noise\n",
      "10:15 bilby INFO    : Injected signal in H1:\n",
      "10:15 bilby INFO    :   optimal SNR = 49.89\n",
      "10:15 bilby INFO    :   matched filter SNR = 51.07+0.51j\n",
      "10:15 bilby INFO    :   mass_1 = 35.0\n",
      "10:15 bilby INFO    :   mass_2 = 30.0\n",
      "10:15 bilby INFO    :   eccentricity = 0.1\n",
      "10:15 bilby INFO    :   luminosity_distance = 440.0\n",
      "10:15 bilby INFO    :   theta_jn = 0.4\n",
      "10:15 bilby INFO    :   psi = 0.1\n",
      "10:15 bilby INFO    :   phase = 1.2\n",
      "10:15 bilby INFO    :   geocent_time = 1180002601.0\n",
      "10:15 bilby INFO    :   ra = 1.375\n",
      "10:15 bilby INFO    :   dec = -1.2108\n",
      "10:15 bilby INFO    : Injected signal in L1:\n",
      "10:15 bilby INFO    :   optimal SNR = 39.44\n",
      "10:15 bilby INFO    :   matched filter SNR = 38.30+0.62j\n",
      "10:15 bilby INFO    :   mass_1 = 35.0\n",
      "10:15 bilby INFO    :   mass_2 = 30.0\n",
      "10:15 bilby INFO    :   eccentricity = 0.1\n",
      "10:15 bilby INFO    :   luminosity_distance = 440.0\n",
      "10:15 bilby INFO    :   theta_jn = 0.4\n",
      "10:15 bilby INFO    :   psi = 0.1\n",
      "10:15 bilby INFO    :   phase = 1.2\n",
      "10:15 bilby INFO    :   geocent_time = 1180002601.0\n",
      "10:15 bilby INFO    :   ra = 1.375\n",
      "10:15 bilby INFO    :   dec = -1.2108\n"
     ]
    },
    {
     "data": {
      "text/plain": [
       "[{'plus': array([0.+0.j, 0.+0.j, 0.+0.j, ..., 0.+0.j, 0.+0.j, 0.+0.j]),\n",
       "  'cross': array([0.+0.j, 0.+0.j, 0.+0.j, ..., 0.+0.j, 0.+0.j, 0.+0.j])},\n",
       " {'plus': array([0.+0.j, 0.+0.j, 0.+0.j, ..., 0.+0.j, 0.+0.j, 0.+0.j]),\n",
       "  'cross': array([0.+0.j, 0.+0.j, 0.+0.j, ..., 0.+0.j, 0.+0.j, 0.+0.j])}]"
      ]
     },
     "execution_count": 9,
     "metadata": {},
     "output_type": "execute_result"
    }
   ],
   "source": [
    "minimum_frequency = 20.0+5.0\n",
    "MM1 = 35.0\n",
    "MM2 = 30.0\n",
    "maximum_frequency = (C**3)/( G*(MM1+MM2)*Mo*np.pi*6**(3/2) )-5.0\n",
    "\n",
    "ifos = bilby.gw.detector.InterferometerList(['H1', 'L1'])\n",
    "for ifo in ifos:\n",
    "    ifo.minimum_frequency = minimum_frequency\n",
    "    ifo.maximum_frequency = maximum_frequency\n",
    "ifos.set_strain_data_from_power_spectral_densities(\n",
    "    sampling_frequency=sampling_frequency, duration=duration,\n",
    "    start_time=injection_parameters['geocent_time'] - 0.5)\n",
    "ifos.inject_signal(waveform_generator=waveform_generator,\n",
    "                   parameters=injection_parameters)\n"
   ]
  },
  {
   "cell_type": "code",
   "execution_count": 16,
   "metadata": {},
   "outputs": [
    {
     "data": {
      "text/plain": [
       "array([False, False, False, False, False, False, False, False,\n",
       "       False, False, False, False, False, False, False, False,\n",
       "       False, False, False, False, False, False, False, False,\n",
       "       False,  True,  True,  True,  True,  True,  True,  True,\n",
       "        True,  True,  True,  True,  True,  True,  True,  True,\n",
       "        True,  True,  True,  True,  True,  True,  True,  True,\n",
       "        True,  True])"
      ]
     },
     "execution_count": 16,
     "metadata": {},
     "output_type": "execute_result"
    }
   ],
   "source": [
    "H1.strain_data.frequency_mask[0:50]"
   ]
  },
  {
   "cell_type": "code",
   "execution_count": 20,
   "metadata": {},
   "outputs": [
    {
     "data": {
      "text/plain": [
       "array([25., 26., 27., 28., 29., 30., 31., 32., 33., 34., 35.,\n",
       "       36., 37., 38., 39., 40., 41., 42., 43., 44., 45., 46.,\n",
       "       47., 48., 49., 50., 51., 52., 53., 54., 55., 56., 57.,\n",
       "       58., 59., 60., 61., 62.])"
      ]
     },
     "execution_count": 20,
     "metadata": {},
     "output_type": "execute_result"
    }
   ],
   "source": [
    "H1.strain_data.frequency_array[idxs]"
   ]
  },
  {
   "cell_type": "code",
   "execution_count": 11,
   "metadata": {
    "scrolled": true
   },
   "outputs": [
    {
     "name": "stderr",
     "output_type": "stream",
     "text": [
      "10:17 bilby INFO    : Injected signal in H1:\n",
      "10:17 bilby INFO    :   optimal SNR = 49.89\n",
      "10:17 bilby INFO    :   matched filter SNR = 100.96+0.51j\n",
      "10:17 bilby INFO    :   mass_1 = 35.0\n",
      "10:17 bilby INFO    :   mass_2 = 30.0\n",
      "10:17 bilby INFO    :   eccentricity = 0.1\n",
      "10:17 bilby INFO    :   luminosity_distance = 440.0\n",
      "10:17 bilby INFO    :   theta_jn = 0.4\n",
      "10:17 bilby INFO    :   psi = 0.1\n",
      "10:17 bilby INFO    :   phase = 1.2\n",
      "10:17 bilby INFO    :   geocent_time = 1180002601.0\n",
      "10:17 bilby INFO    :   ra = 1.375\n",
      "10:17 bilby INFO    :   dec = -1.2108\n",
      "10:17 bilby INFO    : Injected signal in L1:\n",
      "10:17 bilby INFO    :   optimal SNR = 39.44\n",
      "10:17 bilby INFO    :   matched filter SNR = 77.75+0.62j\n",
      "10:17 bilby INFO    :   mass_1 = 35.0\n",
      "10:17 bilby INFO    :   mass_2 = 30.0\n",
      "10:17 bilby INFO    :   eccentricity = 0.1\n",
      "10:17 bilby INFO    :   luminosity_distance = 440.0\n",
      "10:17 bilby INFO    :   theta_jn = 0.4\n",
      "10:17 bilby INFO    :   psi = 0.1\n",
      "10:17 bilby INFO    :   phase = 1.2\n",
      "10:17 bilby INFO    :   geocent_time = 1180002601.0\n",
      "10:17 bilby INFO    :   ra = 1.375\n",
      "10:17 bilby INFO    :   dec = -1.2108\n"
     ]
    },
    {
     "data": {
      "image/png": "[encoded data removed]",
      "text/plain": [
       "<Figure size 432x288 with 1 Axes>"
      ]
     },
     "metadata": {
      "needs_background": "light"
     },
     "output_type": "display_data"
    }
   ],
   "source": [
    "injection = ifos.inject_signal(waveform_generator=waveform_generator,\n",
    "                   parameters=injection_parameters)\n",
    "\n",
    "H1 = ifos[0]\n",
    "H1_injection = injection[0]\n",
    "\n",
    "fig, ax = plt.subplots()\n",
    "idxs = H1.strain_data.frequency_mask  # This is a boolean mask of the frequencies which we'll use in the analysis\n",
    "ax.loglog(H1.strain_data.frequency_array[idxs],\n",
    "          np.abs(H1.strain_data.frequency_domain_strain[idxs]),\n",
    "          label=\"data\")\n",
    "ax.loglog(H1.frequency_array[idxs],\n",
    "          H1.amplitude_spectral_density_array[idxs],\n",
    "          label=\"ASD\")\n",
    "ax.loglog(H1.frequency_array[idxs],\n",
    "          np.abs(H1_injection[\"plus\"][idxs]),\n",
    "          label=\"Abs. val. of plus polarization\")\n",
    "\n",
    "ax.set_xlim(minimum_frequency,maximum_frequency)\n",
    "ax.set_ylim(1e-26,2.327737159425905e-21)\n",
    "\n",
    "\n",
    "ax.set_xlabel(\"Frequency [Hz]\")\n",
    "ax.set_ylabel(\"Strain [strain/$\\sqrt{Hz}$]\")\n",
    "ax.legend()\n",
    "plt.show()"
   ]
  },
  {
   "cell_type": "code",
   "execution_count": 12,
   "metadata": {},
   "outputs": [],
   "source": [
    "#injection_parameters = dict(mass_1=35.0, mass_2=30.0, eccentricity=0.1, luminosity_distance=440.0, \n",
    "#theta_jn=0.4, psi=0.1, phase=1.2, geocent_time=1180002601.0, ra=1.375, dec=-1.2108)\n",
    "priors = bilby.core.prior.PriorDict()\n",
    "priors[\"mass_1\"] = 35.\n",
    "priors[\"mass_2\"] = 30.\n",
    "priors[\"eccentricity\"] = Uniform(name='eccentricity', minimum=0.01,maximum=0.4)\n",
    "priors[\"luminosity_distance\"] = 440.\n",
    "priors[\"theta_jn\"] = 0.4\n",
    "priors[\"psi\"] = 0.1\n",
    "priors[\"phase\"] = 1.2\n",
    "priors[\"geocent_time\"] = 1180002601.0\n",
    "priors[\"ra\"] = 1.375\n",
    "priors[\"dec\"] = -1.2108\n"
   ]
  },
  {
   "cell_type": "code",
   "execution_count": 14,
   "metadata": {},
   "outputs": [],
   "source": [
    "likelihood = bilby.gw.likelihood.GravitationalWaveTransient(\n",
    "    interferometers=ifos, waveform_generator=waveform_generator, priors=priors,\n",
    "    time_marginalization=False, phase_marginalization=False, distance_marginalization=False)"
   ]
  },
  {
   "cell_type": "code",
   "execution_count": 15,
   "metadata": {
    "scrolled": true
   },
   "outputs": [
    {
     "name": "stderr",
     "output_type": "stream",
     "text": [
      "10:59 bilby INFO    : Running for label 'test', output will be saved to 'short'\n",
      "10:59 bilby INFO    : Using lal version 6.21.0\n",
      "10:59 bilby INFO    : Using lal git version Branch: None;Tag: lal-v6.21.0;Id: 37caf89936b637993c30b3076fe4b853311873ee;;Builder: Adam Mercer <adam.mercer@ligo.org>;Repository status: CLEAN: All modifications committed\n",
      "10:59 bilby INFO    : Using lalsimulation version 1.10.0\n",
      "10:59 bilby INFO    : Using lalsimulation git version Branch: None;Tag: lalsimulation-v1.10.0;Id: 5bfe091197594d55cf634f8a1c004eb9dc9b6459;;Builder: Adam Mercer <adam.mercer@ligo.org>;Repository status: CLEAN: All modifications committed\n",
      "10:59 bilby INFO    : Search parameters:\n",
      "10:59 bilby INFO    :   eccentricity = Uniform(minimum=0.01, maximum=0.4, name='eccentricity', latex_label='eccentricity', unit=None, boundary=None)\n",
      "10:59 bilby INFO    :   mass_1 = 35.0\n",
      "10:59 bilby INFO    :   mass_2 = 30.0\n",
      "10:59 bilby INFO    :   luminosity_distance = 440.0\n",
      "10:59 bilby INFO    :   theta_jn = 0.4\n",
      "10:59 bilby INFO    :   psi = 0.1\n",
      "10:59 bilby INFO    :   phase = 1.2\n",
      "10:59 bilby INFO    :   geocent_time = 1180002601.0\n",
      "10:59 bilby INFO    :   ra = 1.375\n",
      "10:59 bilby INFO    :   dec = -1.2108\n",
      "11:15 bilby INFO    : Single likelihood evaluation took 9.154e+00 s\n"
     ]
    },
    {
     "name": "stdout",
     "output_type": "stream",
     "text": [
      "\r",
      "0it [00:00, ?it/s]"
     ]
    },
    {
     "name": "stderr",
     "output_type": "stream",
     "text": [
      "11:15 bilby INFO    : Using sampler Dynesty with kwargs {'bound': 'multi', 'sample': 'rwalk', 'verbose': True, 'periodic': None, 'reflective': None, 'check_point_delta_t': 600, 'nlive': 500, 'first_update': None, 'walks': 100, 'npdim': None, 'rstate': None, 'queue_size': 8, 'pool': None, 'use_pool': None, 'live_points': None, 'logl_args': None, 'logl_kwargs': None, 'ptform_args': None, 'ptform_kwargs': None, 'enlarge': 1.5, 'bootstrap': None, 'vol_dec': 0.5, 'vol_check': 8.0, 'facc': 0.2, 'slices': 5, 'update_interval': 300, 'print_func': <bound method Dynesty._print_func of <bilby.core.sampler.dynesty.Dynesty object at 0x7faedf869650>>, 'dlogz': 3, 'maxiter': None, 'maxcall': None, 'logl_max': inf, 'add_live': True, 'print_progress': True, 'save_bounds': False, 'n_effective': None, 'maxmcmc': 5000, 'nact': 5}\n",
      "11:15 bilby INFO    : Checkpoint every check_point_delta_t = 600s\n",
      "11:15 bilby INFO    : Using dynesty version 1.0.1\n",
      "11:15 bilby INFO    : Generating initial points from the prior\n",
      "12:30 bilby INFO    : Using the bilby-implemented rwalk sample method with ACT estimated walks\n",
      "12:30 bilby INFO    : Setting up multiproccesing pool with 8 processes.\n"
     ]
    },
    {
     "name": "stdout",
     "output_type": "stream",
     "text": [
      "536it [1:46:40,  6.63s/it, bound:0 nc: 11 ncall:1.5e+03 eff:35.7% logz-ratio=2211.37+/-0.14 dlogz:160.712>3] "
     ]
    },
    {
     "name": "stderr",
     "output_type": "stream",
     "text": [
      "13:01 bilby INFO    : Written checkpoint file short/test_resume.pickle\n",
      "/home/hemantakumar.phurailatpam/anaconda3/envs/bilby/lib/python3.7/site-packages/dynesty/plotting.py:179: RuntimeWarning: overflow encountered in exp\n",
      "  data = [nlive, np.exp(logl), np.exp(logwt), np.exp(logz)]\n",
      "/home/hemantakumar.phurailatpam/anaconda3/envs/bilby/lib/python3.7/site-packages/dynesty/plotting.py:203: RuntimeWarning: overflow encountered in exp\n",
      "  zspan = (0., 1.05 * np.exp(logz[-1] + 3. * logzerr[-1]))\n",
      "13:01 bilby WARNING : Axis limits cannot be NaN or Inf\n",
      "13:01 bilby WARNING : Failed to create dynesty run plot at checkpoint\n"
     ]
    },
    {
     "name": "stdout",
     "output_type": "stream",
     "text": [
      "784it [2:13:55, 13.76s/it, bound:0 nc: 19 ncall:2.5e+03 eff:31.1% logz-ratio=2290.97+/-0.15 dlogz:80.729>3] "
     ]
    },
    {
     "name": "stderr",
     "output_type": "stream",
     "text": [
      "13:29 bilby INFO    : Written checkpoint file short/test_resume.pickle\n",
      "/home/hemantakumar.phurailatpam/anaconda3/envs/bilby/lib/python3.7/site-packages/dynesty/plotting.py:179: RuntimeWarning: overflow encountered in exp\n",
      "  data = [nlive, np.exp(logl), np.exp(logwt), np.exp(logz)]\n",
      "/home/hemantakumar.phurailatpam/anaconda3/envs/bilby/lib/python3.7/site-packages/dynesty/plotting.py:203: RuntimeWarning: overflow encountered in exp\n",
      "  zspan = (0., 1.05 * np.exp(logz[-1] + 3. * logzerr[-1]))\n",
      "13:29 bilby WARNING : Axis limits cannot be NaN or Inf\n",
      "13:29 bilby WARNING : Failed to create dynesty run plot at checkpoint\n"
     ]
    },
    {
     "name": "stdout",
     "output_type": "stream",
     "text": [
      "959it [2:42:16, 11.78s/it, bound:0 nc: 11 ncall:3.5e+03 eff:27.2% logz-ratio=2324.08+/-0.15 dlogz:47.118>3]"
     ]
    },
    {
     "name": "stderr",
     "output_type": "stream",
     "text": [
      "13:57 bilby INFO    : Written checkpoint file short/test_resume.pickle\n",
      "/home/hemantakumar.phurailatpam/anaconda3/envs/bilby/lib/python3.7/site-packages/dynesty/plotting.py:179: RuntimeWarning: overflow encountered in exp\n",
      "  data = [nlive, np.exp(logl), np.exp(logwt), np.exp(logz)]\n",
      "/home/hemantakumar.phurailatpam/anaconda3/envs/bilby/lib/python3.7/site-packages/dynesty/plotting.py:203: RuntimeWarning: overflow encountered in exp\n",
      "  zspan = (0., 1.05 * np.exp(logz[-1] + 3. * logzerr[-1]))\n",
      "13:57 bilby WARNING : Axis limits cannot be NaN or Inf\n",
      "13:57 bilby WARNING : Failed to create dynesty run plot at checkpoint\n"
     ]
    },
    {
     "name": "stdout",
     "output_type": "stream",
     "text": [
      "1082it [3:13:36, 18.47s/it, bound:0 nc: 15 ncall:4.5e+03 eff:23.8% logz-ratio=2340.49+/-0.15 dlogz:30.405>3]"
     ]
    },
    {
     "name": "stderr",
     "output_type": "stream",
     "text": [
      "14:28 bilby INFO    : Written checkpoint file short/test_resume.pickle\n",
      "/home/hemantakumar.phurailatpam/anaconda3/envs/bilby/lib/python3.7/site-packages/dynesty/plotting.py:179: RuntimeWarning: overflow encountered in exp\n",
      "  data = [nlive, np.exp(logl), np.exp(logwt), np.exp(logz)]\n",
      "/home/hemantakumar.phurailatpam/anaconda3/envs/bilby/lib/python3.7/site-packages/dynesty/plotting.py:203: RuntimeWarning: overflow encountered in exp\n",
      "  zspan = (0., 1.05 * np.exp(logz[-1] + 3. * logzerr[-1]))\n",
      "14:28 bilby WARNING : Axis limits cannot be NaN or Inf\n",
      "14:28 bilby WARNING : Failed to create dynesty run plot at checkpoint\n"
     ]
    },
    {
     "name": "stdout",
     "output_type": "stream",
     "text": [
      "1174it [3:38:40, 29.29s/it, bound:0 nc: 22 ncall:5.5e+03 eff:21.2% logz-ratio=2348.61+/-0.14 dlogz:22.076>3]"
     ]
    },
    {
     "name": "stderr",
     "output_type": "stream",
     "text": [
      "14:53 bilby INFO    : Written checkpoint file short/test_resume.pickle\n",
      "/home/hemantakumar.phurailatpam/anaconda3/envs/bilby/lib/python3.7/site-packages/dynesty/plotting.py:179: RuntimeWarning: overflow encountered in exp\n",
      "  data = [nlive, np.exp(logl), np.exp(logwt), np.exp(logz)]\n",
      "/home/hemantakumar.phurailatpam/anaconda3/envs/bilby/lib/python3.7/site-packages/dynesty/plotting.py:203: RuntimeWarning: overflow encountered in exp\n",
      "  zspan = (0., 1.05 * np.exp(logz[-1] + 3. * logzerr[-1]))\n",
      "14:53 bilby WARNING : Axis limits cannot be NaN or Inf\n",
      "14:53 bilby WARNING : Failed to create dynesty run plot at checkpoint\n"
     ]
    },
    {
     "name": "stdout",
     "output_type": "stream",
     "text": [
      "1246it [4:02:20, 55.10s/it, bound:0 nc:114 ncall:6.6e+03 eff:18.9% logz-ratio=2354.06+/-0.14 dlogz:16.441>3]"
     ]
    },
    {
     "name": "stderr",
     "output_type": "stream",
     "text": [
      "15:17 bilby INFO    : Written checkpoint file short/test_resume.pickle\n",
      "15:17 bilby INFO    : Writing 128 current samples to short/test_samples.dat\n",
      "/home/hemantakumar.phurailatpam/anaconda3/envs/bilby/lib/python3.7/site-packages/dynesty/plotting.py:179: RuntimeWarning: overflow encountered in exp\n",
      "  data = [nlive, np.exp(logl), np.exp(logwt), np.exp(logz)]\n",
      "/home/hemantakumar.phurailatpam/anaconda3/envs/bilby/lib/python3.7/site-packages/dynesty/plotting.py:203: RuntimeWarning: overflow encountered in exp\n",
      "  zspan = (0., 1.05 * np.exp(logz[-1] + 3. * logzerr[-1]))\n",
      "15:17 bilby WARNING : Axis limits cannot be NaN or Inf\n",
      "15:17 bilby WARNING : Failed to create dynesty run plot at checkpoint\n"
     ]
    },
    {
     "name": "stdout",
     "output_type": "stream",
     "text": [
      "1316it [4:25:31, 21.20s/it, bound:0 nc: 27 ncall:7.6e+03 eff:17.3% logz-ratio=2357.43+/-0.14 dlogz:12.920>3]"
     ]
    },
    {
     "name": "stderr",
     "output_type": "stream",
     "text": [
      "15:40 bilby INFO    : Written checkpoint file short/test_resume.pickle\n",
      "15:40 bilby INFO    : Writing 139 current samples to short/test_samples.dat\n",
      "/home/hemantakumar.phurailatpam/anaconda3/envs/bilby/lib/python3.7/site-packages/dynesty/plotting.py:179: RuntimeWarning: overflow encountered in exp\n",
      "  data = [nlive, np.exp(logl), np.exp(logwt), np.exp(logz)]\n",
      "/home/hemantakumar.phurailatpam/anaconda3/envs/bilby/lib/python3.7/site-packages/dynesty/plotting.py:203: RuntimeWarning: overflow encountered in exp\n",
      "  zspan = (0., 1.05 * np.exp(logz[-1] + 3. * logzerr[-1]))\n",
      "15:40 bilby WARNING : Axis limits cannot be NaN or Inf\n",
      "15:40 bilby WARNING : Failed to create dynesty run plot at checkpoint\n"
     ]
    },
    {
     "name": "stdout",
     "output_type": "stream",
     "text": [
      "1375it [4:49:10, 26.44s/it, bound:0 nc: 22 ncall:8.6e+03 eff:16.0% logz-ratio=2359.31+/-0.13 dlogz:10.911>3]"
     ]
    },
    {
     "name": "stderr",
     "output_type": "stream",
     "text": [
      "16:04 bilby INFO    : Written checkpoint file short/test_resume.pickle\n",
      "16:04 bilby INFO    : Writing 156 current samples to short/test_samples.dat\n",
      "/home/hemantakumar.phurailatpam/anaconda3/envs/bilby/lib/python3.7/site-packages/dynesty/plotting.py:179: RuntimeWarning: overflow encountered in exp\n",
      "  data = [nlive, np.exp(logl), np.exp(logwt), np.exp(logz)]\n",
      "/home/hemantakumar.phurailatpam/anaconda3/envs/bilby/lib/python3.7/site-packages/dynesty/plotting.py:203: RuntimeWarning: overflow encountered in exp\n",
      "  zspan = (0., 1.05 * np.exp(logz[-1] + 3. * logzerr[-1]))\n",
      "16:04 bilby WARNING : Axis limits cannot be NaN or Inf\n",
      "16:04 bilby WARNING : Failed to create dynesty run plot at checkpoint\n"
     ]
    },
    {
     "name": "stdout",
     "output_type": "stream",
     "text": [
      "1425it [5:12:24, 40.51s/it, bound:0 nc: 65 ncall:9.6e+03 eff:14.8% logz-ratio=2360.86+/-0.13 dlogz:9.261>3] "
     ]
    },
    {
     "name": "stderr",
     "output_type": "stream",
     "text": [
      "16:27 bilby INFO    : Written checkpoint file short/test_resume.pickle\n",
      "16:27 bilby INFO    : Writing 185 current samples to short/test_samples.dat\n",
      "/home/hemantakumar.phurailatpam/anaconda3/envs/bilby/lib/python3.7/site-packages/dynesty/plotting.py:179: RuntimeWarning: overflow encountered in exp\n",
      "  data = [nlive, np.exp(logl), np.exp(logwt), np.exp(logz)]\n",
      "/home/hemantakumar.phurailatpam/anaconda3/envs/bilby/lib/python3.7/site-packages/dynesty/plotting.py:203: RuntimeWarning: overflow encountered in exp\n",
      "  zspan = (0., 1.05 * np.exp(logz[-1] + 3. * logzerr[-1]))\n",
      "16:27 bilby WARNING : Axis limits cannot be NaN or Inf\n",
      "16:27 bilby WARNING : Failed to create dynesty run plot at checkpoint\n"
     ]
    },
    {
     "name": "stdout",
     "output_type": "stream",
     "text": [
      "1474it [5:36:35, 37.73s/it, bound:0 nc: 47 ncall:1.1e+04 eff:13.9% logz-ratio=2362.23+/-0.13 dlogz:7.786>3]"
     ]
    },
    {
     "name": "stderr",
     "output_type": "stream",
     "text": [
      "16:51 bilby INFO    : Written checkpoint file short/test_resume.pickle\n",
      "16:51 bilby INFO    : Writing 194 current samples to short/test_samples.dat\n",
      "/home/hemantakumar.phurailatpam/anaconda3/envs/bilby/lib/python3.7/site-packages/dynesty/plotting.py:179: RuntimeWarning: overflow encountered in exp\n",
      "  data = [nlive, np.exp(logl), np.exp(logwt), np.exp(logz)]\n",
      "/home/hemantakumar.phurailatpam/anaconda3/envs/bilby/lib/python3.7/site-packages/dynesty/plotting.py:203: RuntimeWarning: overflow encountered in exp\n",
      "  zspan = (0., 1.05 * np.exp(logz[-1] + 3. * logzerr[-1]))\n",
      "16:51 bilby WARNING : Axis limits cannot be NaN or Inf\n",
      "16:51 bilby WARNING : Failed to create dynesty run plot at checkpoint\n"
     ]
    },
    {
     "name": "stdout",
     "output_type": "stream",
     "text": [
      "1523it [6:02:45, 58.61s/it, bound:0 nc: 15 ncall:1.2e+04 eff:13.1% logz-ratio=2363.27+/-0.13 dlogz:6.643>3]"
     ]
    },
    {
     "name": "stderr",
     "output_type": "stream",
     "text": [
      "17:17 bilby INFO    : Written checkpoint file short/test_resume.pickle\n",
      "17:17 bilby INFO    : Writing 220 current samples to short/test_samples.dat\n",
      "/home/hemantakumar.phurailatpam/anaconda3/envs/bilby/lib/python3.7/site-packages/dynesty/plotting.py:179: RuntimeWarning: overflow encountered in exp\n",
      "  data = [nlive, np.exp(logl), np.exp(logwt), np.exp(logz)]\n",
      "/home/hemantakumar.phurailatpam/anaconda3/envs/bilby/lib/python3.7/site-packages/dynesty/plotting.py:203: RuntimeWarning: overflow encountered in exp\n",
      "  zspan = (0., 1.05 * np.exp(logz[-1] + 3. * logzerr[-1]))\n",
      "17:17 bilby WARNING : Axis limits cannot be NaN or Inf\n",
      "17:17 bilby WARNING : Failed to create dynesty run plot at checkpoint\n"
     ]
    },
    {
     "name": "stdout",
     "output_type": "stream",
     "text": [
      "1561it [6:30:46, 77.55s/it, bound:0 nc:123 ncall:1.3e+04 eff:12.2% logz-ratio=2363.94+/-0.13 dlogz:5.900>3]"
     ]
    },
    {
     "name": "stderr",
     "output_type": "stream",
     "text": [
      "17:45 bilby INFO    : Written checkpoint file short/test_resume.pickle\n",
      "17:45 bilby INFO    : Writing 233 current samples to short/test_samples.dat\n",
      "/home/hemantakumar.phurailatpam/anaconda3/envs/bilby/lib/python3.7/site-packages/dynesty/plotting.py:179: RuntimeWarning: overflow encountered in exp\n",
      "  data = [nlive, np.exp(logl), np.exp(logwt), np.exp(logz)]\n",
      "/home/hemantakumar.phurailatpam/anaconda3/envs/bilby/lib/python3.7/site-packages/dynesty/plotting.py:203: RuntimeWarning: overflow encountered in exp\n",
      "  zspan = (0., 1.05 * np.exp(logz[-1] + 3. * logzerr[-1]))\n",
      "17:45 bilby WARNING : Axis limits cannot be NaN or Inf\n",
      "17:45 bilby WARNING : Failed to create dynesty run plot at checkpoint\n"
     ]
    },
    {
     "name": "stdout",
     "output_type": "stream",
     "text": [
      "1600it [6:58:33, 46.91s/it, bound:0 nc: 32 ncall:1.4e+04 eff:11.6% logz-ratio=2364.56+/-0.13 dlogz:5.198>3]"
     ]
    },
    {
     "name": "stderr",
     "output_type": "stream",
     "text": [
      "18:13 bilby INFO    : Written checkpoint file short/test_resume.pickle\n",
      "18:13 bilby INFO    : Writing 266 current samples to short/test_samples.dat\n",
      "/home/hemantakumar.phurailatpam/anaconda3/envs/bilby/lib/python3.7/site-packages/dynesty/plotting.py:179: RuntimeWarning: overflow encountered in exp\n",
      "  data = [nlive, np.exp(logl), np.exp(logwt), np.exp(logz)]\n",
      "/home/hemantakumar.phurailatpam/anaconda3/envs/bilby/lib/python3.7/site-packages/dynesty/plotting.py:203: RuntimeWarning: overflow encountered in exp\n",
      "  zspan = (0., 1.05 * np.exp(logz[-1] + 3. * logzerr[-1]))\n",
      "18:13 bilby WARNING : Axis limits cannot be NaN or Inf\n",
      "18:13 bilby WARNING : Failed to create dynesty run plot at checkpoint\n"
     ]
    },
    {
     "name": "stdout",
     "output_type": "stream",
     "text": [
      "1630it [7:29:57, 110.87s/it, bound:0 nc: 92 ncall:1.5e+04 eff:11.0% logz-ratio=2364.97+/-0.13 dlogz:4.730>3]"
     ]
    },
    {
     "name": "stderr",
     "output_type": "stream",
     "text": [
      "18:45 bilby INFO    : Written checkpoint file short/test_resume.pickle\n",
      "18:45 bilby INFO    : Writing 268 current samples to short/test_samples.dat\n",
      "/home/hemantakumar.phurailatpam/anaconda3/envs/bilby/lib/python3.7/site-packages/dynesty/plotting.py:179: RuntimeWarning: overflow encountered in exp\n",
      "  data = [nlive, np.exp(logl), np.exp(logwt), np.exp(logz)]\n",
      "/home/hemantakumar.phurailatpam/anaconda3/envs/bilby/lib/python3.7/site-packages/dynesty/plotting.py:203: RuntimeWarning: overflow encountered in exp\n",
      "  zspan = (0., 1.05 * np.exp(logz[-1] + 3. * logzerr[-1]))\n",
      "18:45 bilby WARNING : Axis limits cannot be NaN or Inf\n",
      "18:45 bilby WARNING : Failed to create dynesty run plot at checkpoint\n"
     ]
    },
    {
     "name": "stdout",
     "output_type": "stream",
     "text": [
      "1662it [8:02:18, 48.15s/it, bound:0 nc: 44 ncall:1.6e+04 eff:10.5% logz-ratio=2365.35+/-0.13 dlogz:4.297>3] "
     ]
    },
    {
     "name": "stderr",
     "output_type": "stream",
     "text": [
      "19:17 bilby INFO    : Written checkpoint file short/test_resume.pickle\n",
      "19:17 bilby INFO    : Writing 297 current samples to short/test_samples.dat\n",
      "/home/hemantakumar.phurailatpam/anaconda3/envs/bilby/lib/python3.7/site-packages/dynesty/plotting.py:179: RuntimeWarning: overflow encountered in exp\n",
      "  data = [nlive, np.exp(logl), np.exp(logwt), np.exp(logz)]\n",
      "/home/hemantakumar.phurailatpam/anaconda3/envs/bilby/lib/python3.7/site-packages/dynesty/plotting.py:203: RuntimeWarning: overflow encountered in exp\n",
      "  zspan = (0., 1.05 * np.exp(logz[-1] + 3. * logzerr[-1]))\n",
      "19:17 bilby WARNING : Axis limits cannot be NaN or Inf\n",
      "19:17 bilby WARNING : Failed to create dynesty run plot at checkpoint\n"
     ]
    },
    {
     "name": "stdout",
     "output_type": "stream",
     "text": [
      "1691it [8:34:47, 85.43s/it, bound:0 nc: 44 ncall:1.7e+04 eff:10.0% logz-ratio=2365.65+/-0.13 dlogz:3.941>3] "
     ]
    },
    {
     "name": "stderr",
     "output_type": "stream",
     "text": [
      "19:49 bilby INFO    : Written checkpoint file short/test_resume.pickle\n",
      "19:49 bilby INFO    : Writing 298 current samples to short/test_samples.dat\n",
      "/home/hemantakumar.phurailatpam/anaconda3/envs/bilby/lib/python3.7/site-packages/dynesty/plotting.py:179: RuntimeWarning: overflow encountered in exp\n",
      "  data = [nlive, np.exp(logl), np.exp(logwt), np.exp(logz)]\n",
      "/home/hemantakumar.phurailatpam/anaconda3/envs/bilby/lib/python3.7/site-packages/dynesty/plotting.py:203: RuntimeWarning: overflow encountered in exp\n",
      "  zspan = (0., 1.05 * np.exp(logz[-1] + 3. * logzerr[-1]))\n",
      "19:49 bilby WARNING : Axis limits cannot be NaN or Inf\n",
      "19:49 bilby WARNING : Failed to create dynesty run plot at checkpoint\n"
     ]
    },
    {
     "name": "stdout",
     "output_type": "stream",
     "text": [
      "1694it [10:22:36, 1955.16s/it, bound:1 nc:499 ncall:1.7e+04 eff:9.7% logz-ratio=2365.68+/-0.13 dlogz:3.907>3]"
     ]
    },
    {
     "name": "stderr",
     "output_type": "stream",
     "text": [
      "21:37 bilby INFO    : Written checkpoint file short/test_resume.pickle\n",
      "21:37 bilby INFO    : Writing 311 current samples to short/test_samples.dat\n",
      "/home/hemantakumar.phurailatpam/anaconda3/envs/bilby/lib/python3.7/site-packages/dynesty/plotting.py:179: RuntimeWarning: overflow encountered in exp\n",
      "  data = [nlive, np.exp(logl), np.exp(logwt), np.exp(logz)]\n",
      "/home/hemantakumar.phurailatpam/anaconda3/envs/bilby/lib/python3.7/site-packages/dynesty/plotting.py:203: RuntimeWarning: overflow encountered in exp\n",
      "  zspan = (0., 1.05 * np.exp(logz[-1] + 3. * logzerr[-1]))\n",
      "21:37 bilby WARNING : Axis limits cannot be NaN or Inf\n",
      "21:37 bilby WARNING : Failed to create dynesty run plot at checkpoint\n"
     ]
    },
    {
     "name": "stdout",
     "output_type": "stream",
     "text": [
      "1702it [12:04:28, 1263.79s/it, bound:9 nc:495 ncall:2.1e+04 eff:7.9% logz-ratio=2365.75+/-0.13 dlogz:3.816>3]"
     ]
    },
    {
     "name": "stderr",
     "output_type": "stream",
     "text": [
      "23:19 bilby INFO    : Written checkpoint file short/test_resume.pickle\n",
      "23:19 bilby INFO    : Writing 314 current samples to short/test_samples.dat\n",
      "/home/hemantakumar.phurailatpam/anaconda3/envs/bilby/lib/python3.7/site-packages/dynesty/plotting.py:179: RuntimeWarning: overflow encountered in exp\n",
      "  data = [nlive, np.exp(logl), np.exp(logwt), np.exp(logz)]\n",
      "/home/hemantakumar.phurailatpam/anaconda3/envs/bilby/lib/python3.7/site-packages/dynesty/plotting.py:203: RuntimeWarning: overflow encountered in exp\n",
      "  zspan = (0., 1.05 * np.exp(logz[-1] + 3. * logzerr[-1]))\n",
      "23:19 bilby WARNING : Axis limits cannot be NaN or Inf\n",
      "23:19 bilby WARNING : Failed to create dynesty run plot at checkpoint\n"
     ]
    },
    {
     "name": "stdout",
     "output_type": "stream",
     "text": [
      "1710it [13:30:24, 928.60s/it, bound:17 nc:495 ncall:2.5e+04 eff:6.7% logz-ratio=2365.83+/-0.13 dlogz:3.728>3]"
     ]
    },
    {
     "name": "stderr",
     "output_type": "stream",
     "text": [
      "00:45 bilby INFO    : Written checkpoint file short/test_resume.pickle\n",
      "00:45 bilby INFO    : Writing 334 current samples to short/test_samples.dat\n",
      "/home/hemantakumar.phurailatpam/anaconda3/envs/bilby/lib/python3.7/site-packages/dynesty/plotting.py:179: RuntimeWarning: overflow encountered in exp\n",
      "  data = [nlive, np.exp(logl), np.exp(logwt), np.exp(logz)]\n",
      "/home/hemantakumar.phurailatpam/anaconda3/envs/bilby/lib/python3.7/site-packages/dynesty/plotting.py:203: RuntimeWarning: overflow encountered in exp\n",
      "  zspan = (0., 1.05 * np.exp(logz[-1] + 3. * logzerr[-1]))\n",
      "00:45 bilby WARNING : Axis limits cannot be NaN or Inf\n",
      "00:45 bilby WARNING : Failed to create dynesty run plot at checkpoint\n"
     ]
    },
    {
     "name": "stdout",
     "output_type": "stream",
     "text": [
      "1717it [14:57:44, 717.41s/it, bound:25 nc:495 ncall:2.9e+04 eff:5.9% logz-ratio=2365.89+/-0.13 dlogz:3.652>3]"
     ]
    },
    {
     "name": "stderr",
     "output_type": "stream",
     "text": [
      "02:12 bilby INFO    : Written checkpoint file short/test_resume.pickle\n",
      "02:12 bilby INFO    : Writing 317 current samples to short/test_samples.dat\n",
      "/home/hemantakumar.phurailatpam/anaconda3/envs/bilby/lib/python3.7/site-packages/dynesty/plotting.py:179: RuntimeWarning: overflow encountered in exp\n",
      "  data = [nlive, np.exp(logl), np.exp(logwt), np.exp(logz)]\n",
      "/home/hemantakumar.phurailatpam/anaconda3/envs/bilby/lib/python3.7/site-packages/dynesty/plotting.py:203: RuntimeWarning: overflow encountered in exp\n",
      "  zspan = (0., 1.05 * np.exp(logz[-1] + 3. * logzerr[-1]))\n",
      "02:12 bilby WARNING : Axis limits cannot be NaN or Inf\n",
      "02:12 bilby WARNING : Failed to create dynesty run plot at checkpoint\n"
     ]
    },
    {
     "name": "stdout",
     "output_type": "stream",
     "text": [
      "1725it [16:26:32, 671.25s/it, bound:33 nc:495 ncall:3.3e+04 eff:5.2% logz-ratio=2365.96+/-0.13 dlogz:3.567>3]"
     ]
    },
    {
     "name": "stderr",
     "output_type": "stream",
     "text": [
      "03:41 bilby INFO    : Written checkpoint file short/test_resume.pickle\n",
      "03:41 bilby INFO    : Writing 330 current samples to short/test_samples.dat\n",
      "/home/hemantakumar.phurailatpam/anaconda3/envs/bilby/lib/python3.7/site-packages/dynesty/plotting.py:179: RuntimeWarning: overflow encountered in exp\n",
      "  data = [nlive, np.exp(logl), np.exp(logwt), np.exp(logz)]\n",
      "/home/hemantakumar.phurailatpam/anaconda3/envs/bilby/lib/python3.7/site-packages/dynesty/plotting.py:203: RuntimeWarning: overflow encountered in exp\n",
      "  zspan = (0., 1.05 * np.exp(logz[-1] + 3. * logzerr[-1]))\n",
      "03:41 bilby WARNING : Axis limits cannot be NaN or Inf\n",
      "03:41 bilby WARNING : Failed to create dynesty run plot at checkpoint\n"
     ]
    },
    {
     "name": "stdout",
     "output_type": "stream",
     "text": [
      "1734it [18:04:07, 406.18s/it, bound:42 nc:  1 ncall:3.8e+04 eff:5.6% logz-ratio=2368.70+/-0.11 dlogz:0.386>3]"
     ]
    },
    {
     "name": "stderr",
     "output_type": "stream",
     "text": [
      "05:19 bilby INFO    : Written checkpoint file short/test_resume.pickle\n",
      "05:19 bilby INFO    : Writing 339 current samples to short/test_samples.dat\n",
      "/home/hemantakumar.phurailatpam/anaconda3/envs/bilby/lib/python3.7/site-packages/dynesty/plotting.py:179: RuntimeWarning: overflow encountered in exp\n",
      "  data = [nlive, np.exp(logl), np.exp(logwt), np.exp(logz)]\n",
      "/home/hemantakumar.phurailatpam/anaconda3/envs/bilby/lib/python3.7/site-packages/dynesty/plotting.py:203: RuntimeWarning: overflow encountered in exp\n",
      "  zspan = (0., 1.05 * np.exp(logz[-1] + 3. * logzerr[-1]))\n",
      "05:19 bilby WARNING : Axis limits cannot be NaN or Inf\n",
      "05:19 bilby WARNING : Failed to create dynesty run plot at checkpoint\n"
     ]
    },
    {
     "name": "stdout",
     "output_type": "stream",
     "text": [
      "1741it [19:45:19, 503.05s/it, bound:49 nc:495 ncall:4.1e+04 eff:4.2% logz-ratio=2366.10+/-0.13 dlogz:3.398>3]"
     ]
    },
    {
     "name": "stderr",
     "output_type": "stream",
     "text": [
      "07:00 bilby INFO    : Written checkpoint file short/test_resume.pickle\n",
      "07:00 bilby INFO    : Writing 336 current samples to short/test_samples.dat\n",
      "/home/hemantakumar.phurailatpam/anaconda3/envs/bilby/lib/python3.7/site-packages/dynesty/plotting.py:179: RuntimeWarning: overflow encountered in exp\n",
      "  data = [nlive, np.exp(logl), np.exp(logwt), np.exp(logz)]\n",
      "/home/hemantakumar.phurailatpam/anaconda3/envs/bilby/lib/python3.7/site-packages/dynesty/plotting.py:203: RuntimeWarning: overflow encountered in exp\n",
      "  zspan = (0., 1.05 * np.exp(logz[-1] + 3. * logzerr[-1]))\n",
      "07:00 bilby WARNING : Axis limits cannot be NaN or Inf\n",
      "07:00 bilby WARNING : Failed to create dynesty run plot at checkpoint\n"
     ]
    },
    {
     "name": "stdout",
     "output_type": "stream",
     "text": [
      "1749it [21:17:03, 576.80s/it, bound:57 nc:495 ncall:4.5e+04 eff:3.9% logz-ratio=2366.18+/-0.13 dlogz:3.315>3]"
     ]
    },
    {
     "name": "stderr",
     "output_type": "stream",
     "text": [
      "08:32 bilby INFO    : Written checkpoint file short/test_resume.pickle\n",
      "08:32 bilby INFO    : Writing 349 current samples to short/test_samples.dat\n",
      "/home/hemantakumar.phurailatpam/anaconda3/envs/bilby/lib/python3.7/site-packages/dynesty/plotting.py:179: RuntimeWarning: overflow encountered in exp\n",
      "  data = [nlive, np.exp(logl), np.exp(logwt), np.exp(logz)]\n",
      "/home/hemantakumar.phurailatpam/anaconda3/envs/bilby/lib/python3.7/site-packages/dynesty/plotting.py:203: RuntimeWarning: overflow encountered in exp\n",
      "  zspan = (0., 1.05 * np.exp(logz[-1] + 3. * logzerr[-1]))\n",
      "08:32 bilby WARNING : Axis limits cannot be NaN or Inf\n",
      "08:32 bilby WARNING : Failed to create dynesty run plot at checkpoint\n"
     ]
    },
    {
     "name": "stdout",
     "output_type": "stream",
     "text": [
      "1757it [22:49:47, 521.60s/it, bound:65 nc:495 ncall:4.9e+04 eff:3.6% logz-ratio=2366.25+/-0.13 dlogz:3.232>3]"
     ]
    },
    {
     "name": "stderr",
     "output_type": "stream",
     "text": [
      "10:04 bilby INFO    : Written checkpoint file short/test_resume.pickle\n",
      "10:04 bilby INFO    : Writing 355 current samples to short/test_samples.dat\n",
      "/home/hemantakumar.phurailatpam/anaconda3/envs/bilby/lib/python3.7/site-packages/dynesty/plotting.py:179: RuntimeWarning: overflow encountered in exp\n",
      "  data = [nlive, np.exp(logl), np.exp(logwt), np.exp(logz)]\n",
      "/home/hemantakumar.phurailatpam/anaconda3/envs/bilby/lib/python3.7/site-packages/dynesty/plotting.py:203: RuntimeWarning: overflow encountered in exp\n",
      "  zspan = (0., 1.05 * np.exp(logz[-1] + 3. * logzerr[-1]))\n",
      "10:04 bilby WARNING : Axis limits cannot be NaN or Inf\n",
      "10:04 bilby WARNING : Failed to create dynesty run plot at checkpoint\n"
     ]
    },
    {
     "name": "stdout",
     "output_type": "stream",
     "text": [
      "1765it [24:46:48, 606.73s/it, bound:73 nc:495 ncall:5.3e+04 eff:3.3% logz-ratio=2366.32+/-0.13 dlogz:3.149>3]"
     ]
    },
    {
     "name": "stderr",
     "output_type": "stream",
     "text": [
      "12:01 bilby INFO    : Written checkpoint file short/test_resume.pickle\n",
      "12:01 bilby INFO    : Writing 365 current samples to short/test_samples.dat\n",
      "/home/hemantakumar.phurailatpam/anaconda3/envs/bilby/lib/python3.7/site-packages/dynesty/plotting.py:179: RuntimeWarning: overflow encountered in exp\n",
      "  data = [nlive, np.exp(logl), np.exp(logwt), np.exp(logz)]\n",
      "/home/hemantakumar.phurailatpam/anaconda3/envs/bilby/lib/python3.7/site-packages/dynesty/plotting.py:203: RuntimeWarning: overflow encountered in exp\n",
      "  zspan = (0., 1.05 * np.exp(logz[-1] + 3. * logzerr[-1]))\n",
      "12:01 bilby WARNING : Axis limits cannot be NaN or Inf\n",
      "12:01 bilby WARNING : Failed to create dynesty run plot at checkpoint\n"
     ]
    },
    {
     "name": "stdout",
     "output_type": "stream",
     "text": [
      "1773it [26:20:24, 634.32s/it, bound:81 nc:495 ncall:5.7e+04 eff:3.1% logz-ratio=2366.39+/-0.13 dlogz:3.067>3]"
     ]
    },
    {
     "name": "stderr",
     "output_type": "stream",
     "text": [
      "13:35 bilby INFO    : Written checkpoint file short/test_resume.pickle\n",
      "13:35 bilby INFO    : Writing 356 current samples to short/test_samples.dat\n",
      "/home/hemantakumar.phurailatpam/anaconda3/envs/bilby/lib/python3.7/site-packages/dynesty/plotting.py:179: RuntimeWarning: overflow encountered in exp\n",
      "  data = [nlive, np.exp(logl), np.exp(logwt), np.exp(logz)]\n",
      "/home/hemantakumar.phurailatpam/anaconda3/envs/bilby/lib/python3.7/site-packages/dynesty/plotting.py:203: RuntimeWarning: overflow encountered in exp\n",
      "  zspan = (0., 1.05 * np.exp(logz[-1] + 3. * logzerr[-1]))\n",
      "13:35 bilby WARNING : Axis limits cannot be NaN or Inf\n",
      "13:35 bilby WARNING : Failed to create dynesty run plot at checkpoint\n"
     ]
    },
    {
     "name": "stdout",
     "output_type": "stream",
     "text": [
      "\r",
      "1774it [26:20:27, 444.71s/it, bound:82 nc:495 ncall:5.8e+04 eff:3.1% logz-ratio=2366.40+/-0.13 dlogz:3.056>3]"
     ]
    },
    {
     "name": "stderr",
     "output_type": "stream",
     "text": [
      "13:35 bilby INFO    : Written checkpoint file short/test_resume.pickle\n",
      "13:35 bilby INFO    : Writing 365 current samples to short/test_samples.dat\n",
      "/home/hemantakumar.phurailatpam/anaconda3/envs/bilby/lib/python3.7/site-packages/dynesty/plotting.py:179: RuntimeWarning: overflow encountered in exp\n",
      "  data = [nlive, np.exp(logl), np.exp(logwt), np.exp(logz)]\n",
      "/home/hemantakumar.phurailatpam/anaconda3/envs/bilby/lib/python3.7/site-packages/dynesty/plotting.py:203: RuntimeWarning: overflow encountered in exp\n",
      "  zspan = (0., 1.05 * np.exp(logz[-1] + 3. * logzerr[-1]))\n",
      "13:35 bilby WARNING : Axis limits cannot be NaN or Inf\n",
      "13:35 bilby WARNING : Failed to create dynesty run plot at checkpoint\n",
      "13:35 bilby INFO    : Starting to close worker pool.\n",
      "13:35 bilby INFO    : Finished closing worker pool.\n"
     ]
    },
    {
     "name": "stdout",
     "output_type": "stream",
     "text": [
      "\r",
      "1779it [26:20:29, 53.31s/it, bound:87 nc:  1 ncall:6.0e+04 eff:3.8% logz-ratio=2369.07+/-nan dlogz:0.003>3]  "
     ]
    },
    {
     "name": "stderr",
     "output_type": "stream",
     "text": [
      "13:35 bilby WARNING : Multiple likelihood matches found between sorted and unsorted samples. Taking the first match.\n",
      "13:35 bilby WARNING : Multiple likelihood matches found between sorted and unsorted samples. Taking the first match.\n",
      "13:35 bilby WARNING : Multiple likelihood matches found between sorted and unsorted samples. Taking the first match.\n",
      "13:35 bilby WARNING : Multiple likelihood matches found between sorted and unsorted samples. Taking the first match.\n",
      "13:35 bilby WARNING : Multiple likelihood matches found between sorted and unsorted samples. Taking the first match.\n",
      "13:35 bilby WARNING : Multiple likelihood matches found between sorted and unsorted samples. Taking the first match.\n",
      "13:35 bilby WARNING : Multiple likelihood matches found between sorted and unsorted samples. Taking the first match.\n",
      "13:35 bilby WARNING : Multiple likelihood matches found between sorted and unsorted samples. Taking the first match.\n",
      "13:35 bilby WARNING : Multiple likelihood matches found between sorted and unsorted samples. Taking the first match.\n",
      "13:35 bilby WARNING : Multiple likelihood matches found between sorted and unsorted samples. Taking the first match.\n",
      "13:35 bilby WARNING : Multiple likelihood matches found between sorted and unsorted samples. Taking the first match.\n",
      "13:35 bilby WARNING : Multiple likelihood matches found between sorted and unsorted samples. Taking the first match.\n",
      "13:35 bilby WARNING : Multiple likelihood matches found between sorted and unsorted samples. Taking the first match.\n",
      "13:35 bilby INFO    : Sampling time: 1 day, 1:04:40.413501\n"
     ]
    },
    {
     "name": "stdout",
     "output_type": "stream",
     "text": [
      "\n",
      "\n"
     ]
    },
    {
     "name": "stderr",
     "output_type": "stream",
     "text": [
      "13:35 bilby INFO    : Summary of results:\n",
      "nsamples: 2279\n",
      "ln_noise_evidence: -6262.539\n",
      "ln_evidence: -3893.469 +/-    nan\n",
      "ln_bayes_factor: 2369.070 +/-    nan\n",
      "\n"
     ]
    }
   ],
   "source": [
    "result_short = bilby.run_sampler(\n",
    "    likelihood, priors, sampler='dynesty', outdir='short', label=\"test\",\n",
    "    nlive=500, dlogz=3, clean=True, npool=8)\n"
   ]
  },
  {
   "cell_type": "code",
   "execution_count": 17,
   "metadata": {
    "scrolled": true
   },
   "outputs": [
    {
     "data": {
      "text/plain": [
       "1779"
      ]
     },
     "execution_count": 17,
     "metadata": {},
     "output_type": "execute_result"
    }
   ],
   "source": [
    "len(result_short.samples)"
   ]
  },
  {
   "cell_type": "code",
   "execution_count": null,
   "metadata": {},
   "outputs": [],
   "source": []
  },
  {
   "cell_type": "code",
   "execution_count": null,
   "metadata": {},
   "outputs": [],
   "source": []
  },
  {
   "cell_type": "code",
   "execution_count": null,
   "metadata": {},
   "outputs": [],
   "source": []
  },
  {
   "cell_type": "code",
   "execution_count": null,
   "metadata": {},
   "outputs": [],
   "source": []
  },
  {
   "cell_type": "code",
   "execution_count": null,
   "metadata": {},
   "outputs": [],
   "source": []
  },
  {
   "cell_type": "code",
   "execution_count": null,
   "metadata": {},
   "outputs": [],
   "source": []
  },
  {
   "cell_type": "code",
   "execution_count": null,
   "metadata": {},
   "outputs": [],
   "source": []
  },
  {
   "cell_type": "code",
   "execution_count": null,
   "metadata": {},
   "outputs": [],
   "source": []
  },
  {
   "cell_type": "code",
   "execution_count": null,
   "metadata": {},
   "outputs": [],
   "source": []
  },
  {
   "cell_type": "code",
   "execution_count": null,
   "metadata": {},
   "outputs": [],
   "source": []
  },
  {
   "cell_type": "code",
   "execution_count": null,
   "metadata": {},
   "outputs": [],
   "source": []
  },
  {
   "cell_type": "code",
   "execution_count": null,
   "metadata": {},
   "outputs": [],
   "source": []
  },
  {
   "cell_type": "code",
   "execution_count": null,
   "metadata": {},
   "outputs": [],
   "source": []
  },
  {
   "cell_type": "code",
   "execution_count": null,
   "metadata": {},
   "outputs": [],
   "source": []
  },
  {
   "cell_type": "code",
   "execution_count": null,
   "metadata": {},
   "outputs": [],
   "source": []
  },
  {
   "cell_type": "code",
   "execution_count": null,
   "metadata": {},
   "outputs": [],
   "source": []
  },
  {
   "cell_type": "code",
   "execution_count": null,
   "metadata": {},
   "outputs": [],
   "source": []
  },
  {
   "cell_type": "code",
   "execution_count": null,
   "metadata": {},
   "outputs": [],
   "source": []
  },
  {
   "cell_type": "code",
   "execution_count": null,
   "metadata": {},
   "outputs": [],
   "source": []
  },
  {
   "cell_type": "code",
   "execution_count": null,
   "metadata": {},
   "outputs": [],
   "source": []
  },
  {
   "cell_type": "code",
   "execution_count": null,
   "metadata": {},
   "outputs": [],
   "source": []
  },
  {
   "cell_type": "code",
   "execution_count": null,
   "metadata": {},
   "outputs": [],
   "source": []
  },
  {
   "cell_type": "code",
   "execution_count": null,
   "metadata": {},
   "outputs": [],
   "source": []
  }
 ],
 "metadata": {
  "kernelspec": {
   "display_name": "Python 3",
   "language": "python",
   "name": "python3"
  },
  "language_info": {
   "codemirror_mode": {
    "name": "ipython",
    "version": 3
   },
   "file_extension": ".py",
   "mimetype": "text/x-python",
   "name": "python",
   "nbconvert_exporter": "python",
   "pygments_lexer": "ipython3",
   "version": "3.7.7"
  }
 },
 "nbformat": 4,
 "nbformat_minor": 4
}
