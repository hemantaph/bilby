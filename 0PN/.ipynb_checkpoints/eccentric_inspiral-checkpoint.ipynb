{
 "cells": [
  {
   "cell_type": "code",
   "execution_count": 2,
   "metadata": {},
   "outputs": [],
   "source": [
    "#!/usr/bin/env python\n",
    "\"\"\"\n",
    "Tutorial to demonstrate running parameter estimation on a reduced parameter\n",
    "space for an injected eccentric binary black hole signal with masses & distnace\n",
    "similar to GW150914.\n",
    "\n",
    "This uses the same binary parameters that were used to make Figures 1, 2 & 5 in\n",
    "Lower et al. (2018) -> arXiv:1806.05350.\n",
    "\n",
    "For a more comprehensive look at what goes on in each step, refer to the\n",
    "\"basic_tutorial.py\" example.\n",
    "\"\"\"\n",
    "from __future__ import division\n",
    "import matplotlib.pyplot as plt\n",
    "\n",
    "import numpy as np\n",
    "import bilby\n"
   ]
  },
  {
   "cell_type": "code",
   "execution_count": 3,
   "metadata": {},
   "outputs": [],
   "source": [
    "duration = 64.\n",
    "sampling_frequency = 256."
   ]
  },
  {
   "cell_type": "code",
   "execution_count": 4,
   "metadata": {},
   "outputs": [],
   "source": [
    "outdir = 'outdir'\n",
    "label = 'eccentric_GW140914'\n",
    "bilby.core.utils.setup_logger(outdir=outdir, label=label)"
   ]
  },
  {
   "cell_type": "code",
   "execution_count": 5,
   "metadata": {},
   "outputs": [],
   "source": [
    "# Set up a random seed for result reproducibility.\n",
    "np.random.seed(150914)"
   ]
  },
  {
   "cell_type": "code",
   "execution_count": 6,
   "metadata": {},
   "outputs": [],
   "source": [
    "injection_parameters = dict(\n",
    "    mass_1=35., mass_2=30., eccentricity=0.1, luminosity_distance=440.,\n",
    "    theta_jn=0.4, psi=0.1, phase=1.2, geocent_time=1180002601.0, ra=45, dec=5.73)"
   ]
  },
  {
   "cell_type": "code",
   "execution_count": 7,
   "metadata": {},
   "outputs": [],
   "source": [
    "waveform_arguments = dict(waveform_approximant='EccentricFD',\n",
    "                          reference_frequency=10., minimum_frequency=10.)\n"
   ]
  },
  {
   "cell_type": "code",
   "execution_count": 8,
   "metadata": {},
   "outputs": [
    {
     "name": "stderr",
     "output_type": "stream",
     "text": [
      "00:58 bilby INFO    : Waveform generator initiated with\n",
      "  frequency_domain_source_model: bilby.gw.source.lal_eccentric_binary_black_hole_no_spins\n",
      "  time_domain_source_model: None\n",
      "  parameter_conversion: bilby.gw.conversion.convert_to_lal_binary_black_hole_parameters\n"
     ]
    }
   ],
   "source": [
    "# Create the waveform_generator using the LAL eccentric black hole no spins\n",
    "# source function\n",
    "waveform_generator = bilby.gw.WaveformGenerator(\n",
    "    duration=duration, sampling_frequency=sampling_frequency,\n",
    "    frequency_domain_source_model=bilby.gw.source.lal_eccentric_binary_black_hole_no_spins,\n",
    "    parameters=injection_parameters, waveform_arguments=waveform_arguments)"
   ]
  },
  {
   "cell_type": "code",
   "execution_count": 9,
   "metadata": {},
   "outputs": [],
   "source": [
    "# Setting up three interferometers (LIGO-Hanford (H1), LIGO-Livingston (L1), and\n",
    "# Virgo (V1)) at their design sensitivities. The maximum frequency is set just\n",
    "# prior to the point at which the waveform model terminates. This is to avoid\n",
    "# any biases introduced from using a sharply terminating waveform model.\n",
    "minimum_frequency = 10.\n",
    "maximum_frequency = 128."
   ]
  },
  {
   "cell_type": "code",
   "execution_count": 10,
   "metadata": {
    "scrolled": true
   },
   "outputs": [
    {
     "name": "stderr",
     "output_type": "stream",
     "text": [
      "/home/hemantakumar.phurailatpam/anaconda3/envs/bilby/lib/python3.6/site-packages/bilby/gw/detector/psd.py:356: RuntimeWarning: invalid value encountered in multiply\n",
      "  frequency_domain_strain = self.__power_spectral_density_interpolated(frequencies) ** 0.5 * white_noise\n",
      "00:58 bilby INFO    : Injected signal in H1:\n",
      "00:58 bilby INFO    :   optimal SNR = 66.39\n",
      "00:58 bilby INFO    :   matched filter SNR = 67.49-0.58j\n",
      "00:58 bilby INFO    :   mass_1 = 35.0\n",
      "00:58 bilby INFO    :   mass_2 = 30.0\n",
      "00:58 bilby INFO    :   eccentricity = 0.1\n",
      "00:58 bilby INFO    :   luminosity_distance = 440.0\n",
      "00:58 bilby INFO    :   theta_jn = 0.4\n",
      "00:58 bilby INFO    :   psi = 0.1\n",
      "00:58 bilby INFO    :   phase = 1.2\n",
      "00:58 bilby INFO    :   geocent_time = 1180002601.0\n",
      "00:58 bilby INFO    :   ra = 45\n",
      "00:58 bilby INFO    :   dec = 5.73\n",
      "00:58 bilby INFO    : Injected signal in L1:\n",
      "00:58 bilby INFO    :   optimal SNR = 39.04\n",
      "00:58 bilby INFO    :   matched filter SNR = 40.49+0.18j\n",
      "00:58 bilby INFO    :   mass_1 = 35.0\n",
      "00:58 bilby INFO    :   mass_2 = 30.0\n",
      "00:58 bilby INFO    :   eccentricity = 0.1\n",
      "00:58 bilby INFO    :   luminosity_distance = 440.0\n",
      "00:58 bilby INFO    :   theta_jn = 0.4\n",
      "00:58 bilby INFO    :   psi = 0.1\n",
      "00:58 bilby INFO    :   phase = 1.2\n",
      "00:58 bilby INFO    :   geocent_time = 1180002601.0\n",
      "00:58 bilby INFO    :   ra = 45\n",
      "00:58 bilby INFO    :   dec = 5.73\n"
     ]
    },
    {
     "data": {
      "text/plain": [
       "[{'plus': array([0.00000000e+00+0.00000000e+00j,\n",
       "         0.00000000e+00+0.00000000e+00j,\n",
       "         0.00000000e+00+0.00000000e+00j, ...,\n",
       "         7.52172839e-24-5.64380793e-24j,\n",
       "         7.51095844e-24-5.65605767e-24j,\n",
       "         7.50016771e-24-5.66828589e-24j]),\n",
       "  'cross': array([0.00000000e+00+0.00000000e+00j,\n",
       "         0.00000000e+00+0.00000000e+00j,\n",
       "         0.00000000e+00+0.00000000e+00j, ...,\n",
       "         5.62476999e-24+7.49635582e-24j,\n",
       "         5.63697841e-24+7.48562221e-24j,\n",
       "         5.64916539e-24+7.47486788e-24j])},\n",
       " {'plus': array([0.00000000e+00+0.00000000e+00j,\n",
       "         0.00000000e+00+0.00000000e+00j,\n",
       "         0.00000000e+00+0.00000000e+00j, ...,\n",
       "         7.52172839e-24-5.64380793e-24j,\n",
       "         7.51095844e-24-5.65605767e-24j,\n",
       "         7.50016771e-24-5.66828589e-24j]),\n",
       "  'cross': array([0.00000000e+00+0.00000000e+00j,\n",
       "         0.00000000e+00+0.00000000e+00j,\n",
       "         0.00000000e+00+0.00000000e+00j, ...,\n",
       "         5.62476999e-24+7.49635582e-24j,\n",
       "         5.63697841e-24+7.48562221e-24j,\n",
       "         5.64916539e-24+7.47486788e-24j])}]"
      ]
     },
     "execution_count": 10,
     "metadata": {},
     "output_type": "execute_result"
    }
   ],
   "source": [
    "ifos = bilby.gw.detector.InterferometerList(['H1', 'L1'])\n",
    "for ifo in ifos:\n",
    "    ifo.minimum_frequency = minimum_frequency\n",
    "    ifo.maximum_frequency = maximum_frequency\n",
    "ifos.set_strain_data_from_power_spectral_densities(\n",
    "    sampling_frequency=sampling_frequency, duration=duration,\n",
    "    start_time=injection_parameters['geocent_time'] - 3)\n",
    "ifos.inject_signal(waveform_generator=waveform_generator,\n",
    "                   parameters=injection_parameters)\n"
   ]
  },
  {
   "cell_type": "code",
   "execution_count": 11,
   "metadata": {},
   "outputs": [
    {
     "name": "stderr",
     "output_type": "stream",
     "text": [
      "00:58 bilby INFO    : Injected signal in H1:\n",
      "00:58 bilby INFO    :   optimal SNR = 66.39\n",
      "00:58 bilby INFO    :   matched filter SNR = 133.87-0.58j\n",
      "00:58 bilby INFO    :   mass_1 = 35.0\n",
      "00:58 bilby INFO    :   mass_2 = 30.0\n",
      "00:58 bilby INFO    :   eccentricity = 0.1\n",
      "00:58 bilby INFO    :   luminosity_distance = 440.0\n",
      "00:58 bilby INFO    :   theta_jn = 0.4\n",
      "00:58 bilby INFO    :   psi = 0.1\n",
      "00:58 bilby INFO    :   phase = 1.2\n",
      "00:58 bilby INFO    :   geocent_time = 1180002601.0\n",
      "00:58 bilby INFO    :   ra = 45\n",
      "00:58 bilby INFO    :   dec = 5.73\n",
      "00:58 bilby INFO    : Injected signal in L1:\n",
      "00:58 bilby INFO    :   optimal SNR = 39.04\n",
      "00:58 bilby INFO    :   matched filter SNR = 79.53+0.18j\n",
      "00:58 bilby INFO    :   mass_1 = 35.0\n",
      "00:58 bilby INFO    :   mass_2 = 30.0\n",
      "00:58 bilby INFO    :   eccentricity = 0.1\n",
      "00:58 bilby INFO    :   luminosity_distance = 440.0\n",
      "00:58 bilby INFO    :   theta_jn = 0.4\n",
      "00:58 bilby INFO    :   psi = 0.1\n",
      "00:58 bilby INFO    :   phase = 1.2\n",
      "00:58 bilby INFO    :   geocent_time = 1180002601.0\n",
      "00:58 bilby INFO    :   ra = 45\n",
      "00:58 bilby INFO    :   dec = 5.73\n"
     ]
    },
    {
     "ename": "NameError",
     "evalue": "name 'plt' is not defined",
     "output_type": "error",
     "traceback": [
      "\u001b[0;31m---------------------------------------------------------------------------\u001b[0m",
      "\u001b[0;31mNameError\u001b[0m                                 Traceback (most recent call last)",
      "\u001b[0;32m<ipython-input-11-70e2b5b4a92f>\u001b[0m in \u001b[0;36m<module>\u001b[0;34m\u001b[0m\n\u001b[1;32m      4\u001b[0m \u001b[0mH1_injection\u001b[0m \u001b[0;34m=\u001b[0m \u001b[0minjection\u001b[0m\u001b[0;34m[\u001b[0m\u001b[0;36m0\u001b[0m\u001b[0;34m]\u001b[0m\u001b[0;34m\u001b[0m\u001b[0;34m\u001b[0m\u001b[0m\n\u001b[1;32m      5\u001b[0m \u001b[0;34m\u001b[0m\u001b[0m\n\u001b[0;32m----> 6\u001b[0;31m \u001b[0mfig\u001b[0m\u001b[0;34m,\u001b[0m \u001b[0max\u001b[0m \u001b[0;34m=\u001b[0m \u001b[0mplt\u001b[0m\u001b[0;34m.\u001b[0m\u001b[0msubplots\u001b[0m\u001b[0;34m(\u001b[0m\u001b[0;34m)\u001b[0m\u001b[0;34m\u001b[0m\u001b[0;34m\u001b[0m\u001b[0m\n\u001b[0m\u001b[1;32m      7\u001b[0m \u001b[0midxs\u001b[0m \u001b[0;34m=\u001b[0m \u001b[0mH1\u001b[0m\u001b[0;34m.\u001b[0m\u001b[0mstrain_data\u001b[0m\u001b[0;34m.\u001b[0m\u001b[0mfrequency_mask\u001b[0m  \u001b[0;31m# This is a boolean mask of the frequencies which we'll use in the analysis\u001b[0m\u001b[0;34m\u001b[0m\u001b[0;34m\u001b[0m\u001b[0m\n\u001b[1;32m      8\u001b[0m ax.loglog(H1.strain_data.frequency_array[idxs],\n",
      "\u001b[0;31mNameError\u001b[0m: name 'plt' is not defined"
     ]
    }
   ],
   "source": [
    "injection = ifos.inject_signal(waveform_generator=waveform_generator,\n",
    "                   parameters=injection_parameters)\n",
    "H1 = ifos[0]\n",
    "H1_injection = injection[0]\n",
    "\n",
    "fig, ax = plt.subplots()\n",
    "idxs = H1.strain_data.frequency_mask  # This is a boolean mask of the frequencies which we'll use in the analysis\n",
    "ax.loglog(H1.strain_data.frequency_array[idxs],\n",
    "          np.abs(H1.strain_data.frequency_domain_strain[idxs]),\n",
    "          label=\"data\")\n",
    "ax.loglog(H1.frequency_array[idxs],\n",
    "          H1.amplitude_spectral_density_array[idxs],\n",
    "          label=\"ASD\")\n",
    "ax.loglog(H1.frequency_array[idxs],\n",
    "          np.abs(H1_injection[\"plus\"][idxs]),\n",
    "          label=\"Abs. val. of plus polarization\")\n",
    "\n",
    "'''L1 = ifos[1]\n",
    "L1_injection = injection[1]\n",
    "\n",
    "ax.loglog(L1.frequency_array[idxs]+5,\n",
    "          L1.amplitude_spectral_density_array[idxs],\n",
    "          label=\"ASD\")'''\n",
    "\n",
    "ax.set_xlim(20,200)\n",
    "ax.set_ylim(1e-26,2.327737159425905e-21)\n",
    "\n",
    "\n",
    "ax.set_xlabel(\"Frequency [Hz]\")\n",
    "ax.set_ylabel(\"Strain [strain/$\\sqrt{Hz}$]\")\n",
    "ax.legend()\n",
    "plt.show()"
   ]
  },
  {
   "cell_type": "code",
   "execution_count": 11,
   "metadata": {},
   "outputs": [],
   "source": [
    "# Now we set up the priors on each of the binary parameters.\n",
    "priors = bilby.core.prior.PriorDict()\n",
    "priors[\"mass_1\"] = bilby.core.prior.Uniform(\n",
    "    name='mass_1', minimum=5, maximum=60, unit='$M_{\\\\odot}$')\n",
    "priors[\"mass_2\"] = bilby.core.prior.Uniform(\n",
    "    name='mass_2', minimum=5, maximum=60, unit='$M_{\\\\odot}$')\n",
    "priors[\"eccentricity\"] = bilby.core.prior.LogUniform(\n",
    "    name='eccentricity', latex_label='$e$', minimum=1e-4, maximum=0.4)\n",
    "priors[\"luminosity_distance\"] = bilby.gw.prior.UniformComovingVolume(\n",
    "    name='luminosity_distance', minimum=1e2, maximum=2e3)\n",
    "priors[\"dec\"] = bilby.core.prior.Cosine(name='dec')\n",
    "priors[\"ra\"] = bilby.core.prior.Uniform(\n",
    "    name='ra', minimum=0, maximum=2 * np.pi)\n",
    "priors[\"theta_jn\"] = bilby.core.prior.Sine(name='theta_jn')\n",
    "priors[\"psi\"] = bilby.core.prior.Uniform(name='psi', minimum=0, maximum=np.pi)\n",
    "priors[\"phase\"] = bilby.core.prior.Uniform(\n",
    "    name='phase', minimum=0, maximum=2 * np.pi)\n",
    "priors[\"geocent_time\"] = bilby.core.prior.Uniform(\n",
    "    1180002600.9, 1180002601.1, name='geocent_time', unit='s')\n"
   ]
  },
  {
   "cell_type": "code",
   "execution_count": 12,
   "metadata": {},
   "outputs": [],
   "source": [
    "# Initialising the likelihood function.\n",
    "likelihood = bilby.gw.likelihood.GravitationalWaveTransient(\n",
    "    interferometers=ifos, waveform_generator=waveform_generator)\n"
   ]
  },
  {
   "cell_type": "code",
   "execution_count": null,
   "metadata": {},
   "outputs": [
    {
     "name": "stderr",
     "output_type": "stream",
     "text": [
      "20:39 bilby INFO    : Running for label 'eccentric_GW140914', output will be saved to 'outdir'\n",
      "20:39 bilby INFO    : Using lal version 7.0.0\n",
      "20:39 bilby INFO    : Using lal git version Branch: None;Tag: lalsuite-v6.76;Id: 384ac5e4b9c95803607658118ba361dfc353dade;;Builder: Unknown User <>;Repository status: UNCLEAN: Modified working tree\n",
      "20:39 bilby INFO    : Using lalsimulation version 2.2.0\n",
      "20:39 bilby INFO    : Using lalsimulation git version Branch: None;Tag: lalsuite-v6.76;Id: 384ac5e4b9c95803607658118ba361dfc353dade;;Builder: Unknown User <>;Repository status: UNCLEAN: Modified working tree\n",
      "20:39 bilby INFO    : Search parameters:\n",
      "20:39 bilby INFO    :   mass_1 = Uniform(minimum=5, maximum=60, name='mass_1', latex_label='$m_1$', unit='$M_{\\\\odot}$', boundary=None)\n",
      "20:39 bilby INFO    :   mass_2 = Uniform(minimum=5, maximum=60, name='mass_2', latex_label='$m_2$', unit='$M_{\\\\odot}$', boundary=None)\n",
      "20:39 bilby INFO    :   eccentricity = LogUniform(minimum=0.0001, maximum=0.4, name='eccentricity', latex_label='$e$', unit=None, boundary=None)\n",
      "20:39 bilby INFO    :   luminosity_distance = UniformComovingVolume(minimum=100.0, maximum=2000.0, cosmology=FlatLambdaCDM(name=\"Planck15\", H0=67.7 km / (Mpc s), Om0=0.307, Tcmb0=2.725 K, Neff=3.05, m_nu=[0.   0.   0.06] eV, Ob0=0.0486), name='luminosity_distance', latex_label='$d_L$', unit=Unit(\"Mpc\"), boundary=None)\n",
      "20:39 bilby INFO    :   dec = Cosine(name='dec', latex_label='$\\\\mathrm{DEC}$', unit=None, minimum=-1.5707963267948966, maximum=1.5707963267948966, boundary=None)\n",
      "20:39 bilby INFO    :   ra = Uniform(minimum=0, maximum=6.283185307179586, name='ra', latex_label='$\\\\mathrm{RA}$', unit=None, boundary=None)\n",
      "20:39 bilby INFO    :   theta_jn = Sine(name='theta_jn', latex_label='$\\\\theta_{JN}$', unit=None, minimum=0, maximum=3.141592653589793, boundary=None)\n",
      "20:39 bilby INFO    :   psi = Uniform(minimum=0, maximum=3.141592653589793, name='psi', latex_label='$\\\\psi$', unit=None, boundary=None)\n",
      "20:39 bilby INFO    :   phase = Uniform(minimum=0, maximum=6.283185307179586, name='phase', latex_label='$\\\\phi$', unit=None, boundary=None)\n",
      "20:39 bilby INFO    :   geocent_time = Uniform(minimum=1180002600.9, maximum=1180002601.1, name='geocent_time', latex_label='$t_c$', unit='s', boundary=None)\n",
      "20:39 bilby INFO    : Single likelihood evaluation took 4.664e-02 s\n"
     ]
    },
    {
     "name": "stdout",
     "output_type": "stream",
     "text": [
      "\r",
      "0it [00:00, ?it/s]"
     ]
    },
    {
     "name": "stderr",
     "output_type": "stream",
     "text": [
      "20:39 bilby INFO    : Using sampler Dynesty with kwargs {'bound': 'multi', 'sample': 'rwalk', 'verbose': True, 'periodic': None, 'reflective': None, 'check_point_delta_t': 600, 'nlive': 1000, 'first_update': None, 'walks': 100, 'npdim': None, 'rstate': None, 'queue_size': 1, 'pool': None, 'use_pool': None, 'live_points': None, 'logl_args': None, 'logl_kwargs': None, 'ptform_args': None, 'ptform_kwargs': None, 'enlarge': 1.5, 'bootstrap': None, 'vol_dec': 0.5, 'vol_check': 8.0, 'facc': 0.2, 'slices': 5, 'update_interval': 600, 'print_func': <bound method Dynesty._print_func of <bilby.core.sampler.dynesty.Dynesty object at 0x7f9678beb940>>, 'dlogz': 0.1, 'maxiter': None, 'maxcall': None, 'logl_max': inf, 'add_live': True, 'print_progress': True, 'save_bounds': False, 'n_effective': None, 'maxmcmc': 5000, 'nact': 5}\n",
      "20:39 bilby INFO    : Checkpoint every check_point_delta_t = 600s\n",
      "20:39 bilby INFO    : Using dynesty version 1.0.1\n",
      "20:39 bilby INFO    : Generating initial points from the prior\n",
      "20:40 bilby INFO    : Using the bilby-implemented rwalk sample method with ACT estimated walks\n",
      "20:40 bilby INFO    : Resume file outdir/eccentric_GW140914_resume.pickle does not exist.\n"
     ]
    },
    {
     "name": "stdout",
     "output_type": "stream",
     "text": [
      "2624it [10:58,  1.21s/it, bound:0 nc: 33 ncall:1.4e+04 eff:18.5% logz-ratio=35.64+/-0.11 dlogz:948.924>0.1] "
     ]
    },
    {
     "name": "stderr",
     "output_type": "stream",
     "text": [
      "20:50 bilby INFO    : Written checkpoint file outdir/eccentric_GW140914_resume.pickle\n",
      "/home/hemantakumar.phurailatpam/anaconda3/envs/bilby/lib/python3.6/site-packages/dynesty/plotting.py:675: UserWarning: Attempting to set identical bottom == top == 0.0 results in singular transformations; automatically expanding.\n",
      "  ax.set_ylim([0., max(y0) * 1.05])\n",
      "/home/hemantakumar.phurailatpam/anaconda3/envs/bilby/lib/python3.6/site-packages/dynesty/plotting.py:179: RuntimeWarning: overflow encountered in exp\n",
      "  data = [nlive, np.exp(logl), np.exp(logwt), np.exp(logz)]\n",
      "/home/hemantakumar.phurailatpam/anaconda3/envs/bilby/lib/python3.6/site-packages/dynesty/plotting.py:203: RuntimeWarning: overflow encountered in exp\n",
      "  zspan = (0., 1.05 * np.exp(logz[-1] + 3. * logzerr[-1]))\n",
      "20:50 bilby WARNING : Axis limits cannot be NaN or Inf\n",
      "20:50 bilby WARNING : Failed to create dynesty run plot at checkpoint\n"
     ]
    },
    {
     "name": "stdout",
     "output_type": "stream",
     "text": [
      "3295it [21:17,  1.05s/it, bound:0 nc: 73 ncall:2.7e+04 eff:12.0% logz-ratio=83.22+/-0.11 dlogz:952.126>0.1]"
     ]
    },
    {
     "name": "stderr",
     "output_type": "stream",
     "text": [
      "21:00 bilby INFO    : Written checkpoint file outdir/eccentric_GW140914_resume.pickle\n",
      "/home/hemantakumar.phurailatpam/anaconda3/envs/bilby/lib/python3.6/site-packages/dynesty/plotting.py:179: RuntimeWarning: overflow encountered in exp\n",
      "  data = [nlive, np.exp(logl), np.exp(logwt), np.exp(logz)]\n",
      "/home/hemantakumar.phurailatpam/anaconda3/envs/bilby/lib/python3.6/site-packages/dynesty/plotting.py:203: RuntimeWarning: overflow encountered in exp\n",
      "  zspan = (0., 1.05 * np.exp(logz[-1] + 3. * logzerr[-1]))\n",
      "21:00 bilby WARNING : Axis limits cannot be NaN or Inf\n",
      "21:00 bilby WARNING : Failed to create dynesty run plot at checkpoint\n"
     ]
    },
    {
     "name": "stdout",
     "output_type": "stream",
     "text": [
      "3594it [32:00,  8.35s/it, bound:9 nc:201 ncall:4.1e+04 eff:8.7% logz-ratio=111.75+/-0.12 dlogz:923.327>0.1] "
     ]
    },
    {
     "name": "stderr",
     "output_type": "stream",
     "text": [
      "21:11 bilby INFO    : Written checkpoint file outdir/eccentric_GW140914_resume.pickle\n",
      "/home/hemantakumar.phurailatpam/anaconda3/envs/bilby/lib/python3.6/site-packages/dynesty/plotting.py:179: RuntimeWarning: overflow encountered in exp\n",
      "  data = [nlive, np.exp(logl), np.exp(logwt), np.exp(logz)]\n",
      "/home/hemantakumar.phurailatpam/anaconda3/envs/bilby/lib/python3.6/site-packages/dynesty/plotting.py:203: RuntimeWarning: overflow encountered in exp\n",
      "  zspan = (0., 1.05 * np.exp(logz[-1] + 3. * logzerr[-1]))\n",
      "21:11 bilby WARNING : Axis limits cannot be NaN or Inf\n",
      "21:11 bilby WARNING : Failed to create dynesty run plot at checkpoint\n"
     ]
    },
    {
     "name": "stdout",
     "output_type": "stream",
     "text": [
      "3648it [42:30, 11.74s/it, bound:27 nc:196 ncall:5.5e+04 eff:6.7% logz-ratio=116.84+/-0.12 dlogz:918.223>0.1]"
     ]
    },
    {
     "name": "stderr",
     "output_type": "stream",
     "text": [
      "21:21 bilby INFO    : Written checkpoint file outdir/eccentric_GW140914_resume.pickle\n",
      "/home/hemantakumar.phurailatpam/anaconda3/envs/bilby/lib/python3.6/site-packages/dynesty/plotting.py:179: RuntimeWarning: overflow encountered in exp\n",
      "  data = [nlive, np.exp(logl), np.exp(logwt), np.exp(logz)]\n",
      "/home/hemantakumar.phurailatpam/anaconda3/envs/bilby/lib/python3.6/site-packages/dynesty/plotting.py:203: RuntimeWarning: overflow encountered in exp\n",
      "  zspan = (0., 1.05 * np.exp(logz[-1] + 3. * logzerr[-1]))\n",
      "21:22 bilby WARNING : Axis limits cannot be NaN or Inf\n",
      "21:22 bilby WARNING : Failed to create dynesty run plot at checkpoint\n"
     ]
    },
    {
     "name": "stdout",
     "output_type": "stream",
     "text": [
      "3696it [53:05, 14.09s/it, bound:45 nc:300 ncall:6.8e+04 eff:5.4% logz-ratio=122.47+/-0.12 dlogz:912.539>0.1]"
     ]
    },
    {
     "name": "stderr",
     "output_type": "stream",
     "text": [
      "21:32 bilby INFO    : Written checkpoint file outdir/eccentric_GW140914_resume.pickle\n",
      "/home/hemantakumar.phurailatpam/anaconda3/envs/bilby/lib/python3.6/site-packages/dynesty/plotting.py:179: RuntimeWarning: overflow encountered in exp\n",
      "  data = [nlive, np.exp(logl), np.exp(logwt), np.exp(logz)]\n",
      "/home/hemantakumar.phurailatpam/anaconda3/envs/bilby/lib/python3.6/site-packages/dynesty/plotting.py:203: RuntimeWarning: overflow encountered in exp\n",
      "  zspan = (0., 1.05 * np.exp(logz[-1] + 3. * logzerr[-1]))\n",
      "21:32 bilby WARNING : Axis limits cannot be NaN or Inf\n",
      "21:32 bilby WARNING : Failed to create dynesty run plot at checkpoint\n"
     ]
    },
    {
     "name": "stdout",
     "output_type": "stream",
     "text": [
      "3749it [1:03:25, 10.81s/it, bound:62 nc:243 ncall:8.2e+04 eff:4.6% logz-ratio=127.15+/-0.12 dlogz:907.758>0.1]"
     ]
    },
    {
     "name": "stderr",
     "output_type": "stream",
     "text": [
      "21:42 bilby INFO    : Written checkpoint file outdir/eccentric_GW140914_resume.pickle\n",
      "/home/hemantakumar.phurailatpam/anaconda3/envs/bilby/lib/python3.6/site-packages/dynesty/plotting.py:179: RuntimeWarning: overflow encountered in exp\n",
      "  data = [nlive, np.exp(logl), np.exp(logwt), np.exp(logz)]\n",
      "/home/hemantakumar.phurailatpam/anaconda3/envs/bilby/lib/python3.6/site-packages/dynesty/plotting.py:203: RuntimeWarning: overflow encountered in exp\n",
      "  zspan = (0., 1.05 * np.exp(logz[-1] + 3. * logzerr[-1]))\n",
      "21:42 bilby WARNING : Axis limits cannot be NaN or Inf\n",
      "21:42 bilby WARNING : Failed to create dynesty run plot at checkpoint\n"
     ]
    },
    {
     "name": "stdout",
     "output_type": "stream",
     "text": [
      "3817it [1:13:47,  8.49s/it, bound:81 nc:180 ncall:9.5e+04 eff:4.0% logz-ratio=133.57+/-0.12 dlogz:901.276>0.1]"
     ]
    },
    {
     "name": "stderr",
     "output_type": "stream",
     "text": [
      "21:53 bilby INFO    : Written checkpoint file outdir/eccentric_GW140914_resume.pickle\n",
      "/home/hemantakumar.phurailatpam/anaconda3/envs/bilby/lib/python3.6/site-packages/dynesty/plotting.py:179: RuntimeWarning: overflow encountered in exp\n",
      "  data = [nlive, np.exp(logl), np.exp(logwt), np.exp(logz)]\n",
      "/home/hemantakumar.phurailatpam/anaconda3/envs/bilby/lib/python3.6/site-packages/dynesty/plotting.py:203: RuntimeWarning: overflow encountered in exp\n",
      "  zspan = (0., 1.05 * np.exp(logz[-1] + 3. * logzerr[-1]))\n",
      "21:53 bilby WARNING : Axis limits cannot be NaN or Inf\n",
      "21:53 bilby WARNING : Failed to create dynesty run plot at checkpoint\n"
     ]
    },
    {
     "name": "stdout",
     "output_type": "stream",
     "text": [
      "3902it [1:24:02,  6.80s/it, bound:100 nc:124 ncall:1.1e+05 eff:3.6% logz-ratio=141.83+/-0.12 dlogz:892.929>0.1]"
     ]
    },
    {
     "name": "stderr",
     "output_type": "stream",
     "text": [
      "22:03 bilby INFO    : Written checkpoint file outdir/eccentric_GW140914_resume.pickle\n",
      "/home/hemantakumar.phurailatpam/anaconda3/envs/bilby/lib/python3.6/site-packages/dynesty/plotting.py:179: RuntimeWarning: overflow encountered in exp\n",
      "  data = [nlive, np.exp(logl), np.exp(logwt), np.exp(logz)]\n",
      "/home/hemantakumar.phurailatpam/anaconda3/envs/bilby/lib/python3.6/site-packages/dynesty/plotting.py:203: RuntimeWarning: overflow encountered in exp\n",
      "  zspan = (0., 1.05 * np.exp(logz[-1] + 3. * logzerr[-1]))\n",
      "22:03 bilby WARNING : Axis limits cannot be NaN or Inf\n",
      "22:03 bilby WARNING : Failed to create dynesty run plot at checkpoint\n"
     ]
    },
    {
     "name": "stdout",
     "output_type": "stream",
     "text": [
      "4001it [1:34:41,  6.38s/it, bound:121 nc:143 ncall:1.2e+05 eff:3.3% logz-ratio=152.29+/-0.12 dlogz:950.357>0.1]"
     ]
    },
    {
     "name": "stderr",
     "output_type": "stream",
     "text": [
      "22:14 bilby INFO    : Written checkpoint file outdir/eccentric_GW140914_resume.pickle\n",
      "/home/hemantakumar.phurailatpam/anaconda3/envs/bilby/lib/python3.6/site-packages/dynesty/plotting.py:675: UserWarning: Attempting to set identical bottom == top == 0.0 results in singular transformations; automatically expanding.\n",
      "  ax.set_ylim([0., max(y0) * 1.05])\n",
      "/home/hemantakumar.phurailatpam/anaconda3/envs/bilby/lib/python3.6/site-packages/dynesty/plotting.py:179: RuntimeWarning: overflow encountered in exp\n",
      "  data = [nlive, np.exp(logl), np.exp(logwt), np.exp(logz)]\n",
      "/home/hemantakumar.phurailatpam/anaconda3/envs/bilby/lib/python3.6/site-packages/dynesty/plotting.py:203: RuntimeWarning: overflow encountered in exp\n",
      "  zspan = (0., 1.05 * np.exp(logz[-1] + 3. * logzerr[-1]))\n",
      "22:14 bilby WARNING : Axis limits cannot be NaN or Inf\n",
      "22:14 bilby WARNING : Failed to create dynesty run plot at checkpoint\n"
     ]
    },
    {
     "name": "stdout",
     "output_type": "stream",
     "text": [
      "4111it [1:45:21,  5.57s/it, bound:141 nc:101 ncall:1.4e+05 eff:3.0% logz-ratio=163.85+/-0.12 dlogz:938.661>0.1]"
     ]
    },
    {
     "name": "stderr",
     "output_type": "stream",
     "text": [
      "22:24 bilby INFO    : Written checkpoint file outdir/eccentric_GW140914_resume.pickle\n",
      "/home/hemantakumar.phurailatpam/anaconda3/envs/bilby/lib/python3.6/site-packages/dynesty/plotting.py:675: UserWarning: Attempting to set identical bottom == top == 0.0 results in singular transformations; automatically expanding.\n",
      "  ax.set_ylim([0., max(y0) * 1.05])\n",
      "/home/hemantakumar.phurailatpam/anaconda3/envs/bilby/lib/python3.6/site-packages/dynesty/plotting.py:179: RuntimeWarning: overflow encountered in exp\n",
      "  data = [nlive, np.exp(logl), np.exp(logwt), np.exp(logz)]\n",
      "/home/hemantakumar.phurailatpam/anaconda3/envs/bilby/lib/python3.6/site-packages/dynesty/plotting.py:203: RuntimeWarning: overflow encountered in exp\n",
      "  zspan = (0., 1.05 * np.exp(logz[-1] + 3. * logzerr[-1]))\n",
      "22:24 bilby WARNING : Axis limits cannot be NaN or Inf\n",
      "22:24 bilby WARNING : Failed to create dynesty run plot at checkpoint\n"
     ]
    },
    {
     "name": "stdout",
     "output_type": "stream",
     "text": [
      "4230it [1:56:14,  5.98s/it, bound:162 nc:129 ncall:1.5e+05 eff:2.8% logz-ratio=175.07+/-0.12 dlogz:927.336>0.1]"
     ]
    },
    {
     "name": "stderr",
     "output_type": "stream",
     "text": [
      "22:35 bilby INFO    : Written checkpoint file outdir/eccentric_GW140914_resume.pickle\n",
      "/home/hemantakumar.phurailatpam/anaconda3/envs/bilby/lib/python3.6/site-packages/dynesty/plotting.py:675: UserWarning: Attempting to set identical bottom == top == 0.0 results in singular transformations; automatically expanding.\n",
      "  ax.set_ylim([0., max(y0) * 1.05])\n",
      "/home/hemantakumar.phurailatpam/anaconda3/envs/bilby/lib/python3.6/site-packages/dynesty/plotting.py:179: RuntimeWarning: overflow encountered in exp\n",
      "  data = [nlive, np.exp(logl), np.exp(logwt), np.exp(logz)]\n",
      "/home/hemantakumar.phurailatpam/anaconda3/envs/bilby/lib/python3.6/site-packages/dynesty/plotting.py:203: RuntimeWarning: overflow encountered in exp\n",
      "  zspan = (0., 1.05 * np.exp(logz[-1] + 3. * logzerr[-1]))\n",
      "22:35 bilby WARNING : Axis limits cannot be NaN or Inf\n",
      "22:35 bilby WARNING : Failed to create dynesty run plot at checkpoint\n"
     ]
    },
    {
     "name": "stdout",
     "output_type": "stream",
     "text": [
      "4348it [2:06:55,  5.14s/it, bound:183 nc:101 ncall:1.6e+05 eff:2.7% logz-ratio=186.58+/-0.13 dlogz:1072.579>0.1]"
     ]
    },
    {
     "name": "stderr",
     "output_type": "stream",
     "text": [
      "22:46 bilby INFO    : Written checkpoint file outdir/eccentric_GW140914_resume.pickle\n",
      "/home/hemantakumar.phurailatpam/anaconda3/envs/bilby/lib/python3.6/site-packages/dynesty/plotting.py:179: RuntimeWarning: overflow encountered in exp\n",
      "  data = [nlive, np.exp(logl), np.exp(logwt), np.exp(logz)]\n",
      "/home/hemantakumar.phurailatpam/anaconda3/envs/bilby/lib/python3.6/site-packages/dynesty/plotting.py:203: RuntimeWarning: overflow encountered in exp\n",
      "  zspan = (0., 1.05 * np.exp(logz[-1] + 3. * logzerr[-1]))\n",
      "22:46 bilby WARNING : Axis limits cannot be NaN or Inf\n",
      "22:46 bilby WARNING : Failed to create dynesty run plot at checkpoint\n"
     ]
    },
    {
     "name": "stdout",
     "output_type": "stream",
     "text": [
      "4469it [2:17:41,  5.25s/it, bound:204 nc:101 ncall:1.8e+05 eff:2.5% logz-ratio=198.63+/-0.13 dlogz:1060.414>0.1]"
     ]
    },
    {
     "name": "stderr",
     "output_type": "stream",
     "text": [
      "22:57 bilby INFO    : Written checkpoint file outdir/eccentric_GW140914_resume.pickle\n",
      "/home/hemantakumar.phurailatpam/anaconda3/envs/bilby/lib/python3.6/site-packages/dynesty/plotting.py:179: RuntimeWarning: overflow encountered in exp\n",
      "  data = [nlive, np.exp(logl), np.exp(logwt), np.exp(logz)]\n",
      "/home/hemantakumar.phurailatpam/anaconda3/envs/bilby/lib/python3.6/site-packages/dynesty/plotting.py:203: RuntimeWarning: overflow encountered in exp\n",
      "  zspan = (0., 1.05 * np.exp(logz[-1] + 3. * logzerr[-1]))\n",
      "22:57 bilby WARNING : Axis limits cannot be NaN or Inf\n",
      "22:57 bilby WARNING : Failed to create dynesty run plot at checkpoint\n"
     ]
    },
    {
     "name": "stdout",
     "output_type": "stream",
     "text": [
      "4596it [2:28:21,  4.84s/it, bound:225 nc:101 ncall:1.9e+05 eff:2.4% logz-ratio=212.27+/-0.13 dlogz:1046.658>0.1]"
     ]
    },
    {
     "name": "stderr",
     "output_type": "stream",
     "text": [
      "23:07 bilby INFO    : Written checkpoint file outdir/eccentric_GW140914_resume.pickle\n",
      "23:07 bilby WARNING : singular matrix\n",
      "23:07 bilby WARNING : Failed to create dynesty state plot at checkpoint\n",
      "/home/hemantakumar.phurailatpam/anaconda3/envs/bilby/lib/python3.6/site-packages/dynesty/plotting.py:179: RuntimeWarning: overflow encountered in exp\n",
      "  data = [nlive, np.exp(logl), np.exp(logwt), np.exp(logz)]\n",
      "/home/hemantakumar.phurailatpam/anaconda3/envs/bilby/lib/python3.6/site-packages/dynesty/plotting.py:203: RuntimeWarning: overflow encountered in exp\n",
      "  zspan = (0., 1.05 * np.exp(logz[-1] + 3. * logzerr[-1]))\n",
      "23:07 bilby WARNING : Axis limits cannot be NaN or Inf\n",
      "23:07 bilby WARNING : Failed to create dynesty run plot at checkpoint\n"
     ]
    },
    {
     "name": "stdout",
     "output_type": "stream",
     "text": [
      "4724it [2:38:47,  4.87s/it, bound:247 nc:101 ncall:2.0e+05 eff:2.3% logz-ratio=224.40+/-0.13 dlogz:1034.386>0.1]"
     ]
    },
    {
     "name": "stderr",
     "output_type": "stream",
     "text": [
      "23:18 bilby INFO    : Written checkpoint file outdir/eccentric_GW140914_resume.pickle\n",
      "/home/hemantakumar.phurailatpam/anaconda3/envs/bilby/lib/python3.6/site-packages/dynesty/plotting.py:179: RuntimeWarning: overflow encountered in exp\n",
      "  data = [nlive, np.exp(logl), np.exp(logwt), np.exp(logz)]\n",
      "/home/hemantakumar.phurailatpam/anaconda3/envs/bilby/lib/python3.6/site-packages/dynesty/plotting.py:203: RuntimeWarning: overflow encountered in exp\n",
      "  zspan = (0., 1.05 * np.exp(logz[-1] + 3. * logzerr[-1]))\n",
      "23:18 bilby WARNING : Axis limits cannot be NaN or Inf\n",
      "23:18 bilby WARNING : Failed to create dynesty run plot at checkpoint\n"
     ]
    },
    {
     "name": "stdout",
     "output_type": "stream",
     "text": [
      "4854it [2:49:10,  4.68s/it, bound:268 nc:101 ncall:2.2e+05 eff:2.2% logz-ratio=239.15+/-0.13 dlogz:1019.532>0.1]"
     ]
    },
    {
     "name": "stderr",
     "output_type": "stream",
     "text": [
      "23:28 bilby INFO    : Written checkpoint file outdir/eccentric_GW140914_resume.pickle\n",
      "/home/hemantakumar.phurailatpam/anaconda3/envs/bilby/lib/python3.6/site-packages/dynesty/plotting.py:179: RuntimeWarning: overflow encountered in exp\n",
      "  data = [nlive, np.exp(logl), np.exp(logwt), np.exp(logz)]\n",
      "/home/hemantakumar.phurailatpam/anaconda3/envs/bilby/lib/python3.6/site-packages/dynesty/plotting.py:203: RuntimeWarning: overflow encountered in exp\n",
      "  zspan = (0., 1.05 * np.exp(logz[-1] + 3. * logzerr[-1]))\n",
      "23:28 bilby WARNING : Axis limits cannot be NaN or Inf\n",
      "23:28 bilby WARNING : Failed to create dynesty run plot at checkpoint\n"
     ]
    },
    {
     "name": "stdout",
     "output_type": "stream",
     "text": [
      "4984it [2:59:40,  4.74s/it, bound:290 nc:101 ncall:2.3e+05 eff:2.2% logz-ratio=252.25+/-0.13 dlogz:1489.028>0.1]"
     ]
    },
    {
     "name": "stderr",
     "output_type": "stream",
     "text": [
      "23:39 bilby INFO    : Written checkpoint file outdir/eccentric_GW140914_resume.pickle\n",
      "/home/hemantakumar.phurailatpam/anaconda3/envs/bilby/lib/python3.6/site-packages/dynesty/plotting.py:675: UserWarning: Attempting to set identical bottom == top == 0.0 results in singular transformations; automatically expanding.\n",
      "  ax.set_ylim([0., max(y0) * 1.05])\n",
      "/home/hemantakumar.phurailatpam/anaconda3/envs/bilby/lib/python3.6/site-packages/dynesty/plotting.py:179: RuntimeWarning: overflow encountered in exp\n",
      "  data = [nlive, np.exp(logl), np.exp(logwt), np.exp(logz)]\n",
      "/home/hemantakumar.phurailatpam/anaconda3/envs/bilby/lib/python3.6/site-packages/dynesty/plotting.py:203: RuntimeWarning: overflow encountered in exp\n",
      "  zspan = (0., 1.05 * np.exp(logz[-1] + 3. * logzerr[-1]))\n",
      "23:39 bilby WARNING : Axis limits cannot be NaN or Inf\n",
      "23:39 bilby WARNING : Failed to create dynesty run plot at checkpoint\n"
     ]
    },
    {
     "name": "stdout",
     "output_type": "stream",
     "text": [
      "5113it [3:09:56,  4.68s/it, bound:312 nc:101 ncall:2.4e+05 eff:2.1% logz-ratio=268.60+/-0.13 dlogz:1472.543>0.1]"
     ]
    },
    {
     "name": "stderr",
     "output_type": "stream",
     "text": [
      "23:49 bilby INFO    : Written checkpoint file outdir/eccentric_GW140914_resume.pickle\n",
      "23:49 bilby WARNING : singular matrix\n",
      "23:49 bilby WARNING : Failed to create dynesty state plot at checkpoint\n",
      "/home/hemantakumar.phurailatpam/anaconda3/envs/bilby/lib/python3.6/site-packages/dynesty/plotting.py:179: RuntimeWarning: overflow encountered in exp\n",
      "  data = [nlive, np.exp(logl), np.exp(logwt), np.exp(logz)]\n",
      "23:49 bilby WARNING : singular matrix\n",
      "23:49 bilby WARNING : Failed to create dynesty run plot at checkpoint\n"
     ]
    },
    {
     "name": "stdout",
     "output_type": "stream",
     "text": [
      "5242it [3:20:08,  4.66s/it, bound:333 nc:101 ncall:2.6e+05 eff:2.0% logz-ratio=281.65+/-0.13 dlogz:1477.855>0.1]"
     ]
    },
    {
     "name": "stderr",
     "output_type": "stream",
     "text": [
      "23:59 bilby INFO    : Written checkpoint file outdir/eccentric_GW140914_resume.pickle\n",
      "23:59 bilby WARNING : singular matrix\n",
      "23:59 bilby WARNING : Failed to create dynesty state plot at checkpoint\n",
      "/home/hemantakumar.phurailatpam/anaconda3/envs/bilby/lib/python3.6/site-packages/dynesty/plotting.py:179: RuntimeWarning: overflow encountered in exp\n",
      "  data = [nlive, np.exp(logl), np.exp(logwt), np.exp(logz)]\n",
      "23:59 bilby WARNING : singular matrix\n",
      "23:59 bilby WARNING : Failed to create dynesty run plot at checkpoint\n"
     ]
    },
    {
     "name": "stdout",
     "output_type": "stream",
     "text": [
      "5372it [3:30:20,  4.66s/it, bound:355 nc:101 ncall:2.7e+05 eff:2.0% logz-ratio=293.44+/-0.13 dlogz:1465.945>0.1]"
     ]
    },
    {
     "name": "stderr",
     "output_type": "stream",
     "text": [
      "00:09 bilby INFO    : Written checkpoint file outdir/eccentric_GW140914_resume.pickle\n",
      "/home/hemantakumar.phurailatpam/anaconda3/envs/bilby/lib/python3.6/site-packages/dynesty/plotting.py:675: UserWarning: Attempting to set identical bottom == top == 0.0 results in singular transformations; automatically expanding.\n",
      "  ax.set_ylim([0., max(y0) * 1.05])\n",
      "/home/hemantakumar.phurailatpam/anaconda3/envs/bilby/lib/python3.6/site-packages/dynesty/plotting.py:179: RuntimeWarning: overflow encountered in exp\n",
      "  data = [nlive, np.exp(logl), np.exp(logwt), np.exp(logz)]\n",
      "/home/hemantakumar.phurailatpam/anaconda3/envs/bilby/lib/python3.6/site-packages/dynesty/plotting.py:203: RuntimeWarning: overflow encountered in exp\n",
      "  zspan = (0., 1.05 * np.exp(logz[-1] + 3. * logzerr[-1]))\n",
      "00:09 bilby WARNING : Axis limits cannot be NaN or Inf\n",
      "00:09 bilby WARNING : Failed to create dynesty run plot at checkpoint\n"
     ]
    },
    {
     "name": "stdout",
     "output_type": "stream",
     "text": [
      "5502it [3:40:36,  4.67s/it, bound:377 nc:101 ncall:2.8e+05 eff:1.9% logz-ratio=310.06+/-0.13 dlogz:1449.192>0.1]"
     ]
    },
    {
     "name": "stderr",
     "output_type": "stream",
     "text": [
      "00:20 bilby INFO    : Written checkpoint file outdir/eccentric_GW140914_resume.pickle\n",
      "/home/hemantakumar.phurailatpam/anaconda3/envs/bilby/lib/python3.6/site-packages/dynesty/plotting.py:675: UserWarning: Attempting to set identical bottom == top == 0.0 results in singular transformations; automatically expanding.\n",
      "  ax.set_ylim([0., max(y0) * 1.05])\n",
      "/home/hemantakumar.phurailatpam/anaconda3/envs/bilby/lib/python3.6/site-packages/dynesty/plotting.py:179: RuntimeWarning: overflow encountered in exp\n",
      "  data = [nlive, np.exp(logl), np.exp(logwt), np.exp(logz)]\n",
      "/home/hemantakumar.phurailatpam/anaconda3/envs/bilby/lib/python3.6/site-packages/dynesty/plotting.py:203: RuntimeWarning: overflow encountered in exp\n",
      "  zspan = (0., 1.05 * np.exp(logz[-1] + 3. * logzerr[-1]))\n",
      "00:20 bilby WARNING : Axis limits cannot be NaN or Inf\n",
      "00:20 bilby WARNING : Failed to create dynesty run plot at checkpoint\n"
     ]
    },
    {
     "name": "stdout",
     "output_type": "stream",
     "text": [
      "5630it [3:50:51,  4.66s/it, bound:398 nc:101 ncall:3.0e+05 eff:1.9% logz-ratio=323.66+/-0.13 dlogz:1435.458>0.1]"
     ]
    },
    {
     "name": "stderr",
     "output_type": "stream",
     "text": [
      "00:30 bilby INFO    : Written checkpoint file outdir/eccentric_GW140914_resume.pickle\n",
      "/home/hemantakumar.phurailatpam/anaconda3/envs/bilby/lib/python3.6/site-packages/dynesty/plotting.py:675: UserWarning: Attempting to set identical bottom == top == 0.0 results in singular transformations; automatically expanding.\n",
      "  ax.set_ylim([0., max(y0) * 1.05])\n",
      "/home/hemantakumar.phurailatpam/anaconda3/envs/bilby/lib/python3.6/site-packages/dynesty/plotting.py:179: RuntimeWarning: overflow encountered in exp\n",
      "  data = [nlive, np.exp(logl), np.exp(logwt), np.exp(logz)]\n",
      "/home/hemantakumar.phurailatpam/anaconda3/envs/bilby/lib/python3.6/site-packages/dynesty/plotting.py:203: RuntimeWarning: overflow encountered in exp\n",
      "  zspan = (0., 1.05 * np.exp(logz[-1] + 3. * logzerr[-1]))\n",
      "00:30 bilby WARNING : Axis limits cannot be NaN or Inf\n",
      "00:30 bilby WARNING : Failed to create dynesty run plot at checkpoint\n"
     ]
    },
    {
     "name": "stdout",
     "output_type": "stream",
     "text": [
      "5760it [4:01:05,  4.66s/it, bound:420 nc:101 ncall:3.1e+05 eff:1.9% logz-ratio=339.26+/-0.14 dlogz:1419.777>0.1]"
     ]
    },
    {
     "name": "stderr",
     "output_type": "stream",
     "text": [
      "00:40 bilby INFO    : Written checkpoint file outdir/eccentric_GW140914_resume.pickle\n",
      "/home/hemantakumar.phurailatpam/anaconda3/envs/bilby/lib/python3.6/site-packages/dynesty/plotting.py:675: UserWarning: Attempting to set identical bottom == top == 0.0 results in singular transformations; automatically expanding.\n",
      "  ax.set_ylim([0., max(y0) * 1.05])\n",
      "/home/hemantakumar.phurailatpam/anaconda3/envs/bilby/lib/python3.6/site-packages/dynesty/plotting.py:179: RuntimeWarning: overflow encountered in exp\n",
      "  data = [nlive, np.exp(logl), np.exp(logwt), np.exp(logz)]\n",
      "/home/hemantakumar.phurailatpam/anaconda3/envs/bilby/lib/python3.6/site-packages/dynesty/plotting.py:203: RuntimeWarning: overflow encountered in exp\n",
      "  zspan = (0., 1.05 * np.exp(logz[-1] + 3. * logzerr[-1]))\n",
      "00:40 bilby WARNING : Axis limits cannot be NaN or Inf\n",
      "00:40 bilby WARNING : Failed to create dynesty run plot at checkpoint\n"
     ]
    },
    {
     "name": "stdout",
     "output_type": "stream",
     "text": [
      "5890it [4:11:20,  4.68s/it, bound:442 nc:101 ncall:3.2e+05 eff:1.8% logz-ratio=355.88+/-0.14 dlogz:1403.001>0.1]"
     ]
    },
    {
     "name": "stderr",
     "output_type": "stream",
     "text": [
      "00:50 bilby INFO    : Written checkpoint file outdir/eccentric_GW140914_resume.pickle\n",
      "/home/hemantakumar.phurailatpam/anaconda3/envs/bilby/lib/python3.6/site-packages/dynesty/plotting.py:675: UserWarning: Attempting to set identical bottom == top == 0.0 results in singular transformations; automatically expanding.\n",
      "  ax.set_ylim([0., max(y0) * 1.05])\n",
      "/home/hemantakumar.phurailatpam/anaconda3/envs/bilby/lib/python3.6/site-packages/dynesty/plotting.py:179: RuntimeWarning: overflow encountered in exp\n",
      "  data = [nlive, np.exp(logl), np.exp(logwt), np.exp(logz)]\n",
      "/home/hemantakumar.phurailatpam/anaconda3/envs/bilby/lib/python3.6/site-packages/dynesty/plotting.py:203: RuntimeWarning: overflow encountered in exp\n",
      "  zspan = (0., 1.05 * np.exp(logz[-1] + 3. * logzerr[-1]))\n",
      "00:50 bilby WARNING : Axis limits cannot be NaN or Inf\n",
      "00:50 bilby WARNING : Failed to create dynesty run plot at checkpoint\n"
     ]
    },
    {
     "name": "stdout",
     "output_type": "stream",
     "text": [
      "5978it [4:18:20,  4.67s/it, bound:456 nc:101 ncall:3.3e+05 eff:1.8% logz-ratio=365.62+/-0.14 dlogz:1524.612>0.1]"
     ]
    },
    {
     "name": "stderr",
     "output_type": "stream",
     "text": [
      "00:57 bilby INFO    : Run interrupted by signal 2: checkpoint and exit on 130\n",
      "00:57 bilby INFO    : Written checkpoint file outdir/eccentric_GW140914_resume.pickle\n"
     ]
    }
   ],
   "source": [
    "# Now we run sampler (PyMultiNest in our case).\n",
    "result = bilby.run_sampler(\n",
    "    likelihood=likelihood, priors=priors, sampler='dynesty', npoints=1000,\n",
    "    injection_parameters=injection_parameters, outdir=outdir, label=label)\n"
   ]
  },
  {
   "cell_type": "code",
   "execution_count": null,
   "metadata": {},
   "outputs": [],
   "source": []
  }
 ],
 "metadata": {
  "kernelspec": {
   "display_name": "Python 3",
   "language": "python",
   "name": "python3"
  },
  "language_info": {
   "codemirror_mode": {
    "name": "ipython",
    "version": 3
   },
   "file_extension": ".py",
   "mimetype": "text/x-python",
   "name": "python",
   "nbconvert_exporter": "python",
   "pygments_lexer": "ipython3",
   "version": "3.6.12"
  }
 },
 "nbformat": 4,
 "nbformat_minor": 4
}
