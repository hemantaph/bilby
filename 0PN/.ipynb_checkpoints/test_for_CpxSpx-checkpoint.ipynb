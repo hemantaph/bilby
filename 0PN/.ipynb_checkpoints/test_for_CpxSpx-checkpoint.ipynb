{
 "cells": [
  {
   "cell_type": "code",
   "execution_count": 1,
   "metadata": {},
   "outputs": [],
   "source": [
    "import numpy as np\n",
    "import sympy as sp\n",
    "import matplotlib.pyplot as plt\n",
    "import hphc6\n",
    "import hphc5\n",
    "import h0CpxSpx5\n",
    "import h05CpxSpx5\n",
    "import h1CpxSpx5\n",
    "\n",
    "C = 299792458.\n",
    "G = 6.67408*1e-11\n",
    "Mo = 1.989*1e30\n",
    "Mpc = 3.086*1e22"
   ]
  },
  {
   "cell_type": "code",
   "execution_count": 2,
   "metadata": {},
   "outputs": [],
   "source": [
    "m1 = 10.\n",
    "m2 = 10.\n",
    "M = m1+m2\n",
    "eta = (m1*m2)/(M**2)"
   ]
  },
  {
   "cell_type": "code",
   "execution_count": 3,
   "metadata": {},
   "outputs": [],
   "source": [
    "test2 = np.array([1,2,3])\n",
    "test3 = np.array([1,2,3])"
   ]
  },
  {
   "cell_type": "code",
   "execution_count": 14,
   "metadata": {
    "scrolled": true
   },
   "outputs": [
    {
     "ename": "IndexError",
     "evalue": "index 3 is out of bounds for axis 0 with size 3",
     "output_type": "error",
     "traceback": [
      "\u001b[0;31m---------------------------------------------------------------------------\u001b[0m",
      "\u001b[0;31mIndexError\u001b[0m                                Traceback (most recent call last)",
      "\u001b[0;32m<ipython-input-14-d4d5ad64a246>\u001b[0m in \u001b[0;36m<module>\u001b[0;34m\u001b[0m\n\u001b[0;32m----> 1\u001b[0;31m \u001b[0mtest2\u001b[0m\u001b[0;34m[\u001b[0m\u001b[0mtest3\u001b[0m\u001b[0;34m]\u001b[0m\u001b[0;34m*\u001b[0m\u001b[0mtest3\u001b[0m\u001b[0;34m\u001b[0m\u001b[0;34m\u001b[0m\u001b[0m\n\u001b[0m",
      "\u001b[0;31mIndexError\u001b[0m: index 3 is out of bounds for axis 0 with size 3"
     ]
    }
   ],
   "source": [
    "test2[test3]*test3"
   ]
  },
  {
   "cell_type": "code",
   "execution_count": 3,
   "metadata": {},
   "outputs": [],
   "source": [
    "arg_plus = {'iota_':sp.pi/3, 'beta_':sp.pi/3, 'D_':100. , 'm1_':10., 'm2_':10., 'f_':100., 'f0_':20., 'Fp_':1.0, 'Fc_':0.0, 'et0_':0.1, 'phic_':0., 'tc_':0.}\n",
    "fplus = hphc6.Fn(**arg_plus)\n",
    "fplus2 = hphc5.Fn(**arg_plus)"
   ]
  },
  {
   "cell_type": "code",
   "execution_count": 4,
   "metadata": {},
   "outputs": [
    {
     "data": {
      "text/plain": [
       "((9.783028823936337e-26+1.1906792357815857e-23j),\n",
       " (-9.563236670234012e-24+7.965976101526086e-26j))"
      ]
     },
     "execution_count": 4,
     "metadata": {},
     "output_type": "execute_result"
    }
   ],
   "source": [
    "fplus.test()"
   ]
  },
  {
   "cell_type": "code",
   "execution_count": 5,
   "metadata": {},
   "outputs": [
    {
     "data": {
      "text/plain": [
       "(-0.8721418387333502-2.344552968664381j)"
      ]
     },
     "execution_count": 5,
     "metadata": {},
     "output_type": "execute_result"
    }
   ],
   "source": [
    "fplus2.htilde1()"
   ]
  },
  {
   "cell_type": "code",
   "execution_count": 7,
   "metadata": {},
   "outputs": [
    {
     "data": {
      "text/plain": [
       "-2.120847137391284e-08"
      ]
     },
     "execution_count": 7,
     "metadata": {},
     "output_type": "execute_result"
    }
   ],
   "source": [
    "et = fplus2.eccn(1,2)\n",
    "fn = h0CpxSpx5.Fn(et,sp.pi/3,sp.pi/3)\n",
    "fn.ccross(1,2)"
   ]
  },
  {
   "cell_type": "code",
   "execution_count": 5,
   "metadata": {},
   "outputs": [
    {
     "name": "stdout",
     "output_type": "stream",
     "text": [
      "Execution took 0.2510\n"
     ]
    }
   ],
   "source": [
    "import time\n",
    "t0 = time.time()\n",
    "fplus.test()\n",
    "#fplus2.htilde()\n",
    "t1 = time.time()\n",
    "print('Execution took {:.4f}'.format(t1 - t0))"
   ]
  },
  {
   "cell_type": "code",
   "execution_count": 5,
   "metadata": {},
   "outputs": [
    {
     "name": "stdout",
     "output_type": "stream",
     "text": [
      "(-9.563236707058214e-24+7.965974785544314e-26j)\n",
      "Execution took 5.4276\n"
     ]
    }
   ],
   "source": [
    "import time\n",
    "t0 = time.time()\n",
    "print(fplus.htilde())\n",
    "t1 = time.time()\n",
    "print('Execution took {:.4f}'.format(t1 - t0))"
   ]
  },
  {
   "cell_type": "code",
   "execution_count": 7,
   "metadata": {},
   "outputs": [
    {
     "name": "stdout",
     "output_type": "stream",
     "text": [
      "Execution took 0.0179\n"
     ]
    }
   ],
   "source": [
    "import time\n",
    "t0 = time.time()\n",
    "et = fplus.eccn(1,2)\n",
    "fn = h05CpxSpx4.Fn(et,sp.pi/3,sp.pi/3)\n",
    "fn.cplus(1,2)\n",
    "t1 = time.time()\n",
    "print('Execution took {:.4f}'.format(t1 - t0))"
   ]
  },
  {
   "cell_type": "code",
   "execution_count": 16,
   "metadata": {},
   "outputs": [
    {
     "name": "stdout",
     "output_type": "stream",
     "text": [
      "2.430113800922941e-07 , 0.0055170314788476876\n",
      "1.5546428121964128e-08 , 0.010164039876179361\n",
      "1.0488859715430617e-09 , 0.01441331376393247\n",
      "3.0807129028019986e-11 , 0.01572215720769032\n",
      "0.0 , 0.016379140319968857\n",
      "0.0 , 0.016779961721317377\n",
      "0.0 , 0.017052124477030414\n",
      "0.0 , 0.01724994913866151\n",
      "0.0 , 0.01740070874052484\n",
      "0.0 , 0.01751967950472511\n"
     ]
    }
   ],
   "source": [
    "for i in range(10):\n",
    "    j=i+1\n",
    "    et = fplus.eccn(j,2)\n",
    "    fn = h1CpxSpx4.Fn(et,sp.pi/3,sp.pi/3,0.25)\n",
    "    print(fn.scross(j,2),',',et)"
   ]
  },
  {
   "cell_type": "code",
   "execution_count": 9,
   "metadata": {},
   "outputs": [],
   "source": [
    "mm=np.array([1,2,3])"
   ]
  },
  {
   "cell_type": "code",
   "execution_count": 12,
   "metadata": {},
   "outputs": [
    {
     "ename": "TypeError",
     "evalue": "can't convert complex to float",
     "output_type": "error",
     "traceback": [
      "\u001b[0;31m---------------------------------------------------------------------------\u001b[0m",
      "\u001b[0;31mTypeError\u001b[0m                                 Traceback (most recent call last)",
      "\u001b[0;32m<ipython-input-12-3c154155600a>\u001b[0m in \u001b[0;36m<module>\u001b[0;34m\u001b[0m\n\u001b[0;32m----> 1\u001b[0;31m \u001b[0mfloat\u001b[0m\u001b[0;34m(\u001b[0m\u001b[0;36m1j\u001b[0m\u001b[0;34m+\u001b[0m\u001b[0;36m1\u001b[0m\u001b[0;34m)\u001b[0m\u001b[0;34m\u001b[0m\u001b[0;34m\u001b[0m\u001b[0m\n\u001b[0m",
      "\u001b[0;31mTypeError\u001b[0m: can't convert complex to float"
     ]
    }
   ],
   "source": [
    "float(1j+1)"
   ]
  },
  {
   "cell_type": "code",
   "execution_count": 15,
   "metadata": {},
   "outputs": [
    {
     "name": "stdout",
     "output_type": "stream",
     "text": [
      "Execution took 5.1655\n"
     ]
    }
   ],
   "source": [
    "import time\n",
    "t0 = time.time()\n",
    "fplus.htilde()\n",
    "t1 = time.time()\n",
    "print('Execution took {:.4f}'.format(t1 - t0))"
   ]
  },
  {
   "cell_type": "code",
   "execution_count": 7,
   "metadata": {},
   "outputs": [
    {
     "data": {
      "text/plain": [
       "1.6867005329740134e-20"
      ]
     },
     "execution_count": 7,
     "metadata": {},
     "output_type": "execute_result"
    }
   ],
   "source": [
    "iota = np.pi/3\n",
    "beta = np.pi/3\n",
    "e = 0.014639220994070659\n",
    "e**4 * ( - (65/192)*np.sin(iota)*np.sin(3*beta) - 65/192*np.cos(iota)**2*np.sin(iota)*np.sin(3*beta)) + e**6 * ( - ((19*np.sin(iota)*np.sin(3*beta))/12288) - (19*np.cos(iota)**2*np.sin(iota)*np.sin(3*beta))/12288) + e**2 * (19/32*np.sin(iota)*np.sin(3*beta) + 19/32*np.cos(iota)**2*np.sin(iota)*np.sin(3*beta))"
   ]
  },
  {
   "cell_type": "code",
   "execution_count": 23,
   "metadata": {},
   "outputs": [
    {
     "data": {
      "text/plain": [
       "1.2246467991473532e-16"
      ]
     },
     "execution_count": 23,
     "metadata": {},
     "output_type": "execute_result"
    }
   ],
   "source": [
    "np.sin(np.pi-4e-22)"
   ]
  },
  {
   "cell_type": "code",
   "execution_count": 19,
   "metadata": {
    "scrolled": true
   },
   "outputs": [
    {
     "data": {
      "text/plain": [
       "1.2246467991473532e-16"
      ]
     },
     "execution_count": 19,
     "metadata": {},
     "output_type": "execute_result"
    }
   ],
   "source": [
    "np.sin(np.pi)"
   ]
  },
  {
   "cell_type": "code",
   "execution_count": 13,
   "metadata": {},
   "outputs": [],
   "source": [
    "Fp = 1.0\n",
    "Fc = 0.0\n",
    "Gamma_l = np.zeros((10,3))\n",
    "Sigma_l = np.zeros((10,3))\n",
    "for i in range(10):\n",
    "    for j in range(3):                                                                     \n",
    "        Gamma_l[i,j] = Fp*fn.cplus(i,j) + Fc*fn.ccross(i,j)\n",
    "        Sigma_l[i,j] = Fp*fn.splus(i,j) + Fc*fn.scross(i,j)"
   ]
  },
  {
   "cell_type": "code",
   "execution_count": 14,
   "metadata": {},
   "outputs": [
    {
     "data": {
      "text/plain": [
       "array([[ 4.13775787e-03, -5.17213174e-03, -1.53058958e-08],\n",
       "       [ 7.74781119e-05,  1.24967718e+00, -8.33819259e-10],\n",
       "       [ 2.52612336e-06,  4.05174471e-02, -4.64708571e-11],\n",
       "       [ 6.10889483e-08,  1.23516753e-03, -1.15372685e-12],\n",
       "       [ 1.43901584e-09,  3.57337728e-05,  0.00000000e+00],\n",
       "       [ 3.39025282e-11,  1.00256870e-06,  0.00000000e+00],\n",
       "       [ 0.00000000e+00,  2.76076541e-08,  0.00000000e+00],\n",
       "       [ 0.00000000e+00,  7.49418430e-10,  0.00000000e+00],\n",
       "       [ 0.00000000e+00,  0.00000000e+00,  0.00000000e+00],\n",
       "       [ 0.00000000e+00,  0.00000000e+00,  0.00000000e+00]])"
      ]
     },
     "execution_count": 14,
     "metadata": {},
     "output_type": "execute_result"
    }
   ],
   "source": [
    "Gamma_l"
   ]
  },
  {
   "cell_type": "code",
   "execution_count": 15,
   "metadata": {},
   "outputs": [
    {
     "data": {
      "text/plain": [
       "array([[ 0.00000000e+00,  8.95839495e-03, -2.65105892e-08],\n",
       "       [ 0.00000000e+00, -2.16450437e+00, -1.44421732e-09],\n",
       "       [ 0.00000000e+00, -7.01782769e-02, -8.04898857e-11],\n",
       "       [ 0.00000000e+00, -2.13937292e-03, -1.99831352e-12],\n",
       "       [ 0.00000000e+00, -6.18927101e-05,  0.00000000e+00],\n",
       "       [ 0.00000000e+00, -1.73649993e-06,  0.00000000e+00],\n",
       "       [ 0.00000000e+00, -4.78178595e-08,  0.00000000e+00],\n",
       "       [ 0.00000000e+00, -1.29803080e-09,  0.00000000e+00],\n",
       "       [ 0.00000000e+00,  0.00000000e+00,  0.00000000e+00],\n",
       "       [ 0.00000000e+00,  0.00000000e+00,  0.00000000e+00]])"
      ]
     },
     "execution_count": 15,
     "metadata": {},
     "output_type": "execute_result"
    }
   ],
   "source": [
    "Sigma_l"
   ]
  },
  {
   "cell_type": "code",
   "execution_count": null,
   "metadata": {},
   "outputs": [],
   "source": []
  }
 ],
 "metadata": {
  "kernelspec": {
   "display_name": "Python 3",
   "language": "python",
   "name": "python3"
  },
  "language_info": {
   "codemirror_mode": {
    "name": "ipython",
    "version": 3
   },
   "file_extension": ".py",
   "mimetype": "text/x-python",
   "name": "python",
   "nbconvert_exporter": "python",
   "pygments_lexer": "ipython3",
   "version": "3.7.7"
  }
 },
 "nbformat": 4,
 "nbformat_minor": 4
}
