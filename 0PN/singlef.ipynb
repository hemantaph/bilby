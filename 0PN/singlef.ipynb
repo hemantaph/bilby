{
 "cells": [
  {
   "cell_type": "code",
   "execution_count": 24,
   "metadata": {},
   "outputs": [],
   "source": [
    "import numpy as np\n",
    "import h0CpxSpx"
   ]
  },
  {
   "cell_type": "code",
   "execution_count": 25,
   "metadata": {},
   "outputs": [],
   "source": [
    "C = 299792458.0\n",
    "G = 6.67408*1e-11\n",
    "Mo = 1.989*1e30\n",
    "Mpc = 3.086*1e22\n",
    "\n",
    "D = 100.0*Mpc\n",
    "mass_1 = 10.0*Mo \n",
    "mass_2=10.0*Mo \n",
    "\n",
    "theta_jn=np.pi/3 \n",
    "psi=np.pi/3 \n",
    "phase=0.0 \n",
    "geocent_time=0.0 \n",
    "ra=1.375 \n",
    "dec=-1.2108\n",
    "\n",
    "f0 = 20.0\n",
    "f = 30.0\n",
    "et0 = 0.1\n",
    "\n",
    "Fp = 1.0\n",
    "Fx = 0.0\n",
    "\n",
    "iota = psi \n",
    "beta = theta_jn \n",
    "\n",
    "chi = f/f0"
   ]
  },
  {
   "cell_type": "code",
   "execution_count": 43,
   "metadata": {},
   "outputs": [],
   "source": [
    "et = et0**3*( - (3323/(1824*chi**(19/6))) + 3323/(1824*chi**(19/18)) ) + \\\n",
    "et0**5*( 50259743/(6653952*chi**(95/18)) - 11042329/(1108992*chi**(19/6)) + 15994231/(6653952*chi**(19/18)) ) + et0/chi**(19/18)"
   ]
  },
  {
   "cell_type": "code",
   "execution_count": 44,
   "metadata": {},
   "outputs": [
    {
     "name": "stdout",
     "output_type": "stream",
     "text": [
      "0.06586168041327033\n"
     ]
    }
   ],
   "source": [
    "print(et)"
   ]
  },
  {
   "cell_type": "code",
   "execution_count": 28,
   "metadata": {},
   "outputs": [],
   "source": [
    "fn = h0CpxSpx.Fn(et,iota,beta)"
   ]
  },
  {
   "cell_type": "code",
   "execution_count": 29,
   "metadata": {},
   "outputs": [],
   "source": [
    "#np.array([1,2,3])+np.array([1,2,3])"
   ]
  },
  {
   "cell_type": "code",
   "execution_count": 30,
   "metadata": {},
   "outputs": [],
   "source": [
    "Gamma_l = Fp*fn.cplus() + Fx*fn.ccross()\n",
    "Sigma_l = Fp*fn.splus() + Fx*fn.scross()\n",
    "\n",
    "al = np.sign(Gamma_l)*np.sqrt(Gamma_l**2 + Sigma_l**2)\n",
    "\n",
    "phil = np.zeros((10,3))\n",
    "for i in range(10):\n",
    "    for j in range(3):\n",
    "        if Gamma_l[i][j]==0:\n",
    "            phil[i][j] = -np.sign(Sigma_l[i][j])*np.pi/2 \n",
    "        else:\n",
    "            phil[i][j] = np.arctan(- (Sigma_l[i][j]/Gamma_l[i][j]))"
   ]
  },
  {
   "cell_type": "code",
   "execution_count": 31,
   "metadata": {},
   "outputs": [],
   "source": [
    "#print(Gamma_l,'\\n \\n',Sigma_l, '\\n \\n',al, '\\n \\n',phil)"
   ]
  },
  {
   "cell_type": "code",
   "execution_count": 46,
   "metadata": {},
   "outputs": [],
   "source": [
    "l = np.arange(1,11,1)\n",
    "phic = phase\n",
    "tc = geocent_time\n",
    "m1 = mass_1\n",
    "m2 = mass_2\n",
    "\n",
    "M = m1 + m2\n",
    "eta = (m1*m2)/(M**2)\n",
    "eto = et0\n",
    "chi = f/f0\n",
    "\n",
    "psi = l*phic - 2*np.pi*f*tc - 3/(128*eta) * ((G*M*np.pi*ff)/C**3)**(-5/3) * \\\n",
    "(l/2)**(8/3) *( 1 + eto**6 *( -(75356125/(3326976 *chi**(19/3)))+\\\n",
    "                             (17355248095/(455518464 *chi**(38/9)))-\\\n",
    "                             (1326481225/(101334144 *chi**(19/9))) ) + \\\n",
    "               eto**4 *( (5222765/(998944 *chi**(38/9))) - (2608555/(444448 *chi**(19/9))) ) - \\\n",
    "               (2355 *eto**2)/(1462 *chi**(19/9)) )"
   ]
  },
  {
   "cell_type": "code",
   "execution_count": 47,
   "metadata": {},
   "outputs": [
    {
     "name": "stdout",
     "output_type": "stream",
     "text": [
      "[  -1.29286255   -8.2091655   -24.20336231  -52.1249518   -94.50882586\n",
      " -153.6817712  -231.81798659 -330.97281326 -453.10520173 -600.09363838]\n"
     ]
    }
   ],
   "source": [
    "print(psi)"
   ]
  },
  {
   "cell_type": "code",
   "execution_count": 34,
   "metadata": {},
   "outputs": [],
   "source": [
    "numerator = (1-et**2)**(7/4)\n",
    "denomitor = ( 1 + (73/24)*et**2 + (37/96)*et**4 )**(1/2)\n",
    "xil = (numerator/denomitor)*al*np.exp(-1j*phil)"
   ]
  },
  {
   "cell_type": "code",
   "execution_count": 35,
   "metadata": {},
   "outputs": [],
   "source": [
    "#print(xil)"
   ]
  },
  {
   "cell_type": "code",
   "execution_count": 36,
   "metadata": {},
   "outputs": [],
   "source": [
    "ff = C**3/(G*M*np.pi*6**(3/2))\n",
    "def unitstep(lp):\n",
    "    if lp*ff-2*f>=0:\n",
    "        return(1)\n",
    "    else:\n",
    "        return(0)\n",
    "    \n",
    "def uniarray():\n",
    "    lx = np.arange(1,11,1)\n",
    "    for i in range(10):\n",
    "        lx[i] = unitstep(l[i])\n",
    "        \n",
    "    return(lx)"
   ]
  },
  {
   "cell_type": "code",
   "execution_count": 37,
   "metadata": {},
   "outputs": [],
   "source": [
    "#uniarray()  "
   ]
  },
  {
   "cell_type": "code",
   "execution_count": 38,
   "metadata": {},
   "outputs": [],
   "source": [
    "s = np.sum( xil[:,0]*((l/2)**(2/3))*np.exp( -1j*(np.pi/4 + psi) )*uniarray() ) + \\\n",
    "np.sum( xil[:,-2]*((l/2)**(2/3))*np.exp( -1j*(np.pi/4 + psi) )*uniarray() ) + \\\n",
    "np.sum( xil[:,2]*((l/2)**(2/3))*np.exp( -1j*(np.pi/4 + psi) )*uniarray() )"
   ]
  },
  {
   "cell_type": "code",
   "execution_count": 39,
   "metadata": {},
   "outputs": [],
   "source": [
    "hf = ((5*np.pi*eta)/384)**(1/2) * (G**2*M**2)/(C**5*D)*( ((G*M*np.pi*f)/C**3)**(-7/6) )*np.sum(s)"
   ]
  },
  {
   "cell_type": "code",
   "execution_count": 40,
   "metadata": {},
   "outputs": [
    {
     "data": {
      "text/plain": [
       "(2.98656252632142e-23-4.148332979004998e-23j)"
      ]
     },
     "execution_count": 40,
     "metadata": {},
     "output_type": "execute_result"
    }
   ],
   "source": [
    "hf"
   ]
  },
  {
   "cell_type": "code",
   "execution_count": 41,
   "metadata": {},
   "outputs": [],
   "source": [
    "#xil[0:8,2]"
   ]
  },
  {
   "cell_type": "code",
   "execution_count": 42,
   "metadata": {},
   "outputs": [],
   "source": [
    "#l[0:4]"
   ]
  },
  {
   "cell_type": "code",
   "execution_count": null,
   "metadata": {},
   "outputs": [],
   "source": []
  }
 ],
 "metadata": {
  "kernelspec": {
   "display_name": "Python 3",
   "language": "python",
   "name": "python3"
  },
  "language_info": {
   "codemirror_mode": {
    "name": "ipython",
    "version": 3
   },
   "file_extension": ".py",
   "mimetype": "text/x-python",
   "name": "python",
   "nbconvert_exporter": "python",
   "pygments_lexer": "ipython3",
   "version": "3.6.12"
  }
 },
 "nbformat": 4,
 "nbformat_minor": 4
}
