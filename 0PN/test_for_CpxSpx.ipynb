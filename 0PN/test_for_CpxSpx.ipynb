{
 "cells": [
  {
   "cell_type": "code",
   "execution_count": 6,
   "metadata": {},
   "outputs": [],
   "source": [
    "import numpy as np\n",
    "import sympy as sp\n",
    "import matplotlib.pyplot as plt\n",
    "import hphc15\n",
    "import hphc16\n",
    "import hphc14\n",
    "#import hphc11\n",
    "import h0CpxSpx5\n",
    "import h05CpxSpx5\n",
    "import h1CpxSpx5\n",
    "import time\n",
    "\n",
    "C = 299792458.\n",
    "G = 6.67408*1e-11\n",
    "Mo = 1.989*1e30\n",
    "Mpc = 3.086*1e22"
   ]
  },
  {
   "cell_type": "code",
   "execution_count": 4,
   "metadata": {},
   "outputs": [],
   "source": [
    "mass_1 = 23.5\n",
    "mass_2 = 21.5\n",
    "symmetric_mass_ratio = (mass_1*mass_2)/((mass_1+mass_2)**2)\n",
    "maximum_f = (C**3)/( G*(mass_1+mass_2)*Mo*np.pi*6**(3/2) )\n",
    "mass_diff = (mass_1-mass_2)*Mo"
   ]
  },
  {
   "cell_type": "code",
   "execution_count": 5,
   "metadata": {},
   "outputs": [
    {
     "data": {
      "text/plain": [
       "97.68922304308887"
      ]
     },
     "execution_count": 5,
     "metadata": {},
     "output_type": "execute_result"
    }
   ],
   "source": [
    "maximum_f"
   ]
  },
  {
   "cell_type": "code",
   "execution_count": 2,
   "metadata": {},
   "outputs": [],
   "source": [
    "#m1=23.5, m2=21.5\n",
    "injection_parameters = dict(chirp_mass=19.564163812778446, mass_ratio=0.9148936170212766, \\\n",
    "                            eccentricity=0.1, luminosity_distance=200.0, theta_jn=0.4, \\\n",
    "                            psi=0.1, phase=1.2, geocent_time=1180002601.0, ra=45.0, dec=5.73)"
   ]
  },
  {
   "cell_type": "code",
   "execution_count": 2,
   "metadata": {},
   "outputs": [],
   "source": [
    "arg_plus = {'iota_':0.4, 'beta_':0.1, 'D_':200.0 , 'm1_':23.5, 'm2_':21.5, 'f_':50., 'f0_':20.0, 'Fp_':1.0, 'Fc_':0.0, 'et0_':0.1, 'phic_':1.2, 'tc_':1180002601.0}\n",
    "arg_plus2 = {'iota_':0.4, 'beta_':0.1, 'D_':200.0*Mpc , 'm1_':23.5, 'm2_':21.5, 'f_':50., 'f0_':20.0, 'et0_':0.1, 'phic_':1.2, 'tc_':1180002601.0}\n",
    "arg_plus3 = {'iota_':0.4, 'beta_':0.1, 'D_':200.0*Mpc , \\\n",
    "                        'f_':50.0, 'f0_':20.0, 'et0_':0.1, 'phic_':1.2, \\\n",
    "                        'tc_':1180002601.0, 'M_':45.0*Mo, 'eta_':0.24950617283950619, \\\n",
    "                        'ff_':97.68922304308887, 'delta_':3.9780000000000004e+30}\n",
    "arg_plus4 = {'iota_':0.4, 'beta_':0.1, 'D_':200.0*Mpc , \\\n",
    "                        'farray_':np.linspace(20,80,100), 'f0_':20.0, 'et0_':0.1, 'phic_':1.2, \\\n",
    "                        'tc_':1180002601.0, 'M_':45.0*Mo, 'eta_':0.24950617283950619, \\\n",
    "                        'ff_':97.68922304308887, 'delta_':3.9780000000000004e+30}\n",
    "#fplus = hphc5.Fn(**arg_plus)\n",
    "#fplus2 = hphc11.Fn(**arg_plus3)\n",
    "\n",
    "fplus14 = hphc14.Fn(**arg_plus4)\n",
    "fplus15 = hphc15.Fn(**arg_plus4)\n",
    "fplus16 = hphc16.Fn(**arg_plus4)"
   ]
  },
  {
   "cell_type": "code",
   "execution_count": 15,
   "metadata": {},
   "outputs": [
    {
     "data": {
      "text/plain": [
       "((3.273314285690566e-23+1.3153761139853941e-23j),\n",
       " (-1.311165934384174e-23+3.262730014704107e-23j))"
      ]
     },
     "execution_count": 15,
     "metadata": {},
     "output_type": "execute_result"
    }
   ],
   "source": [
    "hphc13.Fn(0.4, 0.1, 200.0*Mpc ,50.0, 20.0, 0.1, 1.2, 1180002601.0, 45.0*Mo,\\\n",
    "          0.24950617283950619, 97.68922304308887, 3.9780000000000004e+30).htilde()"
   ]
  },
  {
   "cell_type": "code",
   "execution_count": 4,
   "metadata": {},
   "outputs": [
    {
     "data": {
      "text/plain": [
       "(array([-4.15672870e-23+1.12145642e-22j,  4.73276124e-23+8.47929123e-23j,\n",
       "         9.51966615e-23-1.15856366e-22j, -6.11469611e-23-1.05938368e-22j,\n",
       "        -1.26772980e-22-1.56828001e-23j, -1.15855078e-22+2.64480257e-23j,\n",
       "        -1.16830432e-22+4.28002733e-23j, -1.25885628e-22+1.49399368e-23j,\n",
       "        -7.40833262e-23-2.97801726e-23j, -5.84435550e-23-1.47370694e-23j,\n",
       "        -6.34784722e-23-8.40810039e-23j,  4.98167726e-23-7.54035878e-23j,\n",
       "         5.53757670e-23-3.45926498e-23j,  6.98833110e-23+7.16904977e-23j,\n",
       "        -2.59574813e-23+6.09937474e-23j, -8.99776640e-23-2.20550046e-23j,\n",
       "         1.80090813e-24-5.51095115e-23j,  8.61928579e-23+6.17774482e-24j,\n",
       "         1.62461096e-23+6.84562200e-23j, -6.39370617e-23-3.04147490e-23j,\n",
       "         3.33792362e-23-7.53898132e-23j,  3.63111954e-23+3.43364478e-23j,\n",
       "        -6.34657451e-23+1.14320000e-23j, -7.10509924e-24-7.28031423e-23j,\n",
       "         5.36338548e-23+1.77942446e-23j, -5.64109775e-23+1.81563988e-23j,\n",
       "         1.89052401e-23-7.18520950e-23j,  5.08331219e-23+4.36739172e-23j,\n",
       "        -5.12238542e-23+3.49728008e-24j,  4.49328711e-23-2.73861966e-23j,\n",
       "        -9.72785809e-24+6.13124227e-23j, -4.40694375e-23-4.51876020e-23j,\n",
       "         4.96185070e-23-7.27592081e-25j, -3.64941971e-23+2.33325147e-23j,\n",
       "         2.53680289e-23-3.84237063e-23j,  1.85331731e-24+5.61150289e-23j,\n",
       "        -3.68115715e-23-4.60105852e-23j,  5.66690198e-23+1.38482153e-23j,\n",
       "        -4.78718983e-23+1.46824120e-23j,  3.44513435e-23-2.74410303e-23j,\n",
       "        -2.32232271e-23+3.56976227e-23j,  1.25599212e-23-4.40997456e-23j,\n",
       "         9.13570534e-24+5.06092136e-23j, -3.12236646e-23-4.13077206e-23j,\n",
       "         4.49098780e-23+2.26050481e-23j, -4.65576900e-23-1.41271636e-24j,\n",
       "         3.84070492e-23-1.41414537e-23j, -2.96414529e-23+2.07504669e-23j,\n",
       "         2.33493933e-23-2.65842320e-23j, -1.63512756e-23+3.06611149e-23j,\n",
       "         9.61885028e-24-3.48853123e-23j, -5.72942833e-25+3.85217362e-23j,\n",
       "        -1.02971116e-23-3.95801950e-23j,  2.22093918e-23+3.62044901e-23j,\n",
       "        -3.12535380e-23-2.84547094e-23j,  3.67980280e-23+1.99695178e-23j,\n",
       "        -4.03314144e-23-1.01452989e-23j,  3.98177023e-23+3.69955554e-25j,\n",
       "        -3.67446785e-23+7.03622140e-24j,  3.30650166e-23-1.22796634e-23j,\n",
       "        -2.92267834e-23+1.55717443e-23j,  2.65582679e-23-1.76883854e-23j,\n",
       "        -2.46300800e-23+1.99266922e-23j,  2.25205747e-23-2.24783097e-23j,\n",
       "        -2.01663991e-23+2.44392837e-23j,  1.84107185e-23-2.64552340e-23j,\n",
       "        -1.62714598e-23+2.91041390e-23j,  1.32100973e-23-3.16714200e-23j,\n",
       "        -9.46525554e-24+3.34359964e-23j,  5.81375357e-24-3.44633660e-23j,\n",
       "        -2.01383930e-24+3.51846980e-23j, -2.05286482e-24-3.50626770e-23j,\n",
       "         5.67104423e-24+3.39965612e-23j, -8.55098994e-24-3.24798509e-23j,\n",
       "         1.07751752e-23+3.09657995e-23j, -1.27497654e-23-2.96544985e-23j,\n",
       "         1.47547149e-23+2.82050743e-23j, -1.64321031e-23-2.63737186e-23j,\n",
       "         1.75507186e-23+2.44834771e-23j, -1.82568826e-23-2.27599975e-23j,\n",
       "         1.87036831e-23+2.12624819e-23j, -1.90176488e-23-1.99691946e-23j,\n",
       "         1.92849523e-23+1.87711233e-23j, -1.93807545e-23-1.75592447e-23j,\n",
       "         1.91809977e-23+1.64766038e-23j, -1.87978343e-23-1.57208569e-23j,\n",
       "         1.84549385e-23+1.52821589e-23j, -1.82574443e-23-1.49943935e-23j,\n",
       "         1.81462651e-23+1.47330509e-23j, -1.80593262e-23-1.44660378e-23j,\n",
       "         1.79373774e-23+1.41798164e-23j, -1.77097132e-23-1.39054758e-23j,\n",
       "         1.73608306e-23+1.37379273e-23j, -1.69581382e-23-1.37563604e-23j,\n",
       "         1.66229792e-23+1.39429498e-23j, -1.64145508e-23-1.42163612e-23j,\n",
       "         1.63084149e-23+1.44610755e-23j, -1.62261976e-23-1.46355167e-23j,\n",
       "         1.61009067e-23+1.47719173e-23j, -1.59187096e-23-1.48943488e-23j]),\n",
       " array([-1.12019602e-22-4.15464626e-23j, -8.43452165e-23+4.72720014e-23j,\n",
       "         1.15300534e-22+9.47481733e-23j,  1.05761719e-22-6.08392014e-23j,\n",
       "         1.55049904e-23-1.26440910e-22j, -2.62734831e-23-1.15360344e-22j,\n",
       "        -4.27510787e-23-1.16571279e-22j, -1.48078713e-23-1.25361423e-22j,\n",
       "         2.96259849e-23-7.39404516e-23j,  1.47193898e-23-5.81499342e-23j,\n",
       "         8.37928813e-23-6.33697871e-23j,  7.51517253e-23+4.97588110e-23j,\n",
       "         3.44904088e-23+5.50846034e-23j, -7.14682223e-23+6.97557616e-23j,\n",
       "        -6.07734881e-23-2.59622383e-23j,  2.19571743e-23-8.96053528e-23j,\n",
       "         5.49627691e-23+1.72818246e-24j, -6.19756658e-24+8.59678821e-23j,\n",
       "        -6.82306344e-23+1.61904094e-23j,  3.03153026e-23-6.37237773e-23j,\n",
       "         7.51420288e-23+3.32670065e-23j, -3.42235141e-23+3.61930632e-23j,\n",
       "        -1.13922115e-23-6.32590067e-23j,  7.25623498e-23-7.08002692e-24j,\n",
       "        -1.77323772e-23+5.34557428e-23j, -1.81000964e-23-5.62228016e-23j,\n",
       "         7.16201237e-23+1.88390642e-23j, -4.35331986e-23+5.06720023e-23j,\n",
       "        -3.48406696e-24-5.10615068e-23j,  2.72950087e-23+4.47916846e-23j,\n",
       "        -6.11112842e-23-9.70170949e-24j,  4.50395004e-23-4.39204749e-23j,\n",
       "         7.25873239e-25+4.94514326e-23j, -2.32564747e-23-3.63700052e-23j,\n",
       "         3.82978450e-23+2.52809959e-23j, -5.59319549e-23+1.85092381e-24j,\n",
       "         4.58608616e-23-3.66950314e-23j, -1.38035215e-23+5.64876251e-23j,\n",
       "        -1.46338193e-23-4.77187214e-23j,  2.73503098e-23+3.43420141e-23j,\n",
       "        -3.55796642e-23-2.31506235e-23j,  4.39544071e-23+1.25222343e-23j,\n",
       "        -5.04426957e-23+9.10278117e-24j,  4.11713267e-23-3.11190196e-23j,\n",
       "        -2.25293648e-23+4.47607429e-23j,  1.40565268e-24-4.64032718e-23j,\n",
       "         1.40980690e-23+3.82789656e-23j, -2.06855993e-23-2.95418029e-23j,\n",
       "         2.64985121e-23+2.32740422e-23j, -3.05620530e-23-1.62987567e-23j,\n",
       "         3.47724481e-23+9.58829587e-24j, -3.83972131e-23-5.71908880e-25j,\n",
       "         3.94524017e-23-1.02630525e-23j, -3.60876403e-23+2.21368219e-23j,\n",
       "         2.83629937e-23-3.11517679e-23j, -1.99052142e-23+3.66784024e-23j,\n",
       "         1.01128076e-23-4.02003391e-23j, -3.69142899e-25+3.96883531e-23j,\n",
       "        -7.01307399e-24-3.66253219e-23j,  1.22394715e-23+3.29575657e-23j,\n",
       "        -1.55208157e-23-2.91318889e-23j,  1.76306308e-23+2.64721206e-23j,\n",
       "        -1.98617092e-23-2.45502246e-23j,  2.24050474e-23+2.24476227e-23j,\n",
       "        -2.43597265e-23-2.01011586e-23j,  2.63691926e-23+1.83511727e-23j,\n",
       "        -2.90095202e-23-1.62188803e-23j,  3.15685299e-23+1.31675041e-23j,\n",
       "        -3.33274151e-23-9.43478627e-24j,  3.43515945e-23+5.79504816e-24j,\n",
       "        -3.50706481e-23-2.00734999e-24j,  3.49490645e-23-2.04623189e-24j,\n",
       "        -3.38864680e-23+5.65274885e-24j,  3.23747372e-23-8.52345504e-24j,\n",
       "        -3.08656197e-23+1.07405574e-23j,  2.95585390e-23-1.27088554e-23j,\n",
       "        -2.81137765e-23+1.47073590e-23j,  2.62883547e-23-1.63793523e-23j,\n",
       "        -2.44042390e-23+1.74944033e-23j,  2.26863231e-23-1.81983397e-23j,\n",
       "        -2.11936232e-23+1.86437315e-23j,  1.99044906e-23-1.89566882e-23j,\n",
       "        -1.87102902e-23+1.92231047e-23j,  1.75023695e-23-1.93185766e-23j,\n",
       "        -1.64232856e-23+1.91194778e-23j,  1.56700234e-23-1.87375878e-23j,\n",
       "        -1.52327656e-23+1.83958305e-23j,  1.49459511e-23-1.81989880e-23j,\n",
       "        -1.46854854e-23+1.80881737e-23j,  1.44193788e-23-1.80015219e-23j,\n",
       "        -1.41341367e-23+1.78799800e-23j,  1.38607410e-23-1.76530788e-23j,\n",
       "        -1.36937830e-23+1.73053656e-23j,  1.37121870e-23-1.69040197e-23j,\n",
       "        -1.38982750e-23+1.65697760e-23j,  1.41707975e-23-1.63620321e-23j,\n",
       "        -1.44147262e-23+1.62562344e-23j,  1.45886236e-23-1.61742741e-23j,\n",
       "        -1.47246144e-23+1.60493834e-23j,  1.48466861e-23-1.58677773e-23j]))"
      ]
     },
     "execution_count": 4,
     "metadata": {},
     "output_type": "execute_result"
    }
   ],
   "source": [
    "fplus3.htilde()"
   ]
  },
  {
   "cell_type": "code",
   "execution_count": 5,
   "metadata": {},
   "outputs": [
    {
     "data": {
      "text/plain": [
       "array([-1.11997903e-22-4.16067750e-23j, -1.31116593e-23+3.26273001e-23j])"
      ]
     },
     "execution_count": 5,
     "metadata": {},
     "output_type": "execute_result"
    }
   ],
   "source": [
    "fplus3.htilde()[1]"
   ]
  },
  {
   "cell_type": "code",
   "execution_count": 4,
   "metadata": {},
   "outputs": [
    {
     "data": {
      "text/plain": [
       "6"
      ]
     },
     "execution_count": 4,
     "metadata": {},
     "output_type": "execute_result"
    }
   ],
   "source": [
    "9+-3"
   ]
  },
  {
   "cell_type": "code",
   "execution_count": 3,
   "metadata": {},
   "outputs": [
    {
     "data": {
      "text/plain": [
       "array([[0., 0., 0., 0., 0., 1., 1., 1., 0.],\n",
       "       [1., 0., 0., 0., 0., 1., 1., 1., 1.],\n",
       "       [1., 1., 1., 1., 0., 1., 1., 1., 1.],\n",
       "       [1., 1., 1., 0., 0., 1., 1., 1., 1.],\n",
       "       [1., 1., 0., 0., 0., 1., 1., 1., 1.],\n",
       "       [1., 0., 0., 0., 0., 1., 1., 1., 1.],\n",
       "       [0., 0., 0., 0., 0., 1., 1., 1., 1.],\n",
       "       [0., 0., 0., 0., 0., 1., 1., 1., 0.],\n",
       "       [0., 0., 0., 0., 0., 1., 1., 0., 0.],\n",
       "       [0., 0., 0., 0., 0., 1., 0., 0., 0.]])"
      ]
     },
     "execution_count": 3,
     "metadata": {},
     "output_type": "execute_result"
    }
   ],
   "source": [
    "fplus3.htilde()"
   ]
  },
  {
   "cell_type": "code",
   "execution_count": 8,
   "metadata": {
    "scrolled": true
   },
   "outputs": [
    {
     "name": "stdout",
     "output_type": "stream",
     "text": [
      "(1.3444100658748108+0.2725254121916997j)\n",
      "(8.001496166323534+1.62198357199795j)\n",
      "(-0.910603342507551-0.1845884358940215j)\n",
      "(-0.2641123967729858-0.053538233328132546j)\n",
      "(-0.04094592084499716-0.008300149068424667j)\n",
      "(-0.005242189582493422-0.0010626444364104347j)\n",
      "(-0.0006207929760552522-0.00012584096621969464j)\n",
      "(-6.845888126617825e-05-1.3877302252350987e-05j)\n",
      "0j\n",
      "0j\n"
     ]
    }
   ],
   "source": [
    "for ii in range(10):\n",
    "    print(fplus2.htilde()[2](ii,-2))"
   ]
  },
  {
   "cell_type": "code",
   "execution_count": 9,
   "metadata": {
    "scrolled": true
   },
   "outputs": [
    {
     "name": "stdout",
     "output_type": "stream",
     "text": [
      "(1.3444100658748106+0.2725254121916996j)\n",
      "(8.001496166323534+1.62198357199795j)\n",
      "(-0.910603342507551-0.1845884358940215j)\n",
      "(-0.2641123967729858-0.053538233328132546j)\n",
      "(-0.040945920844997145-0.008300149068424663j)\n",
      "(-0.005242189582493417-0.0010626444364104336j)\n",
      "(-0.0006207929760552516-0.00012584096621969453j)\n",
      "(-6.845888126617825e-05-1.3877302252350987e-05j)\n",
      "0j\n",
      "0j\n"
     ]
    }
   ],
   "source": [
    "for ii in range(10):\n",
    "    print(fplus3.htilde()[2](ii,-2))"
   ]
  },
  {
   "cell_type": "code",
   "execution_count": 10,
   "metadata": {},
   "outputs": [
    {
     "name": "stdout",
     "output_type": "stream",
     "text": [
      "(1.030381442126504+1.0609204612826066j)\n",
      "(6.056735345095147+6.236248241159705j)\n",
      "(-0.7081009087760657-0.7290879979582396j)\n",
      "(-0.20360106184906185-0.20963550353618993j)\n",
      "(-0.03151192205976186-0.03244588995949675j)\n",
      "(-0.004031715450029151-0.004151209678405673j)\n",
      "(-0.0004772863552720532-0.0004914324341421442j)\n",
      "(-5.2624676220296714e-05-5.418439568870892e-05j)\n",
      "0j\n",
      "0j\n"
     ]
    }
   ],
   "source": [
    "for ii in range(10):\n",
    "    print(fplus.xi_l1(ii+1,-2))"
   ]
  },
  {
   "cell_type": "code",
   "execution_count": 5,
   "metadata": {},
   "outputs": [
    {
     "data": {
      "text/plain": [
       "0.06003624127684828"
      ]
     },
     "execution_count": 5,
     "metadata": {},
     "output_type": "execute_result"
    }
   ],
   "source": [
    "fplus.eccn(1,-2)"
   ]
  },
  {
   "cell_type": "code",
   "execution_count": 8,
   "metadata": {},
   "outputs": [
    {
     "name": "stdout",
     "output_type": "stream",
     "text": [
      "1.3603317094397676\n",
      "8.101835418925221\n",
      "-0.9224395688690399\n",
      "-0.26761784306624226\n",
      "-0.041496643466270265\n",
      "-0.005313342463932207\n",
      "-0.000629275046849544\n",
      "-6.93989644152383e-05\n",
      "0.0\n",
      "0.0\n"
     ]
    }
   ],
   "source": [
    "for ii in range(10): \n",
    "    test44 = h1CpxSpx5.Fn(fplus.eccn(ii+1,-2),0.1,0.4,0.24950617283950619)\n",
    "    print(test44.cplus(ii+1,-2))"
   ]
  },
  {
   "cell_type": "code",
   "execution_count": 3,
   "metadata": {},
   "outputs": [
    {
     "name": "stdout",
     "output_type": "stream",
     "text": [
      "Execution took 0.4452\n"
     ]
    }
   ],
   "source": [
    "t0 = time.time()\n",
    "zz = fplus14.htilde()\n",
    "t1 = time.time()\n",
    "print('Execution took {:.4f}'.format(t1 - t0))"
   ]
  },
  {
   "cell_type": "code",
   "execution_count": 4,
   "metadata": {},
   "outputs": [
    {
     "name": "stdout",
     "output_type": "stream",
     "text": [
      "Execution took 0.5072\n"
     ]
    }
   ],
   "source": [
    "t0 = time.time()\n",
    "zz = fplus15.htilde()\n",
    "t1 = time.time()\n",
    "print('Execution took {:.4f}'.format(t1 - t0))"
   ]
  },
  {
   "cell_type": "code",
   "execution_count": 5,
   "metadata": {},
   "outputs": [
    {
     "name": "stdout",
     "output_type": "stream",
     "text": [
      "Execution took 0.4882\n"
     ]
    }
   ],
   "source": [
    "t0 = time.time()\n",
    "zz = fplus16.htilde()\n",
    "t1 = time.time()\n",
    "print('Execution took {:.4f}'.format(t1 - t0))"
   ]
  },
  {
   "cell_type": "code",
   "execution_count": 9,
   "metadata": {},
   "outputs": [
    {
     "name": "stdout",
     "output_type": "stream",
     "text": [
      "Execution took 1.1194\n"
     ]
    }
   ],
   "source": [
    "t0 = time.time()\n",
    "for ii in range(100):\n",
    "    zz = fplus3.htilde()\n",
    "t1 = time.time()\n",
    "print('Execution took {:.4f}'.format(t1 - t0))"
   ]
  },
  {
   "cell_type": "code",
   "execution_count": 8,
   "metadata": {},
   "outputs": [
    {
     "name": "stdout",
     "output_type": "stream",
     "text": [
      "Execution took 0.8051\n"
     ]
    }
   ],
   "source": [
    "t0 = time.time()\n",
    "for ii in range(100):\n",
    "    zz = fplus2.htilde()\n",
    "t1 = time.time()\n",
    "print('Execution took {:.4f}'.format(t1 - t0))"
   ]
  },
  {
   "cell_type": "code",
   "execution_count": 13,
   "metadata": {},
   "outputs": [
    {
     "ename": "NameError",
     "evalue": "name 'fplus1' is not defined",
     "output_type": "error",
     "traceback": [
      "\u001b[0;31m---------------------------------------------------------------------------\u001b[0m",
      "\u001b[0;31mNameError\u001b[0m                                 Traceback (most recent call last)",
      "\u001b[0;32m<ipython-input-13-bbac9fd35626>\u001b[0m in \u001b[0;36m<module>\u001b[0;34m\u001b[0m\n\u001b[0;32m----> 1\u001b[0;31m \u001b[0mfplus1\u001b[0m\u001b[0;34m.\u001b[0m\u001b[0meccn\u001b[0m\u001b[0;34m(\u001b[0m\u001b[0;36m1\u001b[0m\u001b[0;34m,\u001b[0m\u001b[0;34m-\u001b[0m\u001b[0;36m2\u001b[0m\u001b[0;34m)\u001b[0m\u001b[0;34m\u001b[0m\u001b[0;34m\u001b[0m\u001b[0m\n\u001b[0m",
      "\u001b[0;31mNameError\u001b[0m: name 'fplus1' is not defined"
     ]
    }
   ],
   "source": [
    "fplus1.eccn(1,-2)"
   ]
  },
  {
   "cell_type": "code",
   "execution_count": 5,
   "metadata": {
    "scrolled": true
   },
   "outputs": [
    {
     "data": {
      "text/plain": [
       "(-0.05800799034431211+0.1004727865213135j)"
      ]
     },
     "execution_count": 5,
     "metadata": {},
     "output_type": "execute_result"
    }
   ],
   "source": [
    "fplus2.xi_l0(1,-2)"
   ]
  },
  {
   "cell_type": "code",
   "execution_count": 12,
   "metadata": {},
   "outputs": [
    {
     "data": {
      "text/plain": [
       "(8815036911.772095-8815036911.772099j)"
      ]
     },
     "execution_count": 12,
     "metadata": {},
     "output_type": "execute_result"
    }
   ],
   "source": [
    "(1-766.4737128241678**2)**(7/4)"
   ]
  },
  {
   "cell_type": "code",
   "execution_count": 14,
   "metadata": {},
   "outputs": [
    {
     "data": {
      "text/plain": [
       "(8815036911.772104+8815036911.772108j)"
      ]
     },
     "execution_count": 14,
     "metadata": {},
     "output_type": "execute_result"
    }
   ],
   "source": [
    "np.power( ((1-766.4737128241678**2)*1j),(7/4) )/(1j)**(7/4)"
   ]
  },
  {
   "cell_type": "code",
   "execution_count": 6,
   "metadata": {},
   "outputs": [
    {
     "data": {
      "text/plain": [
       "(0.7370360838796302+0j)"
      ]
     },
     "execution_count": 6,
     "metadata": {},
     "output_type": "execute_result"
    }
   ],
   "source": [
    "np.power((1-0.4**2),7/4,dtype=np.complex)"
   ]
  },
  {
   "cell_type": "code",
   "execution_count": 5,
   "metadata": {},
   "outputs": [
    {
     "data": {
      "text/plain": [
       "(8815036911.772095-8815036911.772099j)"
      ]
     },
     "execution_count": 5,
     "metadata": {},
     "output_type": "execute_result"
    }
   ],
   "source": [
    "(1-766.4737128241678**2)**(7/4)"
   ]
  },
  {
   "cell_type": "code",
   "execution_count": 7,
   "metadata": {},
   "outputs": [
    {
     "data": {
      "text/plain": [
       "(5.5342731782875834e-24-5.013560269811376e-25j)"
      ]
     },
     "execution_count": 7,
     "metadata": {},
     "output_type": "execute_result"
    }
   ],
   "source": [
    "fplus.htilde()"
   ]
  },
  {
   "cell_type": "code",
   "execution_count": 9,
   "metadata": {
    "scrolled": true
   },
   "outputs": [
    {
     "name": "stdout",
     "output_type": "stream",
     "text": [
      "-174.2305008050212\n",
      "-141.35520752921354\n",
      "-136.0392938134141\n",
      "-157.71391805383195\n",
      "-213.6917374899976\n",
      "-312.35550884416284\n",
      "-461.9902029791834\n",
      "-670.5616693215887\n",
      "-945.6972131545898\n",
      "-1294.712198305867\n"
     ]
    }
   ],
   "source": [
    "for ii in range(10):\n",
    "    xil = fplus2.psi_l(ii+1,-3)\n",
    "    print(xil)"
   ]
  },
  {
   "cell_type": "code",
   "execution_count": 33,
   "metadata": {},
   "outputs": [
    {
     "name": "stdout",
     "output_type": "stream",
     "text": [
      "0.0    0.014639220994070659\n",
      "0.0    0.015169740956777217\n",
      "0.0    0.015857117600498096\n",
      "0.0    0.01636531750028254\n",
      "0.0    0.016727243794910494\n",
      "0.0    0.01699176458286298\n",
      "0.0    0.017191620454341295\n",
      "0.0    0.017347252350343536\n",
      "0.0    0.01747160429999319\n",
      "0.0    0.017573132516361795\n"
     ]
    }
   ],
   "source": [
    "for ii in range(10):\n",
    "    et = fplus2.eccn(ii+1,-3)\n",
    "    fn = h05CpxSpx5.Fn(et,sp.pi/3,sp.pi/3)\n",
    "    Cp0 = fn.splus(ii+1,-3)\n",
    "    print(Cp0, '  ',et)"
   ]
  },
  {
   "cell_type": "code",
   "execution_count": 32,
   "metadata": {},
   "outputs": [
    {
     "data": {
      "text/plain": [
       "0.9999999999999957"
      ]
     },
     "execution_count": 32,
     "metadata": {},
     "output_type": "execute_result"
    }
   ],
   "source": [
    "ee = 0.01636531750028254\n",
    "iota = np.pi/3\n",
    "beta = np.pi/3\n",
    "ee**3*( - 38*np.sin(iota)*np.sin(3*beta) - 38*np.cos(iota)**2*np.sin(iota)*np.sin(3*beta)) + ee**(8*np.sin(iota)*np.sin(3*beta) + 8*np.cos(iota)**2*np.sin(iota)*np.sin(3*beta)) + ee**5*(176/3*np.sin(iota)*np.sin(3*beta) + 176/3*np.cos(iota)**2*np.sin(iota)*np.sin(3*beta))"
   ]
  },
  {
   "cell_type": "code",
   "execution_count": 34,
   "metadata": {},
   "outputs": [
    {
     "data": {
      "text/plain": [
       "1.7334579170191625e-17"
      ]
     },
     "execution_count": 34,
     "metadata": {},
     "output_type": "execute_result"
    }
   ],
   "source": [
    "ee = 0.01636531750028254\n",
    "iota = np.pi/3\n",
    "beta = np.pi/3\n",
    "ee**3*( - 38*np.sin(iota)*np.sin(3*beta) - 38*np.cos(iota)**2*np.sin(iota)*np.sin(3*beta)) + ee*(8*np.sin(iota)*np.sin(3*beta) + 8*np.cos(iota)**2*np.sin(iota)*np.sin(3*beta)) + ee**5*(176/3*np.sin(iota)*np.sin(3*beta) + 176/3*np.cos(iota)**2*np.sin(iota)*np.sin(3*beta))"
   ]
  },
  {
   "cell_type": "code",
   "execution_count": 4,
   "metadata": {},
   "outputs": [
    {
     "name": "stdout",
     "output_type": "stream",
     "text": [
      "Execution took 0.0406\n"
     ]
    }
   ],
   "source": [
    "import time\n",
    "t0 = time.time()\n",
    "fplus.htilde()\n",
    "#fplus2.htilde()\n",
    "t1 = time.time()\n",
    "print('Execution took {:.4f}'.format(t1 - t0))"
   ]
  },
  {
   "cell_type": "code",
   "execution_count": 5,
   "metadata": {},
   "outputs": [
    {
     "name": "stdout",
     "output_type": "stream",
     "text": [
      "(-9.563236707058214e-24+7.965974785544314e-26j)\n",
      "Execution took 5.4276\n"
     ]
    }
   ],
   "source": [
    "import time\n",
    "t0 = time.time()\n",
    "print(fplus.htilde())\n",
    "t1 = time.time()\n",
    "print('Execution took {:.4f}'.format(t1 - t0))"
   ]
  },
  {
   "cell_type": "code",
   "execution_count": 7,
   "metadata": {},
   "outputs": [
    {
     "name": "stdout",
     "output_type": "stream",
     "text": [
      "Execution took 0.0179\n"
     ]
    }
   ],
   "source": [
    "import time\n",
    "t0 = time.time()\n",
    "et = fplus.eccn(1,2)\n",
    "fn = h05CpxSpx4.Fn(et,sp.pi/3,sp.pi/3)\n",
    "fn.cplus(1,2)\n",
    "t1 = time.time()\n",
    "print('Execution took {:.4f}'.format(t1 - t0))"
   ]
  },
  {
   "cell_type": "code",
   "execution_count": 16,
   "metadata": {},
   "outputs": [
    {
     "name": "stdout",
     "output_type": "stream",
     "text": [
      "2.430113800922941e-07 , 0.0055170314788476876\n",
      "1.5546428121964128e-08 , 0.010164039876179361\n",
      "1.0488859715430617e-09 , 0.01441331376393247\n",
      "3.0807129028019986e-11 , 0.01572215720769032\n",
      "0.0 , 0.016379140319968857\n",
      "0.0 , 0.016779961721317377\n",
      "0.0 , 0.017052124477030414\n",
      "0.0 , 0.01724994913866151\n",
      "0.0 , 0.01740070874052484\n",
      "0.0 , 0.01751967950472511\n"
     ]
    }
   ],
   "source": [
    "for i in range(10):\n",
    "    j=i+1\n",
    "    et = fplus.eccn(j,2)\n",
    "    fn = h1CpxSpx4.Fn(et,sp.pi/3,sp.pi/3,0.25)\n",
    "    print(fn.scross(j,2),',',et)"
   ]
  },
  {
   "cell_type": "code",
   "execution_count": 9,
   "metadata": {},
   "outputs": [],
   "source": [
    "mm=np.array([1,2,3])"
   ]
  },
  {
   "cell_type": "code",
   "execution_count": 12,
   "metadata": {},
   "outputs": [
    {
     "ename": "TypeError",
     "evalue": "can't convert complex to float",
     "output_type": "error",
     "traceback": [
      "\u001b[0;31m---------------------------------------------------------------------------\u001b[0m",
      "\u001b[0;31mTypeError\u001b[0m                                 Traceback (most recent call last)",
      "\u001b[0;32m<ipython-input-12-3c154155600a>\u001b[0m in \u001b[0;36m<module>\u001b[0;34m\u001b[0m\n\u001b[0;32m----> 1\u001b[0;31m \u001b[0mfloat\u001b[0m\u001b[0;34m(\u001b[0m\u001b[0;36m1j\u001b[0m\u001b[0;34m+\u001b[0m\u001b[0;36m1\u001b[0m\u001b[0;34m)\u001b[0m\u001b[0;34m\u001b[0m\u001b[0;34m\u001b[0m\u001b[0m\n\u001b[0m",
      "\u001b[0;31mTypeError\u001b[0m: can't convert complex to float"
     ]
    }
   ],
   "source": [
    "float(1j+1)"
   ]
  },
  {
   "cell_type": "code",
   "execution_count": 15,
   "metadata": {},
   "outputs": [
    {
     "name": "stdout",
     "output_type": "stream",
     "text": [
      "Execution took 5.1655\n"
     ]
    }
   ],
   "source": [
    "import time\n",
    "t0 = time.time()\n",
    "fplus.htilde()\n",
    "t1 = time.time()\n",
    "print('Execution took {:.4f}'.format(t1 - t0))"
   ]
  },
  {
   "cell_type": "code",
   "execution_count": 27,
   "metadata": {},
   "outputs": [],
   "source": [
    "import numpy.ma as ma\n",
    "x = np.array([1, 2, 3, -1, 5])\n",
    "y = np.array([1, 1, 1, 1, 1])"
   ]
  },
  {
   "cell_type": "code",
   "execution_count": 28,
   "metadata": {},
   "outputs": [],
   "source": [
    "mx = ma.masked_array(x, mask=[0, 0, 0, 1, 0])\n",
    "my = ma.masked_array(y, mask=[0, 0, 0, 1, 0])"
   ]
  },
  {
   "cell_type": "code",
   "execution_count": 32,
   "metadata": {},
   "outputs": [],
   "source": [
    "z = np.array([mx,my])"
   ]
  },
  {
   "cell_type": "code",
   "execution_count": 34,
   "metadata": {},
   "outputs": [],
   "source": [
    "mz = ma.masked_array(z, mask=[[0, 0, 0, 1, 0],[0, 0, 0, 1, 0]])"
   ]
  },
  {
   "cell_type": "code",
   "execution_count": 35,
   "metadata": {},
   "outputs": [
    {
     "data": {
      "text/plain": [
       "masked_array(\n",
       "  data=[[1, 2, 3, --, 5],\n",
       "        [1, 1, 1, --, 1]],\n",
       "  mask=[[False, False, False,  True, False],\n",
       "        [False, False, False,  True, False]],\n",
       "  fill_value=999999)"
      ]
     },
     "execution_count": 35,
     "metadata": {},
     "output_type": "execute_result"
    }
   ],
   "source": [
    "mz"
   ]
  },
  {
   "cell_type": "code",
   "execution_count": 13,
   "metadata": {},
   "outputs": [
    {
     "name": "stderr",
     "output_type": "stream",
     "text": [
      "/home/hemantakumar.phurailatpam/anaconda3/envs/bilby/lib/python3.7/site-packages/ipykernel_launcher.py:1: RuntimeWarning: invalid value encountered in true_divide\n",
      "  \"\"\"Entry point for launching an IPython kernel.\n"
     ]
    },
    {
     "data": {
      "text/plain": [
       "array([ 1.,  2., nan,  4.])"
      ]
     },
     "execution_count": 13,
     "metadata": {},
     "output_type": "execute_result"
    }
   ],
   "source": [
    "np.array([1.0,2.0,False,4.0])/np.array([1.0,1.0,False,1.0])"
   ]
  },
  {
   "cell_type": "code",
   "execution_count": 5,
   "metadata": {},
   "outputs": [
    {
     "name": "stdout",
     "output_type": "stream",
     "text": [
      "1\n",
      "2\n",
      "2\n",
      "3\n"
     ]
    }
   ],
   "source": [
    "for (ii,jj) in np.array([(1,2),(2,3)]):\n",
    "    print(ii)\n",
    "    print(jj)"
   ]
  },
  {
   "cell_type": "code",
   "execution_count": 15,
   "metadata": {},
   "outputs": [
    {
     "data": {
      "text/plain": [
       "array([[1, 2],\n",
       "       [3, 4]])"
      ]
     },
     "execution_count": 15,
     "metadata": {},
     "output_type": "execute_result"
    }
   ],
   "source": [
    "np.array([[1,2],[3,4]])"
   ]
  },
  {
   "cell_type": "code",
   "execution_count": 15,
   "metadata": {},
   "outputs": [],
   "source": [
    "class test1:\n",
    "    def __init__(self, xx_, yy_):\n",
    "        self.xx_ = xx_\n",
    "        self.yy_ = yy_\n",
    "        \n",
    "    def k1_(self):\n",
    "        k2 = self.k2_\n",
    "        xx = self.xx_\n",
    "        yy = self.yy_\n",
    "        \n",
    "        global zz\n",
    "        zz = 3\n",
    "        \n",
    "        z = k2(xx,yy)\n",
    "        \n",
    "        return(z)\n",
    "    \n",
    "    def k2_(self, a_, b_):\n",
    "        \n",
    "        k3 = a_ + b_ + zz\n",
    "        \n",
    "        return(k3)\n",
    "        "
   ]
  },
  {
   "cell_type": "code",
   "execution_count": 7,
   "metadata": {},
   "outputs": [],
   "source": [
    "test2 = np.array([1,2,3,0,5,0])\n",
    "test3 = np.array([1,1,1,4,1,6])"
   ]
  },
  {
   "cell_type": "code",
   "execution_count": 12,
   "metadata": {},
   "outputs": [
    {
     "ename": "ValueError",
     "evalue": "The truth value of an array with more than one element is ambiguous. Use a.any() or a.all()",
     "output_type": "error",
     "traceback": [
      "\u001b[0;31m---------------------------------------------------------------------------\u001b[0m",
      "\u001b[0;31mValueError\u001b[0m                                Traceback (most recent call last)",
      "\u001b[0;32m<ipython-input-12-7cf667f23f5b>\u001b[0m in \u001b[0;36m<module>\u001b[0;34m\u001b[0m\n\u001b[0;32m----> 1\u001b[0;31m \u001b[0mtest3\u001b[0m\u001b[0;34m[\u001b[0m\u001b[0mtest2\u001b[0m\u001b[0;34m!=\u001b[0m\u001b[0;36m0\u001b[0m \u001b[0;32mor\u001b[0m \u001b[0mtest2\u001b[0m\u001b[0;34m==\u001b[0m\u001b[0;36m1\u001b[0m\u001b[0;34m]\u001b[0m \u001b[0;34m=\u001b[0m \u001b[0mtest2\u001b[0m\u001b[0;34m[\u001b[0m\u001b[0mtest2\u001b[0m\u001b[0;34m!=\u001b[0m\u001b[0;36m0\u001b[0m\u001b[0;34m]\u001b[0m\u001b[0;34m**\u001b[0m\u001b[0;36m2\u001b[0m\u001b[0;34m\u001b[0m\u001b[0;34m\u001b[0m\u001b[0m\n\u001b[0m",
      "\u001b[0;31mValueError\u001b[0m: The truth value of an array with more than one element is ambiguous. Use a.any() or a.all()"
     ]
    }
   ],
   "source": [
    "test3[test2!=0 or test2==1] = test2[test2!=0]**2"
   ]
  },
  {
   "cell_type": "code",
   "execution_count": 7,
   "metadata": {},
   "outputs": [
    {
     "data": {
      "text/plain": [
       "array([ 1,  4,  9,  4, 25,  6])"
      ]
     },
     "execution_count": 7,
     "metadata": {},
     "output_type": "execute_result"
    }
   ],
   "source": [
    "test3"
   ]
  },
  {
   "cell_type": "code",
   "execution_count": 9,
   "metadata": {},
   "outputs": [
    {
     "data": {
      "text/plain": [
       "array([  0.        ,  11.11111111,  22.22222222,  33.33333333,\n",
       "        44.44444444,  55.55555556,  66.66666667,  77.77777778,\n",
       "        88.88888889, 100.        ])"
      ]
     },
     "execution_count": 9,
     "metadata": {},
     "output_type": "execute_result"
    }
   ],
   "source": [
    "np.linspace(0,100,10)"
   ]
  },
  {
   "cell_type": "code",
   "execution_count": 8,
   "metadata": {},
   "outputs": [
    {
     "data": {
      "text/plain": [
       "(array([2, 3, 4, 5, 6, 7, 8]),)"
      ]
     },
     "execution_count": 8,
     "metadata": {},
     "output_type": "execute_result"
    }
   ],
   "source": [
    "arr = np.linspace(0,100,10)\n",
    "np.where((arr>20) & (arr<100))"
   ]
  },
  {
   "cell_type": "code",
   "execution_count": null,
   "metadata": {},
   "outputs": [],
   "source": []
  },
  {
   "cell_type": "code",
   "execution_count": null,
   "metadata": {},
   "outputs": [],
   "source": []
  },
  {
   "cell_type": "code",
   "execution_count": null,
   "metadata": {},
   "outputs": [],
   "source": []
  },
  {
   "cell_type": "code",
   "execution_count": null,
   "metadata": {},
   "outputs": [],
   "source": []
  },
  {
   "cell_type": "code",
   "execution_count": null,
   "metadata": {},
   "outputs": [],
   "source": []
  },
  {
   "cell_type": "code",
   "execution_count": null,
   "metadata": {},
   "outputs": [],
   "source": []
  },
  {
   "cell_type": "code",
   "execution_count": null,
   "metadata": {},
   "outputs": [],
   "source": []
  },
  {
   "cell_type": "code",
   "execution_count": null,
   "metadata": {},
   "outputs": [],
   "source": []
  },
  {
   "cell_type": "code",
   "execution_count": null,
   "metadata": {},
   "outputs": [],
   "source": []
  },
  {
   "cell_type": "code",
   "execution_count": null,
   "metadata": {},
   "outputs": [],
   "source": []
  },
  {
   "cell_type": "code",
   "execution_count": null,
   "metadata": {},
   "outputs": [],
   "source": []
  },
  {
   "cell_type": "code",
   "execution_count": null,
   "metadata": {},
   "outputs": [],
   "source": []
  }
 ],
 "metadata": {
  "kernelspec": {
   "display_name": "Python 3",
   "language": "python",
   "name": "python3"
  },
  "language_info": {
   "codemirror_mode": {
    "name": "ipython",
    "version": 3
   },
   "file_extension": ".py",
   "mimetype": "text/x-python",
   "name": "python",
   "nbconvert_exporter": "python",
   "pygments_lexer": "ipython3",
   "version": "3.7.7"
  }
 },
 "nbformat": 4,
 "nbformat_minor": 4
}
