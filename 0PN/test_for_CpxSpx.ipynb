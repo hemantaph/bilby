{
 "cells": [
  {
   "cell_type": "code",
   "execution_count": 1,
   "metadata": {},
   "outputs": [],
   "source": [
    "import numpy as np\n",
    "import sympy as sp\n",
    "import matplotlib.pyplot as plt\n",
    "import hphc15\n",
    "import hphc16\n",
    "import hphc14\n",
    "\n",
    "import h0CpxSpx5\n",
    "import h05CpxSpx5\n",
    "import h1CpxSpx5\n",
    "import time\n",
    "\n",
    "C = 299792458.\n",
    "G = 6.67408*1e-11\n",
    "Mo = 1.989*1e30\n",
    "Mpc = 3.086*1e22"
   ]
  },
  {
   "cell_type": "code",
   "execution_count": 11,
   "metadata": {},
   "outputs": [],
   "source": [
    "mass_1 = 23.5\n",
    "mass_2 = 21.5\n",
    "symmetric_mass_ratio = (mass_1*mass_2)/((mass_1+mass_2)**2)\n",
    "maximum_f = (C**3)/( G*(mass_1+mass_2)*Mo*np.pi*6**(3/2) )\n",
    "mass_diff = (mass_1-mass_2)*Mo"
   ]
  },
  {
   "cell_type": "code",
   "execution_count": 12,
   "metadata": {},
   "outputs": [],
   "source": [
    "farray=np.array([20,30,40])\n",
    "index = np.array(np.where( (farray >= 20) & (farray <= 80) )).flatten()"
   ]
  },
  {
   "cell_type": "code",
   "execution_count": 15,
   "metadata": {},
   "outputs": [
    {
     "data": {
      "text/plain": [
       "0"
      ]
     },
     "execution_count": 15,
     "metadata": {},
     "output_type": "execute_result"
    }
   ],
   "source": [
    "index[0]"
   ]
  },
  {
   "cell_type": "code",
   "execution_count": 2,
   "metadata": {},
   "outputs": [],
   "source": [
    "#m1=23.5, m2=21.5\n",
    "injection_parameters = dict(chirp_mass=19.564163812778446, mass_ratio=0.9148936170212766, \\\n",
    "                            eccentricity=0.1, luminosity_distance=200.0, theta_jn=0.4, \\\n",
    "                            psi=0.1, phase=1.2, geocent_time=1180002601.0, ra=45.0, dec=5.73)"
   ]
  },
  {
   "cell_type": "code",
   "execution_count": 2,
   "metadata": {},
   "outputs": [],
   "source": [
    "arg_plus = {'iota_':0.4, 'beta_':0.1, 'D_':200.0 , 'm1_':23.5, 'm2_':21.5, 'f_':50., 'f0_':20.0, 'Fp_':1.0, 'Fc_':0.0, 'et0_':0.1, 'phic_':1.2, 'tc_':1180002601.0}\n",
    "arg_plus2 = {'iota_':0.4, 'beta_':0.1, 'D_':200.0*Mpc , 'm1_':23.5, 'm2_':21.5, 'f_':50., 'f0_':20.0, 'et0_':0.1, 'phic_':1.2, 'tc_':1180002601.0}\n",
    "arg_plus3 = {'iota_':0.4, 'beta_':0.1, 'D_':200.0*Mpc , \\\n",
    "                        'f_':50.0, 'f0_':20.0, 'et0_':0.1, 'phic_':1.2, \\\n",
    "                        'tc_':1180002601.0, 'M_':45.0*Mo, 'eta_':0.24950617283950619, \\\n",
    "                        'ff_':97.68922304308887, 'delta_':3.9780000000000004e+30}\n",
    "arg_plus4 = {'iota_':0.4, 'beta_':0.1, 'D_':200.0*Mpc , \\\n",
    "                        'farray_':np.array([20,30,40]), 'f0_':20.0, 'et0_':0.1, 'phic_':1.2, \\\n",
    "                        'tc_':1180002601.0, 'M_':45.0*Mo, 'eta_':0.24950617283950619, \\\n",
    "                        'ff_':97.68922304308887, 'delta_':3.9780000000000004e+30}\n",
    "#fplus = hphc5.Fn(**arg_plus)\n",
    "#fplus2 = hphc11.Fn(**arg_plus3)\n",
    "\n",
    "fplus14 = hphc14.Fn(**arg_plus4)\n",
    "fplus15 = hphc15.Fn(**arg_plus4)\n",
    "fplus16 = hphc16.Fn(**arg_plus4)"
   ]
  },
  {
   "cell_type": "code",
   "execution_count": 3,
   "metadata": {},
   "outputs": [
    {
     "data": {
      "text/plain": [
       "(array([-4.15672870e-23+1.12145642e-22j, -5.36029112e-23+3.18179166e-23j,\n",
       "        -3.64941971e-23+2.33325147e-23j]),\n",
       " array([-1.12019602e-22-4.15464626e-23j, -3.17752409e-23-5.34641083e-23j,\n",
       "        -2.32564747e-23-3.63700052e-23j]))"
      ]
     },
     "execution_count": 3,
     "metadata": {},
     "output_type": "execute_result"
    }
   ],
   "source": [
    "fplus14.htilde()"
   ]
  },
  {
   "cell_type": "code",
   "execution_count": 4,
   "metadata": {},
   "outputs": [
    {
     "data": {
      "text/plain": [
       "6"
      ]
     },
     "execution_count": 4,
     "metadata": {},
     "output_type": "execute_result"
    }
   ],
   "source": [
    "9+-3"
   ]
  },
  {
   "cell_type": "code",
   "execution_count": 3,
   "metadata": {},
   "outputs": [
    {
     "data": {
      "text/plain": [
       "array([[0., 0., 0., 0., 0., 1., 1., 1., 0.],\n",
       "       [1., 0., 0., 0., 0., 1., 1., 1., 1.],\n",
       "       [1., 1., 1., 1., 0., 1., 1., 1., 1.],\n",
       "       [1., 1., 1., 0., 0., 1., 1., 1., 1.],\n",
       "       [1., 1., 0., 0., 0., 1., 1., 1., 1.],\n",
       "       [1., 0., 0., 0., 0., 1., 1., 1., 1.],\n",
       "       [0., 0., 0., 0., 0., 1., 1., 1., 1.],\n",
       "       [0., 0., 0., 0., 0., 1., 1., 1., 0.],\n",
       "       [0., 0., 0., 0., 0., 1., 1., 0., 0.],\n",
       "       [0., 0., 0., 0., 0., 1., 0., 0., 0.]])"
      ]
     },
     "execution_count": 3,
     "metadata": {},
     "output_type": "execute_result"
    }
   ],
   "source": [
    "fplus3.htilde()"
   ]
  },
  {
   "cell_type": "code",
   "execution_count": 8,
   "metadata": {
    "scrolled": true
   },
   "outputs": [
    {
     "name": "stdout",
     "output_type": "stream",
     "text": [
      "(1.3444100658748108+0.2725254121916997j)\n",
      "(8.001496166323534+1.62198357199795j)\n",
      "(-0.910603342507551-0.1845884358940215j)\n",
      "(-0.2641123967729858-0.053538233328132546j)\n",
      "(-0.04094592084499716-0.008300149068424667j)\n",
      "(-0.005242189582493422-0.0010626444364104347j)\n",
      "(-0.0006207929760552522-0.00012584096621969464j)\n",
      "(-6.845888126617825e-05-1.3877302252350987e-05j)\n",
      "0j\n",
      "0j\n"
     ]
    }
   ],
   "source": [
    "for ii in range(10):\n",
    "    print(fplus2.htilde()[2](ii,-2))"
   ]
  },
  {
   "cell_type": "code",
   "execution_count": 9,
   "metadata": {
    "scrolled": true
   },
   "outputs": [
    {
     "name": "stdout",
     "output_type": "stream",
     "text": [
      "(1.3444100658748106+0.2725254121916996j)\n",
      "(8.001496166323534+1.62198357199795j)\n",
      "(-0.910603342507551-0.1845884358940215j)\n",
      "(-0.2641123967729858-0.053538233328132546j)\n",
      "(-0.040945920844997145-0.008300149068424663j)\n",
      "(-0.005242189582493417-0.0010626444364104336j)\n",
      "(-0.0006207929760552516-0.00012584096621969453j)\n",
      "(-6.845888126617825e-05-1.3877302252350987e-05j)\n",
      "0j\n",
      "0j\n"
     ]
    }
   ],
   "source": [
    "for ii in range(10):\n",
    "    print(fplus3.htilde()[2](ii,-2))"
   ]
  },
  {
   "cell_type": "code",
   "execution_count": 10,
   "metadata": {},
   "outputs": [
    {
     "name": "stdout",
     "output_type": "stream",
     "text": [
      "(1.030381442126504+1.0609204612826066j)\n",
      "(6.056735345095147+6.236248241159705j)\n",
      "(-0.7081009087760657-0.7290879979582396j)\n",
      "(-0.20360106184906185-0.20963550353618993j)\n",
      "(-0.03151192205976186-0.03244588995949675j)\n",
      "(-0.004031715450029151-0.004151209678405673j)\n",
      "(-0.0004772863552720532-0.0004914324341421442j)\n",
      "(-5.2624676220296714e-05-5.418439568870892e-05j)\n",
      "0j\n",
      "0j\n"
     ]
    }
   ],
   "source": [
    "for ii in range(10):\n",
    "    print(fplus.xi_l1(ii+1,-2))"
   ]
  },
  {
   "cell_type": "code",
   "execution_count": 5,
   "metadata": {},
   "outputs": [
    {
     "data": {
      "text/plain": [
       "0.06003624127684828"
      ]
     },
     "execution_count": 5,
     "metadata": {},
     "output_type": "execute_result"
    }
   ],
   "source": [
    "fplus.eccn(1,-2)"
   ]
  },
  {
   "cell_type": "code",
   "execution_count": 8,
   "metadata": {},
   "outputs": [
    {
     "name": "stdout",
     "output_type": "stream",
     "text": [
      "1.3603317094397676\n",
      "8.101835418925221\n",
      "-0.9224395688690399\n",
      "-0.26761784306624226\n",
      "-0.041496643466270265\n",
      "-0.005313342463932207\n",
      "-0.000629275046849544\n",
      "-6.93989644152383e-05\n",
      "0.0\n",
      "0.0\n"
     ]
    }
   ],
   "source": [
    "for ii in range(10): \n",
    "    test44 = h1CpxSpx5.Fn(fplus.eccn(ii+1,-2),0.1,0.4,0.24950617283950619)\n",
    "    print(test44.cplus(ii+1,-2))"
   ]
  },
  {
   "cell_type": "code",
   "execution_count": 3,
   "metadata": {},
   "outputs": [
    {
     "name": "stdout",
     "output_type": "stream",
     "text": [
      "Execution took 0.4452\n"
     ]
    }
   ],
   "source": [
    "t0 = time.time()\n",
    "zz = fplus14.htilde()\n",
    "t1 = time.time()\n",
    "print('Execution took {:.4f}'.format(t1 - t0))"
   ]
  },
  {
   "cell_type": "code",
   "execution_count": 4,
   "metadata": {},
   "outputs": [
    {
     "name": "stdout",
     "output_type": "stream",
     "text": [
      "Execution took 0.5072\n"
     ]
    }
   ],
   "source": [
    "t0 = time.time()\n",
    "zz = fplus15.htilde()\n",
    "t1 = time.time()\n",
    "print('Execution took {:.4f}'.format(t1 - t0))"
   ]
  },
  {
   "cell_type": "code",
   "execution_count": 5,
   "metadata": {},
   "outputs": [
    {
     "name": "stdout",
     "output_type": "stream",
     "text": [
      "Execution took 0.4882\n"
     ]
    }
   ],
   "source": [
    "t0 = time.time()\n",
    "zz = fplus16.htilde()\n",
    "t1 = time.time()\n",
    "print('Execution took {:.4f}'.format(t1 - t0))"
   ]
  },
  {
   "cell_type": "code",
   "execution_count": 9,
   "metadata": {},
   "outputs": [
    {
     "name": "stdout",
     "output_type": "stream",
     "text": [
      "Execution took 1.1194\n"
     ]
    }
   ],
   "source": [
    "t0 = time.time()\n",
    "for ii in range(100):\n",
    "    zz = fplus3.htilde()\n",
    "t1 = time.time()\n",
    "print('Execution took {:.4f}'.format(t1 - t0))"
   ]
  },
  {
   "cell_type": "code",
   "execution_count": 8,
   "metadata": {},
   "outputs": [
    {
     "name": "stdout",
     "output_type": "stream",
     "text": [
      "Execution took 0.8051\n"
     ]
    }
   ],
   "source": [
    "t0 = time.time()\n",
    "for ii in range(100):\n",
    "    zz = fplus2.htilde()\n",
    "t1 = time.time()\n",
    "print('Execution took {:.4f}'.format(t1 - t0))"
   ]
  },
  {
   "cell_type": "code",
   "execution_count": 13,
   "metadata": {},
   "outputs": [
    {
     "ename": "NameError",
     "evalue": "name 'fplus1' is not defined",
     "output_type": "error",
     "traceback": [
      "\u001b[0;31m---------------------------------------------------------------------------\u001b[0m",
      "\u001b[0;31mNameError\u001b[0m                                 Traceback (most recent call last)",
      "\u001b[0;32m<ipython-input-13-bbac9fd35626>\u001b[0m in \u001b[0;36m<module>\u001b[0;34m\u001b[0m\n\u001b[0;32m----> 1\u001b[0;31m \u001b[0mfplus1\u001b[0m\u001b[0;34m.\u001b[0m\u001b[0meccn\u001b[0m\u001b[0;34m(\u001b[0m\u001b[0;36m1\u001b[0m\u001b[0;34m,\u001b[0m\u001b[0;34m-\u001b[0m\u001b[0;36m2\u001b[0m\u001b[0;34m)\u001b[0m\u001b[0;34m\u001b[0m\u001b[0;34m\u001b[0m\u001b[0m\n\u001b[0m",
      "\u001b[0;31mNameError\u001b[0m: name 'fplus1' is not defined"
     ]
    }
   ],
   "source": [
    "fplus1.eccn(1,-2)"
   ]
  },
  {
   "cell_type": "code",
   "execution_count": 5,
   "metadata": {
    "scrolled": true
   },
   "outputs": [
    {
     "data": {
      "text/plain": [
       "(-0.05800799034431211+0.1004727865213135j)"
      ]
     },
     "execution_count": 5,
     "metadata": {},
     "output_type": "execute_result"
    }
   ],
   "source": [
    "fplus2.xi_l0(1,-2)"
   ]
  },
  {
   "cell_type": "code",
   "execution_count": 12,
   "metadata": {},
   "outputs": [
    {
     "data": {
      "text/plain": [
       "(8815036911.772095-8815036911.772099j)"
      ]
     },
     "execution_count": 12,
     "metadata": {},
     "output_type": "execute_result"
    }
   ],
   "source": [
    "(1-766.4737128241678**2)**(7/4)"
   ]
  },
  {
   "cell_type": "code",
   "execution_count": 14,
   "metadata": {},
   "outputs": [
    {
     "data": {
      "text/plain": [
       "(8815036911.772104+8815036911.772108j)"
      ]
     },
     "execution_count": 14,
     "metadata": {},
     "output_type": "execute_result"
    }
   ],
   "source": [
    "np.power( ((1-766.4737128241678**2)*1j),(7/4) )/(1j)**(7/4)"
   ]
  },
  {
   "cell_type": "code",
   "execution_count": 6,
   "metadata": {},
   "outputs": [
    {
     "data": {
      "text/plain": [
       "(0.7370360838796302+0j)"
      ]
     },
     "execution_count": 6,
     "metadata": {},
     "output_type": "execute_result"
    }
   ],
   "source": [
    "np.power((1-0.4**2),7/4,dtype=np.complex)"
   ]
  },
  {
   "cell_type": "code",
   "execution_count": 5,
   "metadata": {},
   "outputs": [
    {
     "data": {
      "text/plain": [
       "(8815036911.772095-8815036911.772099j)"
      ]
     },
     "execution_count": 5,
     "metadata": {},
     "output_type": "execute_result"
    }
   ],
   "source": [
    "(1-766.4737128241678**2)**(7/4)"
   ]
  },
  {
   "cell_type": "code",
   "execution_count": 7,
   "metadata": {},
   "outputs": [
    {
     "data": {
      "text/plain": [
       "(5.5342731782875834e-24-5.013560269811376e-25j)"
      ]
     },
     "execution_count": 7,
     "metadata": {},
     "output_type": "execute_result"
    }
   ],
   "source": [
    "fplus.htilde()"
   ]
  },
  {
   "cell_type": "code",
   "execution_count": 9,
   "metadata": {
    "scrolled": true
   },
   "outputs": [
    {
     "name": "stdout",
     "output_type": "stream",
     "text": [
      "-174.2305008050212\n",
      "-141.35520752921354\n",
      "-136.0392938134141\n",
      "-157.71391805383195\n",
      "-213.6917374899976\n",
      "-312.35550884416284\n",
      "-461.9902029791834\n",
      "-670.5616693215887\n",
      "-945.6972131545898\n",
      "-1294.712198305867\n"
     ]
    }
   ],
   "source": [
    "for ii in range(10):\n",
    "    xil = fplus2.psi_l(ii+1,-3)\n",
    "    print(xil)"
   ]
  },
  {
   "cell_type": "code",
   "execution_count": 33,
   "metadata": {},
   "outputs": [
    {
     "name": "stdout",
     "output_type": "stream",
     "text": [
      "0.0    0.014639220994070659\n",
      "0.0    0.015169740956777217\n",
      "0.0    0.015857117600498096\n",
      "0.0    0.01636531750028254\n",
      "0.0    0.016727243794910494\n",
      "0.0    0.01699176458286298\n",
      "0.0    0.017191620454341295\n",
      "0.0    0.017347252350343536\n",
      "0.0    0.01747160429999319\n",
      "0.0    0.017573132516361795\n"
     ]
    }
   ],
   "source": [
    "for ii in range(10):\n",
    "    et = fplus2.eccn(ii+1,-3)\n",
    "    fn = h05CpxSpx5.Fn(et,sp.pi/3,sp.pi/3)\n",
    "    Cp0 = fn.splus(ii+1,-3)\n",
    "    print(Cp0, '  ',et)"
   ]
  },
  {
   "cell_type": "code",
   "execution_count": 32,
   "metadata": {},
   "outputs": [
    {
     "data": {
      "text/plain": [
       "0.9999999999999957"
      ]
     },
     "execution_count": 32,
     "metadata": {},
     "output_type": "execute_result"
    }
   ],
   "source": [
    "ee = 0.01636531750028254\n",
    "iota = np.pi/3\n",
    "beta = np.pi/3\n",
    "ee**3*( - 38*np.sin(iota)*np.sin(3*beta) - 38*np.cos(iota)**2*np.sin(iota)*np.sin(3*beta)) + ee**(8*np.sin(iota)*np.sin(3*beta) + 8*np.cos(iota)**2*np.sin(iota)*np.sin(3*beta)) + ee**5*(176/3*np.sin(iota)*np.sin(3*beta) + 176/3*np.cos(iota)**2*np.sin(iota)*np.sin(3*beta))"
   ]
  },
  {
   "cell_type": "code",
   "execution_count": 34,
   "metadata": {},
   "outputs": [
    {
     "data": {
      "text/plain": [
       "1.7334579170191625e-17"
      ]
     },
     "execution_count": 34,
     "metadata": {},
     "output_type": "execute_result"
    }
   ],
   "source": [
    "ee = 0.01636531750028254\n",
    "iota = np.pi/3\n",
    "beta = np.pi/3\n",
    "ee**3*( - 38*np.sin(iota)*np.sin(3*beta) - 38*np.cos(iota)**2*np.sin(iota)*np.sin(3*beta)) + ee*(8*np.sin(iota)*np.sin(3*beta) + 8*np.cos(iota)**2*np.sin(iota)*np.sin(3*beta)) + ee**5*(176/3*np.sin(iota)*np.sin(3*beta) + 176/3*np.cos(iota)**2*np.sin(iota)*np.sin(3*beta))"
   ]
  },
  {
   "cell_type": "code",
   "execution_count": 4,
   "metadata": {},
   "outputs": [
    {
     "name": "stdout",
     "output_type": "stream",
     "text": [
      "Execution took 0.0406\n"
     ]
    }
   ],
   "source": [
    "import time\n",
    "t0 = time.time()\n",
    "fplus.htilde()\n",
    "#fplus2.htilde()\n",
    "t1 = time.time()\n",
    "print('Execution took {:.4f}'.format(t1 - t0))"
   ]
  },
  {
   "cell_type": "code",
   "execution_count": 5,
   "metadata": {},
   "outputs": [
    {
     "name": "stdout",
     "output_type": "stream",
     "text": [
      "(-9.563236707058214e-24+7.965974785544314e-26j)\n",
      "Execution took 5.4276\n"
     ]
    }
   ],
   "source": [
    "import time\n",
    "t0 = time.time()\n",
    "print(fplus.htilde())\n",
    "t1 = time.time()\n",
    "print('Execution took {:.4f}'.format(t1 - t0))"
   ]
  },
  {
   "cell_type": "code",
   "execution_count": 7,
   "metadata": {},
   "outputs": [
    {
     "name": "stdout",
     "output_type": "stream",
     "text": [
      "Execution took 0.0179\n"
     ]
    }
   ],
   "source": [
    "import time\n",
    "t0 = time.time()\n",
    "et = fplus.eccn(1,2)\n",
    "fn = h05CpxSpx4.Fn(et,sp.pi/3,sp.pi/3)\n",
    "fn.cplus(1,2)\n",
    "t1 = time.time()\n",
    "print('Execution took {:.4f}'.format(t1 - t0))"
   ]
  },
  {
   "cell_type": "code",
   "execution_count": 16,
   "metadata": {},
   "outputs": [
    {
     "name": "stdout",
     "output_type": "stream",
     "text": [
      "2.430113800922941e-07 , 0.0055170314788476876\n",
      "1.5546428121964128e-08 , 0.010164039876179361\n",
      "1.0488859715430617e-09 , 0.01441331376393247\n",
      "3.0807129028019986e-11 , 0.01572215720769032\n",
      "0.0 , 0.016379140319968857\n",
      "0.0 , 0.016779961721317377\n",
      "0.0 , 0.017052124477030414\n",
      "0.0 , 0.01724994913866151\n",
      "0.0 , 0.01740070874052484\n",
      "0.0 , 0.01751967950472511\n"
     ]
    }
   ],
   "source": [
    "for i in range(10):\n",
    "    j=i+1\n",
    "    et = fplus.eccn(j,2)\n",
    "    fn = h1CpxSpx4.Fn(et,sp.pi/3,sp.pi/3,0.25)\n",
    "    print(fn.scross(j,2),',',et)"
   ]
  },
  {
   "cell_type": "code",
   "execution_count": 9,
   "metadata": {},
   "outputs": [],
   "source": [
    "mm=np.array([1,2,3])"
   ]
  },
  {
   "cell_type": "code",
   "execution_count": 12,
   "metadata": {},
   "outputs": [
    {
     "ename": "TypeError",
     "evalue": "can't convert complex to float",
     "output_type": "error",
     "traceback": [
      "\u001b[0;31m---------------------------------------------------------------------------\u001b[0m",
      "\u001b[0;31mTypeError\u001b[0m                                 Traceback (most recent call last)",
      "\u001b[0;32m<ipython-input-12-3c154155600a>\u001b[0m in \u001b[0;36m<module>\u001b[0;34m\u001b[0m\n\u001b[0;32m----> 1\u001b[0;31m \u001b[0mfloat\u001b[0m\u001b[0;34m(\u001b[0m\u001b[0;36m1j\u001b[0m\u001b[0;34m+\u001b[0m\u001b[0;36m1\u001b[0m\u001b[0;34m)\u001b[0m\u001b[0;34m\u001b[0m\u001b[0;34m\u001b[0m\u001b[0m\n\u001b[0m",
      "\u001b[0;31mTypeError\u001b[0m: can't convert complex to float"
     ]
    }
   ],
   "source": [
    "float(1j+1)"
   ]
  },
  {
   "cell_type": "code",
   "execution_count": 15,
   "metadata": {},
   "outputs": [
    {
     "name": "stdout",
     "output_type": "stream",
     "text": [
      "Execution took 5.1655\n"
     ]
    }
   ],
   "source": [
    "import time\n",
    "t0 = time.time()\n",
    "fplus.htilde()\n",
    "t1 = time.time()\n",
    "print('Execution took {:.4f}'.format(t1 - t0))"
   ]
  },
  {
   "cell_type": "code",
   "execution_count": 27,
   "metadata": {},
   "outputs": [],
   "source": [
    "import numpy.ma as ma\n",
    "x = np.array([1, 2, 3, -1, 5])\n",
    "y = np.array([1, 1, 1, 1, 1])"
   ]
  },
  {
   "cell_type": "code",
   "execution_count": 28,
   "metadata": {},
   "outputs": [],
   "source": [
    "mx = ma.masked_array(x, mask=[0, 0, 0, 1, 0])\n",
    "my = ma.masked_array(y, mask=[0, 0, 0, 1, 0])"
   ]
  },
  {
   "cell_type": "code",
   "execution_count": 32,
   "metadata": {},
   "outputs": [],
   "source": [
    "z = np.array([mx,my])"
   ]
  },
  {
   "cell_type": "code",
   "execution_count": 34,
   "metadata": {},
   "outputs": [],
   "source": [
    "mz = ma.masked_array(z, mask=[[0, 0, 0, 1, 0],[0, 0, 0, 1, 0]])"
   ]
  },
  {
   "cell_type": "code",
   "execution_count": 35,
   "metadata": {},
   "outputs": [
    {
     "data": {
      "text/plain": [
       "masked_array(\n",
       "  data=[[1, 2, 3, --, 5],\n",
       "        [1, 1, 1, --, 1]],\n",
       "  mask=[[False, False, False,  True, False],\n",
       "        [False, False, False,  True, False]],\n",
       "  fill_value=999999)"
      ]
     },
     "execution_count": 35,
     "metadata": {},
     "output_type": "execute_result"
    }
   ],
   "source": [
    "mz"
   ]
  },
  {
   "cell_type": "code",
   "execution_count": 13,
   "metadata": {},
   "outputs": [
    {
     "name": "stderr",
     "output_type": "stream",
     "text": [
      "/home/hemantakumar.phurailatpam/anaconda3/envs/bilby/lib/python3.7/site-packages/ipykernel_launcher.py:1: RuntimeWarning: invalid value encountered in true_divide\n",
      "  \"\"\"Entry point for launching an IPython kernel.\n"
     ]
    },
    {
     "data": {
      "text/plain": [
       "array([ 1.,  2., nan,  4.])"
      ]
     },
     "execution_count": 13,
     "metadata": {},
     "output_type": "execute_result"
    }
   ],
   "source": [
    "np.array([1.0,2.0,False,4.0])/np.array([1.0,1.0,False,1.0])"
   ]
  },
  {
   "cell_type": "code",
   "execution_count": 5,
   "metadata": {},
   "outputs": [
    {
     "name": "stdout",
     "output_type": "stream",
     "text": [
      "1\n",
      "2\n",
      "2\n",
      "3\n"
     ]
    }
   ],
   "source": [
    "for (ii,jj) in np.array([(1,2),(2,3)]):\n",
    "    print(ii)\n",
    "    print(jj)"
   ]
  },
  {
   "cell_type": "code",
   "execution_count": 15,
   "metadata": {},
   "outputs": [
    {
     "data": {
      "text/plain": [
       "array([[1, 2],\n",
       "       [3, 4]])"
      ]
     },
     "execution_count": 15,
     "metadata": {},
     "output_type": "execute_result"
    }
   ],
   "source": [
    "np.array([[1,2],[3,4]])"
   ]
  },
  {
   "cell_type": "code",
   "execution_count": 15,
   "metadata": {},
   "outputs": [],
   "source": [
    "class test1:\n",
    "    def __init__(self, xx_, yy_):\n",
    "        self.xx_ = xx_\n",
    "        self.yy_ = yy_\n",
    "        \n",
    "    def k1_(self):\n",
    "        k2 = self.k2_\n",
    "        xx = self.xx_\n",
    "        yy = self.yy_\n",
    "        \n",
    "        global zz\n",
    "        zz = 3\n",
    "        \n",
    "        z = k2(xx,yy)\n",
    "        \n",
    "        return(z)\n",
    "    \n",
    "    def k2_(self, a_, b_):\n",
    "        \n",
    "        k3 = a_ + b_ + zz\n",
    "        \n",
    "        return(k3)\n",
    "        "
   ]
  },
  {
   "cell_type": "code",
   "execution_count": 7,
   "metadata": {},
   "outputs": [],
   "source": [
    "test2 = np.array([1,2,3,0,5,0])\n",
    "test3 = np.array([1,1,1,4,1,6])"
   ]
  },
  {
   "cell_type": "code",
   "execution_count": 12,
   "metadata": {},
   "outputs": [
    {
     "ename": "ValueError",
     "evalue": "The truth value of an array with more than one element is ambiguous. Use a.any() or a.all()",
     "output_type": "error",
     "traceback": [
      "\u001b[0;31m---------------------------------------------------------------------------\u001b[0m",
      "\u001b[0;31mValueError\u001b[0m                                Traceback (most recent call last)",
      "\u001b[0;32m<ipython-input-12-7cf667f23f5b>\u001b[0m in \u001b[0;36m<module>\u001b[0;34m\u001b[0m\n\u001b[0;32m----> 1\u001b[0;31m \u001b[0mtest3\u001b[0m\u001b[0;34m[\u001b[0m\u001b[0mtest2\u001b[0m\u001b[0;34m!=\u001b[0m\u001b[0;36m0\u001b[0m \u001b[0;32mor\u001b[0m \u001b[0mtest2\u001b[0m\u001b[0;34m==\u001b[0m\u001b[0;36m1\u001b[0m\u001b[0;34m]\u001b[0m \u001b[0;34m=\u001b[0m \u001b[0mtest2\u001b[0m\u001b[0;34m[\u001b[0m\u001b[0mtest2\u001b[0m\u001b[0;34m!=\u001b[0m\u001b[0;36m0\u001b[0m\u001b[0;34m]\u001b[0m\u001b[0;34m**\u001b[0m\u001b[0;36m2\u001b[0m\u001b[0;34m\u001b[0m\u001b[0;34m\u001b[0m\u001b[0m\n\u001b[0m",
      "\u001b[0;31mValueError\u001b[0m: The truth value of an array with more than one element is ambiguous. Use a.any() or a.all()"
     ]
    }
   ],
   "source": [
    "test3[test2!=0 or test2==1] = test2[test2!=0]**2"
   ]
  },
  {
   "cell_type": "code",
   "execution_count": 7,
   "metadata": {},
   "outputs": [
    {
     "data": {
      "text/plain": [
       "array([ 1,  4,  9,  4, 25,  6])"
      ]
     },
     "execution_count": 7,
     "metadata": {},
     "output_type": "execute_result"
    }
   ],
   "source": [
    "test3"
   ]
  },
  {
   "cell_type": "code",
   "execution_count": 9,
   "metadata": {},
   "outputs": [
    {
     "data": {
      "text/plain": [
       "array([  0.        ,  11.11111111,  22.22222222,  33.33333333,\n",
       "        44.44444444,  55.55555556,  66.66666667,  77.77777778,\n",
       "        88.88888889, 100.        ])"
      ]
     },
     "execution_count": 9,
     "metadata": {},
     "output_type": "execute_result"
    }
   ],
   "source": [
    "np.linspace(0,100,10)"
   ]
  },
  {
   "cell_type": "code",
   "execution_count": 8,
   "metadata": {},
   "outputs": [
    {
     "data": {
      "text/plain": [
       "(array([2, 3, 4, 5, 6, 7, 8]),)"
      ]
     },
     "execution_count": 8,
     "metadata": {},
     "output_type": "execute_result"
    }
   ],
   "source": [
    "arr = np.linspace(0,100,10)\n",
    "np.where((arr>20) & (arr<100))"
   ]
  },
  {
   "cell_type": "code",
   "execution_count": null,
   "metadata": {},
   "outputs": [],
   "source": []
  },
  {
   "cell_type": "code",
   "execution_count": null,
   "metadata": {},
   "outputs": [],
   "source": []
  },
  {
   "cell_type": "code",
   "execution_count": null,
   "metadata": {},
   "outputs": [],
   "source": []
  },
  {
   "cell_type": "code",
   "execution_count": null,
   "metadata": {},
   "outputs": [],
   "source": []
  },
  {
   "cell_type": "code",
   "execution_count": null,
   "metadata": {},
   "outputs": [],
   "source": []
  },
  {
   "cell_type": "code",
   "execution_count": null,
   "metadata": {},
   "outputs": [],
   "source": []
  },
  {
   "cell_type": "code",
   "execution_count": null,
   "metadata": {},
   "outputs": [],
   "source": []
  },
  {
   "cell_type": "code",
   "execution_count": null,
   "metadata": {},
   "outputs": [],
   "source": []
  },
  {
   "cell_type": "code",
   "execution_count": null,
   "metadata": {},
   "outputs": [],
   "source": []
  },
  {
   "cell_type": "code",
   "execution_count": null,
   "metadata": {},
   "outputs": [],
   "source": []
  },
  {
   "cell_type": "code",
   "execution_count": null,
   "metadata": {},
   "outputs": [],
   "source": []
  },
  {
   "cell_type": "code",
   "execution_count": null,
   "metadata": {},
   "outputs": [],
   "source": []
  }
 ],
 "metadata": {
  "kernelspec": {
   "display_name": "Python 3",
   "language": "python",
   "name": "python3"
  },
  "language_info": {
   "codemirror_mode": {
    "name": "ipython",
    "version": 3
   },
   "file_extension": ".py",
   "mimetype": "text/x-python",
   "name": "python",
   "nbconvert_exporter": "python",
   "pygments_lexer": "ipython3",
   "version": "3.7.7"
  }
 },
 "nbformat": 4,
 "nbformat_minor": 4
}
