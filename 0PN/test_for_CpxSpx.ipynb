{
 "cells": [
  {
   "cell_type": "code",
   "execution_count": 1,
   "metadata": {},
   "outputs": [],
   "source": [
    "import numpy as np\n",
    "import sympy as sp\n",
    "import matplotlib.pyplot as plt\n",
    "import hphc11\n",
    "import hphc5\n",
    "import hphc10\n",
    "import h0CpxSpx5\n",
    "import h05CpxSpx5\n",
    "import h1CpxSpx5\n",
    "import time\n",
    "\n",
    "C = 299792458.\n",
    "G = 6.67408*1e-11\n",
    "Mo = 1.989*1e30\n",
    "Mpc = 3.086*1e22"
   ]
  },
  {
   "cell_type": "code",
   "execution_count": 4,
   "metadata": {},
   "outputs": [],
   "source": [
    "x = []\n",
    "l = np.array([1,2,3]).astype('float64')\n",
    "x.append( l + 1)\n",
    "x.append( l + 2)\n",
    "x.append( l + 3)\n",
    "\n",
    "\n",
    "x = np.array(x)"
   ]
  },
  {
   "cell_type": "code",
   "execution_count": 9,
   "metadata": {
    "scrolled": true
   },
   "outputs": [],
   "source": [
    "_2b3 = np.array([l,\\\n",
    "                     l,\\\n",
    "                         l])"
   ]
  },
  {
   "cell_type": "code",
   "execution_count": 10,
   "metadata": {},
   "outputs": [
    {
     "data": {
      "text/plain": [
       "array([[1., 2., 3.],\n",
       "       [1., 2., 3.],\n",
       "       [1., 2., 3.]])"
      ]
     },
     "execution_count": 10,
     "metadata": {},
     "output_type": "execute_result"
    }
   ],
   "source": [
    "_2b3"
   ]
  },
  {
   "cell_type": "code",
   "execution_count": 4,
   "metadata": {},
   "outputs": [],
   "source": [
    "mass_1 = 23.5\n",
    "mass_2 = 21.5\n",
    "symmetric_mass_ratio = (mass_1*mass_2)/((mass_1+mass_2)**2)\n",
    "maximum_f = (C**3)/( G*(mass_1+mass_2)*Mo*np.pi*6**(3/2) )\n",
    "mass_diff = (mass_1-mass_2)*Mo"
   ]
  },
  {
   "cell_type": "code",
   "execution_count": 5,
   "metadata": {},
   "outputs": [
    {
     "data": {
      "text/plain": [
       "0.24950617283950619"
      ]
     },
     "execution_count": 5,
     "metadata": {},
     "output_type": "execute_result"
    }
   ],
   "source": [
    "symmetric_mass_ratio"
   ]
  },
  {
   "cell_type": "code",
   "execution_count": 2,
   "metadata": {},
   "outputs": [],
   "source": [
    "#m1=23.5, m2=21.5\n",
    "injection_parameters = dict(chirp_mass=19.564163812778446, mass_ratio=0.9148936170212766, \\\n",
    "                            eccentricity=0.1, luminosity_distance=200.0, theta_jn=0.4, \\\n",
    "                            psi=0.1, phase=1.2, geocent_time=1180002601.0, ra=45.0, dec=5.73)"
   ]
  },
  {
   "cell_type": "code",
   "execution_count": 3,
   "metadata": {},
   "outputs": [],
   "source": [
    "arg_plus = {'iota_':0.4, 'beta_':0.1, 'D_':200.0 , 'm1_':23.5, 'm2_':21.5, 'f_':30., 'f0_':20.0, 'Fp_':1.0, 'Fc_':0.0, 'et0_':0.1, 'phic_':1.2, 'tc_':1180002601.0}\n",
    "arg_plus2 = {'iota_':0.4, 'beta_':0.1, 'D_':200.0 , 'm1_':23.5, 'm2_':21.5, 'f_':30., 'f0_':20.0, 'et0_':0.1, 'phic_':1.2, 'tc_':1180002601.0}\n",
    "arg_plus3 = {'iota_':0.4, 'beta_':0.1, 'D_':200.0 , \\\n",
    "                        'f_':30.0, 'f0_':20.0, 'et0_':0.1, 'phic_':1.2, \\\n",
    "                        'tc_':1180002601.0, 'M_':45.0*Mo, 'eta_':0.24950617283950619, \\\n",
    "                        'ff_':97.68922304308887, 'delta_':3.9780000000000004e+30}\n",
    "fplus = hphc5.Fn(**arg_plus)\n",
    "fplus2 = hphc11.Fn(**arg_plus3)\n",
    "fplus3 = hphc10.Fn(**arg_plus3)"
   ]
  },
  {
   "cell_type": "code",
   "execution_count": 4,
   "metadata": {},
   "outputs": [
    {
     "data": {
      "text/plain": [
       "((-1.654185839942542+0.9819009057667786j),\n",
       " (-0.9805839347354474-1.649902381289535j))"
      ]
     },
     "execution_count": 4,
     "metadata": {},
     "output_type": "execute_result"
    }
   ],
   "source": [
    "fplus3.htilde()"
   ]
  },
  {
   "cell_type": "code",
   "execution_count": null,
   "metadata": {},
   "outputs": [],
   "source": []
  },
  {
   "cell_type": "code",
   "execution_count": 3,
   "metadata": {},
   "outputs": [
    {
     "data": {
      "text/plain": [
       "((-1.654201513472899+0.9818437222595874j),\n",
       " (-0.9805269389859735-1.6499180025008304j))"
      ]
     },
     "execution_count": 3,
     "metadata": {},
     "output_type": "execute_result"
    }
   ],
   "source": [
    "fplus2.htilde()"
   ]
  },
  {
   "cell_type": "code",
   "execution_count": 22,
   "metadata": {
    "scrolled": true
   },
   "outputs": [
    {
     "name": "stdout",
     "output_type": "stream",
     "text": [
      "Execution took 0.0567\n"
     ]
    }
   ],
   "source": [
    "t0 = time.time()\n",
    "for i in range(1000000):\n",
    "    (1-766.4737128241678**2)**(7/4)\n",
    "t1 = time.time()\n",
    "print('Execution took {:.4f}'.format(t1 - t0))"
   ]
  },
  {
   "cell_type": "code",
   "execution_count": 21,
   "metadata": {},
   "outputs": [
    {
     "name": "stdout",
     "output_type": "stream",
     "text": [
      "Execution took 2.8078\n"
     ]
    }
   ],
   "source": [
    "t0 = time.time()\n",
    "for i in range(1000000):\n",
    "    np.power((1-766.4737128241678**2),7/4,dtype=np.complex)\n",
    "t1 = time.time()\n",
    "print('Execution took {:.4f}'.format(t1 - t0))"
   ]
  },
  {
   "cell_type": "code",
   "execution_count": 5,
   "metadata": {},
   "outputs": [
    {
     "name": "stdout",
     "output_type": "stream",
     "text": [
      "Execution took 0.0331\n"
     ]
    }
   ],
   "source": [
    "t0 = time.time()\n",
    "fplus3.htilde()\n",
    "t1 = time.time()\n",
    "print('Execution took {:.4f}'.format(t1 - t0))"
   ]
  },
  {
   "cell_type": "code",
   "execution_count": 11,
   "metadata": {},
   "outputs": [
    {
     "ename": "NameError",
     "evalue": "name 'fplus1' is not defined",
     "output_type": "error",
     "traceback": [
      "\u001b[0;31m---------------------------------------------------------------------------\u001b[0m",
      "\u001b[0;31mNameError\u001b[0m                                 Traceback (most recent call last)",
      "\u001b[0;32m<ipython-input-11-bbac9fd35626>\u001b[0m in \u001b[0;36m<module>\u001b[0;34m\u001b[0m\n\u001b[0;32m----> 1\u001b[0;31m \u001b[0mfplus1\u001b[0m\u001b[0;34m.\u001b[0m\u001b[0meccn\u001b[0m\u001b[0;34m(\u001b[0m\u001b[0;36m1\u001b[0m\u001b[0;34m,\u001b[0m\u001b[0;34m-\u001b[0m\u001b[0;36m2\u001b[0m\u001b[0;34m)\u001b[0m\u001b[0;34m\u001b[0m\u001b[0;34m\u001b[0m\u001b[0m\n\u001b[0m",
      "\u001b[0;31mNameError\u001b[0m: name 'fplus1' is not defined"
     ]
    }
   ],
   "source": [
    "fplus1.eccn(1,-2)"
   ]
  },
  {
   "cell_type": "code",
   "execution_count": 5,
   "metadata": {
    "scrolled": true
   },
   "outputs": [
    {
     "data": {
      "text/plain": [
       "(-0.05800799034431211+0.1004727865213135j)"
      ]
     },
     "execution_count": 5,
     "metadata": {},
     "output_type": "execute_result"
    }
   ],
   "source": [
    "fplus2.xi_l0(1,-2)"
   ]
  },
  {
   "cell_type": "code",
   "execution_count": 12,
   "metadata": {},
   "outputs": [
    {
     "data": {
      "text/plain": [
       "(8815036911.772095-8815036911.772099j)"
      ]
     },
     "execution_count": 12,
     "metadata": {},
     "output_type": "execute_result"
    }
   ],
   "source": [
    "(1-766.4737128241678**2)**(7/4)"
   ]
  },
  {
   "cell_type": "code",
   "execution_count": 14,
   "metadata": {},
   "outputs": [
    {
     "data": {
      "text/plain": [
       "(8815036911.772104+8815036911.772108j)"
      ]
     },
     "execution_count": 14,
     "metadata": {},
     "output_type": "execute_result"
    }
   ],
   "source": [
    "np.power( ((1-766.4737128241678**2)*1j),(7/4) )/(1j)**(7/4)"
   ]
  },
  {
   "cell_type": "code",
   "execution_count": 6,
   "metadata": {},
   "outputs": [
    {
     "data": {
      "text/plain": [
       "(0.7370360838796302+0j)"
      ]
     },
     "execution_count": 6,
     "metadata": {},
     "output_type": "execute_result"
    }
   ],
   "source": [
    "np.power((1-0.4**2),7/4,dtype=np.complex)"
   ]
  },
  {
   "cell_type": "code",
   "execution_count": 5,
   "metadata": {},
   "outputs": [
    {
     "data": {
      "text/plain": [
       "(8815036911.772095-8815036911.772099j)"
      ]
     },
     "execution_count": 5,
     "metadata": {},
     "output_type": "execute_result"
    }
   ],
   "source": [
    "(1-766.4737128241678**2)**(7/4)"
   ]
  },
  {
   "cell_type": "code",
   "execution_count": 7,
   "metadata": {},
   "outputs": [
    {
     "data": {
      "text/plain": [
       "(5.5342731782875834e-24-5.013560269811376e-25j)"
      ]
     },
     "execution_count": 7,
     "metadata": {},
     "output_type": "execute_result"
    }
   ],
   "source": [
    "fplus.htilde()"
   ]
  },
  {
   "cell_type": "code",
   "execution_count": 9,
   "metadata": {
    "scrolled": true
   },
   "outputs": [
    {
     "name": "stdout",
     "output_type": "stream",
     "text": [
      "-174.2305008050212\n",
      "-141.35520752921354\n",
      "-136.0392938134141\n",
      "-157.71391805383195\n",
      "-213.6917374899976\n",
      "-312.35550884416284\n",
      "-461.9902029791834\n",
      "-670.5616693215887\n",
      "-945.6972131545898\n",
      "-1294.712198305867\n"
     ]
    }
   ],
   "source": [
    "for ii in range(10):\n",
    "    xil = fplus2.psi_l(ii+1,-3)\n",
    "    print(xil)"
   ]
  },
  {
   "cell_type": "code",
   "execution_count": 33,
   "metadata": {},
   "outputs": [
    {
     "name": "stdout",
     "output_type": "stream",
     "text": [
      "0.0    0.014639220994070659\n",
      "0.0    0.015169740956777217\n",
      "0.0    0.015857117600498096\n",
      "0.0    0.01636531750028254\n",
      "0.0    0.016727243794910494\n",
      "0.0    0.01699176458286298\n",
      "0.0    0.017191620454341295\n",
      "0.0    0.017347252350343536\n",
      "0.0    0.01747160429999319\n",
      "0.0    0.017573132516361795\n"
     ]
    }
   ],
   "source": [
    "for ii in range(10):\n",
    "    et = fplus2.eccn(ii+1,-3)\n",
    "    fn = h05CpxSpx5.Fn(et,sp.pi/3,sp.pi/3)\n",
    "    Cp0 = fn.splus(ii+1,-3)\n",
    "    print(Cp0, '  ',et)"
   ]
  },
  {
   "cell_type": "code",
   "execution_count": 32,
   "metadata": {},
   "outputs": [
    {
     "data": {
      "text/plain": [
       "0.9999999999999957"
      ]
     },
     "execution_count": 32,
     "metadata": {},
     "output_type": "execute_result"
    }
   ],
   "source": [
    "ee = 0.01636531750028254\n",
    "iota = np.pi/3\n",
    "beta = np.pi/3\n",
    "ee**3*( - 38*np.sin(iota)*np.sin(3*beta) - 38*np.cos(iota)**2*np.sin(iota)*np.sin(3*beta)) + ee**(8*np.sin(iota)*np.sin(3*beta) + 8*np.cos(iota)**2*np.sin(iota)*np.sin(3*beta)) + ee**5*(176/3*np.sin(iota)*np.sin(3*beta) + 176/3*np.cos(iota)**2*np.sin(iota)*np.sin(3*beta))"
   ]
  },
  {
   "cell_type": "code",
   "execution_count": 34,
   "metadata": {},
   "outputs": [
    {
     "data": {
      "text/plain": [
       "1.7334579170191625e-17"
      ]
     },
     "execution_count": 34,
     "metadata": {},
     "output_type": "execute_result"
    }
   ],
   "source": [
    "ee = 0.01636531750028254\n",
    "iota = np.pi/3\n",
    "beta = np.pi/3\n",
    "ee**3*( - 38*np.sin(iota)*np.sin(3*beta) - 38*np.cos(iota)**2*np.sin(iota)*np.sin(3*beta)) + ee*(8*np.sin(iota)*np.sin(3*beta) + 8*np.cos(iota)**2*np.sin(iota)*np.sin(3*beta)) + ee**5*(176/3*np.sin(iota)*np.sin(3*beta) + 176/3*np.cos(iota)**2*np.sin(iota)*np.sin(3*beta))"
   ]
  },
  {
   "cell_type": "code",
   "execution_count": 4,
   "metadata": {},
   "outputs": [
    {
     "name": "stdout",
     "output_type": "stream",
     "text": [
      "Execution took 0.0406\n"
     ]
    }
   ],
   "source": [
    "import time\n",
    "t0 = time.time()\n",
    "fplus.htilde()\n",
    "#fplus2.htilde()\n",
    "t1 = time.time()\n",
    "print('Execution took {:.4f}'.format(t1 - t0))"
   ]
  },
  {
   "cell_type": "code",
   "execution_count": 5,
   "metadata": {},
   "outputs": [
    {
     "name": "stdout",
     "output_type": "stream",
     "text": [
      "(-9.563236707058214e-24+7.965974785544314e-26j)\n",
      "Execution took 5.4276\n"
     ]
    }
   ],
   "source": [
    "import time\n",
    "t0 = time.time()\n",
    "print(fplus.htilde())\n",
    "t1 = time.time()\n",
    "print('Execution took {:.4f}'.format(t1 - t0))"
   ]
  },
  {
   "cell_type": "code",
   "execution_count": 7,
   "metadata": {},
   "outputs": [
    {
     "name": "stdout",
     "output_type": "stream",
     "text": [
      "Execution took 0.0179\n"
     ]
    }
   ],
   "source": [
    "import time\n",
    "t0 = time.time()\n",
    "et = fplus.eccn(1,2)\n",
    "fn = h05CpxSpx4.Fn(et,sp.pi/3,sp.pi/3)\n",
    "fn.cplus(1,2)\n",
    "t1 = time.time()\n",
    "print('Execution took {:.4f}'.format(t1 - t0))"
   ]
  },
  {
   "cell_type": "code",
   "execution_count": 16,
   "metadata": {},
   "outputs": [
    {
     "name": "stdout",
     "output_type": "stream",
     "text": [
      "2.430113800922941e-07 , 0.0055170314788476876\n",
      "1.5546428121964128e-08 , 0.010164039876179361\n",
      "1.0488859715430617e-09 , 0.01441331376393247\n",
      "3.0807129028019986e-11 , 0.01572215720769032\n",
      "0.0 , 0.016379140319968857\n",
      "0.0 , 0.016779961721317377\n",
      "0.0 , 0.017052124477030414\n",
      "0.0 , 0.01724994913866151\n",
      "0.0 , 0.01740070874052484\n",
      "0.0 , 0.01751967950472511\n"
     ]
    }
   ],
   "source": [
    "for i in range(10):\n",
    "    j=i+1\n",
    "    et = fplus.eccn(j,2)\n",
    "    fn = h1CpxSpx4.Fn(et,sp.pi/3,sp.pi/3,0.25)\n",
    "    print(fn.scross(j,2),',',et)"
   ]
  },
  {
   "cell_type": "code",
   "execution_count": 9,
   "metadata": {},
   "outputs": [],
   "source": [
    "mm=np.array([1,2,3])"
   ]
  },
  {
   "cell_type": "code",
   "execution_count": 12,
   "metadata": {},
   "outputs": [
    {
     "ename": "TypeError",
     "evalue": "can't convert complex to float",
     "output_type": "error",
     "traceback": [
      "\u001b[0;31m---------------------------------------------------------------------------\u001b[0m",
      "\u001b[0;31mTypeError\u001b[0m                                 Traceback (most recent call last)",
      "\u001b[0;32m<ipython-input-12-3c154155600a>\u001b[0m in \u001b[0;36m<module>\u001b[0;34m\u001b[0m\n\u001b[0;32m----> 1\u001b[0;31m \u001b[0mfloat\u001b[0m\u001b[0;34m(\u001b[0m\u001b[0;36m1j\u001b[0m\u001b[0;34m+\u001b[0m\u001b[0;36m1\u001b[0m\u001b[0;34m)\u001b[0m\u001b[0;34m\u001b[0m\u001b[0;34m\u001b[0m\u001b[0m\n\u001b[0m",
      "\u001b[0;31mTypeError\u001b[0m: can't convert complex to float"
     ]
    }
   ],
   "source": [
    "float(1j+1)"
   ]
  },
  {
   "cell_type": "code",
   "execution_count": 15,
   "metadata": {},
   "outputs": [
    {
     "name": "stdout",
     "output_type": "stream",
     "text": [
      "Execution took 5.1655\n"
     ]
    }
   ],
   "source": [
    "import time\n",
    "t0 = time.time()\n",
    "fplus.htilde()\n",
    "t1 = time.time()\n",
    "print('Execution took {:.4f}'.format(t1 - t0))"
   ]
  },
  {
   "cell_type": "code",
   "execution_count": 7,
   "metadata": {},
   "outputs": [
    {
     "data": {
      "text/plain": [
       "1.6867005329740134e-20"
      ]
     },
     "execution_count": 7,
     "metadata": {},
     "output_type": "execute_result"
    }
   ],
   "source": [
    "iota = np.pi/3\n",
    "beta = np.pi/3\n",
    "e = 0.014639220994070659\n",
    "e**4 * ( - (65/192)*np.sin(iota)*np.sin(3*beta) - 65/192*np.cos(iota)**2*np.sin(iota)*np.sin(3*beta)) + e**6 * ( - ((19*np.sin(iota)*np.sin(3*beta))/12288) - (19*np.cos(iota)**2*np.sin(iota)*np.sin(3*beta))/12288) + e**2 * (19/32*np.sin(iota)*np.sin(3*beta) + 19/32*np.cos(iota)**2*np.sin(iota)*np.sin(3*beta))"
   ]
  },
  {
   "cell_type": "code",
   "execution_count": 23,
   "metadata": {},
   "outputs": [
    {
     "data": {
      "text/plain": [
       "1.2246467991473532e-16"
      ]
     },
     "execution_count": 23,
     "metadata": {},
     "output_type": "execute_result"
    }
   ],
   "source": [
    "np.sin(np.pi-4e-22)"
   ]
  },
  {
   "cell_type": "code",
   "execution_count": 19,
   "metadata": {
    "scrolled": true
   },
   "outputs": [
    {
     "data": {
      "text/plain": [
       "1.2246467991473532e-16"
      ]
     },
     "execution_count": 19,
     "metadata": {},
     "output_type": "execute_result"
    }
   ],
   "source": [
    "np.sin(np.pi)"
   ]
  },
  {
   "cell_type": "code",
   "execution_count": 13,
   "metadata": {},
   "outputs": [],
   "source": [
    "Fp = 1.0\n",
    "Fc = 0.0\n",
    "Gamma_l = np.zeros((10,3))\n",
    "Sigma_l = np.zeros((10,3))\n",
    "for i in range(10):\n",
    "    for j in range(3):                                                                     \n",
    "        Gamma_l[i,j] = Fp*fn.cplus(i,j) + Fc*fn.ccross(i,j)\n",
    "        Sigma_l[i,j] = Fp*fn.splus(i,j) + Fc*fn.scross(i,j)"
   ]
  },
  {
   "cell_type": "code",
   "execution_count": 14,
   "metadata": {},
   "outputs": [
    {
     "data": {
      "text/plain": [
       "array([[ 4.13775787e-03, -5.17213174e-03, -1.53058958e-08],\n",
       "       [ 7.74781119e-05,  1.24967718e+00, -8.33819259e-10],\n",
       "       [ 2.52612336e-06,  4.05174471e-02, -4.64708571e-11],\n",
       "       [ 6.10889483e-08,  1.23516753e-03, -1.15372685e-12],\n",
       "       [ 1.43901584e-09,  3.57337728e-05,  0.00000000e+00],\n",
       "       [ 3.39025282e-11,  1.00256870e-06,  0.00000000e+00],\n",
       "       [ 0.00000000e+00,  2.76076541e-08,  0.00000000e+00],\n",
       "       [ 0.00000000e+00,  7.49418430e-10,  0.00000000e+00],\n",
       "       [ 0.00000000e+00,  0.00000000e+00,  0.00000000e+00],\n",
       "       [ 0.00000000e+00,  0.00000000e+00,  0.00000000e+00]])"
      ]
     },
     "execution_count": 14,
     "metadata": {},
     "output_type": "execute_result"
    }
   ],
   "source": [
    "Gamma_l"
   ]
  },
  {
   "cell_type": "code",
   "execution_count": 15,
   "metadata": {},
   "outputs": [
    {
     "data": {
      "text/plain": [
       "array([[ 0.00000000e+00,  8.95839495e-03, -2.65105892e-08],\n",
       "       [ 0.00000000e+00, -2.16450437e+00, -1.44421732e-09],\n",
       "       [ 0.00000000e+00, -7.01782769e-02, -8.04898857e-11],\n",
       "       [ 0.00000000e+00, -2.13937292e-03, -1.99831352e-12],\n",
       "       [ 0.00000000e+00, -6.18927101e-05,  0.00000000e+00],\n",
       "       [ 0.00000000e+00, -1.73649993e-06,  0.00000000e+00],\n",
       "       [ 0.00000000e+00, -4.78178595e-08,  0.00000000e+00],\n",
       "       [ 0.00000000e+00, -1.29803080e-09,  0.00000000e+00],\n",
       "       [ 0.00000000e+00,  0.00000000e+00,  0.00000000e+00],\n",
       "       [ 0.00000000e+00,  0.00000000e+00,  0.00000000e+00]])"
      ]
     },
     "execution_count": 15,
     "metadata": {},
     "output_type": "execute_result"
    }
   ],
   "source": [
    "Sigma_l"
   ]
  },
  {
   "cell_type": "code",
   "execution_count": null,
   "metadata": {},
   "outputs": [],
   "source": []
  }
 ],
 "metadata": {
  "kernelspec": {
   "display_name": "Python 3",
   "language": "python",
   "name": "python3"
  },
  "language_info": {
   "codemirror_mode": {
    "name": "ipython",
    "version": 3
   },
   "file_extension": ".py",
   "mimetype": "text/x-python",
   "name": "python",
   "nbconvert_exporter": "python",
   "pygments_lexer": "ipython3",
   "version": "3.7.7"
  }
 },
 "nbformat": 4,
 "nbformat_minor": 4
}
