{
 "cells": [
  {
   "cell_type": "code",
   "execution_count": 43,
   "metadata": {},
   "outputs": [],
   "source": [
    "import numpy as np\n",
    "import matplotlib.pyplot as plt"
   ]
  },
  {
   "cell_type": "code",
   "execution_count": 44,
   "metadata": {},
   "outputs": [],
   "source": [
    "## setup domain\n",
    "# number of points\n",
    "n = 1000\n",
    "\n",
    "# distance (in meters) or time period (in seconds)\n",
    "Lx = 100\n",
    "\n",
    "#angular frequency\n",
    "#frequency will be given by 1/Lx\n",
    "omg = 2.0*np.pi/Lx"
   ]
  },
  {
   "cell_type": "code",
   "execution_count": 45,
   "metadata": {},
   "outputs": [],
   "source": [
    "# creating the signal\n",
    "x = np.linspace(0,Lx,n)\n",
    "y1 = 1.0*np.cos(5.0*omg*x)\n",
    "y2 = 2.0*np.sin(10.0*omg*x)\n",
    "y3 = 0.5*np.sin(20.0*omg*x)\n",
    "\n",
    "## full signal\n",
    "y = y1 + y2 + y3"
   ]
  },
  {
   "cell_type": "code",
   "execution_count": 54,
   "metadata": {},
   "outputs": [],
   "source": [
    "## preparatory steps\n",
    "# create all the necessary frequencies\n",
    "freqs = np.fft.fftfreq(n+1)\n",
    "\n",
    "mask = freqs>0"
   ]
  },
  {
   "cell_type": "code",
   "execution_count": 48,
   "metadata": {},
   "outputs": [
    {
     "data": {
      "text/plain": [
       "1000"
      ]
     },
     "execution_count": 48,
     "metadata": {},
     "output_type": "execute_result"
    }
   ],
   "source": [
    "len(x)"
   ]
  },
  {
   "cell_type": "code",
   "execution_count": 57,
   "metadata": {},
   "outputs": [
    {
     "data": {
      "text/plain": [
       "array([ 0.      ,  0.000999,  0.001998, ..., -0.002997, -0.001998,\n",
       "       -0.000999])"
      ]
     },
     "execution_count": 57,
     "metadata": {},
     "output_type": "execute_result"
    }
   ],
   "source": [
    "freqs"
   ]
  },
  {
   "cell_type": "code",
   "execution_count": 50,
   "metadata": {},
   "outputs": [
    {
     "data": {
      "text/plain": [
       "array([ 0.   ,  0.001,  0.002,  0.003,  0.004,  0.005,  0.006,  0.007,\n",
       "        0.008,  0.009,  0.01 ,  0.011,  0.012,  0.013,  0.014,  0.015,\n",
       "        0.016,  0.017,  0.018,  0.019,  0.02 ,  0.021,  0.022,  0.023,\n",
       "        0.024,  0.025,  0.026,  0.027,  0.028,  0.029,  0.03 ,  0.031,\n",
       "        0.032,  0.033,  0.034,  0.035,  0.036,  0.037,  0.038,  0.039,\n",
       "        0.04 ,  0.041,  0.042,  0.043,  0.044,  0.045,  0.046,  0.047,\n",
       "        0.048,  0.049,  0.05 ,  0.051,  0.052,  0.053,  0.054,  0.055,\n",
       "        0.056,  0.057,  0.058,  0.059,  0.06 ,  0.061,  0.062,  0.063,\n",
       "        0.064,  0.065,  0.066,  0.067,  0.068,  0.069,  0.07 ,  0.071,\n",
       "        0.072,  0.073,  0.074,  0.075,  0.076,  0.077,  0.078,  0.079,\n",
       "        0.08 ,  0.081,  0.082,  0.083,  0.084,  0.085,  0.086,  0.087,\n",
       "        0.088,  0.089,  0.09 ,  0.091,  0.092,  0.093,  0.094,  0.095,\n",
       "        0.096,  0.097,  0.098,  0.099,  0.1  ,  0.101,  0.102,  0.103,\n",
       "        0.104,  0.105,  0.106,  0.107,  0.108,  0.109,  0.11 ,  0.111,\n",
       "        0.112,  0.113,  0.114,  0.115,  0.116,  0.117,  0.118,  0.119,\n",
       "        0.12 ,  0.121,  0.122,  0.123,  0.124,  0.125,  0.126,  0.127,\n",
       "        0.128,  0.129,  0.13 ,  0.131,  0.132,  0.133,  0.134,  0.135,\n",
       "        0.136,  0.137,  0.138,  0.139,  0.14 ,  0.141,  0.142,  0.143,\n",
       "        0.144,  0.145,  0.146,  0.147,  0.148,  0.149,  0.15 ,  0.151,\n",
       "        0.152,  0.153,  0.154,  0.155,  0.156,  0.157,  0.158,  0.159,\n",
       "        0.16 ,  0.161,  0.162,  0.163,  0.164,  0.165,  0.166,  0.167,\n",
       "        0.168,  0.169,  0.17 ,  0.171,  0.172,  0.173,  0.174,  0.175,\n",
       "        0.176,  0.177,  0.178,  0.179,  0.18 ,  0.181,  0.182,  0.183,\n",
       "        0.184,  0.185,  0.186,  0.187,  0.188,  0.189,  0.19 ,  0.191,\n",
       "        0.192,  0.193,  0.194,  0.195,  0.196,  0.197,  0.198,  0.199,\n",
       "        0.2  ,  0.201,  0.202,  0.203,  0.204,  0.205,  0.206,  0.207,\n",
       "        0.208,  0.209,  0.21 ,  0.211,  0.212,  0.213,  0.214,  0.215,\n",
       "        0.216,  0.217,  0.218,  0.219,  0.22 ,  0.221,  0.222,  0.223,\n",
       "        0.224,  0.225,  0.226,  0.227,  0.228,  0.229,  0.23 ,  0.231,\n",
       "        0.232,  0.233,  0.234,  0.235,  0.236,  0.237,  0.238,  0.239,\n",
       "        0.24 ,  0.241,  0.242,  0.243,  0.244,  0.245,  0.246,  0.247,\n",
       "        0.248,  0.249,  0.25 ,  0.251,  0.252,  0.253,  0.254,  0.255,\n",
       "        0.256,  0.257,  0.258,  0.259,  0.26 ,  0.261,  0.262,  0.263,\n",
       "        0.264,  0.265,  0.266,  0.267,  0.268,  0.269,  0.27 ,  0.271,\n",
       "        0.272,  0.273,  0.274,  0.275,  0.276,  0.277,  0.278,  0.279,\n",
       "        0.28 ,  0.281,  0.282,  0.283,  0.284,  0.285,  0.286,  0.287,\n",
       "        0.288,  0.289,  0.29 ,  0.291,  0.292,  0.293,  0.294,  0.295,\n",
       "        0.296,  0.297,  0.298,  0.299,  0.3  ,  0.301,  0.302,  0.303,\n",
       "        0.304,  0.305,  0.306,  0.307,  0.308,  0.309,  0.31 ,  0.311,\n",
       "        0.312,  0.313,  0.314,  0.315,  0.316,  0.317,  0.318,  0.319,\n",
       "        0.32 ,  0.321,  0.322,  0.323,  0.324,  0.325,  0.326,  0.327,\n",
       "        0.328,  0.329,  0.33 ,  0.331,  0.332,  0.333,  0.334,  0.335,\n",
       "        0.336,  0.337,  0.338,  0.339,  0.34 ,  0.341,  0.342,  0.343,\n",
       "        0.344,  0.345,  0.346,  0.347,  0.348,  0.349,  0.35 ,  0.351,\n",
       "        0.352,  0.353,  0.354,  0.355,  0.356,  0.357,  0.358,  0.359,\n",
       "        0.36 ,  0.361,  0.362,  0.363,  0.364,  0.365,  0.366,  0.367,\n",
       "        0.368,  0.369,  0.37 ,  0.371,  0.372,  0.373,  0.374,  0.375,\n",
       "        0.376,  0.377,  0.378,  0.379,  0.38 ,  0.381,  0.382,  0.383,\n",
       "        0.384,  0.385,  0.386,  0.387,  0.388,  0.389,  0.39 ,  0.391,\n",
       "        0.392,  0.393,  0.394,  0.395,  0.396,  0.397,  0.398,  0.399,\n",
       "        0.4  ,  0.401,  0.402,  0.403,  0.404,  0.405,  0.406,  0.407,\n",
       "        0.408,  0.409,  0.41 ,  0.411,  0.412,  0.413,  0.414,  0.415,\n",
       "        0.416,  0.417,  0.418,  0.419,  0.42 ,  0.421,  0.422,  0.423,\n",
       "        0.424,  0.425,  0.426,  0.427,  0.428,  0.429,  0.43 ,  0.431,\n",
       "        0.432,  0.433,  0.434,  0.435,  0.436,  0.437,  0.438,  0.439,\n",
       "        0.44 ,  0.441,  0.442,  0.443,  0.444,  0.445,  0.446,  0.447,\n",
       "        0.448,  0.449,  0.45 ,  0.451,  0.452,  0.453,  0.454,  0.455,\n",
       "        0.456,  0.457,  0.458,  0.459,  0.46 ,  0.461,  0.462,  0.463,\n",
       "        0.464,  0.465,  0.466,  0.467,  0.468,  0.469,  0.47 ,  0.471,\n",
       "        0.472,  0.473,  0.474,  0.475,  0.476,  0.477,  0.478,  0.479,\n",
       "        0.48 ,  0.481,  0.482,  0.483,  0.484,  0.485,  0.486,  0.487,\n",
       "        0.488,  0.489,  0.49 ,  0.491,  0.492,  0.493,  0.494,  0.495,\n",
       "        0.496,  0.497,  0.498,  0.499, -0.5  , -0.499, -0.498, -0.497,\n",
       "       -0.496, -0.495, -0.494, -0.493, -0.492, -0.491, -0.49 , -0.489,\n",
       "       -0.488, -0.487, -0.486, -0.485, -0.484, -0.483, -0.482, -0.481,\n",
       "       -0.48 , -0.479, -0.478, -0.477, -0.476, -0.475, -0.474, -0.473,\n",
       "       -0.472, -0.471, -0.47 , -0.469, -0.468, -0.467, -0.466, -0.465,\n",
       "       -0.464, -0.463, -0.462, -0.461, -0.46 , -0.459, -0.458, -0.457,\n",
       "       -0.456, -0.455, -0.454, -0.453, -0.452, -0.451, -0.45 , -0.449,\n",
       "       -0.448, -0.447, -0.446, -0.445, -0.444, -0.443, -0.442, -0.441,\n",
       "       -0.44 , -0.439, -0.438, -0.437, -0.436, -0.435, -0.434, -0.433,\n",
       "       -0.432, -0.431, -0.43 , -0.429, -0.428, -0.427, -0.426, -0.425,\n",
       "       -0.424, -0.423, -0.422, -0.421, -0.42 , -0.419, -0.418, -0.417,\n",
       "       -0.416, -0.415, -0.414, -0.413, -0.412, -0.411, -0.41 , -0.409,\n",
       "       -0.408, -0.407, -0.406, -0.405, -0.404, -0.403, -0.402, -0.401,\n",
       "       -0.4  , -0.399, -0.398, -0.397, -0.396, -0.395, -0.394, -0.393,\n",
       "       -0.392, -0.391, -0.39 , -0.389, -0.388, -0.387, -0.386, -0.385,\n",
       "       -0.384, -0.383, -0.382, -0.381, -0.38 , -0.379, -0.378, -0.377,\n",
       "       -0.376, -0.375, -0.374, -0.373, -0.372, -0.371, -0.37 , -0.369,\n",
       "       -0.368, -0.367, -0.366, -0.365, -0.364, -0.363, -0.362, -0.361,\n",
       "       -0.36 , -0.359, -0.358, -0.357, -0.356, -0.355, -0.354, -0.353,\n",
       "       -0.352, -0.351, -0.35 , -0.349, -0.348, -0.347, -0.346, -0.345,\n",
       "       -0.344, -0.343, -0.342, -0.341, -0.34 , -0.339, -0.338, -0.337,\n",
       "       -0.336, -0.335, -0.334, -0.333, -0.332, -0.331, -0.33 , -0.329,\n",
       "       -0.328, -0.327, -0.326, -0.325, -0.324, -0.323, -0.322, -0.321,\n",
       "       -0.32 , -0.319, -0.318, -0.317, -0.316, -0.315, -0.314, -0.313,\n",
       "       -0.312, -0.311, -0.31 , -0.309, -0.308, -0.307, -0.306, -0.305,\n",
       "       -0.304, -0.303, -0.302, -0.301, -0.3  , -0.299, -0.298, -0.297,\n",
       "       -0.296, -0.295, -0.294, -0.293, -0.292, -0.291, -0.29 , -0.289,\n",
       "       -0.288, -0.287, -0.286, -0.285, -0.284, -0.283, -0.282, -0.281,\n",
       "       -0.28 , -0.279, -0.278, -0.277, -0.276, -0.275, -0.274, -0.273,\n",
       "       -0.272, -0.271, -0.27 , -0.269, -0.268, -0.267, -0.266, -0.265,\n",
       "       -0.264, -0.263, -0.262, -0.261, -0.26 , -0.259, -0.258, -0.257,\n",
       "       -0.256, -0.255, -0.254, -0.253, -0.252, -0.251, -0.25 , -0.249,\n",
       "       -0.248, -0.247, -0.246, -0.245, -0.244, -0.243, -0.242, -0.241,\n",
       "       -0.24 , -0.239, -0.238, -0.237, -0.236, -0.235, -0.234, -0.233,\n",
       "       -0.232, -0.231, -0.23 , -0.229, -0.228, -0.227, -0.226, -0.225,\n",
       "       -0.224, -0.223, -0.222, -0.221, -0.22 , -0.219, -0.218, -0.217,\n",
       "       -0.216, -0.215, -0.214, -0.213, -0.212, -0.211, -0.21 , -0.209,\n",
       "       -0.208, -0.207, -0.206, -0.205, -0.204, -0.203, -0.202, -0.201,\n",
       "       -0.2  , -0.199, -0.198, -0.197, -0.196, -0.195, -0.194, -0.193,\n",
       "       -0.192, -0.191, -0.19 , -0.189, -0.188, -0.187, -0.186, -0.185,\n",
       "       -0.184, -0.183, -0.182, -0.181, -0.18 , -0.179, -0.178, -0.177,\n",
       "       -0.176, -0.175, -0.174, -0.173, -0.172, -0.171, -0.17 , -0.169,\n",
       "       -0.168, -0.167, -0.166, -0.165, -0.164, -0.163, -0.162, -0.161,\n",
       "       -0.16 , -0.159, -0.158, -0.157, -0.156, -0.155, -0.154, -0.153,\n",
       "       -0.152, -0.151, -0.15 , -0.149, -0.148, -0.147, -0.146, -0.145,\n",
       "       -0.144, -0.143, -0.142, -0.141, -0.14 , -0.139, -0.138, -0.137,\n",
       "       -0.136, -0.135, -0.134, -0.133, -0.132, -0.131, -0.13 , -0.129,\n",
       "       -0.128, -0.127, -0.126, -0.125, -0.124, -0.123, -0.122, -0.121,\n",
       "       -0.12 , -0.119, -0.118, -0.117, -0.116, -0.115, -0.114, -0.113,\n",
       "       -0.112, -0.111, -0.11 , -0.109, -0.108, -0.107, -0.106, -0.105,\n",
       "       -0.104, -0.103, -0.102, -0.101, -0.1  , -0.099, -0.098, -0.097,\n",
       "       -0.096, -0.095, -0.094, -0.093, -0.092, -0.091, -0.09 , -0.089,\n",
       "       -0.088, -0.087, -0.086, -0.085, -0.084, -0.083, -0.082, -0.081,\n",
       "       -0.08 , -0.079, -0.078, -0.077, -0.076, -0.075, -0.074, -0.073,\n",
       "       -0.072, -0.071, -0.07 , -0.069, -0.068, -0.067, -0.066, -0.065,\n",
       "       -0.064, -0.063, -0.062, -0.061, -0.06 , -0.059, -0.058, -0.057,\n",
       "       -0.056, -0.055, -0.054, -0.053, -0.052, -0.051, -0.05 , -0.049,\n",
       "       -0.048, -0.047, -0.046, -0.045, -0.044, -0.043, -0.042, -0.041,\n",
       "       -0.04 , -0.039, -0.038, -0.037, -0.036, -0.035, -0.034, -0.033,\n",
       "       -0.032, -0.031, -0.03 , -0.029, -0.028, -0.027, -0.026, -0.025,\n",
       "       -0.024, -0.023, -0.022, -0.021, -0.02 , -0.019, -0.018, -0.017,\n",
       "       -0.016, -0.015, -0.014, -0.013, -0.012, -0.011, -0.01 , -0.009,\n",
       "       -0.008, -0.007, -0.006, -0.005, -0.004, -0.003, -0.002, -0.001])"
      ]
     },
     "execution_count": 50,
     "metadata": {},
     "output_type": "execute_result"
    }
   ],
   "source": [
    "freqs"
   ]
  },
  {
   "cell_type": "code",
   "execution_count": null,
   "metadata": {},
   "outputs": [],
   "source": [
    "np.arange(0.0,"
   ]
  },
  {
   "cell_type": "code",
   "execution_count": 49,
   "metadata": {},
   "outputs": [
    {
     "data": {
      "text/plain": [
       "1000"
      ]
     },
     "execution_count": 49,
     "metadata": {},
     "output_type": "execute_result"
    }
   ],
   "source": [
    "len(freqs)"
   ]
  },
  {
   "cell_type": "code",
   "execution_count": 47,
   "metadata": {},
   "outputs": [],
   "source": [
    "fft_vals = np.fft.fft(y)\n",
    "fft_theo = 2*np.abs(fft_vals/n)"
   ]
  },
  {
   "cell_type": "code",
   "execution_count": 39,
   "metadata": {},
   "outputs": [
    {
     "data": {
      "text/plain": [
       "[<matplotlib.lines.Line2D at 0x7fe2b1afa6d0>]"
      ]
     },
     "execution_count": 39,
     "metadata": {},
     "output_type": "execute_result"
    },
    {
     "data": {
      "image/png": "[encoded data removed]",
      "text/plain": [
       "<Figure size 432x288 with 1 Axes>"
      ]
     },
     "metadata": {
      "needs_background": "light"
     },
     "output_type": "display_data"
    }
   ],
   "source": [
    "plt.figure(1)\n",
    "plt.plot(x,y,color='xkcd:salmon', label='original')"
   ]
  },
  {
   "cell_type": "code",
   "execution_count": 53,
   "metadata": {},
   "outputs": [
    {
     "name": "stderr",
     "output_type": "stream",
     "text": [
      "/home/hemantakumar.phurailatpam/anaconda3/envs/bilby/lib/python3.7/site-packages/numpy/core/_asarray.py:83: ComplexWarning: Casting complex values to real discards the imaginary part\n",
      "  return array(a, dtype, copy=False, order=order)\n"
     ]
    },
    {
     "data": {
      "text/plain": [
       "(-0.1, 0.1)"
      ]
     },
     "execution_count": 53,
     "metadata": {},
     "output_type": "execute_result"
    },
    {
     "data": {
      "image/png": "[encoded data removed]",
      "text/plain": [
       "<Figure size 432x288 with 1 Axes>"
      ]
     },
     "metadata": {
      "needs_background": "light"
     },
     "output_type": "display_data"
    }
   ],
   "source": [
    "plt.figure(3)\n",
    "plt.plot(freqs,fft_vals, label='raw fft values')\n",
    "plt.xlim(-0.1,0.1)"
   ]
  },
  {
   "cell_type": "code",
   "execution_count": 40,
   "metadata": {},
   "outputs": [
    {
     "data": {
      "text/plain": [
       "(0.0, 0.04)"
      ]
     },
     "execution_count": 40,
     "metadata": {},
     "output_type": "execute_result"
    },
    {
     "data": {
      "image/png": "[encoded data removed]",
      "text/plain": [
       "<Figure size 432x288 with 1 Axes>"
      ]
     },
     "metadata": {
      "needs_background": "light"
     },
     "output_type": "display_data"
    }
   ],
   "source": [
    "plt.figure(2)\n",
    "plt.plot(freqs[mask],fft_theo[mask], label='raw fft values')\n",
    "plt.xlim(0.0,0.04)"
   ]
  },
  {
   "cell_type": "code",
   "execution_count": 25,
   "metadata": {},
   "outputs": [
    {
     "data": {
      "text/plain": [
       "1000"
      ]
     },
     "execution_count": 25,
     "metadata": {},
     "output_type": "execute_result"
    }
   ],
   "source": [
    "len(x)"
   ]
  },
  {
   "cell_type": "code",
   "execution_count": 32,
   "metadata": {},
   "outputs": [
    {
     "data": {
      "text/plain": [
       "499"
      ]
     },
     "execution_count": 32,
     "metadata": {},
     "output_type": "execute_result"
    }
   ],
   "source": [
    "len(freqs[mask])"
   ]
  },
  {
   "cell_type": "code",
   "execution_count": 24,
   "metadata": {},
   "outputs": [
    {
     "data": {
      "text/plain": [
       "array([0.       , 0.1001001, 0.2002002, 0.3003003, 0.4004004])"
      ]
     },
     "execution_count": 24,
     "metadata": {},
     "output_type": "execute_result"
    }
   ],
   "source": [
    "x[0:5]"
   ]
  },
  {
   "cell_type": "code",
   "execution_count": null,
   "metadata": {},
   "outputs": [],
   "source": [
    "np.linspace()"
   ]
  },
  {
   "cell_type": "code",
   "execution_count": 42,
   "metadata": {},
   "outputs": [
    {
     "data": {
      "text/plain": [
       "0.499"
      ]
     },
     "execution_count": 42,
     "metadata": {},
     "output_type": "execute_result"
    }
   ],
   "source": [
    "test = freqs[mask]\n",
    "test[-1]"
   ]
  },
  {
   "cell_type": "code",
   "execution_count": 30,
   "metadata": {},
   "outputs": [
    {
     "data": {
      "text/plain": [
       "0.0"
      ]
     },
     "execution_count": 30,
     "metadata": {},
     "output_type": "execute_result"
    }
   ],
   "source": [
    "freqs[0]"
   ]
  },
  {
   "cell_type": "code",
   "execution_count": 58,
   "metadata": {},
   "outputs": [
    {
     "data": {
      "text/plain": [
       "500"
      ]
     },
     "execution_count": 58,
     "metadata": {},
     "output_type": "execute_result"
    }
   ],
   "source": [
    "len([0.   ,  0.001,  0.002,  0.003,  0.004,  0.005,  0.006,  0.007,\n",
    "        0.008,  0.009,  0.01 ,  0.011,  0.012,  0.013,  0.014,  0.015,\n",
    "        0.016,  0.017,  0.018,  0.019,  0.02 ,  0.021,  0.022,  0.023,\n",
    "        0.024,  0.025,  0.026,  0.027,  0.028,  0.029,  0.03 ,  0.031,\n",
    "        0.032,  0.033,  0.034,  0.035,  0.036,  0.037,  0.038,  0.039,\n",
    "        0.04 ,  0.041,  0.042,  0.043,  0.044,  0.045,  0.046,  0.047,\n",
    "        0.048,  0.049,  0.05 ,  0.051,  0.052,  0.053,  0.054,  0.055,\n",
    "        0.056,  0.057,  0.058,  0.059,  0.06 ,  0.061,  0.062,  0.063,\n",
    "        0.064,  0.065,  0.066,  0.067,  0.068,  0.069,  0.07 ,  0.071,\n",
    "        0.072,  0.073,  0.074,  0.075,  0.076,  0.077,  0.078,  0.079,\n",
    "        0.08 ,  0.081,  0.082,  0.083,  0.084,  0.085,  0.086,  0.087,\n",
    "        0.088,  0.089,  0.09 ,  0.091,  0.092,  0.093,  0.094,  0.095,\n",
    "        0.096,  0.097,  0.098,  0.099,  0.1  ,  0.101,  0.102,  0.103,\n",
    "        0.104,  0.105,  0.106,  0.107,  0.108,  0.109,  0.11 ,  0.111,\n",
    "        0.112,  0.113,  0.114,  0.115,  0.116,  0.117,  0.118,  0.119,\n",
    "        0.12 ,  0.121,  0.122,  0.123,  0.124,  0.125,  0.126,  0.127,\n",
    "        0.128,  0.129,  0.13 ,  0.131,  0.132,  0.133,  0.134,  0.135,\n",
    "        0.136,  0.137,  0.138,  0.139,  0.14 ,  0.141,  0.142,  0.143,\n",
    "        0.144,  0.145,  0.146,  0.147,  0.148,  0.149,  0.15 ,  0.151,\n",
    "        0.152,  0.153,  0.154,  0.155,  0.156,  0.157,  0.158,  0.159,\n",
    "        0.16 ,  0.161,  0.162,  0.163,  0.164,  0.165,  0.166,  0.167,\n",
    "        0.168,  0.169,  0.17 ,  0.171,  0.172,  0.173,  0.174,  0.175,\n",
    "        0.176,  0.177,  0.178,  0.179,  0.18 ,  0.181,  0.182,  0.183,\n",
    "        0.184,  0.185,  0.186,  0.187,  0.188,  0.189,  0.19 ,  0.191,\n",
    "        0.192,  0.193,  0.194,  0.195,  0.196,  0.197,  0.198,  0.199,\n",
    "        0.2  ,  0.201,  0.202,  0.203,  0.204,  0.205,  0.206,  0.207,\n",
    "        0.208,  0.209,  0.21 ,  0.211,  0.212,  0.213,  0.214,  0.215,\n",
    "        0.216,  0.217,  0.218,  0.219,  0.22 ,  0.221,  0.222,  0.223,\n",
    "        0.224,  0.225,  0.226,  0.227,  0.228,  0.229,  0.23 ,  0.231,\n",
    "        0.232,  0.233,  0.234,  0.235,  0.236,  0.237,  0.238,  0.239,\n",
    "        0.24 ,  0.241,  0.242,  0.243,  0.244,  0.245,  0.246,  0.247,\n",
    "        0.248,  0.249,  0.25 ,  0.251,  0.252,  0.253,  0.254,  0.255,\n",
    "        0.256,  0.257,  0.258,  0.259,  0.26 ,  0.261,  0.262,  0.263,\n",
    "        0.264,  0.265,  0.266,  0.267,  0.268,  0.269,  0.27 ,  0.271,\n",
    "        0.272,  0.273,  0.274,  0.275,  0.276,  0.277,  0.278,  0.279,\n",
    "        0.28 ,  0.281,  0.282,  0.283,  0.284,  0.285,  0.286,  0.287,\n",
    "        0.288,  0.289,  0.29 ,  0.291,  0.292,  0.293,  0.294,  0.295,\n",
    "        0.296,  0.297,  0.298,  0.299,  0.3  ,  0.301,  0.302,  0.303,\n",
    "        0.304,  0.305,  0.306,  0.307,  0.308,  0.309,  0.31 ,  0.311,\n",
    "        0.312,  0.313,  0.314,  0.315,  0.316,  0.317,  0.318,  0.319,\n",
    "        0.32 ,  0.321,  0.322,  0.323,  0.324,  0.325,  0.326,  0.327,\n",
    "        0.328,  0.329,  0.33 ,  0.331,  0.332,  0.333,  0.334,  0.335,\n",
    "        0.336,  0.337,  0.338,  0.339,  0.34 ,  0.341,  0.342,  0.343,\n",
    "        0.344,  0.345,  0.346,  0.347,  0.348,  0.349,  0.35 ,  0.351,\n",
    "        0.352,  0.353,  0.354,  0.355,  0.356,  0.357,  0.358,  0.359,\n",
    "        0.36 ,  0.361,  0.362,  0.363,  0.364,  0.365,  0.366,  0.367,\n",
    "        0.368,  0.369,  0.37 ,  0.371,  0.372,  0.373,  0.374,  0.375,\n",
    "        0.376,  0.377,  0.378,  0.379,  0.38 ,  0.381,  0.382,  0.383,\n",
    "        0.384,  0.385,  0.386,  0.387,  0.388,  0.389,  0.39 ,  0.391,\n",
    "        0.392,  0.393,  0.394,  0.395,  0.396,  0.397,  0.398,  0.399,\n",
    "        0.4  ,  0.401,  0.402,  0.403,  0.404,  0.405,  0.406,  0.407,\n",
    "        0.408,  0.409,  0.41 ,  0.411,  0.412,  0.413,  0.414,  0.415,\n",
    "        0.416,  0.417,  0.418,  0.419,  0.42 ,  0.421,  0.422,  0.423,\n",
    "        0.424,  0.425,  0.426,  0.427,  0.428,  0.429,  0.43 ,  0.431,\n",
    "        0.432,  0.433,  0.434,  0.435,  0.436,  0.437,  0.438,  0.439,\n",
    "        0.44 ,  0.441,  0.442,  0.443,  0.444,  0.445,  0.446,  0.447,\n",
    "        0.448,  0.449,  0.45 ,  0.451,  0.452,  0.453,  0.454,  0.455,\n",
    "        0.456,  0.457,  0.458,  0.459,  0.46 ,  0.461,  0.462,  0.463,\n",
    "        0.464,  0.465,  0.466,  0.467,  0.468,  0.469,  0.47 ,  0.471,\n",
    "        0.472,  0.473,  0.474,  0.475,  0.476,  0.477,  0.478,  0.479,\n",
    "        0.48 ,  0.481,  0.482,  0.483,  0.484,  0.485,  0.486,  0.487,\n",
    "        0.488,  0.489,  0.49 ,  0.491,  0.492,  0.493,  0.494,  0.495,\n",
    "        0.496,  0.497,  0.498,  0.499])"
   ]
  },
  {
   "cell_type": "code",
   "execution_count": 59,
   "metadata": {},
   "outputs": [
    {
     "data": {
      "text/plain": [
       "500"
      ]
     },
     "execution_count": 59,
     "metadata": {},
     "output_type": "execute_result"
    }
   ],
   "source": [
    "len([-0.5  , -0.499, -0.498, -0.497,\n",
    "       -0.496, -0.495, -0.494, -0.493, -0.492, -0.491, -0.49 , -0.489,\n",
    "       -0.488, -0.487, -0.486, -0.485, -0.484, -0.483, -0.482, -0.481,\n",
    "       -0.48 , -0.479, -0.478, -0.477, -0.476, -0.475, -0.474, -0.473,\n",
    "       -0.472, -0.471, -0.47 , -0.469, -0.468, -0.467, -0.466, -0.465,\n",
    "       -0.464, -0.463, -0.462, -0.461, -0.46 , -0.459, -0.458, -0.457,\n",
    "       -0.456, -0.455, -0.454, -0.453, -0.452, -0.451, -0.45 , -0.449,\n",
    "       -0.448, -0.447, -0.446, -0.445, -0.444, -0.443, -0.442, -0.441,\n",
    "       -0.44 , -0.439, -0.438, -0.437, -0.436, -0.435, -0.434, -0.433,\n",
    "       -0.432, -0.431, -0.43 , -0.429, -0.428, -0.427, -0.426, -0.425,\n",
    "       -0.424, -0.423, -0.422, -0.421, -0.42 , -0.419, -0.418, -0.417,\n",
    "       -0.416, -0.415, -0.414, -0.413, -0.412, -0.411, -0.41 , -0.409,\n",
    "       -0.408, -0.407, -0.406, -0.405, -0.404, -0.403, -0.402, -0.401,\n",
    "       -0.4  , -0.399, -0.398, -0.397, -0.396, -0.395, -0.394, -0.393,\n",
    "       -0.392, -0.391, -0.39 , -0.389, -0.388, -0.387, -0.386, -0.385,\n",
    "       -0.384, -0.383, -0.382, -0.381, -0.38 , -0.379, -0.378, -0.377,\n",
    "       -0.376, -0.375, -0.374, -0.373, -0.372, -0.371, -0.37 , -0.369,\n",
    "       -0.368, -0.367, -0.366, -0.365, -0.364, -0.363, -0.362, -0.361,\n",
    "       -0.36 , -0.359, -0.358, -0.357, -0.356, -0.355, -0.354, -0.353,\n",
    "       -0.352, -0.351, -0.35 , -0.349, -0.348, -0.347, -0.346, -0.345,\n",
    "       -0.344, -0.343, -0.342, -0.341, -0.34 , -0.339, -0.338, -0.337,\n",
    "       -0.336, -0.335, -0.334, -0.333, -0.332, -0.331, -0.33 , -0.329,\n",
    "       -0.328, -0.327, -0.326, -0.325, -0.324, -0.323, -0.322, -0.321,\n",
    "       -0.32 , -0.319, -0.318, -0.317, -0.316, -0.315, -0.314, -0.313,\n",
    "       -0.312, -0.311, -0.31 , -0.309, -0.308, -0.307, -0.306, -0.305,\n",
    "       -0.304, -0.303, -0.302, -0.301, -0.3  , -0.299, -0.298, -0.297,\n",
    "       -0.296, -0.295, -0.294, -0.293, -0.292, -0.291, -0.29 , -0.289,\n",
    "       -0.288, -0.287, -0.286, -0.285, -0.284, -0.283, -0.282, -0.281,\n",
    "       -0.28 , -0.279, -0.278, -0.277, -0.276, -0.275, -0.274, -0.273,\n",
    "       -0.272, -0.271, -0.27 , -0.269, -0.268, -0.267, -0.266, -0.265,\n",
    "       -0.264, -0.263, -0.262, -0.261, -0.26 , -0.259, -0.258, -0.257,\n",
    "       -0.256, -0.255, -0.254, -0.253, -0.252, -0.251, -0.25 , -0.249,\n",
    "       -0.248, -0.247, -0.246, -0.245, -0.244, -0.243, -0.242, -0.241,\n",
    "       -0.24 , -0.239, -0.238, -0.237, -0.236, -0.235, -0.234, -0.233,\n",
    "       -0.232, -0.231, -0.23 , -0.229, -0.228, -0.227, -0.226, -0.225,\n",
    "       -0.224, -0.223, -0.222, -0.221, -0.22 , -0.219, -0.218, -0.217,\n",
    "       -0.216, -0.215, -0.214, -0.213, -0.212, -0.211, -0.21 , -0.209,\n",
    "       -0.208, -0.207, -0.206, -0.205, -0.204, -0.203, -0.202, -0.201,\n",
    "       -0.2  , -0.199, -0.198, -0.197, -0.196, -0.195, -0.194, -0.193,\n",
    "       -0.192, -0.191, -0.19 , -0.189, -0.188, -0.187, -0.186, -0.185,\n",
    "       -0.184, -0.183, -0.182, -0.181, -0.18 , -0.179, -0.178, -0.177,\n",
    "       -0.176, -0.175, -0.174, -0.173, -0.172, -0.171, -0.17 , -0.169,\n",
    "       -0.168, -0.167, -0.166, -0.165, -0.164, -0.163, -0.162, -0.161,\n",
    "       -0.16 , -0.159, -0.158, -0.157, -0.156, -0.155, -0.154, -0.153,\n",
    "       -0.152, -0.151, -0.15 , -0.149, -0.148, -0.147, -0.146, -0.145,\n",
    "       -0.144, -0.143, -0.142, -0.141, -0.14 , -0.139, -0.138, -0.137,\n",
    "       -0.136, -0.135, -0.134, -0.133, -0.132, -0.131, -0.13 , -0.129,\n",
    "       -0.128, -0.127, -0.126, -0.125, -0.124, -0.123, -0.122, -0.121,\n",
    "       -0.12 , -0.119, -0.118, -0.117, -0.116, -0.115, -0.114, -0.113,\n",
    "       -0.112, -0.111, -0.11 , -0.109, -0.108, -0.107, -0.106, -0.105,\n",
    "       -0.104, -0.103, -0.102, -0.101, -0.1  , -0.099, -0.098, -0.097,\n",
    "       -0.096, -0.095, -0.094, -0.093, -0.092, -0.091, -0.09 , -0.089,\n",
    "       -0.088, -0.087, -0.086, -0.085, -0.084, -0.083, -0.082, -0.081,\n",
    "       -0.08 , -0.079, -0.078, -0.077, -0.076, -0.075, -0.074, -0.073,\n",
    "       -0.072, -0.071, -0.07 , -0.069, -0.068, -0.067, -0.066, -0.065,\n",
    "       -0.064, -0.063, -0.062, -0.061, -0.06 , -0.059, -0.058, -0.057,\n",
    "       -0.056, -0.055, -0.054, -0.053, -0.052, -0.051, -0.05 , -0.049,\n",
    "       -0.048, -0.047, -0.046, -0.045, -0.044, -0.043, -0.042, -0.041,\n",
    "       -0.04 , -0.039, -0.038, -0.037, -0.036, -0.035, -0.034, -0.033,\n",
    "       -0.032, -0.031, -0.03 , -0.029, -0.028, -0.027, -0.026, -0.025,\n",
    "       -0.024, -0.023, -0.022, -0.021, -0.02 , -0.019, -0.018, -0.017,\n",
    "       -0.016, -0.015, -0.014, -0.013, -0.012, -0.011, -0.01 , -0.009,\n",
    "       -0.008, -0.007, -0.006, -0.005, -0.004, -0.003, -0.002, -0.001])"
   ]
  },
  {
   "cell_type": "code",
   "execution_count": null,
   "metadata": {},
   "outputs": [],
   "source": []
  },
  {
   "cell_type": "code",
   "execution_count": null,
   "metadata": {},
   "outputs": [],
   "source": []
  },
  {
   "cell_type": "code",
   "execution_count": null,
   "metadata": {},
   "outputs": [],
   "source": []
  },
  {
   "cell_type": "code",
   "execution_count": null,
   "metadata": {},
   "outputs": [],
   "source": []
  },
  {
   "cell_type": "code",
   "execution_count": null,
   "metadata": {},
   "outputs": [],
   "source": []
  },
  {
   "cell_type": "code",
   "execution_count": null,
   "metadata": {},
   "outputs": [],
   "source": []
  },
  {
   "cell_type": "code",
   "execution_count": null,
   "metadata": {},
   "outputs": [],
   "source": []
  },
  {
   "cell_type": "code",
   "execution_count": null,
   "metadata": {},
   "outputs": [],
   "source": []
  },
  {
   "cell_type": "code",
   "execution_count": null,
   "metadata": {},
   "outputs": [],
   "source": []
  },
  {
   "cell_type": "code",
   "execution_count": null,
   "metadata": {},
   "outputs": [],
   "source": []
  },
  {
   "cell_type": "code",
   "execution_count": null,
   "metadata": {},
   "outputs": [],
   "source": []
  },
  {
   "cell_type": "code",
   "execution_count": null,
   "metadata": {},
   "outputs": [],
   "source": []
  },
  {
   "cell_type": "code",
   "execution_count": null,
   "metadata": {},
   "outputs": [],
   "source": []
  },
  {
   "cell_type": "code",
   "execution_count": null,
   "metadata": {},
   "outputs": [],
   "source": []
  },
  {
   "cell_type": "code",
   "execution_count": null,
   "metadata": {},
   "outputs": [],
   "source": []
  },
  {
   "cell_type": "code",
   "execution_count": null,
   "metadata": {},
   "outputs": [],
   "source": []
  },
  {
   "cell_type": "code",
   "execution_count": null,
   "metadata": {},
   "outputs": [],
   "source": []
  },
  {
   "cell_type": "code",
   "execution_count": null,
   "metadata": {},
   "outputs": [],
   "source": []
  },
  {
   "cell_type": "code",
   "execution_count": null,
   "metadata": {},
   "outputs": [],
   "source": []
  },
  {
   "cell_type": "code",
   "execution_count": null,
   "metadata": {},
   "outputs": [],
   "source": []
  },
  {
   "cell_type": "code",
   "execution_count": null,
   "metadata": {},
   "outputs": [],
   "source": []
  },
  {
   "cell_type": "code",
   "execution_count": null,
   "metadata": {},
   "outputs": [],
   "source": []
  },
  {
   "cell_type": "code",
   "execution_count": null,
   "metadata": {},
   "outputs": [],
   "source": []
  },
  {
   "cell_type": "code",
   "execution_count": null,
   "metadata": {},
   "outputs": [],
   "source": []
  },
  {
   "cell_type": "code",
   "execution_count": null,
   "metadata": {},
   "outputs": [],
   "source": []
  },
  {
   "cell_type": "code",
   "execution_count": null,
   "metadata": {},
   "outputs": [],
   "source": []
  },
  {
   "cell_type": "code",
   "execution_count": null,
   "metadata": {},
   "outputs": [],
   "source": []
  },
  {
   "cell_type": "code",
   "execution_count": null,
   "metadata": {},
   "outputs": [],
   "source": []
  },
  {
   "cell_type": "code",
   "execution_count": null,
   "metadata": {},
   "outputs": [],
   "source": []
  }
 ],
 "metadata": {
  "kernelspec": {
   "display_name": "Python 3",
   "language": "python",
   "name": "python3"
  },
  "language_info": {
   "codemirror_mode": {
    "name": "ipython",
    "version": 3
   },
   "file_extension": ".py",
   "mimetype": "text/x-python",
   "name": "python",
   "nbconvert_exporter": "python",
   "pygments_lexer": "ipython3",
   "version": "3.7.7"
  }
 },
 "nbformat": 4,
 "nbformat_minor": 4
}
